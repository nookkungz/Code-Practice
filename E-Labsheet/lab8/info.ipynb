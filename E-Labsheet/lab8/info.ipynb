{
 "cells": [
  {
   "cell_type": "code",
   "execution_count": 9,
   "metadata": {},
   "outputs": [
    {
     "name": "stdout",
     "output_type": "stream",
     "text": [
      "['jan', 'feb', 'mar']\n",
      "[31, 28, 31]\n"
     ]
    }
   ],
   "source": [
    "month = [\"jan\" , \"feb\" , \"mar\"]\n",
    "day = [31 , 28 , 31]\n",
    "for x in (month , day) :\n",
    "    print(x)"
   ]
  },
  {
   "cell_type": "code",
   "execution_count": null,
   "metadata": {},
   "outputs": [],
   "source": []
  },
  {
   "cell_type": "code",
   "execution_count": 7,
   "metadata": {},
   "outputs": [
    {
     "name": "stdout",
     "output_type": "stream",
     "text": [
      "('jan', 31)\n",
      "('feb', 28)\n",
      "('mar', 31)\n"
     ]
    }
   ],
   "source": [
    "month = [\"jan\" , \"feb\" , \"mar\"]\n",
    "day = [31 , 28 , 31]\n",
    "for x in zip(month , day) :\n",
    "    print(x)"
   ]
  },
  {
   "cell_type": "code",
   "execution_count": 8,
   "metadata": {},
   "outputs": [
    {
     "name": "stdout",
     "output_type": "stream",
     "text": [
      "jan\n",
      "31\n",
      "feb\n",
      "28\n",
      "mar\n",
      "31\n"
     ]
    }
   ],
   "source": [
    "month = [\"jan\" , \"feb\" , \"mar\"]\n",
    "day = [31 , 28 , 31]\n",
    "for x,y in zip(month , day) :\n",
    "    print(x)\n",
    "    print(y)"
   ]
  },
  {
   "cell_type": "code",
   "execution_count": 12,
   "metadata": {},
   "outputs": [
    {
     "name": "stdout",
     "output_type": "stream",
     "text": [
      "0\n",
      "jan\n",
      "1\n",
      "feb\n",
      "2\n",
      "mar\n"
     ]
    }
   ],
   "source": [
    "month = [\"jan\" , \"feb\" , \"mar\"]\n",
    "day = [31 , 28 , 31]\n",
    "enumerate(month)\n",
    "for i , x in enumerate(month):\n",
    "    print(i)\n",
    "    print(x)"
   ]
  }
 ],
 "metadata": {
  "kernelspec": {
   "display_name": "Python 3",
   "language": "python",
   "name": "python3"
  },
  "language_info": {
   "codemirror_mode": {
    "name": "ipython",
    "version": 3
   },
   "file_extension": ".py",
   "mimetype": "text/x-python",
   "name": "python",
   "nbconvert_exporter": "python",
   "pygments_lexer": "ipython3",
   "version": "3.9.10"
  }
 },
 "nbformat": 4,
 "nbformat_minor": 2
}
