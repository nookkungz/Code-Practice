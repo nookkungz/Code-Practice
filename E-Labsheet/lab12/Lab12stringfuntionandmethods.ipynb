{
 "cells": [
  {
   "cell_type": "code",
   "execution_count": 2,
   "metadata": {},
   "outputs": [
    {
     "name": "stdout",
     "output_type": "stream",
     "text": [
      "5\n"
     ]
    }
   ],
   "source": [
    "count = 0\n",
    "while True :\n",
    "    n = str(input(\"\"))\n",
    "    if n == \"\" :\n",
    "        break\n",
    "    if len(n) > count :\n",
    "        count = len(n)\n",
    "print(count)"
   ]
  },
  {
   "cell_type": "code",
   "execution_count": 3,
   "metadata": {},
   "outputs": [
    {
     "name": "stdout",
     "output_type": "stream",
     "text": [
      "thisworld\n"
     ]
    }
   ],
   "source": [
    "count = \"\"\n",
    "while True :\n",
    "    n = str(input(\"\"))\n",
    "    if n == \"\" :\n",
    "        break\n",
    "    if len(n) > len(count) :\n",
    "        count = n\n",
    "print(count)"
   ]
  },
  {
   "cell_type": "code",
   "execution_count": 5,
   "metadata": {},
   "outputs": [
    {
     "name": "stdout",
     "output_type": "stream",
     "text": [
      "D\n"
     ]
    }
   ],
   "source": [
    "n = str(input(\"\"))\n",
    "x = int(input(\"\"))\n",
    "print(chr(ord(n)+x))"
   ]
  },
  {
   "cell_type": "code",
   "execution_count": 7,
   "metadata": {},
   "outputs": [
    {
     "name": "stdout",
     "output_type": "stream",
     "text": [
      "z1xd\n"
     ]
    }
   ],
   "source": [
    "done = ''\n",
    "count = 0\n",
    "while True :\n",
    "    n = str(input(\"\"))\n",
    "    if n == \"\" :\n",
    "        break \n",
    "    if count % 2 == 0 :\n",
    "        done += max(n)\n",
    "    else :\n",
    "        done += min(n)\n",
    "    count += 1\n",
    "print(done)"
   ]
  },
  {
   "cell_type": "code",
   "execution_count": 10,
   "metadata": {},
   "outputs": [
    {
     "name": "stdout",
     "output_type": "stream",
     "text": [
      "6\n",
      "0\n"
     ]
    }
   ],
   "source": [
    "n = str(input(\"\"))\n",
    "lower = 0\n",
    "upper = 0\n",
    "for i in n :\n",
    "    if i.islower() :\n",
    "        lower += 1\n",
    "    elif i.isupper() :\n",
    "        upper += 1\n",
    "print(lower)\n",
    "print(upper)"
   ]
  },
  {
   "cell_type": "code",
   "execution_count": 12,
   "metadata": {},
   "outputs": [
    {
     "name": "stdout",
     "output_type": "stream",
     "text": [
      "hELLO S\n"
     ]
    }
   ],
   "source": [
    "n = str(input())\n",
    "done = \"\"\n",
    "for i in n :\n",
    "    if i.islower() :\n",
    "        done += i.upper()\n",
    "    elif i.isupper() :\n",
    "        done += i.lower()\n",
    "    else :\n",
    "        done += i\n",
    "print(done)\n",
    "        "
   ]
  },
  {
   "cell_type": "code",
   "execution_count": 14,
   "metadata": {},
   "outputs": [
    {
     "name": "stdout",
     "output_type": "stream",
     "text": [
      "0\n",
      "1\n",
      "COMputer\n"
     ]
    }
   ],
   "source": [
    "n = str(input(\"\"))\n",
    "change = str(input(\"\"))\n",
    "change2 = str(input(\"\"))\n",
    "done = n.replace(change,change2)\n",
    "print(n.find(change))\n",
    "print(n.count(change))\n",
    "print(done)"
   ]
  },
  {
   "cell_type": "code",
   "execution_count": null,
   "metadata": {},
   "outputs": [],
   "source": []
  }
 ],
 "metadata": {
  "kernelspec": {
   "display_name": "Python 3",
   "language": "python",
   "name": "python3"
  },
  "language_info": {
   "codemirror_mode": {
    "name": "ipython",
    "version": 3
   },
   "file_extension": ".py",
   "mimetype": "text/x-python",
   "name": "python",
   "nbconvert_exporter": "python",
   "pygments_lexer": "ipython3",
   "version": "3.9.13"
  }
 },
 "nbformat": 4,
 "nbformat_minor": 2
}
