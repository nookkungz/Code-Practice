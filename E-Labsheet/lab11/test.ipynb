{
 "cells": [
  {
   "cell_type": "code",
   "execution_count": 1,
   "metadata": {},
   "outputs": [
    {
     "name": "stdout",
     "output_type": "stream",
     "text": [
      "SafariWorld\n"
     ]
    }
   ],
   "source": [
    "print('Safari' + 'World')"
   ]
  },
  {
   "cell_type": "code",
   "execution_count": 2,
   "metadata": {},
   "outputs": [
    {
     "name": "stdout",
     "output_type": "stream",
     "text": [
      "Safari World\n"
     ]
    }
   ],
   "source": [
    "place = 'Safari' + ' ' + 'World'\n",
    "print(place)"
   ]
  },
  {
   "cell_type": "code",
   "execution_count": 3,
   "metadata": {},
   "outputs": [
    {
     "name": "stdout",
     "output_type": "stream",
     "text": [
      "ununun\n"
     ]
    }
   ],
   "source": [
    "print(\"un\" * 3)\n"
   ]
  },
  {
   "cell_type": "code",
   "execution_count": 4,
   "metadata": {},
   "outputs": [
    {
     "name": "stdout",
     "output_type": "stream",
     "text": [
      "strstrstr\n"
     ]
    }
   ],
   "source": [
    "text = 3 * 'str'\n",
    "print(text)"
   ]
  },
  {
   "cell_type": "code",
   "execution_count": 5,
   "metadata": {},
   "outputs": [
    {
     "name": "stdout",
     "output_type": "stream",
     "text": [
      "12123\n"
     ]
    }
   ],
   "source": [
    "print('12' + '123')"
   ]
  },
  {
   "cell_type": "code",
   "execution_count": 6,
   "metadata": {},
   "outputs": [
    {
     "name": "stdout",
     "output_type": "stream",
     "text": [
      "210320\n"
     ]
    }
   ],
   "source": [
    "print(str(210) + str(320))"
   ]
  },
  {
   "cell_type": "code",
   "execution_count": 7,
   "metadata": {},
   "outputs": [
    {
     "name": "stdout",
     "output_type": "stream",
     "text": [
      "1234\n"
     ]
    }
   ],
   "source": [
    "print('1234' + \"\")"
   ]
  },
  {
   "cell_type": "code",
   "execution_count": 8,
   "metadata": {},
   "outputs": [
    {
     "name": "stdout",
     "output_type": "stream",
     "text": [
      "123456789012345678901234567890\n"
     ]
    }
   ],
   "source": [
    "print('1234567890' * 3)"
   ]
  },
  {
   "cell_type": "code",
   "execution_count": 9,
   "metadata": {},
   "outputs": [
    {
     "name": "stdout",
     "output_type": "stream",
     "text": [
      "P\n"
     ]
    }
   ],
   "source": [
    "print('Python'[0])"
   ]
  },
  {
   "cell_type": "code",
   "execution_count": 10,
   "metadata": {},
   "outputs": [
    {
     "name": "stdout",
     "output_type": "stream",
     "text": [
      "computer\n"
     ]
    }
   ],
   "source": [
    "subject = 'Fundamental Programming Concept'\n",
    "text = subject[27] + subject[14] + subject[5] + subject[29] + subject[1] + subject[30] + subject[28] + subject[16]\n",
    "print(text)"
   ]
  },
  {
   "cell_type": "code",
   "execution_count": 11,
   "metadata": {},
   "outputs": [
    {
     "name": "stdout",
     "output_type": "stream",
     "text": [
      "aaaaa\n"
     ]
    }
   ],
   "source": [
    "subject = 'Fundamental Programming Concept'\n",
    "text = subject[-22] * 5 + subject[0] * 0\n",
    "print(text)"
   ]
  },
  {
   "cell_type": "code",
   "execution_count": 12,
   "metadata": {},
   "outputs": [
    {
     "name": "stdout",
     "output_type": "stream",
     "text": [
      "Programming\n",
      "Fundamental Programming Concept\n"
     ]
    }
   ],
   "source": [
    "subject = 'Fundamental Programming Concept'\n",
    "text = subject[12:23]\n",
    "print(text)\n",
    "print(subject)"
   ]
  },
  {
   "cell_type": "code",
   "execution_count": 13,
   "metadata": {},
   "outputs": [
    {
     "name": "stdout",
     "output_type": "stream",
     "text": [
      "Programming\n",
      "Fundamental Programming Concept\n"
     ]
    }
   ],
   "source": [
    "subject = 'Fundamental Programming Concept'\n",
    "text = subject[-19:-8]\n",
    "print(text)\n",
    "print(subject)"
   ]
  },
  {
   "cell_type": "code",
   "execution_count": 14,
   "metadata": {},
   "outputs": [
    {
     "name": "stdout",
     "output_type": "stream",
     "text": [
      "1 Programming\n",
      "2 Programming\n",
      "3 Pormig\n"
     ]
    }
   ],
   "source": [
    "subject = \"Fundamental Programming Concept\"\n",
    "print(1, subject[12:23])\n",
    "print(2, subject[12:23:1])\n",
    "print(3, subject[12:23:2])"
   ]
  },
  {
   "cell_type": "code",
   "execution_count": 15,
   "metadata": {},
   "outputs": [
    {
     "name": "stdout",
     "output_type": "stream",
     "text": [
      "1 Programming\n",
      "2 Programming\n",
      "3 Pormig\n"
     ]
    }
   ],
   "source": [
    "subject = \"Fundamental Programming Concept\"\n",
    "print(1, subject[-19:-8])\n",
    "print(2, subject[-19:-8:1])\n",
    "print(3, subject[-19:-8:2])"
   ]
  },
  {
   "cell_type": "code",
   "execution_count": 16,
   "metadata": {},
   "outputs": [
    {
     "name": "stdout",
     "output_type": "stream",
     "text": [
      "1 Programming\n",
      "2 \n",
      "3 \n"
     ]
    }
   ],
   "source": [
    "subject = \"Fundamental Programming Concept\"\n",
    "print(1, subject[12:23])\n",
    "print(2, subject[12:23:-1])\n",
    "print(3, subject[12:23:-2])"
   ]
  },
  {
   "cell_type": "code",
   "execution_count": 19,
   "metadata": {},
   "outputs": [
    {
     "name": "stdout",
     "output_type": "stream",
     "text": [
      "1 \n",
      "2 gnimmargorP\n",
      "3 gimroP\n"
     ]
    }
   ],
   "source": [
    "subject = \"Fundamental Programming Concept\"\n",
    "print(1, subject[22:11])\n",
    "print(2, subject[22:11:-1])\n",
    "print(3, subject[22:11:-2])"
   ]
  },
  {
   "cell_type": "code",
   "execution_count": 18,
   "metadata": {},
   "outputs": [
    {
     "name": "stdout",
     "output_type": "stream",
     "text": [
      "1 Fundamental Programming\n",
      "2 FnaetlPormig\n",
      "3 gnimmargorP latnemadnuF\n"
     ]
    }
   ],
   "source": [
    "subject = \"Fundamental Programming Concept\"\n",
    "print(1, subject[:23:])\n",
    "print(2, subject[:23:2])\n",
    "print(3, subject[22::-1])"
   ]
  },
  {
   "cell_type": "code",
   "execution_count": 20,
   "metadata": {},
   "outputs": [
    {
     "name": "stdout",
     "output_type": "stream",
     "text": [
      "True\n"
     ]
    }
   ],
   "source": [
    "print(\"P\" in \"Python\")\n"
   ]
  },
  {
   "cell_type": "code",
   "execution_count": 23,
   "metadata": {},
   "outputs": [
    {
     "name": "stdout",
     "output_type": "stream",
     "text": [
      "Invalid menu: neither A nor B\n"
     ]
    }
   ],
   "source": [
    "choice = input(\"Select menu (A, B): \")\n",
    "if (choice in 'Aa'):\n",
    "    print('This is menu A')\n",
    "elif (choice in 'Bb'):\n",
    "    print('This is menu B')\n",
    "else:\n",
    "    print('Invalid menu: neither A nor B')"
   ]
  },
  {
   "cell_type": "code",
   "execution_count": 24,
   "metadata": {},
   "outputs": [
    {
     "name": "stdout",
     "output_type": "stream",
     "text": [
      "Current Letter: P\n",
      "Current Letter: y\n",
      "Current Letter: t\n",
      "Current Letter: h\n",
      "Current Letter: o\n",
      "Current Letter: n\n"
     ]
    }
   ],
   "source": [
    "for letter in 'Python':\n",
    "    print('Current Letter:', letter)"
   ]
  },
  {
   "cell_type": "code",
   "execution_count": 25,
   "metadata": {},
   "outputs": [
    {
     "name": "stdout",
     "output_type": "stream",
     "text": [
      "F|u|n|d|a|m|e|n|t|a|l| |P|r|o|g|r|a|m|m|i|n|g| |C|o|n|c|e|p|t|"
     ]
    }
   ],
   "source": [
    "sentence = \"Fundamental Programming Concept\"\n",
    "for ch in sentence:\n",
    "    print(ch, end='|')"
   ]
  },
  {
   "cell_type": "code",
   "execution_count": 29,
   "metadata": {},
   "outputs": [
    {
     "ename": "TypeError",
     "evalue": "'str' object cannot be interpreted as an integer",
     "output_type": "error",
     "traceback": [
      "\u001b[1;31m---------------------------------------------------------------------------\u001b[0m",
      "\u001b[1;31mTypeError\u001b[0m                                 Traceback (most recent call last)",
      "Cell \u001b[1;32mIn[29], line 2\u001b[0m\n\u001b[0;32m      1\u001b[0m n \u001b[38;5;241m=\u001b[39m [\u001b[38;5;124m\"\u001b[39m\u001b[38;5;124mh\u001b[39m\u001b[38;5;124m\"\u001b[39m,\u001b[38;5;124m\"\u001b[39m\u001b[38;5;124ms\u001b[39m\u001b[38;5;124m\"\u001b[39m]\n\u001b[1;32m----> 2\u001b[0m done \u001b[38;5;241m=\u001b[39m \u001b[43mn\u001b[49m\u001b[38;5;241;43m.\u001b[39;49m\u001b[43mpop\u001b[49m\u001b[43m(\u001b[49m\u001b[38;5;124;43m\"\u001b[39;49m\u001b[38;5;124;43mh\u001b[39;49m\u001b[38;5;124;43m\"\u001b[39;49m\u001b[43m)\u001b[49m\n\u001b[0;32m      3\u001b[0m \u001b[38;5;28mprint\u001b[39m(done)\n",
      "\u001b[1;31mTypeError\u001b[0m: 'str' object cannot be interpreted as an integer"
     ]
    }
   ],
   "source": [
    "n = [\"h\",\"s\"]\n",
    "done = n.pop(\"h\")\n",
    "print(done)"
   ]
  }
 ],
 "metadata": {
  "kernelspec": {
   "display_name": "Python 3",
   "language": "python",
   "name": "python3"
  },
  "language_info": {
   "codemirror_mode": {
    "name": "ipython",
    "version": 3
   },
   "file_extension": ".py",
   "mimetype": "text/x-python",
   "name": "python",
   "nbconvert_exporter": "python",
   "pygments_lexer": "ipython3",
   "version": "3.9.13"
  }
 },
 "nbformat": 4,
 "nbformat_minor": 2
}
