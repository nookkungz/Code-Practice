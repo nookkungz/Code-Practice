{
 "cells": [
  {
   "cell_type": "code",
   "execution_count": null,
   "metadata": {},
   "outputs": [],
   "source": [
    "ls = []\n",
    "while True :\n",
    "    n = input(\"\")\n",
    "    if n == \"\" :\n",
    "        break\n",
    "    ls.append(n)\n",
    "    \n",
    "    "
   ]
  },
  {
   "cell_type": "code",
   "execution_count": 6,
   "metadata": {},
   "outputs": [
    {
     "ename": "",
     "evalue": "",
     "output_type": "error",
     "traceback": [
      "\u001b[1;31mThe Kernel crashed while executing code in the current cell or a previous cell. \n",
      "\u001b[1;31mPlease review the code in the cell(s) to identify a possible cause of the failure. \n",
      "\u001b[1;31mClick <a href='https://aka.ms/vscodeJupyterKernelCrash'>here</a> for more info. \n",
      "\u001b[1;31mView Jupyter <a href='command:jupyter.viewOutput'>log</a> for further details."
     ]
    }
   ],
   "source": [
    "def create_factors_3_7(n) :\n",
    "    ls = []\n",
    "    i = 1\n",
    "    \n",
    "    while True:\n",
    "\n",
    "        if i % 3 == 0 or i % 7 == 0 :\n",
    "            ls.append(i)\n",
    "        if len(ls) == n :\n",
    "            break\n",
    "        i += 1\n",
    "        i += 1\n",
    "    return ls            \n",
    "n = int(input(\"\"))\n"
   ]
  },
  {
   "cell_type": "code",
   "execution_count": 2,
   "metadata": {},
   "outputs": [],
   "source": [
    "def filter_sort_factors_3_7(ls):\n",
    "    factors_3_7 = []\n",
    "    not_factors_3_7 = []\n",
    "    \n",
    "    for num in ls:\n",
    "        if num > 0: \n",
    "            if num % 3 == 0 or num % 7 == 0:\n",
    "                factors_3_7.append(num)\n",
    "            else:\n",
    "                not_factors_3_7.append(num)\n",
    "    \n",
    "    factors_3_7.sort()\n",
    "    not_factors_3_7.sort(reverse=True)  \n",
    "    \n",
    "    return [factors_3_7, not_factors_3_7]"
   ]
  },
  {
   "cell_type": "code",
   "execution_count": 3,
   "metadata": {},
   "outputs": [
    {
     "name": "stdout",
     "output_type": "stream",
     "text": [
      "sad \n"
     ]
    }
   ],
   "source": [
    "ls = []\n",
    "while True:\n",
    "    user_input = input(\"\")\n",
    "    if user_input == \"\":\n",
    "        break\n",
    "    ls.append(user_input)\n",
    "result_string = \"\".join(ls)\n",
    "print(result_string)"
   ]
  },
  {
   "cell_type": "code",
   "execution_count": 4,
   "metadata": {},
   "outputs": [
    {
     "name": "stdout",
     "output_type": "stream",
     "text": [
      "[123312, 1]\n"
     ]
    }
   ],
   "source": [
    "input_string = input(\"\")\n",
    "number_strings = input_string.split('.')\n",
    "number_list = []\n",
    "for num_str in number_strings:\n",
    "    number_list.append(int(num_str))\n",
    "print(number_list)"
   ]
  }
 ],
 "metadata": {
  "kernelspec": {
   "display_name": "Python 3",
   "language": "python",
   "name": "python3"
  },
  "language_info": {
   "codemirror_mode": {
    "name": "ipython",
    "version": 3
   },
   "file_extension": ".py",
   "mimetype": "text/x-python",
   "name": "python",
   "nbconvert_exporter": "python",
   "pygments_lexer": "ipython3",
   "version": "3.9.10"
  }
 },
 "nbformat": 4,
 "nbformat_minor": 2
}
