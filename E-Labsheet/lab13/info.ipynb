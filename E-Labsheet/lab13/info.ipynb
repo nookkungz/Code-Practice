{
 "cells": [
  {
   "cell_type": "code",
   "execution_count": null,
   "metadata": {},
   "outputs": [],
   "source": [
    "n = str(input())\n",
    "ls = n.split(\".\")"
   ]
  },
  {
   "cell_type": "code",
   "execution_count": null,
   "metadata": {},
   "outputs": [],
   "source": [
    "x1, y1 = input().split(\",\")\n",
    "x1 = float(x1)\n",
    "y1 = float(y1)\n",
    "\n",
    "x2, y2 = input().split(\",\")\n",
    "x2 = float(x2)\n",
    "y2 = float(y2)\n",
    "\n",
    "x_sum = x1 + x2\n",
    "y_sum = y1 + y2\n",
    "\n",
    "print(f\"{x_sum},{y_sum}\")"
   ]
  },
  {
   "cell_type": "markdown",
   "metadata": {},
   "source": [
    "cant use \n",
    "exit \n",
    "try\n",
    "execpt\n"
   ]
  },
  {
   "cell_type": "code",
   "execution_count": null,
   "metadata": {},
   "outputs": [],
   "source": [
    "string_input = input(\"\")\n",
    "ls = [int(num) for num in string_input.split(\".\")]"
   ]
  },
  {
   "cell_type": "code",
   "execution_count": 2,
   "metadata": {},
   "outputs": [
    {
     "name": "stdout",
     "output_type": "stream",
     "text": [
      "1\n"
     ]
    }
   ],
   "source": [
    "n = input()\n",
    "char = input().strip()\n",
    "\n",
    "if not n.isdigit() or int(n) < 0 or char.lower() not in ['e', 'o']:\n",
    "    print(\"ERROR\")\n",
    "else:\n",
    "    n = int(n)\n",
    "    \n",
    "    fib = [1, 1]\n",
    "    for i in range(2, n + 1):\n",
    "        fib.append(fib[i-1] + fib[i-2])\n",
    "    \n",
    "    result = 0\n",
    "    if char.lower() == 'e':\n",
    "        for i in range(0, n + 1, 2):\n",
    "            result += fib[i]\n",
    "    else:\n",
    "        for i in range(1, n + 1, 2):\n",
    "            result += fib[i]\n",
    "    \n",
    "    print(result)"
   ]
  }
 ],
 "metadata": {
  "kernelspec": {
   "display_name": "Python 3",
   "language": "python",
   "name": "python3"
  },
  "language_info": {
   "codemirror_mode": {
    "name": "ipython",
    "version": 3
   },
   "file_extension": ".py",
   "mimetype": "text/x-python",
   "name": "python",
   "nbconvert_exporter": "python",
   "pygments_lexer": "ipython3",
   "version": "3.9.10"
  }
 },
 "nbformat": 4,
 "nbformat_minor": 2
}
