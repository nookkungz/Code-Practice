{
 "cells": [
  {
   "cell_type": "markdown",
   "id": "d5a84c25-5dd2-4e1c-9610-0f32b929ab11",
   "metadata": {
    "id": "d5a84c25-5dd2-4e1c-9610-0f32b929ab11"
   },
   "source": [
    "# แบบฝึกหัด 1"
   ]
  },
  {
   "cell_type": "markdown",
   "id": "1de1213a-1891-4a0f-a326-f4b41157e2a2",
   "metadata": {
    "id": "1de1213a-1891-4a0f-a326-f4b41157e2a2"
   },
   "source": [
    "---"
   ]
  },
  {
   "cell_type": "markdown",
   "id": "abfa3674-2828-46af-8ba2-8203fe69d752",
   "metadata": {
    "id": "abfa3674-2828-46af-8ba2-8203fe69d752"
   },
   "source": [
    "### 1.1"
   ]
  },
  {
   "cell_type": "markdown",
   "id": "9757cced-2cba-4bca-a7bd-8973db901b25",
   "metadata": {
    "id": "9757cced-2cba-4bca-a7bd-8973db901b25"
   },
   "source": [
    "***เขียนโปรแกรมเพื่อเปลี่ยนค่าจากองศาเซลเซียสไปเป็นองศาฟาเรนไฮต์และเคลวิน ดังนี้***\n",
    "\n",
    "F = (9/5)C + 32  \n",
    "K = C + 273.15"
   ]
  },
  {
   "cell_type": "markdown",
   "id": "b1834134-5b60-4e8c-96c5-b87ef739ddfb",
   "metadata": {
    "id": "b1834134-5b60-4e8c-96c5-b87ef739ddfb"
   },
   "source": [
    "รับข้อมูลองศาเซลเซียส"
   ]
  },
  {
   "cell_type": "code",
   "execution_count": 136,
   "id": "af68b83d-415c-4092-9aa7-adb0b2feef31",
   "metadata": {
    "id": "af68b83d-415c-4092-9aa7-adb0b2feef31"
   },
   "outputs": [],
   "source": [
    "C = [39.85, 25, 32]"
   ]
  },
  {
   "cell_type": "markdown",
   "id": "730d77bd-d450-4cdc-ad27-48607f07ae43",
   "metadata": {
    "id": "730d77bd-d450-4cdc-ad27-48607f07ae43"
   },
   "source": [
    "###แปลงเป็นองศาฟาเรนไฮต์ให้ได้ผลลัพธ์เป็น list เก็บใน F  "
   ]
  },
  {
   "cell_type": "code",
   "execution_count": 137,
   "id": "94de6e83-372d-4e7d-8a7a-36fc5d248773",
   "metadata": {
    "id": "94de6e83-372d-4e7d-8a7a-36fc5d248773"
   },
   "outputs": [
    {
     "name": "stdout",
     "output_type": "stream",
     "text": [
      "[103.73, 77.0, 89.6]\n"
     ]
    }
   ],
   "source": [
    "# Your code\n",
    "F = [(9/5)*j + 32 for j in C ]\n",
    "print(F)\n"
   ]
  },
  {
   "cell_type": "markdown",
   "id": "1f82417d-c3c6-418b-94ff-f40dce925932",
   "metadata": {
    "id": "1f82417d-c3c6-418b-94ff-f40dce925932"
   },
   "source": [
    "ผลลัพธ์ที่ต้องการแสดง [103.73, 77.0, 89.6]"
   ]
  },
  {
   "cell_type": "markdown",
   "id": "a8dc1e83-2ad4-446b-bcb1-56cc0b517415",
   "metadata": {
    "id": "a8dc1e83-2ad4-446b-bcb1-56cc0b517415"
   },
   "source": [
    "###แปลงเป็นองศาฟาเคลวินให้ได้ผลลัพธ์เป็น list เก็บใน K"
   ]
  },
  {
   "cell_type": "code",
   "execution_count": 138,
   "id": "6fcd3925-4041-4b30-bb4d-ea1680a6f8ae",
   "metadata": {
    "id": "6fcd3925-4041-4b30-bb4d-ea1680a6f8ae"
   },
   "outputs": [
    {
     "name": "stdout",
     "output_type": "stream",
     "text": [
      "[313.0, 298.15, 305.15]\n"
     ]
    }
   ],
   "source": [
    "# Your code\n",
    "K = [i + 273.15 for i in C]\n",
    "print(K)"
   ]
  },
  {
   "cell_type": "markdown",
   "id": "9bbda200-1a5a-45c7-a3c2-92226634bf43",
   "metadata": {
    "id": "9bbda200-1a5a-45c7-a3c2-92226634bf43"
   },
   "source": [
    "ผลลัพธ์ที่ต้องการแสดง [313.0, 298.15, 305.15]"
   ]
  },
  {
   "cell_type": "markdown",
   "id": "870f923b-c173-459d-bbe1-689fd2b79932",
   "metadata": {
    "id": "870f923b-c173-459d-bbe1-689fd2b79932"
   },
   "source": [
    "###แสดงการสรุปผล"
   ]
  },
  {
   "cell_type": "code",
   "execution_count": 139,
   "id": "fbc314b0-7bc4-4f53-8cfe-3095dc555937",
   "metadata": {
    "colab": {
     "base_uri": "https://localhost:8080/"
    },
    "executionInfo": {
     "elapsed": 957,
     "status": "ok",
     "timestamp": 1731780194101,
     "user": {
      "displayName": "Thammakorn SAETHANG",
      "userId": "08182570455347153646"
     },
     "user_tz": -420
    },
    "id": "fbc314b0-7bc4-4f53-8cfe-3095dc555937",
    "outputId": "a5c554d4-33a7-431f-8d46-61551c14b6b5"
   },
   "outputs": [
    {
     "name": "stdout",
     "output_type": "stream",
     "text": [
      "39.85 °C = 103.73 °F = 313.0 °K\n",
      "25 °C = 77.0 °F = 298.15 °K\n",
      "32 °C = 89.6 °F = 305.15 °K\n"
     ]
    }
   ],
   "source": [
    "# Your code\n",
    "\n",
    "for j in range (len(C)):\n",
    "    print(f\"{C[j]} °C = {F[j]} °F = {K[j]} °K\")\n",
    "\n",
    "# ตัวอย่างเพื่อให้ print °C\n"
   ]
  },
  {
   "cell_type": "markdown",
   "id": "ee21bdf5-7345-42a0-9cce-18c07b7f0d44",
   "metadata": {
    "id": "ee21bdf5-7345-42a0-9cce-18c07b7f0d44"
   },
   "source": [
    "ผลที่ต้องการแสดง  \n",
    "39.85 °C = 103.73 °F = 313.0 °K  \n",
    "25 °C = 77.0 °F = 298.15 °K  \n",
    "32 °C = 89.6 °F = 305.15 °K  "
   ]
  },
  {
   "cell_type": "markdown",
   "id": "b415fcb5-8d76-45fd-ae2c-523f03b10b79",
   "metadata": {
    "id": "b415fcb5-8d76-45fd-ae2c-523f03b10b79"
   },
   "source": [
    "---"
   ]
  },
  {
   "cell_type": "markdown",
   "id": "0126d1f0-c4b0-4ba8-8c47-fa676345a02b",
   "metadata": {
    "id": "0126d1f0-c4b0-4ba8-8c47-fa676345a02b"
   },
   "source": [
    "### 1.2"
   ]
  },
  {
   "cell_type": "markdown",
   "id": "a1e08816-6647-4043-97c9-fd84145b2b78",
   "metadata": {
    "id": "a1e08816-6647-4043-97c9-fd84145b2b78"
   },
   "source": [
    "ให้นิสิตแสดงวิธีการแปลง list income (ซึ่งเปรียบเสมือนเป็นข้อมูลเงินเดือนของผู้ตอบแบบสอบถาม 20 ท่าน)  \n",
    "ให้เป็น numpy array เก็บในตัวแปรที่ชื่อ income_number โดย array ที่แปลงได้ควรมีชนิด dtype เป็น float   \n",
    "การแปลง string ให้เป็น float กำหนดให้ K = 1000 และ M = 1000000   \n",
    "string \"-\" ให้แปลงเป็น np.nan (dtype ต้องเป็น float จึงจะใช้ np.nan ได้)"
   ]
  },
  {
   "cell_type": "markdown",
   "id": "41c0bea4-f8a7-421f-88eb-c4b079d214ef",
   "metadata": {
    "id": "41c0bea4-f8a7-421f-88eb-c4b079d214ef"
   },
   "source": [
    "\\*โจทย์ข้อนี้สามารถทำได้หลายวิธี  \n",
    "หากใช้ numpy นิสิตอาจต้องหาข้อมูลเพิ่ม เช่น การใช้ np.char.replace หรือฟังก์ชัน eval"
   ]
  },
  {
   "cell_type": "code",
   "execution_count": 140,
   "id": "bde3d269-4d17-41d4-b1fc-91f19dcec73d",
   "metadata": {
    "id": "bde3d269-4d17-41d4-b1fc-91f19dcec73d",
    "tags": []
   },
   "outputs": [],
   "source": [
    "import numpy as np"
   ]
  },
  {
   "cell_type": "code",
   "execution_count": 141,
   "id": "93c0955a-7a83-4f6f-b038-cc15e20f30ac",
   "metadata": {
    "id": "93c0955a-7a83-4f6f-b038-cc15e20f30ac"
   },
   "outputs": [],
   "source": [
    "income = [\"20K\", \"3M\", \"12K\", \"0.04M\", \"0.023K\", \"-\", \"16K\", \"740K\", \"15K\", \"40K\",\n",
    "         \"-\", \"17K\", \"-\", \"120K\", \"56K\", \"-\", \"42K\", \"2M\", \"0.14M\", \"60K\"]\n"
   ]
  },
  {
   "cell_type": "markdown",
   "id": "eabdd092-ba5e-46c9-9394-d7ced89b031e",
   "metadata": {
    "id": "eabdd092-ba5e-46c9-9394-d7ced89b031e"
   },
   "source": [
    "##วิธีการของนิสิตควรได้ผลลัพธ์ดังที่ระบุเมื่อรัน cell ต่อไปนี้"
   ]
  },
  {
   "cell_type": "code",
   "execution_count": 142,
   "id": "fa6a501f",
   "metadata": {},
   "outputs": [
    {
     "data": {
      "text/plain": [
       "array([2.0e+04, 3.0e+06, 1.2e+04, 4.0e+04, 2.3e+01,     nan, 1.6e+04,\n",
       "       7.4e+05, 1.5e+04, 4.0e+04,     nan, 1.7e+04,     nan, 1.2e+05,\n",
       "       5.6e+04,     nan, 4.2e+04, 2.0e+06, 1.4e+05, 6.0e+04])"
      ]
     },
     "execution_count": 142,
     "metadata": {},
     "output_type": "execute_result"
    }
   ],
   "source": [
    "income_number = np.array(income)\n",
    "income_number = np.char.replace(income_number,\"K\",\"*1000\")\n",
    "income_number = np.char.replace(income_number,\"M\",\"*1000000\")\n",
    "income_number = np.char.replace(income_number,\"-\",\"(np.nan)\")\n",
    "income_number = np.array([eval(i)for i in income_number])\n",
    "income_number\n",
    "\n"
   ]
  },
  {
   "cell_type": "code",
   "execution_count": 143,
   "id": "940d9c4f-4b5c-4661-8faf-3a5cd1991d15",
   "metadata": {
    "id": "940d9c4f-4b5c-4661-8faf-3a5cd1991d15"
   },
   "outputs": [
    {
     "name": "stdout",
     "output_type": "stream",
     "text": [
      "[2.0e+04 3.0e+06 1.2e+04 4.0e+04 2.3e+01     nan 1.6e+04 7.4e+05 1.5e+04\n",
      " 4.0e+04     nan 1.7e+04     nan 1.2e+05 5.6e+04     nan 4.2e+04 2.0e+06\n",
      " 1.4e+05 6.0e+04]\n"
     ]
    }
   ],
   "source": [
    "print(income_number)"
   ]
  },
  {
   "cell_type": "markdown",
   "id": "8cdca165-65aa-4b36-9461-eb9efab396fd",
   "metadata": {
    "id": "8cdca165-65aa-4b36-9461-eb9efab396fd"
   },
   "source": [
    "ผลลัพธ์ที่ควรแสดง: array([2.0e+04, 3.0e+06, 1.2e+04, 4.0e+04, 2.3e+01,     nan, 1.6e+04,\n",
    "       7.4e+05, 1.5e+04, 4.0e+04,     nan, 1.7e+04,     nan, 1.2e+05,\n",
    "       5.6e+04,     nan, 4.2e+04, 2.0e+06, 1.4e+05, 6.0e+04])"
   ]
  },
  {
   "cell_type": "code",
   "execution_count": 144,
   "id": "28a4c0df-1947-404f-a143-f1e85e29060f",
   "metadata": {
    "id": "28a4c0df-1947-404f-a143-f1e85e29060f"
   },
   "outputs": [
    {
     "data": {
      "text/plain": [
       "numpy.ndarray"
      ]
     },
     "execution_count": 144,
     "metadata": {},
     "output_type": "execute_result"
    }
   ],
   "source": [
    "type(income_number)"
   ]
  },
  {
   "cell_type": "markdown",
   "id": "b6e656ea-fdcc-4c39-bf2b-3c6c555a8d74",
   "metadata": {
    "id": "b6e656ea-fdcc-4c39-bf2b-3c6c555a8d74"
   },
   "source": [
    "ผลลัพธ์ที่ควรแสดง: numpy.ndarray"
   ]
  },
  {
   "cell_type": "code",
   "execution_count": 145,
   "id": "613480c1-78b6-4240-b1b1-48dae3957208",
   "metadata": {
    "id": "613480c1-78b6-4240-b1b1-48dae3957208"
   },
   "outputs": [
    {
     "data": {
      "text/plain": [
       "dtype('float64')"
      ]
     },
     "execution_count": 145,
     "metadata": {},
     "output_type": "execute_result"
    }
   ],
   "source": [
    "income_number.dtype"
   ]
  },
  {
   "cell_type": "markdown",
   "id": "8b21a94a-936a-46a9-94fa-41b01851e051",
   "metadata": {
    "id": "8b21a94a-936a-46a9-94fa-41b01851e051"
   },
   "source": [
    "ผลลัพธ์ที่ควรแสดง: dtype('float64')"
   ]
  },
  {
   "cell_type": "code",
   "execution_count": 146,
   "id": "b7978b4d-7ea0-4cd9-b0d9-25b5908e457d",
   "metadata": {
    "id": "b7978b4d-7ea0-4cd9-b0d9-25b5908e457d"
   },
   "outputs": [
    {
     "data": {
      "text/plain": [
       "394876.4375"
      ]
     },
     "execution_count": 146,
     "metadata": {},
     "output_type": "execute_result"
    }
   ],
   "source": [
    "np.nanmean(income_number)"
   ]
  },
  {
   "cell_type": "markdown",
   "id": "37d89d0e-3fee-4846-8f74-a2e133410f8e",
   "metadata": {
    "id": "37d89d0e-3fee-4846-8f74-a2e133410f8e"
   },
   "source": [
    "ผลลัพธ์ที่ควรแสดง: 394876.4375"
   ]
  },
  {
   "cell_type": "code",
   "execution_count": 147,
   "id": "1cb30310-a64c-46a7-8848-924412f639b4",
   "metadata": {
    "id": "1cb30310-a64c-46a7-8848-924412f639b4"
   },
   "outputs": [
    {
     "data": {
      "text/plain": [
       "41000.0"
      ]
     },
     "execution_count": 147,
     "metadata": {},
     "output_type": "execute_result"
    }
   ],
   "source": [
    "np.nanmedian(income_number)"
   ]
  },
  {
   "cell_type": "markdown",
   "id": "3a08657a-20b5-446a-8ab6-c794d1ed1049",
   "metadata": {
    "id": "3a08657a-20b5-446a-8ab6-c794d1ed1049"
   },
   "source": [
    "ผลลัพธ์ที่ควรแสดง: 41000.0"
   ]
  },
  {
   "cell_type": "markdown",
   "id": "3e50831c-d5bf-4d63-93b3-eb6ca2b064b5",
   "metadata": {
    "id": "3e50831c-d5bf-4d63-93b3-eb6ca2b064b5"
   },
   "source": [
    "---"
   ]
  }
 ],
 "metadata": {
  "colab": {
   "provenance": []
  },
  "kernelspec": {
   "display_name": "Python 3",
   "language": "python",
   "name": "python3"
  },
  "language_info": {
   "codemirror_mode": {
    "name": "ipython",
    "version": 3
   },
   "file_extension": ".py",
   "mimetype": "text/x-python",
   "name": "python",
   "nbconvert_exporter": "python",
   "pygments_lexer": "ipython3",
   "version": "3.9.10"
  }
 },
 "nbformat": 4,
 "nbformat_minor": 5
}
