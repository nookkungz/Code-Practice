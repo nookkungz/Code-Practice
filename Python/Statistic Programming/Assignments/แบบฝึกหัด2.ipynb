{
 "cells": [
  {
   "cell_type": "markdown",
   "id": "d5a84c25-5dd2-4e1c-9610-0f32b929ab11",
   "metadata": {
    "id": "d5a84c25-5dd2-4e1c-9610-0f32b929ab11"
   },
   "source": [
    "# แบบฝึกหัด 2"
   ]
  },
  {
   "cell_type": "markdown",
   "id": "1de1213a-1891-4a0f-a326-f4b41157e2a2",
   "metadata": {
    "id": "1de1213a-1891-4a0f-a326-f4b41157e2a2"
   },
   "source": [
    "---"
   ]
  },
  {
   "cell_type": "markdown",
   "id": "0b2de3e5-4ca7-4040-b266-c6d233ec55b9",
   "metadata": {
    "id": "0b2de3e5-4ca7-4040-b266-c6d233ec55b9"
   },
   "source": [
    "จากข้อมูล titanic.csv ให้ทำการวิเคราะห์ข้อมูลเบื้องต้นเกี่ยวกับคอลัมน์ cabin  \n",
    "โดยแผนภาพด้านล่างนี้เป็นตำแหน่งของ cabin ตามตัวอักษรตัวแรกของรหัส cabin ที่บันทึกในชุดข้อมูล"
   ]
  },
  {
   "cell_type": "markdown",
   "id": "37cf63dc-319c-4178-9d4e-7b68cb920496",
   "metadata": {
    "id": "37cf63dc-319c-4178-9d4e-7b68cb920496"
   },
   "source": [
    "![titanic-cabin](https://upload.wikimedia.org/wikipedia/commons/thumb/0/0d/Olympic_%26_Titanic_cutaway_diagram.png/800px-Olympic_%26_Titanic_cutaway_diagram.png)"
   ]
  },
  {
   "cell_type": "markdown",
   "id": "2c29c391-d34e-4e5b-832b-8309cc048e38",
   "metadata": {
    "id": "2c29c391-d34e-4e5b-832b-8309cc048e38"
   },
   "source": [
    "ให้นิสิตสร้างคอลัมน์เพิ่ม โดยคอลัมน์ที่เพิ่มมานี้ จะเก็บข้อมูลของตัวอักษรตัวแรกที่ปรากฏในคอลัมน์ Cabin เช่น  \n",
    "- หากในคอลัมน์ Cabin เป็นค่า \"C123\" ในคอลัมน์ที่สร้างจะบันทึก \"C\"  \n",
    "- หากในคอลัมน์ Cabin เป็นค่า \"C23 C25 C27\" ในคอลัมน์ที่สร้างจะบันทึก \"C\"\n",
    "- หากในคอลัมน์ Cabin เป็นค่า \"B58 B60 C2\" ในคอลัมน์ที่สร้างจะบันทึก \"B\"\n",
    "- หากในคอลัมน์ Cabin เป็นค่า \"F2\" ในคอลัมน์ที่สร้างจะบันทึก \"F\"\n",
    "- หากในคอลัมน์ Cabin เป็นค่า NaN ในคอลัมน์ที่สร้างจะบันทึก NaN"
   ]
  },
  {
   "cell_type": "markdown",
   "id": "aae120b9-b64f-4dad-ae93-003c5a5d0ada",
   "metadata": {
    "id": "aae120b9-b64f-4dad-ae93-003c5a5d0ada"
   },
   "source": [
    "จากนั้นให้นิสิตเขียนโค้ดเพื่อตอบคำถามในแต่ละข้อ"
   ]
  },
  {
   "cell_type": "code",
   "execution_count": 113,
   "id": "8bca888a-443e-49fa-8e1e-3be829633c05",
   "metadata": {
    "executionInfo": {
     "elapsed": 1276,
     "status": "ok",
     "timestamp": 1733139070092,
     "user": {
      "displayName": "Thammakorn SAETHANG",
      "userId": "08182570455347153646"
     },
     "user_tz": -420
    },
    "id": "8bca888a-443e-49fa-8e1e-3be829633c05"
   },
   "outputs": [],
   "source": [
    "import numpy as np\n",
    "import pandas as pd"
   ]
  },
  {
   "cell_type": "code",
   "execution_count": 114,
   "id": "3a2c0f7f-f675-427e-8dab-5ce08d8fbf78",
   "metadata": {
    "colab": {
     "base_uri": "https://localhost:8080/",
     "height": 206
    },
    "executionInfo": {
     "elapsed": 560,
     "status": "ok",
     "timestamp": 1733139074046,
     "user": {
      "displayName": "Thammakorn SAETHANG",
      "userId": "08182570455347153646"
     },
     "user_tz": -420
    },
    "id": "3a2c0f7f-f675-427e-8dab-5ce08d8fbf78",
    "outputId": "fdb85e9e-1ac2-4d09-d585-9716cc3924a1"
   },
   "outputs": [
    {
     "name": "stdout",
     "output_type": "stream",
     "text": [
      "<class 'pandas.core.frame.DataFrame'>\n",
      "RangeIndex: 891 entries, 0 to 890\n",
      "Data columns (total 12 columns):\n",
      " #   Column       Non-Null Count  Dtype  \n",
      "---  ------       --------------  -----  \n",
      " 0   PassengerId  891 non-null    int64  \n",
      " 1   Survived     891 non-null    int64  \n",
      " 2   Pclass       891 non-null    int64  \n",
      " 3   Name         891 non-null    object \n",
      " 4   Sex          891 non-null    object \n",
      " 5   Age          714 non-null    float64\n",
      " 6   SibSp        891 non-null    int64  \n",
      " 7   Parch        891 non-null    int64  \n",
      " 8   Ticket       891 non-null    object \n",
      " 9   Fare         891 non-null    float64\n",
      " 10  Cabin        204 non-null    object \n",
      " 11  Embarked     889 non-null    object \n",
      "dtypes: float64(2), int64(5), object(5)\n",
      "memory usage: 83.7+ KB\n"
     ]
    }
   ],
   "source": [
    "df = pd.read_csv(\"https://raw.githubusercontent.com/ThammakornS/ProgStat/main/dataset/titanic.csv\")\n",
    "df.info()"
   ]
  },
  {
   "cell_type": "markdown",
   "id": "a22810d5-b0e3-47d8-95b9-c45da2cc085e",
   "metadata": {
    "id": "a22810d5-b0e3-47d8-95b9-c45da2cc085e"
   },
   "source": [
    "นิสิตแสดงวิธีสร้างคอลัมน์"
   ]
  },
  {
   "cell_type": "code",
   "execution_count": 115,
   "id": "1020deae-43bd-46f1-aa35-3f979ecfbf91",
   "metadata": {
    "id": "1020deae-43bd-46f1-aa35-3f979ecfbf91"
   },
   "outputs": [
    {
     "data": {
      "text/html": [
       "<div>\n",
       "<style scoped>\n",
       "    .dataframe tbody tr th:only-of-type {\n",
       "        vertical-align: middle;\n",
       "    }\n",
       "\n",
       "    .dataframe tbody tr th {\n",
       "        vertical-align: top;\n",
       "    }\n",
       "\n",
       "    .dataframe thead th {\n",
       "        text-align: right;\n",
       "    }\n",
       "</style>\n",
       "<table border=\"1\" class=\"dataframe\">\n",
       "  <thead>\n",
       "    <tr style=\"text-align: right;\">\n",
       "      <th></th>\n",
       "      <th>PassengerId</th>\n",
       "      <th>Survived</th>\n",
       "      <th>Pclass</th>\n",
       "      <th>Name</th>\n",
       "      <th>Sex</th>\n",
       "      <th>Age</th>\n",
       "      <th>SibSp</th>\n",
       "      <th>Parch</th>\n",
       "      <th>Ticket</th>\n",
       "      <th>Fare</th>\n",
       "      <th>Cabin</th>\n",
       "      <th>Embarked</th>\n",
       "      <th>cabin_letter</th>\n",
       "    </tr>\n",
       "  </thead>\n",
       "  <tbody>\n",
       "    <tr>\n",
       "      <th>0</th>\n",
       "      <td>1</td>\n",
       "      <td>0</td>\n",
       "      <td>3</td>\n",
       "      <td>Braund, Mr. Owen Harris</td>\n",
       "      <td>male</td>\n",
       "      <td>22.0</td>\n",
       "      <td>1</td>\n",
       "      <td>0</td>\n",
       "      <td>A/5 21171</td>\n",
       "      <td>7.2500</td>\n",
       "      <td>NaN</td>\n",
       "      <td>S</td>\n",
       "      <td>NaN</td>\n",
       "    </tr>\n",
       "    <tr>\n",
       "      <th>1</th>\n",
       "      <td>2</td>\n",
       "      <td>1</td>\n",
       "      <td>1</td>\n",
       "      <td>Cumings, Mrs. John Bradley (Florence Briggs Th...</td>\n",
       "      <td>female</td>\n",
       "      <td>38.0</td>\n",
       "      <td>1</td>\n",
       "      <td>0</td>\n",
       "      <td>PC 17599</td>\n",
       "      <td>71.2833</td>\n",
       "      <td>C85</td>\n",
       "      <td>C</td>\n",
       "      <td>C</td>\n",
       "    </tr>\n",
       "    <tr>\n",
       "      <th>2</th>\n",
       "      <td>3</td>\n",
       "      <td>1</td>\n",
       "      <td>3</td>\n",
       "      <td>Heikkinen, Miss. Laina</td>\n",
       "      <td>female</td>\n",
       "      <td>26.0</td>\n",
       "      <td>0</td>\n",
       "      <td>0</td>\n",
       "      <td>STON/O2. 3101282</td>\n",
       "      <td>7.9250</td>\n",
       "      <td>NaN</td>\n",
       "      <td>S</td>\n",
       "      <td>NaN</td>\n",
       "    </tr>\n",
       "    <tr>\n",
       "      <th>3</th>\n",
       "      <td>4</td>\n",
       "      <td>1</td>\n",
       "      <td>1</td>\n",
       "      <td>Futrelle, Mrs. Jacques Heath (Lily May Peel)</td>\n",
       "      <td>female</td>\n",
       "      <td>35.0</td>\n",
       "      <td>1</td>\n",
       "      <td>0</td>\n",
       "      <td>113803</td>\n",
       "      <td>53.1000</td>\n",
       "      <td>C123</td>\n",
       "      <td>S</td>\n",
       "      <td>C</td>\n",
       "    </tr>\n",
       "    <tr>\n",
       "      <th>4</th>\n",
       "      <td>5</td>\n",
       "      <td>0</td>\n",
       "      <td>3</td>\n",
       "      <td>Allen, Mr. William Henry</td>\n",
       "      <td>male</td>\n",
       "      <td>35.0</td>\n",
       "      <td>0</td>\n",
       "      <td>0</td>\n",
       "      <td>373450</td>\n",
       "      <td>8.0500</td>\n",
       "      <td>NaN</td>\n",
       "      <td>S</td>\n",
       "      <td>NaN</td>\n",
       "    </tr>\n",
       "  </tbody>\n",
       "</table>\n",
       "</div>"
      ],
      "text/plain": [
       "   PassengerId  Survived  Pclass  \\\n",
       "0            1         0       3   \n",
       "1            2         1       1   \n",
       "2            3         1       3   \n",
       "3            4         1       1   \n",
       "4            5         0       3   \n",
       "\n",
       "                                                Name     Sex   Age  SibSp  \\\n",
       "0                            Braund, Mr. Owen Harris    male  22.0      1   \n",
       "1  Cumings, Mrs. John Bradley (Florence Briggs Th...  female  38.0      1   \n",
       "2                             Heikkinen, Miss. Laina  female  26.0      0   \n",
       "3       Futrelle, Mrs. Jacques Heath (Lily May Peel)  female  35.0      1   \n",
       "4                           Allen, Mr. William Henry    male  35.0      0   \n",
       "\n",
       "   Parch            Ticket     Fare Cabin Embarked cabin_letter  \n",
       "0      0         A/5 21171   7.2500   NaN        S          NaN  \n",
       "1      0          PC 17599  71.2833   C85        C            C  \n",
       "2      0  STON/O2. 3101282   7.9250   NaN        S          NaN  \n",
       "3      0            113803  53.1000  C123        S            C  \n",
       "4      0            373450   8.0500   NaN        S          NaN  "
      ]
     },
     "execution_count": 115,
     "metadata": {},
     "output_type": "execute_result"
    }
   ],
   "source": [
    "df['cabin_letter'] = df.Cabin.str.get(0)\n",
    "df.head()"
   ]
  },
  {
   "cell_type": "markdown",
   "id": "46afd374-6101-4afe-9bf3-c7b0c3d97c61",
   "metadata": {
    "id": "46afd374-6101-4afe-9bf3-c7b0c3d97c61"
   },
   "source": [
    "1. ในแต่ละตัวอักษร Cabin มีจำนวนผู้โดยสารกี่คน และมีจำนวน NaN เท่าไหร่"
   ]
  },
  {
   "cell_type": "code",
   "execution_count": 116,
   "id": "0484cb7d-29b4-44f1-90f5-16fef7266314",
   "metadata": {
    "id": "0484cb7d-29b4-44f1-90f5-16fef7266314",
    "tags": []
   },
   "outputs": [
    {
     "data": {
      "text/plain": [
       "cabin_letter\n",
       "NaN    687\n",
       "C       59\n",
       "B       47\n",
       "D       33\n",
       "E       32\n",
       "A       15\n",
       "F       13\n",
       "G        4\n",
       "T        1\n",
       "Name: count, dtype: int64"
      ]
     },
     "execution_count": 116,
     "metadata": {},
     "output_type": "execute_result"
    }
   ],
   "source": [
    "df.cabin_letter.value_counts()\n",
    "df.cabin_letter.value_counts(dropna=False)\n"
   ]
  },
  {
   "cell_type": "markdown",
   "id": "57a7dce3-b43f-42ac-ba6d-8219ff953804",
   "metadata": {
    "id": "57a7dce3-b43f-42ac-ba6d-8219ff953804"
   },
   "source": [
    "2. ในแต่ละตัวอักษร Cabin มีจำนวนผู้โดยสารที่รอดและเสียชีวิตอย่างละเท่าไหร่ cabin ใดมีจำนวนผู้เสียชีวิตมากที่สุด"
   ]
  },
  {
   "cell_type": "code",
   "execution_count": 117,
   "id": "716596c4-e25a-4ff4-be66-f0c7d17a315b",
   "metadata": {
    "id": "716596c4-e25a-4ff4-be66-f0c7d17a315b"
   },
   "outputs": [
    {
     "name": "stdout",
     "output_type": "stream",
     "text": [
      "Survived       0   1\n",
      "cabin_letter        \n",
      "A              8   7\n",
      "B             12  35\n",
      "C             24  35\n",
      "D              8  25\n",
      "E              8  24\n",
      "F              5   8\n",
      "G              2   2\n",
      "T              1   0\n",
      "cabin_letter\n",
      "C    24\n",
      "Name: count, dtype: int64\n"
     ]
    }
   ],
   "source": [
    "print(pd.crosstab(df.cabin_letter,df.Survived,margins=False))\n",
    "dead = df[df['Survived'] == 0]\n",
    "dead_counts = dead['cabin_letter'].value_counts()\n",
    "print(f\"{dead_counts.head(1)}\")"
   ]
  },
  {
   "cell_type": "markdown",
   "id": "ffe01048-7001-44ed-a318-f46c79e49fb8",
   "metadata": {
    "id": "ffe01048-7001-44ed-a318-f46c79e49fb8"
   },
   "source": [
    "3. cabin ใดมีค่า สัดส่วน จำนวนผู้รอดชีวิตหารด้วยจำนวนผู้เสียชีวิต สูงสุด"
   ]
  },
  {
   "cell_type": "code",
   "execution_count": 118,
   "id": "f38c0470-9acf-491d-8233-32acc258714d",
   "metadata": {
    "id": "f38c0470-9acf-491d-8233-32acc258714d"
   },
   "outputs": [
    {
     "name": "stdout",
     "output_type": "stream",
     "text": [
      "ในกรณีที่ไม่เอา NaN มาคำนวณ\n",
      "Survived      0   1   rate\n",
      "cabin_letter              \n",
      "D             8  25  3.125\n"
     ]
    }
   ],
   "source": [
    "sur = pd.crosstab(df['cabin_letter'], df['Survived'])\n",
    "sur['rate'] = sur[1]/sur[0]\n",
    "surrate = sur.sort_values('rate',ascending=False)\n",
    "print(\"ในกรณีที่ไม่เอา NaN มาคำนวณ\")\n",
    "print(f\"{surrate.head(1)}\")\n",
    "\n"
   ]
  },
  {
   "cell_type": "markdown",
   "id": "e2069dfd-233b-4979-83dd-b2408928d1d1",
   "metadata": {
    "id": "e2069dfd-233b-4979-83dd-b2408928d1d1"
   },
   "source": [
    "4. cabin ใดมีค่าเฉลี่ยราคาตั๋ว (Fare) สูงสุด"
   ]
  },
  {
   "cell_type": "code",
   "execution_count": 119,
   "id": "ad74e21d-2d51-467d-8e90-c41d61d76c52",
   "metadata": {
    "id": "ad74e21d-2d51-467d-8e90-c41d61d76c52"
   },
   "outputs": [
    {
     "name": "stdout",
     "output_type": "stream",
     "text": [
      "cabin ที่มีค่าเฉลี่ยราคาตั๋ว (Fare) สูงสุด\n",
      "cabin_letter\n",
      "B    113.505764\n",
      "Name: Fare, dtype: float64\n"
     ]
    }
   ],
   "source": [
    "cabin_favg = df.groupby('cabin_letter')['Fare'].mean()\n",
    "cabin_favgsort = cabin_favg.sort_values(ascending=False)\n",
    "print(f\"cabin ที่มีค่าเฉลี่ยราคาตั๋ว (Fare) สูงสุด\")\n",
    "print(f\"{cabin_favgsort.head(1)}\")"
   ]
  },
  {
   "cell_type": "markdown",
   "id": "629756d5-c13f-45e9-96d4-a26457fc61b7",
   "metadata": {
    "id": "629756d5-c13f-45e9-96d4-a26457fc61b7"
   },
   "source": [
    "5. จงแสดงค่าเฉลี่ยราคาตั๋ว (Fare) ของผู้รอดชีวิต และผู้เสียชีวิต ในแต่ละ cabin หากเปรียบเทียบราคาเฉลี่ยของผู้ที่รอดและเสียชีวิตจะพบว่า"
   ]
  },
  {
   "cell_type": "code",
   "execution_count": 120,
   "id": "cbd636f4-6aa5-4766-8bd1-5eae44209c86",
   "metadata": {
    "id": "cbd636f4-6aa5-4766-8bd1-5eae44209c86"
   },
   "outputs": [
    {
     "name": "stdout",
     "output_type": "stream",
     "text": [
      "จะเห็นได้ว่าค่าเฉลี่ยราคาตั๋วของผู้รอดชีวิตจะมีราคาที่มากกว่า\n"
     ]
    },
    {
     "data": {
      "text/html": [
       "<div>\n",
       "<style scoped>\n",
       "    .dataframe tbody tr th:only-of-type {\n",
       "        vertical-align: middle;\n",
       "    }\n",
       "\n",
       "    .dataframe tbody tr th {\n",
       "        vertical-align: top;\n",
       "    }\n",
       "\n",
       "    .dataframe thead th {\n",
       "        text-align: right;\n",
       "    }\n",
       "</style>\n",
       "<table border=\"1\" class=\"dataframe\">\n",
       "  <thead>\n",
       "    <tr style=\"text-align: right;\">\n",
       "      <th>Survived</th>\n",
       "      <th>0</th>\n",
       "      <th>1</th>\n",
       "      <th>fare_dif</th>\n",
       "    </tr>\n",
       "    <tr>\n",
       "      <th>cabin_letter</th>\n",
       "      <th></th>\n",
       "      <th></th>\n",
       "      <th></th>\n",
       "    </tr>\n",
       "  </thead>\n",
       "  <tbody>\n",
       "    <tr>\n",
       "      <th>A</th>\n",
       "      <td>35.496350</td>\n",
       "      <td>44.341071</td>\n",
       "      <td>8.844721</td>\n",
       "    </tr>\n",
       "    <tr>\n",
       "      <th>B</th>\n",
       "      <td>57.137500</td>\n",
       "      <td>132.832026</td>\n",
       "      <td>75.694526</td>\n",
       "    </tr>\n",
       "    <tr>\n",
       "      <th>C</th>\n",
       "      <td>99.972396</td>\n",
       "      <td>100.274046</td>\n",
       "      <td>0.301650</td>\n",
       "    </tr>\n",
       "    <tr>\n",
       "      <th>D</th>\n",
       "      <td>53.770825</td>\n",
       "      <td>58.356176</td>\n",
       "      <td>4.585351</td>\n",
       "    </tr>\n",
       "    <tr>\n",
       "      <th>E</th>\n",
       "      <td>43.715625</td>\n",
       "      <td>46.797050</td>\n",
       "      <td>3.081425</td>\n",
       "    </tr>\n",
       "    <tr>\n",
       "      <th>F</th>\n",
       "      <td>11.340000</td>\n",
       "      <td>23.294787</td>\n",
       "      <td>11.954787</td>\n",
       "    </tr>\n",
       "    <tr>\n",
       "      <th>G</th>\n",
       "      <td>10.462500</td>\n",
       "      <td>16.700000</td>\n",
       "      <td>6.237500</td>\n",
       "    </tr>\n",
       "    <tr>\n",
       "      <th>T</th>\n",
       "      <td>35.500000</td>\n",
       "      <td>NaN</td>\n",
       "      <td>NaN</td>\n",
       "    </tr>\n",
       "  </tbody>\n",
       "</table>\n",
       "</div>"
      ],
      "text/plain": [
       "Survived              0           1   fare_dif\n",
       "cabin_letter                                  \n",
       "A             35.496350   44.341071   8.844721\n",
       "B             57.137500  132.832026  75.694526\n",
       "C             99.972396  100.274046   0.301650\n",
       "D             53.770825   58.356176   4.585351\n",
       "E             43.715625   46.797050   3.081425\n",
       "F             11.340000   23.294787  11.954787\n",
       "G             10.462500   16.700000   6.237500\n",
       "T             35.500000         NaN        NaN"
      ]
     },
     "execution_count": 120,
     "metadata": {},
     "output_type": "execute_result"
    }
   ],
   "source": [
    "cabin_favg1 = df.groupby(['cabin_letter' , 'Survived'])['Fare'].mean().unstack()\n",
    "cabin_favg1['fare_dif'] = cabin_favg1[1] - cabin_favg1[0]\n",
    "print('จะเห็นได้ว่าค่าเฉลี่ยราคาตั๋วของผู้รอดชีวิตจะมีราคาที่มากกว่า')\n",
    "cabin_favg1"
   ]
  },
  {
   "cell_type": "markdown",
   "id": "d88f552b-3d5d-45ed-b821-e27655e25115",
   "metadata": {
    "id": "d88f552b-3d5d-45ed-b821-e27655e25115"
   },
   "source": [
    "6. ในแต่ละอักษร cabin มีจำนวนผู้โดยสารแยกตาม Pclass อย่างละกี่คน"
   ]
  },
  {
   "cell_type": "code",
   "execution_count": 121,
   "id": "be145608-4da3-4dac-8ca1-35ef78518366",
   "metadata": {
    "id": "be145608-4da3-4dac-8ca1-35ef78518366"
   },
   "outputs": [
    {
     "data": {
      "text/html": [
       "<div>\n",
       "<style scoped>\n",
       "    .dataframe tbody tr th:only-of-type {\n",
       "        vertical-align: middle;\n",
       "    }\n",
       "\n",
       "    .dataframe tbody tr th {\n",
       "        vertical-align: top;\n",
       "    }\n",
       "\n",
       "    .dataframe thead th {\n",
       "        text-align: right;\n",
       "    }\n",
       "</style>\n",
       "<table border=\"1\" class=\"dataframe\">\n",
       "  <thead>\n",
       "    <tr style=\"text-align: right;\">\n",
       "      <th>Pclass</th>\n",
       "      <th>1</th>\n",
       "      <th>2</th>\n",
       "      <th>3</th>\n",
       "    </tr>\n",
       "    <tr>\n",
       "      <th>cabin_letter</th>\n",
       "      <th></th>\n",
       "      <th></th>\n",
       "      <th></th>\n",
       "    </tr>\n",
       "  </thead>\n",
       "  <tbody>\n",
       "    <tr>\n",
       "      <th>A</th>\n",
       "      <td>15</td>\n",
       "      <td>0</td>\n",
       "      <td>0</td>\n",
       "    </tr>\n",
       "    <tr>\n",
       "      <th>B</th>\n",
       "      <td>47</td>\n",
       "      <td>0</td>\n",
       "      <td>0</td>\n",
       "    </tr>\n",
       "    <tr>\n",
       "      <th>C</th>\n",
       "      <td>59</td>\n",
       "      <td>0</td>\n",
       "      <td>0</td>\n",
       "    </tr>\n",
       "    <tr>\n",
       "      <th>D</th>\n",
       "      <td>29</td>\n",
       "      <td>4</td>\n",
       "      <td>0</td>\n",
       "    </tr>\n",
       "    <tr>\n",
       "      <th>E</th>\n",
       "      <td>25</td>\n",
       "      <td>4</td>\n",
       "      <td>3</td>\n",
       "    </tr>\n",
       "    <tr>\n",
       "      <th>F</th>\n",
       "      <td>0</td>\n",
       "      <td>8</td>\n",
       "      <td>5</td>\n",
       "    </tr>\n",
       "    <tr>\n",
       "      <th>G</th>\n",
       "      <td>0</td>\n",
       "      <td>0</td>\n",
       "      <td>4</td>\n",
       "    </tr>\n",
       "    <tr>\n",
       "      <th>T</th>\n",
       "      <td>1</td>\n",
       "      <td>0</td>\n",
       "      <td>0</td>\n",
       "    </tr>\n",
       "  </tbody>\n",
       "</table>\n",
       "</div>"
      ],
      "text/plain": [
       "Pclass         1  2  3\n",
       "cabin_letter          \n",
       "A             15  0  0\n",
       "B             47  0  0\n",
       "C             59  0  0\n",
       "D             29  4  0\n",
       "E             25  4  3\n",
       "F              0  8  5\n",
       "G              0  0  4\n",
       "T              1  0  0"
      ]
     },
     "execution_count": 121,
     "metadata": {},
     "output_type": "execute_result"
    }
   ],
   "source": [
    "sur = pd.crosstab(df['cabin_letter'], df['Pclass'])\n",
    "sur"
   ]
  }
 ],
 "metadata": {
  "colab": {
   "provenance": []
  },
  "kernelspec": {
   "display_name": "Python 3",
   "language": "python",
   "name": "python3"
  },
  "language_info": {
   "codemirror_mode": {
    "name": "ipython",
    "version": 3
   },
   "file_extension": ".py",
   "mimetype": "text/x-python",
   "name": "python",
   "nbconvert_exporter": "python",
   "pygments_lexer": "ipython3",
   "version": "3.9.10"
  }
 },
 "nbformat": 4,
 "nbformat_minor": 5
}
