{
 "cells": [
  {
   "cell_type": "markdown",
   "metadata": {
    "id": "U3ArbMi8JHGD"
   },
   "source": [
    "# แบบฝึกหัด 5"
   ]
  },
  {
   "cell_type": "markdown",
   "metadata": {
    "id": "t9RQYuu-JUwP"
   },
   "source": [
    "---"
   ]
  },
  {
   "cell_type": "code",
   "execution_count": 3,
   "metadata": {
    "id": "5LcuhePsgM1w"
   },
   "outputs": [],
   "source": [
    "import numpy as np\n",
    "from scipy import stats\n",
    "from statsmodels.stats.weightstats import ztest"
   ]
  },
  {
   "cell_type": "markdown",
   "metadata": {
    "id": "ag3TNOoapF2I"
   },
   "source": [
    "5.1 จากการเก็บข้อมูลของบูธร้านค้าร้านหนึ่งในงานเกษตรแฟร์โดยสุ่มตัวอย่างลูกค้ามาทั้งหมด 200 คน พบว่ามีอายุเฉลี่ย 42.8 ปี ส่วนเบี่ยงเบนมาตราฐาน 6.89 ปี ผู้ประกอบการร้านแห่งนี้จึงตั้งสมมุติฐานว่า ลูกค้าของทางร้านมีอายุเฉลี่ยสูงกว่า 40 ปี ที่ระดับนัยสำคัญ 0.01 สมมุติฐานนี้ถูกต้องหรือไม่ หากกำหนดให้การแจกแจงของอายุเป็นแบบปกติ  "
   ]
  },
  {
   "cell_type": "code",
   "execution_count": 12,
   "metadata": {
    "id": "eGMlvK2UXrtE"
   },
   "outputs": [
    {
     "name": "stdout",
     "output_type": "stream",
     "text": [
      "Reject H0 -> ค่าเฉลี่ยอายุของลูกค้าสูงกว่า 40 ปีอย่างมีนัยสำคัญ\n"
     ]
    }
   ],
   "source": [
    "#แสดงวิธีทำ\n",
    "x_bar = 42.8  \n",
    "s = 6.89      \n",
    "n = 200       \n",
    "mu_0 = 40     \n",
    "alpha = 0.01\n",
    "SE = s / np.sqrt(n)\n",
    "z = (x_bar - mu_0) / SE\n",
    "z_crit = stats.norm.ppf(1 - alpha)\n",
    "if z > z_crit:\n",
    "    print(\"Reject H0 -> ค่าเฉลี่ยอายุของลูกค้าสูงกว่า 40 ปีอย่างมีนัยสำคัญ\")\n",
    "else:\n",
    "    print(\"Fail to reject H0 -> ยังสรุปไม่ได้ว่าค่าเฉลี่ยอายุของลูกค้าสูงกว่า 40 ปี\")"
   ]
  },
  {
   "cell_type": "markdown",
   "metadata": {
    "id": "IzcoD0hL8AQB"
   },
   "source": [
    "###   "
   ]
  },
  {
   "cell_type": "markdown",
   "metadata": {
    "id": "QIrBZzg28EEi"
   },
   "source": [
    "5.2 สุ่มตัวอย่างผลิตภัณฑ์ซักล้างยี่ห้อหนึ่งมาจำนวน 8 ชิ้นเพื่อวัดปริมาณสารพิษ พบว่าได้ปริมาณดังนี้ (10<sup>6</sup>ppm) 15, 8, 10, 13, 6, 16, 11, 18 จงทดสอบว่าปริมาณสารพิษของผลิตภัณฑ์ซักล้างยี่ห้อนี้มากกว่าหรือเท่ากับ (≥) 18x10<sup>6</sup>ppm ที่ระดับนัยสำคัญ 0.05 หรือไม่ หากกำหนดให้ปริมาณสารพิษชนิดนี้มีการแจกแจงแบบปกติ      "
   ]
  },
  {
   "cell_type": "code",
   "execution_count": 14,
   "metadata": {
    "id": "z7-tVncsuMB2"
   },
   "outputs": [
    {
     "name": "stdout",
     "output_type": "stream",
     "text": [
      "Reject H0: ค่าเฉลี่ยปริมาณสารพิษน้อยกว่า 18 อย่างมีนัยสำคัญ\n"
     ]
    }
   ],
   "source": [
    "#แสดงวิธีทำ\n",
    "data = np.array([15, 8, 10, 13, 6, 16, 11, 18], dtype=float)\n",
    "mu_0 = 18.0 \n",
    "alpha = 0.05\n",
    "x_bar = np.mean(data)\n",
    "s = np.std(data, ddof=1)  \n",
    "n = len(data)\n",
    "SE = s / np.sqrt(n)\n",
    "t_stat = (x_bar - mu_0) / SE\n",
    "df = n - 1\n",
    "t_crit = stats.t.ppf(alpha, df)  \n",
    "\n",
    "if t_stat < t_crit:\n",
    "    print(\"Reject H0: ค่าเฉลี่ยปริมาณสารพิษน้อยกว่า 18 อย่างมีนัยสำคัญ\")\n",
    "else:\n",
    "    print(\"Fail to Reject H0: ยังสรุปไม่ได้ว่าค่าเฉลี่ยน้อยกว่า 18\")"
   ]
  },
  {
   "cell_type": "markdown",
   "metadata": {
    "id": "NfuOc0DEX-mV"
   },
   "source": [
    "###   "
   ]
  },
  {
   "cell_type": "markdown",
   "metadata": {
    "id": "LRa6VC8dX-mc"
   },
   "source": [
    "5.3 ทำการ ping 158.108.216.5 จำนวน 10 ครั้ง ได้ระยะเวลาในหน่วย ms (milliseconds) ดังนี้ 28.2, 26.5, 30.7, 24.1, 25.3, 29.2, 21.6, 26.7, 23.4, 27.3 จงทดสอบว่าระยะเวลาที่ใช้ในการ ping โดยเฉลี่ยมีค่าเท่ากับ 26 ms หรือไม่ที่ระดับนัยสำคัญ 0.05 หากทราบมาว่าระยะเวลาที่ใช้ในการ ping มีการแจกแจงแบบปกติ"
   ]
  },
  {
   "cell_type": "code",
   "execution_count": 15,
   "metadata": {
    "id": "4SyUkxgouNU4"
   },
   "outputs": [
    {
     "name": "stdout",
     "output_type": "stream",
     "text": [
      "Fail to Reject H0 => ยังไม่มีหลักฐานเพียงพอว่าต่างจาก 26 ms\n"
     ]
    }
   ],
   "source": [
    "#แสดงวิธีทำ\n",
    "data = np.array([28.2, 26.5, 30.7, 24.1, 25.3, 29.2, 21.6, 26.7, 23.4, 27.3])\n",
    "mu_0 = 26.0 \n",
    "alpha = 0.05\n",
    "x_bar = np.mean(data)\n",
    "s = np.std(data, ddof=1)\n",
    "n = len(data)\n",
    "SE = s / np.sqrt(n)\n",
    "t_stat = (x_bar - mu_0) / SE\n",
    "df = n - 1\n",
    "t_crit = stats.t.ppf(1 - alpha/2, df) \n",
    "if abs(t_stat) > t_crit:\n",
    "    print(\"Reject H0 => เวลาเฉลี่ย ping แตกต่างจาก 26 ms อย่างมีนัยสำคัญ\")\n",
    "else:\n",
    "    print(\"Fail to Reject H0 => ยังไม่มีหลักฐานเพียงพอว่าต่างจาก 26 ms\")\n"
   ]
  },
  {
   "cell_type": "markdown",
   "metadata": {
    "id": "2L30gP1ae_Du"
   },
   "source": [
    "###   "
   ]
  },
  {
   "cell_type": "markdown",
   "metadata": {
    "id": "jb1NBlWke_D2"
   },
   "source": [
    "5.4 ห้องปฏิบัติการ 2 แห่ง สุ่มตรวจสอบปริมาณนิโคตินในบุหรี่ยี่ห้อหนึ่งด้ผลการวิเคราะห์ปริมาณนิโคติน (มิลลิกรัม) ดังนี้  \n",
    "ห้องปฏิบัติการ1: 56, 37, 61, 56, 65, 41, 63, 50, 42   \n",
    "ห้องปฏิบัติการ2: 46, 25, 46, 64, 34, 56   \n",
    "จงทดสอบสมมติฐานว่าปริมาณนิโคตินที่วิเคราะห์ได้โดยห้องปฏิบัติการสองแห่งนี้ไม่แตกต่างกัน\n",
    "ที่ระดับนัยสำคัญ 0.10 หากกำหนดให้ปริมาณนิโคตินในบุหรี่ที่วิเคราะห์ได้โดยห้องปฏิบัติการทั้งสองมีการ\n",
    "แจกแจงแบบปกติที่มีค่าความแปรปรวนเท่ากัน  "
   ]
  },
  {
   "cell_type": "code",
   "execution_count": 17,
   "metadata": {
    "id": "r4oVfpk9uTVG"
   },
   "outputs": [
    {
     "name": "stdout",
     "output_type": "stream",
     "text": [
      "Fail to Reject H0 => ไม่พบบ่งชี้ว่าค่าเฉลี่ยทั้งสองกลุ่มแตกต่างกัน\n"
     ]
    }
   ],
   "source": [
    "\n",
    "lab1 = np.array([56, 37, 61, 56, 65, 41, 63, 50, 42], dtype=float)\n",
    "lab2 = np.array([46, 25, 46, 64, 34, 56], dtype=float)\n",
    "alpha = 0.10  \n",
    "t_stat, p_value = stats.ttest_ind(lab1, lab2, equal_var=True)\n",
    "\n",
    "if p_value < alpha:\n",
    "    print(\"Reject H0 => ค่าเฉลี่ยของทั้งสองกลุ่มแตกต่างกันอย่างมีนัยสำคัญ\")\n",
    "else:\n",
    "    print(\"Fail to Reject H0 => ไม่พบบ่งชี้ว่าค่าเฉลี่ยทั้งสองกลุ่มแตกต่างกัน\")"
   ]
  },
  {
   "cell_type": "markdown",
   "metadata": {
    "id": "HV7pSFLVjP8J"
   },
   "source": [
    "###   "
   ]
  },
  {
   "cell_type": "markdown",
   "metadata": {
    "id": "9IshON3wjP8J"
   },
   "source": [
    "5.5 เครื่องใช้พลาสติกชนิดหนึ่ง ผลิตโดยกระบวนการผลิตแตกต่างกัน 2 วิธี คือ A และ B ต้องการตรวจสอบความ\n",
    "เหนียวของพลาสติกที่ผลิตได้โดยทั้งสองกระบวนการนี้ว่าแตกต่างกันหรือไม่ จึงสุ่มตัวอย่าง\n",
    "ผลิตภัณฑ์จากกระบวนการผลิต A มา 30 ชิ้น ทดสอบและคำนวณค่าความเหนียวเฉลี่ยได้เป็น\n",
    "28.3 ส่วนเบี่ยงเบนมาตรฐาน 3.3 เมื่อสุ่มผลิตภัณฑ์จากกระบวนการผลิต B 40 ชิ้น คำนวณค่าความเหนียวเฉลี่ยได้เป็น 26.7 ส่วนเบี่ยงเบนมาตรฐานเป็น 4.9 หากการทดสอบโดยใช้ระดับนัยสำคัญ 0.05  "
   ]
  },
  {
   "cell_type": "code",
   "execution_count": 20,
   "metadata": {
    "id": "HA_rpEPNuUdd"
   },
   "outputs": [
    {
     "name": "stdout",
     "output_type": "stream",
     "text": [
      "Fail to Reject H0 -> ไม่มีหลักฐานเพียงพอว่าความเหนียวเฉลี่ยต่างกัน\n"
     ]
    }
   ],
   "source": [
    "meanA, stdA, nA = 28.3, 3.3, 30\n",
    "meanB, stdB, nB = 26.7, 4.9, 40\n",
    "alpha = 0.05  \n",
    "\n",
    "t_stat_welch, p_value_welch = stats.ttest_ind_from_stats(\n",
    "    meanA, stdA, nA,\n",
    "    meanB, stdB, nB,\n",
    "    equal_var=False \n",
    ")\n",
    "\n",
    "if p_value_welch < alpha:\n",
    "    print(\"Reject H0 -> ความเหนียวเฉลี่ยระหว่าง A กับ B แตกต่างอย่างมีนัยสำคัญ\")\n",
    "else:\n",
    "    print(\"Fail to Reject H0 -> ไม่มีหลักฐานเพียงพอว่าความเหนียวเฉลี่ยต่างกัน\")\n",
    "\n"
   ]
  }
 ],
 "metadata": {
  "colab": {
   "authorship_tag": "ABX9TyPRAOT6LtaW5SjkKlgaIzv1",
   "provenance": []
  },
  "kernelspec": {
   "display_name": "Python 3",
   "name": "python3"
  },
  "language_info": {
   "codemirror_mode": {
    "name": "ipython",
    "version": 3
   },
   "file_extension": ".py",
   "mimetype": "text/x-python",
   "name": "python",
   "nbconvert_exporter": "python",
   "pygments_lexer": "ipython3",
   "version": "3.9.10"
  }
 },
 "nbformat": 4,
 "nbformat_minor": 0
}
