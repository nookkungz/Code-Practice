{
 "cells": [
  {
   "cell_type": "markdown",
   "metadata": {
    "id": "U3ArbMi8JHGD"
   },
   "source": [
    "# แบบฝึกหัด 6"
   ]
  },
  {
   "cell_type": "markdown",
   "metadata": {
    "id": "t9RQYuu-JUwP"
   },
   "source": [
    "---"
   ]
  },
  {
   "cell_type": "code",
   "execution_count": 12,
   "metadata": {
    "id": "YY-EeJDrQn80"
   },
   "outputs": [],
   "source": [
    "import numpy as np\n",
    "import pandas as pd\n",
    "from scipy import stats\n",
    "from statsmodels.stats.proportion import proportions_ztest"
   ]
  },
  {
   "cell_type": "markdown",
   "metadata": {
    "id": "QHjwP-tnOuU5"
   },
   "source": [
    "6.1 ร้านค้าออนไลน์ขายเมล็ดพืชหายากชนิดหนึ่ง อ้างว่าเมล็ดที่ขายมีเปอร์เซ็นต์การงอกสูงกว่า 90% จากการทดลองของลูกค้ารายหนึ่งได้สั่งซื้อเมล็ดมาทั้งหมด 100 เมล็ดและพบว่ามี 14 เมล็ดที่ไม่งอก จงทดสอบคำกล่าวอ้างของร้านค้าว่าเป็นจริงหรือไม่ที่ระดับนัยสำคัญ 0.05 หากถือว่าอัตราการงอกของเมล็ดพืชดังกล่าวมีการแจกแจงแบบปกติ"
   ]
  },
  {
   "cell_type": "code",
   "execution_count": 13,
   "metadata": {
    "id": "eGMlvK2UXrtE"
   },
   "outputs": [
    {
     "name": "stdout",
     "output_type": "stream",
     "text": [
      "z-statistic = -1.1528\n",
      "p-value = 0.8755\n",
      "Fail to reject H0 → ยังไม่มีหลักฐานว่า p > 0.90\n"
     ]
    }
   ],
   "source": [
    "#แสดงสมมติฐาน พร้อมวิธีหาค่าcal ค่าp-value และการสรุปผล\n",
    "# สมมติฐาน\n",
    "# H0: p <= 0.90\n",
    "# H1: p > 0.90\n",
    "count = 86\n",
    "nobs = 100\n",
    "p0 = 0.90\n",
    "\n",
    "z_stat, p_value = proportions_ztest(count, nobs, value=p0, alternative='larger')\n",
    "\n",
    "print(f\"z-statistic = {z_stat:.4f}\")\n",
    "print(f\"p-value = {p_value:.4f}\")\n",
    "\n",
    "alpha = 0.05\n",
    "if p_value < alpha:\n",
    "    print(\"Reject H0 → มีหลักฐานว่า p > 0.90 อย่างมีนัยสำคัญทางสถิติ\")\n",
    "else:\n",
    "    print(\"Fail to reject H0 → ยังไม่มีหลักฐานว่า p > 0.90\")"
   ]
  },
  {
   "cell_type": "markdown",
   "metadata": {
    "id": "Tl6eIfL9R7Qx"
   },
   "source": [
    "6.2 สืบเนื่องจากข้อ 8.1 พบว่ามีร้านค้าออนไลน์อีกเจ้าซึ่งขายเมล็ดพืชหายากชนิดเดียวกันนี้ อ้างว่าเมล็ดที่ขายมีเปอร์เซนต์การงอกสูงกว่า 95% จึงสั่งซื้อมา 50 เมล็ดพบว่ามี 4 เมล็ดที่ไม่งอก จงทดสอบว่าร้านค้านี้ขายเมล็ดซึ่งมีเปอร์เซ็นต์การงอกสูงกว่าร้านค้าแรกมากกว่าหรือเท่ากับ 5% หรือไม่ ที่ระดับนัยสำคัญ 0.05"
   ]
  },
  {
   "cell_type": "code",
   "execution_count": 14,
   "metadata": {
    "id": "IMLPHscAgi5K"
   },
   "outputs": [
    {
     "name": "stdout",
     "output_type": "stream",
     "text": [
      "z-statistic = 0.1777\n",
      "p-value     = 0.4295\n",
      "Fail to reject H0 ⇒ ยังไม่มีหลักฐานทางสถิติว่าความต่าง ≥ 5%\n"
     ]
    }
   ],
   "source": [
    "#แสดงสมมติฐาน พร้อมวิธีหาค่าcal ค่าp-value และการสรุปผล\n",
    "# สมมติฐาน\n",
    "#H0: p2 - p1 <= 0.05\n",
    "#H1: p2 - p1 > 0.05\n",
    "count = np.array([46, 86])\n",
    "nobs  = np.array([50, 100])\n",
    "stat, p_value = proportions_ztest(count, nobs, value=0.05, alternative='larger')\n",
    "\n",
    "print(f\"z-statistic = {stat:.4f}\")\n",
    "print(f\"p-value     = {p_value:.4f}\")\n",
    "\n",
    "alpha = 0.05\n",
    "if p_value < alpha:\n",
    "    print(\"Reject H0 ⇒ มีหลักฐานว่าร้านสองมีอัตราการงอกสูงกว่าร้านแรกเกิน 5% อย่างมีนัยสำคัญ\")\n",
    "else:\n",
    "    print(\"Fail to reject H0 ⇒ ยังไม่มีหลักฐานทางสถิติว่าความต่าง ≥ 5%\")"
   ]
  },
  {
   "cell_type": "markdown",
   "metadata": {
    "id": "JAxlkGQCXR2L"
   },
   "source": [
    "6.3 จากชุดข้อมูล \"titanic.csv\" จงทดสอบว่าส่วนเบี่ยงเบนมาตราฐานข้อมูลอายุผู้โดยสารมีค่าน้อยกว่า 10 ปีหรือไม่ที่ระดับความเชื่อมั่น 99% หากกำหนดให้ข้อมูลอายุผู้โดยสารมีการแจกแจงแบบปกติ"
   ]
  },
  {
   "cell_type": "code",
   "execution_count": 15,
   "metadata": {
    "id": "eE0UT708g4d_"
   },
   "outputs": [
    {
     "name": "stdout",
     "output_type": "stream",
     "text": [
      "Chi-square statistic = 1504.5664\n",
      "Degrees of freedom  = 713\n",
      "p-value = 1.0000\n",
      "Fail to reject H0 ⇒ ยังไม่มีหลักฐานว่า σ < 10 ที่ระดับ 0.01\n"
     ]
    }
   ],
   "source": [
    "#แสดงสมมติฐาน พร้อมวิธีหาค่าcal ค่าp-value และการสรุปผล\n",
    "df = pd.read_csv(\"https://raw.githubusercontent.com/ThammakornS/ProgStat/main/dataset/titanic.csv\")\n",
    "\n",
    "df_age = df.dropna(subset=[\"Age\"])\n",
    "ages = df_age[\"Age\"].values\n",
    "\n",
    "n = len(ages)\n",
    "sample_mean = np.mean(ages)\n",
    "sample_std = np.std(ages, ddof=1)\n",
    "sample_var = sample_std**2\n",
    "\n",
    "#สมมติฐาน\n",
    "# H0: sigma^2 >= 100  (sigma >= 10)\n",
    "# H1: sigma^2 < 100   (sigma < 10)\n",
    "\n",
    "sigma0_sq = 100\n",
    "chi2_stat = (n - 1)*sample_var / sigma0_sq\n",
    "df_chi2 = n - 1\n",
    "p_value = stats.chi2.cdf(chi2_stat, df_chi2)\n",
    "alpha = 0.01\n",
    "\n",
    "print(f\"Chi-square statistic = {chi2_stat:.4f}\")\n",
    "print(f\"Degrees of freedom  = {df_chi2}\")\n",
    "print(f\"p-value = {p_value:.4f}\")\n",
    "\n",
    "if p_value < alpha:\n",
    "    print(\"Reject H0 ⇒ มีหลักฐานว่า σ < 10 อย่างมีนัยสำคัญที่ระดับ 0.01\")\n",
    "else:\n",
    "    print(\"Fail to reject H0 ⇒ ยังไม่มีหลักฐานว่า σ < 10 ที่ระดับ 0.01\")"
   ]
  },
  {
   "cell_type": "markdown",
   "metadata": {
    "id": "rZ8GvZovcRmI"
   },
   "source": [
    "6.4 จากข้อ 6.3 จงทดสอบว่ากลุ่มผู้โดยสารชั้น Pclass = 1 มีความแปรปรวนของอายุเท่ากับ กลุ่มผู้โดยสารชั้น Pclass = 2 หรือไม่ที่ระดับนัยสำคัญ 0.05"
   ]
  },
  {
   "cell_type": "code",
   "execution_count": 16,
   "metadata": {
    "id": "ebjm535ag6tE"
   },
   "outputs": [
    {
     "name": "stdout",
     "output_type": "stream",
     "text": [
      "p-value = 0.4593\n",
      "Fail to reject H0 ⇒ ยังไม่มีหลักฐานว่าความแปรปรวนต่างกัน\n"
     ]
    }
   ],
   "source": [
    "#แสดงสมมติฐาน พร้อมวิธีหาค่าcal ค่าp-value และการสรุปผล\n",
    "df = pd.read_csv(\"https://raw.githubusercontent.com/ThammakornS/ProgStat/main/dataset/titanic.csv\")\n",
    "df = df.dropna(subset=[\"Age\"])\n",
    "\n",
    "age_class1 = df[df[\"Pclass\"] == 1][\"Age\"]\n",
    "age_class2 = df[df[\"Pclass\"] == 2][\"Age\"]\n",
    "\n",
    "n1 = len(age_class1)\n",
    "n2 = len(age_class2)\n",
    "\n",
    "s1 = np.std(age_class1, ddof=1)  # std sample ของกลุ่ม 1\n",
    "s2 = np.std(age_class2, ddof=1)  # std sample ของกลุ่ม 2\n",
    "var1 = s1**2\n",
    "var2 = s2**2\n",
    "F = var1 / var2  # โดยสมมุติให้ F >= 1\n",
    "df1 = n1 - 1\n",
    "df2 = n2 - 1\n",
    "\n",
    "if F >= 1:\n",
    "    # ความน่าจะเป็นทางขวา\n",
    "    p_right = 1 - stats.f.cdf(F, df1, df2)\n",
    "    p_value = 2 * p_right\n",
    "else:\n",
    "    # ถ้า F < 1 ต้องกลับด้าน\n",
    "    p_left = stats.f.cdf(F, df1, df2)\n",
    "    p_value = 2 * p_left\n",
    "\n",
    "print(f\"p-value = {p_value:.4f}\")\n",
    "\n",
    "alpha = 0.05\n",
    "if p_value < alpha:\n",
    "    print(\"Reject H0 ⇒ สรุปว่าความแปรปรวนสองกลุ่มไม่เท่ากันอย่างมีนัยสำคัญ\")\n",
    "else:\n",
    "    print(\"Fail to reject H0 ⇒ ยังไม่มีหลักฐานว่าความแปรปรวนต่างกัน\")"
   ]
  }
 ],
 "metadata": {
  "colab": {
   "authorship_tag": "ABX9TyOVhIZRu7v2YJC1oMHbYktS",
   "mount_file_id": "13_V3qsBRcrQoQ1jmKWGvytbMFB2dNZhd",
   "provenance": []
  },
  "kernelspec": {
   "display_name": "Python 3",
   "name": "python3"
  },
  "language_info": {
   "codemirror_mode": {
    "name": "ipython",
    "version": 3
   },
   "file_extension": ".py",
   "mimetype": "text/x-python",
   "name": "python",
   "nbconvert_exporter": "python",
   "pygments_lexer": "ipython3",
   "version": "3.9.10"
  }
 },
 "nbformat": 4,
 "nbformat_minor": 0
}
