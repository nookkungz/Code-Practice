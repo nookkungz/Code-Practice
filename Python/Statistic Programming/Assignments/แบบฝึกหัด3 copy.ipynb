{
 "cells": [
  {
   "cell_type": "markdown",
   "metadata": {
    "id": "U3ArbMi8JHGD"
   },
   "source": []
  },
  {
   "cell_type": "markdown",
   "metadata": {},
   "source": [
    "# แบบฝึกหัด 3"
   ]
  },
  {
   "cell_type": "markdown",
   "metadata": {
    "id": "t9RQYuu-JUwP"
   },
   "source": [
    "---"
   ]
  },
  {
   "cell_type": "code",
   "execution_count": 1,
   "metadata": {
    "id": "5LcuhePsgM1w"
   },
   "outputs": [],
   "source": [
    "import numpy as np\n",
    "import pandas as pd\n",
    "import statistics"
   ]
  },
  {
   "cell_type": "markdown",
   "metadata": {
    "id": "uoKssbJRv2Xu"
   },
   "source": [
    "###  "
   ]
  },
  {
   "cell_type": "markdown",
   "metadata": {
    "id": "O-jANK7-JY2X"
   },
   "source": [
    "3.1 บริษัทให้บริการด้าน IT ครบวงจรแห่งหนึ่งได้เก็บรวบรวมข้อมูลค่าซ่อมบำรุงอุปกรณ์คอมพิวเตอร์แม่ข่ายและจำนวนลูกค้าของบริษัทในปีที่ผ่านมาเป็นดังไฟล์ asm3_1_itcost.csv  \n",
    "จงแสดงวิธีหาค่ามัธยฐานและฐานนิยมของค่าซ่อมบำรุงอุปกรณ์คอมพิวเตอร์แม่ข่าย"
   ]
  },
  {
   "cell_type": "code",
   "execution_count": 2,
   "metadata": {
    "colab": {
     "base_uri": "https://localhost:8080/",
     "height": 206
    },
    "executionInfo": {
     "elapsed": 364,
     "status": "ok",
     "timestamp": 1702901672083,
     "user": {
      "displayName": "Thammakorn SAETHANG",
      "userId": "08182570455347153646"
     },
     "user_tz": -420
    },
    "id": "HVfgMVlcI_hm",
    "outputId": "a2676941-9a96-4bc5-f153-75a0da03a182"
   },
   "outputs": [
    {
     "data": {
      "text/html": [
       "<div>\n",
       "<style scoped>\n",
       "    .dataframe tbody tr th:only-of-type {\n",
       "        vertical-align: middle;\n",
       "    }\n",
       "\n",
       "    .dataframe tbody tr th {\n",
       "        vertical-align: top;\n",
       "    }\n",
       "\n",
       "    .dataframe thead th {\n",
       "        text-align: right;\n",
       "    }\n",
       "</style>\n",
       "<table border=\"1\" class=\"dataframe\">\n",
       "  <thead>\n",
       "    <tr style=\"text-align: right;\">\n",
       "      <th></th>\n",
       "      <th>maintenance_cost</th>\n",
       "      <th>num_customer</th>\n",
       "    </tr>\n",
       "  </thead>\n",
       "  <tbody>\n",
       "    <tr>\n",
       "      <th>0</th>\n",
       "      <td>&lt;=5000</td>\n",
       "      <td>33</td>\n",
       "    </tr>\n",
       "    <tr>\n",
       "      <th>1</th>\n",
       "      <td>5001-10000</td>\n",
       "      <td>41</td>\n",
       "    </tr>\n",
       "    <tr>\n",
       "      <th>2</th>\n",
       "      <td>10001-15000</td>\n",
       "      <td>20</td>\n",
       "    </tr>\n",
       "    <tr>\n",
       "      <th>3</th>\n",
       "      <td>15001-20000</td>\n",
       "      <td>17</td>\n",
       "    </tr>\n",
       "    <tr>\n",
       "      <th>4</th>\n",
       "      <td>20001-25000</td>\n",
       "      <td>10</td>\n",
       "    </tr>\n",
       "    <tr>\n",
       "      <th>5</th>\n",
       "      <td>25001-30000</td>\n",
       "      <td>16</td>\n",
       "    </tr>\n",
       "    <tr>\n",
       "      <th>6</th>\n",
       "      <td>&gt;=30001</td>\n",
       "      <td>5</td>\n",
       "    </tr>\n",
       "  </tbody>\n",
       "</table>\n",
       "</div>"
      ],
      "text/plain": [
       "  maintenance_cost  num_customer\n",
       "0           <=5000            33\n",
       "1       5001-10000            41\n",
       "2      10001-15000            20\n",
       "3      15001-20000            17\n",
       "4      20001-25000            10\n",
       "5      25001-30000            16\n",
       "6          >=30001             5"
      ]
     },
     "execution_count": 2,
     "metadata": {},
     "output_type": "execute_result"
    }
   ],
   "source": [
    "df_it = pd.read_csv('https://raw.githubusercontent.com/ThammakornS/ProgStat/main/dataset/asm3_1_itcost.csv')\n",
    "df_it"
   ]
  },
  {
   "cell_type": "code",
   "execution_count": 8,
   "metadata": {
    "id": "7TwxeuVW96Ma"
   },
   "outputs": [
    {
     "name": "stdout",
     "output_type": "stream",
     "text": [
      "9634.646341463415\n"
     ]
    },
    {
     "data": {
      "text/plain": [
       "6379.810344827586"
      ]
     },
     "execution_count": 8,
     "metadata": {},
     "output_type": "execute_result"
    }
   ],
   "source": [
    "df_it['maintenance_cost'] = df_it['maintenance_cost'].replace({'<=5000':'0-5000','>=30001':'30001-35000'})\n",
    "boundary = df_it['maintenance_cost'].str.split('-',expand=True).astype(int)\n",
    "med_pos = sum(df_it['num_customer'])/2\n",
    "df_it['ferq_num_customer'] = df_it['num_customer'].cumsum()\n",
    "e = df_it[df_it['ferq_num_customer'] >= med_pos].index[0]\n",
    "Le = boundary[0][e] - 0.5\n",
    "fe = df_it['num_customer'][e]\n",
    "I = np.ceil(15000-10000)\n",
    "meddian = Le + ((med_pos - df_it['ferq_num_customer'][e-1])/fe)*I\n",
    "print(meddian)\n",
    "\n",
    "d_p = abs(df_it['num_customer'][e] - df_it['num_customer'][e-1])\n",
    "d_n = abs(df_it['num_customer'][e] - df_it['num_customer'][e+1])\n",
    "\n",
    "mode = Le + (d_p/(d_p+d_n))*I\n",
    "mode"
   ]
  },
  {
   "cell_type": "markdown",
   "metadata": {
    "id": "JTDVG3rksTto"
   },
   "source": [
    "3.2 สุ่มตัวอย่างนักศึกษามาจำนวนหนึ่ง พบว่าคะแนนสอบวิชาสถิติ เป็นดังตาราง 'asm3_2_score.csv' จงหาค่า"
   ]
  },
  {
   "cell_type": "markdown",
   "metadata": {
    "id": "tGs8uJzvy7AY"
   },
   "source": [
    "**3.2.1 ค่าเฉลี่ย**"
   ]
  },
  {
   "cell_type": "code",
   "execution_count": 10,
   "metadata": {
    "colab": {
     "base_uri": "https://localhost:8080/",
     "height": 206
    },
    "executionInfo": {
     "elapsed": 393,
     "status": "ok",
     "timestamp": 1702901704410,
     "user": {
      "displayName": "Thammakorn SAETHANG",
      "userId": "08182570455347153646"
     },
     "user_tz": -420
    },
    "id": "xGfGFa4kvtyH",
    "outputId": "8b46bf09-ece7-4ca2-f464-c4ca3456baef"
   },
   "outputs": [
    {
     "data": {
      "text/html": [
       "<div>\n",
       "<style scoped>\n",
       "    .dataframe tbody tr th:only-of-type {\n",
       "        vertical-align: middle;\n",
       "    }\n",
       "\n",
       "    .dataframe tbody tr th {\n",
       "        vertical-align: top;\n",
       "    }\n",
       "\n",
       "    .dataframe thead th {\n",
       "        text-align: right;\n",
       "    }\n",
       "</style>\n",
       "<table border=\"1\" class=\"dataframe\">\n",
       "  <thead>\n",
       "    <tr style=\"text-align: right;\">\n",
       "      <th></th>\n",
       "      <th>score</th>\n",
       "      <th>num_student</th>\n",
       "    </tr>\n",
       "  </thead>\n",
       "  <tbody>\n",
       "    <tr>\n",
       "      <th>0</th>\n",
       "      <td>11-15</td>\n",
       "      <td>15</td>\n",
       "    </tr>\n",
       "    <tr>\n",
       "      <th>1</th>\n",
       "      <td>16-20</td>\n",
       "      <td>14</td>\n",
       "    </tr>\n",
       "    <tr>\n",
       "      <th>2</th>\n",
       "      <td>21-25</td>\n",
       "      <td>20</td>\n",
       "    </tr>\n",
       "    <tr>\n",
       "      <th>3</th>\n",
       "      <td>26-30</td>\n",
       "      <td>18</td>\n",
       "    </tr>\n",
       "    <tr>\n",
       "      <th>4</th>\n",
       "      <td>31-35</td>\n",
       "      <td>16</td>\n",
       "    </tr>\n",
       "  </tbody>\n",
       "</table>\n",
       "</div>"
      ],
      "text/plain": [
       "   score  num_student\n",
       "0  11-15           15\n",
       "1  16-20           14\n",
       "2  21-25           20\n",
       "3  26-30           18\n",
       "4  31-35           16"
      ]
     },
     "execution_count": 10,
     "metadata": {},
     "output_type": "execute_result"
    }
   ],
   "source": [
    "df_score = pd.read_csv('https://raw.githubusercontent.com/ThammakornS/ProgStat/main/dataset/asm3_2_score.csv')\n",
    "df_score.head()"
   ]
  },
  {
   "cell_type": "code",
   "execution_count": 12,
   "metadata": {
    "id": "pDFVQTNzykLc"
   },
   "outputs": [
    {
     "data": {
      "text/plain": [
       "25.85"
      ]
     },
     "execution_count": 12,
     "metadata": {},
     "output_type": "execute_result"
    }
   ],
   "source": [
    "#your code\n",
    "boundary = df_score['score'].str.split('-',expand=True).astype(int)\n",
    "df_score[\"Midvalue\"] = (boundary[0]+boundary[1])/2\n",
    "mean = sum(df_score[\"Midvalue\"]*df_score['num_student'])/sum(df_score['num_student'])\n",
    "mean\n"
   ]
  },
  {
   "cell_type": "markdown",
   "metadata": {
    "id": "HyMa-rkR1ctY"
   },
   "source": [
    "**3.2.2 ค่ามัธยฐาน**"
   ]
  },
  {
   "cell_type": "code",
   "execution_count": 7,
   "metadata": {
    "id": "nEOGj6cF-huH"
   },
   "outputs": [
    {
     "data": {
      "text/plain": [
       "25.77777777777778"
      ]
     },
     "execution_count": 7,
     "metadata": {},
     "output_type": "execute_result"
    }
   ],
   "source": [
    "#your code\n"
   ]
  },
  {
   "cell_type": "markdown",
   "metadata": {
    "id": "zlLBVZ0HcXUZ"
   },
   "source": [
    "**3.2.3 ค่าฐานนิยม**"
   ]
  },
  {
   "cell_type": "code",
   "execution_count": 8,
   "metadata": {
    "id": "lNYzGH_g-mQT"
   },
   "outputs": [
    {
     "data": {
      "text/plain": [
       "29.25"
      ]
     },
     "execution_count": 8,
     "metadata": {},
     "output_type": "execute_result"
    }
   ],
   "source": [
    "#your code\n"
   ]
  },
  {
   "cell_type": "markdown",
   "metadata": {
    "id": "ONwLjc7wgtn4"
   },
   "source": [
    "**3.2.4 Q<sub>1</sub> และ Q<sub>3</sub>**"
   ]
  },
  {
   "cell_type": "code",
   "execution_count": 35,
   "metadata": {
    "id": "vRq7lL88-xAP"
   },
   "outputs": [
    {
     "name": "stdout",
     "output_type": "stream",
     "text": [
      "Q3 = 33.14705882352941\n",
      "Q1 = 19.071428571428573\n"
     ]
    }
   ],
   "source": [
    "#your code\n"
   ]
  },
  {
   "cell_type": "markdown",
   "metadata": {
    "id": "eauxI2MaguGC"
   },
   "source": [
    "**3.2.5 D<sub>7</sub>**"
   ]
  },
  {
   "cell_type": "code",
   "execution_count": 27,
   "metadata": {
    "id": "IzmNQl-t-3BZ"
   },
   "outputs": [
    {
     "data": {
      "text/plain": [
       "31.333333333333336"
      ]
     },
     "execution_count": 27,
     "metadata": {},
     "output_type": "execute_result"
    }
   ],
   "source": [
    "#your code\n"
   ]
  },
  {
   "cell_type": "markdown",
   "metadata": {
    "id": "ULdnf-dHguZj"
   },
   "source": [
    "**3.2.6 P<sub>75</sub>**"
   ]
  },
  {
   "cell_type": "code",
   "execution_count": 28,
   "metadata": {
    "id": "XkSuR48b-56W"
   },
   "outputs": [
    {
     "data": {
      "text/plain": [
       "32.72222222222222"
      ]
     },
     "execution_count": 28,
     "metadata": {},
     "output_type": "execute_result"
    }
   ],
   "source": [
    "#your code\n"
   ]
  },
  {
   "cell_type": "code",
   "execution_count": 9,
   "metadata": {},
   "outputs": [
    {
     "data": {
      "text/html": [
       "<div>\n",
       "<style scoped>\n",
       "    .dataframe tbody tr th:only-of-type {\n",
       "        vertical-align: middle;\n",
       "    }\n",
       "\n",
       "    .dataframe tbody tr th {\n",
       "        vertical-align: top;\n",
       "    }\n",
       "\n",
       "    .dataframe thead th {\n",
       "        text-align: right;\n",
       "    }\n",
       "</style>\n",
       "<table border=\"1\" class=\"dataframe\">\n",
       "  <thead>\n",
       "    <tr style=\"text-align: right;\">\n",
       "      <th></th>\n",
       "      <th>score</th>\n",
       "      <th>num_student</th>\n",
       "      <th>midvalue</th>\n",
       "      <th>fx</th>\n",
       "      <th>sc_from</th>\n",
       "      <th>sc_to</th>\n",
       "      <th>num_student_cum</th>\n",
       "    </tr>\n",
       "  </thead>\n",
       "  <tbody>\n",
       "    <tr>\n",
       "      <th>0</th>\n",
       "      <td>11-15</td>\n",
       "      <td>15</td>\n",
       "      <td>13.0</td>\n",
       "      <td>195.0</td>\n",
       "      <td>11</td>\n",
       "      <td>15</td>\n",
       "      <td>15</td>\n",
       "    </tr>\n",
       "    <tr>\n",
       "      <th>1</th>\n",
       "      <td>16-20</td>\n",
       "      <td>14</td>\n",
       "      <td>18.0</td>\n",
       "      <td>252.0</td>\n",
       "      <td>16</td>\n",
       "      <td>20</td>\n",
       "      <td>29</td>\n",
       "    </tr>\n",
       "    <tr>\n",
       "      <th>2</th>\n",
       "      <td>21-25</td>\n",
       "      <td>20</td>\n",
       "      <td>23.0</td>\n",
       "      <td>460.0</td>\n",
       "      <td>21</td>\n",
       "      <td>25</td>\n",
       "      <td>49</td>\n",
       "    </tr>\n",
       "    <tr>\n",
       "      <th>3</th>\n",
       "      <td>26-30</td>\n",
       "      <td>18</td>\n",
       "      <td>28.0</td>\n",
       "      <td>504.0</td>\n",
       "      <td>26</td>\n",
       "      <td>30</td>\n",
       "      <td>67</td>\n",
       "    </tr>\n",
       "    <tr>\n",
       "      <th>4</th>\n",
       "      <td>31-35</td>\n",
       "      <td>16</td>\n",
       "      <td>33.0</td>\n",
       "      <td>528.0</td>\n",
       "      <td>31</td>\n",
       "      <td>35</td>\n",
       "      <td>83</td>\n",
       "    </tr>\n",
       "    <tr>\n",
       "      <th>5</th>\n",
       "      <td>36-40</td>\n",
       "      <td>17</td>\n",
       "      <td>38.0</td>\n",
       "      <td>646.0</td>\n",
       "      <td>36</td>\n",
       "      <td>40</td>\n",
       "      <td>100</td>\n",
       "    </tr>\n",
       "  </tbody>\n",
       "</table>\n",
       "</div>"
      ],
      "text/plain": [
       "   score  num_student  midvalue     fx  sc_from  sc_to  num_student_cum\n",
       "0  11-15           15      13.0  195.0       11     15               15\n",
       "1  16-20           14      18.0  252.0       16     20               29\n",
       "2  21-25           20      23.0  460.0       21     25               49\n",
       "3  26-30           18      28.0  504.0       26     30               67\n",
       "4  31-35           16      33.0  528.0       31     35               83\n",
       "5  36-40           17      38.0  646.0       36     40              100"
      ]
     },
     "execution_count": 9,
     "metadata": {},
     "output_type": "execute_result"
    }
   ],
   "source": [
    "df_score"
   ]
  },
  {
   "cell_type": "markdown",
   "metadata": {
    "id": "V8tD6c5Cgu8S"
   },
   "source": [
    "**3.2.7 พิสัย**"
   ]
  },
  {
   "cell_type": "code",
   "execution_count": 31,
   "metadata": {
    "id": "LTk6xNrm-7qZ"
   },
   "outputs": [
    {
     "data": {
      "text/plain": [
       "29"
      ]
     },
     "execution_count": 31,
     "metadata": {},
     "output_type": "execute_result"
    }
   ],
   "source": [
    "#your code\n"
   ]
  },
  {
   "cell_type": "markdown",
   "metadata": {
    "id": "9MkVinDAgvJx"
   },
   "source": [
    "**3.2.8 ส่วนเบี่ยงเบนควอร์ไทล์**"
   ]
  },
  {
   "cell_type": "code",
   "execution_count": 37,
   "metadata": {
    "id": "iG85sDHu-9eP"
   },
   "outputs": [
    {
     "data": {
      "text/plain": [
       "7.03781512605042"
      ]
     },
     "execution_count": 37,
     "metadata": {},
     "output_type": "execute_result"
    }
   ],
   "source": [
    "#your code\n",
    "d"
   ]
  },
  {
   "cell_type": "markdown",
   "metadata": {
    "id": "iQ82vURdgvXp"
   },
   "source": [
    "**3.2.9 ส่วนเบี่ยงเบนมาตราฐานและความแปรปรวน**"
   ]
  },
  {
   "cell_type": "code",
   "execution_count": 53,
   "metadata": {
    "id": "3XKKNhKE-_iZ"
   },
   "outputs": [
    {
     "name": "stdout",
     "output_type": "stream",
     "text": [
      "ค่าความแปรปรวน : 69.1275\n",
      "ส่วนเบี่ยงเบนมาตรฐาน : 8.314294918993431\n"
     ]
    }
   ],
   "source": [
    "#your code\n"
   ]
  },
  {
   "cell_type": "markdown",
   "metadata": {
    "id": "34_0j7kTgvlZ"
   },
   "source": [
    "**3.2.10 สัมประสิทธิ์ของการแปรผัน**"
   ]
  },
  {
   "cell_type": "code",
   "execution_count": 54,
   "metadata": {
    "id": "Av4_wtGo_E_P"
   },
   "outputs": [
    {
     "data": {
      "text/plain": [
       "32.16361670790495"
      ]
     },
     "execution_count": 54,
     "metadata": {},
     "output_type": "execute_result"
    }
   ],
   "source": [
    "#your code\n",
    "cv = (stdstu / scmean) *100\n",
    "cv"
   ]
  },
  {
   "cell_type": "markdown",
   "metadata": {
    "id": "UOIZ8YfAT1yH"
   },
   "source": [
    "###   "
   ]
  },
  {
   "cell_type": "markdown",
   "metadata": {
    "id": "yRFqnZpMUMow"
   },
   "source": [
    "3.3 บริษัทเกมแห่งหนึ่งได้ทำการทดสอบ game engine รุ่นใหม่ ในคอมพิวเตอร์ที่มีส่วนประกอบของฮารด์แวร์ต่างๆกัน (เช่น cpu, gpu, ram, ฯลฯ) จำนวน 30 เครื่อง และทำการวัดค่า frames per second (FPS) ได้ผลดังนี้  \n",
    "60.0, 30.2, 33.4, 59.9, 40.1, 25.5, 17.4, 28.6, 45.5, 57.8,  \n",
    "22.5, 50.2, 30.8, 43.1, 50.5, 35.5, 27.4, 29.2, 55.5, 10.2,   \n",
    "32.2, 27.8, 33.8, 53.4, 25.5, 30.4, 36.1, 49.3, 18.6, 50.0   \n",
    "จงคำนวณหาค่าเฉลี่ย, ส่วนเบี่ยงเบนมาตราฐาน, ฐานนิยม, Q<sub>1</sub>, D<sub>3</sub>, P<sub>45</sub> ของค่า FPS ที่ได้จากการทดสอบ"
   ]
  },
  {
   "cell_type": "markdown",
   "metadata": {
    "id": "RrpgMvIVZMAO"
   },
   "source": [
    "ค่าเฉลี่ย:"
   ]
  },
  {
   "cell_type": "code",
   "execution_count": 17,
   "metadata": {
    "id": "nNZsstOK2kWT"
   },
   "outputs": [],
   "source": [
    "fps = [60.0, 30.2, 33.4, 59.9, 40.1, 25.5, 17.4, 28.6, 45.5, 57.8,\n",
    "       22.5, 50.2, 30.8, 43.1, 50.5, 35.5, 27.4, 29.2, 55.5, 10.2,\n",
    "       32.2, 27.8, 33.8, 53.4, 25.5, 30.4, 36.1, 49.3, 18.6, 50.0]"
   ]
  },
  {
   "cell_type": "code",
   "execution_count": 44,
   "metadata": {
    "id": "WNGFpJJZ_Ne_"
   },
   "outputs": [
    {
     "data": {
      "text/plain": [
       "fps    37.013333\n",
       "dtype: float64"
      ]
     },
     "execution_count": 44,
     "metadata": {},
     "output_type": "execute_result"
    }
   ],
   "source": [
    "#your coded\n",
    "df_fps = pd.DataFrame({'fps': fps})\n",
    "fpsmean = df_fps.mean()\n",
    "fpsmean"
   ]
  },
  {
   "cell_type": "markdown",
   "metadata": {
    "id": "9rKC0-TGZ1Jn"
   },
   "source": [
    "ส่วนเบี่ยงเบนมาตราฐาน:"
   ]
  },
  {
   "cell_type": "code",
   "execution_count": 45,
   "metadata": {
    "id": "7c5z5X4n_P-J"
   },
   "outputs": [
    {
     "data": {
      "text/plain": [
       "13.51187812906528"
      ]
     },
     "execution_count": 45,
     "metadata": {},
     "output_type": "execute_result"
    }
   ],
   "source": [
    "fpsstd = df_fps['fps'].std()\n",
    "fpsstd"
   ]
  },
  {
   "cell_type": "markdown",
   "metadata": {
    "id": "XuKipkyhaKVO"
   },
   "source": [
    "ฐานนิยม:"
   ]
  },
  {
   "cell_type": "code",
   "execution_count": 46,
   "metadata": {
    "id": "epv26Wo-_RRn"
   },
   "outputs": [
    {
     "data": {
      "text/plain": [
       "0    25.5\n",
       "Name: fps, dtype: float64"
      ]
     },
     "execution_count": 46,
     "metadata": {},
     "output_type": "execute_result"
    }
   ],
   "source": [
    "#your code\n",
    "fpsmode = df_fps['fps'].mode()\n",
    "fpsmode"
   ]
  },
  {
   "cell_type": "markdown",
   "metadata": {
    "id": "jeBwd1pdaa-T"
   },
   "source": [
    "Q<sub>1</sub>, D<sub>3</sub> และ P<sub>45</sub>:  "
   ]
  },
  {
   "cell_type": "code",
   "execution_count": 47,
   "metadata": {
    "id": "z2iA5ocP_neI"
   },
   "outputs": [
    {
     "name": "stdout",
     "output_type": "stream",
     "text": [
      "q1 = 28.0\n",
      "d3 = 29.02\n",
      "p45 = 32.260000000000005\n"
     ]
    }
   ],
   "source": [
    "#your code\n",
    "q1 = df_fps['fps'].quantile(0.25)\n",
    "d3 = df_fps['fps'].quantile(0.30)\n",
    "p45 = df_fps['fps'].quantile(0.45)\n",
    "print(f\"q1 = {q1}\")\n",
    "print(f\"d3 = {d3}\")\n",
    "print(f\"p45 = {p45}\")"
   ]
  },
  {
   "cell_type": "markdown",
   "metadata": {
    "id": "rOM3ES47mEaR"
   },
   "source": [
    "###   "
   ]
  },
  {
   "cell_type": "markdown",
   "metadata": {
    "id": "m97H7Z-bmBn5"
   },
   "source": [
    "3.4 หน่วยงานวิจัยแห่งหนึ่งได้รับมอบหมายจากทางรัฐบาลให้ทำการเปรียบเทียบระบบที่ใช้ในการผลิตพลังงานกระแสไฟฟ้าสำหรับนิคมอุตสาหกรรมแห่งหนึ่ง ระบบแรกมีกำลังการผลิตสูงสุด 10,000 เมกะวัตต์ โดยมีค่าเฉลี่ยและส่วนเบี่ยงเบนมาตราฐานของกำลังการผลิตอยู่ที่ 9,000±320 เมกะวัตต์ ระบบที่สองมีกำลังการผลิตสูงสุด 15,000 เมกะวัตต์ โดยมีค่าเฉลี่ยและส่วนเบี่ยงเบนมาตราฐานของกำลังการผลิตอยู่ที่ 14,000±900 เมกะวัตต์ จากข้อมูลนี้ทางสถาบันวิจัยจะสามารถสรุปว่าระบบใดมีกำลังการผลิตที่เที่ยงตรงกว่า\n",
    "\n"
   ]
  },
  {
   "cell_type": "code",
   "execution_count": 59,
   "metadata": {
    "id": "sikR8p5n_uTl"
   },
   "outputs": [
    {
     "name": "stdout",
     "output_type": "stream",
     "text": [
      "ระบบ 1 3.5555555555555554\n",
      "ระบบ 2 6.428571428571428\n",
      "สรุปได้ว่า เครื่องที่ 1 เที่ยงตรงมากกว่า\n"
     ]
    }
   ],
   "source": [
    "#your code\n",
    "engin1 =(320/9000)*100\n",
    "engin2 =(900/14000)*100\n",
    "print(f\"ระบบ 1 {engin1}\")\n",
    "print(f\"ระบบ 2 {engin2}\")\n",
    "print(f\"สรุปได้ว่า เครื่องที่ 1 เที่ยงตรงมากกว่า\")"
   ]
  }
 ],
 "metadata": {
  "colab": {
   "authorship_tag": "ABX9TyMZkgg6cX4D3srnmlxfSAbZ",
   "mount_file_id": "1reItrD0_POUn-SXv-Qbl4kTRSs8XEJJ6",
   "provenance": []
  },
  "kernelspec": {
   "display_name": "Python 3",
   "name": "python3"
  },
  "language_info": {
   "codemirror_mode": {
    "name": "ipython",
    "version": 3
   },
   "file_extension": ".py",
   "mimetype": "text/x-python",
   "name": "python",
   "nbconvert_exporter": "python",
   "pygments_lexer": "ipython3",
   "version": "3.9.10"
  }
 },
 "nbformat": 4,
 "nbformat_minor": 0
}
