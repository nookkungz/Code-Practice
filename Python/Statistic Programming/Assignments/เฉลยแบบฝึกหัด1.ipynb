{
 "cells": [
  {
   "cell_type": "markdown",
   "id": "d5a84c25-5dd2-4e1c-9610-0f32b929ab11",
   "metadata": {
    "id": "d5a84c25-5dd2-4e1c-9610-0f32b929ab11"
   },
   "source": [
    "# แบบฝึกหัด 1"
   ]
  },
  {
   "cell_type": "markdown",
   "id": "1de1213a-1891-4a0f-a326-f4b41157e2a2",
   "metadata": {
    "id": "1de1213a-1891-4a0f-a326-f4b41157e2a2"
   },
   "source": [
    "---"
   ]
  },
  {
   "cell_type": "markdown",
   "id": "abfa3674-2828-46af-8ba2-8203fe69d752",
   "metadata": {
    "id": "abfa3674-2828-46af-8ba2-8203fe69d752"
   },
   "source": [
    "### 1.1"
   ]
  },
  {
   "cell_type": "markdown",
   "id": "9757cced-2cba-4bca-a7bd-8973db901b25",
   "metadata": {
    "id": "9757cced-2cba-4bca-a7bd-8973db901b25"
   },
   "source": [
    "***เขียนโปรแกรมเพื่อเปลี่ยนค่าจากองศาเซลเซียสไปเป็นองศาฟาเรนไฮต์และเคลวิน ดังนี้***\n",
    "\n",
    "F = (9/5)C + 32  \n",
    "K = C + 273.15"
   ]
  },
  {
   "cell_type": "markdown",
   "id": "b1834134-5b60-4e8c-96c5-b87ef739ddfb",
   "metadata": {
    "id": "b1834134-5b60-4e8c-96c5-b87ef739ddfb"
   },
   "source": [
    "รับข้อมูลองศาเซลเซียส"
   ]
  },
  {
   "cell_type": "code",
   "execution_count": 1,
   "id": "af68b83d-415c-4092-9aa7-adb0b2feef31",
   "metadata": {
    "executionInfo": {
     "elapsed": 323,
     "status": "ok",
     "timestamp": 1733908081537,
     "user": {
      "displayName": "Thammakorn SAETHANG",
      "userId": "08182570455347153646"
     },
     "user_tz": -420
    },
    "id": "af68b83d-415c-4092-9aa7-adb0b2feef31"
   },
   "outputs": [],
   "source": [
    "C = [39.85, 25, 32]"
   ]
  },
  {
   "cell_type": "markdown",
   "id": "730d77bd-d450-4cdc-ad27-48607f07ae43",
   "metadata": {
    "id": "730d77bd-d450-4cdc-ad27-48607f07ae43"
   },
   "source": [
    "###  \n",
    "แปลงเป็นองศาฟาเรนไฮต์ให้ได้ผลลัพธ์เป็น list เก็บใน F"
   ]
  },
  {
   "cell_type": "code",
   "execution_count": 2,
   "id": "94de6e83-372d-4e7d-8a7a-36fc5d248773",
   "metadata": {
    "colab": {
     "base_uri": "https://localhost:8080/"
    },
    "executionInfo": {
     "elapsed": 323,
     "status": "ok",
     "timestamp": 1733908084457,
     "user": {
      "displayName": "Thammakorn SAETHANG",
      "userId": "08182570455347153646"
     },
     "user_tz": -420
    },
    "id": "94de6e83-372d-4e7d-8a7a-36fc5d248773",
    "outputId": "8204d44c-8204-4513-8b14-fe366c4dc86d"
   },
   "outputs": [
    {
     "name": "stdout",
     "output_type": "stream",
     "text": [
      "[103.73, 77.0, 89.6]\n"
     ]
    }
   ],
   "source": [
    "# Your code\n",
    "F = [c*(9/5)+32 for c in C]\n",
    "#F = list(map(lambda c: c*(9/5)+32, C))\n",
    "print(F)"
   ]
  },
  {
   "cell_type": "markdown",
   "id": "1f82417d-c3c6-418b-94ff-f40dce925932",
   "metadata": {
    "id": "1f82417d-c3c6-418b-94ff-f40dce925932"
   },
   "source": [
    "ผลลัพธ์ที่ต้องการแสดง [103.73, 77.0, 89.6]"
   ]
  },
  {
   "cell_type": "markdown",
   "id": "a8dc1e83-2ad4-446b-bcb1-56cc0b517415",
   "metadata": {
    "id": "a8dc1e83-2ad4-446b-bcb1-56cc0b517415"
   },
   "source": [
    "###  \n",
    "แปลงเป็นองศาฟาเคลวินให้ได้ผลลัพธ์เป็น list เก็บใน K"
   ]
  },
  {
   "cell_type": "code",
   "execution_count": 3,
   "id": "6fcd3925-4041-4b30-bb4d-ea1680a6f8ae",
   "metadata": {
    "colab": {
     "base_uri": "https://localhost:8080/"
    },
    "executionInfo": {
     "elapsed": 310,
     "status": "ok",
     "timestamp": 1733908091802,
     "user": {
      "displayName": "Thammakorn SAETHANG",
      "userId": "08182570455347153646"
     },
     "user_tz": -420
    },
    "id": "6fcd3925-4041-4b30-bb4d-ea1680a6f8ae",
    "outputId": "998279b9-7c87-49cf-8e82-3d9fe0db8eea"
   },
   "outputs": [
    {
     "name": "stdout",
     "output_type": "stream",
     "text": [
      "[313.0, 298.15, 305.15]\n"
     ]
    }
   ],
   "source": [
    "# Your code\n",
    "K = [c+273.15 for c in C]\n",
    "#K = list(map(lambda c: c+273.15, C))\n",
    "print(K)"
   ]
  },
  {
   "cell_type": "markdown",
   "id": "9bbda200-1a5a-45c7-a3c2-92226634bf43",
   "metadata": {
    "id": "9bbda200-1a5a-45c7-a3c2-92226634bf43"
   },
   "source": [
    "ผลลัพธ์ที่ต้องการแสดง [313.0, 298.15, 305.15]"
   ]
  },
  {
   "cell_type": "markdown",
   "id": "870f923b-c173-459d-bbe1-689fd2b79932",
   "metadata": {
    "id": "870f923b-c173-459d-bbe1-689fd2b79932"
   },
   "source": [
    "###  \n",
    "แสดงการสรุปผล"
   ]
  },
  {
   "cell_type": "code",
   "execution_count": 4,
   "id": "fbc314b0-7bc4-4f53-8cfe-3095dc555937",
   "metadata": {
    "colab": {
     "base_uri": "https://localhost:8080/"
    },
    "executionInfo": {
     "elapsed": 332,
     "status": "ok",
     "timestamp": 1733908100793,
     "user": {
      "displayName": "Thammakorn SAETHANG",
      "userId": "08182570455347153646"
     },
     "user_tz": -420
    },
    "id": "fbc314b0-7bc4-4f53-8cfe-3095dc555937",
    "outputId": "13e0d528-0230-4af7-f3ad-3884f626cf48"
   },
   "outputs": [
    {
     "name": "stdout",
     "output_type": "stream",
     "text": [
      "39.85 °C = 103.73 °F = 313.0 °K\n",
      "25 °C = 77.0 °F = 298.15 °K\n",
      "32 °C = 89.6 °F = 305.15 °K\n"
     ]
    }
   ],
   "source": [
    "# Your code\n",
    "for i in range(len(C)):\n",
    "    print(f\"{C[i]} °C = {F[i]} °F = {K[i]} °K\")"
   ]
  },
  {
   "cell_type": "markdown",
   "id": "ee21bdf5-7345-42a0-9cce-18c07b7f0d44",
   "metadata": {
    "id": "ee21bdf5-7345-42a0-9cce-18c07b7f0d44"
   },
   "source": [
    "ผลที่ต้องการแสดง  \n",
    "39.85 °C = 103.73 °F = 313.0 °K  \n",
    "25 °C = 77.0 °F = 298.15 °K  \n",
    "32 °C = 89.6 °F = 305.15 °K  "
   ]
  },
  {
   "cell_type": "markdown",
   "id": "b415fcb5-8d76-45fd-ae2c-523f03b10b79",
   "metadata": {
    "id": "b415fcb5-8d76-45fd-ae2c-523f03b10b79"
   },
   "source": [
    "---"
   ]
  },
  {
   "cell_type": "markdown",
   "id": "0126d1f0-c4b0-4ba8-8c47-fa676345a02b",
   "metadata": {
    "id": "0126d1f0-c4b0-4ba8-8c47-fa676345a02b"
   },
   "source": [
    "### 1.2"
   ]
  },
  {
   "cell_type": "markdown",
   "id": "a1e08816-6647-4043-97c9-fd84145b2b78",
   "metadata": {
    "id": "a1e08816-6647-4043-97c9-fd84145b2b78"
   },
   "source": [
    "ให้นิสิตแสดงวิธีการแปลง list income (ซึ่งเปรียบเสมือนเป็นข้อมูลเงินเดือนของผู้ตอบแบบสอบถาม 20 ท่าน)  \n",
    "ให้เป็น numpy array เก็บในตัวแปรที่ชื่อ income_number โดย array ที่แปลงได้ควรมีชนิด dtype เป็น float   \n",
    "การแปลง string ให้เป็น float กำหนดให้ K = 1000 และ M = 1000000   \n",
    "string \"-\" ให้แปลงเป็น np.nan (dtype ต้องเป็น float จึงจะใช้ np.nan ได้)"
   ]
  },
  {
   "cell_type": "markdown",
   "id": "41c0bea4-f8a7-421f-88eb-c4b079d214ef",
   "metadata": {
    "id": "41c0bea4-f8a7-421f-88eb-c4b079d214ef"
   },
   "source": [
    "\\* โจทย์ข้อนี้สามารถทำได้หลายวิธี  \n",
    "หากใช้ numpy นิสิตอาจต้องหาข้อมูลเพิ่ม เช่น การใช้ np.char.replace หรือฟังก์ชัน eval"
   ]
  },
  {
   "cell_type": "code",
   "execution_count": 5,
   "id": "bde3d269-4d17-41d4-b1fc-91f19dcec73d",
   "metadata": {
    "executionInfo": {
     "elapsed": 325,
     "status": "ok",
     "timestamp": 1733908106092,
     "user": {
      "displayName": "Thammakorn SAETHANG",
      "userId": "08182570455347153646"
     },
     "user_tz": -420
    },
    "id": "bde3d269-4d17-41d4-b1fc-91f19dcec73d",
    "tags": []
   },
   "outputs": [],
   "source": [
    "import numpy as np"
   ]
  },
  {
   "cell_type": "code",
   "execution_count": 6,
   "id": "93c0955a-7a83-4f6f-b038-cc15e20f30ac",
   "metadata": {
    "executionInfo": {
     "elapsed": 322,
     "status": "ok",
     "timestamp": 1733908108751,
     "user": {
      "displayName": "Thammakorn SAETHANG",
      "userId": "08182570455347153646"
     },
     "user_tz": -420
    },
    "id": "93c0955a-7a83-4f6f-b038-cc15e20f30ac"
   },
   "outputs": [],
   "source": [
    "income = [\"20K\", \"3M\", \"12K\", \"0.04M\", \"0.023K\", \"-\", \"16K\", \"740K\", \"15K\", \"40K\",\n",
    "         \"-\", \"17K\", \"-\", \"120K\", \"56K\", \"-\", \"42K\", \"2M\", \"0.14M\", \"60K\"]"
   ]
  },
  {
   "cell_type": "code",
   "execution_count": 7,
   "id": "ee741b3a-faad-485a-8af9-7f61acdec415",
   "metadata": {
    "colab": {
     "base_uri": "https://localhost:8080/"
    },
    "executionInfo": {
     "elapsed": 323,
     "status": "ok",
     "timestamp": 1733908252008,
     "user": {
      "displayName": "Thammakorn SAETHANG",
      "userId": "08182570455347153646"
     },
     "user_tz": -420
    },
    "id": "ee741b3a-faad-485a-8af9-7f61acdec415",
    "outputId": "72a3946a-f81e-4faa-c0fa-ebab252f1ebf"
   },
   "outputs": [
    {
     "name": "stdout",
     "output_type": "stream",
     "text": [
      "['20*1000' '3*1000000' '12*1000' '0.04*1000000' '0.023*1000' '-' '16*1000'\n",
      " '740*1000' '15*1000' '40*1000' '-' '17*1000' '-' '120*1000' '56*1000' '-'\n",
      " '42*1000' '2*1000000' '0.14*1000000' '60*1000']\n"
     ]
    },
    {
     "data": {
      "text/plain": [
       "array([2.0e+04, 3.0e+06, 1.2e+04, 4.0e+04, 2.3e+01,     nan, 1.6e+04,\n",
       "       7.4e+05, 1.5e+04, 4.0e+04,     nan, 1.7e+04,     nan, 1.2e+05,\n",
       "       5.6e+04,     nan, 4.2e+04, 2.0e+06, 1.4e+05, 6.0e+04])"
      ]
     },
     "execution_count": 7,
     "metadata": {},
     "output_type": "execute_result"
    }
   ],
   "source": [
    "income = np.char.replace(income, \"K\", \"*1000\")\n",
    "income = np.char.replace(income, \"M\", \"*1000000\")\n",
    "print(income)\n",
    "income_number = np.array([eval(inc) if inc != \"-\" else np.nan for inc in income])\n",
    "income_number"
   ]
  },
  {
   "cell_type": "code",
   "execution_count": 8,
   "id": "5cb708fa-2c73-4352-a7cf-d73c31454cd4",
   "metadata": {
    "colab": {
     "base_uri": "https://localhost:8080/"
    },
    "executionInfo": {
     "elapsed": 348,
     "status": "ok",
     "timestamp": 1733908210852,
     "user": {
      "displayName": "Thammakorn SAETHANG",
      "userId": "08182570455347153646"
     },
     "user_tz": -420
    },
    "id": "5cb708fa-2c73-4352-a7cf-d73c31454cd4",
    "outputId": "bed025ce-0aa8-46a8-d728-4accba240c41"
   },
   "outputs": [
    {
     "name": "stdout",
     "output_type": "stream",
     "text": [
      "['20*1000' '3*1000000' '12*1000' '0.04*1000000' '0.023*1000' '-' '16*1000'\n",
      " '740*1000' '15*1000' '40*1000' '-' '17*1000' '-' '120*1000' '56*1000' '-'\n",
      " '42*1000' '2*1000000' '0.14*1000000' '60*1000']\n"
     ]
    },
    {
     "data": {
      "text/plain": [
       "array([2.0e+04, 3.0e+06, 1.2e+04, 4.0e+04, 2.3e+01,     nan, 1.6e+04,\n",
       "       7.4e+05, 1.5e+04, 4.0e+04,     nan, 1.7e+04,     nan, 1.2e+05,\n",
       "       5.6e+04,     nan, 4.2e+04, 2.0e+06, 1.4e+05, 6.0e+04])"
      ]
     },
     "execution_count": 8,
     "metadata": {},
     "output_type": "execute_result"
    }
   ],
   "source": [
    "#หรือ\n",
    "income_number = np.array([])\n",
    "\n",
    "print(income)\n",
    "for inc in income:\n",
    "    if(inc != \"-\"):\n",
    "        income_number  = np.append(income_number , eval(inc))\n",
    "    else:\n",
    "         income_number  = np.append(income_number , np.nan)\n",
    "income_number"
   ]
  },
  {
   "cell_type": "markdown",
   "id": "eabdd092-ba5e-46c9-9394-d7ced89b031e",
   "metadata": {
    "id": "eabdd092-ba5e-46c9-9394-d7ced89b031e"
   },
   "source": [
    "##  \n",
    "วิธีการของนิสิตควรได้ผลลัพธ์ดังที่ระบุเมื่อรัน cell ต่อไปนี้"
   ]
  },
  {
   "cell_type": "code",
   "execution_count": 9,
   "id": "940d9c4f-4b5c-4661-8faf-3a5cd1991d15",
   "metadata": {
    "colab": {
     "base_uri": "https://localhost:8080/"
    },
    "executionInfo": {
     "elapsed": 300,
     "status": "ok",
     "timestamp": 1733908257014,
     "user": {
      "displayName": "Thammakorn SAETHANG",
      "userId": "08182570455347153646"
     },
     "user_tz": -420
    },
    "id": "940d9c4f-4b5c-4661-8faf-3a5cd1991d15",
    "outputId": "fc17c04f-b90b-4229-ac77-f0b83432481a"
   },
   "outputs": [
    {
     "name": "stdout",
     "output_type": "stream",
     "text": [
      "[2.0e+04 3.0e+06 1.2e+04 4.0e+04 2.3e+01     nan 1.6e+04 7.4e+05 1.5e+04\n",
      " 4.0e+04     nan 1.7e+04     nan 1.2e+05 5.6e+04     nan 4.2e+04 2.0e+06\n",
      " 1.4e+05 6.0e+04]\n"
     ]
    }
   ],
   "source": [
    "print(income_number)"
   ]
  },
  {
   "cell_type": "markdown",
   "id": "ba1a8a77-072d-4fc2-8113-ed1476741065",
   "metadata": {
    "id": "ba1a8a77-072d-4fc2-8113-ed1476741065"
   },
   "source": [
    "\\*\\*\\* ต้องขออภัยผลที่ระบุจะเป็นการรัน cell โดยไม่ใช้คำสั่ง print (ความจริงแล้วหากไม่ระบุคำสั่ง print จะเป็นการเรียกคำสั่ง display)"
   ]
  },
  {
   "cell_type": "markdown",
   "id": "8cdca165-65aa-4b36-9461-eb9efab396fd",
   "metadata": {
    "id": "8cdca165-65aa-4b36-9461-eb9efab396fd"
   },
   "source": [
    "ผลลัพธ์ที่ควรแสดง: array([2.0e+04, 3.0e+06, 1.2e+04, 4.0e+04, 2.3e+01,     nan, 1.6e+04,\n",
    "       7.4e+05, 1.5e+04, 4.0e+04,     nan, 1.7e+04,     nan, 1.2e+05,\n",
    "       5.6e+04,     nan, 4.2e+04, 2.0e+06, 1.4e+05, 6.0e+04])"
   ]
  },
  {
   "cell_type": "code",
   "execution_count": 10,
   "id": "28a4c0df-1947-404f-a143-f1e85e29060f",
   "metadata": {
    "colab": {
     "base_uri": "https://localhost:8080/"
    },
    "executionInfo": {
     "elapsed": 323,
     "status": "ok",
     "timestamp": 1733908277965,
     "user": {
      "displayName": "Thammakorn SAETHANG",
      "userId": "08182570455347153646"
     },
     "user_tz": -420
    },
    "id": "28a4c0df-1947-404f-a143-f1e85e29060f",
    "outputId": "7618f787-0368-4675-97b3-39d456426703"
   },
   "outputs": [
    {
     "data": {
      "text/plain": [
       "numpy.ndarray"
      ]
     },
     "execution_count": 10,
     "metadata": {},
     "output_type": "execute_result"
    }
   ],
   "source": [
    "type(income_number)"
   ]
  },
  {
   "cell_type": "markdown",
   "id": "b6e656ea-fdcc-4c39-bf2b-3c6c555a8d74",
   "metadata": {
    "id": "b6e656ea-fdcc-4c39-bf2b-3c6c555a8d74"
   },
   "source": [
    "ผลลัพธ์ที่ควรแสดง: numpy.ndarray"
   ]
  },
  {
   "cell_type": "code",
   "execution_count": 11,
   "id": "613480c1-78b6-4240-b1b1-48dae3957208",
   "metadata": {
    "colab": {
     "base_uri": "https://localhost:8080/"
    },
    "executionInfo": {
     "elapsed": 306,
     "status": "ok",
     "timestamp": 1733908282223,
     "user": {
      "displayName": "Thammakorn SAETHANG",
      "userId": "08182570455347153646"
     },
     "user_tz": -420
    },
    "id": "613480c1-78b6-4240-b1b1-48dae3957208",
    "outputId": "9ffddb50-73fd-428c-aeb5-64f98fd5d163"
   },
   "outputs": [
    {
     "data": {
      "text/plain": [
       "dtype('float64')"
      ]
     },
     "execution_count": 11,
     "metadata": {},
     "output_type": "execute_result"
    }
   ],
   "source": [
    "income_number.dtype"
   ]
  },
  {
   "cell_type": "markdown",
   "id": "8b21a94a-936a-46a9-94fa-41b01851e051",
   "metadata": {
    "id": "8b21a94a-936a-46a9-94fa-41b01851e051"
   },
   "source": [
    "ผลลัพธ์ที่ควรแสดง: dtype('float64')"
   ]
  },
  {
   "cell_type": "code",
   "execution_count": 12,
   "id": "b7978b4d-7ea0-4cd9-b0d9-25b5908e457d",
   "metadata": {
    "colab": {
     "base_uri": "https://localhost:8080/"
    },
    "executionInfo": {
     "elapsed": 302,
     "status": "ok",
     "timestamp": 1733908288821,
     "user": {
      "displayName": "Thammakorn SAETHANG",
      "userId": "08182570455347153646"
     },
     "user_tz": -420
    },
    "id": "b7978b4d-7ea0-4cd9-b0d9-25b5908e457d",
    "outputId": "45a8fe35-ce97-464f-d9e0-69cfbb8214dc"
   },
   "outputs": [
    {
     "data": {
      "text/plain": [
       "394876.4375"
      ]
     },
     "execution_count": 12,
     "metadata": {},
     "output_type": "execute_result"
    }
   ],
   "source": [
    "np.nanmean(income_number)"
   ]
  },
  {
   "cell_type": "markdown",
   "id": "37d89d0e-3fee-4846-8f74-a2e133410f8e",
   "metadata": {
    "id": "37d89d0e-3fee-4846-8f74-a2e133410f8e"
   },
   "source": [
    "ผลลัพธ์ที่ควรแสดง: 394876.4375"
   ]
  },
  {
   "cell_type": "code",
   "execution_count": 13,
   "id": "1cb30310-a64c-46a7-8848-924412f639b4",
   "metadata": {
    "colab": {
     "base_uri": "https://localhost:8080/"
    },
    "executionInfo": {
     "elapsed": 303,
     "status": "ok",
     "timestamp": 1733908291500,
     "user": {
      "displayName": "Thammakorn SAETHANG",
      "userId": "08182570455347153646"
     },
     "user_tz": -420
    },
    "id": "1cb30310-a64c-46a7-8848-924412f639b4",
    "outputId": "2a4fde9d-8ea1-4811-a5b3-7d1d97c5005d"
   },
   "outputs": [
    {
     "data": {
      "text/plain": [
       "41000.0"
      ]
     },
     "execution_count": 13,
     "metadata": {},
     "output_type": "execute_result"
    }
   ],
   "source": [
    "np.nanmedian(income_number)"
   ]
  },
  {
   "cell_type": "markdown",
   "id": "3a08657a-20b5-446a-8ab6-c794d1ed1049",
   "metadata": {
    "id": "3a08657a-20b5-446a-8ab6-c794d1ed1049"
   },
   "source": [
    "ผลลัพธ์ที่ควรแสดง: 41000.0"
   ]
  }
 ],
 "metadata": {
  "colab": {
   "provenance": []
  },
  "kernelspec": {
   "display_name": "Python 3",
   "language": "python",
   "name": "python3"
  },
  "language_info": {
   "codemirror_mode": {
    "name": "ipython",
    "version": 3
   },
   "file_extension": ".py",
   "mimetype": "text/x-python",
   "name": "python",
   "nbconvert_exporter": "python",
   "pygments_lexer": "ipython3",
   "version": "3.9.13"
  }
 },
 "nbformat": 4,
 "nbformat_minor": 5
}
