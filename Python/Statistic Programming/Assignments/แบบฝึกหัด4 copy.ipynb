{
 "cells": [
  {
   "cell_type": "markdown",
   "metadata": {
    "id": "U3ArbMi8JHGD"
   },
   "source": [
    "# แบบฝึกหัด 4"
   ]
  },
  {
   "cell_type": "markdown",
   "metadata": {
    "id": "t9RQYuu-JUwP"
   },
   "source": [
    "---"
   ]
  },
  {
   "cell_type": "code",
   "execution_count": 6,
   "metadata": {
    "id": "5LcuhePsgM1w"
   },
   "outputs": [],
   "source": [
    "import numpy as np\n",
    "import pandas as pd\n",
    "from scipy import stats\n",
    "import statistics\n",
    "from math import perm, comb\n",
    "import math"
   ]
  },
  {
   "cell_type": "markdown",
   "metadata": {
    "id": "uoKssbJRv2Xu"
   },
   "source": [
    "###  "
   ]
  },
  {
   "cell_type": "markdown",
   "metadata": {
    "id": "ag3TNOoapF2I"
   },
   "source": [
    "4.1 จากการวิจัยพบว่า 10% ของผู้สูบบุหรี่มากกว่า 2 มวนต่อวันจะพบความผิดปกติของปอด หากทำการสุ่มตัวอย่างผู้ที่สูบบุหรี่มากกว่า 2 มวนต่อวันจำนวน 10 คน จงหาความน่าจะเป็นของกรณีดังต่อไปนี้  \n",
    "- พบผู้ที่มีความผิดปกติของปอด 3 คน  "
   ]
  },
  {
   "cell_type": "code",
   "execution_count": 2,
   "metadata": {
    "id": "eGMlvK2UXrtE"
   },
   "outputs": [
    {
     "data": {
      "text/plain": [
       "0.05739562800000002"
      ]
     },
     "execution_count": 2,
     "metadata": {},
     "output_type": "execute_result"
    }
   ],
   "source": [
    "#แสดงวิธีท\n",
    "n = 10\n",
    "p = 0.1\n",
    "x = 3\n",
    "q = 1-p\n",
    "prob = comb(n,x)*(p**x)*(q**(n-x))\n",
    "prob"
   ]
  },
  {
   "cell_type": "markdown",
   "metadata": {
    "id": "SOtKXJZ0Yhby"
   },
   "source": [
    "- ไม่มีผู้ที่ปอดมีความผิดปกติเลย"
   ]
  },
  {
   "cell_type": "code",
   "execution_count": 14,
   "metadata": {
    "id": "-h3uR0QVYlFA"
   },
   "outputs": [
    {
     "data": {
      "text/plain": [
       "0.34867844010000015"
      ]
     },
     "execution_count": 14,
     "metadata": {},
     "output_type": "execute_result"
    }
   ],
   "source": [
    "#แสดงวิธีทำ\n",
    "n = 10\n",
    "p = 0.1 \n",
    "q = 1 - p\n",
    "x = 0\n",
    "\n",
    "prob = stats.binom.pmf(x, n, p)\n",
    "prob"
   ]
  },
  {
   "cell_type": "markdown",
   "metadata": {
    "id": "gvjrsGthYycb"
   },
   "source": [
    "- พบผู้ที่มีความผิดปกติของปอดอย่างน้อย 1 คน"
   ]
  },
  {
   "cell_type": "code",
   "execution_count": 4,
   "metadata": {
    "id": "NXgJ3SXgYmIC"
   },
   "outputs": [
    {
     "name": "stdout",
     "output_type": "stream",
     "text": [
      "0.6513215599\n"
     ]
    }
   ],
   "source": [
    "#แสดงวิธีทำ\n",
    "n = 10\n",
    "p = 0.1\n",
    "x = 0  # ไม่มีใครเป็นโรค\n",
    "q = 1 - p\n",
    "\n",
    "prob_X_0 = comb(n, x) * (p**x) * (q**(n-x))\n",
    "prob_at_least_1 = 1 - prob_X_0\n",
    "\n",
    "print(prob_at_least_1)"
   ]
  },
  {
   "cell_type": "markdown",
   "metadata": {
    "id": "sbZ2sthm9YOB"
   },
   "source": [
    "###  "
   ]
  },
  {
   "cell_type": "markdown",
   "metadata": {
    "id": "t7i3BrqK9YOB"
   },
   "source": [
    "4.2 ในพื้นที่สัมปทานเหมืองแร่ทองคำแห่งหนี่ง พบว่าในการออกพื้นที่สำรวจจะมีโอกาสพบสายแร่ทองคำ 15% หากบริษัท A ได้กำหนดพื้นที่เพื่อทำการสำรวจทั้งหมด 12 จุด จงหาความน่าจะเป็นของเหตุการณ์ต่อไปนี้\n",
    "- พบสายแร่ทองคำทั้ง 12 จุด    "
   ]
  },
  {
   "cell_type": "code",
   "execution_count": 20,
   "metadata": {
    "id": "iqE8-wJaYvtI"
   },
   "outputs": [
    {
     "name": "stdout",
     "output_type": "stream",
     "text": [
      "1.2974633789062494e-10\n"
     ]
    }
   ],
   "source": [
    "from scipy.stats import binom\n",
    "#แสดงวิธีทำ\n",
    "p = 0.15\n",
    "n = 12\n",
    "k = 12\n",
    "q = 1-p\n",
    "\n",
    "probability = comb(n, x) * (p**x) * (q**(n-x))\n",
    "\n",
    "print(probability)"
   ]
  },
  {
   "cell_type": "markdown",
   "metadata": {
    "id": "H4G_eeDQ9TSd"
   },
   "source": [
    "- ไม่พบสายแร่ทองคำทั้ง 12 จุด"
   ]
  },
  {
   "cell_type": "code",
   "execution_count": 6,
   "metadata": {
    "id": "QZX4Vti1Yw3j"
   },
   "outputs": [
    {
     "name": "stdout",
     "output_type": "stream",
     "text": [
      "0.14224175713617207\n"
     ]
    }
   ],
   "source": [
    "#แสดงวิธีทำ\n",
    "probability_no_gold = (1 - p)**n\n",
    "print(probability_no_gold)"
   ]
  },
  {
   "cell_type": "markdown",
   "metadata": {
    "id": "hcYW6v-qAJDw"
   },
   "source": [
    "- พบสายแร่ทองคำ 1 จุดเท่านั้น"
   ]
  },
  {
   "cell_type": "code",
   "execution_count": 9,
   "metadata": {
    "id": "hSdEoTSqYyjh"
   },
   "outputs": [
    {
     "name": "stdout",
     "output_type": "stream",
     "text": [
      "0.3012178386413055\n"
     ]
    }
   ],
   "source": [
    "#แสดงวิธีทำ\n",
    "p = 0.15\n",
    "n = 12\n",
    "k = 1\n",
    "\n",
    "probability = comb(n, k) * (p**k) * ((1-p)**(n-k))\n",
    "\n",
    "print(probability)"
   ]
  },
  {
   "cell_type": "markdown",
   "metadata": {
    "id": "tjBxzS5IAezo"
   },
   "source": [
    "- พบสายแร่ทองคำอย่างน้อย 3 จุด"
   ]
  },
  {
   "cell_type": "code",
   "execution_count": 11,
   "metadata": {
    "id": "qDwjL7utYzeA"
   },
   "outputs": [
    {
     "name": "stdout",
     "output_type": "stream",
     "text": [
      "0.2641819137765493\n"
     ]
    }
   ],
   "source": [
    "#แสดงวิธีทำ\n",
    "p = 0.15\n",
    "n = 12\n",
    "\n",
    "p0= comb(n, 0) * (p**0) * ((1-p)**(n-0))\n",
    "p1 = comb(n, 1) * (p**1) * ((1-p)**(n-1))\n",
    "p2 = comb(n, 2) * (p**2) * ((1-p)**(n-2))\n",
    "\n",
    "plessthan3 = p0 + p1 + p2\n",
    "\n",
    "patleast3 = 1 - plessthan3\n",
    "print(patleast3)"
   ]
  },
  {
   "cell_type": "markdown",
   "metadata": {
    "id": "yif8FzhRBNSq"
   },
   "source": [
    "###  "
   ]
  },
  {
   "cell_type": "markdown",
   "metadata": {
    "id": "FgWhB3I9BNSq"
   },
   "source": [
    "4.3 จากการเก็บข้อมูลการเล่นเกมส์ออนไลน์เกมส์หนึ่งพบว่า ผู้เล่นที่มีเลเวล 50 ขึ้นไป 10 คน จะมีผู้เล่นที่ซื้อแพ็กเกจ VIP จำนวน 3 คนโดยประมาณ หากสุ่มตัวอย่างผู้เล่นที่มีเลเวล 50 ขึ้นไปจำนวน 15 คน จงหาค่าความน่าจะเป็นของเหตุการณ์ต่อไปนี้  \n",
    "  \n",
    "- มีผู้เล่นอย่างน้อย 1 คนซื้อแพ็กเกจ VIP    "
   ]
  },
  {
   "cell_type": "code",
   "execution_count": 12,
   "metadata": {
    "id": "RqvCLlbzY1lq"
   },
   "outputs": [
    {
     "data": {
      "text/plain": [
       "0.995252438490057"
      ]
     },
     "execution_count": 12,
     "metadata": {},
     "output_type": "execute_result"
    }
   ],
   "source": [
    "#แสดงวิธีทำ\n",
    "p = 0.3\n",
    "n = 15\n",
    "\n",
    "p0 = comb(n, 0) * (p**0) * ((1-p)**(n-0))\n",
    "\n",
    "patl1 = 1 - p0\n",
    "patl1\n"
   ]
  },
  {
   "cell_type": "markdown",
   "metadata": {
    "id": "WhCBSP4mGDDk"
   },
   "source": [
    "- ไม่มีผู้เล่นซื้อแพ็กเกจ VIP เลย\n"
   ]
  },
  {
   "cell_type": "code",
   "execution_count": 14,
   "metadata": {
    "id": "w6t6uwHrY4Dv"
   },
   "outputs": [
    {
     "name": "stdout",
     "output_type": "stream",
     "text": [
      "0.004747561509942996\n"
     ]
    }
   ],
   "source": [
    "\n",
    "p = 0.3 \n",
    "n = 15   \n",
    "\n",
    "P_X_0 = (1-p)**n\n",
    "\n",
    "print(P_X_0)\n"
   ]
  },
  {
   "cell_type": "markdown",
   "metadata": {
    "id": "KDo2aR-0GewE"
   },
   "source": [
    "- มีผู้เล่นน้อยกว่า 4 คนซื้อแพ็กเกจ VIP"
   ]
  },
  {
   "cell_type": "code",
   "execution_count": 16,
   "metadata": {
    "id": "uOJJMG3MY4-w"
   },
   "outputs": [
    {
     "data": {
      "text/plain": [
       "0.29686792788704774"
      ]
     },
     "execution_count": 16,
     "metadata": {},
     "output_type": "execute_result"
    }
   ],
   "source": [
    "\n",
    "p = 0.3  \n",
    "n = 15 \n",
    "\n",
    "P_X_0 = comb(n, 0) * (p**0) * ((1-p)**(n-0))\n",
    "P_X_1 = comb(n, 1) * (p**1) * ((1-p)**(n-1))\n",
    "P_X_2 = comb(n, 2) * (p**2) * ((1-p)**(n-2))\n",
    "P_X_3 = comb(n, 3) * (p**3) * ((1-p)**(n-3))\n",
    "\n",
    "P_X_less_than_4 = P_X_0 + P_X_1 + P_X_2 + P_X_3\n",
    "print(P_X_less_than_4)"
   ]
  },
  {
   "cell_type": "markdown",
   "metadata": {
    "id": "nwSlXUPSHkQL"
   },
   "source": [
    "###  "
   ]
  },
  {
   "cell_type": "markdown",
   "metadata": {
    "id": "v04rtFN2HkQL"
   },
   "source": [
    "4.4 จำนวนอุบัติเหตุอันเนื่องมาจากการจราจรที่สี่แยกแห่งหนึ่งโดยเฉลี่ยมี 3 รายต่อสัปดาห์ จงหาความ\n",
    "น่าจะเป็นที่จะมีอุบัติเหตุ 5 รายที่แยกแห่งนี้ในสัปดาห์หนึ่ง        "
   ]
  },
  {
   "cell_type": "code",
   "execution_count": 22,
   "metadata": {
    "id": "5RsjQd4AY_TX"
   },
   "outputs": [
    {
     "name": "stdout",
     "output_type": "stream",
     "text": [
      "0.10081881344492448\n"
     ]
    }
   ],
   "source": [
    "lam = 3  \n",
    "k = 5       \n",
    "\n",
    "\n",
    "P_X_5 = (lam**k * math.exp(-lam)) / math.factorial(k)\n",
    "print(P_X_5)"
   ]
  },
  {
   "cell_type": "markdown",
   "metadata": {
    "id": "LeBrVUJUKdo9"
   },
   "source": [
    "###  "
   ]
  },
  {
   "cell_type": "markdown",
   "metadata": {
    "id": "LoAlPE5XKdo9"
   },
   "source": [
    "4.5 จากการเก็บข้อมูลพบว่า server ของทางภาควิชาฯ จะถูกโจมตีจากผู้ไม่หวังดีโดยเฉลี่ย 6 ครั้งใน 1 วันจงหาความน่าจะเป็นที่ใน 1 วัน server ของทางภาควิชาฯ จะถูกโจมตี 6 - 8 ครั้ง        "
   ]
  },
  {
   "cell_type": "code",
   "execution_count": 23,
   "metadata": {
    "id": "TeGeHVgMZDfr"
   },
   "outputs": [
    {
     "name": "stdout",
     "output_type": "stream",
     "text": [
      "0.40155785261995014\n"
     ]
    }
   ],
   "source": [
    "#แสดงวิธีทำ\n",
    "lambda_ = 6  \n",
    "k_values = [6, 7, 8]  \n",
    "\n",
    "probabilities = [\n",
    "    (lambda_**k * math.exp(-lambda_)) / math.factorial(k)\n",
    "    for k in k_values\n",
    "]\n",
    "P_6_to_8 = sum(probabilities)\n",
    "print(P_6_to_8)"
   ]
  },
  {
   "cell_type": "markdown",
   "metadata": {
    "id": "r_ZjNP1PL2uu"
   },
   "source": [
    "###  "
   ]
  },
  {
   "cell_type": "markdown",
   "metadata": {
    "id": "STASxmjEL2uu"
   },
   "source": [
    "4.6 จากการเก็บข้อมูลอายุของเด็กที่ติดเกมส์มือถือพบว่ามีการแจกแจงของอายุเป็นแบบปกติ และมีค่าเฉลี่ยเท่ากับ 11.5 ปี\n",
    "และค่าเบี่ยงเบนมาตรฐานเท่ากับ 3 ปี   \n",
    "หากพบเด็กคนหนึ่งติดเกมส์ จงหาความน่าจะเป็นที่เด็กผู้นี้  \n",
    "- มีอายุอยู่ระหว่าง 8.5 และ 14.5 ปี  "
   ]
  },
  {
   "cell_type": "code",
   "execution_count": 24,
   "metadata": {
    "id": "rVbSeQ9-ZGf9"
   },
   "outputs": [
    {
     "name": "stdout",
     "output_type": "stream",
     "text": [
      "0.6826894921370856\n"
     ]
    }
   ],
   "source": [
    "#แสดงวิธีทำ\n",
    "mu = 11.5  \n",
    "sigma = 3  \n",
    "\n",
    "z1 = (8.5 - mu) / sigma\n",
    "z2 = (14.5 - mu) / sigma\n",
    "\n",
    "def normal_cdf(z):\n",
    "    return 0.5 * (1 + math.erf(z / math.sqrt(2)))\n",
    "P = normal_cdf(z2) - normal_cdf(z1)\n",
    "print(P)"
   ]
  },
  {
   "cell_type": "markdown",
   "metadata": {},
   "source": [
    "- มีอายุต่ำกว่า 12 ปี"
   ]
  },
  {
   "cell_type": "code",
   "execution_count": 25,
   "metadata": {
    "id": "AWfLt0NZZHqY"
   },
   "outputs": [
    {
     "name": "stdout",
     "output_type": "stream",
     "text": [
      "0.5661838326109037\n"
     ]
    }
   ],
   "source": [
    "#แสดงวิธีทำ\n",
    "mu = 11.5  \n",
    "sigma = 3  \n",
    "\n",
    "\n",
    "z = (12 - mu) / sigma\n",
    "\n",
    "def normal_cdf(z):\n",
    "    return 0.5 * (1 + math.erf(z / math.sqrt(2)))\n",
    "\n",
    "\n",
    "P = normal_cdf(z)\n",
    "print(P)"
   ]
  },
  {
   "cell_type": "markdown",
   "metadata": {
    "id": "2g0qLDviQY8b"
   },
   "source": [
    "- มีอายุเกินกว่า 10 ปีขึ้นไป"
   ]
  },
  {
   "cell_type": "code",
   "execution_count": 26,
   "metadata": {
    "id": "U1H1mx2ZZI6I"
   },
   "outputs": [
    {
     "name": "stdout",
     "output_type": "stream",
     "text": [
      "0.691462461274013\n"
     ]
    }
   ],
   "source": [
    "#แสดงวิธีทำ\n",
    "mu = 11.5 \n",
    "sigma = 3 \n",
    "\n",
    "z = (10 - mu) / sigma\n",
    "\n",
    "def normal_cdf(z):\n",
    "    return 0.5 * (1 + math.erf(z / math.sqrt(2)))\n",
    "\n",
    "P = 1 - normal_cdf(z)\n",
    "\n",
    "print(P)\n"
   ]
  },
  {
   "cell_type": "markdown",
   "metadata": {
    "id": "floehrzxQp4u"
   },
   "source": [
    "###  "
   ]
  },
  {
   "cell_type": "markdown",
   "metadata": {
    "id": "xMohIA7jQp4u"
   },
   "source": [
    "4.7 ถ้าระดับค่าคลอเรสเตอรอลในประชากรกลุ่มหนึ่งมีการแจกแจงแบบปกติ มีค่าเฉลี่ยเท่ากับ 200 mg/\n",
    "100 ml และค่าเบี่ยงเบนมาตรฐานเท่ากับ 20 mg/100 ml จงหาความน่าจะเป็นที่จะเลือกได้บุคคลหนึ่ง\n",
    "จากประชากรกลุ่มนี้ แล้วพบว่าระดับคอเรสเตอรอลมีค่า  \n",
    "- ระหว่าง 180 และ 200 mg/100 ml  "
   ]
  },
  {
   "cell_type": "code",
   "execution_count": 27,
   "metadata": {
    "id": "-A17QfPuZM77"
   },
   "outputs": [
    {
     "name": "stdout",
     "output_type": "stream",
     "text": [
      "0.34134474606854287\n"
     ]
    }
   ],
   "source": [
    "#แสดงวิธีทำ\n",
    "mu = 200  \n",
    "sigma = 20 \n",
    "\n",
    "z1 = (180 - mu) / sigma\n",
    "z2 = (200 - mu) / sigma\n",
    "\n",
    "def normal_cdf(z):\n",
    "    return 0.5 * (1 + math.erf(z / math.sqrt(2)))\n",
    "\n",
    "P = normal_cdf(z2) - normal_cdf(z1)\n",
    "print(P)\n"
   ]
  },
  {
   "cell_type": "markdown",
   "metadata": {
    "id": "VrDTcamkTDlO"
   },
   "source": [
    "- เกินกว่า 225 mg/100 ml"
   ]
  },
  {
   "cell_type": "code",
   "execution_count": null,
   "metadata": {
    "id": "vKuF704LZOX_"
   },
   "outputs": [],
   "source": [
    "#แสดงวิธีทำ\n",
    "mu = 200  \n",
    "sigma = 20 \n",
    "\n",
    "z = (225 - mu) / sigma\n",
    "\n",
    "def normal_cdf(z):\n",
    "    return 0.5 * (1 + math.erf(z / math.sqrt(2)))\n",
    "\n",
    "P = 1 - normal_cdf(z)\n",
    "print(P)"
   ]
  },
  {
   "cell_type": "markdown",
   "metadata": {
    "id": "wnACIhNsTEdT"
   },
   "source": [
    "- ระหว่าง 190 และ 210 mg/100 ml"
   ]
  },
  {
   "cell_type": "code",
   "execution_count": 29,
   "metadata": {
    "id": "8N-XVkZTZP9S"
   },
   "outputs": [
    {
     "name": "stdout",
     "output_type": "stream",
     "text": [
      "0.38292492254802607\n"
     ]
    }
   ],
   "source": [
    "#แสดงวิธีทำ\n",
    "\n",
    "mu = 200  \n",
    "sigma = 20 \n",
    "\n",
    "z1 = (190 - mu) / sigma\n",
    "z2 = (210 - mu) / sigma\n",
    "\n",
    "def normal_cdf(z):\n",
    "    return 0.5 * (1 + math.erf(z / math.sqrt(2)))\n",
    "\n",
    "P = normal_cdf(z2) - normal_cdf(z1)\n",
    "print(P)\n"
   ]
  },
  {
   "cell_type": "markdown",
   "metadata": {
    "id": "00fXCreGTFAM"
   },
   "source": [
    "- น้อยกว่า 150 mg/100 ml"
   ]
  },
  {
   "cell_type": "code",
   "execution_count": 30,
   "metadata": {
    "id": "mZZ7T_QdZRQb"
   },
   "outputs": [
    {
     "name": "stdout",
     "output_type": "stream",
     "text": [
      "0.006209665325776159\n"
     ]
    }
   ],
   "source": [
    "#แสดงวิธีทำ\n",
    "mu = 200  \n",
    "sigma = 20  \n",
    "\n",
    "z = (150 - mu) / sigma\n",
    "\n",
    "def normal_cdf(z):\n",
    "    return 0.5 * (1 + math.erf(z / math.sqrt(2)))\n",
    "P = normal_cdf(z)\n",
    "print(P)\n"
   ]
  },
  {
   "cell_type": "markdown",
   "metadata": {
    "id": "Mu4lT_CApF2I"
   },
   "source": [
    "###  "
   ]
  }
 ],
 "metadata": {
  "colab": {
   "authorship_tag": "ABX9TyNVsXQFgC/ue/tmp1ik6d7r",
   "mount_file_id": "1reItrD0_POUn-SXv-Qbl4kTRSs8XEJJ6",
   "provenance": []
  },
  "kernelspec": {
   "display_name": "Python 3",
   "name": "python3"
  },
  "language_info": {
   "codemirror_mode": {
    "name": "ipython",
    "version": 3
   },
   "file_extension": ".py",
   "mimetype": "text/x-python",
   "name": "python",
   "nbconvert_exporter": "python",
   "pygments_lexer": "ipython3",
   "version": "3.9.10"
  }
 },
 "nbformat": 4,
 "nbformat_minor": 0
}
