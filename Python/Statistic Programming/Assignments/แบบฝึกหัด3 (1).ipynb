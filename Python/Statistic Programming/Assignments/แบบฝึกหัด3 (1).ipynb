{
 "cells": [
  {
   "cell_type": "markdown",
   "metadata": {
    "id": "U3ArbMi8JHGD"
   },
   "source": [
    "# แบบฝึกหัด 3"
   ]
  },
  {
   "cell_type": "markdown",
   "metadata": {
    "id": "t9RQYuu-JUwP"
   },
   "source": [
    "---"
   ]
  },
  {
   "cell_type": "code",
   "execution_count": 31,
   "metadata": {
    "id": "5LcuhePsgM1w"
   },
   "outputs": [],
   "source": [
    "import numpy as np\n",
    "import pandas as pd\n",
    "import statistics"
   ]
  },
  {
   "cell_type": "markdown",
   "metadata": {
    "id": "uoKssbJRv2Xu"
   },
   "source": [
    "###  "
   ]
  },
  {
   "cell_type": "markdown",
   "metadata": {
    "id": "O-jANK7-JY2X"
   },
   "source": [
    "3.1 บริษัทให้บริการด้าน IT ครบวงจรแห่งหนึ่งได้เก็บรวบรวมข้อมูลค่าซ่อมบำรุงอุปกรณ์คอมพิวเตอร์แม่ข่ายและจำนวนลูกค้าของบริษัทในปีที่ผ่านมาเป็นดังไฟล์ asm3_1_itcost.csv  \n",
    "จงแสดงวิธีหาค่ามัธยฐานและฐานนิยมของค่าซ่อมบำรุงอุปกรณ์คอมพิวเตอร์แม่ข่าย"
   ]
  },
  {
   "cell_type": "code",
   "execution_count": 32,
   "metadata": {
    "colab": {
     "base_uri": "https://localhost:8080/",
     "height": 269
    },
    "executionInfo": {
     "elapsed": 414,
     "status": "ok",
     "timestamp": 1703182255031,
     "user": {
      "displayName": "Thammakorn SAETHANG",
      "userId": "08182570455347153646"
     },
     "user_tz": -420
    },
    "id": "HVfgMVlcI_hm",
    "outputId": "f33609c2-24de-4c50-bfb7-fc381e9fb673"
   },
   "outputs": [
    {
     "data": {
      "text/html": [
       "<div>\n",
       "<style scoped>\n",
       "    .dataframe tbody tr th:only-of-type {\n",
       "        vertical-align: middle;\n",
       "    }\n",
       "\n",
       "    .dataframe tbody tr th {\n",
       "        vertical-align: top;\n",
       "    }\n",
       "\n",
       "    .dataframe thead th {\n",
       "        text-align: right;\n",
       "    }\n",
       "</style>\n",
       "<table border=\"1\" class=\"dataframe\">\n",
       "  <thead>\n",
       "    <tr style=\"text-align: right;\">\n",
       "      <th></th>\n",
       "      <th>maintenance_cost</th>\n",
       "      <th>num_customer</th>\n",
       "    </tr>\n",
       "  </thead>\n",
       "  <tbody>\n",
       "    <tr>\n",
       "      <th>0</th>\n",
       "      <td>&lt;=5000</td>\n",
       "      <td>33</td>\n",
       "    </tr>\n",
       "    <tr>\n",
       "      <th>1</th>\n",
       "      <td>5001-10000</td>\n",
       "      <td>41</td>\n",
       "    </tr>\n",
       "    <tr>\n",
       "      <th>2</th>\n",
       "      <td>10001-15000</td>\n",
       "      <td>20</td>\n",
       "    </tr>\n",
       "    <tr>\n",
       "      <th>3</th>\n",
       "      <td>15001-20000</td>\n",
       "      <td>17</td>\n",
       "    </tr>\n",
       "    <tr>\n",
       "      <th>4</th>\n",
       "      <td>20001-25000</td>\n",
       "      <td>10</td>\n",
       "    </tr>\n",
       "    <tr>\n",
       "      <th>5</th>\n",
       "      <td>25001-30000</td>\n",
       "      <td>16</td>\n",
       "    </tr>\n",
       "    <tr>\n",
       "      <th>6</th>\n",
       "      <td>&gt;=30001</td>\n",
       "      <td>5</td>\n",
       "    </tr>\n",
       "  </tbody>\n",
       "</table>\n",
       "</div>"
      ],
      "text/plain": [
       "  maintenance_cost  num_customer\n",
       "0           <=5000            33\n",
       "1       5001-10000            41\n",
       "2      10001-15000            20\n",
       "3      15001-20000            17\n",
       "4      20001-25000            10\n",
       "5      25001-30000            16\n",
       "6          >=30001             5"
      ]
     },
     "execution_count": 32,
     "metadata": {},
     "output_type": "execute_result"
    }
   ],
   "source": [
    "df_it = pd.read_csv('https://raw.githubusercontent.com/ThammakornS/ProgStat/main/dataset/asm3_1_itcost.csv')\n",
    "df_it"
   ]
  },
  {
   "cell_type": "markdown",
   "metadata": {
    "id": "oPu4CUFShP7E"
   },
   "source": [
    "เพิ่มคอลัมน์ความถี่สะสม:"
   ]
  },
  {
   "cell_type": "code",
   "execution_count": 33,
   "metadata": {
    "colab": {
     "base_uri": "https://localhost:8080/",
     "height": 269
    },
    "executionInfo": {
     "elapsed": 375,
     "status": "ok",
     "timestamp": 1703182259810,
     "user": {
      "displayName": "Thammakorn SAETHANG",
      "userId": "08182570455347153646"
     },
     "user_tz": -420
    },
    "id": "RycPTPBthOQP",
    "outputId": "03588809-d988-4e13-d308-cc4dc9e59e7f"
   },
   "outputs": [
    {
     "data": {
      "text/html": [
       "<div>\n",
       "<style scoped>\n",
       "    .dataframe tbody tr th:only-of-type {\n",
       "        vertical-align: middle;\n",
       "    }\n",
       "\n",
       "    .dataframe tbody tr th {\n",
       "        vertical-align: top;\n",
       "    }\n",
       "\n",
       "    .dataframe thead th {\n",
       "        text-align: right;\n",
       "    }\n",
       "</style>\n",
       "<table border=\"1\" class=\"dataframe\">\n",
       "  <thead>\n",
       "    <tr style=\"text-align: right;\">\n",
       "      <th></th>\n",
       "      <th>maintenance_cost</th>\n",
       "      <th>num_customer</th>\n",
       "      <th>cumu_num_customer</th>\n",
       "    </tr>\n",
       "  </thead>\n",
       "  <tbody>\n",
       "    <tr>\n",
       "      <th>0</th>\n",
       "      <td>&lt;=5000</td>\n",
       "      <td>33</td>\n",
       "      <td>33</td>\n",
       "    </tr>\n",
       "    <tr>\n",
       "      <th>1</th>\n",
       "      <td>5001-10000</td>\n",
       "      <td>41</td>\n",
       "      <td>74</td>\n",
       "    </tr>\n",
       "    <tr>\n",
       "      <th>2</th>\n",
       "      <td>10001-15000</td>\n",
       "      <td>20</td>\n",
       "      <td>94</td>\n",
       "    </tr>\n",
       "    <tr>\n",
       "      <th>3</th>\n",
       "      <td>15001-20000</td>\n",
       "      <td>17</td>\n",
       "      <td>111</td>\n",
       "    </tr>\n",
       "    <tr>\n",
       "      <th>4</th>\n",
       "      <td>20001-25000</td>\n",
       "      <td>10</td>\n",
       "      <td>121</td>\n",
       "    </tr>\n",
       "    <tr>\n",
       "      <th>5</th>\n",
       "      <td>25001-30000</td>\n",
       "      <td>16</td>\n",
       "      <td>137</td>\n",
       "    </tr>\n",
       "    <tr>\n",
       "      <th>6</th>\n",
       "      <td>&gt;=30001</td>\n",
       "      <td>5</td>\n",
       "      <td>142</td>\n",
       "    </tr>\n",
       "  </tbody>\n",
       "</table>\n",
       "</div>"
      ],
      "text/plain": [
       "  maintenance_cost  num_customer  cumu_num_customer\n",
       "0           <=5000            33                 33\n",
       "1       5001-10000            41                 74\n",
       "2      10001-15000            20                 94\n",
       "3      15001-20000            17                111\n",
       "4      20001-25000            10                121\n",
       "5      25001-30000            16                137\n",
       "6          >=30001             5                142"
      ]
     },
     "execution_count": 33,
     "metadata": {},
     "output_type": "execute_result"
    }
   ],
   "source": [
    "df_it['cumu_num_customer'] = df_it.num_customer.cumsum()\n",
    "df_it"
   ]
  },
  {
   "cell_type": "markdown",
   "metadata": {
    "id": "hj0bjQxyh9PS"
   },
   "source": [
    "หาตำแหน่งของมัธยฐาน:"
   ]
  },
  {
   "cell_type": "code",
   "execution_count": 34,
   "metadata": {
    "colab": {
     "base_uri": "https://localhost:8080/"
    },
    "executionInfo": {
     "elapsed": 358,
     "status": "ok",
     "timestamp": 1703182281348,
     "user": {
      "displayName": "Thammakorn SAETHANG",
      "userId": "08182570455347153646"
     },
     "user_tz": -420
    },
    "id": "IhiYv-jhJGTg",
    "outputId": "a9da0772-6a9b-4e55-9631-7e909b7f8b4c"
   },
   "outputs": [
    {
     "data": {
      "text/plain": [
       "71.0"
      ]
     },
     "execution_count": 34,
     "metadata": {},
     "output_type": "execute_result"
    }
   ],
   "source": [
    "df_it.num_customer.sum()/2"
   ]
  },
  {
   "cell_type": "markdown",
   "metadata": {
    "id": "oOAOZjh6ij0K"
   },
   "source": [
    "ดังนั้น มัธยฐานอยู่ index ชั้น 1 ขอบเขตล่าง 5000.5  \n",
    "แทนค่าในสูตรการหาค่ามัฐยฐาน:\n"
   ]
  },
  {
   "cell_type": "markdown",
   "metadata": {
    "id": "qzC_UMKLn5BK"
   },
   "source": [
    "![Screen Shot 2565-12-21 at 14.01.59.png](data:image/png;base64,iVBORw0KGgoAAAANSUhEUgAAAPEAAAA/CAYAAAAxKS7NAAABQGlDQ1BJQ0MgUHJvZmlsZQAAKJFjYGASSCwoyGFhYGDIzSspCnJ3UoiIjFJgf8bAwyAKxCIMaonJxQWOAQE+QCUMMBoVfLvGwAiiL+uCzDJsP3KLxfq5Y3uF8v/4l7mzMNWjAK6U1OJkIP0HiJOSC4pKGBgYE4Bs5fKSAhC7BcgWKQI6CsieAWKnQ9hrQOwkCPsAWE1IkDOQfQXIFkjOSEwBsp8A2TpJSOLpSGyovSDAEWxk5GZsakDAqaSDktSKEhDtnF9QWZSZnlGi4AgMoVQFz7xkPR0FIwMjIwYGUHhDVH++AQ5HRjEOhFjqDgYGk2ag4E2EWPY7BoY9ixgY+N4hxFT1gfzbDAyH0goSixLhDmD8xlKcZmwEYXNvZ2Bgnfb//+dwBgZ2TQaGv9f///+9/f//v8sYGJhvMTAc+AYAGXBgRiNIiUgAAABWZVhJZk1NACoAAAAIAAGHaQAEAAAAAQAAABoAAAAAAAOShgAHAAAAEgAAAESgAgAEAAAAAQAAAPGgAwAEAAAAAQAAAD8AAAAAQVNDSUkAAABTY3JlZW5zaG905V8nWQAAAdVpVFh0WE1MOmNvbS5hZG9iZS54bXAAAAAAADx4OnhtcG1ldGEgeG1sbnM6eD0iYWRvYmU6bnM6bWV0YS8iIHg6eG1wdGs9IlhNUCBDb3JlIDYuMC4wIj4KICAgPHJkZjpSREYgeG1sbnM6cmRmPSJodHRwOi8vd3d3LnczLm9yZy8xOTk5LzAyLzIyLXJkZi1zeW50YXgtbnMjIj4KICAgICAgPHJkZjpEZXNjcmlwdGlvbiByZGY6YWJvdXQ9IiIKICAgICAgICAgICAgeG1sbnM6ZXhpZj0iaHR0cDovL25zLmFkb2JlLmNvbS9leGlmLzEuMC8iPgogICAgICAgICA8ZXhpZjpQaXhlbFlEaW1lbnNpb24+NjM8L2V4aWY6UGl4ZWxZRGltZW5zaW9uPgogICAgICAgICA8ZXhpZjpQaXhlbFhEaW1lbnNpb24+MjQxPC9leGlmOlBpeGVsWERpbWVuc2lvbj4KICAgICAgICAgPGV4aWY6VXNlckNvbW1lbnQ+U2NyZWVuc2hvdDwvZXhpZjpVc2VyQ29tbWVudD4KICAgICAgPC9yZGY6RGVzY3JpcHRpb24+CiAgIDwvcmRmOlJERj4KPC94OnhtcG1ldGE+CtwZ2V0AABBXSURBVHgB7Z0H0NTEF8Afgo7dUbF3EXtXFOwVFB1BFDt25VPUUcfexcFeABs69sbYsCuoYBf72BsIFrC3sWA3//09/3uTy5fL5XLJXXLfvpm7tC1vX/Zld1/bTp4BceAo4ChQWArMVFjMHeKOAo4CSgHHxK4jOAoUnAJdLP692sbZU3d0FHAUKAAFJo7qo1iWmJgre7MA+DsUHQU6NAX8g66bThewK8yYMUPGjRsnX3zxhWL/66+/ysMPPyzTp08vYGscyvVSoGwkrrcwlz97Crz55pvSr18/mTZtmiyzzDJy9dVXyy677CLff/+9dOrUSb788kuZf/75s0fE1ZAbCriRODevIh4i7733ntx4441yyCGHyKRJk+SMM86Qd999V0455RT5+++/5a233opXkEvVMhRwTFywV7nrrrvKJptsIlOnTpXZZptNbr75Zunatav8888/2pLu3bvnrkV//vmnvPjii/Loo4/K77//njv8io6Qm04X8A1in/P888/LNttsI0sssYS24LnnnpMll1xSFltssVy16JZbbpG2tjZZbbXV5KuvvpKZZ55ZmE3MNJMbP9J6UY6SaVGygeXABKyBN9xwQ63133//lRdeeEFH6KzQ+O677yTOj1HXAtP+QYMGyYgRI2TixIkyZMgQ+fDDD+Wbb76xSdwxBQq4kTgFIqZdxJQpU3TdGyy3f//+stZaa8mzzz6rj3r06KFHhFy//fabzD333HL22WfLfPPNp6NfMH/Sa6TfjPB//PGHFtG5c+eyouxUnpvXXXed7LfffjptPvnkk2XttdeWXr16qQDu/PPPl+22204WWmihsvyNumAJ8sADD8gjjzwiP/30k5x++unSu3fvWNVfeeWVKjT0J15wwQX1w+S/14xzNxI3g+pV6oSJhw4dKnR6Rjb7Y8QFmEozHYVBgMUXX1xWWWUVGTVqlLzyyiuyxx576P20/uaYYw459dRTtTgY8Ouvv1YhGoI0fozQffv2LavutddeU5XXp59+qqMxjHPOOefIPffcU5auURfMAFZeeWUVAu6+++5Kw7nmmit29X/99VfpPdA23s8VV1wRO3+mCXGAAHoOHvvfiftvOgUee+wxnFK8eeedNzYuZjT0DDPFTl9rQvMh8VZffXXFa88992yX3UjK9ZkZifXZTTfdpNdmrV5Ka9RfnhkBS9eNOjEfP2/TTTf1Fl10Uc8wo1YLLtAsCdi2mY9Ckuyp5PHzqxuJM/1ENq5wRmam0VkBAqlrr71WmErfeuut8uCDD5ZVtdxyy8mOO+5Y0lFvsMEG+vzOO+/UNfCYMWN05nDfffeV5cv64p133pETTjhBnnrqKZlzzjll2LBhOmNhRtEqwjXHxFn3ohYqf91115UjjzxSWzR48GD58ccfy1oHo+6www56r1u3bpoWxl944YV1rY46bK+99irLk/UFH42xY8dqNazrP/nkE/n555+zrrax5dux3T8823vu2BwKJJlONwpTI+Tyll12WZ0qGwFW1WpJ34wptB8xIyFXfN944w3/7XbnZn3vMfWuBnmbTjvpdGO/mXXXhmllXDCdsZQUyawdRUs3Q04w6dx///1Dnvx3a/bZZ1dJ81ZbbSXXX3+97LbbbpESXtIjvQaXWnCviECCB6i3wAPhXxigyz788MN1ZkHanj17hiXL7T03nc7tq0kXMaTI6Ger/X755ZeqFW+55ZaqRiLhhAkTKqaHOYxwTrp06aIWWxUTZviA9k6ePFnWWWcdXc+HVcUUH+k6FnBW4h+WLq/33Eic1zdTAS//6FohSehtzDFRTaUB4IAHFXrSqNEd5kC1hFopTeZA14teHMePasDICqy33nqRSV9//XVZf/31dbbwxBNPyNJLL60OJpGZcvLQjcQ5eRFFQuOSSy5RV8gbbrhBhVZRuAeZg2l9Unj88cd1qovw7Mknn4xVjP1wRTExAjqs4IwKStZcc00ZMGCA8NG7//77Y9XR7ERuJG72GyhY/a+++qqceOKJctRRR8m2224bib1lDhiD3+eff66SYb8UG8mx31QzWCAWatiH33777SrhPvroo+Wll16qODUO5o/DxJisMrswAkUZP3681oc7JyO+lbYHy83VtUFewUmnLSWaf8yrdNqoZjwzQnlmfekZE8x2hLrgggs8I+wq3TdTaZUKL7DAAp7xg/Z++OEHz+hmvQMPPLCUxjCLpjFMEXo0KipNi5EG0mPArLG9ww47TM+j/jBQMetcz+iEo5J5xhpN6zbqqFI6o1P2dtppp9K1/8RJp3P1CSsuMgQHYBRjeorgiFExaPqYdutwYGAt/NBDD8kss8xSVjwmoSNHjlQTS/vAjoLXXHONejFxHymxYWabRIMbGAYpXQdPbD20sVbAxpy1MxL0KABPjD+23357TfbZZ58JAr6iSKlrp0wUNdyzhlAA31w6GMb7CI8worjssstk9OjRVTtsUgSx0jIjkAYjsN5Mtiymw3fffbfQ+eeZZx57WwVp1ZgDm2Yk55UAAVMSSzQ+Kqzdsco6+OCDKxWv6i+m59DSWnAhVUcdhhS+CFCVifFcueqqq3Thv/zyy8sBBxyg3jI0jo6D1NGa2DW7wXQy+/W3uBD5AouhVoJFFllEjjnmGDnttNMEI/411lhDf3TGaqNOEjrgkEEkEQBvHn6VwDIxuuE4zLH55purW2Wl8rD4itJbh+XDSgupOWvwiy++OHJEffvtt3WdbhkYnPEEwwOL9XgakHW/jGRiXkSfPn3U7tQ2BtvTQw89VPWNeM002hbW4hF2XHHFFeWss85SvSDPcTVL8hUPKzvOPeiF296ss87abroZJ3/cNDj/m/VnKTleNQARP7KAb7/9tqQXrlY++lggLnO8/PLLpagkYWUHP8DWg4pYYpVg1VVXVTtvAhGY9XilZHofFRR9BMk3oz7v0Ky35cwzz4zMV8vDzPulXbCHCbbOO+88jwU+AopnnnnGM2uuMuEDAoG8gQlfoziusMIKDUfNSFC17pNOOqmuumsRbGFKiLeTsWWuq860M5vR2jPMobgttdRSnnGX9IwjQmLPIbyOVlppJc+sqUt90NhCe8bSqi7UEdBhFooQzLhNZmZ2mXa/9PNr5EiMkfvWW29dmlYg0CAo2wcffCCGSdQ/s5YvUiPSMvUDwLvVAQ8d1m3GNVCFSnlqL1Ng8GJWwqiJz3M9Zpesrel7aQOCMys8s6GO0q6D8rLsl5FMzPoGBTieH+Zrqm3DsZofUr/3339fIz7U4lydBYFsmThu22iPG2+8sb3dksePP/5YhTEYJlx66aU6DUSiatekzW50o5ij2e2MU3/W/bKixRbuWqgtYGLWCv4oBliysFYx0xu5/PLL47SjIWmwDrLRFIuiHkhCGNZtO++8s44gqEWYISHI2XvvvZMU5/JkTIGs+2XoSEwnwS6V6ISESEV1ceGFF6pAC0EA9yxgb1oNkGYiJa4VBg4cqBLwuPmsnSzSW4Q/rQq8DyynAL9F0b777qv33F++KGD7JQNiFv0ylInRsZlQLHLEEUfomuaOO+5QowKmqjA30ja2EUECGUe9xLoIb5ZagdhOtQDmc0Arj8K0D90wPwfFoEDW/TKUiQnFYiTTJQph98qXn0iFMDjTNzxYtthii1KaqBOiH/LLGuwXL2smxr4W44YgYLgAQB+/VZJNB171TnnrEQ5ZPNwxGQWMGDxRxqz7ZSgTBzElvjFMjI7u6aef1nVyME2zr5GAIuwBCJGaJaCXjTJ4MGof4RcEwqTWy8TBMt11vinQiH4Zi4kJggagRI9y6apETnbrY9+gWoG1LaqsOGCnLNjYWoODOPmSpDEG/KF2yozAxx9/vFq14eUThEYangTrdtfNoYDtl8xus+qXVZkYa52LLrpIKcAaGDtZq1eLS5bbbrtNjjvuuLjJS+nQM2LHGgcssVjLY2TvB3ZLOOigg1SCm4bqifV92BofvS2ATrNSKBg/XknOk07pktTl8tRPAdsvMY0lckgWEMnE6LeQEPMVQapGIHCCk8cRZvmR3WijjdTO138vzjlr8bhgbabD1sOox/BhDTOl++ijj9SPFKcCRn7W7nnclCwuHVy6fFEgql+mhWkoE7M5l4loKMcee6w6FHCNITlMzM52MDE2ymzoZbcSiUKINWqW61R0wxiuA0EmxlKGnRQQxAVHR7x/8HDBPpx8tImIEZbwUW1yzxwFqlHA3y9rGZCqlRt83o6JscTCswQpKFNnBDjEG8a4Hv0kTg/4lOKahrQ6D4CXiN0nCDc5Apvj3oagC/02hiv42volu4SWYdRFjcaGXwASZ/x0kcBbr5Y8tM/hUEwK+PslvJQZWOtxa1BtHKnVwNx0Ys+MTPaxZ9aVnrHc0mcYnpvQJaVnzTwhkoRhTsXLEKni0Xx8SmiaD5VHtAmzdvXM19KbMWOGZ3xPNeqE2aenlK7Wk2Y4QNSKo0tfPwUMc2o/i9rGJdgv6aP+yCH1YmH5lXKILaRgb+LNYWyilWntM3vE44M9d8xIZW8V8ggxYXizi6BnZhnqqQVDG4myMnXSRpkpvWeMMLy77roraRGarxYvproqakBms5zxzEzHM0svzyzDPGMk1IBas60iDhNni0H53mntptMIsSqpdZBKW3VTZlODBhTMlBnA3pj1cNeuXbVd9U6hkQ+wznbwHwUwfkEqu88++wg7EXLMi7NMK72jdkzcSo2r1BZswwGk0FbSzr1zzz1X95t1Ha0S5eLfNyORCg3RjRMBBv09H8xqTvrxa3ApLQU6JBMjqAMQ2qE6IxoHIVkIscqI4ZjYdo9kR/TlCHXYiZCQTkSDQXfe1taWrECXK5ICFV0RI3MV/CFSdQIeYNNq9q3Vc6xpUFNZv+mCN7Gp6BOyqeV3Imwqhcsr75AjMSRAVYYlGvbMGHk4SI8CJjyRBoxA9jB8+HD1iEuvdFdSkAIdlokhBK6Otbo7BgnorsMpwCwnaifC8FzubhIKdMjpdBJCuTzxKRBnJ0J2KmTajZePg/oo4Ji4Pvq53CEUsP6zYR5vBFnEGw4LQKbaRLuwIXdDinK3YlDAMXEMIrkktVHA2p4HmRhzXcI5devWTSPFIMFGFWXT11aLS20p4JjYUsIdU6OAZcogEw8dOlTVefha42iCOg/HFLsHUmoIdLCCOrRgq4O964Y0F/dV3FXRCxMl1Q9ESe3cubOYgO9q9MH+RzjVZBnv2V9/q547Jm7VN9ukdlXaiRC3PPZGwtSVjc4AvMVsSKUmodsS1TombonXmI9GwJSVdiIk4ikblBFkkN0TkWATyggV37333puPBhQUC7cmLuiLyxvaqIsQWBHKuNJOhOziiL86pq79+/eXzTbbLDRqaN7alnd83Eic4zeENZk/OL/ZwC63QqA4OxHCuP369dOoqayZiwSDBg0SG5KYuHN5AsfEeXob/8cFO26kt0Go5CIaTNeMa0ZhftWA6CpFY2DaxFqeva78kBdrP8fE/reSk3MiaeKY4SA/FMgq3GwaLSxj4l5t49Io05XhKOAo0EAKdCKMSAPrc1U5CjgKpEwBJ51OmaCuOEeBRlPAMXGjKe7qcxRImQL/A8gB3ahYTNp1AAAAAElFTkSuQmCC)"
   ]
  },
  {
   "cell_type": "code",
   "execution_count": 35,
   "metadata": {
    "colab": {
     "base_uri": "https://localhost:8080/"
    },
    "executionInfo": {
     "elapsed": 373,
     "status": "ok",
     "timestamp": 1671605460463,
     "user": {
      "displayName": "Thammakorn SAETHANG",
      "userId": "08182570455347153646"
     },
     "user_tz": -420
    },
    "id": "uKJIMPC0JGL9",
    "outputId": "cb945c70-6957-44a5-b07b-3a30f420502b"
   },
   "outputs": [
    {
     "data": {
      "text/plain": [
       "9634.646341463415"
      ]
     },
     "execution_count": 35,
     "metadata": {},
     "output_type": "execute_result"
    }
   ],
   "source": [
    "5000.5+( (71-33) / 41)*5000"
   ]
  },
  {
   "cell_type": "markdown",
   "metadata": {
    "id": "42EYQdwvrJJW"
   },
   "source": [
    "หาค่าฐานนิยม:  \n",
    "ฐานนิยมอยู่ที่ index ชั้น 1 แทนค่าในสูตรการหาค่าฐานนิยม:"
   ]
  },
  {
   "cell_type": "markdown",
   "metadata": {
    "id": "B2uxiFrroDZY"
   },
   "source": [
    "![Screen Shot 2565-12-21 at 13.58.12.png](data:image/png;base64,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)"
   ]
  },
  {
   "cell_type": "code",
   "execution_count": 36,
   "metadata": {
    "colab": {
     "base_uri": "https://localhost:8080/"
    },
    "executionInfo": {
     "elapsed": 2,
     "status": "ok",
     "timestamp": 1671605463000,
     "user": {
      "displayName": "Thammakorn SAETHANG",
      "userId": "08182570455347153646"
     },
     "user_tz": -420
    },
    "id": "TX2PXbAWlGt2",
    "outputId": "46e3d3da-10cd-42b0-f5a1-98aca524896b"
   },
   "outputs": [
    {
     "data": {
      "text/plain": [
       "6379.810344827586"
      ]
     },
     "execution_count": 36,
     "metadata": {},
     "output_type": "execute_result"
    }
   ],
   "source": [
    "5000.5+( (41-33) / ((41-33) + (41-20)))*5000"
   ]
  },
  {
   "cell_type": "markdown",
   "metadata": {
    "id": "1YG3lJKAvwV0"
   },
   "source": [
    "###  "
   ]
  },
  {
   "cell_type": "markdown",
   "metadata": {
    "id": "JTDVG3rksTto"
   },
   "source": [
    "3.2 สุ่มตัวอย่างนักศึกษามาจำนวนหนึ่ง พบว่าคะแนนสอบวิชาสถิติ เป็นดังตาราง 'ex3_2_score.csv' จงหาค่า"
   ]
  },
  {
   "cell_type": "markdown",
   "metadata": {
    "id": "tGs8uJzvy7AY"
   },
   "source": [
    "**3.2.1 ค่าเฉลี่ย**"
   ]
  },
  {
   "cell_type": "code",
   "execution_count": 37,
   "metadata": {
    "colab": {
     "base_uri": "https://localhost:8080/",
     "height": 238
    },
    "executionInfo": {
     "elapsed": 358,
     "status": "ok",
     "timestamp": 1703182966252,
     "user": {
      "displayName": "Thammakorn SAETHANG",
      "userId": "08182570455347153646"
     },
     "user_tz": -420
    },
    "id": "xGfGFa4kvtyH",
    "outputId": "3f74cd78-a2d3-4181-ce35-891e99d9d9d8"
   },
   "outputs": [
    {
     "data": {
      "text/html": [
       "<div>\n",
       "<style scoped>\n",
       "    .dataframe tbody tr th:only-of-type {\n",
       "        vertical-align: middle;\n",
       "    }\n",
       "\n",
       "    .dataframe tbody tr th {\n",
       "        vertical-align: top;\n",
       "    }\n",
       "\n",
       "    .dataframe thead th {\n",
       "        text-align: right;\n",
       "    }\n",
       "</style>\n",
       "<table border=\"1\" class=\"dataframe\">\n",
       "  <thead>\n",
       "    <tr style=\"text-align: right;\">\n",
       "      <th></th>\n",
       "      <th>score</th>\n",
       "      <th>num_student</th>\n",
       "    </tr>\n",
       "  </thead>\n",
       "  <tbody>\n",
       "    <tr>\n",
       "      <th>0</th>\n",
       "      <td>11-15</td>\n",
       "      <td>15</td>\n",
       "    </tr>\n",
       "    <tr>\n",
       "      <th>1</th>\n",
       "      <td>16-20</td>\n",
       "      <td>14</td>\n",
       "    </tr>\n",
       "    <tr>\n",
       "      <th>2</th>\n",
       "      <td>21-25</td>\n",
       "      <td>20</td>\n",
       "    </tr>\n",
       "    <tr>\n",
       "      <th>3</th>\n",
       "      <td>26-30</td>\n",
       "      <td>18</td>\n",
       "    </tr>\n",
       "    <tr>\n",
       "      <th>4</th>\n",
       "      <td>31-35</td>\n",
       "      <td>16</td>\n",
       "    </tr>\n",
       "    <tr>\n",
       "      <th>5</th>\n",
       "      <td>36-40</td>\n",
       "      <td>17</td>\n",
       "    </tr>\n",
       "  </tbody>\n",
       "</table>\n",
       "</div>"
      ],
      "text/plain": [
       "   score  num_student\n",
       "0  11-15           15\n",
       "1  16-20           14\n",
       "2  21-25           20\n",
       "3  26-30           18\n",
       "4  31-35           16\n",
       "5  36-40           17"
      ]
     },
     "execution_count": 37,
     "metadata": {},
     "output_type": "execute_result"
    }
   ],
   "source": [
    "df_score = pd.read_csv('https://raw.githubusercontent.com/ThammakornS/ProgStat/main/dataset/asm3_2_score.csv')\n",
    "df_score"
   ]
  },
  {
   "cell_type": "markdown",
   "metadata": {
    "id": "yZRVkSPnfcek"
   },
   "source": [
    "split string คอลัมน์ score เพื่อใช้สำหรับหาค่ากึ่งกลาง:"
   ]
  },
  {
   "cell_type": "code",
   "execution_count": 38,
   "metadata": {
    "colab": {
     "base_uri": "https://localhost:8080/",
     "height": 238
    },
    "executionInfo": {
     "elapsed": 533,
     "status": "ok",
     "timestamp": 1671611905994,
     "user": {
      "displayName": "Thammakorn SAETHANG",
      "userId": "08182570455347153646"
     },
     "user_tz": -420
    },
    "id": "pDFVQTNzykLc",
    "outputId": "58a90038-5d81-4c77-909b-a0ad8ec5f252"
   },
   "outputs": [
    {
     "data": {
      "text/html": [
       "<div>\n",
       "<style scoped>\n",
       "    .dataframe tbody tr th:only-of-type {\n",
       "        vertical-align: middle;\n",
       "    }\n",
       "\n",
       "    .dataframe tbody tr th {\n",
       "        vertical-align: top;\n",
       "    }\n",
       "\n",
       "    .dataframe thead th {\n",
       "        text-align: right;\n",
       "    }\n",
       "</style>\n",
       "<table border=\"1\" class=\"dataframe\">\n",
       "  <thead>\n",
       "    <tr style=\"text-align: right;\">\n",
       "      <th></th>\n",
       "      <th>score</th>\n",
       "      <th>num_student</th>\n",
       "      <th>sc_from</th>\n",
       "      <th>sc_to</th>\n",
       "    </tr>\n",
       "  </thead>\n",
       "  <tbody>\n",
       "    <tr>\n",
       "      <th>0</th>\n",
       "      <td>11-15</td>\n",
       "      <td>15</td>\n",
       "      <td>11</td>\n",
       "      <td>15</td>\n",
       "    </tr>\n",
       "    <tr>\n",
       "      <th>1</th>\n",
       "      <td>16-20</td>\n",
       "      <td>14</td>\n",
       "      <td>16</td>\n",
       "      <td>20</td>\n",
       "    </tr>\n",
       "    <tr>\n",
       "      <th>2</th>\n",
       "      <td>21-25</td>\n",
       "      <td>20</td>\n",
       "      <td>21</td>\n",
       "      <td>25</td>\n",
       "    </tr>\n",
       "    <tr>\n",
       "      <th>3</th>\n",
       "      <td>26-30</td>\n",
       "      <td>18</td>\n",
       "      <td>26</td>\n",
       "      <td>30</td>\n",
       "    </tr>\n",
       "    <tr>\n",
       "      <th>4</th>\n",
       "      <td>31-35</td>\n",
       "      <td>16</td>\n",
       "      <td>31</td>\n",
       "      <td>35</td>\n",
       "    </tr>\n",
       "    <tr>\n",
       "      <th>5</th>\n",
       "      <td>36-40</td>\n",
       "      <td>17</td>\n",
       "      <td>36</td>\n",
       "      <td>40</td>\n",
       "    </tr>\n",
       "  </tbody>\n",
       "</table>\n",
       "</div>"
      ],
      "text/plain": [
       "   score  num_student  sc_from  sc_to\n",
       "0  11-15           15       11     15\n",
       "1  16-20           14       16     20\n",
       "2  21-25           20       21     25\n",
       "3  26-30           18       26     30\n",
       "4  31-35           16       31     35\n",
       "5  36-40           17       36     40"
      ]
     },
     "execution_count": 38,
     "metadata": {},
     "output_type": "execute_result"
    }
   ],
   "source": [
    "df_score[['sc_from', 'sc_to']] = df_score.score.str.split('-', expand=True).astype(int)\n",
    "df_score"
   ]
  },
  {
   "cell_type": "markdown",
   "metadata": {
    "id": "6JHT6tskfprT"
   },
   "source": [
    "หาค่ากึ่งกลางและเก็บไว้ที่คอลัมน์ x:"
   ]
  },
  {
   "cell_type": "code",
   "execution_count": 39,
   "metadata": {
    "colab": {
     "base_uri": "https://localhost:8080/",
     "height": 238
    },
    "executionInfo": {
     "elapsed": 383,
     "status": "ok",
     "timestamp": 1671611909677,
     "user": {
      "displayName": "Thammakorn SAETHANG",
      "userId": "08182570455347153646"
     },
     "user_tz": -420
    },
    "id": "oHYpcXC00Dvj",
    "outputId": "6a51e61f-4ae3-4ffb-bcc4-0ed901481943"
   },
   "outputs": [
    {
     "data": {
      "text/html": [
       "<div>\n",
       "<style scoped>\n",
       "    .dataframe tbody tr th:only-of-type {\n",
       "        vertical-align: middle;\n",
       "    }\n",
       "\n",
       "    .dataframe tbody tr th {\n",
       "        vertical-align: top;\n",
       "    }\n",
       "\n",
       "    .dataframe thead th {\n",
       "        text-align: right;\n",
       "    }\n",
       "</style>\n",
       "<table border=\"1\" class=\"dataframe\">\n",
       "  <thead>\n",
       "    <tr style=\"text-align: right;\">\n",
       "      <th></th>\n",
       "      <th>score</th>\n",
       "      <th>num_student</th>\n",
       "      <th>sc_from</th>\n",
       "      <th>sc_to</th>\n",
       "      <th>x</th>\n",
       "    </tr>\n",
       "  </thead>\n",
       "  <tbody>\n",
       "    <tr>\n",
       "      <th>0</th>\n",
       "      <td>11-15</td>\n",
       "      <td>15</td>\n",
       "      <td>11</td>\n",
       "      <td>15</td>\n",
       "      <td>13.0</td>\n",
       "    </tr>\n",
       "    <tr>\n",
       "      <th>1</th>\n",
       "      <td>16-20</td>\n",
       "      <td>14</td>\n",
       "      <td>16</td>\n",
       "      <td>20</td>\n",
       "      <td>18.0</td>\n",
       "    </tr>\n",
       "    <tr>\n",
       "      <th>2</th>\n",
       "      <td>21-25</td>\n",
       "      <td>20</td>\n",
       "      <td>21</td>\n",
       "      <td>25</td>\n",
       "      <td>23.0</td>\n",
       "    </tr>\n",
       "    <tr>\n",
       "      <th>3</th>\n",
       "      <td>26-30</td>\n",
       "      <td>18</td>\n",
       "      <td>26</td>\n",
       "      <td>30</td>\n",
       "      <td>28.0</td>\n",
       "    </tr>\n",
       "    <tr>\n",
       "      <th>4</th>\n",
       "      <td>31-35</td>\n",
       "      <td>16</td>\n",
       "      <td>31</td>\n",
       "      <td>35</td>\n",
       "      <td>33.0</td>\n",
       "    </tr>\n",
       "    <tr>\n",
       "      <th>5</th>\n",
       "      <td>36-40</td>\n",
       "      <td>17</td>\n",
       "      <td>36</td>\n",
       "      <td>40</td>\n",
       "      <td>38.0</td>\n",
       "    </tr>\n",
       "  </tbody>\n",
       "</table>\n",
       "</div>"
      ],
      "text/plain": [
       "   score  num_student  sc_from  sc_to     x\n",
       "0  11-15           15       11     15  13.0\n",
       "1  16-20           14       16     20  18.0\n",
       "2  21-25           20       21     25  23.0\n",
       "3  26-30           18       26     30  28.0\n",
       "4  31-35           16       31     35  33.0\n",
       "5  36-40           17       36     40  38.0"
      ]
     },
     "execution_count": 39,
     "metadata": {},
     "output_type": "execute_result"
    }
   ],
   "source": [
    "df_score['x'] = (df_score.sc_from + df_score.sc_to)/2\n",
    "df_score"
   ]
  },
  {
   "cell_type": "markdown",
   "metadata": {
    "id": "TZ-dLrHmf3uQ"
   },
   "source": [
    "หาค่าความถี่(f) คูณด้วยค่ากึ่งกลาง(x) เก็บผลไว้ที่คอลัมน์ fx:"
   ]
  },
  {
   "cell_type": "code",
   "execution_count": 40,
   "metadata": {
    "colab": {
     "base_uri": "https://localhost:8080/",
     "height": 238
    },
    "executionInfo": {
     "elapsed": 440,
     "status": "ok",
     "timestamp": 1671611939075,
     "user": {
      "displayName": "Thammakorn SAETHANG",
      "userId": "08182570455347153646"
     },
     "user_tz": -420
    },
    "id": "bokxvf0L0QLQ",
    "outputId": "ab9b57c1-d5a8-45e9-9257-6cae18fe3d6f"
   },
   "outputs": [
    {
     "data": {
      "text/html": [
       "<div>\n",
       "<style scoped>\n",
       "    .dataframe tbody tr th:only-of-type {\n",
       "        vertical-align: middle;\n",
       "    }\n",
       "\n",
       "    .dataframe tbody tr th {\n",
       "        vertical-align: top;\n",
       "    }\n",
       "\n",
       "    .dataframe thead th {\n",
       "        text-align: right;\n",
       "    }\n",
       "</style>\n",
       "<table border=\"1\" class=\"dataframe\">\n",
       "  <thead>\n",
       "    <tr style=\"text-align: right;\">\n",
       "      <th></th>\n",
       "      <th>score</th>\n",
       "      <th>num_student</th>\n",
       "      <th>sc_from</th>\n",
       "      <th>sc_to</th>\n",
       "      <th>x</th>\n",
       "      <th>fx</th>\n",
       "    </tr>\n",
       "  </thead>\n",
       "  <tbody>\n",
       "    <tr>\n",
       "      <th>0</th>\n",
       "      <td>11-15</td>\n",
       "      <td>15</td>\n",
       "      <td>11</td>\n",
       "      <td>15</td>\n",
       "      <td>13.0</td>\n",
       "      <td>195.0</td>\n",
       "    </tr>\n",
       "    <tr>\n",
       "      <th>1</th>\n",
       "      <td>16-20</td>\n",
       "      <td>14</td>\n",
       "      <td>16</td>\n",
       "      <td>20</td>\n",
       "      <td>18.0</td>\n",
       "      <td>252.0</td>\n",
       "    </tr>\n",
       "    <tr>\n",
       "      <th>2</th>\n",
       "      <td>21-25</td>\n",
       "      <td>20</td>\n",
       "      <td>21</td>\n",
       "      <td>25</td>\n",
       "      <td>23.0</td>\n",
       "      <td>460.0</td>\n",
       "    </tr>\n",
       "    <tr>\n",
       "      <th>3</th>\n",
       "      <td>26-30</td>\n",
       "      <td>18</td>\n",
       "      <td>26</td>\n",
       "      <td>30</td>\n",
       "      <td>28.0</td>\n",
       "      <td>504.0</td>\n",
       "    </tr>\n",
       "    <tr>\n",
       "      <th>4</th>\n",
       "      <td>31-35</td>\n",
       "      <td>16</td>\n",
       "      <td>31</td>\n",
       "      <td>35</td>\n",
       "      <td>33.0</td>\n",
       "      <td>528.0</td>\n",
       "    </tr>\n",
       "    <tr>\n",
       "      <th>5</th>\n",
       "      <td>36-40</td>\n",
       "      <td>17</td>\n",
       "      <td>36</td>\n",
       "      <td>40</td>\n",
       "      <td>38.0</td>\n",
       "      <td>646.0</td>\n",
       "    </tr>\n",
       "  </tbody>\n",
       "</table>\n",
       "</div>"
      ],
      "text/plain": [
       "   score  num_student  sc_from  sc_to     x     fx\n",
       "0  11-15           15       11     15  13.0  195.0\n",
       "1  16-20           14       16     20  18.0  252.0\n",
       "2  21-25           20       21     25  23.0  460.0\n",
       "3  26-30           18       26     30  28.0  504.0\n",
       "4  31-35           16       31     35  33.0  528.0\n",
       "5  36-40           17       36     40  38.0  646.0"
      ]
     },
     "execution_count": 40,
     "metadata": {},
     "output_type": "execute_result"
    }
   ],
   "source": [
    "df_score['fx'] = df_score.num_student*df_score.x\n",
    "df_score"
   ]
  },
  {
   "cell_type": "markdown",
   "metadata": {
    "id": "7MyOcSwVgFk_"
   },
   "source": [
    "หาค่าเฉลี่ยโดยแทนค่าตามสูตร:  \n",
    "![Screen Shot 2565-12-21 at 14.07.00.png](data:image/png;base64,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)"
   ]
  },
  {
   "cell_type": "code",
   "execution_count": 41,
   "metadata": {
    "colab": {
     "base_uri": "https://localhost:8080/"
    },
    "executionInfo": {
     "elapsed": 357,
     "status": "ok",
     "timestamp": 1671611942240,
     "user": {
      "displayName": "Thammakorn SAETHANG",
      "userId": "08182570455347153646"
     },
     "user_tz": -420
    },
    "id": "0H3h8krx03ce",
    "outputId": "cc2f81f0-6137-4fcc-c3f6-b7fdd59b2ee0"
   },
   "outputs": [
    {
     "data": {
      "text/plain": [
       "25.85"
      ]
     },
     "execution_count": 41,
     "metadata": {},
     "output_type": "execute_result"
    }
   ],
   "source": [
    "x_bar = df_score.fx.sum()/df_score.num_student.sum()\n",
    "x_bar"
   ]
  },
  {
   "cell_type": "markdown",
   "metadata": {
    "id": "HyMa-rkR1ctY"
   },
   "source": [
    "**3.2.2 ค่ามัธยฐาน**"
   ]
  },
  {
   "cell_type": "markdown",
   "metadata": {
    "id": "H4tvd0pZ12NA"
   },
   "source": [
    "สร้างคอลัมน์ความถี่สะสม"
   ]
  },
  {
   "cell_type": "code",
   "execution_count": 42,
   "metadata": {
    "colab": {
     "base_uri": "https://localhost:8080/",
     "height": 238
    },
    "executionInfo": {
     "elapsed": 340,
     "status": "ok",
     "timestamp": 1671611944539,
     "user": {
      "displayName": "Thammakorn SAETHANG",
      "userId": "08182570455347153646"
     },
     "user_tz": -420
    },
    "id": "KSu3qtI918mg",
    "outputId": "259925e9-1499-404e-aa2b-82dd84df3a41"
   },
   "outputs": [
    {
     "data": {
      "text/html": [
       "<div>\n",
       "<style scoped>\n",
       "    .dataframe tbody tr th:only-of-type {\n",
       "        vertical-align: middle;\n",
       "    }\n",
       "\n",
       "    .dataframe tbody tr th {\n",
       "        vertical-align: top;\n",
       "    }\n",
       "\n",
       "    .dataframe thead th {\n",
       "        text-align: right;\n",
       "    }\n",
       "</style>\n",
       "<table border=\"1\" class=\"dataframe\">\n",
       "  <thead>\n",
       "    <tr style=\"text-align: right;\">\n",
       "      <th></th>\n",
       "      <th>score</th>\n",
       "      <th>num_student</th>\n",
       "      <th>sc_from</th>\n",
       "      <th>sc_to</th>\n",
       "      <th>x</th>\n",
       "      <th>fx</th>\n",
       "      <th>f_cumu</th>\n",
       "    </tr>\n",
       "  </thead>\n",
       "  <tbody>\n",
       "    <tr>\n",
       "      <th>0</th>\n",
       "      <td>11-15</td>\n",
       "      <td>15</td>\n",
       "      <td>11</td>\n",
       "      <td>15</td>\n",
       "      <td>13.0</td>\n",
       "      <td>195.0</td>\n",
       "      <td>15</td>\n",
       "    </tr>\n",
       "    <tr>\n",
       "      <th>1</th>\n",
       "      <td>16-20</td>\n",
       "      <td>14</td>\n",
       "      <td>16</td>\n",
       "      <td>20</td>\n",
       "      <td>18.0</td>\n",
       "      <td>252.0</td>\n",
       "      <td>29</td>\n",
       "    </tr>\n",
       "    <tr>\n",
       "      <th>2</th>\n",
       "      <td>21-25</td>\n",
       "      <td>20</td>\n",
       "      <td>21</td>\n",
       "      <td>25</td>\n",
       "      <td>23.0</td>\n",
       "      <td>460.0</td>\n",
       "      <td>49</td>\n",
       "    </tr>\n",
       "    <tr>\n",
       "      <th>3</th>\n",
       "      <td>26-30</td>\n",
       "      <td>18</td>\n",
       "      <td>26</td>\n",
       "      <td>30</td>\n",
       "      <td>28.0</td>\n",
       "      <td>504.0</td>\n",
       "      <td>67</td>\n",
       "    </tr>\n",
       "    <tr>\n",
       "      <th>4</th>\n",
       "      <td>31-35</td>\n",
       "      <td>16</td>\n",
       "      <td>31</td>\n",
       "      <td>35</td>\n",
       "      <td>33.0</td>\n",
       "      <td>528.0</td>\n",
       "      <td>83</td>\n",
       "    </tr>\n",
       "    <tr>\n",
       "      <th>5</th>\n",
       "      <td>36-40</td>\n",
       "      <td>17</td>\n",
       "      <td>36</td>\n",
       "      <td>40</td>\n",
       "      <td>38.0</td>\n",
       "      <td>646.0</td>\n",
       "      <td>100</td>\n",
       "    </tr>\n",
       "  </tbody>\n",
       "</table>\n",
       "</div>"
      ],
      "text/plain": [
       "   score  num_student  sc_from  sc_to     x     fx  f_cumu\n",
       "0  11-15           15       11     15  13.0  195.0      15\n",
       "1  16-20           14       16     20  18.0  252.0      29\n",
       "2  21-25           20       21     25  23.0  460.0      49\n",
       "3  26-30           18       26     30  28.0  504.0      67\n",
       "4  31-35           16       31     35  33.0  528.0      83\n",
       "5  36-40           17       36     40  38.0  646.0     100"
      ]
     },
     "execution_count": 42,
     "metadata": {},
     "output_type": "execute_result"
    }
   ],
   "source": [
    "df_score['f_cumu'] = df_score.num_student.cumsum()\n",
    "df_score"
   ]
  },
  {
   "cell_type": "markdown",
   "metadata": {
    "id": "laGYoRk21wQA"
   },
   "source": [
    "หาตำแหน่งมัธยฐาน"
   ]
  },
  {
   "cell_type": "code",
   "execution_count": 43,
   "metadata": {
    "colab": {
     "base_uri": "https://localhost:8080/"
    },
    "executionInfo": {
     "elapsed": 324,
     "status": "ok",
     "timestamp": 1671611948996,
     "user": {
      "displayName": "Thammakorn SAETHANG",
      "userId": "08182570455347153646"
     },
     "user_tz": -420
    },
    "id": "aJpM6FyO1Sic",
    "outputId": "2ae322c4-2bf5-4f7a-a957-0ddfb03eb88c"
   },
   "outputs": [
    {
     "data": {
      "text/plain": [
       "50.0"
      ]
     },
     "execution_count": 43,
     "metadata": {},
     "output_type": "execute_result"
    }
   ],
   "source": [
    "df_score.num_student.sum()/2"
   ]
  },
  {
   "cell_type": "markdown",
   "metadata": {
    "id": "-IHxV3GT2jeI"
   },
   "source": [
    "ดังนั้นอยู่ที่ชั้น e=3 ซึ่งมีขอบเขตล่าง 25.5  \n",
    "แทนค่าต่างๆ ตามสูตร  \n",
    "![Screen Shot 2565-12-21 at 14.01.59.png](data:image/png;base64,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)"
   ]
  },
  {
   "cell_type": "code",
   "execution_count": 44,
   "metadata": {
    "colab": {
     "base_uri": "https://localhost:8080/"
    },
    "executionInfo": {
     "elapsed": 432,
     "status": "ok",
     "timestamp": 1671611959542,
     "user": {
      "displayName": "Thammakorn SAETHANG",
      "userId": "08182570455347153646"
     },
     "user_tz": -420
    },
    "id": "na1DDuUD3FR-",
    "outputId": "130999e1-cb41-444c-82f3-0ab46a9c1b52"
   },
   "outputs": [
    {
     "data": {
      "text/plain": [
       "25.77777777777778"
      ]
     },
     "execution_count": 44,
     "metadata": {},
     "output_type": "execute_result"
    }
   ],
   "source": [
    "25.5+((50-49) / 18 )*5"
   ]
  },
  {
   "cell_type": "markdown",
   "metadata": {
    "id": "zlLBVZ0HcXUZ"
   },
   "source": [
    "**3.2.3 ค่าฐานนิยม**"
   ]
  },
  {
   "cell_type": "markdown",
   "metadata": {
    "id": "hkmEk0asc6S4"
   },
   "source": [
    "ช่วงคะแนนที่มีฐานนิยมก็คือ 21-25 ชั้น e=2 แทนค่าตามสูตร  \n",
    "![Screen Shot 2565-12-21 at 13.58.12.png](data:image/png;base64,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)"
   ]
  },
  {
   "cell_type": "code",
   "execution_count": 45,
   "metadata": {
    "colab": {
     "base_uri": "https://localhost:8080/"
    },
    "executionInfo": {
     "elapsed": 407,
     "status": "ok",
     "timestamp": 1671611967753,
     "user": {
      "displayName": "Thammakorn SAETHANG",
      "userId": "08182570455347153646"
     },
     "user_tz": -420
    },
    "id": "1axNaHMH2bsf",
    "outputId": "f633983c-8e26-4168-82c2-639e56a6d15a"
   },
   "outputs": [
    {
     "data": {
      "text/plain": [
       "24.25"
      ]
     },
     "execution_count": 45,
     "metadata": {},
     "output_type": "execute_result"
    }
   ],
   "source": [
    "20.5+( (20-14)/((20-14)+(20-18)) )*5"
   ]
  },
  {
   "cell_type": "markdown",
   "metadata": {
    "id": "ONwLjc7wgtn4"
   },
   "source": [
    "**3.2.4 Q<sub>1</sub> และ Q<sub>3</sub>**"
   ]
  },
  {
   "cell_type": "markdown",
   "metadata": {
    "id": "0pqiNjeO1pJn"
   },
   "source": [
    "หาตำแหน่ง Q<sub>1</sub> และ Q<sub>3</sub>:"
   ]
  },
  {
   "cell_type": "code",
   "execution_count": 46,
   "metadata": {
    "colab": {
     "base_uri": "https://localhost:8080/"
    },
    "executionInfo": {
     "elapsed": 5,
     "status": "ok",
     "timestamp": 1671617546573,
     "user": {
      "displayName": "Thammakorn SAETHANG",
      "userId": "08182570455347153646"
     },
     "user_tz": -420
    },
    "id": "gUg_Q-Kc1nv9",
    "outputId": "6e67e818-2948-40dc-a82d-ca2e1472571c"
   },
   "outputs": [
    {
     "data": {
      "text/plain": [
       "25.0"
      ]
     },
     "execution_count": 46,
     "metadata": {},
     "output_type": "execute_result"
    }
   ],
   "source": [
    "Q1_position = df_score.num_student.sum()*1/4\n",
    "Q1_position"
   ]
  },
  {
   "cell_type": "markdown",
   "metadata": {
    "id": "xAGuLDMVKQ0L"
   },
   "source": [
    "ตำแหน่ง Q<sub>1</sub> จะอยู่ที่ชั้น e=1"
   ]
  },
  {
   "cell_type": "code",
   "execution_count": 47,
   "metadata": {
    "colab": {
     "base_uri": "https://localhost:8080/"
    },
    "executionInfo": {
     "elapsed": 496,
     "status": "ok",
     "timestamp": 1671617891755,
     "user": {
      "displayName": "Thammakorn SAETHANG",
      "userId": "08182570455347153646"
     },
     "user_tz": -420
    },
    "id": "ZUiTlaIv2GFi",
    "outputId": "77fb3199-d05a-47ca-afd7-a8e1099846d2"
   },
   "outputs": [
    {
     "data": {
      "text/plain": [
       "75.0"
      ]
     },
     "execution_count": 47,
     "metadata": {},
     "output_type": "execute_result"
    }
   ],
   "source": [
    "Q3_position = df_score.num_student.sum()*3/4\n",
    "Q3_position"
   ]
  },
  {
   "cell_type": "markdown",
   "metadata": {
    "id": "YVztAsZ7KinG"
   },
   "source": [
    "ตำแหน่ง Q<sub>3</sub> จะอยู่ที่ชั้น e=4"
   ]
  },
  {
   "cell_type": "markdown",
   "metadata": {
    "id": "ds71B-gDJ5uQ"
   },
   "source": [
    "แทนค่าในสูตร  \n",
    "![Screen Shot 2565-12-21 at 17.08.03.png](data:image/png;base64,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)"
   ]
  },
  {
   "cell_type": "code",
   "execution_count": 48,
   "metadata": {
    "colab": {
     "base_uri": "https://localhost:8080/"
    },
    "executionInfo": {
     "elapsed": 3,
     "status": "ok",
     "timestamp": 1671617761095,
     "user": {
      "displayName": "Thammakorn SAETHANG",
      "userId": "08182570455347153646"
     },
     "user_tz": -420
    },
    "id": "tqp2UjCqKwM8",
    "outputId": "8816641e-46a8-470a-8756-bd317de96d2c"
   },
   "outputs": [
    {
     "data": {
      "text/plain": [
       "19.071428571428573"
      ]
     },
     "execution_count": 48,
     "metadata": {},
     "output_type": "execute_result"
    }
   ],
   "source": [
    "Q1 = 15.5+(Q1_position-15)/14*5\n",
    "Q1"
   ]
  },
  {
   "cell_type": "code",
   "execution_count": 49,
   "metadata": {
    "colab": {
     "base_uri": "https://localhost:8080/"
    },
    "executionInfo": {
     "elapsed": 410,
     "status": "ok",
     "timestamp": 1671617934762,
     "user": {
      "displayName": "Thammakorn SAETHANG",
      "userId": "08182570455347153646"
     },
     "user_tz": -420
    },
    "id": "pIZFJH9gLup_",
    "outputId": "6ddcda7e-d668-4b63-ff9f-58f718cbcdce"
   },
   "outputs": [
    {
     "data": {
      "text/plain": [
       "33.0"
      ]
     },
     "execution_count": 49,
     "metadata": {},
     "output_type": "execute_result"
    }
   ],
   "source": [
    "Q3 = 30.5+(Q3_position-67)/16*5\n",
    "Q3"
   ]
  },
  {
   "cell_type": "markdown",
   "metadata": {
    "id": "eauxI2MaguGC"
   },
   "source": [
    "**3.2.5 D<sub>7</sub>**"
   ]
  },
  {
   "cell_type": "markdown",
   "metadata": {
    "id": "lN4AxdA4Mh6g"
   },
   "source": [
    "หาตำแหน่ง D<sub>7</sub>"
   ]
  },
  {
   "cell_type": "code",
   "execution_count": 50,
   "metadata": {
    "colab": {
     "base_uri": "https://localhost:8080/"
    },
    "executionInfo": {
     "elapsed": 481,
     "status": "ok",
     "timestamp": 1671618070038,
     "user": {
      "displayName": "Thammakorn SAETHANG",
      "userId": "08182570455347153646"
     },
     "user_tz": -420
    },
    "id": "vUEow3W7Mh6o",
    "outputId": "8b04d813-adf5-4bdd-dd88-c349d4a6b1b6"
   },
   "outputs": [
    {
     "data": {
      "text/plain": [
       "70.0"
      ]
     },
     "execution_count": 50,
     "metadata": {},
     "output_type": "execute_result"
    }
   ],
   "source": [
    "D7_position = df_score.num_student.sum()*7/10\n",
    "D7_position"
   ]
  },
  {
   "cell_type": "markdown",
   "metadata": {
    "id": "gDge553uMh6p"
   },
   "source": [
    "ตำแหน่ง D<sub>7</sub> จะอยู่ที่ชั้น e=4"
   ]
  },
  {
   "cell_type": "markdown",
   "metadata": {
    "id": "lKAloO1zNCj0"
   },
   "source": [
    "แทนค่าในสูตร  \n",
    "![Screen Shot 2565-12-21 at 17.22.21.png](data:image/png;base64,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)"
   ]
  },
  {
   "cell_type": "code",
   "execution_count": 51,
   "metadata": {
    "colab": {
     "base_uri": "https://localhost:8080/"
    },
    "executionInfo": {
     "elapsed": 1007,
     "status": "ok",
     "timestamp": 1671618231382,
     "user": {
      "displayName": "Thammakorn SAETHANG",
      "userId": "08182570455347153646"
     },
     "user_tz": -420
    },
    "id": "_zYin5GkNO5D",
    "outputId": "e36499c8-c16f-4ae6-f1be-cebfa619d4a9"
   },
   "outputs": [
    {
     "data": {
      "text/plain": [
       "31.4375"
      ]
     },
     "execution_count": 51,
     "metadata": {},
     "output_type": "execute_result"
    }
   ],
   "source": [
    "D7 = 30.5+(D7_position-67)/16*5\n",
    "D7"
   ]
  },
  {
   "cell_type": "markdown",
   "metadata": {
    "id": "ULdnf-dHguZj"
   },
   "source": [
    "**3.2.6 P<sub>75</sub>**"
   ]
  },
  {
   "cell_type": "markdown",
   "metadata": {
    "id": "1zdOqW_oNlY8"
   },
   "source": [
    "P<sub>75</sub> คือ Q<sub>3</sub> ซึ่งมีค่า 33.0"
   ]
  },
  {
   "cell_type": "markdown",
   "metadata": {
    "id": "V8tD6c5Cgu8S"
   },
   "source": [
    "**3.2.7 พิสัย**"
   ]
  },
  {
   "cell_type": "code",
   "execution_count": 52,
   "metadata": {
    "colab": {
     "base_uri": "https://localhost:8080/"
    },
    "executionInfo": {
     "elapsed": 3,
     "status": "ok",
     "timestamp": 1671618348727,
     "user": {
      "displayName": "Thammakorn SAETHANG",
      "userId": "08182570455347153646"
     },
     "user_tz": -420
    },
    "id": "k4yLNYtAN1Br",
    "outputId": "7193d054-8cad-4b62-c1bb-580ebd990271"
   },
   "outputs": [
    {
     "data": {
      "text/plain": [
       "30.0"
      ]
     },
     "execution_count": 52,
     "metadata": {},
     "output_type": "execute_result"
    }
   ],
   "source": [
    "40.5-10.5"
   ]
  },
  {
   "cell_type": "markdown",
   "metadata": {
    "id": "9MkVinDAgvJx"
   },
   "source": [
    "**3.2.8 ส่วนเบี่ยงเบนควอร์ไทล์**"
   ]
  },
  {
   "cell_type": "markdown",
   "metadata": {
    "id": "utVn2JbsN-1H"
   },
   "source": [
    "จากสูตร  \n",
    "![Screen Shot 2565-12-21 at 17.26.59.png](data:image/png;base64,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)  \n",
    "แทนค่าในสูตร:"
   ]
  },
  {
   "cell_type": "code",
   "execution_count": 53,
   "metadata": {
    "colab": {
     "base_uri": "https://localhost:8080/"
    },
    "executionInfo": {
     "elapsed": 5,
     "status": "ok",
     "timestamp": 1671618611902,
     "user": {
      "displayName": "Thammakorn SAETHANG",
      "userId": "08182570455347153646"
     },
     "user_tz": -420
    },
    "id": "G4PdDoj_O6cB",
    "outputId": "0ed39645-9ba8-4c7f-da36-977fd1d9f8f3"
   },
   "outputs": [
    {
     "data": {
      "text/plain": [
       "6.9642857142857135"
      ]
     },
     "execution_count": 53,
     "metadata": {},
     "output_type": "execute_result"
    }
   ],
   "source": [
    "(Q3-Q1)/2"
   ]
  },
  {
   "cell_type": "markdown",
   "metadata": {
    "id": "iQ82vURdgvXp"
   },
   "source": [
    "**3.2.9 ส่วนเบี่ยงเบนมาตราฐานและความแปรปรวน**"
   ]
  },
  {
   "cell_type": "markdown",
   "metadata": {
    "id": "8Bnf9WH4P06C"
   },
   "source": [
    "จากสูตร  \n",
    "![Screen Shot 2565-12-21 at 17.35.49.png](data:image/png;base64,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)"
   ]
  },
  {
   "cell_type": "markdown",
   "metadata": {
    "id": "2mVNuNmoQBLa"
   },
   "source": [
    "หาค่า Σfx<sup>2</sup>"
   ]
  },
  {
   "cell_type": "code",
   "execution_count": 54,
   "metadata": {
    "colab": {
     "base_uri": "https://localhost:8080/"
    },
    "executionInfo": {
     "elapsed": 412,
     "status": "ok",
     "timestamp": 1671619267498,
     "user": {
      "displayName": "Thammakorn SAETHANG",
      "userId": "08182570455347153646"
     },
     "user_tz": -420
    },
    "id": "HxnKCXP8Pqkl",
    "outputId": "24a10b3d-992a-4ce9-f8b3-61116e011374"
   },
   "outputs": [
    {
     "data": {
      "text/plain": [
       "73735.0"
      ]
     },
     "execution_count": 54,
     "metadata": {},
     "output_type": "execute_result"
    }
   ],
   "source": [
    "fx2 = sum(df_score.num_student*df_score.x**2)\n",
    "fx2"
   ]
  },
  {
   "cell_type": "markdown",
   "metadata": {
    "id": "s1pThdBURhDp"
   },
   "source": [
    "แทนค่าในสูตร"
   ]
  },
  {
   "cell_type": "code",
   "execution_count": 55,
   "metadata": {
    "colab": {
     "base_uri": "https://localhost:8080/"
    },
    "executionInfo": {
     "elapsed": 2,
     "status": "ok",
     "timestamp": 1671619607401,
     "user": {
      "displayName": "Thammakorn SAETHANG",
      "userId": "08182570455347153646"
     },
     "user_tz": -420
    },
    "id": "xv-XmUMXRgW4",
    "outputId": "97a262b3-5187-49af-8d51-4872c401bb02"
   },
   "outputs": [
    {
     "data": {
      "text/plain": [
       "8.356180800805918"
      ]
     },
     "execution_count": 55,
     "metadata": {},
     "output_type": "execute_result"
    }
   ],
   "source": [
    "s = np.sqrt((fx2-df_score.num_student.sum()*x_bar**2) / (df_score.num_student.sum()-1))\n",
    "s"
   ]
  },
  {
   "cell_type": "markdown",
   "metadata": {
    "id": "vdZhkendSyM8"
   },
   "source": [
    "เนื่องจากความแปรปรวนคือ s<sup>2</sup> ดังนั้นจะได้ว่า"
   ]
  },
  {
   "cell_type": "code",
   "execution_count": 56,
   "metadata": {
    "colab": {
     "base_uri": "https://localhost:8080/"
    },
    "executionInfo": {
     "elapsed": 3,
     "status": "ok",
     "timestamp": 1671619678332,
     "user": {
      "displayName": "Thammakorn SAETHANG",
      "userId": "08182570455347153646"
     },
     "user_tz": -420
    },
    "id": "f5ZzLYQOSyjd",
    "outputId": "979ad6fc-e2a5-486c-ed58-02a9d1c94d11"
   },
   "outputs": [
    {
     "data": {
      "text/plain": [
       "69.82575757575744"
      ]
     },
     "execution_count": 56,
     "metadata": {},
     "output_type": "execute_result"
    }
   ],
   "source": [
    "s**2"
   ]
  },
  {
   "cell_type": "markdown",
   "metadata": {
    "id": "34_0j7kTgvlZ"
   },
   "source": [
    "**3.2.10 สัมประสิทธิ์ของการแปรผัน**"
   ]
  },
  {
   "cell_type": "markdown",
   "metadata": {
    "id": "Dr8iuM4JTNS8"
   },
   "source": [
    "จากสูตร  \n",
    "![Screen Shot 2565-12-21 at 17.49.30.png](data:image/png;base64,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)  \n",
    "แทนค่าในสูตร"
   ]
  },
  {
   "cell_type": "code",
   "execution_count": 57,
   "metadata": {
    "colab": {
     "base_uri": "https://localhost:8080/"
    },
    "executionInfo": {
     "elapsed": 1,
     "status": "ok",
     "timestamp": 1671619813842,
     "user": {
      "displayName": "Thammakorn SAETHANG",
      "userId": "08182570455347153646"
     },
     "user_tz": -420
    },
    "id": "uQ5qNIDTe3Uu",
    "outputId": "9bdfad94-8975-4264-bd79-327b52d255e1"
   },
   "outputs": [
    {
     "data": {
      "text/plain": [
       "32.32565106694746"
      ]
     },
     "execution_count": 57,
     "metadata": {},
     "output_type": "execute_result"
    }
   ],
   "source": [
    "s/x_bar*100"
   ]
  },
  {
   "cell_type": "markdown",
   "metadata": {
    "id": "UOIZ8YfAT1yH"
   },
   "source": [
    "สัมประสิทธิ์ของการแปรผันมีค่า 32.33%"
   ]
  },
  {
   "cell_type": "markdown",
   "metadata": {
    "id": "yRFqnZpMUMow"
   },
   "source": [
    "3.3 บริษัทเกมแห่งหนึ่งได้ทำการทดสอบ game engine รุ่นใหม่ ในคอมพิวเตอร์ที่มีส่วนประกอบของฮารด์แวร์ต่างๆกัน (เช่น cpu, gpu, ram, ฯลฯ) จำนวน 30 เครื่อง และทำการวัดค่า frames per second (FPS) ได้ผลดังนี้  \n",
    "60.0, 30.2, 33.4, 59.9, 40.1, 25.5, 17.4, 28.6, 45.5, 57.8,  \n",
    "22.5, 50.2, 30.8, 43.1, 50.5, 35.5, 27.4, 29.2, 55.5, 10.2,   \n",
    "32.2, 27.8, 33.8, 53.4, 25.5, 30.4, 36.1, 49.3, 18.6, 50.0   \n",
    "จงคำนวณหาค่าเฉลี่ย, ส่วนเบี่ยงเบนมาตราฐาน, ฐานนิยม, Q<sub>1</sub>, D<sub>3</sub>, P<sub>45</sub> ของค่า FPS ที่ได้จากการทดสอบ"
   ]
  },
  {
   "cell_type": "markdown",
   "metadata": {
    "id": "RrpgMvIVZMAO"
   },
   "source": [
    "ค่าเฉลี่ย:"
   ]
  },
  {
   "cell_type": "code",
   "execution_count": 58,
   "metadata": {
    "colab": {
     "base_uri": "https://localhost:8080/"
    },
    "executionInfo": {
     "elapsed": 329,
     "status": "ok",
     "timestamp": 1671621455017,
     "user": {
      "displayName": "Thammakorn SAETHANG",
      "userId": "08182570455347153646"
     },
     "user_tz": -420
    },
    "id": "bTaXXWSpT-1d",
    "outputId": "b8a20acf-fb02-487b-aaa4-dbea9a31831e"
   },
   "outputs": [
    {
     "data": {
      "text/plain": [
       "37.01333333333333"
      ]
     },
     "execution_count": 58,
     "metadata": {},
     "output_type": "execute_result"
    }
   ],
   "source": [
    "fps = [60.0, 30.2, 33.4, 59.9, 40.1, 25.5, 17.4, 28.6, 45.5, 57.8,\n",
    "22.5, 50.2, 30.8, 43.1, 50.5, 35.5, 27.4, 29.2, 55.5, 10.2,\n",
    "32.2, 27.8, 33.8, 53.4, 25.5, 30.4, 36.1, 49.3, 18.6, 50.0 ]\n",
    "np.mean(fps)"
   ]
  },
  {
   "cell_type": "markdown",
   "metadata": {
    "id": "9rKC0-TGZ1Jn"
   },
   "source": [
    "ส่วนเบี่ยงเบนมาตราฐาน:"
   ]
  },
  {
   "cell_type": "code",
   "execution_count": 59,
   "metadata": {
    "colab": {
     "base_uri": "https://localhost:8080/"
    },
    "executionInfo": {
     "elapsed": 3,
     "status": "ok",
     "timestamp": 1671621522915,
     "user": {
      "displayName": "Thammakorn SAETHANG",
      "userId": "08182570455347153646"
     },
     "user_tz": -420
    },
    "id": "Swc7Yk5zZKsN",
    "outputId": "a76c2621-eaa3-44f7-86df-2f8f088e2d09"
   },
   "outputs": [
    {
     "data": {
      "text/plain": [
       "13.284771565802536"
      ]
     },
     "execution_count": 59,
     "metadata": {},
     "output_type": "execute_result"
    }
   ],
   "source": [
    "np.std(fps)"
   ]
  },
  {
   "cell_type": "markdown",
   "metadata": {
    "id": "XuKipkyhaKVO"
   },
   "source": [
    "ฐานนิยม:"
   ]
  },
  {
   "cell_type": "code",
   "execution_count": 60,
   "metadata": {
    "colab": {
     "base_uri": "https://localhost:8080/"
    },
    "executionInfo": {
     "elapsed": 3,
     "status": "ok",
     "timestamp": 1671621587599,
     "user": {
      "displayName": "Thammakorn SAETHANG",
      "userId": "08182570455347153646"
     },
     "user_tz": -420
    },
    "id": "f97y1Z34aC8n",
    "outputId": "07a4d5db-9f98-4cd9-cdfb-646babb5f855"
   },
   "outputs": [
    {
     "data": {
      "text/plain": [
       "[25.5]"
      ]
     },
     "execution_count": 60,
     "metadata": {},
     "output_type": "execute_result"
    }
   ],
   "source": [
    "statistics.multimode(fps)"
   ]
  },
  {
   "cell_type": "markdown",
   "metadata": {
    "id": "jeBwd1pdaa-T"
   },
   "source": [
    "Q<sub>1</sub>, D<sub>3</sub> และ P<sub>45</sub>  \n",
    "Q<sub>1</sub> คือ P<sub>25</sub>  \n",
    "D<sub>3</sub> คือ P<sub>30</sub>  "
   ]
  },
  {
   "cell_type": "code",
   "execution_count": 61,
   "metadata": {
    "colab": {
     "base_uri": "https://localhost:8080/"
    },
    "executionInfo": {
     "elapsed": 3,
     "status": "ok",
     "timestamp": 1671622051444,
     "user": {
      "displayName": "Thammakorn SAETHANG",
      "userId": "08182570455347153646"
     },
     "user_tz": -420
    },
    "id": "oFyJNjPkaSwu",
    "outputId": "45e8825a-aff8-4d7e-adf1-bd80f58dcfc6"
   },
   "outputs": [
    {
     "data": {
      "text/plain": [
       "28.0"
      ]
     },
     "execution_count": 61,
     "metadata": {},
     "output_type": "execute_result"
    }
   ],
   "source": [
    "Q1 = np.percentile(fps, 25)\n",
    "Q1"
   ]
  },
  {
   "cell_type": "code",
   "execution_count": 62,
   "metadata": {
    "colab": {
     "base_uri": "https://localhost:8080/"
    },
    "executionInfo": {
     "elapsed": 411,
     "status": "ok",
     "timestamp": 1671622087238,
     "user": {
      "displayName": "Thammakorn SAETHANG",
      "userId": "08182570455347153646"
     },
     "user_tz": -420
    },
    "id": "bPhYupqRcD-X",
    "outputId": "11187d46-70d0-4bc4-9041-16b00ba680c2"
   },
   "outputs": [
    {
     "data": {
      "text/plain": [
       "29.02"
      ]
     },
     "execution_count": 62,
     "metadata": {},
     "output_type": "execute_result"
    }
   ],
   "source": [
    "D3 = np.percentile(fps, 30)\n",
    "D3"
   ]
  },
  {
   "cell_type": "code",
   "execution_count": 63,
   "metadata": {
    "colab": {
     "base_uri": "https://localhost:8080/"
    },
    "executionInfo": {
     "elapsed": 3,
     "status": "ok",
     "timestamp": 1671622203842,
     "user": {
      "displayName": "Thammakorn SAETHANG",
      "userId": "08182570455347153646"
     },
     "user_tz": -420
    },
    "id": "o3GB-xgLcMqF",
    "outputId": "a7455ab3-feb7-4d12-fa70-666225c09d30"
   },
   "outputs": [
    {
     "data": {
      "text/plain": [
       "32.260000000000005"
      ]
     },
     "execution_count": 63,
     "metadata": {},
     "output_type": "execute_result"
    }
   ],
   "source": [
    "P45 = np.percentile(fps, 45)\n",
    "P45"
   ]
  },
  {
   "cell_type": "markdown",
   "metadata": {
    "id": "rOM3ES47mEaR"
   },
   "source": [
    "###   "
   ]
  },
  {
   "cell_type": "markdown",
   "metadata": {
    "id": "JKjYFK5wkfFw"
   },
   "source": []
  },
  {
   "cell_type": "markdown",
   "metadata": {
    "id": "m97H7Z-bmBn5"
   },
   "source": [
    "3.4 หน่วยงานวิจัยแห่งหนึ่งได้รับมอบหมายจากทางรัฐบาลให้ทำการเปรียบเทียบระบบที่ใช้ในการผลิตพลังงานกระแสไฟฟ้าสำหรับนิคมอุตสาหกรรมแห่งหนึ่ง ระบบแรกมีกำลังการผลิตสูงสุด 10,000 เมกะวัตต์ โดยมีค่าเฉลี่ยและส่วนเบี่ยงเบนมาตราฐานของกำลังการผลิตอยู่ที่ 9,000±320 เมกะวัตต์ ระบบที่สองมีกำลังการผลิตสูงสุด 15,000 เมกะวัตต์ โดยมีค่าเฉลี่ยและส่วนเบี่ยงเบนมาตราฐานของกำลังการผลิตอยู่ที่ 14,000±900 เมกะวัตต์ จากข้อมูลนี้ทางสถาบันวิจัยจะสามารถสรุปว่าระบบใดมีกำลังการผลิตที่เที่ยงตรงกว่า\n",
    "\n"
   ]
  },
  {
   "cell_type": "markdown",
   "metadata": {
    "id": "bJBQSTl1rCym"
   },
   "source": [
    "หาค่าสัมประสิทธิ์ของการแปรผัน จากสูตร  \n",
    "![Screen Shot 2565-12-21 at 17.49.30.png](data:image/png;base64,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)  "
   ]
  },
  {
   "cell_type": "markdown",
   "metadata": {
    "id": "4kciSafhrQ40"
   },
   "source": [
    "ระบบแรก"
   ]
  },
  {
   "cell_type": "code",
   "execution_count": 64,
   "metadata": {
    "colab": {
     "base_uri": "https://localhost:8080/"
    },
    "executionInfo": {
     "elapsed": 526,
     "status": "ok",
     "timestamp": 1671626078117,
     "user": {
      "displayName": "Thammakorn SAETHANG",
      "userId": "08182570455347153646"
     },
     "user_tz": -420
    },
    "id": "mftfMj_VrPxu",
    "outputId": "dacb8c9b-f914-4406-d5fc-a0a15065878d"
   },
   "outputs": [
    {
     "data": {
      "text/plain": [
       "3.5555555555555554"
      ]
     },
     "execution_count": 64,
     "metadata": {},
     "output_type": "execute_result"
    }
   ],
   "source": [
    "cv1 = 320/9000*100\n",
    "cv1"
   ]
  },
  {
   "cell_type": "markdown",
   "metadata": {
    "id": "7ru19Ql2rehM"
   },
   "source": [
    "ระบบที่สอง"
   ]
  },
  {
   "cell_type": "code",
   "execution_count": 65,
   "metadata": {
    "colab": {
     "base_uri": "https://localhost:8080/"
    },
    "executionInfo": {
     "elapsed": 533,
     "status": "ok",
     "timestamp": 1671626123168,
     "user": {
      "displayName": "Thammakorn SAETHANG",
      "userId": "08182570455347153646"
     },
     "user_tz": -420
    },
    "id": "uyG6aw2XcpOP",
    "outputId": "5ca42519-6acc-4386-8dd0-4d63dd151d74"
   },
   "outputs": [
    {
     "data": {
      "text/plain": [
       "6.428571428571428"
      ]
     },
     "execution_count": 65,
     "metadata": {},
     "output_type": "execute_result"
    }
   ],
   "source": [
    "cv2 = 900/14000*100\n",
    "cv2"
   ]
  },
  {
   "cell_type": "markdown",
   "metadata": {
    "id": "Y8XM6kWFrvud"
   },
   "source": [
    "จากค่า cv ที่ได้ โรงงานแรกจะผลิตกระแสไฟฟ้าได้เที่ยงตรงกว่า"
   ]
  }
 ],
 "metadata": {
  "colab": {
   "authorship_tag": "ABX9TyMrlT8jtC1ri9EzX8+iADpP",
   "mount_file_id": "1reItrD0_POUn-SXv-Qbl4kTRSs8XEJJ6",
   "provenance": []
  },
  "kernelspec": {
   "display_name": "Python 3",
   "name": "python3"
  },
  "language_info": {
   "codemirror_mode": {
    "name": "ipython",
    "version": 3
   },
   "file_extension": ".py",
   "mimetype": "text/x-python",
   "name": "python",
   "nbconvert_exporter": "python",
   "pygments_lexer": "ipython3",
   "version": "3.9.10"
  }
 },
 "nbformat": 4,
 "nbformat_minor": 0
}
