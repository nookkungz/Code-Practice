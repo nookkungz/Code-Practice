{
 "cells": [
  {
   "cell_type": "code",
   "execution_count": 36,
   "metadata": {},
   "outputs": [],
   "source": [
    "import numpy as np\n",
    "import pandas as pd"
   ]
  },
  {
   "cell_type": "code",
   "execution_count": 37,
   "metadata": {},
   "outputs": [
    {
     "data": {
      "text/html": [
       "<div>\n",
       "<style scoped>\n",
       "    .dataframe tbody tr th:only-of-type {\n",
       "        vertical-align: middle;\n",
       "    }\n",
       "\n",
       "    .dataframe tbody tr th {\n",
       "        vertical-align: top;\n",
       "    }\n",
       "\n",
       "    .dataframe thead th {\n",
       "        text-align: right;\n",
       "    }\n",
       "</style>\n",
       "<table border=\"1\" class=\"dataframe\">\n",
       "  <thead>\n",
       "    <tr style=\"text-align: right;\">\n",
       "      <th></th>\n",
       "      <th>transaction_time</th>\n",
       "      <th>customer_count</th>\n",
       "    </tr>\n",
       "  </thead>\n",
       "  <tbody>\n",
       "    <tr>\n",
       "      <th>0</th>\n",
       "      <td>7-11</td>\n",
       "      <td>4</td>\n",
       "    </tr>\n",
       "    <tr>\n",
       "      <th>1</th>\n",
       "      <td>12-16</td>\n",
       "      <td>15</td>\n",
       "    </tr>\n",
       "    <tr>\n",
       "      <th>2</th>\n",
       "      <td>17-21</td>\n",
       "      <td>6</td>\n",
       "    </tr>\n",
       "    <tr>\n",
       "      <th>3</th>\n",
       "      <td>22-26</td>\n",
       "      <td>0</td>\n",
       "    </tr>\n",
       "    <tr>\n",
       "      <th>4</th>\n",
       "      <td>26-30</td>\n",
       "      <td>2</td>\n",
       "    </tr>\n",
       "  </tbody>\n",
       "</table>\n",
       "</div>"
      ],
      "text/plain": [
       "  transaction_time  customer_count\n",
       "0             7-11               4\n",
       "1            12-16              15\n",
       "2            17-21               6\n",
       "3            22-26               0\n",
       "4            26-30               2"
      ]
     },
     "execution_count": 37,
     "metadata": {},
     "output_type": "execute_result"
    }
   ],
   "source": [
    "df_bank = pd.read_csv(\"bank_transaction_time.csv\")\n",
    "df_bank"
   ]
  },
  {
   "cell_type": "markdown",
   "metadata": {},
   "source": [
    "**Part 1 : หาค่า Mean**\n",
    "สูตรหา Mean ของข้อมูลจัดกลุ่ม : $$\\bar{x}=\\frac{\\sum_{i=1}^{g}f_i x_i}{n}$$\n",
    "<br>g คือ จำนวนหมวดหมู่<br>\n",
    "<br>n คือ จำนวนตัวอย่างทั้งหมด<br>\n",
    "<br>f คือ ค่ากลางในแต่ละหมวดหมู่<br>\n",
    "<br>x คือ ค่าของแต่ละหมวดหมู่\n"
   ]
  },
  {
   "cell_type": "code",
   "execution_count": 38,
   "metadata": {},
   "outputs": [
    {
     "data": {
      "text/plain": [
       "15.407407407407407"
      ]
     },
     "execution_count": 38,
     "metadata": {},
     "output_type": "execute_result"
    }
   ],
   "source": [
    "boundary = df_bank['transaction_time'].str.split('-',expand=True).astype(int)\n",
    "df_bank['mid_value'] = (boundary[0] + boundary[1])/2\n",
    "mean = sum(df_bank['mid_value']*df_bank['customer_count'])/sum(df_bank['customer_count'])\n",
    "mean"
   ]
  },
  {
   "cell_type": "markdown",
   "metadata": {},
   "source": [
    "**Part 2 : หาค่ามัธยฐาน(Median)**\n",
    "สูตรหา Median ของข้อมูลจัดกลุ่ม : $$M_e=L_e+\\frac{\\frac{n}{2}-\\sum_{b=1}^{e}f_b}{f_e}\\cdot I$$\n",
    "<br>1.เรียงลำดับข้อมูลก่อน จากมากไปน้อยหรือน้อยไปมากก็ได้<br>\n",
    "<br>2.หาตำแหน่ง n+1/2 <br>\n",
    "<br>L_e คือ ขอบเขตล่างของชั้น<br>\n",
    "<br>n คือ จำนวนข้อมูลทั้งหมด<br>\n",
    "<br>summation e b = 1fb คือ ผลรวมของความถี่ของทุกชั้นก่อนถึงชั้นที่มีมัธยฐานอยู๋<br>\n",
    "<br>fe คือ ความถี่ของชั้นที่มีมัธยฐานอยู่<br>\n",
    "<br>I คือ ความกว้างของชั้นที่มีมัธฐานอยู่ (ขอบเขตบน - ขอบเขตล่าง +1)<br>\n",
    "\n",
    "<br>1 เพิ่มคอลัมสำหรับ ferq ของจำนวนข้อมูล<br>\n",
    "<br>2 หาตำแหน่งกลางของข้อมูล<br>\n",
    "<br>3 หาค่า e โดยการนำ ferq ไปเทียบตำแหน่งข้อมูล<br>\n",
    "<br>4 หา Le เอาช่วงที่ e index 0 อยู่แล้ว - 0.5<br>\n",
    "<br>5 หา fe จำนวนลูกค้าในช่วง e<br>\n",
    "<br>6 I = np.ceil 1 - 0 หาความกว้างของข้อมูลแต่ละชั้น<br>\n",
    "<br>7 หา nedian โดย le + ((med_pos - ferq[e-1])/fe)*I<br>"
   ]
  },
  {
   "cell_type": "markdown",
   "metadata": {},
   "source": [
    "สูตรหา Median ของข้อมูลจัดกลุ่ม : $$M_e=L_e+\\frac{\\frac{n}{2}-\\sum_{b=1}^{e}f_b}{f_e}\\cdot I$$"
   ]
  },
  {
   "cell_type": "code",
   "execution_count": 39,
   "metadata": {},
   "outputs": [
    {
     "data": {
      "text/html": [
       "<div>\n",
       "<style scoped>\n",
       "    .dataframe tbody tr th:only-of-type {\n",
       "        vertical-align: middle;\n",
       "    }\n",
       "\n",
       "    .dataframe tbody tr th {\n",
       "        vertical-align: top;\n",
       "    }\n",
       "\n",
       "    .dataframe thead th {\n",
       "        text-align: right;\n",
       "    }\n",
       "</style>\n",
       "<table border=\"1\" class=\"dataframe\">\n",
       "  <thead>\n",
       "    <tr style=\"text-align: right;\">\n",
       "      <th></th>\n",
       "      <th>transaction_time</th>\n",
       "      <th>customer_count</th>\n",
       "      <th>mid_value</th>\n",
       "    </tr>\n",
       "  </thead>\n",
       "  <tbody>\n",
       "    <tr>\n",
       "      <th>0</th>\n",
       "      <td>7-11</td>\n",
       "      <td>4</td>\n",
       "      <td>9.0</td>\n",
       "    </tr>\n",
       "    <tr>\n",
       "      <th>1</th>\n",
       "      <td>12-16</td>\n",
       "      <td>15</td>\n",
       "      <td>14.0</td>\n",
       "    </tr>\n",
       "    <tr>\n",
       "      <th>2</th>\n",
       "      <td>17-21</td>\n",
       "      <td>6</td>\n",
       "      <td>19.0</td>\n",
       "    </tr>\n",
       "    <tr>\n",
       "      <th>3</th>\n",
       "      <td>22-26</td>\n",
       "      <td>0</td>\n",
       "      <td>24.0</td>\n",
       "    </tr>\n",
       "    <tr>\n",
       "      <th>4</th>\n",
       "      <td>26-30</td>\n",
       "      <td>2</td>\n",
       "      <td>28.0</td>\n",
       "    </tr>\n",
       "  </tbody>\n",
       "</table>\n",
       "</div>"
      ],
      "text/plain": [
       "  transaction_time  customer_count  mid_value\n",
       "0             7-11               4        9.0\n",
       "1            12-16              15       14.0\n",
       "2            17-21               6       19.0\n",
       "3            22-26               0       24.0\n",
       "4            26-30               2       28.0"
      ]
     },
     "execution_count": 39,
     "metadata": {},
     "output_type": "execute_result"
    }
   ],
   "source": [
    "df_bank"
   ]
  },
  {
   "cell_type": "code",
   "execution_count": 40,
   "metadata": {},
   "outputs": [
    {
     "data": {
      "text/plain": [
       "\"df_bank['ferq_customer_count'] = df_bank['customer_count'].cumsum()\\nboundary = df_bank['transaction_time'].str.split('-',expand=True).astype(int)\\nmed_pos = sum(df_bank['customer_count'])/2\\ne = df_bank[df_bank['ferq_customer_count'] >= med_pos].index[0]\\nLe = boundary[0][e] - 0.5\\nfe = df_bank['customer_count'][e]\\nI = np.ceil(16-11)\\nmed = Le + ((med_pos - df_bank['ferq_customer_count'][e-1])/fe)*I\\nmed\""
      ]
     },
     "execution_count": 40,
     "metadata": {},
     "output_type": "execute_result"
    }
   ],
   "source": [
    "'''df_bank['ferq_customer_count'] = df_bank['customer_count'].cumsum()\n",
    "boundary = df_bank['transaction_time'].str.split('-',expand=True).astype(int)\n",
    "med_pos = sum(df_bank['customer_count'])/2\n",
    "e = df_bank[df_bank['ferq_customer_count'] >= med_pos].index[0]\n",
    "Le = boundary[0][e] - 0.5\n",
    "fe = df_bank['customer_count'][e]\n",
    "I = np.ceil(16-11)\n",
    "med = Le + ((med_pos - df_bank['ferq_customer_count'][e-1])/fe)*I\n",
    "med'''"
   ]
  },
  {
   "cell_type": "markdown",
   "metadata": {},
   "source": [
    "สูตรหา Mode ของข้อมูลจัดกลุ่ม : $$M_o=L_e+\\frac{d_{e-1}}{d_{e-1}+d_{e+1}}\\cdot I$$"
   ]
  },
  {
   "cell_type": "code",
   "execution_count": 41,
   "metadata": {},
   "outputs": [
    {
     "data": {
      "text/plain": [
       "\"df_bank['ferq_customer_count'] = df_bank['customer_count'].cumsum()\\nmed_pos = (sum(df_bank['customer_count']))/2\\ne = df_bank[df_bank['ferq_customer_count'] >= med_pos].index[0]\\nboundary = df_bank['transaction_time'].str.split('-',expand=True).astype(int)\\nLe = boundary[0][e] - 0.5\\nd_prev = np.abs(df_bank['customer_count'][e] - df_bank['customer_count'][e-1])\\nd_next = np.abs(df_bank['customer_count'][e] - df_bank['customer_count'][e+1])\\nI = np.ceil(16-11)\\nmode = Le + (d_prev/(d_prev + d_next))*I\\nmode\\n\""
      ]
     },
     "execution_count": 41,
     "metadata": {},
     "output_type": "execute_result"
    }
   ],
   "source": [
    "'''df_bank['ferq_customer_count'] = df_bank['customer_count'].cumsum()\n",
    "med_pos = (sum(df_bank['customer_count']))/2\n",
    "e = df_bank[df_bank['ferq_customer_count'] >= med_pos].index[0]\n",
    "boundary = df_bank['transaction_time'].str.split('-',expand=True).astype(int)\n",
    "Le = boundary[0][e] - 0.5\n",
    "d_prev = np.abs(df_bank['customer_count'][e] - df_bank['customer_count'][e-1])\n",
    "d_next = np.abs(df_bank['customer_count'][e] - df_bank['customer_count'][e+1])\n",
    "I = np.ceil(16-11)\n",
    "mode = Le + (d_prev/(d_prev + d_next))*I\n",
    "mode\n",
    "'''"
   ]
  },
  {
   "cell_type": "markdown",
   "metadata": {},
   "source": [
    "สูตรหา S.D. ของข้อมูลจัดกลุ่ม (ประชากร) : $$s=\\sqrt{\\frac{\\sum_{i=1}^{n}f_ix^2_i-n\\bar{x}^2}{n-1}}$$"
   ]
  },
  {
   "cell_type": "code",
   "execution_count": 42,
   "metadata": {},
   "outputs": [
    {
     "data": {
      "text/html": [
       "<div>\n",
       "<style scoped>\n",
       "    .dataframe tbody tr th:only-of-type {\n",
       "        vertical-align: middle;\n",
       "    }\n",
       "\n",
       "    .dataframe tbody tr th {\n",
       "        vertical-align: top;\n",
       "    }\n",
       "\n",
       "    .dataframe thead th {\n",
       "        text-align: right;\n",
       "    }\n",
       "</style>\n",
       "<table border=\"1\" class=\"dataframe\">\n",
       "  <thead>\n",
       "    <tr style=\"text-align: right;\">\n",
       "      <th></th>\n",
       "      <th>transaction_time</th>\n",
       "      <th>customer_count</th>\n",
       "      <th>mid_value</th>\n",
       "    </tr>\n",
       "  </thead>\n",
       "  <tbody>\n",
       "    <tr>\n",
       "      <th>0</th>\n",
       "      <td>7-11</td>\n",
       "      <td>4</td>\n",
       "      <td>9.0</td>\n",
       "    </tr>\n",
       "    <tr>\n",
       "      <th>1</th>\n",
       "      <td>12-16</td>\n",
       "      <td>15</td>\n",
       "      <td>14.0</td>\n",
       "    </tr>\n",
       "    <tr>\n",
       "      <th>2</th>\n",
       "      <td>17-21</td>\n",
       "      <td>6</td>\n",
       "      <td>19.0</td>\n",
       "    </tr>\n",
       "    <tr>\n",
       "      <th>3</th>\n",
       "      <td>22-26</td>\n",
       "      <td>0</td>\n",
       "      <td>24.0</td>\n",
       "    </tr>\n",
       "    <tr>\n",
       "      <th>4</th>\n",
       "      <td>26-30</td>\n",
       "      <td>2</td>\n",
       "      <td>28.0</td>\n",
       "    </tr>\n",
       "  </tbody>\n",
       "</table>\n",
       "</div>"
      ],
      "text/plain": [
       "  transaction_time  customer_count  mid_value\n",
       "0             7-11               4        9.0\n",
       "1            12-16              15       14.0\n",
       "2            17-21               6       19.0\n",
       "3            22-26               0       24.0\n",
       "4            26-30               2       28.0"
      ]
     },
     "execution_count": 42,
     "metadata": {},
     "output_type": "execute_result"
    }
   ],
   "source": [
    "df_bank"
   ]
  },
  {
   "cell_type": "code",
   "execution_count": 51,
   "metadata": {},
   "outputs": [
    {
     "name": "stdout",
     "output_type": "stream",
     "text": [
      "15.407407407407407\n",
      "6998.0\n"
     ]
    },
    {
     "data": {
      "text/plain": [
       "4.75765989067395"
      ]
     },
     "execution_count": 51,
     "metadata": {},
     "output_type": "execute_result"
    }
   ],
   "source": [
    "boundary = df_bank['transaction_time'].str.split('-',expand=True).astype(int)\n",
    "df_bank['mid_value'] = (boundary[0]+boundary[1])/2\n",
    "mean = sum(df_bank['mid_value']*df_bank['customer_count'])/sum(df_bank['customer_count'])\n",
    "print(mean)\n",
    "summidx2 = sum(df_bank['customer_count']*(df_bank['mid_value']**2))\n",
    "print(summidx2)\n",
    "std = np.sqrt((summidx2 - ((sum(df_bank['customer_count'])*(mean**2))))/(sum(df_bank['customer_count'])-1))\n",
    "std"
   ]
  }
 ],
 "metadata": {
  "kernelspec": {
   "display_name": "Python 3",
   "language": "python",
   "name": "python3"
  },
  "language_info": {
   "codemirror_mode": {
    "name": "ipython",
    "version": 3
   },
   "file_extension": ".py",
   "mimetype": "text/x-python",
   "name": "python",
   "nbconvert_exporter": "python",
   "pygments_lexer": "ipython3",
   "version": "3.9.10"
  }
 },
 "nbformat": 4,
 "nbformat_minor": 2
}
