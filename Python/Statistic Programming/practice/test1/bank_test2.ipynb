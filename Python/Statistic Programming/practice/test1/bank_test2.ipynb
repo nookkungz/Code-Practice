{
 "cells": [
  {
   "cell_type": "code",
   "execution_count": 1,
   "metadata": {},
   "outputs": [],
   "source": [
    "import numpy as np\n",
    "import pandas as pd"
   ]
  },
  {
   "cell_type": "code",
   "execution_count": 2,
   "metadata": {},
   "outputs": [
    {
     "data": {
      "text/html": [
       "<div>\n",
       "<style scoped>\n",
       "    .dataframe tbody tr th:only-of-type {\n",
       "        vertical-align: middle;\n",
       "    }\n",
       "\n",
       "    .dataframe tbody tr th {\n",
       "        vertical-align: top;\n",
       "    }\n",
       "\n",
       "    .dataframe thead th {\n",
       "        text-align: right;\n",
       "    }\n",
       "</style>\n",
       "<table border=\"1\" class=\"dataframe\">\n",
       "  <thead>\n",
       "    <tr style=\"text-align: right;\">\n",
       "      <th></th>\n",
       "      <th>transaction_time</th>\n",
       "      <th>customer_count</th>\n",
       "    </tr>\n",
       "  </thead>\n",
       "  <tbody>\n",
       "    <tr>\n",
       "      <th>0</th>\n",
       "      <td>7-11</td>\n",
       "      <td>4</td>\n",
       "    </tr>\n",
       "    <tr>\n",
       "      <th>1</th>\n",
       "      <td>12-16</td>\n",
       "      <td>15</td>\n",
       "    </tr>\n",
       "    <tr>\n",
       "      <th>2</th>\n",
       "      <td>17-21</td>\n",
       "      <td>6</td>\n",
       "    </tr>\n",
       "    <tr>\n",
       "      <th>3</th>\n",
       "      <td>22-26</td>\n",
       "      <td>0</td>\n",
       "    </tr>\n",
       "    <tr>\n",
       "      <th>4</th>\n",
       "      <td>26-30</td>\n",
       "      <td>2</td>\n",
       "    </tr>\n",
       "  </tbody>\n",
       "</table>\n",
       "</div>"
      ],
      "text/plain": [
       "  transaction_time  customer_count\n",
       "0             7-11               4\n",
       "1            12-16              15\n",
       "2            17-21               6\n",
       "3            22-26               0\n",
       "4            26-30               2"
      ]
     },
     "execution_count": 2,
     "metadata": {},
     "output_type": "execute_result"
    }
   ],
   "source": [
    "df_bank = pd.read_csv(\"bank_transaction_time.csv\")\n",
    "df_bank"
   ]
  },
  {
   "cell_type": "markdown",
   "metadata": {},
   "source": [
    "หาค่า mean "
   ]
  },
  {
   "cell_type": "code",
   "execution_count": 4,
   "metadata": {},
   "outputs": [
    {
     "data": {
      "text/plain": [
       "15.407407407407407"
      ]
     },
     "execution_count": 4,
     "metadata": {},
     "output_type": "execute_result"
    }
   ],
   "source": [
    "boundary = df_bank['transaction_time'].str.split(\"-\",expand=True).astype(int)\n",
    "df_bank['Midvalue'] = (boundary[0]+boundary[1])/2\n",
    "mean = sum(df_bank['Midvalue']*df_bank['customer_count'])/sum(df_bank['customer_count'])\n",
    "mean"
   ]
  },
  {
   "cell_type": "code",
   "execution_count": 5,
   "metadata": {},
   "outputs": [
    {
     "data": {
      "text/plain": [
       "15.407407407407407"
      ]
     },
     "execution_count": 5,
     "metadata": {},
     "output_type": "execute_result"
    }
   ],
   "source": [
    "boundary = df_bank['transaction_time'].str.split(\"-\",expand=True).astype(int)\n",
    "df_bank['Midvalue'] = (boundary[0]+boundary[1])/2\n",
    "mean = sum(df_bank['Midvalue']*df_bank['customer_count'])/sum(df_bank['customer_count'])\n",
    "mean"
   ]
  },
  {
   "cell_type": "code",
   "execution_count": 6,
   "metadata": {},
   "outputs": [
    {
     "data": {
      "text/plain": [
       "15.407407407407407"
      ]
     },
     "execution_count": 6,
     "metadata": {},
     "output_type": "execute_result"
    }
   ],
   "source": [
    "boundary = df_bank['transaction_time'].str.split(\"-\",expand=True).astype(int)\n",
    "df_bank['Midvalue'] = (boundary[0]+boundary[1])/2\n",
    "mean = sum(df_bank['Midvalue']*df_bank['customer_count'])/sum(df_bank['customer_count'])\n",
    "mean"
   ]
  },
  {
   "cell_type": "code",
   "execution_count": 11,
   "metadata": {},
   "outputs": [
    {
     "data": {
      "text/plain": [
       "15.407407407407407"
      ]
     },
     "execution_count": 11,
     "metadata": {},
     "output_type": "execute_result"
    }
   ],
   "source": [
    "boundary = df_bank['transaction_time'].str.split('-',expand=True).astype(int)\n",
    "df_bank['Midvalue'] = (boundary[0]+boundary[1])/2\n",
    "mean = sum(df_bank['Midvalue']*df_bank['customer_count'])/sum(df_bank['customer_count'])\n",
    "mean"
   ]
  },
  {
   "cell_type": "code",
   "execution_count": 12,
   "metadata": {},
   "outputs": [
    {
     "data": {
      "text/plain": [
       "15.407407407407407"
      ]
     },
     "execution_count": 12,
     "metadata": {},
     "output_type": "execute_result"
    }
   ],
   "source": [
    "boundary = df_bank['transaction_time'].str.split('-',expand=True).astype(int)\n",
    "df_bank['Midvalue'] = (boundary[0]+boundary[1])/2\n",
    "mean = sum(df_bank['Midvalue']*df_bank['customer_count'])/sum(df_bank['customer_count'])\n",
    "mean"
   ]
  },
  {
   "cell_type": "code",
   "execution_count": 16,
   "metadata": {},
   "outputs": [
    {
     "data": {
      "text/plain": [
       "15.407407407407407"
      ]
     },
     "execution_count": 16,
     "metadata": {},
     "output_type": "execute_result"
    }
   ],
   "source": [
    "boundary = df_bank['transaction_time'].str.split('-',expand=True).astype(int)\n",
    "df_bank['Midvalue'] = (boundary[0]+boundary[1])/2\n",
    "mean = sum(df_bank['Midvalue']*df_bank['customer_count'])/sum(df_bank['customer_count'])\n",
    "mean"
   ]
  },
  {
   "cell_type": "code",
   "execution_count": 19,
   "metadata": {},
   "outputs": [
    {
     "data": {
      "text/plain": [
       "15.407407407407407"
      ]
     },
     "execution_count": 19,
     "metadata": {},
     "output_type": "execute_result"
    }
   ],
   "source": [
    "boundary = df_bank['transaction_time'].str.split('-',expand=True).astype(int)\n",
    "df_bank['Midvalue'] = (boundary[0]+boundary[1])/2\n",
    "mean = sum(df_bank['Midvalue']*df_bank['customer_count'])/sum(df_bank['customer_count'])\n",
    "mean"
   ]
  },
  {
   "cell_type": "markdown",
   "metadata": {},
   "source": [
    "หค่ามัธยฐาน"
   ]
  },
  {
   "cell_type": "code",
   "execution_count": 7,
   "metadata": {},
   "outputs": [
    {
     "data": {
      "text/html": [
       "<div>\n",
       "<style scoped>\n",
       "    .dataframe tbody tr th:only-of-type {\n",
       "        vertical-align: middle;\n",
       "    }\n",
       "\n",
       "    .dataframe tbody tr th {\n",
       "        vertical-align: top;\n",
       "    }\n",
       "\n",
       "    .dataframe thead th {\n",
       "        text-align: right;\n",
       "    }\n",
       "</style>\n",
       "<table border=\"1\" class=\"dataframe\">\n",
       "  <thead>\n",
       "    <tr style=\"text-align: right;\">\n",
       "      <th></th>\n",
       "      <th>transaction_time</th>\n",
       "      <th>customer_count</th>\n",
       "      <th>Midvalue</th>\n",
       "    </tr>\n",
       "  </thead>\n",
       "  <tbody>\n",
       "    <tr>\n",
       "      <th>0</th>\n",
       "      <td>7-11</td>\n",
       "      <td>4</td>\n",
       "      <td>9.0</td>\n",
       "    </tr>\n",
       "    <tr>\n",
       "      <th>1</th>\n",
       "      <td>12-16</td>\n",
       "      <td>15</td>\n",
       "      <td>14.0</td>\n",
       "    </tr>\n",
       "    <tr>\n",
       "      <th>2</th>\n",
       "      <td>17-21</td>\n",
       "      <td>6</td>\n",
       "      <td>19.0</td>\n",
       "    </tr>\n",
       "    <tr>\n",
       "      <th>3</th>\n",
       "      <td>22-26</td>\n",
       "      <td>0</td>\n",
       "      <td>24.0</td>\n",
       "    </tr>\n",
       "    <tr>\n",
       "      <th>4</th>\n",
       "      <td>26-30</td>\n",
       "      <td>2</td>\n",
       "      <td>28.0</td>\n",
       "    </tr>\n",
       "  </tbody>\n",
       "</table>\n",
       "</div>"
      ],
      "text/plain": [
       "  transaction_time  customer_count  Midvalue\n",
       "0             7-11               4       9.0\n",
       "1            12-16              15      14.0\n",
       "2            17-21               6      19.0\n",
       "3            22-26               0      24.0\n",
       "4            26-30               2      28.0"
      ]
     },
     "execution_count": 7,
     "metadata": {},
     "output_type": "execute_result"
    }
   ],
   "source": [
    "df_bank"
   ]
  },
  {
   "cell_type": "markdown",
   "metadata": {},
   "source": [
    "หาค่า median"
   ]
  },
  {
   "cell_type": "code",
   "execution_count": 9,
   "metadata": {},
   "outputs": [
    {
     "data": {
      "text/plain": [
       "14.666666666666666"
      ]
     },
     "execution_count": 9,
     "metadata": {},
     "output_type": "execute_result"
    }
   ],
   "source": [
    "df_bank['ferq_customer_count'] = df_bank['customer_count'].cumsum()\n",
    "boundary = df_bank['transaction_time'].str.split(\"-\",expand=True).astype(int)\n",
    "med_pos = sum(df_bank['customer_count'])/2\n",
    "e = df_bank[df_bank['ferq_customer_count'] >= med_pos].index[0]\n",
    "Le = boundary[0][e] - 0.5\n",
    "fe = df_bank['customer_count'][e]\n",
    "I = np.ceil(16-11)\n",
    "med = Le + ( (med_pos - df_bank['ferq_customer_count'][e-1])/fe)*I\n",
    "med"
   ]
  },
  {
   "cell_type": "code",
   "execution_count": 10,
   "metadata": {},
   "outputs": [
    {
     "data": {
      "text/plain": [
       "14.666666666666666"
      ]
     },
     "execution_count": 10,
     "metadata": {},
     "output_type": "execute_result"
    }
   ],
   "source": [
    "df_bank['ferq_customer_count'] = df_bank['customer_count'].cumsum()\n",
    "med_pos = sum(df_bank['customer_count'])/2\n",
    "boundary = df_bank['transaction_time'].str.split('-',expand=True).astype(int)\n",
    "e = df_bank[df_bank['ferq_customer_count'] >= med_pos].index[0]\n",
    "Le = boundary[0][e] - 0.5\n",
    "fe = df_bank['customer_count'][e]\n",
    "I = np.ceil(16-11)\n",
    "med = Le + ( (med_pos - (df_bank['ferq_customer_count'][e-1]))/fe)*I\n",
    "med"
   ]
  },
  {
   "cell_type": "code",
   "execution_count": 15,
   "metadata": {},
   "outputs": [
    {
     "data": {
      "text/plain": [
       "14.666666666666666"
      ]
     },
     "execution_count": 15,
     "metadata": {},
     "output_type": "execute_result"
    }
   ],
   "source": [
    "df_bank['ferq_customer_count'] = df_bank['customer_count'].cumsum()\n",
    "boundary = df_bank['transaction_time'].str.split('-',expand=True).astype(int)\n",
    "med_pos = sum(df_bank['customer_count'])/2\n",
    "e = df_bank[df_bank['ferq_customer_count'] >= med_pos].index[0]\n",
    "Le = boundary[0][e] - 0.5\n",
    "fe = df_bank['customer_count'][e]\n",
    "I = np.ceil(16-11)\n",
    "medd = Le + ((med_pos - df_bank['ferq_customer_count'][e-1])/fe)*I\n",
    "medd"
   ]
  },
  {
   "cell_type": "code",
   "execution_count": 17,
   "metadata": {},
   "outputs": [
    {
     "data": {
      "text/plain": [
       "14.666666666666666"
      ]
     },
     "execution_count": 17,
     "metadata": {},
     "output_type": "execute_result"
    }
   ],
   "source": [
    "df_bank['ferq_customer_count'] = df_bank['customer_count'].cumsum()\n",
    "boundary = df_bank['transaction_time'].str.split('-',expand=True).astype(int)\n",
    "med_pos = sum(df_bank['customer_count'])/2\n",
    "e = df_bank[df_bank['ferq_customer_count'] >= med_pos].index[0]\n",
    "Le = boundary[0][e] - 0.5\n",
    "fe = df_bank['customer_count'][e]\n",
    "I = np.ceil(16-11)\n",
    "medd = Le + ((med_pos - df_bank['ferq_customer_count'][e-1])/fe)*I\n",
    "medd"
   ]
  },
  {
   "cell_type": "code",
   "execution_count": 22,
   "metadata": {},
   "outputs": [
    {
     "data": {
      "text/plain": [
       "14.666666666666666"
      ]
     },
     "execution_count": 22,
     "metadata": {},
     "output_type": "execute_result"
    }
   ],
   "source": [
    "df_bank['ferq_customer_count'] = df_bank['customer_count'].cumsum()\n",
    "boundary = df_bank['transaction_time'].str.split('-',expand=True).astype(int)\n",
    "med_pos = sum(df_bank['customer_count'])/2\n",
    "e = df_bank[df_bank['ferq_customer_count'] >= med_pos].index[0]\n",
    "Le = boundary[0][e] - 0.5\n",
    "fe = df_bank['customer_count'][e]\n",
    "I = np.ceil(16-11)\n",
    "medd = Le + ((med_pos - df_bank['ferq_customer_count'][e - 1])/fe)*I\n",
    "medd"
   ]
  },
  {
   "cell_type": "code",
   "execution_count": null,
   "metadata": {},
   "outputs": [
    {
     "data": {
      "text/html": [
       "<div>\n",
       "<style scoped>\n",
       "    .dataframe tbody tr th:only-of-type {\n",
       "        vertical-align: middle;\n",
       "    }\n",
       "\n",
       "    .dataframe tbody tr th {\n",
       "        vertical-align: top;\n",
       "    }\n",
       "\n",
       "    .dataframe thead th {\n",
       "        text-align: right;\n",
       "    }\n",
       "</style>\n",
       "<table border=\"1\" class=\"dataframe\">\n",
       "  <thead>\n",
       "    <tr style=\"text-align: right;\">\n",
       "      <th></th>\n",
       "      <th>transaction_time</th>\n",
       "      <th>customer_count</th>\n",
       "      <th>Midvalue</th>\n",
       "    </tr>\n",
       "  </thead>\n",
       "  <tbody>\n",
       "    <tr>\n",
       "      <th>0</th>\n",
       "      <td>7-11</td>\n",
       "      <td>4</td>\n",
       "      <td>9.0</td>\n",
       "    </tr>\n",
       "    <tr>\n",
       "      <th>1</th>\n",
       "      <td>12-16</td>\n",
       "      <td>15</td>\n",
       "      <td>14.0</td>\n",
       "    </tr>\n",
       "    <tr>\n",
       "      <th>2</th>\n",
       "      <td>17-21</td>\n",
       "      <td>6</td>\n",
       "      <td>19.0</td>\n",
       "    </tr>\n",
       "    <tr>\n",
       "      <th>3</th>\n",
       "      <td>22-26</td>\n",
       "      <td>0</td>\n",
       "      <td>24.0</td>\n",
       "    </tr>\n",
       "    <tr>\n",
       "      <th>4</th>\n",
       "      <td>26-30</td>\n",
       "      <td>2</td>\n",
       "      <td>28.0</td>\n",
       "    </tr>\n",
       "  </tbody>\n",
       "</table>\n",
       "</div>"
      ],
      "text/plain": [
       "  transaction_time  customer_count  Midvalue\n",
       "0             7-11               4       9.0\n",
       "1            12-16              15      14.0\n",
       "2            17-21               6      19.0\n",
       "3            22-26               0      24.0\n",
       "4            26-30               2      28.0"
      ]
     },
     "metadata": {},
     "output_type": "display_data"
    }
   ],
   "source": [
    "df_bank"
   ]
  },
  {
   "cell_type": "markdown",
   "metadata": {},
   "source": [
    "สูตรหา Mode ของข้อมูลจัดกลุ่ม : $$M_o=L_e+\\frac{d_{e-1}}{d_{e-1}+d_{e+1}}\\cdot I$$"
   ]
  },
  {
   "cell_type": "code",
   "execution_count": 23,
   "metadata": {},
   "outputs": [
    {
     "data": {
      "text/plain": [
       "14.25"
      ]
     },
     "execution_count": 23,
     "metadata": {},
     "output_type": "execute_result"
    }
   ],
   "source": [
    "df_bank['ferq_customer_count'] = df_bank['customer_count'].cumsum()\n",
    "boundary = df_bank['transaction_time'].str.split('-',expand=True).astype(int)\n",
    "med_pos = sum(df_bank['customer_count'])/2\n",
    "e = df_bank[df_bank['ferq_customer_count'] >= med_pos].index[0]\n",
    "Le = boundary[0][e] - 0.5\n",
    "d_p = np.abs(df_bank['customer_count'][e] - df_bank['customer_count'][e-1])\n",
    "d_n = np.abs(df_bank['customer_count'][e] - df_bank['customer_count'][e+1])\n",
    "I = np.ceil(16-11)\n",
    "mode = Le + (d_p/(d_p + d_n))*I\n",
    "mode"
   ]
  },
  {
   "cell_type": "code",
   "execution_count": 25,
   "metadata": {},
   "outputs": [
    {
     "data": {
      "text/plain": [
       "14.25"
      ]
     },
     "execution_count": 25,
     "metadata": {},
     "output_type": "execute_result"
    }
   ],
   "source": [
    "df_bank['ferq_customer_count'] = df_bank['customer_count'].cumsum()\n",
    "med_pos = sum(df_bank['customer_count'])/2\n",
    "e = df_bank[df_bank['ferq_customer_count'] >= med_pos ].index[0]\n",
    "Le = boundary[0][e] - 0.5\n",
    "fe = df_bank['customer_count'][e]\n",
    "d_p = np.abs(df_bank['customer_count'][e] - df_bank['customer_count'][e-1])\n",
    "d_n = np.abs(df_bank['customer_count'][e] - df_bank['customer_count'][e+1])\n",
    "I = np.ceil(16-11)\n",
    "mode = Le + (d_p/(d_p + d_n))*I\n",
    "mode"
   ]
  },
  {
   "cell_type": "markdown",
   "metadata": {},
   "source": [
    "สูตรหา S.D. ของข้อมูลจัดกลุ่ม (ประชากร) : $$s=\\sqrt{\\frac{\\sum_{i=1}^{n}f_ix^2_i-n\\bar{x}^2}{n-1}}$$"
   ]
  },
  {
   "cell_type": "code",
   "execution_count": 27,
   "metadata": {},
   "outputs": [
    {
     "data": {
      "text/plain": [
       "4.757659890673954"
      ]
     },
     "execution_count": 27,
     "metadata": {},
     "output_type": "execute_result"
    }
   ],
   "source": [
    "sumfx2 = sum(df_bank['customer_count']*(df_bank['Midvalue']**2))\n",
    "s = (sumfx2 - (sum(df_bank['customer_count']*(mean**2))))/(sum(df_bank['customer_count'])-1)\n",
    "std = np.sqrt(s)\n",
    "std"
   ]
  },
  {
   "cell_type": "code",
   "execution_count": 29,
   "metadata": {},
   "outputs": [
    {
     "data": {
      "text/plain": [
       "18.666666666666668"
      ]
     },
     "execution_count": 29,
     "metadata": {},
     "output_type": "execute_result"
    }
   ],
   "source": [
    "P80_pos = sum(df_bank['customer_count'])*(80/100)\n",
    "df_bank['ferq_customer_count'] = df_bank['customer_count'].cumsum()\n",
    "boundary = df_bank['transaction_time'].str.split('-',expand=True).astype(int)\n",
    "e_p80 = df_bank[df_bank['ferq_customer_count'] >= P80_pos].index[0]\n",
    "Le = boundary[0][e_p80] - 0.5\n",
    "fe = df_bank['customer_count'][e_p80]\n",
    "I = np.ceil(16-11)\n",
    "P80 = Le + ((P80_pos - df_bank['ferq_customer_count'][e_p80 - 1])/fe)*I\n",
    "P80"
   ]
  }
 ],
 "metadata": {
  "kernelspec": {
   "display_name": "Python 3",
   "language": "python",
   "name": "python3"
  },
  "language_info": {
   "codemirror_mode": {
    "name": "ipython",
    "version": 3
   },
   "file_extension": ".py",
   "mimetype": "text/x-python",
   "name": "python",
   "nbconvert_exporter": "python",
   "pygments_lexer": "ipython3",
   "version": "3.9.10"
  }
 },
 "nbformat": 4,
 "nbformat_minor": 2
}
