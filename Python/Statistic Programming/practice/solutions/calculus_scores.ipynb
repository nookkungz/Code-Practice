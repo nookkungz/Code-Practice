{
 "cells": [
  {
   "cell_type": "code",
   "execution_count": 1,
   "metadata": {},
   "outputs": [],
   "source": [
    "import pandas as pd\n",
    "import numpy as np"
   ]
  },
  {
   "cell_type": "code",
   "execution_count": 2,
   "metadata": {},
   "outputs": [
    {
     "data": {
      "text/html": [
       "<div>\n",
       "<style scoped>\n",
       "    .dataframe tbody tr th:only-of-type {\n",
       "        vertical-align: middle;\n",
       "    }\n",
       "\n",
       "    .dataframe tbody tr th {\n",
       "        vertical-align: top;\n",
       "    }\n",
       "\n",
       "    .dataframe thead th {\n",
       "        text-align: right;\n",
       "    }\n",
       "</style>\n",
       "<table border=\"1\" class=\"dataframe\">\n",
       "  <thead>\n",
       "    <tr style=\"text-align: right;\">\n",
       "      <th></th>\n",
       "      <th>calculus_scores</th>\n",
       "      <th>student_count</th>\n",
       "    </tr>\n",
       "  </thead>\n",
       "  <tbody>\n",
       "    <tr>\n",
       "      <th>0</th>\n",
       "      <td>30-40</td>\n",
       "      <td>1</td>\n",
       "    </tr>\n",
       "    <tr>\n",
       "      <th>1</th>\n",
       "      <td>41-50</td>\n",
       "      <td>1</td>\n",
       "    </tr>\n",
       "    <tr>\n",
       "      <th>2</th>\n",
       "      <td>51-60</td>\n",
       "      <td>9</td>\n",
       "    </tr>\n",
       "    <tr>\n",
       "      <th>3</th>\n",
       "      <td>61-70</td>\n",
       "      <td>19</td>\n",
       "    </tr>\n",
       "    <tr>\n",
       "      <th>4</th>\n",
       "      <td>71-80</td>\n",
       "      <td>22</td>\n",
       "    </tr>\n",
       "    <tr>\n",
       "      <th>5</th>\n",
       "      <td>81-90</td>\n",
       "      <td>5</td>\n",
       "    </tr>\n",
       "    <tr>\n",
       "      <th>6</th>\n",
       "      <td>91-100</td>\n",
       "      <td>3</td>\n",
       "    </tr>\n",
       "  </tbody>\n",
       "</table>\n",
       "</div>"
      ],
      "text/plain": [
       "  calculus_scores  student_count\n",
       "0           30-40              1\n",
       "1           41-50              1\n",
       "2           51-60              9\n",
       "3           61-70             19\n",
       "4           71-80             22\n",
       "5           81-90              5\n",
       "6          91-100              3"
      ]
     },
     "execution_count": 2,
     "metadata": {},
     "output_type": "execute_result"
    }
   ],
   "source": [
    "df_scores = pd.read_csv('https://raw.githubusercontent.com/kinpkt/catlover-cs131-practice/refs/heads/main/practice_dataset/calculus_student_scores.csv')\n",
    "df_scores"
   ]
  },
  {
   "cell_type": "markdown",
   "metadata": {},
   "source": [
    "**Part 1 : หาค่าเฉลี่ยเลขคณิตของคะแนน**"
   ]
  },
  {
   "cell_type": "code",
   "execution_count": 3,
   "metadata": {},
   "outputs": [
    {
     "name": "stdout",
     "output_type": "stream",
     "text": [
      "Mean = 69.99166666666666\n"
     ]
    }
   ],
   "source": [
    "n = sum(df_scores.student_count)\n",
    "boundary = df_scores.calculus_scores.str.split('-', expand=True).astype(int)\n",
    "midpoint = (boundary[0] + boundary[1])/2\n",
    "\n",
    "mean_scores = sum(df_scores.student_count*midpoint)/n\n",
    "print(f'Mean = {mean_scores}')"
   ]
  },
  {
   "cell_type": "markdown",
   "metadata": {},
   "source": [
    "**Part 2 : หาค่ามัธยฐานของคะแนน**"
   ]
  },
  {
   "cell_type": "code",
   "execution_count": 4,
   "metadata": {},
   "outputs": [
    {
     "name": "stdout",
     "output_type": "stream",
     "text": [
      "Median = 70.5\n"
     ]
    }
   ],
   "source": [
    "n_half = n/2\n",
    "df_scores['cum_students'] = df_scores.student_count.cumsum()\n",
    "e_med = 3\n",
    "Le_mean = 61-0.5\n",
    "I = np.ceil(70.5-60.5)\n",
    "fe_med = df_scores.student_count[e_med]\n",
    "fb_med = df_scores.cum_students[e_med-1]\n",
    "\n",
    "med_scores = Le_mean + (n_half-fb_med)/fe_med*I\n",
    "\n",
    "print(f'Median = {med_scores}')"
   ]
  },
  {
   "cell_type": "markdown",
   "metadata": {},
   "source": [
    "**Part 3 : หาค่าฐานนิยมของคะแนน**"
   ]
  },
  {
   "cell_type": "code",
   "execution_count": 5,
   "metadata": {},
   "outputs": [
    {
     "name": "stdout",
     "output_type": "stream",
     "text": [
      "Mode = 72.0\n"
     ]
    }
   ],
   "source": [
    "e_mode = 4\n",
    "Le_mode = 71-0.5\n",
    "d_prev = np.abs(df_scores.student_count[e_mode] - df_scores.student_count[e_mode-1])\n",
    "d_next = np.abs(df_scores.student_count[e_mode] - df_scores.student_count[e_mode+1])\n",
    "\n",
    "mode_scores = Le_mode + d_prev/(d_prev+d_next)*I\n",
    "print(f'Mode = {mode_scores}')"
   ]
  },
  {
   "cell_type": "markdown",
   "metadata": {},
   "source": [
    "**Part 4 : \"หากในวิชานี้ตัด F จากคะแนนที่ต่ำกว่า Q<sub>2</sub> จะมีนิสิตที่ได้ F ประมาณกี่คน\"**"
   ]
  },
  {
   "cell_type": "code",
   "execution_count": 6,
   "metadata": {},
   "outputs": [
    {
     "name": "stdout",
     "output_type": "stream",
     "text": [
      "Q2 = 70.5\n",
      "30 students got F on Calculus.\n"
     ]
    }
   ],
   "source": [
    "Q2_index = n*2/4\n",
    "e_Q2 = 3\n",
    "Le_Q2 = 61-0.5\n",
    "\n",
    "Q2 = Le_Q2 + (Q2_index-df_scores.cum_students[e_Q2-1])/df_scores.student_count[e_Q2]*I\n",
    "print(f'Q2 = {Q2}') # ปัดขึ้นได้เป็น Q2 = 71\n",
    "\n",
    "failed_students = 0\n",
    "\n",
    "for i in range(len(boundary[1])):\n",
    "    if boundary[1][i] < 71:\n",
    "        failed_students += df_scores.student_count[i]\n",
    "\n",
    "print(f'{failed_students} students got F on Calculus.')"
   ]
  },
  {
   "cell_type": "markdown",
   "metadata": {},
   "source": [
    "**Part 5 : ถ้านิสิตที่ได้คะแนนมากกว่า P<sub>85</sub> หรือได้ 81 คะแนนขึ้นไปจะได้ A จะมีนิสิตที่ได้ A ประมาณกี่คน**"
   ]
  },
  {
   "cell_type": "code",
   "execution_count": 7,
   "metadata": {},
   "outputs": [
    {
     "name": "stdout",
     "output_type": "stream",
     "text": [
      "P85 = 80.04545454545455\n",
      "8 students got A on Calculus.\n"
     ]
    }
   ],
   "source": [
    "P85_index = n*85/100\n",
    "e_P85 = 4\n",
    "Le_P85 = 71-0.5\n",
    "\n",
    "P85 = Le_P85 + (P85_index-df_scores.cum_students[e_P85-1])/df_scores.student_count[e_P85]*I\n",
    "print(f'P85 = {P85}') # ปัดลงได้เป็น P85 = 80\n",
    "\n",
    "a_students = 0\n",
    "\n",
    "for i in range(len(boundary[1])):\n",
    "    if boundary[1][i] > 80 or boundary[1][i] >= 81:\n",
    "        a_students += df_scores.student_count[i]\n",
    "\n",
    "print(f'{a_students} students got A on Calculus.')"
   ]
  },
  {
   "cell_type": "markdown",
   "metadata": {},
   "source": [
    "**Part 6 : การแจกแจงของคะแนนนิสิตทั้งหมดที่อยู่ในชุดข้อมูลนี้มีลักษณะอย่างไร**"
   ]
  },
  {
   "cell_type": "code",
   "execution_count": 8,
   "metadata": {},
   "outputs": [
    {
     "data": {
      "text/html": [
       "<div>\n",
       "<style scoped>\n",
       "    .dataframe tbody tr th:only-of-type {\n",
       "        vertical-align: middle;\n",
       "    }\n",
       "\n",
       "    .dataframe tbody tr th {\n",
       "        vertical-align: top;\n",
       "    }\n",
       "\n",
       "    .dataframe thead th {\n",
       "        text-align: right;\n",
       "    }\n",
       "</style>\n",
       "<table border=\"1\" class=\"dataframe\">\n",
       "  <thead>\n",
       "    <tr style=\"text-align: right;\">\n",
       "      <th></th>\n",
       "      <th>calculus_scores</th>\n",
       "      <th>student_count</th>\n",
       "      <th>cum_students</th>\n",
       "    </tr>\n",
       "  </thead>\n",
       "  <tbody>\n",
       "    <tr>\n",
       "      <th>0</th>\n",
       "      <td>30-40</td>\n",
       "      <td>1</td>\n",
       "      <td>1</td>\n",
       "    </tr>\n",
       "    <tr>\n",
       "      <th>1</th>\n",
       "      <td>41-50</td>\n",
       "      <td>1</td>\n",
       "      <td>2</td>\n",
       "    </tr>\n",
       "    <tr>\n",
       "      <th>2</th>\n",
       "      <td>51-60</td>\n",
       "      <td>9</td>\n",
       "      <td>11</td>\n",
       "    </tr>\n",
       "    <tr>\n",
       "      <th>3</th>\n",
       "      <td>61-70</td>\n",
       "      <td>19</td>\n",
       "      <td>30</td>\n",
       "    </tr>\n",
       "    <tr>\n",
       "      <th>4</th>\n",
       "      <td>71-80</td>\n",
       "      <td>22</td>\n",
       "      <td>52</td>\n",
       "    </tr>\n",
       "    <tr>\n",
       "      <th>5</th>\n",
       "      <td>81-90</td>\n",
       "      <td>5</td>\n",
       "      <td>57</td>\n",
       "    </tr>\n",
       "    <tr>\n",
       "      <th>6</th>\n",
       "      <td>91-100</td>\n",
       "      <td>3</td>\n",
       "      <td>60</td>\n",
       "    </tr>\n",
       "  </tbody>\n",
       "</table>\n",
       "</div>"
      ],
      "text/plain": [
       "  calculus_scores  student_count  cum_students\n",
       "0           30-40              1             1\n",
       "1           41-50              1             2\n",
       "2           51-60              9            11\n",
       "3           61-70             19            30\n",
       "4           71-80             22            52\n",
       "5           81-90              5            57\n",
       "6          91-100              3            60"
      ]
     },
     "execution_count": 8,
     "metadata": {},
     "output_type": "execute_result"
    }
   ],
   "source": [
    "df_scores"
   ]
  },
  {
   "cell_type": "markdown",
   "metadata": {},
   "source": [
    "จากตาราง จะเห็นได้ว่าจำนวนนิสิตส่วนมาก ได้คะแนนในช่วงอันตรภาคชั้นที่ 4 และ 3 ตามลำดับ และจากการวิเคราะห์ข้อมูลเบื้องต้น เราจะสามารถสรุปได้ดังตารางว่า\n",
    "|           |   Value  |\n",
    "|:---------:|:--------:|\n",
    "| $\\bar{x}$ | $69.992$ |\n",
    "|   $M_e$   |  $70.5$  |\n",
    "|   $M_o$   |  $72.0$  |\n",
    "\n",
    "จะเห็นได้ว่า ทั้งสามค่าที่ได้นั้นมีค่าใกล้เคียงกัน โดย $\\bar{x}\\approx M_e$ จึงสรุปได้ว่าการแจกแจงข้อมูลคะแนนของนิสิตมีการแจกแจงแบบเบ้ซ้ายและใกล้เคียงกับ Normal Distribution มาก"
   ]
  }
 ],
 "metadata": {
  "kernelspec": {
   "display_name": "Python 3",
   "language": "python",
   "name": "python3"
  },
  "language_info": {
   "codemirror_mode": {
    "name": "ipython",
    "version": 3
   },
   "file_extension": ".py",
   "mimetype": "text/x-python",
   "name": "python",
   "nbconvert_exporter": "python",
   "pygments_lexer": "ipython3",
   "version": "3.9.10"
  }
 },
 "nbformat": 4,
 "nbformat_minor": 2
}
