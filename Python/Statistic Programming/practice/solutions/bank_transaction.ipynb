{
 "cells": [
  {
   "cell_type": "markdown",
   "metadata": {},
   "source": [
    "### **Solutions for \"Bank Transaction\" Question**"
   ]
  },
  {
   "cell_type": "code",
   "execution_count": 2,
   "metadata": {},
   "outputs": [],
   "source": [
    "import numpy as np\n",
    "import pandas as pd"
   ]
  },
  {
   "cell_type": "code",
   "execution_count": 3,
   "metadata": {},
   "outputs": [
    {
     "data": {
      "text/html": [
       "<div>\n",
       "<style scoped>\n",
       "    .dataframe tbody tr th:only-of-type {\n",
       "        vertical-align: middle;\n",
       "    }\n",
       "\n",
       "    .dataframe tbody tr th {\n",
       "        vertical-align: top;\n",
       "    }\n",
       "\n",
       "    .dataframe thead th {\n",
       "        text-align: right;\n",
       "    }\n",
       "</style>\n",
       "<table border=\"1\" class=\"dataframe\">\n",
       "  <thead>\n",
       "    <tr style=\"text-align: right;\">\n",
       "      <th></th>\n",
       "      <th>transaction_time</th>\n",
       "      <th>customer_count</th>\n",
       "    </tr>\n",
       "  </thead>\n",
       "  <tbody>\n",
       "    <tr>\n",
       "      <th>0</th>\n",
       "      <td>7-11</td>\n",
       "      <td>4</td>\n",
       "    </tr>\n",
       "    <tr>\n",
       "      <th>1</th>\n",
       "      <td>12-16</td>\n",
       "      <td>15</td>\n",
       "    </tr>\n",
       "    <tr>\n",
       "      <th>2</th>\n",
       "      <td>17-21</td>\n",
       "      <td>6</td>\n",
       "    </tr>\n",
       "    <tr>\n",
       "      <th>3</th>\n",
       "      <td>22-26</td>\n",
       "      <td>0</td>\n",
       "    </tr>\n",
       "    <tr>\n",
       "      <th>4</th>\n",
       "      <td>26-30</td>\n",
       "      <td>2</td>\n",
       "    </tr>\n",
       "  </tbody>\n",
       "</table>\n",
       "</div>"
      ],
      "text/plain": [
       "  transaction_time  customer_count\n",
       "0             7-11               4\n",
       "1            12-16              15\n",
       "2            17-21               6\n",
       "3            22-26               0\n",
       "4            26-30               2"
      ]
     },
     "execution_count": 3,
     "metadata": {},
     "output_type": "execute_result"
    }
   ],
   "source": [
    "df_bank = pd.read_csv('bank_transaction_time.csv')\n",
    "df_bank"
   ]
  },
  {
   "cell_type": "markdown",
   "metadata": {},
   "source": [
    "**Part 1 : หาค่า Mean**"
   ]
  },
  {
   "cell_type": "markdown",
   "metadata": {},
   "source": [
    "สูตรหา Mean ของข้อมูลจัดกลุ่ม : $$\\bar{x}=\\frac{\\sum_{i=1}^{g}f_i x_i}{n}$$"
   ]
  },
  {
   "cell_type": "code",
   "execution_count": 4,
   "metadata": {},
   "outputs": [
    {
     "name": "stdout",
     "output_type": "stream",
     "text": [
      "Mean = 15.407407407407407\n"
     ]
    }
   ],
   "source": [
    "boundary = df_bank.transaction_time.str.split('-', expand=True).astype(int)\n",
    "midpoint = (boundary[0] + boundary[1])/2\n",
    "mean_bank = sum(df_bank.customer_count*midpoint)/sum(df_bank.customer_count)\n",
    "print(f'Mean = {mean_bank}')"
   ]
  },
  {
   "cell_type": "markdown",
   "metadata": {},
   "source": [
    "**Part 2 : หาค่ามัธยฐาน**"
   ]
  },
  {
   "cell_type": "markdown",
   "metadata": {},
   "source": [
    "สูตรหา Median ของข้อมูลจัดกลุ่ม : $$M_e=L_e+\\frac{\\frac{n}{2}-\\sum_{b=1}^{e}f_b}{f_e}\\cdot I$$"
   ]
  },
  {
   "cell_type": "code",
   "execution_count": 5,
   "metadata": {},
   "outputs": [
    {
     "name": "stdout",
     "output_type": "stream",
     "text": [
      "Median = 14.666666666666666\n"
     ]
    }
   ],
   "source": [
    "df_bank['cum_customer'] = df_bank.customer_count.cumsum()\n",
    "n_half = sum(df_bank.customer_count)/2\n",
    "e = df_bank[df_bank['cum_customer'] >= n_half].index[0]\n",
    "Le = boundary[0][e] - 0.5\n",
    "fe = df_bank.customer_count[e]\n",
    "I = np.ceil(16.5-11.5)\n",
    "median_bank = Le + ((n_half-df_bank.cum_customer[e-1])/fe)*I\n",
    "print(f'Median = {median_bank}')"
   ]
  },
  {
   "cell_type": "markdown",
   "metadata": {},
   "source": [
    "**Part 3 : หาค่าฐานนิยม**"
   ]
  },
  {
   "cell_type": "markdown",
   "metadata": {},
   "source": [
    "สูตรหา Mode ของข้อมูลจัดกลุ่ม : $$M_o=L_e+\\frac{d_{e-1}}{d_{e-1}+d_{e+1}}\\cdot I$$"
   ]
  },
  {
   "cell_type": "markdown",
   "metadata": {},
   "source": []
  },
  {
   "cell_type": "markdown",
   "metadata": {},
   "source": []
  },
  {
   "cell_type": "code",
   "execution_count": 6,
   "metadata": {},
   "outputs": [
    {
     "name": "stdout",
     "output_type": "stream",
     "text": [
      "Mode = 14.25\n"
     ]
    }
   ],
   "source": [
    "# ในกรณีนี้ e กับ Le เท่ากับของ Med เลยใช้ตัวแปรซ้ำเอา\n",
    "d_prev = np.abs(df_bank.customer_count[e] - df_bank.customer_count[e-1])\n",
    "d_next = np.abs(df_bank.customer_count[e] - df_bank.customer_count[e+1])\n",
    "\n",
    "mode_bank = Le + (d_prev/(d_prev+d_next))*I\n",
    "print(f'Mode = {mode_bank}')"
   ]
  },
  {
   "cell_type": "markdown",
   "metadata": {},
   "source": [
    "**Part 4 : หาค่าส่วนเบี่ยงเบนมาตรฐาน**"
   ]
  },
  {
   "cell_type": "markdown",
   "metadata": {},
   "source": [
    "สูตรหา S.D. ของข้อมูลจัดกลุ่ม (ประชากร) : $$s=\\sqrt{\\frac{\\sum_{i=1}^{n}f_ix^2_i-n\\bar{x}^2}{n-1}}$$"
   ]
  },
  {
   "cell_type": "code",
   "execution_count": 7,
   "metadata": {},
   "outputs": [
    {
     "name": "stdout",
     "output_type": "stream",
     "text": [
      "S.D. = 4.75765989067395\n"
     ]
    }
   ],
   "source": [
    "sum_fx2 = sum(df_bank.customer_count*midpoint**2)\n",
    "variance_bank = (sum_fx2-sum(df_bank.customer_count)*mean_bank**2)/(sum(df_bank.customer_count)-1)\n",
    "sd_bank = np.sqrt(variance_bank)\n",
    "\n",
    "print(f'S.D. = {sd_bank}')"
   ]
  },
  {
   "cell_type": "markdown",
   "metadata": {},
   "source": [
    "**Part 5 : หาค่า P<sub>80</sub>**"
   ]
  },
  {
   "cell_type": "markdown",
   "metadata": {},
   "source": [
    "สูตรหาตำแหน่งเปอร์เซนไทล์ของข้อมูลจัดกลุ่ม : $$\\mathrm{index\\,of\\,} P_r=\\frac{nr}{100}$$\n",
    "สูตรหาค่าเปอร์เซนไทล์ของข้อมูลจัดกลุ่ม : $$P_r=L_e+\\frac{\\frac{nr}{100}-\\sum_{b=1}^{e-1}f_b}{f_e}I$$"
   ]
  },
  {
   "cell_type": "code",
   "execution_count": 8,
   "metadata": {},
   "outputs": [
    {
     "name": "stdout",
     "output_type": "stream",
     "text": [
      "P80 = 18.666666666666668\n"
     ]
    }
   ],
   "source": [
    "index_p80 = sum(df_bank.customer_count)*80/100 # index_p80 = 21.6 (e=2)\n",
    "e_p80 = 2\n",
    "Le_p80 = boundary[0][e_p80] - 0.5\n",
    "\n",
    "P80 = Le_p80 + (index_p80-df_bank.cum_customer[e_p80-1])/(df_bank.customer_count[e_p80])*I\n",
    "\n",
    "print(f'P80 = {P80}')"
   ]
  }
 ],
 "metadata": {
  "kernelspec": {
   "display_name": "Python 3",
   "language": "python",
   "name": "python3"
  },
  "language_info": {
   "codemirror_mode": {
    "name": "ipython",
    "version": 3
   },
   "file_extension": ".py",
   "mimetype": "text/x-python",
   "name": "python",
   "nbconvert_exporter": "python",
   "pygments_lexer": "ipython3",
   "version": "3.9.10"
  }
 },
 "nbformat": 4,
 "nbformat_minor": 2
}
