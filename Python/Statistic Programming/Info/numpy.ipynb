{
 "cells": [
  {
   "cell_type": "markdown",
   "id": "139abcec-f71a-41fd-a1f7-cda02ca4d575",
   "metadata": {
    "id": "139abcec-f71a-41fd-a1f7-cda02ca4d575"
   },
   "source": [
    "# <font color=\"DE1509\">NumPy</font>"
   ]
  },
  {
   "cell_type": "markdown",
   "id": "b5ee174b-5e02-4c69-ac12-04900d4e1542",
   "metadata": {
    "id": "b5ee174b-5e02-4c69-ac12-04900d4e1542"
   },
   "source": [
    "NumPy (Numerical Python) is a Python library for data science and numerical computing. Many advanced data science and machine learning libraries require data to be in the form of NumPy arrays before it can be processed."
   ]
  },
  {
   "cell_type": "markdown",
   "id": "a8843981-9df5-4ee2-8082-65235d36b9da",
   "metadata": {
    "id": "a8843981-9df5-4ee2-8082-65235d36b9da"
   },
   "source": [
    "### Advantages of NumPy Library\n",
    "A NumPy array has many advantages over regular Python lists. Some of them are listed below:\n",
    "\n",
    "- NumPy arrays are much faster for insertion, deletion, updating, and reading of data.\n",
    "- NumPy arrays contain advanced broadcasting functionalities compared with regular Python lists.\n",
    "- NumPy array comes with a lot of methods that support advanced arithmetic and linear algebra options.\n",
    "- NumPy provides advanced multi-dimensional array slicing capabilities.\n"
   ]
  },
  {
   "cell_type": "markdown",
   "id": "8ba06e59-27dc-47b2-9f86-de06409bcba0",
   "metadata": {
    "id": "8ba06e59-27dc-47b2-9f86-de06409bcba0",
    "tags": []
   },
   "source": [
    " &nbsp;\n",
    "#### <font color=\"127C02\">*Creating NumPy Arrays*</font>\n",
    "\n",
    "Depending upon the type of data you need inside your NumPy array, different methods can be used to create a NumPy array\n",
    "  \n",
    "**1. Using array() Methods**\n"
   ]
  },
  {
   "cell_type": "code",
   "execution_count": 1,
   "id": "f65da516-773f-4ebd-9cf3-9a4de2da1cab",
   "metadata": {
    "colab": {
     "base_uri": "https://localhost:8080/"
    },
    "executionInfo": {
     "elapsed": 471,
     "status": "ok",
     "timestamp": 1732706324108,
     "user": {
      "displayName": "Thammakorn SAETHANG",
      "userId": "08182570455347153646"
     },
     "user_tz": -420
    },
    "id": "f65da516-773f-4ebd-9cf3-9a4de2da1cab",
    "outputId": "8aa4db8a-4bd8-47ef-d455-3617f24b50cb"
   },
   "outputs": [
    {
     "name": "stdout",
     "output_type": "stream",
     "text": [
      "nums_list:  [1, 0, 5, 10, -7]\n",
      "nums_array:  [ 1  0  5 10 -7]\n"
     ]
    },
    {
     "data": {
      "text/plain": [
       "numpy.ndarray"
      ]
     },
     "execution_count": 1,
     "metadata": {},
     "output_type": "execute_result"
    }
   ],
   "source": [
    "import numpy as np  #to use Numpy arrays, we must import numpy library\n",
    "# \"as np\" will let us use numpy by just typing \"np\"\n",
    "\n",
    "nums_list = [1, 0, 5, 10, -7]\n",
    "nums_array = np.array(nums_list)\n",
    "print(\"nums_list: \", nums_list)\n",
    "print(\"nums_array: \", nums_array)\n",
    "type(nums_array)"
   ]
  },
  {
   "cell_type": "markdown",
   "id": "b4794a4c-d935-4656-b6da-a13590016d55",
   "metadata": {
    "id": "b4794a4c-d935-4656-b6da-a13590016d55"
   },
   "source": [
    "\\\n",
    "To get what data type array stores, use .dtype"
   ]
  },
  {
   "cell_type": "code",
   "execution_count": 2,
   "id": "47f7ed0f-f63b-4958-874c-de17b76b8d63",
   "metadata": {
    "colab": {
     "base_uri": "https://localhost:8080/"
    },
    "executionInfo": {
     "elapsed": 9,
     "status": "ok",
     "timestamp": 1732706324586,
     "user": {
      "displayName": "Thammakorn SAETHANG",
      "userId": "08182570455347153646"
     },
     "user_tz": -420
    },
    "id": "47f7ed0f-f63b-4958-874c-de17b76b8d63",
    "outputId": "3a1b7b53-5648-4b10-c2d7-1eab68452824"
   },
   "outputs": [
    {
     "data": {
      "text/plain": [
       "dtype('int32')"
      ]
     },
     "execution_count": 2,
     "metadata": {},
     "output_type": "execute_result"
    }
   ],
   "source": [
    "nums_array.dtype"
   ]
  },
  {
   "cell_type": "markdown",
   "id": "98e9c97d-3cbc-4429-98be-3c08b81ae7b2",
   "metadata": {
    "id": "98e9c97d-3cbc-4429-98be-3c08b81ae7b2"
   },
   "source": [
    "\\\n",
    "You can also create a multi-dimensional NumPy array. To do so, you need to create a list of lists where each internal list corresponds to the row in a 2-dimensional array."
   ]
  },
  {
   "cell_type": "code",
   "execution_count": 3,
   "id": "cf0c09b3-3bf6-422e-98f8-b7ac12fe1baa",
   "metadata": {
    "colab": {
     "base_uri": "https://localhost:8080/"
    },
    "executionInfo": {
     "elapsed": 8,
     "status": "ok",
     "timestamp": 1732706324586,
     "user": {
      "displayName": "Thammakorn SAETHANG",
      "userId": "08182570455347153646"
     },
     "user_tz": -420
    },
    "id": "cf0c09b3-3bf6-422e-98f8-b7ac12fe1baa",
    "outputId": "df25f537-27d6-4b75-ed4c-393f5b281ce5"
   },
   "outputs": [
    {
     "name": "stdout",
     "output_type": "stream",
     "text": [
      "[[ 1  2  3]\n",
      " [ 4  5  6]\n",
      " [ 7  8  9]\n",
      " [10 11 12]]\n"
     ]
    }
   ],
   "source": [
    "r1 = [1, 2, 3]\n",
    "r2 = [4, 5, 6]\n",
    "r3 = [7, 8, 9]\n",
    "r4 = [10, 11, 12]\n",
    "\n",
    "nums_2d = np.array([r1, r2, r3, r4])\n",
    "print(nums_2d)"
   ]
  },
  {
   "cell_type": "code",
   "execution_count": 4,
   "id": "728c7713-eda4-437b-85dd-01b8a2999e9c",
   "metadata": {
    "colab": {
     "base_uri": "https://localhost:8080/"
    },
    "executionInfo": {
     "elapsed": 516,
     "status": "ok",
     "timestamp": 1732706325096,
     "user": {
      "displayName": "Thammakorn SAETHANG",
      "userId": "08182570455347153646"
     },
     "user_tz": -420
    },
    "id": "728c7713-eda4-437b-85dd-01b8a2999e9c",
    "outputId": "08d923bb-3aaa-4348-dd21-06f25b5f0a0a"
   },
   "outputs": [
    {
     "name": "stdout",
     "output_type": "stream",
     "text": [
      "1\n",
      "8\n"
     ]
    }
   ],
   "source": [
    "print(nums_2d[0, 0])\n",
    "print(nums_2d[2, 1])"
   ]
  },
  {
   "cell_type": "markdown",
   "id": "2e79ce28-7074-42ca-b9ff-a75df53fb8e9",
   "metadata": {
    "id": "2e79ce28-7074-42ca-b9ff-a75df53fb8e9"
   },
   "source": [
    "\\\n",
    "To get the dimension of np.array, use .shape.  \n",
    "The outout is (<#rows>, <#columns>)"
   ]
  },
  {
   "cell_type": "code",
   "execution_count": 5,
   "id": "b8076a55-6ad0-47e8-b9ac-87bf0ca1ab2b",
   "metadata": {
    "colab": {
     "base_uri": "https://localhost:8080/"
    },
    "executionInfo": {
     "elapsed": 18,
     "status": "ok",
     "timestamp": 1732706325096,
     "user": {
      "displayName": "Thammakorn SAETHANG",
      "userId": "08182570455347153646"
     },
     "user_tz": -420
    },
    "id": "b8076a55-6ad0-47e8-b9ac-87bf0ca1ab2b",
    "outputId": "06ad694d-640f-4a13-9bbd-845926f18377"
   },
   "outputs": [
    {
     "data": {
      "text/plain": [
       "(4, 3)"
      ]
     },
     "execution_count": 5,
     "metadata": {},
     "output_type": "execute_result"
    }
   ],
   "source": [
    "nums_2d.shape"
   ]
  },
  {
   "cell_type": "code",
   "execution_count": 33,
   "id": "c8e2b3bb",
   "metadata": {},
   "outputs": [
    {
     "data": {
      "text/plain": [
       "3"
      ]
     },
     "execution_count": 33,
     "metadata": {},
     "output_type": "execute_result"
    }
   ],
   "source": [
    "nums_2d.shape[1]"
   ]
  },
  {
   "cell_type": "code",
   "execution_count": 34,
   "id": "027d3ef6",
   "metadata": {},
   "outputs": [
    {
     "data": {
      "text/plain": [
       "4"
      ]
     },
     "execution_count": 34,
     "metadata": {},
     "output_type": "execute_result"
    }
   ],
   "source": [
    "nums_2d.shape[0]"
   ]
  },
  {
   "cell_type": "markdown",
   "id": "9b0e340f-e6ea-406f-a9ad-f7d2585fc985",
   "metadata": {
    "id": "9b0e340f-e6ea-406f-a9ad-f7d2585fc985"
   },
   "source": [
    " &nbsp;\n",
    "**2. Using arrange() method**  \n",
    "The ones() method can be used to create a NumPy array of all ones."
   ]
  },
  {
   "cell_type": "markdown",
   "id": "9003ad65-08db-46dd-9f16-ddf9cce37cca",
   "metadata": {
    "id": "9003ad65-08db-46dd-9f16-ddf9cce37cca"
   },
   "source": [
    "With the arrange () method, you can create a NumPy array that contains a range of integers. The first parameter to the arrange method is the lower bound, and the second parameter is the upper bound. The lower bound is included in the array. However, the upper bound is not included."
   ]
  },
  {
   "cell_type": "code",
   "execution_count": 37,
   "id": "07c4c0db-759b-45c8-89c3-b787a94764a7",
   "metadata": {
    "colab": {
     "base_uri": "https://localhost:8080/"
    },
    "executionInfo": {
     "elapsed": 17,
     "status": "ok",
     "timestamp": 1732706325096,
     "user": {
      "displayName": "Thammakorn SAETHANG",
      "userId": "08182570455347153646"
     },
     "user_tz": -420
    },
    "id": "07c4c0db-759b-45c8-89c3-b787a94764a7",
    "outputId": "31fc7962-385e-4b57-f3c4-1ee819bd1032"
   },
   "outputs": [
    {
     "name": "stdout",
     "output_type": "stream",
     "text": [
      "[1 3 5 7 9]\n"
     ]
    }
   ],
   "source": [
    "nums = np.arange(1, 11,2)  #1-10\n",
    "print(nums)"
   ]
  },
  {
   "cell_type": "code",
   "execution_count": 38,
   "id": "466baacf",
   "metadata": {},
   "outputs": [
    {
     "name": "stdout",
     "output_type": "stream",
     "text": [
      "1\n",
      "3\n",
      "5\n",
      "7\n",
      "9\n"
     ]
    }
   ],
   "source": [
    "for i in nums :\n",
    "    print(i)"
   ]
  },
  {
   "cell_type": "markdown",
   "id": "cd9a2239-53d5-430b-b371-99d6bf68db74",
   "metadata": {
    "id": "cd9a2239-53d5-430b-b371-99d6bf68db74"
   },
   "source": [
    "You can also specify the step as a third parameter in the arrange() function. A step defines the distance between two consecutive points in the array."
   ]
  },
  {
   "cell_type": "code",
   "execution_count": 7,
   "id": "33966b3a-8a31-4fb9-a08b-1890be900047",
   "metadata": {
    "colab": {
     "base_uri": "https://localhost:8080/"
    },
    "executionInfo": {
     "elapsed": 16,
     "status": "ok",
     "timestamp": 1732706325097,
     "user": {
      "displayName": "Thammakorn SAETHANG",
      "userId": "08182570455347153646"
     },
     "user_tz": -420
    },
    "id": "33966b3a-8a31-4fb9-a08b-1890be900047",
    "outputId": "fe0a09bb-d7e9-429e-8a0d-f56df6b96a0d"
   },
   "outputs": [
    {
     "name": "stdout",
     "output_type": "stream",
     "text": [
      "[1 3 5 7 9]\n"
     ]
    }
   ],
   "source": [
    "nums = np.arange(start=1, stop=11, step=2)  #1-10\n",
    "print(nums)"
   ]
  },
  {
   "cell_type": "markdown",
   "id": "9b8d78ee-db6f-4148-bec8-f6bd008e9d7a",
   "metadata": {
    "id": "9b8d78ee-db6f-4148-bec8-f6bd008e9d7a"
   },
   "source": [
    " &nbsp;\n",
    "**3. Using ones() method**  \n",
    "The ones() method can be used to create a NumPy array of all ones."
   ]
  },
  {
   "cell_type": "code",
   "execution_count": 39,
   "id": "da14b137-7118-4860-87f1-f6f528847c81",
   "metadata": {
    "colab": {
     "base_uri": "https://localhost:8080/"
    },
    "executionInfo": {
     "elapsed": 14,
     "status": "ok",
     "timestamp": 1732706325097,
     "user": {
      "displayName": "Thammakorn SAETHANG",
      "userId": "08182570455347153646"
     },
     "user_tz": -420
    },
    "id": "da14b137-7118-4860-87f1-f6f528847c81",
    "outputId": "eb5a2fbf-0af4-457b-8f28-9255eebbd324"
   },
   "outputs": [
    {
     "name": "stdout",
     "output_type": "stream",
     "text": [
      "[1. 1. 1. 1. 1. 1. 1. 1. 1. 1.]\n"
     ]
    },
    {
     "data": {
      "text/plain": [
       "10"
      ]
     },
     "execution_count": 39,
     "metadata": {},
     "output_type": "execute_result"
    }
   ],
   "source": [
    "ones = np.ones(10)\n",
    "print(ones)\n",
    "len(ones)"
   ]
  },
  {
   "cell_type": "code",
   "execution_count": 9,
   "id": "597f1e15-5cf9-426e-83b0-de4702b0101a",
   "metadata": {
    "colab": {
     "base_uri": "https://localhost:8080/"
    },
    "executionInfo": {
     "elapsed": 13,
     "status": "ok",
     "timestamp": 1732706325097,
     "user": {
      "displayName": "Thammakorn SAETHANG",
      "userId": "08182570455347153646"
     },
     "user_tz": -420
    },
    "id": "597f1e15-5cf9-426e-83b0-de4702b0101a",
    "outputId": "75ded2ae-e38b-42ae-c933-6f37ff946259"
   },
   "outputs": [
    {
     "data": {
      "text/plain": [
       "dtype('float64')"
      ]
     },
     "execution_count": 9,
     "metadata": {},
     "output_type": "execute_result"
    }
   ],
   "source": [
    "ones.dtype"
   ]
  },
  {
   "cell_type": "code",
   "execution_count": 10,
   "id": "2651640c-d7ef-4df0-8c83-6b8b835fff3b",
   "metadata": {
    "colab": {
     "base_uri": "https://localhost:8080/"
    },
    "executionInfo": {
     "elapsed": 11,
     "status": "ok",
     "timestamp": 1732706325097,
     "user": {
      "displayName": "Thammakorn SAETHANG",
      "userId": "08182570455347153646"
     },
     "user_tz": -420
    },
    "id": "2651640c-d7ef-4df0-8c83-6b8b835fff3b",
    "outputId": "d99aef3b-5f6a-4a10-da9a-16f8bc8f1cbb"
   },
   "outputs": [
    {
     "name": "stdout",
     "output_type": "stream",
     "text": [
      "[1 1 1 1 1 1 1 1 1 1]\n"
     ]
    }
   ],
   "source": [
    "ones = np.ones(10, dtype=int)\n",
    "print(ones)"
   ]
  },
  {
   "cell_type": "markdown",
   "id": "979f84d2-df04-4ca7-89fb-90698c23794a",
   "metadata": {
    "id": "979f84d2-df04-4ca7-89fb-90698c23794a"
   },
   "source": [
    "\\\n",
    "Define the second parameter of ones() method to create a 2-dimensional array"
   ]
  },
  {
   "cell_type": "code",
   "execution_count": 1,
   "id": "d640565e-fc89-4565-861c-f41fef304a63",
   "metadata": {
    "colab": {
     "base_uri": "https://localhost:8080/"
    },
    "executionInfo": {
     "elapsed": 10,
     "status": "ok",
     "timestamp": 1732706325097,
     "user": {
      "displayName": "Thammakorn SAETHANG",
      "userId": "08182570455347153646"
     },
     "user_tz": -420
    },
    "id": "d640565e-fc89-4565-861c-f41fef304a63",
    "outputId": "c9b01f69-5c54-4dbe-f341-24b1c4454073"
   },
   "outputs": [
    {
     "ename": "NameError",
     "evalue": "name 'np' is not defined",
     "output_type": "error",
     "traceback": [
      "\u001b[1;31m---------------------------------------------------------------------------\u001b[0m",
      "\u001b[1;31mNameError\u001b[0m                                 Traceback (most recent call last)",
      "Cell \u001b[1;32mIn[1], line 1\u001b[0m\n\u001b[1;32m----> 1\u001b[0m ones \u001b[38;5;241m=\u001b[39m \u001b[43mnp\u001b[49m\u001b[38;5;241m.\u001b[39mones((\u001b[38;5;241m300\u001b[39m, \u001b[38;5;241m10\u001b[39m))\n\u001b[0;32m      2\u001b[0m \u001b[38;5;28mprint\u001b[39m(ones)\n",
      "\u001b[1;31mNameError\u001b[0m: name 'np' is not defined"
     ]
    }
   ],
   "source": [
    "ones = np.ones((300, 10))\n",
    "print(ones)"
   ]
  },
  {
   "cell_type": "markdown",
   "id": "fd10e1b5-9def-4584-ba33-b86af826a0ef",
   "metadata": {
    "id": "fd10e1b5-9def-4584-ba33-b86af826a0ef"
   },
   "source": [
    " &nbsp;\n",
    "**4. Using zeros() method**  \n",
    "The zeros() method can be used to create a NumPy array of all zeros."
   ]
  },
  {
   "cell_type": "code",
   "execution_count": 12,
   "id": "1d6fd54f-3957-4684-b89e-4dac7f37ae5f",
   "metadata": {
    "colab": {
     "base_uri": "https://localhost:8080/"
    },
    "executionInfo": {
     "elapsed": 9,
     "status": "ok",
     "timestamp": 1732706325097,
     "user": {
      "displayName": "Thammakorn SAETHANG",
      "userId": "08182570455347153646"
     },
     "user_tz": -420
    },
    "id": "1d6fd54f-3957-4684-b89e-4dac7f37ae5f",
    "outputId": "04c197e6-29bc-4f8c-f527-97cdd1182b97"
   },
   "outputs": [
    {
     "name": "stdout",
     "output_type": "stream",
     "text": [
      "[0. 0. 0. 0. 0. 0. 0. 0. 0. 0.]\n"
     ]
    }
   ],
   "source": [
    "zeros = np.zeros(10)\n",
    "print(zeros)"
   ]
  },
  {
   "cell_type": "code",
   "execution_count": 13,
   "id": "2025c59e-53ca-4d8d-b51f-84f1ddf55c36",
   "metadata": {
    "colab": {
     "base_uri": "https://localhost:8080/"
    },
    "executionInfo": {
     "elapsed": 7,
     "status": "ok",
     "timestamp": 1732706325097,
     "user": {
      "displayName": "Thammakorn SAETHANG",
      "userId": "08182570455347153646"
     },
     "user_tz": -420
    },
    "id": "2025c59e-53ca-4d8d-b51f-84f1ddf55c36",
    "outputId": "a824d71b-e757-4655-cec0-66d6f0499c93"
   },
   "outputs": [
    {
     "name": "stdout",
     "output_type": "stream",
     "text": [
      "[[0. 0. 0. 0. 0. 0. 0. 0. 0. 0.]\n",
      " [0. 0. 0. 0. 0. 0. 0. 0. 0. 0.]\n",
      " [0. 0. 0. 0. 0. 0. 0. 0. 0. 0.]]\n"
     ]
    }
   ],
   "source": [
    "zeros = np.zeros((3, 10))\n",
    "print(zeros)"
   ]
  },
  {
   "cell_type": "markdown",
   "id": "7fbe4d80-2285-42f8-beca-5b310ad1adb5",
   "metadata": {
    "id": "7fbe4d80-2285-42f8-beca-5b310ad1adb5"
   },
   "source": [
    " &nbsp;\n",
    "**5. Using random.rand()**  \n",
    "The random.rand() function can be used to create a NumPy array of value [0, 1) with uniform distribution."
   ]
  },
  {
   "cell_type": "code",
   "execution_count": 14,
   "id": "041e6cca-5cc2-43e1-9675-dbd9d3fe2996",
   "metadata": {
    "colab": {
     "base_uri": "https://localhost:8080/"
    },
    "executionInfo": {
     "elapsed": 6,
     "status": "ok",
     "timestamp": 1732706325097,
     "user": {
      "displayName": "Thammakorn SAETHANG",
      "userId": "08182570455347153646"
     },
     "user_tz": -420
    },
    "id": "041e6cca-5cc2-43e1-9675-dbd9d3fe2996",
    "outputId": "9ebea17f-5be4-456b-eb2d-c29b5c247754"
   },
   "outputs": [
    {
     "name": "stdout",
     "output_type": "stream",
     "text": [
      "[0.29625975 0.08769913 0.982876   0.96609124 0.68883338 0.07688017\n",
      " 0.73239054 0.81061907 0.10179877 0.94073235]\n"
     ]
    }
   ],
   "source": [
    "rands = np.random.rand(10)\n",
    "print(rands)"
   ]
  },
  {
   "cell_type": "code",
   "execution_count": 42,
   "id": "683672f8-553a-408f-8dbe-6fb93ccf012a",
   "metadata": {
    "colab": {
     "base_uri": "https://localhost:8080/",
     "height": 448
    },
    "executionInfo": {
     "elapsed": 2843,
     "status": "ok",
     "timestamp": 1732706327935,
     "user": {
      "displayName": "Thammakorn SAETHANG",
      "userId": "08182570455347153646"
     },
     "user_tz": -420
    },
    "id": "683672f8-553a-408f-8dbe-6fb93ccf012a",
    "outputId": "22c18a34-5c18-4bbe-85b3-a78b425b4e03"
   },
   "outputs": [
    {
     "data": {
      "text/plain": [
       "<Axes: ylabel='Count'>"
      ]
     },
     "execution_count": 42,
     "metadata": {},
     "output_type": "execute_result"
    },
    {
     "data": {
      "image/png": "[encoded data removed]",
      "text/plain": [
       "<Figure size 640x480 with 1 Axes>"
      ]
     },
     "metadata": {},
     "output_type": "display_data"
    }
   ],
   "source": [
    "rands = np.random.rand(10000)\n",
    "import seaborn as sns\n",
    "\n",
    "sns.histplot(rands)"
   ]
  },
  {
   "cell_type": "code",
   "execution_count": 16,
   "id": "160433df-82dd-4912-b5ee-05509748aea4",
   "metadata": {
    "colab": {
     "base_uri": "https://localhost:8080/"
    },
    "executionInfo": {
     "elapsed": 10,
     "status": "ok",
     "timestamp": 1732706327936,
     "user": {
      "displayName": "Thammakorn SAETHANG",
      "userId": "08182570455347153646"
     },
     "user_tz": -420
    },
    "id": "160433df-82dd-4912-b5ee-05509748aea4",
    "outputId": "686f5bd8-d6ce-4b79-c966-ce0b00abd5c9"
   },
   "outputs": [
    {
     "name": "stdout",
     "output_type": "stream",
     "text": [
      "[[0.05147593 0.27889405 0.60876692 0.97409618 0.26240872 0.98886475\n",
      "  0.26699596 0.9660586  0.89464812 0.55654815]\n",
      " [0.31370746 0.49204094 0.51817799 0.89233415 0.77924645 0.77951224\n",
      "  0.96833484 0.84524879 0.19212807 0.73958884]\n",
      " [0.8943423  0.19137485 0.27140695 0.46111255 0.14041526 0.55264595\n",
      "  0.32809971 0.66052243 0.98698295 0.69792392]]\n"
     ]
    }
   ],
   "source": [
    "rands = np.random.rand(3, 10)\n",
    "print(rands)"
   ]
  },
  {
   "cell_type": "markdown",
   "id": "024289bb-7f68-45eb-98e4-b45085600a1d",
   "metadata": {
    "id": "024289bb-7f68-45eb-98e4-b45085600a1d"
   },
   "source": [
    " &nbsp;\n",
    "**6. Using random.randn()**   \n",
    "The random.randn() function from the NumPy module can be used to create a NumPy array with normal distribution, as shown in the following example."
   ]
  },
  {
   "cell_type": "code",
   "execution_count": 17,
   "id": "c91b5590-8e13-4296-be01-4f759c40ceb1",
   "metadata": {
    "colab": {
     "base_uri": "https://localhost:8080/"
    },
    "executionInfo": {
     "elapsed": 9,
     "status": "ok",
     "timestamp": 1732706327936,
     "user": {
      "displayName": "Thammakorn SAETHANG",
      "userId": "08182570455347153646"
     },
     "user_tz": -420
    },
    "id": "c91b5590-8e13-4296-be01-4f759c40ceb1",
    "outputId": "f03f7e18-41de-4581-dc22-e29a41304429"
   },
   "outputs": [
    {
     "name": "stdout",
     "output_type": "stream",
     "text": [
      "[ 1.73556674 -0.44189164  0.63890697  0.21414191  0.67490864 -0.30829153\n",
      "  1.72776478  0.37613805  0.40829364  1.67292078]\n"
     ]
    }
   ],
   "source": [
    "nrands = np.random.randn(10)\n",
    "print(nrands)"
   ]
  },
  {
   "cell_type": "code",
   "execution_count": 50,
   "id": "a68ee8b8-fc03-4db5-90dd-9dca5bf04880",
   "metadata": {
    "colab": {
     "base_uri": "https://localhost:8080/",
     "height": 448
    },
    "executionInfo": {
     "elapsed": 557,
     "status": "ok",
     "timestamp": 1732706328486,
     "user": {
      "displayName": "Thammakorn SAETHANG",
      "userId": "08182570455347153646"
     },
     "user_tz": -420
    },
    "id": "a68ee8b8-fc03-4db5-90dd-9dca5bf04880",
    "outputId": "5818450e-57b8-45d2-93ad-7e984bf6b1ea"
   },
   "outputs": [
    {
     "data": {
      "text/plain": [
       "<Axes: ylabel='Count'>"
      ]
     },
     "execution_count": 50,
     "metadata": {},
     "output_type": "execute_result"
    },
    {
     "data": {
      "image/png": "[encoded data removed]",
      "text/plain": [
       "<Figure size 640x480 with 1 Axes>"
      ]
     },
     "metadata": {},
     "output_type": "display_data"
    }
   ],
   "source": [
    "nrands = np.random.randn(500)\n",
    "sns.histplot(nrands)"
   ]
  },
  {
   "cell_type": "markdown",
   "id": "ba13df7a-23e1-4684-91b0-0b4cf2a604eb",
   "metadata": {
    "id": "ba13df7a-23e1-4684-91b0-0b4cf2a604eb"
   },
   "source": [
    " &nbsp;\n",
    "**7. Using random.randint()**\n",
    "\n",
    "the random.randint() function from the NumPy module can be used to create a NumPy array with random integers between a certain range. The first parameter to the randint() function specifies the lower bound, the second parameter specifies the upper bound, while the last parameter specifies the number of random integers to generate between the range."
   ]
  },
  {
   "cell_type": "code",
   "execution_count": 19,
   "id": "a8fb6e6c-6253-4c71-8d42-3eafbf6f4765",
   "metadata": {
    "colab": {
     "base_uri": "https://localhost:8080/"
    },
    "executionInfo": {
     "elapsed": 27,
     "status": "ok",
     "timestamp": 1732706328486,
     "user": {
      "displayName": "Thammakorn SAETHANG",
      "userId": "08182570455347153646"
     },
     "user_tz": -420
    },
    "id": "a8fb6e6c-6253-4c71-8d42-3eafbf6f4765",
    "outputId": "236695b9-f40e-4d91-bf38-615192d043c5"
   },
   "outputs": [
    {
     "name": "stdout",
     "output_type": "stream",
     "text": [
      "[77 29 86 56 28 30 13  1 31 14]\n"
     ]
    }
   ],
   "source": [
    "int_rands = np.random.randint(1, 100, 10)\n",
    "print(int_rands)"
   ]
  },
  {
   "cell_type": "code",
   "execution_count": 20,
   "id": "b53c106f-2595-4ee8-8eaf-709a82b70620",
   "metadata": {
    "colab": {
     "base_uri": "https://localhost:8080/",
     "height": 448
    },
    "executionInfo": {
     "elapsed": 25,
     "status": "ok",
     "timestamp": 1732706328486,
     "user": {
      "displayName": "Thammakorn SAETHANG",
      "userId": "08182570455347153646"
     },
     "user_tz": -420
    },
    "id": "b53c106f-2595-4ee8-8eaf-709a82b70620",
    "outputId": "87959433-8f06-47ed-861f-2bc4b48c7cc7"
   },
   "outputs": [
    {
     "data": {
      "text/plain": [
       "<Axes: ylabel='Count'>"
      ]
     },
     "execution_count": 20,
     "metadata": {},
     "output_type": "execute_result"
    },
    {
     "data": {
      "image/png": "[encoded data removed]",
      "text/plain": [
       "<Figure size 640x480 with 1 Axes>"
      ]
     },
     "metadata": {},
     "output_type": "display_data"
    }
   ],
   "source": [
    "int_rands = np.random.randint(1, 100, 1000)\n",
    "sns.histplot(int_rands)"
   ]
  },
  {
   "cell_type": "markdown",
   "id": "216c1c74-44ab-43dc-a3ea-b2e938719085",
   "metadata": {
    "id": "216c1c74-44ab-43dc-a3ea-b2e938719085"
   },
   "source": [
    " &nbsp;\n",
    "### <font color=\"127C02\">*Reshaping NumPy Arrays*</font>\n",
    "\n",
    "A NumPy array can be reshaped using the reshape() function. It is important to mention that the product of the rows and columns in the reshaped array must be equal to the product of rows and columns in the original array."
   ]
  },
  {
   "cell_type": "code",
   "execution_count": 55,
   "id": "47932e7a-5396-423c-a515-6598e13eb117",
   "metadata": {
    "colab": {
     "base_uri": "https://localhost:8080/"
    },
    "executionInfo": {
     "elapsed": 23,
     "status": "ok",
     "timestamp": 1732706328486,
     "user": {
      "displayName": "Thammakorn SAETHANG",
      "userId": "08182570455347153646"
     },
     "user_tz": -420
    },
    "id": "47932e7a-5396-423c-a515-6598e13eb117",
    "outputId": "f1adfe43-a4b8-4a2a-e086-2418bef2a735"
   },
   "outputs": [
    {
     "name": "stdout",
     "output_type": "stream",
     "text": [
      "Before reshape:\n",
      " [[0.06567642 0.54812219]\n",
      " [0.03329523 0.37872657]\n",
      " [0.56653655 0.59954751]\n",
      " [0.99943911 0.22664913]\n",
      " [0.58609595 0.71146757]\n",
      " [0.15210783 0.65772547]]\n",
      "After reshape:\n",
      " [[0.06567642 0.54812219 0.03329523 0.37872657]\n",
      " [0.56653655 0.59954751 0.99943911 0.22664913]\n",
      " [0.58609595 0.71146757 0.15210783 0.65772547]]\n"
     ]
    }
   ],
   "source": [
    "rands = np.random.rand(6, 2)\n",
    "print(\"Before reshape:\\n\", rands)\n",
    "rands_reshape = rands.reshape(3, 4)\n",
    "print(\"After reshape:\\n\", rands_reshape)"
   ]
  },
  {
   "cell_type": "markdown",
   "id": "6dea9f8a-0787-4854-9933-f1411cd72c1e",
   "metadata": {
    "id": "6dea9f8a-0787-4854-9933-f1411cd72c1e"
   },
   "source": [
    " &nbsp;\n",
    "### <font color=\"127C02\">*Array Indexing And Slicing*</font>\n",
    "\n",
    "NumPy arrays can be indexed and sliced. Slicing an array means dividing an array into multiple parts.\n",
    "\n",
    "NumPy arrays are indexed just like normal lists. Indexes in NumPy arrays start from 0, which means that the first item of a NumPy array is stored at the index 0.\n"
   ]
  },
  {
   "cell_type": "code",
   "execution_count": 58,
   "id": "8b35bf04-d60a-424f-8efe-577717398375",
   "metadata": {
    "colab": {
     "base_uri": "https://localhost:8080/"
    },
    "executionInfo": {
     "elapsed": 22,
     "status": "ok",
     "timestamp": 1732706328486,
     "user": {
      "displayName": "Thammakorn SAETHANG",
      "userId": "08182570455347153646"
     },
     "user_tz": -420
    },
    "id": "8b35bf04-d60a-424f-8efe-577717398375",
    "outputId": "e380d7cc-3478-4d9a-e8cb-e16aa5ef0938"
   },
   "outputs": [
    {
     "name": "stdout",
     "output_type": "stream",
     "text": [
      "[ 1  2  3  4  5  6  7  8  9 10]\n",
      "1\n",
      "4\n",
      "10\n"
     ]
    }
   ],
   "source": [
    "nums = np.arange(1, 11)\n",
    "print(nums)\n",
    "print(nums[0])\n",
    "print(nums[3])\n",
    "print(nums[-1])"
   ]
  },
  {
   "cell_type": "markdown",
   "id": "c30d02e9-895f-48be-827a-a054e23f00cb",
   "metadata": {
    "id": "c30d02e9-895f-48be-827a-a054e23f00cb"
   },
   "source": [
    "\\\n",
    "To slice an array, you have to pass the lower index, followed by a colon and the upper index. The items from the lower index (inclusive) to the upper index (exclusive) will be filtered. The following script slices the array “s” from the 0 index to the 9 index. The elements from index 0 to 8 are printed in the output."
   ]
  },
  {
   "cell_type": "code",
   "execution_count": 59,
   "id": "09d0be0e-2cd5-4db4-84b8-3bc86c081e6f",
   "metadata": {
    "colab": {
     "base_uri": "https://localhost:8080/"
    },
    "executionInfo": {
     "elapsed": 20,
     "status": "ok",
     "timestamp": 1732706328486,
     "user": {
      "displayName": "Thammakorn SAETHANG",
      "userId": "08182570455347153646"
     },
     "user_tz": -420
    },
    "id": "09d0be0e-2cd5-4db4-84b8-3bc86c081e6f",
    "outputId": "823501ab-523e-4be4-f288-3ff1cc5e10b6"
   },
   "outputs": [
    {
     "name": "stdout",
     "output_type": "stream",
     "text": [
      "[1 2 3 4 5 6 7 8 9]\n"
     ]
    }
   ],
   "source": [
    "print(nums[0:9])"
   ]
  },
  {
   "cell_type": "markdown",
   "id": "f9296506-2503-44d7-bb97-8d0dc6fdca25",
   "metadata": {
    "id": "f9296506-2503-44d7-bb97-8d0dc6fdca25"
   },
   "source": [
    "\\\n",
    "If you specify only the upper bound, all the items from the first index to the upper bound are returned. similarly, if you specify only the lower bound, all the items from the lower bound to the last item of the array are returned."
   ]
  },
  {
   "cell_type": "code",
   "execution_count": 24,
   "id": "7bb342a7-59e0-4386-accb-f0f371b81782",
   "metadata": {
    "colab": {
     "base_uri": "https://localhost:8080/"
    },
    "executionInfo": {
     "elapsed": 19,
     "status": "ok",
     "timestamp": 1732706328486,
     "user": {
      "displayName": "Thammakorn SAETHANG",
      "userId": "08182570455347153646"
     },
     "user_tz": -420
    },
    "id": "7bb342a7-59e0-4386-accb-f0f371b81782",
    "outputId": "69667c4a-9f83-4c70-e5aa-c183fc3659b7"
   },
   "outputs": [
    {
     "name": "stdout",
     "output_type": "stream",
     "text": [
      "[ 5  6  7  8  9 10]\n",
      "[1 2 3 4]\n"
     ]
    }
   ],
   "source": [
    "print(nums[4:])\n",
    "print(nums[:4])  #ends at index 3"
   ]
  },
  {
   "cell_type": "markdown",
   "id": "e61c0333-4bd7-40cb-9061-17dedfb0d963",
   "metadata": {
    "id": "e61c0333-4bd7-40cb-9061-17dedfb0d963"
   },
   "source": [
    "\\\n",
    "Array slicing can also be applied on a 2-dimensional array. To do so, you have to apply slicing on arrays and columns separately. A comma separates the rows and columns slicing. In the following script, the rows from the first and second index are returned, While all the columns returned. You can see the first two complete rows in the output."
   ]
  },
  {
   "cell_type": "code",
   "execution_count": 25,
   "id": "da4831ed-1fdb-4ee7-8e1a-0f461155e4a8",
   "metadata": {
    "colab": {
     "base_uri": "https://localhost:8080/"
    },
    "executionInfo": {
     "elapsed": 18,
     "status": "ok",
     "timestamp": 1732706328486,
     "user": {
      "displayName": "Thammakorn SAETHANG",
      "userId": "08182570455347153646"
     },
     "user_tz": -420
    },
    "id": "da4831ed-1fdb-4ee7-8e1a-0f461155e4a8",
    "outputId": "5dd5308e-ffe7-43c5-ec02-9977f012cc0e"
   },
   "outputs": [
    {
     "name": "stdout",
     "output_type": "stream",
     "text": [
      "[[1 2 3]\n",
      " [4 5 6]\n",
      " [7 8 9]]\n"
     ]
    }
   ],
   "source": [
    "r1 = [1, 2, 3]\n",
    "r2 = [4, 5, 6]\n",
    "r3 = [7, 8, 9]\n",
    "\n",
    "nums = np.array([r1, r2, r3])\n",
    "print(nums)"
   ]
  },
  {
   "cell_type": "code",
   "execution_count": 26,
   "id": "7f5430d6-e75f-4e6c-bec0-53a058225f7d",
   "metadata": {
    "colab": {
     "base_uri": "https://localhost:8080/"
    },
    "executionInfo": {
     "elapsed": 16,
     "status": "ok",
     "timestamp": 1732706328486,
     "user": {
      "displayName": "Thammakorn SAETHANG",
      "userId": "08182570455347153646"
     },
     "user_tz": -420
    },
    "id": "7f5430d6-e75f-4e6c-bec0-53a058225f7d",
    "outputId": "42904f8b-d760-409e-bd14-2c4b84ed1f37"
   },
   "outputs": [
    {
     "name": "stdout",
     "output_type": "stream",
     "text": [
      "[[4 5]\n",
      " [7 8]]\n"
     ]
    }
   ],
   "source": [
    "print(nums[1:, :2])  #ends at column index 1"
   ]
  },
  {
   "cell_type": "code",
   "execution_count": 27,
   "id": "bac2507a-1a6b-444f-b490-e3179ae91d1c",
   "metadata": {
    "colab": {
     "base_uri": "https://localhost:8080/"
    },
    "executionInfo": {
     "elapsed": 15,
     "status": "ok",
     "timestamp": 1732706328486,
     "user": {
      "displayName": "Thammakorn SAETHANG",
      "userId": "08182570455347153646"
     },
     "user_tz": -420
    },
    "id": "bac2507a-1a6b-444f-b490-e3179ae91d1c",
    "outputId": "7df7ae18-d5e0-428b-f1b1-f0e4d7bb77a8"
   },
   "outputs": [
    {
     "name": "stdout",
     "output_type": "stream",
     "text": [
      "[[4 5 6]\n",
      " [7 8 9]]\n"
     ]
    }
   ],
   "source": [
    "print(nums[1:, :]) #from row index 1, all columns"
   ]
  },
  {
   "cell_type": "code",
   "execution_count": 28,
   "id": "14f96cb6-8f5c-46c5-afd8-19e680e31882",
   "metadata": {
    "colab": {
     "base_uri": "https://localhost:8080/"
    },
    "executionInfo": {
     "elapsed": 13,
     "status": "ok",
     "timestamp": 1732706328486,
     "user": {
      "displayName": "Thammakorn SAETHANG",
      "userId": "08182570455347153646"
     },
     "user_tz": -420
    },
    "id": "14f96cb6-8f5c-46c5-afd8-19e680e31882",
    "outputId": "da44620a-4d4c-42f2-856a-385db7807c3a"
   },
   "outputs": [
    {
     "name": "stdout",
     "output_type": "stream",
     "text": [
      "[[2 3]\n",
      " [5 6]\n",
      " [8 9]]\n"
     ]
    }
   ],
   "source": [
    "print(nums[:, 1:])  #all rows, from column 1"
   ]
  },
  {
   "cell_type": "markdown",
   "id": "b2c88b57-939c-45d9-80d7-75b68925287c",
   "metadata": {
    "id": "b2c88b57-939c-45d9-80d7-75b68925287c"
   },
   "source": [
    " &nbsp;\n",
    "### <font color=\"127C02\">*Using where () function*</font>"
   ]
  },
  {
   "cell_type": "markdown",
   "id": "91977bf9-d55c-45b8-85f6-c78f4a6fb6a8",
   "metadata": {
    "id": "91977bf9-d55c-45b8-85f6-c78f4a6fb6a8"
   },
   "source": [
    "\\\n",
    "Numpy’s where function can find array elements according to specific logical criteria. Note that np.where returns a tuple of Numpy indices"
   ]
  },
  {
   "cell_type": "code",
   "execution_count": 29,
   "id": "1f528947-50cd-499c-8fa1-cc0876d32791",
   "metadata": {
    "colab": {
     "base_uri": "https://localhost:8080/"
    },
    "executionInfo": {
     "elapsed": 12,
     "status": "ok",
     "timestamp": 1732706328486,
     "user": {
      "displayName": "Thammakorn SAETHANG",
      "userId": "08182570455347153646"
     },
     "user_tz": -420
    },
    "id": "1f528947-50cd-499c-8fa1-cc0876d32791",
    "outputId": "986a2373-5dcb-4e0c-e511-71e247ca64b6"
   },
   "outputs": [
    {
     "name": "stdout",
     "output_type": "stream",
     "text": [
      "[0 1 2 3 4 5 6 7 8 9]\n"
     ]
    },
    {
     "data": {
      "text/plain": [
       "(array([0, 2, 4, 6, 8], dtype=int64),)"
      ]
     },
     "execution_count": 29,
     "metadata": {},
     "output_type": "execute_result"
    }
   ],
   "source": [
    "nums = np.arange(10)\n",
    "print(nums)\n",
    "np.where(nums % 2 == 0)"
   ]
  },
  {
   "cell_type": "markdown",
   "id": "7c53ccb8-085e-42bb-ab20-77838ae3bb88",
   "metadata": {
    "id": "7c53ccb8-085e-42bb-ab20-77838ae3bb88"
   },
   "source": [
    "\\\n",
    "Additionally, Numpy arrays can be indexed by logical Numpy arrays where only the corresponding True entries are selected."
   ]
  },
  {
   "cell_type": "code",
   "execution_count": 30,
   "id": "e0770e12-d859-4eda-8dd4-90631825e22d",
   "metadata": {
    "colab": {
     "base_uri": "https://localhost:8080/"
    },
    "executionInfo": {
     "elapsed": 10,
     "status": "ok",
     "timestamp": 1732706328486,
     "user": {
      "displayName": "Thammakorn SAETHANG",
      "userId": "08182570455347153646"
     },
     "user_tz": -420
    },
    "id": "e0770e12-d859-4eda-8dd4-90631825e22d",
    "outputId": "0ff88281-15b4-42c7-8075-740c593cea0f"
   },
   "outputs": [
    {
     "name": "stdout",
     "output_type": "stream",
     "text": [
      "[ True False  True False  True False  True False  True False]\n"
     ]
    },
    {
     "data": {
      "text/plain": [
       "array([0, 2, 4, 6, 8])"
      ]
     },
     "execution_count": 30,
     "metadata": {},
     "output_type": "execute_result"
    }
   ],
   "source": [
    "print(nums % 2 == 0)\n",
    "nums[nums % 2 == 0]"
   ]
  },
  {
   "cell_type": "markdown",
   "id": "32c948c8-3b49-4f1b-aae9-cb783f1a8cd8",
   "metadata": {
    "id": "32c948c8-3b49-4f1b-aae9-cb783f1a8cd8"
   },
   "source": [
    " &nbsp;\n",
    "### <font color=\"127C02\">*NumPy for Arithmetic Operations*</font>\n",
    "\n",
    "NumPy arrays provide a variety of functions to perform arithmetic operations. Some of these functions are explained in this section."
   ]
  },
  {
   "cell_type": "markdown",
   "id": "059f1880-92c7-4d48-858b-9e0d934f8613",
   "metadata": {
    "id": "059f1880-92c7-4d48-858b-9e0d934f8613"
   },
   "source": [
    " &nbsp;\n",
    "**1. vs. list when multiply(*)**  "
   ]
  },
  {
   "cell_type": "code",
   "execution_count": 31,
   "id": "77dd1911-d927-467e-b2e1-f76e2dca2fce",
   "metadata": {
    "colab": {
     "base_uri": "https://localhost:8080/"
    },
    "executionInfo": {
     "elapsed": 9,
     "status": "ok",
     "timestamp": 1732706328486,
     "user": {
      "displayName": "Thammakorn SAETHANG",
      "userId": "08182570455347153646"
     },
     "user_tz": -420
    },
    "id": "77dd1911-d927-467e-b2e1-f76e2dca2fce",
    "outputId": "90442daf-8fd2-4bee-90c7-a2ff7946e9a7"
   },
   "outputs": [
    {
     "data": {
      "text/plain": [
       "[1, 2, 3, 1, 2, 3, 1, 2, 3]"
      ]
     },
     "execution_count": 31,
     "metadata": {},
     "output_type": "execute_result"
    }
   ],
   "source": [
    "l = [1,2,3]\n",
    "l*3"
   ]
  },
  {
   "cell_type": "code",
   "execution_count": 32,
   "id": "f23652e9-f066-4471-9e8a-7afc3aa9bb15",
   "metadata": {
    "colab": {
     "base_uri": "https://localhost:8080/",
     "height": 147
    },
    "executionInfo": {
     "elapsed": 510,
     "status": "error",
     "timestamp": 1732706328989,
     "user": {
      "displayName": "Thammakorn SAETHANG",
      "userId": "08182570455347153646"
     },
     "user_tz": -420
    },
    "id": "f23652e9-f066-4471-9e8a-7afc3aa9bb15",
    "outputId": "1a63dc72-8150-429b-86ed-1638b39c9332"
   },
   "outputs": [
    {
     "ename": "TypeError",
     "evalue": "can only concatenate list (not \"int\") to list",
     "output_type": "error",
     "traceback": [
      "\u001b[1;31m---------------------------------------------------------------------------\u001b[0m",
      "\u001b[1;31mTypeError\u001b[0m                                 Traceback (most recent call last)",
      "Cell \u001b[1;32mIn[32], line 1\u001b[0m\n\u001b[1;32m----> 1\u001b[0m \u001b[43ml\u001b[49m\u001b[38;5;241;43m+\u001b[39;49m\u001b[38;5;241;43m1\u001b[39;49m\n",
      "\u001b[1;31mTypeError\u001b[0m: can only concatenate list (not \"int\") to list"
     ]
    }
   ],
   "source": [
    "l+1"
   ]
  },
  {
   "cell_type": "code",
   "execution_count": null,
   "id": "52513645-201c-4474-b7f5-14028f4006ca",
   "metadata": {
    "colab": {
     "base_uri": "https://localhost:8080/",
     "height": 147
    },
    "executionInfo": {
     "elapsed": 457,
     "status": "error",
     "timestamp": 1732706336391,
     "user": {
      "displayName": "Thammakorn SAETHANG",
      "userId": "08182570455347153646"
     },
     "user_tz": -420
    },
    "id": "52513645-201c-4474-b7f5-14028f4006ca",
    "outputId": "22df4d6a-6857-480c-9d6b-1ea0459063d0"
   },
   "outputs": [
    {
     "ename": "TypeError",
     "evalue": "unsupported operand type(s) for /: 'list' and 'int'",
     "output_type": "error",
     "traceback": [
      "\u001b[0;31m---------------------------------------------------------------------------\u001b[0m",
      "\u001b[0;31mTypeError\u001b[0m                                 Traceback (most recent call last)",
      "\u001b[0;32m<ipython-input-33-bfd0b64d16c6>\u001b[0m in \u001b[0;36m<cell line: 1>\u001b[0;34m()\u001b[0m\n\u001b[0;32m----> 1\u001b[0;31m \u001b[0ml\u001b[0m\u001b[0;34m/\u001b[0m\u001b[0;36m3\u001b[0m\u001b[0;34m\u001b[0m\u001b[0;34m\u001b[0m\u001b[0m\n\u001b[0m",
      "\u001b[0;31mTypeError\u001b[0m: unsupported operand type(s) for /: 'list' and 'int'"
     ]
    }
   ],
   "source": [
    "l/3"
   ]
  },
  {
   "cell_type": "code",
   "execution_count": null,
   "id": "d3153748-eab8-4453-a5ab-ab5da1e88b32",
   "metadata": {
    "colab": {
     "base_uri": "https://localhost:8080/"
    },
    "executionInfo": {
     "elapsed": 476,
     "status": "ok",
     "timestamp": 1732706339896,
     "user": {
      "displayName": "Thammakorn SAETHANG",
      "userId": "08182570455347153646"
     },
     "user_tz": -420
    },
    "id": "d3153748-eab8-4453-a5ab-ab5da1e88b32",
    "outputId": "0d97db0c-ef7f-4b20-ad71-2edda5eae03b"
   },
   "outputs": [
    {
     "data": {
      "text/plain": [
       "array([3, 6, 9])"
      ]
     },
     "execution_count": 34,
     "metadata": {},
     "output_type": "execute_result"
    }
   ],
   "source": [
    "a = np.array(l)\n",
    "a*3"
   ]
  },
  {
   "cell_type": "code",
   "execution_count": null,
   "id": "3adb4ef0-ffaf-440d-87a1-506bc3a39354",
   "metadata": {
    "colab": {
     "base_uri": "https://localhost:8080/"
    },
    "executionInfo": {
     "elapsed": 4,
     "status": "ok",
     "timestamp": 1732706341623,
     "user": {
      "displayName": "Thammakorn SAETHANG",
      "userId": "08182570455347153646"
     },
     "user_tz": -420
    },
    "id": "3adb4ef0-ffaf-440d-87a1-506bc3a39354",
    "outputId": "466cb0c9-69c6-478c-f223-a985d5ae17fe"
   },
   "outputs": [
    {
     "data": {
      "text/plain": [
       "array([2, 3, 4])"
      ]
     },
     "execution_count": 35,
     "metadata": {},
     "output_type": "execute_result"
    }
   ],
   "source": [
    "a+1"
   ]
  },
  {
   "cell_type": "code",
   "execution_count": null,
   "id": "e9e3a785-b9e4-46dd-a4f4-21c74c414714",
   "metadata": {
    "colab": {
     "base_uri": "https://localhost:8080/"
    },
    "executionInfo": {
     "elapsed": 3,
     "status": "ok",
     "timestamp": 1732706343391,
     "user": {
      "displayName": "Thammakorn SAETHANG",
      "userId": "08182570455347153646"
     },
     "user_tz": -420
    },
    "id": "e9e3a785-b9e4-46dd-a4f4-21c74c414714",
    "outputId": "6be7b7a1-71f4-4eb9-8f14-fe70714b6c48"
   },
   "outputs": [
    {
     "data": {
      "text/plain": [
       "array([0.33333333, 0.66666667, 1.        ])"
      ]
     },
     "execution_count": 36,
     "metadata": {},
     "output_type": "execute_result"
    }
   ],
   "source": [
    "a/3"
   ]
  },
  {
   "cell_type": "markdown",
   "id": "u4rQCudfBP54",
   "metadata": {
    "id": "u4rQCudfBP54"
   },
   "source": [
    " &nbsp;\n",
    "**2. Max, min, mean, median, sum, standard deviation**  "
   ]
  },
  {
   "cell_type": "code",
   "execution_count": null,
   "id": "XzLm0assB9rH",
   "metadata": {
    "colab": {
     "base_uri": "https://localhost:8080/"
    },
    "executionInfo": {
     "elapsed": 674,
     "status": "ok",
     "timestamp": 1732706380195,
     "user": {
      "displayName": "Thammakorn SAETHANG",
      "userId": "08182570455347153646"
     },
     "user_tz": -420
    },
    "id": "XzLm0assB9rH",
    "outputId": "3c5639e4-5ff5-480e-d124-91228e5b2203"
   },
   "outputs": [
    {
     "data": {
      "text/plain": [
       "3"
      ]
     },
     "execution_count": 37,
     "metadata": {},
     "output_type": "execute_result"
    }
   ],
   "source": [
    "np.max(a)"
   ]
  },
  {
   "cell_type": "code",
   "execution_count": null,
   "id": "8tkEM6oCCBbx",
   "metadata": {
    "colab": {
     "base_uri": "https://localhost:8080/"
    },
    "executionInfo": {
     "elapsed": 20,
     "status": "ok",
     "timestamp": 1732706380195,
     "user": {
      "displayName": "Thammakorn SAETHANG",
      "userId": "08182570455347153646"
     },
     "user_tz": -420
    },
    "id": "8tkEM6oCCBbx",
    "outputId": "47558a1e-809a-477a-c214-7fce2add0f1f"
   },
   "outputs": [
    {
     "data": {
      "text/plain": [
       "1"
      ]
     },
     "execution_count": 38,
     "metadata": {},
     "output_type": "execute_result"
    }
   ],
   "source": [
    "np.min(a)"
   ]
  },
  {
   "cell_type": "code",
   "execution_count": null,
   "id": "2OhQYy1OBg8i",
   "metadata": {
    "colab": {
     "base_uri": "https://localhost:8080/"
    },
    "executionInfo": {
     "elapsed": 17,
     "status": "ok",
     "timestamp": 1732706380195,
     "user": {
      "displayName": "Thammakorn SAETHANG",
      "userId": "08182570455347153646"
     },
     "user_tz": -420
    },
    "id": "2OhQYy1OBg8i",
    "outputId": "99d49d22-8218-4b49-86d8-f46f5383e1e7"
   },
   "outputs": [
    {
     "data": {
      "text/plain": [
       "2.0"
      ]
     },
     "execution_count": 39,
     "metadata": {},
     "output_type": "execute_result"
    }
   ],
   "source": [
    "np.mean(a)"
   ]
  },
  {
   "cell_type": "code",
   "execution_count": null,
   "id": "WUhdjOKVBkpV",
   "metadata": {
    "colab": {
     "base_uri": "https://localhost:8080/"
    },
    "executionInfo": {
     "elapsed": 14,
     "status": "ok",
     "timestamp": 1732706380195,
     "user": {
      "displayName": "Thammakorn SAETHANG",
      "userId": "08182570455347153646"
     },
     "user_tz": -420
    },
    "id": "WUhdjOKVBkpV",
    "outputId": "4b69f2a0-1829-412a-d371-84ee22f4b0c7"
   },
   "outputs": [
    {
     "data": {
      "text/plain": [
       "2.0"
      ]
     },
     "execution_count": 40,
     "metadata": {},
     "output_type": "execute_result"
    }
   ],
   "source": [
    "np.median(a)"
   ]
  },
  {
   "cell_type": "code",
   "execution_count": null,
   "id": "U6ibctpdBuPn",
   "metadata": {
    "colab": {
     "base_uri": "https://localhost:8080/"
    },
    "executionInfo": {
     "elapsed": 12,
     "status": "ok",
     "timestamp": 1732706380195,
     "user": {
      "displayName": "Thammakorn SAETHANG",
      "userId": "08182570455347153646"
     },
     "user_tz": -420
    },
    "id": "U6ibctpdBuPn",
    "outputId": "a431e8b7-31e0-44fe-c26f-dc1761660edd"
   },
   "outputs": [
    {
     "data": {
      "text/plain": [
       "6"
      ]
     },
     "execution_count": 41,
     "metadata": {},
     "output_type": "execute_result"
    }
   ],
   "source": [
    "np.sum(a)"
   ]
  },
  {
   "cell_type": "code",
   "execution_count": null,
   "id": "RAerkpdJBxsb",
   "metadata": {
    "colab": {
     "base_uri": "https://localhost:8080/"
    },
    "executionInfo": {
     "elapsed": 11,
     "status": "ok",
     "timestamp": 1732706380196,
     "user": {
      "displayName": "Thammakorn SAETHANG",
      "userId": "08182570455347153646"
     },
     "user_tz": -420
    },
    "id": "RAerkpdJBxsb",
    "outputId": "5b65cf07-3c4d-463a-c685-80de94441cfb"
   },
   "outputs": [
    {
     "data": {
      "text/plain": [
       "0.816496580927726"
      ]
     },
     "execution_count": 42,
     "metadata": {},
     "output_type": "execute_result"
    }
   ],
   "source": [
    "np.std(a)"
   ]
  },
  {
   "cell_type": "markdown",
   "id": "7f4e1392-e353-4df9-8c97-87f82079b9f5",
   "metadata": {
    "id": "7f4e1392-e353-4df9-8c97-87f82079b9f5"
   },
   "source": [
    " &nbsp;\n",
    "**2. Finding Square Roots**  \n",
    "The sqrt() function is used to find the square roots of all the elements in a list"
   ]
  },
  {
   "cell_type": "code",
   "execution_count": null,
   "id": "9ed9de6e-d314-44b1-a65e-b33296ce96cc",
   "metadata": {
    "colab": {
     "base_uri": "https://localhost:8080/"
    },
    "executionInfo": {
     "elapsed": 9,
     "status": "ok",
     "timestamp": 1732706380196,
     "user": {
      "displayName": "Thammakorn SAETHANG",
      "userId": "08182570455347153646"
     },
     "user_tz": -420
    },
    "id": "9ed9de6e-d314-44b1-a65e-b33296ce96cc",
    "outputId": "9b9ed0d0-2369-4909-9dea-f461d9d5e9bb"
   },
   "outputs": [
    {
     "name": "stdout",
     "output_type": "stream",
     "text": [
      "[ 1.          2.          3.          3.16227766  3.87298335  5.\n",
      " 10.        ]\n"
     ]
    }
   ],
   "source": [
    "nums = [1, 4, 9, 10, 15, 25, 100]\n",
    "np_sqr = np.sqrt(nums)\n",
    "print(np_sqr)"
   ]
  },
  {
   "cell_type": "markdown",
   "id": "6c5e9515-b761-443e-aada-9a248c9e2046",
   "metadata": {
    "id": "6c5e9515-b761-443e-aada-9a248c9e2046"
   },
   "source": [
    " &nbsp;\n",
    "**3. Finding Logs**  \n",
    "The log() function is used to find the logs of all the elements in a list"
   ]
  },
  {
   "cell_type": "code",
   "execution_count": null,
   "id": "0b4350c3-6719-44fe-a459-71e4a7be0bb9",
   "metadata": {
    "colab": {
     "base_uri": "https://localhost:8080/"
    },
    "executionInfo": {
     "elapsed": 7,
     "status": "ok",
     "timestamp": 1732706380196,
     "user": {
      "displayName": "Thammakorn SAETHANG",
      "userId": "08182570455347153646"
     },
     "user_tz": -420
    },
    "id": "0b4350c3-6719-44fe-a459-71e4a7be0bb9",
    "outputId": "1a7c361b-91d8-4348-f76e-ec2b11dd955c"
   },
   "outputs": [
    {
     "name": "stdout",
     "output_type": "stream",
     "text": [
      "[0.         0.60205999 0.95424251 1.         1.17609126 1.39794001\n",
      " 2.        ]\n",
      "[0.         2.         3.169925   3.32192809 3.9068906  4.64385619\n",
      " 6.64385619]\n",
      "[0.         1.38629436 2.19722458 2.30258509 2.7080502  3.21887582\n",
      " 4.60517019]\n"
     ]
    }
   ],
   "source": [
    "nums = [1, 4, 9, 10, 15, 25, 100]\n",
    "np_sqr = np.log10(nums)  #base = 10\n",
    "print(np_sqr)\n",
    "\n",
    "np_sqr = np.log2(nums)  #base = 2\n",
    "print(np_sqr)\n",
    "\n",
    "np_sqr = np.log(nums)  #base = e (2.71828, np.e)\n",
    "print(np_sqr)\n",
    "\n",
    "#Note: Other base use math.log"
   ]
  },
  {
   "cell_type": "markdown",
   "id": "0be45742-74b4-4030-9d4d-f04a0eaae559",
   "metadata": {
    "id": "0be45742-74b4-4030-9d4d-f04a0eaae559"
   },
   "source": [
    " &nbsp;\n",
    "### <font color=\"127C02\">*NumPy for Linear Algebra Operations*</font>\n",
    "\n",
    "Data science makes extensive use of linear algebra. The support for performing advanced linear algebra functions in a fast and efficient way makes NumPy one of the most routinely used libraries for data science. In this section, you will perform some of the most linear algebraic operations with NumPy\n",
    " &nbsp;  \n",
    "**1. Finding Matrix Dot Product**  \n",
    "To find a matrix dot product, you can use the dot() function. To find the dot product, the number of columns in the first matrix must match the number of rows in the second matrix. Here is an example."
   ]
  },
  {
   "cell_type": "code",
   "execution_count": null,
   "id": "bb1ec95f-9a99-4354-b263-4fb9234405f0",
   "metadata": {
    "colab": {
     "base_uri": "https://localhost:8080/"
    },
    "executionInfo": {
     "elapsed": 498,
     "status": "ok",
     "timestamp": 1732706380689,
     "user": {
      "displayName": "Thammakorn SAETHANG",
      "userId": "08182570455347153646"
     },
     "user_tz": -420
    },
    "id": "bb1ec95f-9a99-4354-b263-4fb9234405f0",
    "outputId": "201b9316-1c7e-4921-938e-72d3b11c90a2"
   },
   "outputs": [
    {
     "name": "stdout",
     "output_type": "stream",
     "text": [
      "[[14]]\n"
     ]
    }
   ],
   "source": [
    "a = [[1, 2, 3]]\n",
    "b = [[1],\n",
    "     [2],\n",
    "     [3]]\n",
    "c = np.dot(a, b)\n",
    "print(c)"
   ]
  },
  {
   "cell_type": "code",
   "execution_count": null,
   "id": "c6653e54-fc2b-4351-9bc4-d407fe621566",
   "metadata": {
    "colab": {
     "base_uri": "https://localhost:8080/"
    },
    "executionInfo": {
     "elapsed": 31,
     "status": "ok",
     "timestamp": 1732706380689,
     "user": {
      "displayName": "Thammakorn SAETHANG",
      "userId": "08182570455347153646"
     },
     "user_tz": -420
    },
    "id": "c6653e54-fc2b-4351-9bc4-d407fe621566",
    "outputId": "c4009ae5-2925-464f-adfc-0e564abf7cc3"
   },
   "outputs": [
    {
     "name": "stdout",
     "output_type": "stream",
     "text": [
      "[[14 14 14]]\n"
     ]
    }
   ],
   "source": [
    "a = [[1, 2, 3]]\n",
    "b = [[1, 1, 1], [2, 2, 2], [3, 3, 3]]\n",
    "c = np.dot(a, b)\n",
    "print(c)"
   ]
  },
  {
   "cell_type": "markdown",
   "id": "8a5dfc30-2310-4b7a-a125-c67d40b822b8",
   "metadata": {
    "id": "8a5dfc30-2310-4b7a-a125-c67d40b822b8"
   },
   "source": [
    " &nbsp;  \n",
    "**2. Element-wise Matrix Multiplication**  \n",
    "In addition to finding the dot product of two matrices, you can element-wise multiply two matrices. To do so, you can use the multiply() function. The dimensions of the two matrices must match"
   ]
  },
  {
   "cell_type": "code",
   "execution_count": null,
   "id": "3fb985bc-85f8-424d-abeb-403f45fb9930",
   "metadata": {
    "colab": {
     "base_uri": "https://localhost:8080/"
    },
    "executionInfo": {
     "elapsed": 28,
     "status": "ok",
     "timestamp": 1732706380689,
     "user": {
      "displayName": "Thammakorn SAETHANG",
      "userId": "08182570455347153646"
     },
     "user_tz": -420
    },
    "id": "3fb985bc-85f8-424d-abeb-403f45fb9930",
    "outputId": "76df6ab3-0318-4544-87ff-35e326be5957"
   },
   "outputs": [
    {
     "name": "stdout",
     "output_type": "stream",
     "text": [
      "a:\n",
      "[[1 2 3]\n",
      " [4 5 6]\n",
      " [7 8 9]]\n",
      "b:\n",
      "[[1 2 3]\n",
      " [4 5 6]\n",
      " [7 8 9]]\n",
      "c:\n",
      "[[ 1  4  9]\n",
      " [16 25 36]\n",
      " [49 64 81]]\n"
     ]
    }
   ],
   "source": [
    "a = np.arange(1, 10).reshape(3, 3)\n",
    "print(\"a:\")\n",
    "print(a)\n",
    "b = a\n",
    "print(\"b:\")\n",
    "print(a)\n",
    "c = np.multiply(a, b)  #or c = a*b\n",
    "print(\"c:\")\n",
    "print(c)"
   ]
  },
  {
   "cell_type": "markdown",
   "id": "f6300f20-97bf-44d8-b8c3-b5575f998f71",
   "metadata": {
    "id": "f6300f20-97bf-44d8-b8c3-b5575f998f71"
   },
   "source": [
    " &nbsp;  \n",
    "**3. Finding Matrix Inverse**  \n",
    "You can find the inverse of a matrix via the linalg.inv()"
   ]
  },
  {
   "cell_type": "code",
   "execution_count": null,
   "id": "fcb33260-0159-4a92-9a31-3342f52c87c4",
   "metadata": {
    "colab": {
     "base_uri": "https://localhost:8080/"
    },
    "executionInfo": {
     "elapsed": 26,
     "status": "ok",
     "timestamp": 1732706380689,
     "user": {
      "displayName": "Thammakorn SAETHANG",
      "userId": "08182570455347153646"
     },
     "user_tz": -420
    },
    "id": "fcb33260-0159-4a92-9a31-3342f52c87c4",
    "outputId": "da070613-3897-46b8-e437-fc8a7f97018c"
   },
   "outputs": [
    {
     "name": "stdout",
     "output_type": "stream",
     "text": [
      "[[ 0.36        0.54666667 -0.74666667]\n",
      " [ 0.36        0.21333333 -0.41333333]\n",
      " [-0.52       -0.49333333  0.89333333]]\n"
     ]
    }
   ],
   "source": [
    "r1 = [1, 9, 5]\n",
    "r2 = [8, 5, 9]\n",
    "r3 = [5, 8, 9]\n",
    "nums = np.array([r1, r2, r3])\n",
    "inverse = np.linalg.inv(nums)\n",
    "print(inverse)"
   ]
  },
  {
   "cell_type": "markdown",
   "id": "654c8f6e-fe72-49a4-9689-e5548ffaac66",
   "metadata": {
    "id": "654c8f6e-fe72-49a4-9689-e5548ffaac66"
   },
   "source": [
    " &nbsp;  \n",
    "**4. Finding Matrix Determinant**  \n",
    "Similarly, the determinant of a matrix can be found using the linalg.det() function"
   ]
  },
  {
   "cell_type": "code",
   "execution_count": null,
   "id": "bcace256-e497-4c7f-be5c-e60e0ae28f76",
   "metadata": {
    "colab": {
     "base_uri": "https://localhost:8080/"
    },
    "executionInfo": {
     "elapsed": 24,
     "status": "ok",
     "timestamp": 1732706380689,
     "user": {
      "displayName": "Thammakorn SAETHANG",
      "userId": "08182570455347153646"
     },
     "user_tz": -420
    },
    "id": "bcace256-e497-4c7f-be5c-e60e0ae28f76",
    "outputId": "7590196d-fc8f-4c00-8c71-c100db53108a"
   },
   "outputs": [
    {
     "name": "stdout",
     "output_type": "stream",
     "text": [
      "-74.99999999999997\n"
     ]
    }
   ],
   "source": [
    "r1 = [1, 9, 5]\n",
    "r2 = [8, 5, 9]\n",
    "r3 = [5, 8, 9]\n",
    "nums = np.array([r1, r2, r3])\n",
    "determinant = np.linalg.det(nums)\n",
    "print(determinant)"
   ]
  },
  {
   "cell_type": "markdown",
   "id": "4c97d355-a69f-4b86-a7a5-8a70ac0bf986",
   "metadata": {
    "id": "4c97d355-a69f-4b86-a7a5-8a70ac0bf986"
   },
   "source": [
    " &nbsp;  \n",
    "**5. Finding Matrix Trace**  \n",
    "The trace of a matrix refers to the sum of all the elements along the diagonal of a matrix. To find the trace of a matrix, you can use the trace() function"
   ]
  },
  {
   "cell_type": "code",
   "execution_count": null,
   "id": "43810c46-859f-428e-a74f-8450ed03559e",
   "metadata": {
    "colab": {
     "base_uri": "https://localhost:8080/"
    },
    "executionInfo": {
     "elapsed": 22,
     "status": "ok",
     "timestamp": 1732706380689,
     "user": {
      "displayName": "Thammakorn SAETHANG",
      "userId": "08182570455347153646"
     },
     "user_tz": -420
    },
    "id": "43810c46-859f-428e-a74f-8450ed03559e",
    "outputId": "e969c052-ac94-412f-8965-f926656d2acf"
   },
   "outputs": [
    {
     "name": "stdout",
     "output_type": "stream",
     "text": [
      "15\n"
     ]
    }
   ],
   "source": [
    "r1 = [1, 9, 5]\n",
    "r2 = [8, 5, 9]\n",
    "r3 = [5, 8, 9]\n",
    "nums = np.array([r1, r2, r3])\n",
    "trace = np.trace(nums)\n",
    "print(trace)"
   ]
  },
  {
   "cell_type": "markdown",
   "id": "a8efe6b5-f54c-4868-8188-e4e85e627a9a",
   "metadata": {
    "id": "a8efe6b5-f54c-4868-8188-e4e85e627a9a"
   },
   "source": [
    " &nbsp;  \n",
    "### <font color=\"127C02\">*Numpy Arrays and Memory*</font>\n",
    "\n",
    "Numpy uses pass-by-reference semantics so that slice operations are views into the array without implicit copying, which is consistent with Python’s semantics. This is particularly helpful with large arrays that already strain available memory. In Numpy terminology, slicing creates views (no copying) and advanced indexing creates copies."
   ]
  },
  {
   "cell_type": "code",
   "execution_count": 60,
   "id": "b42f4c13-4985-4be3-8023-3aa12262728f",
   "metadata": {
    "colab": {
     "base_uri": "https://localhost:8080/"
    },
    "executionInfo": {
     "elapsed": 20,
     "status": "ok",
     "timestamp": 1732706380689,
     "user": {
      "displayName": "Thammakorn SAETHANG",
      "userId": "08182570455347153646"
     },
     "user_tz": -420
    },
    "id": "b42f4c13-4985-4be3-8023-3aa12262728f",
    "outputId": "12cac314-5ef7-4e3a-dfb1-87ad9875eb9f"
   },
   "outputs": [
    {
     "name": "stdout",
     "output_type": "stream",
     "text": [
      "Before change\n",
      "[[0. 0. 0.]\n",
      " [0. 0. 0.]\n",
      " [0. 0. 0.]]\n"
     ]
    }
   ],
   "source": [
    "zeros = np.zeros((3, 3))\n",
    "print(\"Before change\")\n",
    "print(zeros)"
   ]
  },
  {
   "cell_type": "code",
   "execution_count": 64,
   "id": "aa795a74",
   "metadata": {},
   "outputs": [
    {
     "name": "stdout",
     "output_type": "stream",
     "text": [
      "<class 'numpy.float64'>\n",
      "<class 'numpy.float64'>\n",
      "<class 'numpy.float64'>\n",
      "<class 'numpy.float64'>\n",
      "<class 'numpy.float64'>\n",
      "<class 'numpy.float64'>\n",
      "<class 'numpy.float64'>\n",
      "<class 'numpy.float64'>\n",
      "<class 'numpy.float64'>\n"
     ]
    }
   ],
   "source": [
    "for i in zeros :\n",
    "    for j in i :\n",
    "        print(type(j))"
   ]
  },
  {
   "cell_type": "code",
   "execution_count": null,
   "id": "fab08c31-697d-474b-b6ad-de6adb9685ca",
   "metadata": {
    "colab": {
     "base_uri": "https://localhost:8080/"
    },
    "executionInfo": {
     "elapsed": 18,
     "status": "ok",
     "timestamp": 1732706380689,
     "user": {
      "displayName": "Thammakorn SAETHANG",
      "userId": "08182570455347153646"
     },
     "user_tz": -420
    },
    "id": "fab08c31-697d-474b-b6ad-de6adb9685ca",
    "outputId": "11203829-81c6-4af1-b20f-f5a801572cc9"
   },
   "outputs": [
    {
     "name": "stdout",
     "output_type": "stream",
     "text": [
      "x:\n",
      "[0. 0. 0.]\n"
     ]
    }
   ],
   "source": [
    "# x is slice of zeros\n",
    "x = zeros[1, :]\n",
    "print(\"x:\")\n",
    "print(x)"
   ]
  },
  {
   "cell_type": "code",
   "execution_count": null,
   "id": "d066887c-a759-4887-8d6a-4bd9323613f8",
   "metadata": {
    "colab": {
     "base_uri": "https://localhost:8080/"
    },
    "executionInfo": {
     "elapsed": 16,
     "status": "ok",
     "timestamp": 1732706380689,
     "user": {
      "displayName": "Thammakorn SAETHANG",
      "userId": "08182570455347153646"
     },
     "user_tz": -420
    },
    "id": "d066887c-a759-4887-8d6a-4bd9323613f8",
    "outputId": "1e31232f-79da-4e29-eb3f-98f4c706ea06"
   },
   "outputs": [
    {
     "name": "stdout",
     "output_type": "stream",
     "text": [
      "[1. 0. 0.]\n"
     ]
    }
   ],
   "source": [
    "x[0] = 1\n",
    "print(x)"
   ]
  },
  {
   "cell_type": "code",
   "execution_count": null,
   "id": "47b51426-58ad-43cc-917c-1a2cc78226b8",
   "metadata": {
    "colab": {
     "base_uri": "https://localhost:8080/"
    },
    "executionInfo": {
     "elapsed": 15,
     "status": "ok",
     "timestamp": 1732706380689,
     "user": {
      "displayName": "Thammakorn SAETHANG",
      "userId": "08182570455347153646"
     },
     "user_tz": -420
    },
    "id": "47b51426-58ad-43cc-917c-1a2cc78226b8",
    "outputId": "9ae46a8b-5dde-4835-def8-d9364ffd5574",
    "scrolled": true
   },
   "outputs": [
    {
     "name": "stdout",
     "output_type": "stream",
     "text": [
      "After change\n",
      "[[0. 0. 0.]\n",
      " [1. 0. 0.]\n",
      " [0. 0. 0.]]\n"
     ]
    }
   ],
   "source": [
    "print(\"After change\")\n",
    "print(zeros)"
   ]
  },
  {
   "cell_type": "markdown",
   "id": "581701ec-070c-4a63-9435-3b7c7a80ad5b",
   "metadata": {
    "id": "581701ec-070c-4a63-9435-3b7c7a80ad5b"
   },
   "source": [
    "\\\n",
    "**Using .copy()**"
   ]
  },
  {
   "cell_type": "code",
   "execution_count": null,
   "id": "03ce0be8-8ed4-4585-8154-71c3239845e8",
   "metadata": {
    "colab": {
     "base_uri": "https://localhost:8080/"
    },
    "executionInfo": {
     "elapsed": 13,
     "status": "ok",
     "timestamp": 1732706380689,
     "user": {
      "displayName": "Thammakorn SAETHANG",
      "userId": "08182570455347153646"
     },
     "user_tz": -420
    },
    "id": "03ce0be8-8ed4-4585-8154-71c3239845e8",
    "outputId": "eecc453c-8916-4ab0-e0c8-5350726b5762"
   },
   "outputs": [
    {
     "name": "stdout",
     "output_type": "stream",
     "text": [
      "Before change\n",
      "[[0. 0. 0.]\n",
      " [0. 0. 0.]\n",
      " [0. 0. 0.]]\n",
      "x:\n",
      "[0. 0. 0.]\n",
      "After change\n",
      "[[0. 0. 0.]\n",
      " [0. 0. 0.]\n",
      " [0. 0. 0.]]\n"
     ]
    }
   ],
   "source": [
    "zeros = np.zeros((3, 3))\n",
    "print(\"Before change\")\n",
    "print(zeros)\n",
    "\n",
    "# x is slice of zeros\n",
    "x = zeros[1, :].copy()\n",
    "print(\"x:\")\n",
    "print(x)\n",
    "x[0] = 1\n",
    "print(\"After change\")\n",
    "print(zeros)"
   ]
  },
  {
   "cell_type": "markdown",
   "id": "c16d5fde-6c45-4ae1-b400-6e1cb5d73359",
   "metadata": {
    "id": "c16d5fde-6c45-4ae1-b400-6e1cb5d73359"
   },
   "source": [
    "\\\n",
    "**Using advanced indexing**"
   ]
  },
  {
   "cell_type": "code",
   "execution_count": null,
   "id": "7e17b84d-8ecb-4ab6-a23a-1b55b9b11e5e",
   "metadata": {
    "colab": {
     "base_uri": "https://localhost:8080/"
    },
    "executionInfo": {
     "elapsed": 11,
     "status": "ok",
     "timestamp": 1732706380689,
     "user": {
      "displayName": "Thammakorn SAETHANG",
      "userId": "08182570455347153646"
     },
     "user_tz": -420
    },
    "id": "7e17b84d-8ecb-4ab6-a23a-1b55b9b11e5e",
    "outputId": "a01b035c-2169-4630-a6bf-99eb5acacd09"
   },
   "outputs": [
    {
     "name": "stdout",
     "output_type": "stream",
     "text": [
      "Before change\n",
      "[[0. 0. 0.]\n",
      " [0. 0. 0.]\n",
      " [0. 0. 0.]]\n",
      "x:\n",
      "[[0. 0. 0.]]\n",
      "After change\n",
      "[[0. 0. 0.]\n",
      " [0. 0. 0.]\n",
      " [0. 0. 0.]]\n"
     ]
    }
   ],
   "source": [
    "zeros = np.zeros((3, 3))\n",
    "print(\"Before change\")\n",
    "print(zeros)\n",
    "\n",
    "x = zeros[[1],:] # notice [1]\n",
    "print(\"x:\")\n",
    "print(x)\n",
    "x[0] = 1\n",
    "print(\"After change\")\n",
    "print(zeros)"
   ]
  },
  {
   "cell_type": "markdown",
   "id": "2b6ccaf9-da33-4ba2-bdf2-1bdf5979309b",
   "metadata": {
    "id": "2b6ccaf9-da33-4ba2-bdf2-1bdf5979309b"
   },
   "source": [
    "\\\n",
    "As shown in examples above, ***be careful when assigning (use operator \"=\")*** an array to variable"
   ]
  },
  {
   "cell_type": "code",
   "execution_count": null,
   "id": "fcb539b0-0a11-4963-b73c-156fe7507d83",
   "metadata": {
    "colab": {
     "base_uri": "https://localhost:8080/"
    },
    "executionInfo": {
     "elapsed": 10,
     "status": "ok",
     "timestamp": 1732706380690,
     "user": {
      "displayName": "Thammakorn SAETHANG",
      "userId": "08182570455347153646"
     },
     "user_tz": -420
    },
    "id": "fcb539b0-0a11-4963-b73c-156fe7507d83",
    "outputId": "b133c179-2ced-46a7-a053-df1cf85dcb9d"
   },
   "outputs": [
    {
     "name": "stdout",
     "output_type": "stream",
     "text": [
      "[[nan  0.  0.]\n",
      " [ 0.  0.  0.]\n",
      " [ 0.  0.  0.]]\n"
     ]
    }
   ],
   "source": [
    "zeros = np.zeros((3, 3))\n",
    "x = zeros # pass-by-reference, not copy\n",
    "x[0,0] = np.nan\n",
    "\n",
    "print(zeros)"
   ]
  },
  {
   "cell_type": "code",
   "execution_count": null,
   "id": "f786cb55-0936-4f6e-be61-9fb6c8c8d827",
   "metadata": {
    "colab": {
     "base_uri": "https://localhost:8080/"
    },
    "executionInfo": {
     "elapsed": 8,
     "status": "ok",
     "timestamp": 1732706380690,
     "user": {
      "displayName": "Thammakorn SAETHANG",
      "userId": "08182570455347153646"
     },
     "user_tz": -420
    },
    "id": "f786cb55-0936-4f6e-be61-9fb6c8c8d827",
    "outputId": "bdff7eef-99b2-4bd0-84a4-f48f30e12dc8"
   },
   "outputs": [
    {
     "name": "stdout",
     "output_type": "stream",
     "text": [
      "[[0. 0. 0.]\n",
      " [0. 0. 0.]\n",
      " [0. 0. 0.]]\n"
     ]
    }
   ],
   "source": [
    "zeros = np.zeros((3, 3))\n",
    "x = zeros.copy()\n",
    "x[0,0] = np.nan\n",
    "\n",
    "print(zeros)"
   ]
  },
  {
   "cell_type": "markdown",
   "id": "6649064d-fa38-4315-b573-2e03d8d1ce57",
   "metadata": {
    "id": "6649064d-fa38-4315-b573-2e03d8d1ce57"
   },
   "source": [
    " &nbsp;  \n",
    "#### ศึกษาเพิ่มเติม:   \n",
    "https://www.kaggle.com/code/legendadnan/numpy-tutorial-for-beginners-data-science"
   ]
  },
  {
   "cell_type": "code",
   "execution_count": null,
   "id": "f364e2b4-fec7-4b93-961c-0d23f092aba3",
   "metadata": {
    "executionInfo": {
     "elapsed": 6,
     "status": "ok",
     "timestamp": 1732706380690,
     "user": {
      "displayName": "Thammakorn SAETHANG",
      "userId": "08182570455347153646"
     },
     "user_tz": -420
    },
    "id": "f364e2b4-fec7-4b93-961c-0d23f092aba3"
   },
   "outputs": [],
   "source": []
  }
 ],
 "metadata": {
  "colab": {
   "provenance": []
  },
  "kernelspec": {
   "display_name": "Python 3",
   "language": "python",
   "name": "python3"
  },
  "language_info": {
   "codemirror_mode": {
    "name": "ipython",
    "version": 3
   },
   "file_extension": ".py",
   "mimetype": "text/x-python",
   "name": "python",
   "nbconvert_exporter": "python",
   "pygments_lexer": "ipython3",
   "version": "3.9.13"
  }
 },
 "nbformat": 4,
 "nbformat_minor": 5
}
