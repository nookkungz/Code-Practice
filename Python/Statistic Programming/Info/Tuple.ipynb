{
 "cells": [
  {
   "cell_type": "markdown",
   "id": "054312a8-a5cb-4384-9d5d-a1c31a39ec0b",
   "metadata": {
    "id": "054312a8-a5cb-4384-9d5d-a1c31a39ec0b"
   },
   "source": [
    "# <font color=\"#e69138\">Tuples</font>\n",
    "Lists work well for storing collections of items that can change throughout the life of a program. The ability to modify lists is particularly important when you’re working with a list of users on a website or a list of characters in a game. However, sometimes you’ll want to create a list of items that <U>cannot change</u>.\n",
    "\n",
    "Tuples allow you to do just that. Python refers to values that cannot change as immutable, and an <u>immutable</u> list is called a tuple.\n",
    " &nbsp;  \n",
    "#### <font color=\"#2e9c14\"><i>Defining a Tuple</i></font>\n",
    "\n",
    "A tuple looks just like a list except you use parentheses instead of square brackets. Once you define a tuple, you can access individual elements by using each item’s index, just as you would for a list."
   ]
  },
  {
   "cell_type": "code",
   "execution_count": 1,
   "id": "16626757-2403-4cce-9f2a-b54e90503a78",
   "metadata": {
    "id": "16626757-2403-4cce-9f2a-b54e90503a78",
    "outputId": "ea5ecad4-324d-486f-eb1d-ba1ee411f26a"
   },
   "outputs": [
    {
     "name": "stdout",
     "output_type": "stream",
     "text": [
      "(1080, 1920)\n"
     ]
    }
   ],
   "source": [
    "resolution = (1080, 1920)\n",
    "print(resolution)"
   ]
  },
  {
   "cell_type": "markdown",
   "id": "4e1b7536-2ddd-4fc4-91e0-d7f045807c32",
   "metadata": {
    "id": "4e1b7536-2ddd-4fc4-91e0-d7f045807c32"
   },
   "source": [
    "\\\n",
    "If you try to change the value of the tuple, Python will returns error."
   ]
  },
  {
   "cell_type": "code",
   "execution_count": 2,
   "id": "d4042664-433a-463d-8cfd-f7fe74924689",
   "metadata": {
    "id": "d4042664-433a-463d-8cfd-f7fe74924689",
    "outputId": "09ce4cad-1777-475a-8b35-61b5fe8c4333"
   },
   "outputs": [
    {
     "data": {
      "text/plain": [
       "1080"
      ]
     },
     "execution_count": 2,
     "metadata": {},
     "output_type": "execute_result"
    }
   ],
   "source": [
    "resolution[0]"
   ]
  },
  {
   "cell_type": "code",
   "execution_count": 3,
   "id": "c2235416-e17c-4373-a99f-9b1b07c1650a",
   "metadata": {
    "id": "c2235416-e17c-4373-a99f-9b1b07c1650a",
    "outputId": "15a8443a-0555-4914-8fe5-e8b5a505b816"
   },
   "outputs": [
    {
     "ename": "TypeError",
     "evalue": "'tuple' object does not support item assignment",
     "output_type": "error",
     "traceback": [
      "\u001b[1;31m---------------------------------------------------------------------------\u001b[0m",
      "\u001b[1;31mTypeError\u001b[0m                                 Traceback (most recent call last)",
      "Cell \u001b[1;32mIn[3], line 1\u001b[0m\n\u001b[1;32m----> 1\u001b[0m \u001b[43mresolution\u001b[49m\u001b[43m[\u001b[49m\u001b[38;5;241;43m0\u001b[39;49m\u001b[43m]\u001b[49m \u001b[38;5;241m=\u001b[39m \u001b[38;5;241m3840\u001b[39m\n",
      "\u001b[1;31mTypeError\u001b[0m: 'tuple' object does not support item assignment"
     ]
    }
   ],
   "source": [
    "resolution[0] = 3840"
   ]
  },
  {
   "cell_type": "markdown",
   "id": "656157f1-40fd-4e3a-b167-4aed190b9fcd",
   "metadata": {
    "id": "656157f1-40fd-4e3a-b167-4aed190b9fcd"
   },
   "source": [
    " &nbsp;\n",
    "#### <font color=\"#2e9c14\"><i>Looping Through All Values in a Tuple</i></font>\n",
    "\n",
    "You can loop over all the values in a tuple using a for loop, just as you did with a list:"
   ]
  },
  {
   "cell_type": "code",
   "execution_count": null,
   "id": "65bd6524-0850-42ab-aa2a-08321a3ee0b3",
   "metadata": {
    "id": "65bd6524-0850-42ab-aa2a-08321a3ee0b3",
    "outputId": "393a8eca-0301-46bb-da8d-9fcd1882b6e1"
   },
   "outputs": [
    {
     "name": "stdout",
     "output_type": "stream",
     "text": [
      "512\n",
      "1024\n",
      "2048\n"
     ]
    }
   ],
   "source": [
    "ram_sizes = (512, 1024, 2048)\n",
    "for ram_size in ram_sizes:\n",
    "       print(ram_size)"
   ]
  },
  {
   "cell_type": "markdown",
   "id": "29899aba-ca73-4e54-96ea-67a8d027e483",
   "metadata": {
    "id": "29899aba-ca73-4e54-96ea-67a8d027e483"
   },
   "source": [
    " &nbsp;\n",
    "#### <font color=\"#2e9c14\"><i>Writing over a Tuple</i></font>\n",
    "\n",
    "Although you can’t modify a tuple, you can assign a new value to a variable that represents a tuple."
   ]
  },
  {
   "cell_type": "code",
   "execution_count": null,
   "id": "c9be6390-6865-4e6e-8a83-8c1ff55781e8",
   "metadata": {
    "id": "c9be6390-6865-4e6e-8a83-8c1ff55781e8",
    "outputId": "f7e17bb5-ff34-4a96-c36c-d07ab315bb91"
   },
   "outputs": [
    {
     "name": "stdout",
     "output_type": "stream",
     "text": [
      "(512, 1024, 2048)\n",
      "(3072, 4096)\n"
     ]
    },
    {
     "ename": "TypeError",
     "evalue": "'tuple' object does not support item assignment",
     "output_type": "error",
     "traceback": [
      "\u001b[0;31m---------------------------------------------------------------------------\u001b[0m",
      "\u001b[0;31mTypeError\u001b[0m                                 Traceback (most recent call last)",
      "\u001b[0;32m/var/folders/92/9p83q7rn0nb6lsfs0mps8xjc0000gn/T/ipykernel_1580/3522870389.py\u001b[0m in \u001b[0;36m<module>\u001b[0;34m\u001b[0m\n\u001b[1;32m      5\u001b[0m \u001b[0mprint\u001b[0m\u001b[0;34m(\u001b[0m\u001b[0mram_sizes\u001b[0m\u001b[0;34m)\u001b[0m\u001b[0;34m\u001b[0m\u001b[0;34m\u001b[0m\u001b[0m\n\u001b[1;32m      6\u001b[0m \u001b[0;34m\u001b[0m\u001b[0m\n\u001b[0;32m----> 7\u001b[0;31m \u001b[0mram_sizes\u001b[0m\u001b[0;34m[\u001b[0m\u001b[0;36m0\u001b[0m\u001b[0;34m]\u001b[0m \u001b[0;34m=\u001b[0m \u001b[0;36m100000\u001b[0m\u001b[0;34m\u001b[0m\u001b[0;34m\u001b[0m\u001b[0m\n\u001b[0m",
      "\u001b[0;31mTypeError\u001b[0m: 'tuple' object does not support item assignment"
     ]
    }
   ],
   "source": [
    "ram_sizes = (512, 1024, 2048)\n",
    "print(ram_sizes)\n",
    "\n",
    "ram_sizes = (3072, 4096)\n",
    "print(ram_sizes)\n",
    "\n",
    "ram_sizes[0] = 100000"
   ]
  },
  {
   "cell_type": "markdown",
   "id": "554493d8-8b46-439f-aa2e-8df29c425e28",
   "metadata": {
    "id": "554493d8-8b46-439f-aa2e-8df29c425e28"
   },
   "source": [
    "When compared with lists, tuples are simple data structures. Use them when you want to store a set of values that should not be changed through- out the life of a program."
   ]
  }
 ],
 "metadata": {
  "colab": {
   "provenance": []
  },
  "kernelspec": {
   "display_name": "Python 3",
   "language": "python",
   "name": "python3"
  },
  "language_info": {
   "codemirror_mode": {
    "name": "ipython",
    "version": 3
   },
   "file_extension": ".py",
   "mimetype": "text/x-python",
   "name": "python",
   "nbconvert_exporter": "python",
   "pygments_lexer": "ipython3",
   "version": "3.9.13"
  }
 },
 "nbformat": 4,
 "nbformat_minor": 5
}
