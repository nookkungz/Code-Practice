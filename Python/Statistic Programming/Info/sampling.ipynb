{
 "cells": [
  {
   "cell_type": "markdown",
   "id": "18d84b68-fc77-4ed7-8871-342883090cfd",
   "metadata": {
    "id": "18d84b68-fc77-4ed7-8871-342883090cfd"
   },
   "source": [
    "## <font color='DE1509'>การสุ่มตัวอย่าง</font>"
   ]
  },
  {
   "cell_type": "markdown",
   "id": "3bd89c66-cf39-4993-9e90-39e243d15328",
   "metadata": {
    "id": "3bd89c66-cf39-4993-9e90-39e243d15328"
   },
   "source": [
    "ในบทนี้ชุดข้อมูลที่ใช้คือ \"titanic.csv\" ซึ่งเป็นข้อมูลของผู้โดยสารเรือไททานิคมีรายละเอียดของแต่ละคอลัมน์ดังนี้:"
   ]
  },
  {
   "cell_type": "markdown",
   "id": "a1083323-83c6-4c07-9a9a-b116e885e95f",
   "metadata": {
    "id": "a1083323-83c6-4c07-9a9a-b116e885e95f"
   },
   "source": [
    "PassengerId: ID ของผู้โดยสาร\n",
    "Survived: ผู้โดยสารรอด (1) หรือเสียชีวิต (0)  \n",
    "Pclass: ชนชั้นของผู้โดยสาร first class (1), second class (2), thrid class (3)  \n",
    "Name: ชื่อ-สกุล  \n",
    "Sex: เพศ    \n",
    "Age: อายุ  \n",
    "SibSp: จำนวนพี่น้อง (siblings) และคู่สมรส (spouse) ที่เดินทางมาด้วย    \n",
    "Parch:  จำนวนบิดา-มารดา (parent) และบุตร (child) ที่เดินทางมาด้วย  \n",
    "Ticket: รหัสตั๋วโดยสาร  \n",
    "Fare: ค่าตั๋วโดยสาร  \n",
    "Cabin: รหัสห้องผู้โดยสาร  \n",
    "Embarked: ท่าเรือต้นทาง Southampton (S), Cherbourg (C), และ Queenstown (Q)  \n"
   ]
  },
  {
   "cell_type": "markdown",
   "id": "a77d1e5a-4844-4eb3-8194-a7761f954c80",
   "metadata": {
    "id": "a77d1e5a-4844-4eb3-8194-a7761f954c80"
   },
   "source": [
    "\\*\\*วิธีการต่างๆที่แสดงในบทเรียนนี้เป็นเพียงแค่การยกตัวอย่างเท่านั้น ในการนำไปใช้จริงประชากรควรมีจำนวนมากกว่าชุดข้อมูลที่นำมาเป็นตัวอย่างนี้"
   ]
  },
  {
   "cell_type": "markdown",
   "id": "4e6f3ec3-da0a-4511-96ef-8dd49453f48f",
   "metadata": {
    "id": "4e6f3ec3-da0a-4511-96ef-8dd49453f48f"
   },
   "source": [
    "\\\n",
    "ทำการ import library ที่ต้องใช้:"
   ]
  },
  {
   "cell_type": "code",
   "execution_count": 1,
   "id": "b4695545-8a56-4365-9d91-8a51e4ad8772",
   "metadata": {
    "executionInfo": {
     "elapsed": 5900,
     "status": "ok",
     "timestamp": 1733985555687,
     "user": {
      "displayName": "Thammakorn SAETHANG",
      "userId": "08182570455347153646"
     },
     "user_tz": -420
    },
    "id": "b4695545-8a56-4365-9d91-8a51e4ad8772"
   },
   "outputs": [],
   "source": [
    "import numpy as np #สำหรับการจัดการข้อมูลที่เป็นตัวเลขต่างๆ\n",
    "import pandas as pd #สำหรับอ่านข้อมูลให้อยู่ในรูปแบบ dataframe\n",
    "import matplotlib.pyplot as plt #เพื่อใช้ควบคู่กับ seaborn ในการทำ data visualization\n",
    "import seaborn as sns #สำหรับการทำ data visualization"
   ]
  },
  {
   "cell_type": "markdown",
   "id": "03a651b4-3257-4a31-a839-fad04f2787b8",
   "metadata": {
    "id": "03a651b4-3257-4a31-a839-fad04f2787b8"
   },
   "source": [
    "\\\n",
    "อ่านข้อมูลจากไฟล์ให้อยู่ในรูปแบบ dataframe และแสดงข้อมูล 5 แถวแรก:"
   ]
  },
  {
   "cell_type": "code",
   "execution_count": 2,
   "id": "13269281-daff-423e-b5f7-03a2b2eda0af",
   "metadata": {
    "colab": {
     "base_uri": "https://localhost:8080/",
     "height": 504
    },
    "executionInfo": {
     "elapsed": 676,
     "status": "ok",
     "timestamp": 1733985609912,
     "user": {
      "displayName": "Thammakorn SAETHANG",
      "userId": "08182570455347153646"
     },
     "user_tz": -420
    },
    "id": "13269281-daff-423e-b5f7-03a2b2eda0af",
    "outputId": "325d817e-4f99-4ea0-e80d-fd83cddb238d"
   },
   "outputs": [
    {
     "data": {
      "text/html": [
       "<div>\n",
       "<style scoped>\n",
       "    .dataframe tbody tr th:only-of-type {\n",
       "        vertical-align: middle;\n",
       "    }\n",
       "\n",
       "    .dataframe tbody tr th {\n",
       "        vertical-align: top;\n",
       "    }\n",
       "\n",
       "    .dataframe thead th {\n",
       "        text-align: right;\n",
       "    }\n",
       "</style>\n",
       "<table border=\"1\" class=\"dataframe\">\n",
       "  <thead>\n",
       "    <tr style=\"text-align: right;\">\n",
       "      <th></th>\n",
       "      <th>PassengerId</th>\n",
       "      <th>Survived</th>\n",
       "      <th>Pclass</th>\n",
       "      <th>Name</th>\n",
       "      <th>Sex</th>\n",
       "      <th>Age</th>\n",
       "      <th>SibSp</th>\n",
       "      <th>Parch</th>\n",
       "      <th>Ticket</th>\n",
       "      <th>Fare</th>\n",
       "      <th>Cabin</th>\n",
       "      <th>Embarked</th>\n",
       "    </tr>\n",
       "  </thead>\n",
       "  <tbody>\n",
       "    <tr>\n",
       "      <th>0</th>\n",
       "      <td>1</td>\n",
       "      <td>0</td>\n",
       "      <td>3</td>\n",
       "      <td>Braund, Mr. Owen Harris</td>\n",
       "      <td>male</td>\n",
       "      <td>22.0</td>\n",
       "      <td>1</td>\n",
       "      <td>0</td>\n",
       "      <td>A/5 21171</td>\n",
       "      <td>7.2500</td>\n",
       "      <td>NaN</td>\n",
       "      <td>S</td>\n",
       "    </tr>\n",
       "    <tr>\n",
       "      <th>1</th>\n",
       "      <td>2</td>\n",
       "      <td>1</td>\n",
       "      <td>1</td>\n",
       "      <td>Cumings, Mrs. John Bradley (Florence Briggs Th...</td>\n",
       "      <td>female</td>\n",
       "      <td>38.0</td>\n",
       "      <td>1</td>\n",
       "      <td>0</td>\n",
       "      <td>PC 17599</td>\n",
       "      <td>71.2833</td>\n",
       "      <td>C85</td>\n",
       "      <td>C</td>\n",
       "    </tr>\n",
       "    <tr>\n",
       "      <th>2</th>\n",
       "      <td>3</td>\n",
       "      <td>1</td>\n",
       "      <td>3</td>\n",
       "      <td>Heikkinen, Miss. Laina</td>\n",
       "      <td>female</td>\n",
       "      <td>26.0</td>\n",
       "      <td>0</td>\n",
       "      <td>0</td>\n",
       "      <td>STON/O2. 3101282</td>\n",
       "      <td>7.9250</td>\n",
       "      <td>NaN</td>\n",
       "      <td>S</td>\n",
       "    </tr>\n",
       "    <tr>\n",
       "      <th>3</th>\n",
       "      <td>4</td>\n",
       "      <td>1</td>\n",
       "      <td>1</td>\n",
       "      <td>Futrelle, Mrs. Jacques Heath (Lily May Peel)</td>\n",
       "      <td>female</td>\n",
       "      <td>35.0</td>\n",
       "      <td>1</td>\n",
       "      <td>0</td>\n",
       "      <td>113803</td>\n",
       "      <td>53.1000</td>\n",
       "      <td>C123</td>\n",
       "      <td>S</td>\n",
       "    </tr>\n",
       "    <tr>\n",
       "      <th>4</th>\n",
       "      <td>5</td>\n",
       "      <td>0</td>\n",
       "      <td>3</td>\n",
       "      <td>Allen, Mr. William Henry</td>\n",
       "      <td>male</td>\n",
       "      <td>35.0</td>\n",
       "      <td>0</td>\n",
       "      <td>0</td>\n",
       "      <td>373450</td>\n",
       "      <td>8.0500</td>\n",
       "      <td>NaN</td>\n",
       "      <td>S</td>\n",
       "    </tr>\n",
       "  </tbody>\n",
       "</table>\n",
       "</div>"
      ],
      "text/plain": [
       "   PassengerId  Survived  Pclass  \\\n",
       "0            1         0       3   \n",
       "1            2         1       1   \n",
       "2            3         1       3   \n",
       "3            4         1       1   \n",
       "4            5         0       3   \n",
       "\n",
       "                                                Name     Sex   Age  SibSp  \\\n",
       "0                            Braund, Mr. Owen Harris    male  22.0      1   \n",
       "1  Cumings, Mrs. John Bradley (Florence Briggs Th...  female  38.0      1   \n",
       "2                             Heikkinen, Miss. Laina  female  26.0      0   \n",
       "3       Futrelle, Mrs. Jacques Heath (Lily May Peel)  female  35.0      1   \n",
       "4                           Allen, Mr. William Henry    male  35.0      0   \n",
       "\n",
       "   Parch            Ticket     Fare Cabin Embarked  \n",
       "0      0         A/5 21171   7.2500   NaN        S  \n",
       "1      0          PC 17599  71.2833   C85        C  \n",
       "2      0  STON/O2. 3101282   7.9250   NaN        S  \n",
       "3      0            113803  53.1000  C123        S  \n",
       "4      0            373450   8.0500   NaN        S  "
      ]
     },
     "execution_count": 2,
     "metadata": {},
     "output_type": "execute_result"
    }
   ],
   "source": [
    "df = pd.read_csv(\"https://raw.githubusercontent.com/ThammakornS/ProgStat/main/dataset/titanic.csv\")\n",
    "df.head()"
   ]
  },
  {
   "cell_type": "markdown",
   "id": "1ba71f2a-c5c7-43a9-b1eb-abf429bcd09c",
   "metadata": {
    "id": "1ba71f2a-c5c7-43a9-b1eb-abf429bcd09c"
   },
   "source": [
    "\\\n",
    "ดูภาพรวมข้อมูลเบื้องต้น:"
   ]
  },
  {
   "cell_type": "code",
   "execution_count": 3,
   "id": "6bc16086-8170-4e5c-a93c-5825c06f6c6c",
   "metadata": {
    "colab": {
     "base_uri": "https://localhost:8080/"
    },
    "executionInfo": {
     "elapsed": 318,
     "status": "ok",
     "timestamp": 1733985626793,
     "user": {
      "displayName": "Thammakorn SAETHANG",
      "userId": "08182570455347153646"
     },
     "user_tz": -420
    },
    "id": "6bc16086-8170-4e5c-a93c-5825c06f6c6c",
    "outputId": "667de76f-1f19-4045-99d2-ee3939d0b0d8"
   },
   "outputs": [
    {
     "name": "stdout",
     "output_type": "stream",
     "text": [
      "<class 'pandas.core.frame.DataFrame'>\n",
      "RangeIndex: 891 entries, 0 to 890\n",
      "Data columns (total 12 columns):\n",
      " #   Column       Non-Null Count  Dtype  \n",
      "---  ------       --------------  -----  \n",
      " 0   PassengerId  891 non-null    int64  \n",
      " 1   Survived     891 non-null    int64  \n",
      " 2   Pclass       891 non-null    int64  \n",
      " 3   Name         891 non-null    object \n",
      " 4   Sex          891 non-null    object \n",
      " 5   Age          714 non-null    float64\n",
      " 6   SibSp        891 non-null    int64  \n",
      " 7   Parch        891 non-null    int64  \n",
      " 8   Ticket       891 non-null    object \n",
      " 9   Fare         891 non-null    float64\n",
      " 10  Cabin        204 non-null    object \n",
      " 11  Embarked     889 non-null    object \n",
      "dtypes: float64(2), int64(5), object(5)\n",
      "memory usage: 83.7+ KB\n"
     ]
    }
   ],
   "source": [
    "df.info()"
   ]
  },
  {
   "cell_type": "markdown",
   "id": "13b2214d-c531-4c2e-8876-8597f160c324",
   "metadata": {
    "id": "13b2214d-c531-4c2e-8876-8597f160c324"
   },
   "source": [
    "\\\n",
    "เนื่องจากในบทนี้จะใช้ข้อมูลอายุเป็นหลัก จึงต้องกรองให้มีเฉพาะผู้โดยสารที่มีข้อมูลอายุเท่านั้น:"
   ]
  },
  {
   "cell_type": "code",
   "execution_count": 4,
   "id": "c0e7ec85-d77f-41f6-83ef-5e4a884d5d65",
   "metadata": {
    "colab": {
     "base_uri": "https://localhost:8080/"
    },
    "executionInfo": {
     "elapsed": 359,
     "status": "ok",
     "timestamp": 1733985658496,
     "user": {
      "displayName": "Thammakorn SAETHANG",
      "userId": "08182570455347153646"
     },
     "user_tz": -420
    },
    "id": "c0e7ec85-d77f-41f6-83ef-5e4a884d5d65",
    "outputId": "8d77edbd-8a7e-49b5-99ad-5e43814dfe54"
   },
   "outputs": [
    {
     "name": "stdout",
     "output_type": "stream",
     "text": [
      "<class 'pandas.core.frame.DataFrame'>\n",
      "Index: 714 entries, 0 to 890\n",
      "Data columns (total 12 columns):\n",
      " #   Column       Non-Null Count  Dtype  \n",
      "---  ------       --------------  -----  \n",
      " 0   PassengerId  714 non-null    int64  \n",
      " 1   Survived     714 non-null    int64  \n",
      " 2   Pclass       714 non-null    int64  \n",
      " 3   Name         714 non-null    object \n",
      " 4   Sex          714 non-null    object \n",
      " 5   Age          714 non-null    float64\n",
      " 6   SibSp        714 non-null    int64  \n",
      " 7   Parch        714 non-null    int64  \n",
      " 8   Ticket       714 non-null    object \n",
      " 9   Fare         714 non-null    float64\n",
      " 10  Cabin        185 non-null    object \n",
      " 11  Embarked     712 non-null    object \n",
      "dtypes: float64(2), int64(5), object(5)\n",
      "memory usage: 72.5+ KB\n"
     ]
    }
   ],
   "source": [
    "df_age = df[df.Age.notnull()]\n",
    "df_age.info()"
   ]
  },
  {
   "cell_type": "markdown",
   "id": "fbe0fa52-eb77-4da3-87c1-0226e8cdaacb",
   "metadata": {
    "id": "fbe0fa52-eb77-4da3-87c1-0226e8cdaacb"
   },
   "source": [
    "&nbsp;  \n",
    "#### 1. เลือกตัวอย่างขนาด n = 100 โดยใช้การสุ่มตัวอย่างแบบง่าย (simple random sampling)"
   ]
  },
  {
   "cell_type": "code",
   "execution_count": 5,
   "id": "d559b256-b3ab-4048-b678-94fcdd6c2933",
   "metadata": {
    "colab": {
     "base_uri": "https://localhost:8080/",
     "height": 434
    },
    "executionInfo": {
     "elapsed": 322,
     "status": "ok",
     "timestamp": 1733985714920,
     "user": {
      "displayName": "Thammakorn SAETHANG",
      "userId": "08182570455347153646"
     },
     "user_tz": -420
    },
    "id": "d559b256-b3ab-4048-b678-94fcdd6c2933",
    "outputId": "62b66648-5100-4d47-dd1f-b809fa841134"
   },
   "outputs": [
    {
     "data": {
      "text/html": [
       "<div>\n",
       "<style scoped>\n",
       "    .dataframe tbody tr th:only-of-type {\n",
       "        vertical-align: middle;\n",
       "    }\n",
       "\n",
       "    .dataframe tbody tr th {\n",
       "        vertical-align: top;\n",
       "    }\n",
       "\n",
       "    .dataframe thead th {\n",
       "        text-align: right;\n",
       "    }\n",
       "</style>\n",
       "<table border=\"1\" class=\"dataframe\">\n",
       "  <thead>\n",
       "    <tr style=\"text-align: right;\">\n",
       "      <th></th>\n",
       "      <th>PassengerId</th>\n",
       "      <th>Survived</th>\n",
       "      <th>Pclass</th>\n",
       "      <th>Name</th>\n",
       "      <th>Sex</th>\n",
       "      <th>Age</th>\n",
       "      <th>SibSp</th>\n",
       "      <th>Parch</th>\n",
       "      <th>Ticket</th>\n",
       "      <th>Fare</th>\n",
       "      <th>Cabin</th>\n",
       "      <th>Embarked</th>\n",
       "    </tr>\n",
       "  </thead>\n",
       "  <tbody>\n",
       "    <tr>\n",
       "      <th>435</th>\n",
       "      <td>436</td>\n",
       "      <td>1</td>\n",
       "      <td>1</td>\n",
       "      <td>Carter, Miss. Lucile Polk</td>\n",
       "      <td>female</td>\n",
       "      <td>14.0</td>\n",
       "      <td>1</td>\n",
       "      <td>2</td>\n",
       "      <td>113760</td>\n",
       "      <td>120.0000</td>\n",
       "      <td>B96 B98</td>\n",
       "      <td>S</td>\n",
       "    </tr>\n",
       "    <tr>\n",
       "      <th>205</th>\n",
       "      <td>206</td>\n",
       "      <td>0</td>\n",
       "      <td>3</td>\n",
       "      <td>Strom, Miss. Telma Matilda</td>\n",
       "      <td>female</td>\n",
       "      <td>2.0</td>\n",
       "      <td>0</td>\n",
       "      <td>1</td>\n",
       "      <td>347054</td>\n",
       "      <td>10.4625</td>\n",
       "      <td>G6</td>\n",
       "      <td>S</td>\n",
       "    </tr>\n",
       "    <tr>\n",
       "      <th>678</th>\n",
       "      <td>679</td>\n",
       "      <td>0</td>\n",
       "      <td>3</td>\n",
       "      <td>Goodwin, Mrs. Frederick (Augusta Tyler)</td>\n",
       "      <td>female</td>\n",
       "      <td>43.0</td>\n",
       "      <td>1</td>\n",
       "      <td>6</td>\n",
       "      <td>CA 2144</td>\n",
       "      <td>46.9000</td>\n",
       "      <td>NaN</td>\n",
       "      <td>S</td>\n",
       "    </tr>\n",
       "    <tr>\n",
       "      <th>406</th>\n",
       "      <td>407</td>\n",
       "      <td>0</td>\n",
       "      <td>3</td>\n",
       "      <td>Widegren, Mr. Carl/Charles Peter</td>\n",
       "      <td>male</td>\n",
       "      <td>51.0</td>\n",
       "      <td>0</td>\n",
       "      <td>0</td>\n",
       "      <td>347064</td>\n",
       "      <td>7.7500</td>\n",
       "      <td>NaN</td>\n",
       "      <td>S</td>\n",
       "    </tr>\n",
       "    <tr>\n",
       "      <th>86</th>\n",
       "      <td>87</td>\n",
       "      <td>0</td>\n",
       "      <td>3</td>\n",
       "      <td>Ford, Mr. William Neal</td>\n",
       "      <td>male</td>\n",
       "      <td>16.0</td>\n",
       "      <td>1</td>\n",
       "      <td>3</td>\n",
       "      <td>W./C. 6608</td>\n",
       "      <td>34.3750</td>\n",
       "      <td>NaN</td>\n",
       "      <td>S</td>\n",
       "    </tr>\n",
       "  </tbody>\n",
       "</table>\n",
       "</div>"
      ],
      "text/plain": [
       "     PassengerId  Survived  Pclass                                     Name  \\\n",
       "435          436         1       1                Carter, Miss. Lucile Polk   \n",
       "205          206         0       3               Strom, Miss. Telma Matilda   \n",
       "678          679         0       3  Goodwin, Mrs. Frederick (Augusta Tyler)   \n",
       "406          407         0       3         Widegren, Mr. Carl/Charles Peter   \n",
       "86            87         0       3                   Ford, Mr. William Neal   \n",
       "\n",
       "        Sex   Age  SibSp  Parch      Ticket      Fare    Cabin Embarked  \n",
       "435  female  14.0      1      2      113760  120.0000  B96 B98        S  \n",
       "205  female   2.0      0      1      347054   10.4625       G6        S  \n",
       "678  female  43.0      1      6     CA 2144   46.9000      NaN        S  \n",
       "406    male  51.0      0      0      347064    7.7500      NaN        S  \n",
       "86     male  16.0      1      3  W./C. 6608   34.3750      NaN        S  "
      ]
     },
     "execution_count": 5,
     "metadata": {},
     "output_type": "execute_result"
    }
   ],
   "source": [
    "sample_simple_rand = df_age.sample(n=100)\n",
    "sample_simple_rand.head()"
   ]
  },
  {
   "cell_type": "markdown",
   "id": "659345b5-3069-4155-8b70-931343757b6a",
   "metadata": {
    "id": "659345b5-3069-4155-8b70-931343757b6a"
   },
   "source": [
    "\\\n",
    "หาค่าเฉลี่ยอายุจากตัวอย่างที่ได้:"
   ]
  },
  {
   "cell_type": "code",
   "execution_count": 6,
   "id": "0b717b0e-f3b7-4330-b532-594d42c3ccb8",
   "metadata": {
    "colab": {
     "base_uri": "https://localhost:8080/"
    },
    "executionInfo": {
     "elapsed": 292,
     "status": "ok",
     "timestamp": 1733985718112,
     "user": {
      "displayName": "Thammakorn SAETHANG",
      "userId": "08182570455347153646"
     },
     "user_tz": -420
    },
    "id": "0b717b0e-f3b7-4330-b532-594d42c3ccb8",
    "outputId": "622da24f-6081-410b-cf87-4090ff2f43a7"
   },
   "outputs": [
    {
     "data": {
      "text/plain": [
       "28.8225"
      ]
     },
     "execution_count": 6,
     "metadata": {},
     "output_type": "execute_result"
    }
   ],
   "source": [
    "sample_simple_rand.Age.mean()"
   ]
  },
  {
   "cell_type": "code",
   "execution_count": 7,
   "id": "ac766dfe-5221-4abf-98e5-50fd5038a192",
   "metadata": {
    "colab": {
     "base_uri": "https://localhost:8080/"
    },
    "executionInfo": {
     "elapsed": 492,
     "status": "ok",
     "timestamp": 1733985723004,
     "user": {
      "displayName": "Thammakorn SAETHANG",
      "userId": "08182570455347153646"
     },
     "user_tz": -420
    },
    "id": "ac766dfe-5221-4abf-98e5-50fd5038a192",
    "outputId": "2392c477-8bd4-4bf9-a372-b7bb893aa786"
   },
   "outputs": [
    {
     "data": {
      "text/plain": [
       "'ค่าเฉลี่ยอายุตัวอย่าง =  28.82 ±  16.02'"
      ]
     },
     "execution_count": 7,
     "metadata": {},
     "output_type": "execute_result"
    }
   ],
   "source": [
    "f\"ค่าเฉลี่ยอายุตัวอย่าง = {sample_simple_rand.Age.mean(): .2f} ± {sample_simple_rand.Age.std(): .2f}\""
   ]
  },
  {
   "cell_type": "markdown",
   "id": "9194cd0c-9afe-4958-a0c6-80e2f94f5e73",
   "metadata": {
    "id": "9194cd0c-9afe-4958-a0c6-80e2f94f5e73"
   },
   "source": [
    "\\\n",
    "ค่าเฉลี่ยอายุของประชากร:"
   ]
  },
  {
   "cell_type": "code",
   "execution_count": 8,
   "id": "33124109-5160-492d-8fa6-b1016d447b44",
   "metadata": {
    "colab": {
     "base_uri": "https://localhost:8080/"
    },
    "executionInfo": {
     "elapsed": 384,
     "status": "ok",
     "timestamp": 1733652555243,
     "user": {
      "displayName": "Thammakorn SAETHANG",
      "userId": "08182570455347153646"
     },
     "user_tz": -420
    },
    "id": "33124109-5160-492d-8fa6-b1016d447b44",
    "outputId": "15450e14-73cc-435a-8bfc-e2d8707d60f7"
   },
   "outputs": [
    {
     "data": {
      "text/plain": [
       "29.69911764705882"
      ]
     },
     "execution_count": 8,
     "metadata": {},
     "output_type": "execute_result"
    }
   ],
   "source": [
    "df.Age.mean()"
   ]
  },
  {
   "cell_type": "code",
   "execution_count": 9,
   "id": "900a47d2-6891-4f08-a9ee-3c5dd866d335",
   "metadata": {
    "colab": {
     "base_uri": "https://localhost:8080/",
     "height": 35
    },
    "executionInfo": {
     "elapsed": 1009,
     "status": "ok",
     "timestamp": 1733657857037,
     "user": {
      "displayName": "Thammakorn SAETHANG",
      "userId": "08182570455347153646"
     },
     "user_tz": -420
    },
    "id": "900a47d2-6891-4f08-a9ee-3c5dd866d335",
    "outputId": "1908e0f0-2f58-4f69-fa6e-cc1db7fa99d8"
   },
   "outputs": [
    {
     "data": {
      "text/plain": [
       "'ค่าเฉลี่ยอายุประชากร =  29.70 ±  14.53'"
      ]
     },
     "execution_count": 9,
     "metadata": {},
     "output_type": "execute_result"
    }
   ],
   "source": [
    "f\"ค่าเฉลี่ยอายุประชากร = {df_age.Age.mean(): .2f} ± {df_age.Age.std(): .2f}\""
   ]
  },
  {
   "cell_type": "markdown",
   "id": "af8782f5-de39-4b8c-9553-7be4445a2ef3",
   "metadata": {
    "id": "af8782f5-de39-4b8c-9553-7be4445a2ef3"
   },
   "source": [
    "\\\n",
    "การกำหนดเลขสุ่มเพื่อให้สามารถทำการทดลองซ้ำได้"
   ]
  },
  {
   "cell_type": "code",
   "execution_count": 39,
   "id": "14e84744-71db-4581-8a45-24394ff10328",
   "metadata": {
    "executionInfo": {
     "elapsed": 404,
     "status": "ok",
     "timestamp": 1733656111401,
     "user": {
      "displayName": "Thammakorn SAETHANG",
      "userId": "08182570455347153646"
     },
     "user_tz": -420
    },
    "id": "14e84744-71db-4581-8a45-24394ff10328"
   },
   "outputs": [],
   "source": [
    "sample_simple_rand = df_age.sample(n=100, random_state=123)"
   ]
  },
  {
   "cell_type": "code",
   "execution_count": 11,
   "id": "415a7dd7-9ab6-4510-a398-8c896819bce7",
   "metadata": {
    "colab": {
     "base_uri": "https://localhost:8080/",
     "height": 399
    },
    "executionInfo": {
     "elapsed": 572,
     "status": "ok",
     "timestamp": 1733656114621,
     "user": {
      "displayName": "Thammakorn SAETHANG",
      "userId": "08182570455347153646"
     },
     "user_tz": -420
    },
    "id": "415a7dd7-9ab6-4510-a398-8c896819bce7",
    "outputId": "0ec5f284-1ea4-4d4c-d389-2bcead3d525a"
   },
   "outputs": [
    {
     "data": {
      "text/html": [
       "<div>\n",
       "<style scoped>\n",
       "    .dataframe tbody tr th:only-of-type {\n",
       "        vertical-align: middle;\n",
       "    }\n",
       "\n",
       "    .dataframe tbody tr th {\n",
       "        vertical-align: top;\n",
       "    }\n",
       "\n",
       "    .dataframe thead th {\n",
       "        text-align: right;\n",
       "    }\n",
       "</style>\n",
       "<table border=\"1\" class=\"dataframe\">\n",
       "  <thead>\n",
       "    <tr style=\"text-align: right;\">\n",
       "      <th></th>\n",
       "      <th>PassengerId</th>\n",
       "      <th>Survived</th>\n",
       "      <th>Pclass</th>\n",
       "      <th>Name</th>\n",
       "      <th>Sex</th>\n",
       "      <th>Age</th>\n",
       "      <th>SibSp</th>\n",
       "      <th>Parch</th>\n",
       "      <th>Ticket</th>\n",
       "      <th>Fare</th>\n",
       "      <th>Cabin</th>\n",
       "      <th>Embarked</th>\n",
       "    </tr>\n",
       "  </thead>\n",
       "  <tbody>\n",
       "    <tr>\n",
       "      <th>651</th>\n",
       "      <td>652</td>\n",
       "      <td>1</td>\n",
       "      <td>2</td>\n",
       "      <td>Doling, Miss. Elsie</td>\n",
       "      <td>female</td>\n",
       "      <td>18.0</td>\n",
       "      <td>0</td>\n",
       "      <td>1</td>\n",
       "      <td>231919</td>\n",
       "      <td>23.0000</td>\n",
       "      <td>NaN</td>\n",
       "      <td>S</td>\n",
       "    </tr>\n",
       "    <tr>\n",
       "      <th>694</th>\n",
       "      <td>695</td>\n",
       "      <td>0</td>\n",
       "      <td>1</td>\n",
       "      <td>Weir, Col. John</td>\n",
       "      <td>male</td>\n",
       "      <td>60.0</td>\n",
       "      <td>0</td>\n",
       "      <td>0</td>\n",
       "      <td>113800</td>\n",
       "      <td>26.5500</td>\n",
       "      <td>NaN</td>\n",
       "      <td>S</td>\n",
       "    </tr>\n",
       "    <tr>\n",
       "      <th>797</th>\n",
       "      <td>798</td>\n",
       "      <td>1</td>\n",
       "      <td>3</td>\n",
       "      <td>Osman, Mrs. Mara</td>\n",
       "      <td>female</td>\n",
       "      <td>31.0</td>\n",
       "      <td>0</td>\n",
       "      <td>0</td>\n",
       "      <td>349244</td>\n",
       "      <td>8.6833</td>\n",
       "      <td>NaN</td>\n",
       "      <td>S</td>\n",
       "    </tr>\n",
       "    <tr>\n",
       "      <th>875</th>\n",
       "      <td>876</td>\n",
       "      <td>1</td>\n",
       "      <td>3</td>\n",
       "      <td>Najib, Miss. Adele Kiamie \"Jane\"</td>\n",
       "      <td>female</td>\n",
       "      <td>15.0</td>\n",
       "      <td>0</td>\n",
       "      <td>0</td>\n",
       "      <td>2667</td>\n",
       "      <td>7.2250</td>\n",
       "      <td>NaN</td>\n",
       "      <td>C</td>\n",
       "    </tr>\n",
       "    <tr>\n",
       "      <th>505</th>\n",
       "      <td>506</td>\n",
       "      <td>0</td>\n",
       "      <td>1</td>\n",
       "      <td>Penasco y Castellana, Mr. Victor de Satode</td>\n",
       "      <td>male</td>\n",
       "      <td>18.0</td>\n",
       "      <td>1</td>\n",
       "      <td>0</td>\n",
       "      <td>PC 17758</td>\n",
       "      <td>108.9000</td>\n",
       "      <td>C65</td>\n",
       "      <td>C</td>\n",
       "    </tr>\n",
       "  </tbody>\n",
       "</table>\n",
       "</div>"
      ],
      "text/plain": [
       "     PassengerId  Survived  Pclass  \\\n",
       "651          652         1       2   \n",
       "694          695         0       1   \n",
       "797          798         1       3   \n",
       "875          876         1       3   \n",
       "505          506         0       1   \n",
       "\n",
       "                                           Name     Sex   Age  SibSp  Parch  \\\n",
       "651                         Doling, Miss. Elsie  female  18.0      0      1   \n",
       "694                             Weir, Col. John    male  60.0      0      0   \n",
       "797                            Osman, Mrs. Mara  female  31.0      0      0   \n",
       "875            Najib, Miss. Adele Kiamie \"Jane\"  female  15.0      0      0   \n",
       "505  Penasco y Castellana, Mr. Victor de Satode    male  18.0      1      0   \n",
       "\n",
       "       Ticket      Fare Cabin Embarked  \n",
       "651    231919   23.0000   NaN        S  \n",
       "694    113800   26.5500   NaN        S  \n",
       "797    349244    8.6833   NaN        S  \n",
       "875      2667    7.2250   NaN        C  \n",
       "505  PC 17758  108.9000   C65        C  "
      ]
     },
     "execution_count": 11,
     "metadata": {},
     "output_type": "execute_result"
    }
   ],
   "source": [
    "sample_simple_rand.head()"
   ]
  },
  {
   "cell_type": "markdown",
   "id": "643afc86-b478-448e-9399-41b090a64c08",
   "metadata": {
    "id": "643afc86-b478-448e-9399-41b090a64c08"
   },
   "source": [
    "&nbsp;  \n",
    "#### 2. เลือกตัวอย่างขนาด n = 100 โดยใช้การสุ่มตัวอย่างแบบมีระบบ (systematic sampling)"
   ]
  },
  {
   "cell_type": "markdown",
   "id": "74285c81-21b7-4e88-bce1-e9de9c30512b",
   "metadata": {
    "id": "74285c81-21b7-4e88-bce1-e9de9c30512b"
   },
   "source": [
    "\\\n",
    "หาขนาดช่วงการสุ่ม I:"
   ]
  },
  {
   "cell_type": "code",
   "execution_count": 46,
   "id": "7aca08fe-8463-432a-89db-7361b9d15d97",
   "metadata": {
    "colab": {
     "base_uri": "https://localhost:8080/"
    },
    "executionInfo": {
     "elapsed": 537,
     "status": "ok",
     "timestamp": 1733656157853,
     "user": {
      "displayName": "Thammakorn SAETHANG",
      "userId": "08182570455347153646"
     },
     "user_tz": -420
    },
    "id": "7aca08fe-8463-432a-89db-7361b9d15d97",
    "outputId": "00a88552-7ffc-45be-d056-52aa06f7ff4e"
   },
   "outputs": [
    {
     "data": {
      "text/plain": [
       "7"
      ]
     },
     "execution_count": 46,
     "metadata": {},
     "output_type": "execute_result"
    }
   ],
   "source": [
    "I = (int)(df_age.shape[0]/100)\n",
    "I"
   ]
  },
  {
   "cell_type": "markdown",
   "id": "be8b21bb-d890-4b5d-bc38-607924224fe1",
   "metadata": {
    "id": "be8b21bb-d890-4b5d-bc38-607924224fe1"
   },
   "source": [
    "\\\n",
    "index ของแถวที่เลือกเป็นช่วงตามค่า I โดยใช้ค่า r = 1 (index แรก = 0):"
   ]
  },
  {
   "cell_type": "code",
   "execution_count": 47,
   "id": "01df20e8-ccff-454e-815f-0a67b532f1b4",
   "metadata": {
    "colab": {
     "base_uri": "https://localhost:8080/"
    },
    "executionInfo": {
     "elapsed": 551,
     "status": "ok",
     "timestamp": 1733656165885,
     "user": {
      "displayName": "Thammakorn SAETHANG",
      "userId": "08182570455347153646"
     },
     "user_tz": -420
    },
    "id": "01df20e8-ccff-454e-815f-0a67b532f1b4",
    "outputId": "e0b3abe9-c896-4bd4-d675-3031835ece3c"
   },
   "outputs": [
    {
     "data": {
      "text/plain": [
       "array([  0,   7,  14,  21,  28,  35,  42,  49,  56,  63,  70,  77,  84,\n",
       "        91,  98, 105, 112, 119, 126, 133, 140, 147, 154, 161, 168, 175,\n",
       "       182, 189, 196, 203, 210, 217, 224, 231, 238, 245, 252, 259, 266,\n",
       "       273, 280, 287, 294, 301, 308, 315, 322, 329, 336, 343, 350, 357,\n",
       "       364, 371, 378, 385, 392, 399, 406, 413, 420, 427, 434, 441, 448,\n",
       "       455, 462, 469, 476, 483, 490, 497, 504, 511, 518, 525, 532, 539,\n",
       "       546, 553, 560, 567, 574, 581, 588, 595, 602, 609, 616, 623, 630,\n",
       "       637, 644, 651, 658, 665, 672, 679, 686, 693, 700, 707])"
      ]
     },
     "execution_count": 47,
     "metadata": {},
     "output_type": "execute_result"
    }
   ],
   "source": [
    "sel_idx = np.arange(start=0, stop=df_age.shape[0], step=I)\n",
    "sel_idx"
   ]
  },
  {
   "cell_type": "markdown",
   "id": "41e03024-7daf-4c73-beb9-e69aa1e1d776",
   "metadata": {
    "id": "41e03024-7daf-4c73-beb9-e69aa1e1d776"
   },
   "source": [
    "\\\n",
    "ตรวจสอบจำนวนตัวอย่างที่ได้:"
   ]
  },
  {
   "cell_type": "code",
   "execution_count": 14,
   "id": "1026d1de-f256-496c-b8c7-3c074631016a",
   "metadata": {
    "colab": {
     "base_uri": "https://localhost:8080/"
    },
    "executionInfo": {
     "elapsed": 402,
     "status": "ok",
     "timestamp": 1733655857557,
     "user": {
      "displayName": "Thammakorn SAETHANG",
      "userId": "08182570455347153646"
     },
     "user_tz": -420
    },
    "id": "1026d1de-f256-496c-b8c7-3c074631016a",
    "outputId": "c673d19f-9864-44a6-b926-3e234b48e0db"
   },
   "outputs": [
    {
     "data": {
      "text/plain": [
       "102"
      ]
     },
     "execution_count": 14,
     "metadata": {},
     "output_type": "execute_result"
    }
   ],
   "source": [
    "len(sel_idx)"
   ]
  },
  {
   "cell_type": "markdown",
   "id": "45f1dc4b-e838-4232-84f1-b880ef8d6048",
   "metadata": {
    "id": "45f1dc4b-e838-4232-84f1-b880ef8d6048"
   },
   "source": [
    "\\\n",
    "เนื่องจากจำนวนตัวอย่างเกินมา 2 จะตัดให้เหลือ 100 เท่านั้น:"
   ]
  },
  {
   "cell_type": "code",
   "execution_count": 15,
   "id": "3e250b77-c916-4465-b98f-10d76dd08e9b",
   "metadata": {
    "colab": {
     "base_uri": "https://localhost:8080/"
    },
    "executionInfo": {
     "elapsed": 544,
     "status": "ok",
     "timestamp": 1733656175104,
     "user": {
      "displayName": "Thammakorn SAETHANG",
      "userId": "08182570455347153646"
     },
     "user_tz": -420
    },
    "id": "3e250b77-c916-4465-b98f-10d76dd08e9b",
    "outputId": "9f4418a6-8d04-4aa3-b45b-f286f8070b62"
   },
   "outputs": [
    {
     "data": {
      "text/plain": [
       "100"
      ]
     },
     "execution_count": 15,
     "metadata": {},
     "output_type": "execute_result"
    }
   ],
   "source": [
    "sel_idx = sel_idx[0:100]\n",
    "len(sel_idx)"
   ]
  },
  {
   "cell_type": "markdown",
   "id": "6c4199d1-4f25-49bf-ac10-fe7e5ff0fafa",
   "metadata": {
    "id": "6c4199d1-4f25-49bf-ac10-fe7e5ff0fafa"
   },
   "source": [
    "\\\n",
    "เลือกตัวอย่าง:"
   ]
  },
  {
   "cell_type": "code",
   "execution_count": 16,
   "id": "O55gTVvn2NjA",
   "metadata": {
    "colab": {
     "base_uri": "https://localhost:8080/"
    },
    "executionInfo": {
     "elapsed": 408,
     "status": "ok",
     "timestamp": 1733656178254,
     "user": {
      "displayName": "Thammakorn SAETHANG",
      "userId": "08182570455347153646"
     },
     "user_tz": -420
    },
    "id": "O55gTVvn2NjA",
    "outputId": "c1a5157b-b64b-4a53-c9ed-2532afba68bd"
   },
   "outputs": [
    {
     "data": {
      "text/plain": [
       "array([ True, False, False, False, False, False,  True, False, False,\n",
       "       False, False, False, False,  True, False, False, False, False,\n",
       "        True, False, False, False, False, False, False, False, False,\n",
       "        True, False, False, False, False, False, False, False,  True,\n",
       "       False, False, False, False, False,  True, False, False, False,\n",
       "       False, False, False,  True, False, False, False, False,  True,\n",
       "       False, False, False, False, False, False, False, False, False,\n",
       "       False,  True, False, False, False, False, False,  True, False,\n",
       "       False, False, False, False,  True, False, False, False, False,\n",
       "       False,  True, False, False, False, False,  True, False, False,\n",
       "       False, False, False, False,  True, False, False, False, False,\n",
       "       False, False, False, False, False, False,  True, False, False,\n",
       "       False, False, False, False, False, False, False, False, False,\n",
       "       False,  True, False, False, False, False, False, False, False,\n",
       "       False, False, False,  True, False, False, False, False, False,\n",
       "       False, False, False, False, False, False,  True, False, False,\n",
       "       False,  True, False, False, False, False,  True, False, False,\n",
       "       False, False, False, False, False, False, False, False,  True,\n",
       "       False, False, False, False, False, False,  True, False, False,\n",
       "       False, False, False,  True, False, False, False, False, False,\n",
       "        True, False, False, False, False, False,  True, False, False,\n",
       "       False, False, False,  True, False, False, False, False,  True,\n",
       "       False, False, False, False, False,  True, False, False, False,\n",
       "       False, False,  True, False, False, False, False,  True, False,\n",
       "       False, False, False, False,  True, False, False, False, False,\n",
       "        True, False, False, False, False, False,  True, False, False,\n",
       "       False, False, False, False,  True, False, False, False, False,\n",
       "       False, False,  True, False, False, False, False, False, False,\n",
       "        True, False, False, False, False, False, False,  True, False,\n",
       "       False, False, False, False,  True, False, False, False,  True,\n",
       "       False, False, False, False, False, False,  True, False, False,\n",
       "       False, False, False,  True, False, False, False, False,  True,\n",
       "       False, False, False, False, False, False, False, False,  True,\n",
       "       False, False, False, False, False,  True, False, False, False,\n",
       "       False, False,  True, False, False, False, False, False,  True,\n",
       "       False, False, False, False, False, False,  True, False, False,\n",
       "       False, False, False, False,  True, False, False, False, False,\n",
       "       False, False, False, False, False, False, False, False, False,\n",
       "        True, False, False, False, False,  True, False, False, False,\n",
       "       False, False, False,  True, False, False, False, False, False,\n",
       "        True, False, False, False, False,  True, False, False, False,\n",
       "       False,  True, False, False, False,  True, False, False, False,\n",
       "       False,  True, False, False, False, False, False,  True, False,\n",
       "       False, False, False, False, False, False, False, False, False,\n",
       "       False, False, False, False, False,  True, False, False, False,\n",
       "       False, False, False, False, False, False, False,  True, False,\n",
       "       False, False, False,  True, False, False, False, False,  True,\n",
       "       False, False, False, False,  True, False, False, False, False,\n",
       "       False, False,  True, False, False, False, False,  True, False,\n",
       "       False, False, False, False, False, False, False, False,  True,\n",
       "       False, False, False, False,  True, False, False, False, False,\n",
       "       False,  True, False, False, False, False, False,  True, False,\n",
       "       False, False, False,  True, False, False, False, False, False,\n",
       "       False, False, False, False,  True, False, False, False,  True,\n",
       "       False, False, False, False, False, False,  True, False, False,\n",
       "       False, False, False,  True, False, False, False, False, False,\n",
       "        True, False, False, False, False,  True, False, False, False,\n",
       "       False,  True, False, False, False, False,  True, False, False,\n",
       "       False, False, False, False,  True, False, False, False, False,\n",
       "        True, False, False, False, False, False,  True, False, False,\n",
       "       False, False, False,  True, False, False, False, False, False,\n",
       "        True, False, False, False, False, False, False, False, False,\n",
       "       False, False, False, False, False, False, False, False, False,\n",
       "       False, False, False, False, False, False, False, False, False,\n",
       "       False, False, False, False, False, False, False, False, False,\n",
       "       False, False, False, False, False, False, False, False, False,\n",
       "       False, False, False, False, False, False, False, False, False,\n",
       "       False, False, False, False, False, False, False, False, False,\n",
       "       False, False, False, False, False, False, False, False, False,\n",
       "       False, False, False, False, False, False, False, False, False,\n",
       "       False, False, False, False, False, False, False, False, False,\n",
       "       False, False, False, False, False, False, False, False, False,\n",
       "       False, False, False, False, False, False, False, False, False,\n",
       "       False, False, False, False, False, False, False, False, False,\n",
       "       False, False, False, False, False, False, False, False, False,\n",
       "       False, False, False, False, False, False, False, False, False,\n",
       "       False, False, False, False, False, False, False, False, False,\n",
       "       False, False, False, False, False, False, False, False, False,\n",
       "       False, False, False, False, False, False, False, False, False,\n",
       "       False, False, False])"
      ]
     },
     "execution_count": 16,
     "metadata": {},
     "output_type": "execute_result"
    }
   ],
   "source": [
    "sel_boo = np.isin(df_age.index, sel_idx)\n",
    "sel_boo"
   ]
  },
  {
   "cell_type": "code",
   "execution_count": 17,
   "id": "b4b65aee-b5a4-44f5-aa73-2f06f8a44285",
   "metadata": {
    "colab": {
     "base_uri": "https://localhost:8080/",
     "height": 469
    },
    "executionInfo": {
     "elapsed": 432,
     "status": "ok",
     "timestamp": 1733656181569,
     "user": {
      "displayName": "Thammakorn SAETHANG",
      "userId": "08182570455347153646"
     },
     "user_tz": -420
    },
    "id": "b4b65aee-b5a4-44f5-aa73-2f06f8a44285",
    "outputId": "0a01ebe9-5d13-486f-eae2-f1e5617b4bbc"
   },
   "outputs": [
    {
     "data": {
      "text/html": [
       "<div>\n",
       "<style scoped>\n",
       "    .dataframe tbody tr th:only-of-type {\n",
       "        vertical-align: middle;\n",
       "    }\n",
       "\n",
       "    .dataframe tbody tr th {\n",
       "        vertical-align: top;\n",
       "    }\n",
       "\n",
       "    .dataframe thead th {\n",
       "        text-align: right;\n",
       "    }\n",
       "</style>\n",
       "<table border=\"1\" class=\"dataframe\">\n",
       "  <thead>\n",
       "    <tr style=\"text-align: right;\">\n",
       "      <th></th>\n",
       "      <th>PassengerId</th>\n",
       "      <th>Survived</th>\n",
       "      <th>Pclass</th>\n",
       "      <th>Name</th>\n",
       "      <th>Sex</th>\n",
       "      <th>Age</th>\n",
       "      <th>SibSp</th>\n",
       "      <th>Parch</th>\n",
       "      <th>Ticket</th>\n",
       "      <th>Fare</th>\n",
       "      <th>Cabin</th>\n",
       "      <th>Embarked</th>\n",
       "    </tr>\n",
       "  </thead>\n",
       "  <tbody>\n",
       "    <tr>\n",
       "      <th>0</th>\n",
       "      <td>1</td>\n",
       "      <td>0</td>\n",
       "      <td>3</td>\n",
       "      <td>Braund, Mr. Owen Harris</td>\n",
       "      <td>male</td>\n",
       "      <td>22.0</td>\n",
       "      <td>1</td>\n",
       "      <td>0</td>\n",
       "      <td>A/5 21171</td>\n",
       "      <td>7.2500</td>\n",
       "      <td>NaN</td>\n",
       "      <td>S</td>\n",
       "    </tr>\n",
       "    <tr>\n",
       "      <th>7</th>\n",
       "      <td>8</td>\n",
       "      <td>0</td>\n",
       "      <td>3</td>\n",
       "      <td>Palsson, Master. Gosta Leonard</td>\n",
       "      <td>male</td>\n",
       "      <td>2.0</td>\n",
       "      <td>3</td>\n",
       "      <td>1</td>\n",
       "      <td>349909</td>\n",
       "      <td>21.0750</td>\n",
       "      <td>NaN</td>\n",
       "      <td>S</td>\n",
       "    </tr>\n",
       "    <tr>\n",
       "      <th>14</th>\n",
       "      <td>15</td>\n",
       "      <td>0</td>\n",
       "      <td>3</td>\n",
       "      <td>Vestrom, Miss. Hulda Amanda Adolfina</td>\n",
       "      <td>female</td>\n",
       "      <td>14.0</td>\n",
       "      <td>0</td>\n",
       "      <td>0</td>\n",
       "      <td>350406</td>\n",
       "      <td>7.8542</td>\n",
       "      <td>NaN</td>\n",
       "      <td>S</td>\n",
       "    </tr>\n",
       "    <tr>\n",
       "      <th>21</th>\n",
       "      <td>22</td>\n",
       "      <td>1</td>\n",
       "      <td>2</td>\n",
       "      <td>Beesley, Mr. Lawrence</td>\n",
       "      <td>male</td>\n",
       "      <td>34.0</td>\n",
       "      <td>0</td>\n",
       "      <td>0</td>\n",
       "      <td>248698</td>\n",
       "      <td>13.0000</td>\n",
       "      <td>D56</td>\n",
       "      <td>S</td>\n",
       "    </tr>\n",
       "    <tr>\n",
       "      <th>35</th>\n",
       "      <td>36</td>\n",
       "      <td>0</td>\n",
       "      <td>1</td>\n",
       "      <td>Holverson, Mr. Alexander Oskar</td>\n",
       "      <td>male</td>\n",
       "      <td>42.0</td>\n",
       "      <td>1</td>\n",
       "      <td>0</td>\n",
       "      <td>113789</td>\n",
       "      <td>52.0000</td>\n",
       "      <td>NaN</td>\n",
       "      <td>S</td>\n",
       "    </tr>\n",
       "  </tbody>\n",
       "</table>\n",
       "</div>"
      ],
      "text/plain": [
       "    PassengerId  Survived  Pclass                                  Name  \\\n",
       "0             1         0       3               Braund, Mr. Owen Harris   \n",
       "7             8         0       3        Palsson, Master. Gosta Leonard   \n",
       "14           15         0       3  Vestrom, Miss. Hulda Amanda Adolfina   \n",
       "21           22         1       2                 Beesley, Mr. Lawrence   \n",
       "35           36         0       1        Holverson, Mr. Alexander Oskar   \n",
       "\n",
       "       Sex   Age  SibSp  Parch     Ticket     Fare Cabin Embarked  \n",
       "0     male  22.0      1      0  A/5 21171   7.2500   NaN        S  \n",
       "7     male   2.0      3      1     349909  21.0750   NaN        S  \n",
       "14  female  14.0      0      0     350406   7.8542   NaN        S  \n",
       "21    male  34.0      0      0     248698  13.0000   D56        S  \n",
       "35    male  42.0      1      0     113789  52.0000   NaN        S  "
      ]
     },
     "execution_count": 17,
     "metadata": {},
     "output_type": "execute_result"
    }
   ],
   "source": [
    "sample_sys_rand = df_age[sel_boo]\n",
    "#sample_sys_rand = df_age.iloc[sel_idx,]\n",
    "sample_sys_rand.head()"
   ]
  },
  {
   "cell_type": "markdown",
   "id": "fa78f669-75a6-4125-89d2-6bd005a82c7a",
   "metadata": {
    "id": "fa78f669-75a6-4125-89d2-6bd005a82c7a"
   },
   "source": [
    "\\\n",
    "หาค่าเฉลี่ยอายุจากตัวอย่างที่ได้:"
   ]
  },
  {
   "cell_type": "code",
   "execution_count": 18,
   "id": "7588306e-4de4-4228-95da-e3966bf3b46d",
   "metadata": {
    "colab": {
     "base_uri": "https://localhost:8080/"
    },
    "executionInfo": {
     "elapsed": 555,
     "status": "ok",
     "timestamp": 1733656185798,
     "user": {
      "displayName": "Thammakorn SAETHANG",
      "userId": "08182570455347153646"
     },
     "user_tz": -420
    },
    "id": "7588306e-4de4-4228-95da-e3966bf3b46d",
    "outputId": "4f3806fa-5baa-4045-97e6-409210cb3c6d"
   },
   "outputs": [
    {
     "data": {
      "text/plain": [
       "28.403614457831324"
      ]
     },
     "execution_count": 18,
     "metadata": {},
     "output_type": "execute_result"
    }
   ],
   "source": [
    "sample_sys_rand.Age.mean()"
   ]
  },
  {
   "cell_type": "code",
   "execution_count": 19,
   "id": "ff892731-effd-4589-8bdf-368eb9b157d6",
   "metadata": {
    "colab": {
     "base_uri": "https://localhost:8080/"
    },
    "executionInfo": {
     "elapsed": 393,
     "status": "ok",
     "timestamp": 1733657891055,
     "user": {
      "displayName": "Thammakorn SAETHANG",
      "userId": "08182570455347153646"
     },
     "user_tz": -420
    },
    "id": "ff892731-effd-4589-8bdf-368eb9b157d6",
    "outputId": "c42ba6cf-54f3-4b14-8bcb-58cbbdd4ba91"
   },
   "outputs": [
    {
     "name": "stdout",
     "output_type": "stream",
     "text": [
      "ค่าเฉลี่ยอายุตัวอย่าง =  28.40 ±  15.44\n",
      "ค่าเฉลี่ยอายุประชากร =  29.70 ±  14.53\n"
     ]
    }
   ],
   "source": [
    "print(f\"ค่าเฉลี่ยอายุตัวอย่าง = {sample_sys_rand.Age.mean(): .2f} ± {sample_sys_rand.Age.std(): .2f}\")\n",
    "print(f\"ค่าเฉลี่ยอายุประชากร = {df_age.Age.mean(): .2f} ± {df_age.Age.std(): .2f}\")"
   ]
  },
  {
   "cell_type": "markdown",
   "id": "e6e552c3-264d-479d-8ad3-e9110b468304",
   "metadata": {
    "id": "e6e552c3-264d-479d-8ad3-e9110b468304"
   },
   "source": [
    "&nbsp;  \n",
    "#### 3. เลือกตัวอย่างขนาด n = 100 โดยใช้การสุ่มตัวอย่างแบบชั้นภูมิ (stratified sampling)"
   ]
  },
  {
   "cell_type": "markdown",
   "id": "682cdd6a-e9b8-401b-9789-ad3660fbd33f",
   "metadata": {
    "id": "682cdd6a-e9b8-401b-9789-ad3660fbd33f"
   },
   "source": [
    "ในที่นี้จะแบ่งชั้นภูมิตามคอลัมน์ Pclass ดังนั้นจะแบ่งได้ 3 ชั้นภูมิ  \n",
    "เบื้องต้นหาจำนวนผู้โดยสารของแต่ละชั้นภูมิ:  "
   ]
  },
  {
   "cell_type": "code",
   "execution_count": 20,
   "id": "fc16faa3-4d06-4180-a126-f62e82925c00",
   "metadata": {
    "colab": {
     "base_uri": "https://localhost:8080/",
     "height": 209
    },
    "executionInfo": {
     "elapsed": 542,
     "status": "ok",
     "timestamp": 1733656411106,
     "user": {
      "displayName": "Thammakorn SAETHANG",
      "userId": "08182570455347153646"
     },
     "user_tz": -420
    },
    "id": "fc16faa3-4d06-4180-a126-f62e82925c00",
    "outputId": "38beed06-0a35-4b0c-c06f-0e2352baaf78"
   },
   "outputs": [
    {
     "data": {
      "text/plain": [
       "Pclass\n",
       "3    355\n",
       "1    186\n",
       "2    173\n",
       "Name: count, dtype: int64"
      ]
     },
     "execution_count": 20,
     "metadata": {},
     "output_type": "execute_result"
    }
   ],
   "source": [
    "df_age.Pclass.value_counts()"
   ]
  },
  {
   "cell_type": "markdown",
   "id": "624de606-7edb-418d-aa2a-8e67d6fae227",
   "metadata": {
    "id": "624de606-7edb-418d-aa2a-8e67d6fae227"
   },
   "source": [
    "จะเห็นได้ว่าผู้โดยสาร Pclass=3 มีจำนวนมากกว่า 1 และ 2  \n",
    "หากคิดเป็นร้อยละของจำนวนตัวอย่างในแต่ละ Pclass จะได้ว่า:  "
   ]
  },
  {
   "cell_type": "code",
   "execution_count": 21,
   "id": "12ff9b5f-d027-4206-87c5-8f02e4d2d841",
   "metadata": {
    "colab": {
     "base_uri": "https://localhost:8080/",
     "height": 209
    },
    "executionInfo": {
     "elapsed": 582,
     "status": "ok",
     "timestamp": 1733657976011,
     "user": {
      "displayName": "Thammakorn SAETHANG",
      "userId": "08182570455347153646"
     },
     "user_tz": -420
    },
    "id": "12ff9b5f-d027-4206-87c5-8f02e4d2d841",
    "outputId": "a5582f3c-1913-4880-fb8e-9d118f011092"
   },
   "outputs": [
    {
     "data": {
      "text/plain": [
       "Pclass\n",
       "3    50.0\n",
       "1    26.0\n",
       "2    24.0\n",
       "Name: count, dtype: float64"
      ]
     },
     "execution_count": 21,
     "metadata": {},
     "output_type": "execute_result"
    }
   ],
   "source": [
    "np.round(df_age.Pclass.value_counts()/df_age.shape[0] * 100)"
   ]
  },
  {
   "cell_type": "markdown",
   "id": "9382006d-dbaa-47ce-be87-8e8a27795ae9",
   "metadata": {
    "id": "9382006d-dbaa-47ce-be87-8e8a27795ae9"
   },
   "source": [
    "\\\n",
    "เนื่องจากเป้าหมายต้องการตัวอย่างขนาด n = 100 จะต้องทำการสุ่มเลือกหน่วยตัวอย่างจาก Pclass 1, 2 และ 3 จำนวน 24, 21 และ 55 หน่วยตัวอย่างตามลำดับ:  "
   ]
  },
  {
   "cell_type": "code",
   "execution_count": 22,
   "id": "8011bb46-b949-4799-9983-0ba7db2c88f7",
   "metadata": {
    "colab": {
     "base_uri": "https://localhost:8080/"
    },
    "executionInfo": {
     "elapsed": 408,
     "status": "ok",
     "timestamp": 1733657980417,
     "user": {
      "displayName": "Thammakorn SAETHANG",
      "userId": "08182570455347153646"
     },
     "user_tz": -420
    },
    "id": "8011bb46-b949-4799-9983-0ba7db2c88f7",
    "outputId": "5be0836d-a503-4997-e1c5-df8e265a66fa"
   },
   "outputs": [
    {
     "name": "stdout",
     "output_type": "stream",
     "text": [
      "<class 'pandas.core.frame.DataFrame'>\n",
      "Index: 100 entries, 782 to 429\n",
      "Data columns (total 12 columns):\n",
      " #   Column       Non-Null Count  Dtype  \n",
      "---  ------       --------------  -----  \n",
      " 0   PassengerId  100 non-null    int64  \n",
      " 1   Survived     100 non-null    int64  \n",
      " 2   Pclass       100 non-null    int64  \n",
      " 3   Name         100 non-null    object \n",
      " 4   Sex          100 non-null    object \n",
      " 5   Age          80 non-null     float64\n",
      " 6   SibSp        100 non-null    int64  \n",
      " 7   Parch        100 non-null    int64  \n",
      " 8   Ticket       100 non-null    object \n",
      " 9   Fare         100 non-null    float64\n",
      " 10  Cabin        28 non-null     object \n",
      " 11  Embarked     100 non-null    object \n",
      "dtypes: float64(2), int64(5), object(5)\n",
      "memory usage: 10.2+ KB\n"
     ]
    }
   ],
   "source": [
    "sample_strat_pclass = pd.concat([\n",
    "    df[df['Pclass']==1].sample(n=26),\n",
    "    df[df['Pclass']==2].sample(n=24),\n",
    "    df[df['Pclass']==3].sample(n=50)\n",
    "])\n",
    "sample_strat_pclass.info()"
   ]
  },
  {
   "cell_type": "markdown",
   "id": "7eb05258-33ec-4c8c-9b52-f76115086d45",
   "metadata": {
    "id": "7eb05258-33ec-4c8c-9b52-f76115086d45"
   },
   "source": [
    "\\\n",
    "หาค่าเฉลี่ยอายุจากตัวอย่างที่ได้:"
   ]
  },
  {
   "cell_type": "code",
   "execution_count": 23,
   "id": "6f8998a1-22fb-4634-a1a7-1f05e221d2d4",
   "metadata": {
    "colab": {
     "base_uri": "https://localhost:8080/"
    },
    "executionInfo": {
     "elapsed": 424,
     "status": "ok",
     "timestamp": 1733657984617,
     "user": {
      "displayName": "Thammakorn SAETHANG",
      "userId": "08182570455347153646"
     },
     "user_tz": -420
    },
    "id": "6f8998a1-22fb-4634-a1a7-1f05e221d2d4",
    "outputId": "5cf5c6bd-f00c-4d86-a6af-4046e8554506"
   },
   "outputs": [
    {
     "data": {
      "text/plain": [
       "29.833375"
      ]
     },
     "execution_count": 23,
     "metadata": {},
     "output_type": "execute_result"
    }
   ],
   "source": [
    "sample_strat_pclass.Age.mean()"
   ]
  },
  {
   "cell_type": "code",
   "execution_count": 24,
   "id": "f175ea26-9fcd-48f6-acb2-98a16ab73d16",
   "metadata": {
    "colab": {
     "base_uri": "https://localhost:8080/"
    },
    "executionInfo": {
     "elapsed": 736,
     "status": "ok",
     "timestamp": 1733657991656,
     "user": {
      "displayName": "Thammakorn SAETHANG",
      "userId": "08182570455347153646"
     },
     "user_tz": -420
    },
    "id": "f175ea26-9fcd-48f6-acb2-98a16ab73d16",
    "outputId": "f1869cf5-a914-4b70-9d76-83bb1ce30648"
   },
   "outputs": [
    {
     "name": "stdout",
     "output_type": "stream",
     "text": [
      "ค่าเฉลี่ยอายุตัวอย่าง =  29.83 ±  15.44\n",
      "ค่าเฉลี่ยอายุประชากร =  29.70 ±  14.53\n"
     ]
    }
   ],
   "source": [
    "print(f\"ค่าเฉลี่ยอายุตัวอย่าง = {sample_strat_pclass.Age.mean(): .2f} ± {sample_sys_rand.Age.std(): .2f}\")\n",
    "print(f\"ค่าเฉลี่ยอายุประชากร = {df.Age.mean(): .2f} ± {df.Age.std(): .2f}\")"
   ]
  },
  {
   "cell_type": "markdown",
   "id": "a1e769c9-6249-412c-9801-534738c7f23e",
   "metadata": {
    "id": "a1e769c9-6249-412c-9801-534738c7f23e"
   },
   "source": [
    "&nbsp;  \n",
    "#### 4. เลือกตัวอย่างโดยใช้การสุ่มตัวอย่างแบบกลุ่ม (cluster sampling)"
   ]
  },
  {
   "cell_type": "markdown",
   "id": "d55a7745-1049-451d-9303-ba103445ac4a",
   "metadata": {
    "id": "d55a7745-1049-451d-9303-ba103445ac4a"
   },
   "source": [
    "การเลือกแบบนี้จะทำการกำหนดขนาด n ไม่ได้เนื่องจากต้องเลือกทั้งกลุ่ม\n",
    "ในที่นี้จะแบ่งกลุ่มตามคอลัมน์ Pclass ดังนั้นจะแบ่งได้ 3 กลุ่ม  \n",
    "และเลือกกลุ่ม Pclass 1, 2 หรือ 3 ทั้งกลุ่ม:"
   ]
  },
  {
   "cell_type": "code",
   "execution_count": 25,
   "id": "10196489-4dda-400d-9257-d7a7bc241d54",
   "metadata": {
    "colab": {
     "base_uri": "https://localhost:8080/",
     "height": 209
    },
    "executionInfo": {
     "elapsed": 430,
     "status": "ok",
     "timestamp": 1733658004898,
     "user": {
      "displayName": "Thammakorn SAETHANG",
      "userId": "08182570455347153646"
     },
     "user_tz": -420
    },
    "id": "10196489-4dda-400d-9257-d7a7bc241d54",
    "outputId": "db4a14d1-ee59-4726-9531-65c0c6938bc3"
   },
   "outputs": [
    {
     "data": {
      "text/plain": [
       "Pclass\n",
       "3    355\n",
       "1    186\n",
       "2    173\n",
       "Name: count, dtype: int64"
      ]
     },
     "execution_count": 25,
     "metadata": {},
     "output_type": "execute_result"
    }
   ],
   "source": [
    "df_age.Pclass.value_counts()"
   ]
  },
  {
   "cell_type": "markdown",
   "id": "0ecd5138-9731-4d2a-8a3f-c80819d32697",
   "metadata": {
    "id": "0ecd5138-9731-4d2a-8a3f-c80819d32697"
   },
   "source": [
    "ทำการสุ่มมา 1 กลุ่มแล้วเลือกตัวอย่างทั้งกลุ่มจากที่สุ่มมา"
   ]
  },
  {
   "cell_type": "code",
   "execution_count": 54,
   "id": "97d7f818-a9e2-4dc2-ad61-b77410822820",
   "metadata": {
    "colab": {
     "base_uri": "https://localhost:8080/"
    },
    "executionInfo": {
     "elapsed": 408,
     "status": "ok",
     "timestamp": 1733657555240,
     "user": {
      "displayName": "Thammakorn SAETHANG",
      "userId": "08182570455347153646"
     },
     "user_tz": -420
    },
    "id": "97d7f818-a9e2-4dc2-ad61-b77410822820",
    "outputId": "d8375d23-e5d4-45b7-88e4-408b5564b937"
   },
   "outputs": [
    {
     "name": "stdout",
     "output_type": "stream",
     "text": [
      "3\n"
     ]
    }
   ],
   "source": [
    "import random\n",
    "sel_pclass = random.randint(1,3)\n",
    "print(sel_pclass)"
   ]
  },
  {
   "cell_type": "code",
   "execution_count": 51,
   "id": "9d71aaac-2421-44c1-b9fd-a535791a0d6f",
   "metadata": {
    "executionInfo": {
     "elapsed": 409,
     "status": "ok",
     "timestamp": 1733657583027,
     "user": {
      "displayName": "Thammakorn SAETHANG",
      "userId": "08182570455347153646"
     },
     "user_tz": -420
    },
    "id": "9d71aaac-2421-44c1-b9fd-a535791a0d6f"
   },
   "outputs": [],
   "source": [
    "sample_cluster = df_age[df_age.Pclass==sel_pclass]"
   ]
  },
  {
   "cell_type": "markdown",
   "id": "10cb02e1-bfd4-43b8-88e5-57240fe52057",
   "metadata": {
    "id": "10cb02e1-bfd4-43b8-88e5-57240fe52057"
   },
   "source": [
    "\\\n",
    "หาค่าเฉลี่ยอายุจากตัวอย่างที่ได้:"
   ]
  },
  {
   "cell_type": "code",
   "execution_count": 57,
   "id": "0aae778f-767e-47f3-bf1b-9872ec639756",
   "metadata": {
    "colab": {
     "base_uri": "https://localhost:8080/"
    },
    "executionInfo": {
     "elapsed": 405,
     "status": "ok",
     "timestamp": 1733657658658,
     "user": {
      "displayName": "Thammakorn SAETHANG",
      "userId": "08182570455347153646"
     },
     "user_tz": -420
    },
    "id": "0aae778f-767e-47f3-bf1b-9872ec639756",
    "outputId": "a5049873-644a-4435-fe97-31f4c1355ddb"
   },
   "outputs": [
    {
     "name": "stdout",
     "output_type": "stream",
     "text": [
      "ค่าเฉลี่ยอายุตัวอย่าง =  29.88 ±  14.00\n",
      "ค่าเฉลี่ยอายุประชากร =  29.70 ±  14.53\n"
     ]
    }
   ],
   "source": [
    "print(f\"ค่าเฉลี่ยอายุตัวอย่าง = {sample_cluster.Age.mean(): .2f} ± {sample_cluster.Age.std(): .2f}\")\n",
    "print(f\"ค่าเฉลี่ยอายุประชากร = {df_age.Age.mean(): .2f} ± {df_age.Age.std(): .2f}\")"
   ]
  },
  {
   "cell_type": "markdown",
   "id": "9515d6d1-46a5-411b-b3f0-4aa3c37a3c77",
   "metadata": {
    "id": "9515d6d1-46a5-411b-b3f0-4aa3c37a3c77"
   },
   "source": [
    "\\\n",
    "หากสุ่มได้ Pclass=3:"
   ]
  },
  {
   "cell_type": "code",
   "execution_count": 29,
   "id": "a9c9c3a5-fbc7-4c10-bfdc-f67c498e2b1d",
   "metadata": {
    "colab": {
     "base_uri": "https://localhost:8080/"
    },
    "executionInfo": {
     "elapsed": 541,
     "status": "ok",
     "timestamp": 1733657642135,
     "user": {
      "displayName": "Thammakorn SAETHANG",
      "userId": "08182570455347153646"
     },
     "user_tz": -420
    },
    "id": "a9c9c3a5-fbc7-4c10-bfdc-f67c498e2b1d",
    "outputId": "5b1a5787-9b1e-4558-e1b6-9c2f04067c91"
   },
   "outputs": [
    {
     "name": "stdout",
     "output_type": "stream",
     "text": [
      "ค่าเฉลี่ยอายุตัวอย่าง =  25.14 ±  12.50\n",
      "ค่าเฉลี่ยอายุประชากร =  29.70 ±  14.53\n"
     ]
    }
   ],
   "source": [
    "sample_cluster_pclass3 = df_age[df_age.Pclass==3]\n",
    "print(f\"ค่าเฉลี่ยอายุตัวอย่าง = {sample_cluster_pclass3.Age.mean(): .2f} ± {sample_cluster_pclass3.Age.std(): .2f}\")\n",
    "print(f\"ค่าเฉลี่ยอายุประชากร = {df_age.Age.mean(): .2f} ± {df_age.Age.std(): .2f}\")"
   ]
  },
  {
   "cell_type": "markdown",
   "id": "99ee6e8b-56ec-4e1f-9a96-976be6c721f9",
   "metadata": {
    "id": "99ee6e8b-56ec-4e1f-9a96-976be6c721f9"
   },
   "source": [
    "\\\n",
    "หากสุ่มได้ Pclass=1:"
   ]
  },
  {
   "cell_type": "code",
   "execution_count": 30,
   "id": "d6bf9a5c-8502-45d7-99ed-53c10d1bf6b3",
   "metadata": {
    "colab": {
     "base_uri": "https://localhost:8080/"
    },
    "executionInfo": {
     "elapsed": 545,
     "status": "ok",
     "timestamp": 1733657801172,
     "user": {
      "displayName": "Thammakorn SAETHANG",
      "userId": "08182570455347153646"
     },
     "user_tz": -420
    },
    "id": "d6bf9a5c-8502-45d7-99ed-53c10d1bf6b3",
    "outputId": "ddece4b4-89a5-4a5d-951f-cfa45aebcc53"
   },
   "outputs": [
    {
     "name": "stdout",
     "output_type": "stream",
     "text": [
      "ค่าเฉลี่ยอายุตัวอย่าง =  38.23 ±  14.80\n",
      "ค่าเฉลี่ยอายุประชากร =  29.70 ±  14.53\n"
     ]
    }
   ],
   "source": [
    "sample_cluster_pclass1 = df_age[df_age.Pclass==1]\n",
    "print(f\"ค่าเฉลี่ยอายุตัวอย่าง = {sample_cluster_pclass1.Age.mean(): .2f} ± {sample_cluster_pclass1.Age.std(): .2f}\")\n",
    "print(f\"ค่าเฉลี่ยอายุประชากร = {df_age.Age.mean(): .2f} ± {df_age.Age.std(): .2f}\")"
   ]
  },
  {
   "cell_type": "markdown",
   "id": "73321b44-0a63-4eaa-9ede-475c655fbfd9",
   "metadata": {
    "id": "73321b44-0a63-4eaa-9ede-475c655fbfd9"
   },
   "source": [
    "\\\n",
    "จะเห็นได้ว่าการเลือก Pclass=1 และ 3 ค่าเฉลี่ยอายุจะมีความคลาดเคลื่อนจากประชากรค่อนข้างมาก"
   ]
  },
  {
   "cell_type": "code",
   "execution_count": null,
   "id": "7427b067-c15d-4de2-b263-9a8e91ce23f1",
   "metadata": {
    "id": "7427b067-c15d-4de2-b263-9a8e91ce23f1"
   },
   "outputs": [],
   "source": []
  }
 ],
 "metadata": {
  "colab": {
   "provenance": []
  },
  "kernelspec": {
   "display_name": "Python 3",
   "language": "python",
   "name": "python3"
  },
  "language_info": {
   "codemirror_mode": {
    "name": "ipython",
    "version": 3
   },
   "file_extension": ".py",
   "mimetype": "text/x-python",
   "name": "python",
   "nbconvert_exporter": "python",
   "pygments_lexer": "ipython3",
   "version": "3.9.13"
  }
 },
 "nbformat": 4,
 "nbformat_minor": 5
}
