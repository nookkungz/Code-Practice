{
 "cells": [
  {
   "cell_type": "markdown",
   "id": "741e6be5-4d40-4c27-8882-53a7bc5eb2c0",
   "metadata": {
    "id": "741e6be5-4d40-4c27-8882-53a7bc5eb2c0"
   },
   "source": [
    "# <font color=\"DE1509\">Introduction to Pandas Library (part 2)</span>"
   ]
  },
  {
   "cell_type": "code",
   "execution_count": 40,
   "id": "6e9d3484-9944-4d2a-967e-6550fcd0f0b5",
   "metadata": {
    "colab": {
     "base_uri": "https://localhost:8080/",
     "height": 206
    },
    "executionInfo": {
     "elapsed": 1434,
     "status": "ok",
     "timestamp": 1733683632573,
     "user": {
      "displayName": "Thammakorn SAETHANG",
      "userId": "08182570455347153646"
     },
     "user_tz": -420
    },
    "id": "6e9d3484-9944-4d2a-967e-6550fcd0f0b5",
    "outputId": "03831210-6969-48ef-8e59-aa22be5a1d55"
   },
   "outputs": [
    {
     "data": {
      "text/html": [
       "<div>\n",
       "<style scoped>\n",
       "    .dataframe tbody tr th:only-of-type {\n",
       "        vertical-align: middle;\n",
       "    }\n",
       "\n",
       "    .dataframe tbody tr th {\n",
       "        vertical-align: top;\n",
       "    }\n",
       "\n",
       "    .dataframe thead th {\n",
       "        text-align: right;\n",
       "    }\n",
       "</style>\n",
       "<table border=\"1\" class=\"dataframe\">\n",
       "  <thead>\n",
       "    <tr style=\"text-align: right;\">\n",
       "      <th></th>\n",
       "      <th>PassengerId</th>\n",
       "      <th>Survived</th>\n",
       "      <th>Pclass</th>\n",
       "      <th>Name</th>\n",
       "      <th>Sex</th>\n",
       "      <th>Age</th>\n",
       "      <th>SibSp</th>\n",
       "      <th>Parch</th>\n",
       "      <th>Ticket</th>\n",
       "      <th>Fare</th>\n",
       "      <th>Cabin</th>\n",
       "      <th>Embarked</th>\n",
       "    </tr>\n",
       "  </thead>\n",
       "  <tbody>\n",
       "    <tr>\n",
       "      <th>0</th>\n",
       "      <td>1</td>\n",
       "      <td>0</td>\n",
       "      <td>3</td>\n",
       "      <td>Braund, Mr. Owen Harris</td>\n",
       "      <td>male</td>\n",
       "      <td>22.0</td>\n",
       "      <td>1</td>\n",
       "      <td>0</td>\n",
       "      <td>A/5 21171</td>\n",
       "      <td>7.2500</td>\n",
       "      <td>NaN</td>\n",
       "      <td>S</td>\n",
       "    </tr>\n",
       "    <tr>\n",
       "      <th>1</th>\n",
       "      <td>2</td>\n",
       "      <td>1</td>\n",
       "      <td>1</td>\n",
       "      <td>Cumings, Mrs. John Bradley (Florence Briggs Th...</td>\n",
       "      <td>female</td>\n",
       "      <td>38.0</td>\n",
       "      <td>1</td>\n",
       "      <td>0</td>\n",
       "      <td>PC 17599</td>\n",
       "      <td>71.2833</td>\n",
       "      <td>C85</td>\n",
       "      <td>C</td>\n",
       "    </tr>\n",
       "    <tr>\n",
       "      <th>2</th>\n",
       "      <td>3</td>\n",
       "      <td>1</td>\n",
       "      <td>3</td>\n",
       "      <td>Heikkinen, Miss. Laina</td>\n",
       "      <td>female</td>\n",
       "      <td>26.0</td>\n",
       "      <td>0</td>\n",
       "      <td>0</td>\n",
       "      <td>STON/O2. 3101282</td>\n",
       "      <td>7.9250</td>\n",
       "      <td>NaN</td>\n",
       "      <td>S</td>\n",
       "    </tr>\n",
       "    <tr>\n",
       "      <th>3</th>\n",
       "      <td>4</td>\n",
       "      <td>1</td>\n",
       "      <td>1</td>\n",
       "      <td>Futrelle, Mrs. Jacques Heath (Lily May Peel)</td>\n",
       "      <td>female</td>\n",
       "      <td>35.0</td>\n",
       "      <td>1</td>\n",
       "      <td>0</td>\n",
       "      <td>113803</td>\n",
       "      <td>53.1000</td>\n",
       "      <td>C123</td>\n",
       "      <td>S</td>\n",
       "    </tr>\n",
       "    <tr>\n",
       "      <th>4</th>\n",
       "      <td>5</td>\n",
       "      <td>0</td>\n",
       "      <td>3</td>\n",
       "      <td>Allen, Mr. William Henry</td>\n",
       "      <td>male</td>\n",
       "      <td>35.0</td>\n",
       "      <td>0</td>\n",
       "      <td>0</td>\n",
       "      <td>373450</td>\n",
       "      <td>8.0500</td>\n",
       "      <td>NaN</td>\n",
       "      <td>S</td>\n",
       "    </tr>\n",
       "  </tbody>\n",
       "</table>\n",
       "</div>"
      ],
      "text/plain": [
       "   PassengerId  Survived  Pclass  \\\n",
       "0            1         0       3   \n",
       "1            2         1       1   \n",
       "2            3         1       3   \n",
       "3            4         1       1   \n",
       "4            5         0       3   \n",
       "\n",
       "                                                Name     Sex   Age  SibSp  \\\n",
       "0                            Braund, Mr. Owen Harris    male  22.0      1   \n",
       "1  Cumings, Mrs. John Bradley (Florence Briggs Th...  female  38.0      1   \n",
       "2                             Heikkinen, Miss. Laina  female  26.0      0   \n",
       "3       Futrelle, Mrs. Jacques Heath (Lily May Peel)  female  35.0      1   \n",
       "4                           Allen, Mr. William Henry    male  35.0      0   \n",
       "\n",
       "   Parch            Ticket     Fare Cabin Embarked  \n",
       "0      0         A/5 21171   7.2500   NaN        S  \n",
       "1      0          PC 17599  71.2833   C85        C  \n",
       "2      0  STON/O2. 3101282   7.9250   NaN        S  \n",
       "3      0            113803  53.1000  C123        S  \n",
       "4      0            373450   8.0500   NaN        S  "
      ]
     },
     "execution_count": 40,
     "metadata": {},
     "output_type": "execute_result"
    }
   ],
   "source": [
    "import numpy as np\n",
    "import pandas as pd\n",
    "\n",
    "#titanic_data = pd.read_csv(\"titanic.csv\")\n",
    "titanic_data = pd.read_csv(\"https://raw.githubusercontent.com/ThammakornS/ProgStat/main/dataset/titanic.csv\")\n",
    "titanic_data.head()"
   ]
  },
  {
   "cell_type": "markdown",
   "id": "545c99d9-26ca-4a63-b851-4ba8b7ac244c",
   "metadata": {
    "id": "545c99d9-26ca-4a63-b851-4ba8b7ac244c"
   },
   "source": [
    "&nbsp;  \n",
    "#### <font color=\"127C02\">*loc & iloc*</span>\n",
    "\n",
    "When it comes to select data on a DataFrame, Pandas *loc* and *iloc* are two top favorites."
   ]
  },
  {
   "cell_type": "markdown",
   "id": "9359a083-c6b4-4541-bdf8-7acc2c5e1066",
   "metadata": {
    "id": "9359a083-c6b4-4541-bdf8-7acc2c5e1066"
   },
   "source": [
    "*loc* is label-based, which means that you have to specify rows and columns based on their row and column labels.  \n",
    "*iloc* is integer position-based, so you have to specify rows and columns by their integer indices."
   ]
  },
  {
   "cell_type": "code",
   "execution_count": 41,
   "id": "7fd2553c-597e-4ca4-9e49-8d99cee6b32e",
   "metadata": {
    "colab": {
     "base_uri": "https://localhost:8080/",
     "height": 206
    },
    "executionInfo": {
     "elapsed": 356,
     "status": "ok",
     "timestamp": 1733684450904,
     "user": {
      "displayName": "Thammakorn SAETHANG",
      "userId": "08182570455347153646"
     },
     "user_tz": -420
    },
    "id": "7fd2553c-597e-4ca4-9e49-8d99cee6b32e",
    "outputId": "d0bdae1a-1955-4f6c-a846-8efe24595ad4"
   },
   "outputs": [
    {
     "data": {
      "text/html": [
       "<div>\n",
       "<style scoped>\n",
       "    .dataframe tbody tr th:only-of-type {\n",
       "        vertical-align: middle;\n",
       "    }\n",
       "\n",
       "    .dataframe tbody tr th {\n",
       "        vertical-align: top;\n",
       "    }\n",
       "\n",
       "    .dataframe thead th {\n",
       "        text-align: right;\n",
       "    }\n",
       "</style>\n",
       "<table border=\"1\" class=\"dataframe\">\n",
       "  <thead>\n",
       "    <tr style=\"text-align: right;\">\n",
       "      <th></th>\n",
       "      <th>PassengerId</th>\n",
       "      <th>Survived</th>\n",
       "      <th>Pclass</th>\n",
       "      <th>Name</th>\n",
       "      <th>Sex</th>\n",
       "      <th>Age</th>\n",
       "      <th>SibSp</th>\n",
       "      <th>Parch</th>\n",
       "      <th>Ticket</th>\n",
       "      <th>Fare</th>\n",
       "      <th>Cabin</th>\n",
       "      <th>Embarked</th>\n",
       "    </tr>\n",
       "  </thead>\n",
       "  <tbody>\n",
       "    <tr>\n",
       "      <th>0</th>\n",
       "      <td>1</td>\n",
       "      <td>0</td>\n",
       "      <td>3</td>\n",
       "      <td>Braund, Mr. Owen Harris</td>\n",
       "      <td>male</td>\n",
       "      <td>22.0</td>\n",
       "      <td>1</td>\n",
       "      <td>0</td>\n",
       "      <td>A/5 21171</td>\n",
       "      <td>7.2500</td>\n",
       "      <td>NaN</td>\n",
       "      <td>S</td>\n",
       "    </tr>\n",
       "    <tr>\n",
       "      <th>1</th>\n",
       "      <td>2</td>\n",
       "      <td>1</td>\n",
       "      <td>1</td>\n",
       "      <td>Cumings, Mrs. John Bradley (Florence Briggs Th...</td>\n",
       "      <td>female</td>\n",
       "      <td>38.0</td>\n",
       "      <td>1</td>\n",
       "      <td>0</td>\n",
       "      <td>PC 17599</td>\n",
       "      <td>71.2833</td>\n",
       "      <td>C85</td>\n",
       "      <td>C</td>\n",
       "    </tr>\n",
       "    <tr>\n",
       "      <th>2</th>\n",
       "      <td>3</td>\n",
       "      <td>1</td>\n",
       "      <td>3</td>\n",
       "      <td>Heikkinen, Miss. Laina</td>\n",
       "      <td>female</td>\n",
       "      <td>26.0</td>\n",
       "      <td>0</td>\n",
       "      <td>0</td>\n",
       "      <td>STON/O2. 3101282</td>\n",
       "      <td>7.9250</td>\n",
       "      <td>NaN</td>\n",
       "      <td>S</td>\n",
       "    </tr>\n",
       "    <tr>\n",
       "      <th>3</th>\n",
       "      <td>4</td>\n",
       "      <td>1</td>\n",
       "      <td>1</td>\n",
       "      <td>Futrelle, Mrs. Jacques Heath (Lily May Peel)</td>\n",
       "      <td>female</td>\n",
       "      <td>35.0</td>\n",
       "      <td>1</td>\n",
       "      <td>0</td>\n",
       "      <td>113803</td>\n",
       "      <td>53.1000</td>\n",
       "      <td>C123</td>\n",
       "      <td>S</td>\n",
       "    </tr>\n",
       "    <tr>\n",
       "      <th>4</th>\n",
       "      <td>5</td>\n",
       "      <td>0</td>\n",
       "      <td>3</td>\n",
       "      <td>Allen, Mr. William Henry</td>\n",
       "      <td>male</td>\n",
       "      <td>35.0</td>\n",
       "      <td>0</td>\n",
       "      <td>0</td>\n",
       "      <td>373450</td>\n",
       "      <td>8.0500</td>\n",
       "      <td>NaN</td>\n",
       "      <td>S</td>\n",
       "    </tr>\n",
       "  </tbody>\n",
       "</table>\n",
       "</div>"
      ],
      "text/plain": [
       "   PassengerId  Survived  Pclass  \\\n",
       "0            1         0       3   \n",
       "1            2         1       1   \n",
       "2            3         1       3   \n",
       "3            4         1       1   \n",
       "4            5         0       3   \n",
       "\n",
       "                                                Name     Sex   Age  SibSp  \\\n",
       "0                            Braund, Mr. Owen Harris    male  22.0      1   \n",
       "1  Cumings, Mrs. John Bradley (Florence Briggs Th...  female  38.0      1   \n",
       "2                             Heikkinen, Miss. Laina  female  26.0      0   \n",
       "3       Futrelle, Mrs. Jacques Heath (Lily May Peel)  female  35.0      1   \n",
       "4                           Allen, Mr. William Henry    male  35.0      0   \n",
       "\n",
       "   Parch            Ticket     Fare Cabin Embarked  \n",
       "0      0         A/5 21171   7.2500   NaN        S  \n",
       "1      0          PC 17599  71.2833   C85        C  \n",
       "2      0  STON/O2. 3101282   7.9250   NaN        S  \n",
       "3      0            113803  53.1000  C123        S  \n",
       "4      0            373450   8.0500   NaN        S  "
      ]
     },
     "execution_count": 41,
     "metadata": {},
     "output_type": "execute_result"
    }
   ],
   "source": [
    "titanic_data.head()"
   ]
  },
  {
   "cell_type": "code",
   "execution_count": 42,
   "id": "8fe0cc1f-ebf9-49ba-84f7-f07816ad264d",
   "metadata": {
    "colab": {
     "base_uri": "https://localhost:8080/"
    },
    "executionInfo": {
     "elapsed": 336,
     "status": "ok",
     "timestamp": 1733684463500,
     "user": {
      "displayName": "Thammakorn SAETHANG",
      "userId": "08182570455347153646"
     },
     "user_tz": -420
    },
    "id": "8fe0cc1f-ebf9-49ba-84f7-f07816ad264d",
    "outputId": "b8fbd5d1-074e-4dac-9318-480c35e55150"
   },
   "outputs": [
    {
     "name": "stdout",
     "output_type": "stream",
     "text": [
      "38.0\n"
     ]
    },
    {
     "data": {
      "text/plain": [
       "numpy.float64"
      ]
     },
     "execution_count": 42,
     "metadata": {},
     "output_type": "execute_result"
    }
   ],
   "source": [
    "age = titanic_data.loc[1, 'Age']  #get age of row index 1\n",
    "print(age)\n",
    "type(age)"
   ]
  },
  {
   "cell_type": "code",
   "execution_count": 43,
   "id": "6aad4f8d-0aab-40ee-a930-987a19f50e04",
   "metadata": {
    "colab": {
     "base_uri": "https://localhost:8080/"
    },
    "executionInfo": {
     "elapsed": 438,
     "status": "ok",
     "timestamp": 1733684498911,
     "user": {
      "displayName": "Thammakorn SAETHANG",
      "userId": "08182570455347153646"
     },
     "user_tz": -420
    },
    "id": "6aad4f8d-0aab-40ee-a930-987a19f50e04",
    "outputId": "77fcc706-04ed-4203-de39-d7ff912ef1c8"
   },
   "outputs": [
    {
     "name": "stdout",
     "output_type": "stream",
     "text": [
      "38.0\n"
     ]
    },
    {
     "data": {
      "text/plain": [
       "numpy.float64"
      ]
     },
     "execution_count": 43,
     "metadata": {},
     "output_type": "execute_result"
    }
   ],
   "source": [
    "age = titanic_data.iloc[1, 5]  #get age (column index 5) of row index 1\n",
    "print(age)\n",
    "type(age)"
   ]
  },
  {
   "cell_type": "code",
   "execution_count": 44,
   "id": "c23317fc-5b56-4019-b2c1-ddb49f9ac4ce",
   "metadata": {
    "colab": {
     "base_uri": "https://localhost:8080/",
     "height": 447
    },
    "executionInfo": {
     "elapsed": 599,
     "status": "ok",
     "timestamp": 1733684601480,
     "user": {
      "displayName": "Thammakorn SAETHANG",
      "userId": "08182570455347153646"
     },
     "user_tz": -420
    },
    "id": "c23317fc-5b56-4019-b2c1-ddb49f9ac4ce",
    "outputId": "14d39192-987c-43de-b8ad-058c9a8d9646"
   },
   "outputs": [
    {
     "name": "stdout",
     "output_type": "stream",
     "text": [
      "0      22.0\n",
      "1      38.0\n",
      "2      26.0\n",
      "3      35.0\n",
      "4      35.0\n",
      "       ... \n",
      "886    27.0\n",
      "887    19.0\n",
      "888     NaN\n",
      "889    26.0\n",
      "890    32.0\n",
      "Name: Age, Length: 891, dtype: float64\n"
     ]
    },
    {
     "data": {
      "text/plain": [
       "pandas.core.series.Series"
      ]
     },
     "execution_count": 44,
     "metadata": {},
     "output_type": "execute_result"
    }
   ],
   "source": [
    "ages = titanic_data.loc[:, 'Age']  #get age values from all rows\n",
    "print(ages)\n",
    "type(ages)  #note that the type is series not dataframe"
   ]
  },
  {
   "cell_type": "code",
   "execution_count": 45,
   "id": "b6ed2c3c-613b-4f58-bb3e-58a3b2d460a1",
   "metadata": {
    "colab": {
     "base_uri": "https://localhost:8080/",
     "height": 412
    },
    "executionInfo": {
     "elapsed": 301,
     "status": "ok",
     "timestamp": 1733684574373,
     "user": {
      "displayName": "Thammakorn SAETHANG",
      "userId": "08182570455347153646"
     },
     "user_tz": -420
    },
    "id": "b6ed2c3c-613b-4f58-bb3e-58a3b2d460a1",
    "outputId": "242d672e-66a2-49f6-cfb8-24613ef6446e"
   },
   "outputs": [
    {
     "name": "stdout",
     "output_type": "stream",
     "text": [
      "0      22.0\n",
      "1      38.0\n",
      "2      26.0\n",
      "3      35.0\n",
      "4      35.0\n",
      "       ... \n",
      "886    27.0\n",
      "887    19.0\n",
      "888     NaN\n",
      "889    26.0\n",
      "890    32.0\n",
      "Name: Age, Length: 891, dtype: float64\n"
     ]
    },
    {
     "data": {
      "text/plain": [
       "pandas.core.series.Series"
      ]
     },
     "execution_count": 45,
     "metadata": {},
     "output_type": "execute_result"
    }
   ],
   "source": [
    "ages = titanic_data.iloc[:, 5]  #get age values from all rows\n",
    "print(ages)\n",
    "type(ages)  #note that the type is series not dataframe"
   ]
  },
  {
   "cell_type": "code",
   "execution_count": 46,
   "id": "27cbf4f8-247e-4ae9-ae98-284bb5f3360c",
   "metadata": {
    "colab": {
     "base_uri": "https://localhost:8080/",
     "height": 610
    },
    "executionInfo": {
     "elapsed": 632,
     "status": "ok",
     "timestamp": 1733684558076,
     "user": {
      "displayName": "Thammakorn SAETHANG",
      "userId": "08182570455347153646"
     },
     "user_tz": -420
    },
    "id": "27cbf4f8-247e-4ae9-ae98-284bb5f3360c",
    "outputId": "a88918d6-4dd8-4c07-cfca-4c96e3e362db"
   },
   "outputs": [
    {
     "data": {
      "text/html": [
       "<div>\n",
       "<style scoped>\n",
       "    .dataframe tbody tr th:only-of-type {\n",
       "        vertical-align: middle;\n",
       "    }\n",
       "\n",
       "    .dataframe tbody tr th {\n",
       "        vertical-align: top;\n",
       "    }\n",
       "\n",
       "    .dataframe thead th {\n",
       "        text-align: right;\n",
       "    }\n",
       "</style>\n",
       "<table border=\"1\" class=\"dataframe\">\n",
       "  <thead>\n",
       "    <tr style=\"text-align: right;\">\n",
       "      <th></th>\n",
       "      <th>Pclass</th>\n",
       "      <th>Age</th>\n",
       "    </tr>\n",
       "  </thead>\n",
       "  <tbody>\n",
       "    <tr>\n",
       "      <th>0</th>\n",
       "      <td>3</td>\n",
       "      <td>22.0</td>\n",
       "    </tr>\n",
       "    <tr>\n",
       "      <th>1</th>\n",
       "      <td>1</td>\n",
       "      <td>38.0</td>\n",
       "    </tr>\n",
       "    <tr>\n",
       "      <th>2</th>\n",
       "      <td>3</td>\n",
       "      <td>26.0</td>\n",
       "    </tr>\n",
       "    <tr>\n",
       "      <th>3</th>\n",
       "      <td>1</td>\n",
       "      <td>35.0</td>\n",
       "    </tr>\n",
       "    <tr>\n",
       "      <th>4</th>\n",
       "      <td>3</td>\n",
       "      <td>35.0</td>\n",
       "    </tr>\n",
       "    <tr>\n",
       "      <th>...</th>\n",
       "      <td>...</td>\n",
       "      <td>...</td>\n",
       "    </tr>\n",
       "    <tr>\n",
       "      <th>886</th>\n",
       "      <td>2</td>\n",
       "      <td>27.0</td>\n",
       "    </tr>\n",
       "    <tr>\n",
       "      <th>887</th>\n",
       "      <td>1</td>\n",
       "      <td>19.0</td>\n",
       "    </tr>\n",
       "    <tr>\n",
       "      <th>888</th>\n",
       "      <td>3</td>\n",
       "      <td>NaN</td>\n",
       "    </tr>\n",
       "    <tr>\n",
       "      <th>889</th>\n",
       "      <td>1</td>\n",
       "      <td>26.0</td>\n",
       "    </tr>\n",
       "    <tr>\n",
       "      <th>890</th>\n",
       "      <td>3</td>\n",
       "      <td>32.0</td>\n",
       "    </tr>\n",
       "  </tbody>\n",
       "</table>\n",
       "<p>891 rows × 2 columns</p>\n",
       "</div>"
      ],
      "text/plain": [
       "     Pclass   Age\n",
       "0         3  22.0\n",
       "1         1  38.0\n",
       "2         3  26.0\n",
       "3         1  35.0\n",
       "4         3  35.0\n",
       "..      ...   ...\n",
       "886       2  27.0\n",
       "887       1  19.0\n",
       "888       3   NaN\n",
       "889       1  26.0\n",
       "890       3  32.0\n",
       "\n",
       "[891 rows x 2 columns]"
      ]
     },
     "metadata": {},
     "output_type": "display_data"
    },
    {
     "data": {
      "text/plain": [
       "pandas.core.frame.DataFrame"
      ]
     },
     "execution_count": 46,
     "metadata": {},
     "output_type": "execute_result"
    }
   ],
   "source": [
    "sub = titanic_data.loc[:, ['Pclass', 'Age']]\n",
    "display(sub)\n",
    "type(sub)  #type is dataframe"
   ]
  },
  {
   "cell_type": "code",
   "execution_count": null,
   "id": "1b1972a1-e731-4f02-b3f9-9216510b6ca8",
   "metadata": {
    "colab": {
     "base_uri": "https://localhost:8080/",
     "height": 612
    },
    "executionInfo": {
     "elapsed": 825,
     "status": "ok",
     "timestamp": 1733684647141,
     "user": {
      "displayName": "Thammakorn SAETHANG",
      "userId": "08182570455347153646"
     },
     "user_tz": -420
    },
    "id": "1b1972a1-e731-4f02-b3f9-9216510b6ca8",
    "outputId": "784deeec-98eb-44ae-a030-caaa299c2a65"
   },
   "outputs": [
    {
     "data": {
      "text/html": [
       "<div>\n",
       "<style scoped>\n",
       "    .dataframe tbody tr th:only-of-type {\n",
       "        vertical-align: middle;\n",
       "    }\n",
       "\n",
       "    .dataframe tbody tr th {\n",
       "        vertical-align: top;\n",
       "    }\n",
       "\n",
       "    .dataframe thead th {\n",
       "        text-align: right;\n",
       "    }\n",
       "</style>\n",
       "<table border=\"1\" class=\"dataframe\">\n",
       "  <thead>\n",
       "    <tr style=\"text-align: right;\">\n",
       "      <th></th>\n",
       "      <th>Pclass</th>\n",
       "      <th>Name</th>\n",
       "      <th>Sex</th>\n",
       "      <th>Age</th>\n",
       "    </tr>\n",
       "  </thead>\n",
       "  <tbody>\n",
       "    <tr>\n",
       "      <th>0</th>\n",
       "      <td>3</td>\n",
       "      <td>Braund, Mr. Owen Harris</td>\n",
       "      <td>male</td>\n",
       "      <td>22.0</td>\n",
       "    </tr>\n",
       "    <tr>\n",
       "      <th>1</th>\n",
       "      <td>1</td>\n",
       "      <td>Cumings, Mrs. John Bradley (Florence Briggs Th...</td>\n",
       "      <td>female</td>\n",
       "      <td>38.0</td>\n",
       "    </tr>\n",
       "    <tr>\n",
       "      <th>2</th>\n",
       "      <td>3</td>\n",
       "      <td>Heikkinen, Miss. Laina</td>\n",
       "      <td>female</td>\n",
       "      <td>26.0</td>\n",
       "    </tr>\n",
       "    <tr>\n",
       "      <th>3</th>\n",
       "      <td>1</td>\n",
       "      <td>Futrelle, Mrs. Jacques Heath (Lily May Peel)</td>\n",
       "      <td>female</td>\n",
       "      <td>35.0</td>\n",
       "    </tr>\n",
       "    <tr>\n",
       "      <th>4</th>\n",
       "      <td>3</td>\n",
       "      <td>Allen, Mr. William Henry</td>\n",
       "      <td>male</td>\n",
       "      <td>35.0</td>\n",
       "    </tr>\n",
       "    <tr>\n",
       "      <th>5</th>\n",
       "      <td>3</td>\n",
       "      <td>Moran, Mr. James</td>\n",
       "      <td>male</td>\n",
       "      <td>NaN</td>\n",
       "    </tr>\n",
       "    <tr>\n",
       "      <th>6</th>\n",
       "      <td>1</td>\n",
       "      <td>McCarthy, Mr. Timothy J</td>\n",
       "      <td>male</td>\n",
       "      <td>54.0</td>\n",
       "    </tr>\n",
       "    <tr>\n",
       "      <th>7</th>\n",
       "      <td>3</td>\n",
       "      <td>Palsson, Master. Gosta Leonard</td>\n",
       "      <td>male</td>\n",
       "      <td>2.0</td>\n",
       "    </tr>\n",
       "    <tr>\n",
       "      <th>8</th>\n",
       "      <td>3</td>\n",
       "      <td>Johnson, Mrs. Oscar W (Elisabeth Vilhelmina Berg)</td>\n",
       "      <td>female</td>\n",
       "      <td>27.0</td>\n",
       "    </tr>\n",
       "    <tr>\n",
       "      <th>9</th>\n",
       "      <td>2</td>\n",
       "      <td>Nasser, Mrs. Nicholas (Adele Achem)</td>\n",
       "      <td>female</td>\n",
       "      <td>14.0</td>\n",
       "    </tr>\n",
       "    <tr>\n",
       "      <th>10</th>\n",
       "      <td>3</td>\n",
       "      <td>Sandstrom, Miss. Marguerite Rut</td>\n",
       "      <td>female</td>\n",
       "      <td>4.0</td>\n",
       "    </tr>\n",
       "    <tr>\n",
       "      <th>11</th>\n",
       "      <td>1</td>\n",
       "      <td>Bonnell, Miss. Elizabeth</td>\n",
       "      <td>female</td>\n",
       "      <td>58.0</td>\n",
       "    </tr>\n",
       "  </tbody>\n",
       "</table>\n",
       "</div>"
      ],
      "text/plain": [
       "    Pclass                                               Name     Sex   Age\n",
       "0        3                            Braund, Mr. Owen Harris    male  22.0\n",
       "1        1  Cumings, Mrs. John Bradley (Florence Briggs Th...  female  38.0\n",
       "2        3                             Heikkinen, Miss. Laina  female  26.0\n",
       "3        1       Futrelle, Mrs. Jacques Heath (Lily May Peel)  female  35.0\n",
       "4        3                           Allen, Mr. William Henry    male  35.0\n",
       "5        3                                   Moran, Mr. James    male   NaN\n",
       "6        1                            McCarthy, Mr. Timothy J    male  54.0\n",
       "7        3                     Palsson, Master. Gosta Leonard    male   2.0\n",
       "8        3  Johnson, Mrs. Oscar W (Elisabeth Vilhelmina Berg)  female  27.0\n",
       "9        2                Nasser, Mrs. Nicholas (Adele Achem)  female  14.0\n",
       "10       3                    Sandstrom, Miss. Marguerite Rut  female   4.0\n",
       "11       1                           Bonnell, Miss. Elizabeth  female  58.0"
      ]
     },
     "metadata": {},
     "output_type": "display_data"
    },
    {
     "data": {
      "text/plain": [
       "pandas.core.frame.DataFrame"
      ]
     },
     "execution_count": 47,
     "metadata": {},
     "output_type": "execute_result"
    }
   ],
   "source": [
    "sub = titanic_data.loc[0:11, 'Pclass':'Age'] #ตั้งแต่ Colum Pclass to age \n",
    "display(sub)\n",
    "type(sub)"
   ]
  },
  {
   "cell_type": "code",
   "execution_count": null,
   "id": "baeb58cf-4c4f-4123-8083-93183569da3d",
   "metadata": {
    "colab": {
     "base_uri": "https://localhost:8080/",
     "height": 581
    },
    "executionInfo": {
     "elapsed": 702,
     "status": "ok",
     "timestamp": 1733656748380,
     "user": {
      "displayName": "Thammakorn SAETHANG",
      "userId": "08182570455347153646"
     },
     "user_tz": -420
    },
    "id": "baeb58cf-4c4f-4123-8083-93183569da3d",
    "outputId": "fda2e48d-c513-4bb7-f14f-59f00e511335"
   },
   "outputs": [
    {
     "data": {
      "text/html": [
       "<div>\n",
       "<style scoped>\n",
       "    .dataframe tbody tr th:only-of-type {\n",
       "        vertical-align: middle;\n",
       "    }\n",
       "\n",
       "    .dataframe tbody tr th {\n",
       "        vertical-align: top;\n",
       "    }\n",
       "\n",
       "    .dataframe thead th {\n",
       "        text-align: right;\n",
       "    }\n",
       "</style>\n",
       "<table border=\"1\" class=\"dataframe\">\n",
       "  <thead>\n",
       "    <tr style=\"text-align: right;\">\n",
       "      <th></th>\n",
       "      <th>Pclass</th>\n",
       "      <th>Name</th>\n",
       "      <th>Sex</th>\n",
       "      <th>Age</th>\n",
       "    </tr>\n",
       "  </thead>\n",
       "  <tbody>\n",
       "    <tr>\n",
       "      <th>0</th>\n",
       "      <td>3</td>\n",
       "      <td>Braund, Mr. Owen Harris</td>\n",
       "      <td>male</td>\n",
       "      <td>22.0</td>\n",
       "    </tr>\n",
       "    <tr>\n",
       "      <th>1</th>\n",
       "      <td>1</td>\n",
       "      <td>Cumings, Mrs. John Bradley (Florence Briggs Th...</td>\n",
       "      <td>female</td>\n",
       "      <td>38.0</td>\n",
       "    </tr>\n",
       "    <tr>\n",
       "      <th>2</th>\n",
       "      <td>3</td>\n",
       "      <td>Heikkinen, Miss. Laina</td>\n",
       "      <td>female</td>\n",
       "      <td>26.0</td>\n",
       "    </tr>\n",
       "    <tr>\n",
       "      <th>3</th>\n",
       "      <td>1</td>\n",
       "      <td>Futrelle, Mrs. Jacques Heath (Lily May Peel)</td>\n",
       "      <td>female</td>\n",
       "      <td>35.0</td>\n",
       "    </tr>\n",
       "    <tr>\n",
       "      <th>4</th>\n",
       "      <td>3</td>\n",
       "      <td>Allen, Mr. William Henry</td>\n",
       "      <td>male</td>\n",
       "      <td>35.0</td>\n",
       "    </tr>\n",
       "    <tr>\n",
       "      <th>5</th>\n",
       "      <td>3</td>\n",
       "      <td>Moran, Mr. James</td>\n",
       "      <td>male</td>\n",
       "      <td>NaN</td>\n",
       "    </tr>\n",
       "    <tr>\n",
       "      <th>6</th>\n",
       "      <td>1</td>\n",
       "      <td>McCarthy, Mr. Timothy J</td>\n",
       "      <td>male</td>\n",
       "      <td>54.0</td>\n",
       "    </tr>\n",
       "    <tr>\n",
       "      <th>7</th>\n",
       "      <td>3</td>\n",
       "      <td>Palsson, Master. Gosta Leonard</td>\n",
       "      <td>male</td>\n",
       "      <td>2.0</td>\n",
       "    </tr>\n",
       "    <tr>\n",
       "      <th>8</th>\n",
       "      <td>3</td>\n",
       "      <td>Johnson, Mrs. Oscar W (Elisabeth Vilhelmina Berg)</td>\n",
       "      <td>female</td>\n",
       "      <td>27.0</td>\n",
       "    </tr>\n",
       "    <tr>\n",
       "      <th>9</th>\n",
       "      <td>2</td>\n",
       "      <td>Nasser, Mrs. Nicholas (Adele Achem)</td>\n",
       "      <td>female</td>\n",
       "      <td>14.0</td>\n",
       "    </tr>\n",
       "    <tr>\n",
       "      <th>10</th>\n",
       "      <td>3</td>\n",
       "      <td>Sandstrom, Miss. Marguerite Rut</td>\n",
       "      <td>female</td>\n",
       "      <td>4.0</td>\n",
       "    </tr>\n",
       "  </tbody>\n",
       "</table>\n",
       "</div>"
      ],
      "text/plain": [
       "    Pclass                                               Name     Sex   Age\n",
       "0        3                            Braund, Mr. Owen Harris    male  22.0\n",
       "1        1  Cumings, Mrs. John Bradley (Florence Briggs Th...  female  38.0\n",
       "2        3                             Heikkinen, Miss. Laina  female  26.0\n",
       "3        1       Futrelle, Mrs. Jacques Heath (Lily May Peel)  female  35.0\n",
       "4        3                           Allen, Mr. William Henry    male  35.0\n",
       "5        3                                   Moran, Mr. James    male   NaN\n",
       "6        1                            McCarthy, Mr. Timothy J    male  54.0\n",
       "7        3                     Palsson, Master. Gosta Leonard    male   2.0\n",
       "8        3  Johnson, Mrs. Oscar W (Elisabeth Vilhelmina Berg)  female  27.0\n",
       "9        2                Nasser, Mrs. Nicholas (Adele Achem)  female  14.0\n",
       "10       3                    Sandstrom, Miss. Marguerite Rut  female   4.0"
      ]
     },
     "metadata": {},
     "output_type": "display_data"
    },
    {
     "data": {
      "text/plain": [
       "pandas.core.frame.DataFrame"
      ]
     },
     "execution_count": 48,
     "metadata": {},
     "output_type": "execute_result"
    }
   ],
   "source": [
    "sub = titanic_data.iloc[0:11, 2:6] #Number สามารถเลือก Colum ได้เหมือนกัน\n",
    "display(sub)\n",
    "type(sub)"
   ]
  },
  {
   "cell_type": "code",
   "execution_count": 49,
   "id": "334bbd41-bdba-4f6f-8e9b-af78d8693f38",
   "metadata": {
    "colab": {
     "base_uri": "https://localhost:8080/",
     "height": 610
    },
    "executionInfo": {
     "elapsed": 363,
     "status": "ok",
     "timestamp": 1733656758396,
     "user": {
      "displayName": "Thammakorn SAETHANG",
      "userId": "08182570455347153646"
     },
     "user_tz": -420
    },
    "id": "334bbd41-bdba-4f6f-8e9b-af78d8693f38",
    "outputId": "3041dba7-9b87-4727-d711-d3211d87ef82"
   },
   "outputs": [
    {
     "data": {
      "text/html": [
       "<div>\n",
       "<style scoped>\n",
       "    .dataframe tbody tr th:only-of-type {\n",
       "        vertical-align: middle;\n",
       "    }\n",
       "\n",
       "    .dataframe tbody tr th {\n",
       "        vertical-align: top;\n",
       "    }\n",
       "\n",
       "    .dataframe thead th {\n",
       "        text-align: right;\n",
       "    }\n",
       "</style>\n",
       "<table border=\"1\" class=\"dataframe\">\n",
       "  <thead>\n",
       "    <tr style=\"text-align: right;\">\n",
       "      <th></th>\n",
       "      <th>Pclass</th>\n",
       "      <th>Age</th>\n",
       "    </tr>\n",
       "  </thead>\n",
       "  <tbody>\n",
       "    <tr>\n",
       "      <th>0</th>\n",
       "      <td>3</td>\n",
       "      <td>22.0</td>\n",
       "    </tr>\n",
       "    <tr>\n",
       "      <th>1</th>\n",
       "      <td>1</td>\n",
       "      <td>38.0</td>\n",
       "    </tr>\n",
       "    <tr>\n",
       "      <th>2</th>\n",
       "      <td>3</td>\n",
       "      <td>26.0</td>\n",
       "    </tr>\n",
       "    <tr>\n",
       "      <th>3</th>\n",
       "      <td>1</td>\n",
       "      <td>35.0</td>\n",
       "    </tr>\n",
       "    <tr>\n",
       "      <th>4</th>\n",
       "      <td>3</td>\n",
       "      <td>35.0</td>\n",
       "    </tr>\n",
       "    <tr>\n",
       "      <th>...</th>\n",
       "      <td>...</td>\n",
       "      <td>...</td>\n",
       "    </tr>\n",
       "    <tr>\n",
       "      <th>886</th>\n",
       "      <td>2</td>\n",
       "      <td>27.0</td>\n",
       "    </tr>\n",
       "    <tr>\n",
       "      <th>887</th>\n",
       "      <td>1</td>\n",
       "      <td>19.0</td>\n",
       "    </tr>\n",
       "    <tr>\n",
       "      <th>888</th>\n",
       "      <td>3</td>\n",
       "      <td>NaN</td>\n",
       "    </tr>\n",
       "    <tr>\n",
       "      <th>889</th>\n",
       "      <td>1</td>\n",
       "      <td>26.0</td>\n",
       "    </tr>\n",
       "    <tr>\n",
       "      <th>890</th>\n",
       "      <td>3</td>\n",
       "      <td>32.0</td>\n",
       "    </tr>\n",
       "  </tbody>\n",
       "</table>\n",
       "<p>891 rows × 2 columns</p>\n",
       "</div>"
      ],
      "text/plain": [
       "     Pclass   Age\n",
       "0         3  22.0\n",
       "1         1  38.0\n",
       "2         3  26.0\n",
       "3         1  35.0\n",
       "4         3  35.0\n",
       "..      ...   ...\n",
       "886       2  27.0\n",
       "887       1  19.0\n",
       "888       3   NaN\n",
       "889       1  26.0\n",
       "890       3  32.0\n",
       "\n",
       "[891 rows x 2 columns]"
      ]
     },
     "metadata": {},
     "output_type": "display_data"
    },
    {
     "data": {
      "text/plain": [
       "pandas.core.frame.DataFrame"
      ]
     },
     "execution_count": 49,
     "metadata": {},
     "output_type": "execute_result"
    }
   ],
   "source": [
    "sub = titanic_data.iloc[:, [2, 5]]\n",
    "display(sub)\n",
    "type(sub)  #type is dataframe"
   ]
  },
  {
   "cell_type": "code",
   "execution_count": 50,
   "id": "e9c721c2-8a9e-4da6-b2a0-599ca89e5e12",
   "metadata": {
    "colab": {
     "base_uri": "https://localhost:8080/",
     "height": 423
    },
    "executionInfo": {
     "elapsed": 564,
     "status": "ok",
     "timestamp": 1733656763872,
     "user": {
      "displayName": "Thammakorn SAETHANG",
      "userId": "08182570455347153646"
     },
     "user_tz": -420
    },
    "id": "e9c721c2-8a9e-4da6-b2a0-599ca89e5e12",
    "outputId": "fd8020f9-3d6a-410c-d584-6017bc145e0d"
   },
   "outputs": [
    {
     "data": {
      "text/html": [
       "<div>\n",
       "<style scoped>\n",
       "    .dataframe tbody tr th:only-of-type {\n",
       "        vertical-align: middle;\n",
       "    }\n",
       "\n",
       "    .dataframe tbody tr th {\n",
       "        vertical-align: top;\n",
       "    }\n",
       "\n",
       "    .dataframe thead th {\n",
       "        text-align: right;\n",
       "    }\n",
       "</style>\n",
       "<table border=\"1\" class=\"dataframe\">\n",
       "  <thead>\n",
       "    <tr style=\"text-align: right;\">\n",
       "      <th></th>\n",
       "      <th>Pclass</th>\n",
       "      <th>Age</th>\n",
       "    </tr>\n",
       "  </thead>\n",
       "  <tbody>\n",
       "    <tr>\n",
       "      <th>0</th>\n",
       "      <td>3</td>\n",
       "      <td>22.0</td>\n",
       "    </tr>\n",
       "    <tr>\n",
       "      <th>1</th>\n",
       "      <td>1</td>\n",
       "      <td>38.0</td>\n",
       "    </tr>\n",
       "    <tr>\n",
       "      <th>2</th>\n",
       "      <td>3</td>\n",
       "      <td>26.0</td>\n",
       "    </tr>\n",
       "    <tr>\n",
       "      <th>3</th>\n",
       "      <td>1</td>\n",
       "      <td>35.0</td>\n",
       "    </tr>\n",
       "    <tr>\n",
       "      <th>4</th>\n",
       "      <td>3</td>\n",
       "      <td>35.0</td>\n",
       "    </tr>\n",
       "    <tr>\n",
       "      <th>...</th>\n",
       "      <td>...</td>\n",
       "      <td>...</td>\n",
       "    </tr>\n",
       "    <tr>\n",
       "      <th>886</th>\n",
       "      <td>2</td>\n",
       "      <td>27.0</td>\n",
       "    </tr>\n",
       "    <tr>\n",
       "      <th>887</th>\n",
       "      <td>1</td>\n",
       "      <td>19.0</td>\n",
       "    </tr>\n",
       "    <tr>\n",
       "      <th>888</th>\n",
       "      <td>3</td>\n",
       "      <td>NaN</td>\n",
       "    </tr>\n",
       "    <tr>\n",
       "      <th>889</th>\n",
       "      <td>1</td>\n",
       "      <td>26.0</td>\n",
       "    </tr>\n",
       "    <tr>\n",
       "      <th>890</th>\n",
       "      <td>3</td>\n",
       "      <td>32.0</td>\n",
       "    </tr>\n",
       "  </tbody>\n",
       "</table>\n",
       "<p>891 rows × 2 columns</p>\n",
       "</div>"
      ],
      "text/plain": [
       "     Pclass   Age\n",
       "0         3  22.0\n",
       "1         1  38.0\n",
       "2         3  26.0\n",
       "3         1  35.0\n",
       "4         3  35.0\n",
       "..      ...   ...\n",
       "886       2  27.0\n",
       "887       1  19.0\n",
       "888       3   NaN\n",
       "889       1  26.0\n",
       "890       3  32.0\n",
       "\n",
       "[891 rows x 2 columns]"
      ]
     },
     "execution_count": 50,
     "metadata": {},
     "output_type": "execute_result"
    }
   ],
   "source": [
    "titanic_data.filter(['Pclass','Age'])"
   ]
  },
  {
   "cell_type": "code",
   "execution_count": 51,
   "id": "ee441e33-277f-4739-89b4-d5db23477fbf",
   "metadata": {
    "colab": {
     "base_uri": "https://localhost:8080/",
     "height": 581
    },
    "executionInfo": {
     "elapsed": 687,
     "status": "ok",
     "timestamp": 1733656767646,
     "user": {
      "displayName": "Thammakorn SAETHANG",
      "userId": "08182570455347153646"
     },
     "user_tz": -420
    },
    "id": "ee441e33-277f-4739-89b4-d5db23477fbf",
    "outputId": "afdaadc4-c005-42fa-820a-3dbb67011d22"
   },
   "outputs": [
    {
     "data": {
      "text/html": [
       "<div>\n",
       "<style scoped>\n",
       "    .dataframe tbody tr th:only-of-type {\n",
       "        vertical-align: middle;\n",
       "    }\n",
       "\n",
       "    .dataframe tbody tr th {\n",
       "        vertical-align: top;\n",
       "    }\n",
       "\n",
       "    .dataframe thead th {\n",
       "        text-align: right;\n",
       "    }\n",
       "</style>\n",
       "<table border=\"1\" class=\"dataframe\">\n",
       "  <thead>\n",
       "    <tr style=\"text-align: right;\">\n",
       "      <th></th>\n",
       "      <th>Pclass</th>\n",
       "      <th>Name</th>\n",
       "      <th>Sex</th>\n",
       "      <th>Age</th>\n",
       "    </tr>\n",
       "  </thead>\n",
       "  <tbody>\n",
       "    <tr>\n",
       "      <th>0</th>\n",
       "      <td>3</td>\n",
       "      <td>Braund, Mr. Owen Harris</td>\n",
       "      <td>male</td>\n",
       "      <td>22.0</td>\n",
       "    </tr>\n",
       "    <tr>\n",
       "      <th>1</th>\n",
       "      <td>1</td>\n",
       "      <td>Cumings, Mrs. John Bradley (Florence Briggs Th...</td>\n",
       "      <td>female</td>\n",
       "      <td>38.0</td>\n",
       "    </tr>\n",
       "    <tr>\n",
       "      <th>2</th>\n",
       "      <td>3</td>\n",
       "      <td>Heikkinen, Miss. Laina</td>\n",
       "      <td>female</td>\n",
       "      <td>26.0</td>\n",
       "    </tr>\n",
       "    <tr>\n",
       "      <th>3</th>\n",
       "      <td>1</td>\n",
       "      <td>Futrelle, Mrs. Jacques Heath (Lily May Peel)</td>\n",
       "      <td>female</td>\n",
       "      <td>35.0</td>\n",
       "    </tr>\n",
       "    <tr>\n",
       "      <th>4</th>\n",
       "      <td>3</td>\n",
       "      <td>Allen, Mr. William Henry</td>\n",
       "      <td>male</td>\n",
       "      <td>35.0</td>\n",
       "    </tr>\n",
       "    <tr>\n",
       "      <th>5</th>\n",
       "      <td>3</td>\n",
       "      <td>Moran, Mr. James</td>\n",
       "      <td>male</td>\n",
       "      <td>NaN</td>\n",
       "    </tr>\n",
       "    <tr>\n",
       "      <th>6</th>\n",
       "      <td>1</td>\n",
       "      <td>McCarthy, Mr. Timothy J</td>\n",
       "      <td>male</td>\n",
       "      <td>54.0</td>\n",
       "    </tr>\n",
       "    <tr>\n",
       "      <th>7</th>\n",
       "      <td>3</td>\n",
       "      <td>Palsson, Master. Gosta Leonard</td>\n",
       "      <td>male</td>\n",
       "      <td>2.0</td>\n",
       "    </tr>\n",
       "    <tr>\n",
       "      <th>8</th>\n",
       "      <td>3</td>\n",
       "      <td>Johnson, Mrs. Oscar W (Elisabeth Vilhelmina Berg)</td>\n",
       "      <td>female</td>\n",
       "      <td>27.0</td>\n",
       "    </tr>\n",
       "    <tr>\n",
       "      <th>9</th>\n",
       "      <td>2</td>\n",
       "      <td>Nasser, Mrs. Nicholas (Adele Achem)</td>\n",
       "      <td>female</td>\n",
       "      <td>14.0</td>\n",
       "    </tr>\n",
       "    <tr>\n",
       "      <th>10</th>\n",
       "      <td>3</td>\n",
       "      <td>Sandstrom, Miss. Marguerite Rut</td>\n",
       "      <td>female</td>\n",
       "      <td>4.0</td>\n",
       "    </tr>\n",
       "  </tbody>\n",
       "</table>\n",
       "</div>"
      ],
      "text/plain": [
       "    Pclass                                               Name     Sex   Age\n",
       "0        3                            Braund, Mr. Owen Harris    male  22.0\n",
       "1        1  Cumings, Mrs. John Bradley (Florence Briggs Th...  female  38.0\n",
       "2        3                             Heikkinen, Miss. Laina  female  26.0\n",
       "3        1       Futrelle, Mrs. Jacques Heath (Lily May Peel)  female  35.0\n",
       "4        3                           Allen, Mr. William Henry    male  35.0\n",
       "5        3                                   Moran, Mr. James    male   NaN\n",
       "6        1                            McCarthy, Mr. Timothy J    male  54.0\n",
       "7        3                     Palsson, Master. Gosta Leonard    male   2.0\n",
       "8        3  Johnson, Mrs. Oscar W (Elisabeth Vilhelmina Berg)  female  27.0\n",
       "9        2                Nasser, Mrs. Nicholas (Adele Achem)  female  14.0\n",
       "10       3                    Sandstrom, Miss. Marguerite Rut  female   4.0"
      ]
     },
     "metadata": {},
     "output_type": "display_data"
    },
    {
     "data": {
      "text/plain": [
       "pandas.core.frame.DataFrame"
      ]
     },
     "execution_count": 51,
     "metadata": {},
     "output_type": "execute_result"
    }
   ],
   "source": [
    "sub = titanic_data.iloc[0:11, 2:6]\n",
    "display(sub)\n",
    "type(sub)"
   ]
  },
  {
   "cell_type": "markdown",
   "id": "edf7dd68-0fb0-4207-ba8d-4bdc74837741",
   "metadata": {
    "id": "edf7dd68-0fb0-4207-ba8d-4bdc74837741"
   },
   "source": [
    "\\\n",
    "***loc* with conditions**"
   ]
  },
  {
   "cell_type": "code",
   "execution_count": 52,
   "id": "e9286e5b-4c6c-4269-9b32-e2d238642854",
   "metadata": {
    "colab": {
     "base_uri": "https://localhost:8080/",
     "height": 206
    },
    "executionInfo": {
     "elapsed": 363,
     "status": "ok",
     "timestamp": 1671271114236,
     "user": {
      "displayName": "Thammakorn SAETHANG",
      "userId": "08182570455347153646"
     },
     "user_tz": -420
    },
    "id": "e9286e5b-4c6c-4269-9b32-e2d238642854",
    "outputId": "725300c6-36a0-4f56-b2b5-b10fa3383a9b"
   },
   "outputs": [
    {
     "data": {
      "text/html": [
       "<div>\n",
       "<style scoped>\n",
       "    .dataframe tbody tr th:only-of-type {\n",
       "        vertical-align: middle;\n",
       "    }\n",
       "\n",
       "    .dataframe tbody tr th {\n",
       "        vertical-align: top;\n",
       "    }\n",
       "\n",
       "    .dataframe thead th {\n",
       "        text-align: right;\n",
       "    }\n",
       "</style>\n",
       "<table border=\"1\" class=\"dataframe\">\n",
       "  <thead>\n",
       "    <tr style=\"text-align: right;\">\n",
       "      <th></th>\n",
       "      <th>PassengerId</th>\n",
       "      <th>Survived</th>\n",
       "      <th>Pclass</th>\n",
       "      <th>Name</th>\n",
       "      <th>Sex</th>\n",
       "      <th>Age</th>\n",
       "      <th>SibSp</th>\n",
       "      <th>Parch</th>\n",
       "      <th>Ticket</th>\n",
       "      <th>Fare</th>\n",
       "      <th>Cabin</th>\n",
       "      <th>Embarked</th>\n",
       "    </tr>\n",
       "  </thead>\n",
       "  <tbody>\n",
       "    <tr>\n",
       "      <th>96</th>\n",
       "      <td>97</td>\n",
       "      <td>0</td>\n",
       "      <td>1</td>\n",
       "      <td>Goldschmidt, Mr. George B</td>\n",
       "      <td>male</td>\n",
       "      <td>71.0</td>\n",
       "      <td>0</td>\n",
       "      <td>0</td>\n",
       "      <td>PC 17754</td>\n",
       "      <td>34.6542</td>\n",
       "      <td>A5</td>\n",
       "      <td>C</td>\n",
       "    </tr>\n",
       "    <tr>\n",
       "      <th>116</th>\n",
       "      <td>117</td>\n",
       "      <td>0</td>\n",
       "      <td>3</td>\n",
       "      <td>Connors, Mr. Patrick</td>\n",
       "      <td>male</td>\n",
       "      <td>70.5</td>\n",
       "      <td>0</td>\n",
       "      <td>0</td>\n",
       "      <td>370369</td>\n",
       "      <td>7.7500</td>\n",
       "      <td>NaN</td>\n",
       "      <td>Q</td>\n",
       "    </tr>\n",
       "    <tr>\n",
       "      <th>493</th>\n",
       "      <td>494</td>\n",
       "      <td>0</td>\n",
       "      <td>1</td>\n",
       "      <td>Artagaveytia, Mr. Ramon</td>\n",
       "      <td>male</td>\n",
       "      <td>71.0</td>\n",
       "      <td>0</td>\n",
       "      <td>0</td>\n",
       "      <td>PC 17609</td>\n",
       "      <td>49.5042</td>\n",
       "      <td>NaN</td>\n",
       "      <td>C</td>\n",
       "    </tr>\n",
       "    <tr>\n",
       "      <th>630</th>\n",
       "      <td>631</td>\n",
       "      <td>1</td>\n",
       "      <td>1</td>\n",
       "      <td>Barkworth, Mr. Algernon Henry Wilson</td>\n",
       "      <td>male</td>\n",
       "      <td>80.0</td>\n",
       "      <td>0</td>\n",
       "      <td>0</td>\n",
       "      <td>27042</td>\n",
       "      <td>30.0000</td>\n",
       "      <td>A23</td>\n",
       "      <td>S</td>\n",
       "    </tr>\n",
       "    <tr>\n",
       "      <th>851</th>\n",
       "      <td>852</td>\n",
       "      <td>0</td>\n",
       "      <td>3</td>\n",
       "      <td>Svensson, Mr. Johan</td>\n",
       "      <td>male</td>\n",
       "      <td>74.0</td>\n",
       "      <td>0</td>\n",
       "      <td>0</td>\n",
       "      <td>347060</td>\n",
       "      <td>7.7750</td>\n",
       "      <td>NaN</td>\n",
       "      <td>S</td>\n",
       "    </tr>\n",
       "  </tbody>\n",
       "</table>\n",
       "</div>"
      ],
      "text/plain": [
       "     PassengerId  Survived  Pclass                                  Name  \\\n",
       "96            97         0       1             Goldschmidt, Mr. George B   \n",
       "116          117         0       3                  Connors, Mr. Patrick   \n",
       "493          494         0       1               Artagaveytia, Mr. Ramon   \n",
       "630          631         1       1  Barkworth, Mr. Algernon Henry Wilson   \n",
       "851          852         0       3                   Svensson, Mr. Johan   \n",
       "\n",
       "      Sex   Age  SibSp  Parch    Ticket     Fare Cabin Embarked  \n",
       "96   male  71.0      0      0  PC 17754  34.6542    A5        C  \n",
       "116  male  70.5      0      0    370369   7.7500   NaN        Q  \n",
       "493  male  71.0      0      0  PC 17609  49.5042   NaN        C  \n",
       "630  male  80.0      0      0     27042  30.0000   A23        S  \n",
       "851  male  74.0      0      0    347060   7.7750   NaN        S  "
      ]
     },
     "execution_count": 52,
     "metadata": {},
     "output_type": "execute_result"
    }
   ],
   "source": [
    "titanic_data.loc[titanic_data.Age > 70]"
   ]
  },
  {
   "cell_type": "code",
   "execution_count": null,
   "id": "ef679731-ca66-4da8-92e2-066382b03318",
   "metadata": {
    "colab": {
     "base_uri": "https://localhost:8080/",
     "height": 206
    },
    "executionInfo": {
     "elapsed": 341,
     "status": "ok",
     "timestamp": 1733656771945,
     "user": {
      "displayName": "Thammakorn SAETHANG",
      "userId": "08182570455347153646"
     },
     "user_tz": -420
    },
    "id": "ef679731-ca66-4da8-92e2-066382b03318",
    "outputId": "2bfce965-7e3c-4dc3-daee-6e2e3de478fa"
   },
   "outputs": [
    {
     "data": {
      "text/html": [
       "<div>\n",
       "<style scoped>\n",
       "    .dataframe tbody tr th:only-of-type {\n",
       "        vertical-align: middle;\n",
       "    }\n",
       "\n",
       "    .dataframe tbody tr th {\n",
       "        vertical-align: top;\n",
       "    }\n",
       "\n",
       "    .dataframe thead th {\n",
       "        text-align: right;\n",
       "    }\n",
       "</style>\n",
       "<table border=\"1\" class=\"dataframe\">\n",
       "  <thead>\n",
       "    <tr style=\"text-align: right;\">\n",
       "      <th></th>\n",
       "      <th>Pclass</th>\n",
       "      <th>Survived</th>\n",
       "      <th>Age</th>\n",
       "    </tr>\n",
       "  </thead>\n",
       "  <tbody>\n",
       "    <tr>\n",
       "      <th>96</th>\n",
       "      <td>1</td>\n",
       "      <td>0</td>\n",
       "      <td>71.0</td>\n",
       "    </tr>\n",
       "    <tr>\n",
       "      <th>116</th>\n",
       "      <td>3</td>\n",
       "      <td>0</td>\n",
       "      <td>70.5</td>\n",
       "    </tr>\n",
       "    <tr>\n",
       "      <th>493</th>\n",
       "      <td>1</td>\n",
       "      <td>0</td>\n",
       "      <td>71.0</td>\n",
       "    </tr>\n",
       "    <tr>\n",
       "      <th>630</th>\n",
       "      <td>1</td>\n",
       "      <td>1</td>\n",
       "      <td>80.0</td>\n",
       "    </tr>\n",
       "    <tr>\n",
       "      <th>851</th>\n",
       "      <td>3</td>\n",
       "      <td>0</td>\n",
       "      <td>74.0</td>\n",
       "    </tr>\n",
       "  </tbody>\n",
       "</table>\n",
       "</div>"
      ],
      "text/plain": [
       "     Pclass  Survived   Age\n",
       "96        1         0  71.0\n",
       "116       3         0  70.5\n",
       "493       1         0  71.0\n",
       "630       1         1  80.0\n",
       "851       3         0  74.0"
      ]
     },
     "execution_count": 53,
     "metadata": {},
     "output_type": "execute_result"
    }
   ],
   "source": [
    "titanic_data.loc[titanic_data.Age > 70,['Pclass','Survived','Age']] #Boolear"
   ]
  },
  {
   "cell_type": "code",
   "execution_count": 54,
   "id": "3cc0aae7-f175-4555-9c5d-e0e1c3ee555c",
   "metadata": {
    "colab": {
     "base_uri": "https://localhost:8080/",
     "height": 770
    },
    "executionInfo": {
     "elapsed": 372,
     "status": "ok",
     "timestamp": 1733656775188,
     "user": {
      "displayName": "Thammakorn SAETHANG",
      "userId": "08182570455347153646"
     },
     "user_tz": -420
    },
    "id": "3cc0aae7-f175-4555-9c5d-e0e1c3ee555c",
    "outputId": "9fbd7621-b049-4795-a9ea-f6332a4f0de0"
   },
   "outputs": [
    {
     "data": {
      "text/html": [
       "<div>\n",
       "<style scoped>\n",
       "    .dataframe tbody tr th:only-of-type {\n",
       "        vertical-align: middle;\n",
       "    }\n",
       "\n",
       "    .dataframe tbody tr th {\n",
       "        vertical-align: top;\n",
       "    }\n",
       "\n",
       "    .dataframe thead th {\n",
       "        text-align: right;\n",
       "    }\n",
       "</style>\n",
       "<table border=\"1\" class=\"dataframe\">\n",
       "  <thead>\n",
       "    <tr style=\"text-align: right;\">\n",
       "      <th></th>\n",
       "      <th>Pclass</th>\n",
       "      <th>Name</th>\n",
       "      <th>SibSp</th>\n",
       "    </tr>\n",
       "  </thead>\n",
       "  <tbody>\n",
       "    <tr>\n",
       "      <th>0</th>\n",
       "      <td>3</td>\n",
       "      <td>Braund, Mr. Owen Harris</td>\n",
       "      <td>1</td>\n",
       "    </tr>\n",
       "    <tr>\n",
       "      <th>1</th>\n",
       "      <td>1</td>\n",
       "      <td>Cumings, Mrs. John Bradley (Florence Briggs Th...</td>\n",
       "      <td>1</td>\n",
       "    </tr>\n",
       "    <tr>\n",
       "      <th>2</th>\n",
       "      <td>3</td>\n",
       "      <td>Heikkinen, Miss. Laina</td>\n",
       "      <td>0</td>\n",
       "    </tr>\n",
       "    <tr>\n",
       "      <th>3</th>\n",
       "      <td>1</td>\n",
       "      <td>Futrelle, Mrs. Jacques Heath (Lily May Peel)</td>\n",
       "      <td>1</td>\n",
       "    </tr>\n",
       "    <tr>\n",
       "      <th>4</th>\n",
       "      <td>3</td>\n",
       "      <td>Allen, Mr. William Henry</td>\n",
       "      <td>0</td>\n",
       "    </tr>\n",
       "    <tr>\n",
       "      <th>5</th>\n",
       "      <td>3</td>\n",
       "      <td>Moran, Mr. James</td>\n",
       "      <td>0</td>\n",
       "    </tr>\n",
       "    <tr>\n",
       "      <th>6</th>\n",
       "      <td>1</td>\n",
       "      <td>McCarthy, Mr. Timothy J</td>\n",
       "      <td>0</td>\n",
       "    </tr>\n",
       "    <tr>\n",
       "      <th>7</th>\n",
       "      <td>3</td>\n",
       "      <td>Palsson, Master. Gosta Leonard</td>\n",
       "      <td>3</td>\n",
       "    </tr>\n",
       "    <tr>\n",
       "      <th>8</th>\n",
       "      <td>3</td>\n",
       "      <td>Johnson, Mrs. Oscar W (Elisabeth Vilhelmina Berg)</td>\n",
       "      <td>0</td>\n",
       "    </tr>\n",
       "    <tr>\n",
       "      <th>9</th>\n",
       "      <td>2</td>\n",
       "      <td>Nasser, Mrs. Nicholas (Adele Achem)</td>\n",
       "      <td>1</td>\n",
       "    </tr>\n",
       "    <tr>\n",
       "      <th>10</th>\n",
       "      <td>3</td>\n",
       "      <td>Sandstrom, Miss. Marguerite Rut</td>\n",
       "      <td>1</td>\n",
       "    </tr>\n",
       "    <tr>\n",
       "      <th>11</th>\n",
       "      <td>1</td>\n",
       "      <td>Bonnell, Miss. Elizabeth</td>\n",
       "      <td>0</td>\n",
       "    </tr>\n",
       "    <tr>\n",
       "      <th>12</th>\n",
       "      <td>3</td>\n",
       "      <td>Saundercock, Mr. William Henry</td>\n",
       "      <td>0</td>\n",
       "    </tr>\n",
       "    <tr>\n",
       "      <th>13</th>\n",
       "      <td>3</td>\n",
       "      <td>Andersson, Mr. Anders Johan</td>\n",
       "      <td>1</td>\n",
       "    </tr>\n",
       "    <tr>\n",
       "      <th>14</th>\n",
       "      <td>3</td>\n",
       "      <td>Vestrom, Miss. Hulda Amanda Adolfina</td>\n",
       "      <td>0</td>\n",
       "    </tr>\n",
       "    <tr>\n",
       "      <th>15</th>\n",
       "      <td>2</td>\n",
       "      <td>Hewlett, Mrs. (Mary D Kingcome)</td>\n",
       "      <td>0</td>\n",
       "    </tr>\n",
       "    <tr>\n",
       "      <th>16</th>\n",
       "      <td>3</td>\n",
       "      <td>Rice, Master. Eugene</td>\n",
       "      <td>4</td>\n",
       "    </tr>\n",
       "    <tr>\n",
       "      <th>17</th>\n",
       "      <td>2</td>\n",
       "      <td>Williams, Mr. Charles Eugene</td>\n",
       "      <td>0</td>\n",
       "    </tr>\n",
       "    <tr>\n",
       "      <th>18</th>\n",
       "      <td>3</td>\n",
       "      <td>Vander Planke, Mrs. Julius (Emelia Maria Vande...</td>\n",
       "      <td>1</td>\n",
       "    </tr>\n",
       "    <tr>\n",
       "      <th>19</th>\n",
       "      <td>3</td>\n",
       "      <td>Masselmani, Mrs. Fatima</td>\n",
       "      <td>0</td>\n",
       "    </tr>\n",
       "    <tr>\n",
       "      <th>20</th>\n",
       "      <td>2</td>\n",
       "      <td>Fynney, Mr. Joseph J</td>\n",
       "      <td>0</td>\n",
       "    </tr>\n",
       "    <tr>\n",
       "      <th>21</th>\n",
       "      <td>2</td>\n",
       "      <td>Beesley, Mr. Lawrence</td>\n",
       "      <td>0</td>\n",
       "    </tr>\n",
       "    <tr>\n",
       "      <th>22</th>\n",
       "      <td>3</td>\n",
       "      <td>McGowan, Miss. Anna \"Annie\"</td>\n",
       "      <td>0</td>\n",
       "    </tr>\n",
       "  </tbody>\n",
       "</table>\n",
       "</div>"
      ],
      "text/plain": [
       "    Pclass                                               Name  SibSp\n",
       "0        3                            Braund, Mr. Owen Harris      1\n",
       "1        1  Cumings, Mrs. John Bradley (Florence Briggs Th...      1\n",
       "2        3                             Heikkinen, Miss. Laina      0\n",
       "3        1       Futrelle, Mrs. Jacques Heath (Lily May Peel)      1\n",
       "4        3                           Allen, Mr. William Henry      0\n",
       "5        3                                   Moran, Mr. James      0\n",
       "6        1                            McCarthy, Mr. Timothy J      0\n",
       "7        3                     Palsson, Master. Gosta Leonard      3\n",
       "8        3  Johnson, Mrs. Oscar W (Elisabeth Vilhelmina Berg)      0\n",
       "9        2                Nasser, Mrs. Nicholas (Adele Achem)      1\n",
       "10       3                    Sandstrom, Miss. Marguerite Rut      1\n",
       "11       1                           Bonnell, Miss. Elizabeth      0\n",
       "12       3                     Saundercock, Mr. William Henry      0\n",
       "13       3                        Andersson, Mr. Anders Johan      1\n",
       "14       3               Vestrom, Miss. Hulda Amanda Adolfina      0\n",
       "15       2                   Hewlett, Mrs. (Mary D Kingcome)       0\n",
       "16       3                               Rice, Master. Eugene      4\n",
       "17       2                       Williams, Mr. Charles Eugene      0\n",
       "18       3  Vander Planke, Mrs. Julius (Emelia Maria Vande...      1\n",
       "19       3                            Masselmani, Mrs. Fatima      0\n",
       "20       2                               Fynney, Mr. Joseph J      0\n",
       "21       2                              Beesley, Mr. Lawrence      0\n",
       "22       3                        McGowan, Miss. Anna \"Annie\"      0"
      ]
     },
     "execution_count": 54,
     "metadata": {},
     "output_type": "execute_result"
    }
   ],
   "source": [
    "titanic_data.iloc[0:23, [2,3,6]]"
   ]
  },
  {
   "cell_type": "code",
   "execution_count": 55,
   "id": "efffd05a-09db-40f4-a179-91dbaa19ab8b",
   "metadata": {
    "colab": {
     "base_uri": "https://localhost:8080/",
     "height": 143
    },
    "executionInfo": {
     "elapsed": 352,
     "status": "ok",
     "timestamp": 1733656778672,
     "user": {
      "displayName": "Thammakorn SAETHANG",
      "userId": "08182570455347153646"
     },
     "user_tz": -420
    },
    "id": "efffd05a-09db-40f4-a179-91dbaa19ab8b",
    "outputId": "a155a707-c1c2-4bdf-8275-69da19b9eaef"
   },
   "outputs": [
    {
     "data": {
      "text/html": [
       "<div>\n",
       "<style scoped>\n",
       "    .dataframe tbody tr th:only-of-type {\n",
       "        vertical-align: middle;\n",
       "    }\n",
       "\n",
       "    .dataframe tbody tr th {\n",
       "        vertical-align: top;\n",
       "    }\n",
       "\n",
       "    .dataframe thead th {\n",
       "        text-align: right;\n",
       "    }\n",
       "</style>\n",
       "<table border=\"1\" class=\"dataframe\">\n",
       "  <thead>\n",
       "    <tr style=\"text-align: right;\">\n",
       "      <th></th>\n",
       "      <th>PassengerId</th>\n",
       "      <th>Survived</th>\n",
       "      <th>Pclass</th>\n",
       "      <th>Name</th>\n",
       "      <th>Sex</th>\n",
       "      <th>Age</th>\n",
       "      <th>SibSp</th>\n",
       "      <th>Parch</th>\n",
       "      <th>Ticket</th>\n",
       "      <th>Fare</th>\n",
       "      <th>Cabin</th>\n",
       "      <th>Embarked</th>\n",
       "    </tr>\n",
       "  </thead>\n",
       "  <tbody>\n",
       "    <tr>\n",
       "      <th>96</th>\n",
       "      <td>97</td>\n",
       "      <td>0</td>\n",
       "      <td>1</td>\n",
       "      <td>Goldschmidt, Mr. George B</td>\n",
       "      <td>male</td>\n",
       "      <td>71.0</td>\n",
       "      <td>0</td>\n",
       "      <td>0</td>\n",
       "      <td>PC 17754</td>\n",
       "      <td>34.6542</td>\n",
       "      <td>A5</td>\n",
       "      <td>C</td>\n",
       "    </tr>\n",
       "    <tr>\n",
       "      <th>493</th>\n",
       "      <td>494</td>\n",
       "      <td>0</td>\n",
       "      <td>1</td>\n",
       "      <td>Artagaveytia, Mr. Ramon</td>\n",
       "      <td>male</td>\n",
       "      <td>71.0</td>\n",
       "      <td>0</td>\n",
       "      <td>0</td>\n",
       "      <td>PC 17609</td>\n",
       "      <td>49.5042</td>\n",
       "      <td>NaN</td>\n",
       "      <td>C</td>\n",
       "    </tr>\n",
       "    <tr>\n",
       "      <th>630</th>\n",
       "      <td>631</td>\n",
       "      <td>1</td>\n",
       "      <td>1</td>\n",
       "      <td>Barkworth, Mr. Algernon Henry Wilson</td>\n",
       "      <td>male</td>\n",
       "      <td>80.0</td>\n",
       "      <td>0</td>\n",
       "      <td>0</td>\n",
       "      <td>27042</td>\n",
       "      <td>30.0000</td>\n",
       "      <td>A23</td>\n",
       "      <td>S</td>\n",
       "    </tr>\n",
       "  </tbody>\n",
       "</table>\n",
       "</div>"
      ],
      "text/plain": [
       "     PassengerId  Survived  Pclass                                  Name  \\\n",
       "96            97         0       1             Goldschmidt, Mr. George B   \n",
       "493          494         0       1               Artagaveytia, Mr. Ramon   \n",
       "630          631         1       1  Barkworth, Mr. Algernon Henry Wilson   \n",
       "\n",
       "      Sex   Age  SibSp  Parch    Ticket     Fare Cabin Embarked  \n",
       "96   male  71.0      0      0  PC 17754  34.6542    A5        C  \n",
       "493  male  71.0      0      0  PC 17609  49.5042   NaN        C  \n",
       "630  male  80.0      0      0     27042  30.0000   A23        S  "
      ]
     },
     "execution_count": 55,
     "metadata": {},
     "output_type": "execute_result"
    }
   ],
   "source": [
    "titanic_data.loc[(titanic_data.Age > 70) & (titanic_data.Pclass == 1)]"
   ]
  },
  {
   "cell_type": "markdown",
   "id": "cbca90d5-cce5-45ae-a900-d2f7c380fb91",
   "metadata": {
    "id": "cbca90d5-cce5-45ae-a900-d2f7c380fb91"
   },
   "source": [
    "\\\n",
    "The A:B used in loc and iloc may have different meaning.  \n",
    "For *loc*, A and B are included.  \n",
    "For *iloc*, A is included, B is __excluded__.  "
   ]
  },
  {
   "cell_type": "code",
   "execution_count": null,
   "id": "af408dc5-8e21-4510-a717-a1e07635aee3",
   "metadata": {
    "colab": {
     "base_uri": "https://localhost:8080/",
     "height": 143
    },
    "executionInfo": {
     "elapsed": 349,
     "status": "ok",
     "timestamp": 1733656782561,
     "user": {
      "displayName": "Thammakorn SAETHANG",
      "userId": "08182570455347153646"
     },
     "user_tz": -420
    },
    "id": "af408dc5-8e21-4510-a717-a1e07635aee3",
    "outputId": "da6cdbe3-7f23-4c85-f166-ca4abb58551c"
   },
   "outputs": [
    {
     "data": {
      "text/html": [
       "<div>\n",
       "<style scoped>\n",
       "    .dataframe tbody tr th:only-of-type {\n",
       "        vertical-align: middle;\n",
       "    }\n",
       "\n",
       "    .dataframe tbody tr th {\n",
       "        vertical-align: top;\n",
       "    }\n",
       "\n",
       "    .dataframe thead th {\n",
       "        text-align: right;\n",
       "    }\n",
       "</style>\n",
       "<table border=\"1\" class=\"dataframe\">\n",
       "  <thead>\n",
       "    <tr style=\"text-align: right;\">\n",
       "      <th></th>\n",
       "      <th>PassengerId</th>\n",
       "      <th>Survived</th>\n",
       "      <th>Pclass</th>\n",
       "      <th>Name</th>\n",
       "      <th>Sex</th>\n",
       "      <th>Age</th>\n",
       "      <th>SibSp</th>\n",
       "      <th>Parch</th>\n",
       "      <th>Ticket</th>\n",
       "      <th>Fare</th>\n",
       "      <th>Cabin</th>\n",
       "      <th>Embarked</th>\n",
       "    </tr>\n",
       "  </thead>\n",
       "  <tbody>\n",
       "    <tr>\n",
       "      <th>1</th>\n",
       "      <td>2</td>\n",
       "      <td>1</td>\n",
       "      <td>1</td>\n",
       "      <td>Cumings, Mrs. John Bradley (Florence Briggs Th...</td>\n",
       "      <td>female</td>\n",
       "      <td>38.0</td>\n",
       "      <td>1</td>\n",
       "      <td>0</td>\n",
       "      <td>PC 17599</td>\n",
       "      <td>71.2833</td>\n",
       "      <td>C85</td>\n",
       "      <td>C</td>\n",
       "    </tr>\n",
       "    <tr>\n",
       "      <th>2</th>\n",
       "      <td>3</td>\n",
       "      <td>1</td>\n",
       "      <td>3</td>\n",
       "      <td>Heikkinen, Miss. Laina</td>\n",
       "      <td>female</td>\n",
       "      <td>26.0</td>\n",
       "      <td>0</td>\n",
       "      <td>0</td>\n",
       "      <td>STON/O2. 3101282</td>\n",
       "      <td>7.9250</td>\n",
       "      <td>NaN</td>\n",
       "      <td>S</td>\n",
       "    </tr>\n",
       "    <tr>\n",
       "      <th>3</th>\n",
       "      <td>4</td>\n",
       "      <td>1</td>\n",
       "      <td>1</td>\n",
       "      <td>Futrelle, Mrs. Jacques Heath (Lily May Peel)</td>\n",
       "      <td>female</td>\n",
       "      <td>35.0</td>\n",
       "      <td>1</td>\n",
       "      <td>0</td>\n",
       "      <td>113803</td>\n",
       "      <td>53.1000</td>\n",
       "      <td>C123</td>\n",
       "      <td>S</td>\n",
       "    </tr>\n",
       "  </tbody>\n",
       "</table>\n",
       "</div>"
      ],
      "text/plain": [
       "   PassengerId  Survived  Pclass  \\\n",
       "1            2         1       1   \n",
       "2            3         1       3   \n",
       "3            4         1       1   \n",
       "\n",
       "                                                Name     Sex   Age  SibSp  \\\n",
       "1  Cumings, Mrs. John Bradley (Florence Briggs Th...  female  38.0      1   \n",
       "2                             Heikkinen, Miss. Laina  female  26.0      0   \n",
       "3       Futrelle, Mrs. Jacques Heath (Lily May Peel)  female  35.0      1   \n",
       "\n",
       "   Parch            Ticket     Fare Cabin Embarked  \n",
       "1      0          PC 17599  71.2833   C85        C  \n",
       "2      0  STON/O2. 3101282   7.9250   NaN        S  \n",
       "3      0            113803  53.1000  C123        S  "
      ]
     },
     "metadata": {},
     "output_type": "display_data"
    }
   ],
   "source": [
    "sub = titanic_data.loc[1:3, :]  #rows 1 to 3 this normal matrix\n",
    "display(sub)"
   ]
  },
  {
   "cell_type": "code",
   "execution_count": null,
   "id": "54ca5287-3e6c-43c0-8b07-68178b2c7491",
   "metadata": {
    "colab": {
     "base_uri": "https://localhost:8080/",
     "height": 125
    },
    "executionInfo": {
     "elapsed": 574,
     "status": "ok",
     "timestamp": 1733656786084,
     "user": {
      "displayName": "Thammakorn SAETHANG",
      "userId": "08182570455347153646"
     },
     "user_tz": -420
    },
    "id": "54ca5287-3e6c-43c0-8b07-68178b2c7491",
    "outputId": "2b12d212-3af5-4819-9714-be2fb6a3ddff"
   },
   "outputs": [
    {
     "data": {
      "text/html": [
       "<div>\n",
       "<style scoped>\n",
       "    .dataframe tbody tr th:only-of-type {\n",
       "        vertical-align: middle;\n",
       "    }\n",
       "\n",
       "    .dataframe tbody tr th {\n",
       "        vertical-align: top;\n",
       "    }\n",
       "\n",
       "    .dataframe thead th {\n",
       "        text-align: right;\n",
       "    }\n",
       "</style>\n",
       "<table border=\"1\" class=\"dataframe\">\n",
       "  <thead>\n",
       "    <tr style=\"text-align: right;\">\n",
       "      <th></th>\n",
       "      <th>PassengerId</th>\n",
       "      <th>Survived</th>\n",
       "      <th>Pclass</th>\n",
       "      <th>Name</th>\n",
       "      <th>Sex</th>\n",
       "      <th>Age</th>\n",
       "      <th>SibSp</th>\n",
       "      <th>Parch</th>\n",
       "      <th>Ticket</th>\n",
       "      <th>Fare</th>\n",
       "      <th>Cabin</th>\n",
       "      <th>Embarked</th>\n",
       "    </tr>\n",
       "  </thead>\n",
       "  <tbody>\n",
       "    <tr>\n",
       "      <th>1</th>\n",
       "      <td>2</td>\n",
       "      <td>1</td>\n",
       "      <td>1</td>\n",
       "      <td>Cumings, Mrs. John Bradley (Florence Briggs Th...</td>\n",
       "      <td>female</td>\n",
       "      <td>38.0</td>\n",
       "      <td>1</td>\n",
       "      <td>0</td>\n",
       "      <td>PC 17599</td>\n",
       "      <td>71.2833</td>\n",
       "      <td>C85</td>\n",
       "      <td>C</td>\n",
       "    </tr>\n",
       "    <tr>\n",
       "      <th>2</th>\n",
       "      <td>3</td>\n",
       "      <td>1</td>\n",
       "      <td>3</td>\n",
       "      <td>Heikkinen, Miss. Laina</td>\n",
       "      <td>female</td>\n",
       "      <td>26.0</td>\n",
       "      <td>0</td>\n",
       "      <td>0</td>\n",
       "      <td>STON/O2. 3101282</td>\n",
       "      <td>7.9250</td>\n",
       "      <td>NaN</td>\n",
       "      <td>S</td>\n",
       "    </tr>\n",
       "  </tbody>\n",
       "</table>\n",
       "</div>"
      ],
      "text/plain": [
       "   PassengerId  Survived  Pclass  \\\n",
       "1            2         1       1   \n",
       "2            3         1       3   \n",
       "\n",
       "                                                Name     Sex   Age  SibSp  \\\n",
       "1  Cumings, Mrs. John Bradley (Florence Briggs Th...  female  38.0      1   \n",
       "2                             Heikkinen, Miss. Laina  female  26.0      0   \n",
       "\n",
       "   Parch            Ticket     Fare Cabin Embarked  \n",
       "1      0          PC 17599  71.2833   C85        C  \n",
       "2      0  STON/O2. 3101282   7.9250   NaN        S  "
      ]
     },
     "metadata": {},
     "output_type": "display_data"
    }
   ],
   "source": [
    "sub = titanic_data.iloc[1:3, :]  #rows 1 to 2 this form python logic\n",
    "display(sub)"
   ]
  },
  {
   "cell_type": "markdown",
   "id": "d2c3eec5-1bf1-4510-9da0-18503e9760ac",
   "metadata": {
    "id": "d2c3eec5-1bf1-4510-9da0-18503e9760ac"
   },
   "source": [
    "&nbsp;  \n",
    "#### <font color=\"127C02\">*Concatenating Dataframes*</span>\n",
    "\n",
    "Oftentimes, you need to concatenate or join multiple Pandas dataframes horizontally or vertically. Let’s first see how to concatenate or join Pandas dataframes vertically. We will first create two Pandas dataframes using Titanic data. The first dataframe contains rows where the passenger class is 1, while the second dataframe contains rows where the passenger class is 2."
   ]
  },
  {
   "cell_type": "code",
   "execution_count": 58,
   "id": "4a3b563f-362c-45c1-b788-84f429f898c6",
   "metadata": {
    "colab": {
     "base_uri": "https://localhost:8080/"
    },
    "executionInfo": {
     "elapsed": 302,
     "status": "ok",
     "timestamp": 1733684896611,
     "user": {
      "displayName": "Thammakorn SAETHANG",
      "userId": "08182570455347153646"
     },
     "user_tz": -420
    },
    "id": "4a3b563f-362c-45c1-b788-84f429f898c6",
    "outputId": "515bace0-57dc-4128-edda-a7a031fc25ce"
   },
   "outputs": [
    {
     "name": "stdout",
     "output_type": "stream",
     "text": [
      "(216, 12)\n",
      "(184, 12)\n"
     ]
    }
   ],
   "source": [
    "titanic_pclass1_data = titanic_data[titanic_data.Pclass == 1]\n",
    "print(titanic_pclass1_data.shape)\n",
    "\n",
    "titanic_pclass2_data = titanic_data[titanic_data.Pclass == 2]\n",
    "print(titanic_pclass2_data.shape)"
   ]
  },
  {
   "cell_type": "markdown",
   "id": "3ddf2b8b-e667-43b4-8cbb-f1d8dd124858",
   "metadata": {
    "id": "3ddf2b8b-e667-43b4-8cbb-f1d8dd124858"
   },
   "source": [
    "\\\n",
    "The output shows that both the newly created dataframes have 12 columns. It is important to mention that while concatenating data vertically, <u>both the dataframes should have an equal number of columns.</u>  "
   ]
  },
  {
   "cell_type": "code",
   "execution_count": null,
   "id": "ca06b79d-cc7e-4741-84a0-8d34f2198e10",
   "metadata": {
    "colab": {
     "base_uri": "https://localhost:8080/",
     "height": 441
    },
    "executionInfo": {
     "elapsed": 319,
     "status": "ok",
     "timestamp": 1733685031510,
     "user": {
      "displayName": "Thammakorn SAETHANG",
      "userId": "08182570455347153646"
     },
     "user_tz": -420
    },
    "id": "ca06b79d-cc7e-4741-84a0-8d34f2198e10",
    "outputId": "226fc462-6c6e-49aa-8be8-4c3609bbc03a"
   },
   "outputs": [
    {
     "name": "stdout",
     "output_type": "stream",
     "text": [
      "(400, 13)\n"
     ]
    },
    {
     "data": {
      "text/html": [
       "<div>\n",
       "<style scoped>\n",
       "    .dataframe tbody tr th:only-of-type {\n",
       "        vertical-align: middle;\n",
       "    }\n",
       "\n",
       "    .dataframe tbody tr th {\n",
       "        vertical-align: top;\n",
       "    }\n",
       "\n",
       "    .dataframe thead th {\n",
       "        text-align: right;\n",
       "    }\n",
       "</style>\n",
       "<table border=\"1\" class=\"dataframe\">\n",
       "  <thead>\n",
       "    <tr style=\"text-align: right;\">\n",
       "      <th></th>\n",
       "      <th>index</th>\n",
       "      <th>PassengerId</th>\n",
       "      <th>Survived</th>\n",
       "      <th>Pclass</th>\n",
       "      <th>Name</th>\n",
       "      <th>Sex</th>\n",
       "      <th>Age</th>\n",
       "      <th>SibSp</th>\n",
       "      <th>Parch</th>\n",
       "      <th>Ticket</th>\n",
       "      <th>Fare</th>\n",
       "      <th>Cabin</th>\n",
       "      <th>Embarked</th>\n",
       "    </tr>\n",
       "  </thead>\n",
       "  <tbody>\n",
       "    <tr>\n",
       "      <th>0</th>\n",
       "      <td>1</td>\n",
       "      <td>2</td>\n",
       "      <td>1</td>\n",
       "      <td>1</td>\n",
       "      <td>Cumings, Mrs. John Bradley (Florence Briggs Th...</td>\n",
       "      <td>female</td>\n",
       "      <td>38.0</td>\n",
       "      <td>1</td>\n",
       "      <td>0</td>\n",
       "      <td>PC 17599</td>\n",
       "      <td>71.2833</td>\n",
       "      <td>C85</td>\n",
       "      <td>C</td>\n",
       "    </tr>\n",
       "    <tr>\n",
       "      <th>1</th>\n",
       "      <td>3</td>\n",
       "      <td>4</td>\n",
       "      <td>1</td>\n",
       "      <td>1</td>\n",
       "      <td>Futrelle, Mrs. Jacques Heath (Lily May Peel)</td>\n",
       "      <td>female</td>\n",
       "      <td>35.0</td>\n",
       "      <td>1</td>\n",
       "      <td>0</td>\n",
       "      <td>113803</td>\n",
       "      <td>53.1000</td>\n",
       "      <td>C123</td>\n",
       "      <td>S</td>\n",
       "    </tr>\n",
       "    <tr>\n",
       "      <th>2</th>\n",
       "      <td>6</td>\n",
       "      <td>7</td>\n",
       "      <td>0</td>\n",
       "      <td>1</td>\n",
       "      <td>McCarthy, Mr. Timothy J</td>\n",
       "      <td>male</td>\n",
       "      <td>54.0</td>\n",
       "      <td>0</td>\n",
       "      <td>0</td>\n",
       "      <td>17463</td>\n",
       "      <td>51.8625</td>\n",
       "      <td>E46</td>\n",
       "      <td>S</td>\n",
       "    </tr>\n",
       "    <tr>\n",
       "      <th>3</th>\n",
       "      <td>11</td>\n",
       "      <td>12</td>\n",
       "      <td>1</td>\n",
       "      <td>1</td>\n",
       "      <td>Bonnell, Miss. Elizabeth</td>\n",
       "      <td>female</td>\n",
       "      <td>58.0</td>\n",
       "      <td>0</td>\n",
       "      <td>0</td>\n",
       "      <td>113783</td>\n",
       "      <td>26.5500</td>\n",
       "      <td>C103</td>\n",
       "      <td>S</td>\n",
       "    </tr>\n",
       "    <tr>\n",
       "      <th>4</th>\n",
       "      <td>23</td>\n",
       "      <td>24</td>\n",
       "      <td>1</td>\n",
       "      <td>1</td>\n",
       "      <td>Sloper, Mr. William Thompson</td>\n",
       "      <td>male</td>\n",
       "      <td>28.0</td>\n",
       "      <td>0</td>\n",
       "      <td>0</td>\n",
       "      <td>113788</td>\n",
       "      <td>35.5000</td>\n",
       "      <td>A6</td>\n",
       "      <td>S</td>\n",
       "    </tr>\n",
       "    <tr>\n",
       "      <th>...</th>\n",
       "      <td>...</td>\n",
       "      <td>...</td>\n",
       "      <td>...</td>\n",
       "      <td>...</td>\n",
       "      <td>...</td>\n",
       "      <td>...</td>\n",
       "      <td>...</td>\n",
       "      <td>...</td>\n",
       "      <td>...</td>\n",
       "      <td>...</td>\n",
       "      <td>...</td>\n",
       "      <td>...</td>\n",
       "      <td>...</td>\n",
       "    </tr>\n",
       "    <tr>\n",
       "      <th>395</th>\n",
       "      <td>866</td>\n",
       "      <td>867</td>\n",
       "      <td>1</td>\n",
       "      <td>2</td>\n",
       "      <td>Duran y More, Miss. Asuncion</td>\n",
       "      <td>female</td>\n",
       "      <td>27.0</td>\n",
       "      <td>1</td>\n",
       "      <td>0</td>\n",
       "      <td>SC/PARIS 2149</td>\n",
       "      <td>13.8583</td>\n",
       "      <td>NaN</td>\n",
       "      <td>C</td>\n",
       "    </tr>\n",
       "    <tr>\n",
       "      <th>396</th>\n",
       "      <td>874</td>\n",
       "      <td>875</td>\n",
       "      <td>1</td>\n",
       "      <td>2</td>\n",
       "      <td>Abelson, Mrs. Samuel (Hannah Wizosky)</td>\n",
       "      <td>female</td>\n",
       "      <td>28.0</td>\n",
       "      <td>1</td>\n",
       "      <td>0</td>\n",
       "      <td>P/PP 3381</td>\n",
       "      <td>24.0000</td>\n",
       "      <td>NaN</td>\n",
       "      <td>C</td>\n",
       "    </tr>\n",
       "    <tr>\n",
       "      <th>397</th>\n",
       "      <td>880</td>\n",
       "      <td>881</td>\n",
       "      <td>1</td>\n",
       "      <td>2</td>\n",
       "      <td>Shelley, Mrs. William (Imanita Parrish Hall)</td>\n",
       "      <td>female</td>\n",
       "      <td>25.0</td>\n",
       "      <td>0</td>\n",
       "      <td>1</td>\n",
       "      <td>230433</td>\n",
       "      <td>26.0000</td>\n",
       "      <td>NaN</td>\n",
       "      <td>S</td>\n",
       "    </tr>\n",
       "    <tr>\n",
       "      <th>398</th>\n",
       "      <td>883</td>\n",
       "      <td>884</td>\n",
       "      <td>0</td>\n",
       "      <td>2</td>\n",
       "      <td>Banfield, Mr. Frederick James</td>\n",
       "      <td>male</td>\n",
       "      <td>28.0</td>\n",
       "      <td>0</td>\n",
       "      <td>0</td>\n",
       "      <td>C.A./SOTON 34068</td>\n",
       "      <td>10.5000</td>\n",
       "      <td>NaN</td>\n",
       "      <td>S</td>\n",
       "    </tr>\n",
       "    <tr>\n",
       "      <th>399</th>\n",
       "      <td>886</td>\n",
       "      <td>887</td>\n",
       "      <td>0</td>\n",
       "      <td>2</td>\n",
       "      <td>Montvila, Rev. Juozas</td>\n",
       "      <td>male</td>\n",
       "      <td>27.0</td>\n",
       "      <td>0</td>\n",
       "      <td>0</td>\n",
       "      <td>211536</td>\n",
       "      <td>13.0000</td>\n",
       "      <td>NaN</td>\n",
       "      <td>S</td>\n",
       "    </tr>\n",
       "  </tbody>\n",
       "</table>\n",
       "<p>400 rows × 13 columns</p>\n",
       "</div>"
      ],
      "text/plain": [
       "     index  PassengerId  Survived  Pclass  \\\n",
       "0        1            2         1       1   \n",
       "1        3            4         1       1   \n",
       "2        6            7         0       1   \n",
       "3       11           12         1       1   \n",
       "4       23           24         1       1   \n",
       "..     ...          ...       ...     ...   \n",
       "395    866          867         1       2   \n",
       "396    874          875         1       2   \n",
       "397    880          881         1       2   \n",
       "398    883          884         0       2   \n",
       "399    886          887         0       2   \n",
       "\n",
       "                                                  Name     Sex   Age  SibSp  \\\n",
       "0    Cumings, Mrs. John Bradley (Florence Briggs Th...  female  38.0      1   \n",
       "1         Futrelle, Mrs. Jacques Heath (Lily May Peel)  female  35.0      1   \n",
       "2                              McCarthy, Mr. Timothy J    male  54.0      0   \n",
       "3                             Bonnell, Miss. Elizabeth  female  58.0      0   \n",
       "4                         Sloper, Mr. William Thompson    male  28.0      0   \n",
       "..                                                 ...     ...   ...    ...   \n",
       "395                       Duran y More, Miss. Asuncion  female  27.0      1   \n",
       "396              Abelson, Mrs. Samuel (Hannah Wizosky)  female  28.0      1   \n",
       "397       Shelley, Mrs. William (Imanita Parrish Hall)  female  25.0      0   \n",
       "398                      Banfield, Mr. Frederick James    male  28.0      0   \n",
       "399                              Montvila, Rev. Juozas    male  27.0      0   \n",
       "\n",
       "     Parch            Ticket     Fare Cabin Embarked  \n",
       "0        0          PC 17599  71.2833   C85        C  \n",
       "1        0            113803  53.1000  C123        S  \n",
       "2        0             17463  51.8625   E46        S  \n",
       "3        0            113783  26.5500  C103        S  \n",
       "4        0            113788  35.5000    A6        S  \n",
       "..     ...               ...      ...   ...      ...  \n",
       "395      0     SC/PARIS 2149  13.8583   NaN        C  \n",
       "396      0         P/PP 3381  24.0000   NaN        C  \n",
       "397      1            230433  26.0000   NaN        S  \n",
       "398      0  C.A./SOTON 34068  10.5000   NaN        S  \n",
       "399      0            211536  13.0000   NaN        S  \n",
       "\n",
       "[400 rows x 13 columns]"
      ]
     },
     "execution_count": 59,
     "metadata": {},
     "output_type": "execute_result"
    }
   ],
   "source": [
    "merged_data = pd.concat([titanic_pclass1_data, titanic_pclass2_data]).reset_index() #concat CON CAT need columns to same values , .reset_index(), must have,\n",
    "print(merged_data.shape)\n",
    "# display(merged_data.head())\n",
    "# display(merged_data.tail())\n",
    "merged_data"
   ]
  },
  {
   "cell_type": "markdown",
   "id": "9410c954-9849-4306-aeca-7ca1518af630",
   "metadata": {
    "id": "9410c954-9849-4306-aeca-7ca1518af630"
   },
   "source": [
    "\\\n",
    "To concatenate dataframes horizontally, <u>make sure that the dataframes have an equal number of rows.</u> You can use the concat() method to concatenate dataframes horizontally as well. However, you will need to pass 1 as the value for the axis attribute."
   ]
  },
  {
   "cell_type": "code",
   "execution_count": 82,
   "id": "7dbd9446-6b71-4d0f-9200-1bd1bc6f4457",
   "metadata": {
    "colab": {
     "base_uri": "https://localhost:8080/",
     "height": 636
    },
    "executionInfo": {
     "elapsed": 352,
     "status": "ok",
     "timestamp": 1733656812542,
     "user": {
      "displayName": "Thammakorn SAETHANG",
      "userId": "08182570455347153646"
     },
     "user_tz": -420
    },
    "id": "7dbd9446-6b71-4d0f-9200-1bd1bc6f4457",
    "outputId": "e5d9dec2-4211-42c7-ce5b-7617ceaec936"
   },
   "outputs": [
    {
     "data": {
      "text/html": [
       "<div>\n",
       "<style scoped>\n",
       "    .dataframe tbody tr th:only-of-type {\n",
       "        vertical-align: middle;\n",
       "    }\n",
       "\n",
       "    .dataframe tbody tr th {\n",
       "        vertical-align: top;\n",
       "    }\n",
       "\n",
       "    .dataframe thead th {\n",
       "        text-align: right;\n",
       "    }\n",
       "</style>\n",
       "<table border=\"1\" class=\"dataframe\">\n",
       "  <thead>\n",
       "    <tr style=\"text-align: right;\">\n",
       "      <th></th>\n",
       "      <th>Name</th>\n",
       "      <th>Sex</th>\n",
       "      <th>Age</th>\n",
       "    </tr>\n",
       "  </thead>\n",
       "  <tbody>\n",
       "    <tr>\n",
       "      <th>0</th>\n",
       "      <td>Cumings, Mrs. John Bradley (Florence Briggs Th...</td>\n",
       "      <td>female</td>\n",
       "      <td>38.0</td>\n",
       "    </tr>\n",
       "    <tr>\n",
       "      <th>1</th>\n",
       "      <td>Futrelle, Mrs. Jacques Heath (Lily May Peel)</td>\n",
       "      <td>female</td>\n",
       "      <td>35.0</td>\n",
       "    </tr>\n",
       "    <tr>\n",
       "      <th>2</th>\n",
       "      <td>McCarthy, Mr. Timothy J</td>\n",
       "      <td>male</td>\n",
       "      <td>54.0</td>\n",
       "    </tr>\n",
       "    <tr>\n",
       "      <th>3</th>\n",
       "      <td>Bonnell, Miss. Elizabeth</td>\n",
       "      <td>female</td>\n",
       "      <td>58.0</td>\n",
       "    </tr>\n",
       "    <tr>\n",
       "      <th>4</th>\n",
       "      <td>Sloper, Mr. William Thompson</td>\n",
       "      <td>male</td>\n",
       "      <td>28.0</td>\n",
       "    </tr>\n",
       "  </tbody>\n",
       "</table>\n",
       "</div>"
      ],
      "text/plain": [
       "                                                Name     Sex   Age\n",
       "0  Cumings, Mrs. John Bradley (Florence Briggs Th...  female  38.0\n",
       "1       Futrelle, Mrs. Jacques Heath (Lily May Peel)  female  35.0\n",
       "2                            McCarthy, Mr. Timothy J    male  54.0\n",
       "3                           Bonnell, Miss. Elizabeth  female  58.0\n",
       "4                       Sloper, Mr. William Thompson    male  28.0"
      ]
     },
     "metadata": {},
     "output_type": "display_data"
    },
    {
     "name": "stdout",
     "output_type": "stream",
     "text": [
      "(200, 3)\n"
     ]
    },
    {
     "data": {
      "text/html": [
       "<div>\n",
       "<style scoped>\n",
       "    .dataframe tbody tr th:only-of-type {\n",
       "        vertical-align: middle;\n",
       "    }\n",
       "\n",
       "    .dataframe tbody tr th {\n",
       "        vertical-align: top;\n",
       "    }\n",
       "\n",
       "    .dataframe thead th {\n",
       "        text-align: right;\n",
       "    }\n",
       "</style>\n",
       "<table border=\"1\" class=\"dataframe\">\n",
       "  <thead>\n",
       "    <tr style=\"text-align: right;\">\n",
       "      <th></th>\n",
       "      <th>Pclass</th>\n",
       "      <th>Survived</th>\n",
       "    </tr>\n",
       "  </thead>\n",
       "  <tbody>\n",
       "    <tr>\n",
       "      <th>0</th>\n",
       "      <td>1</td>\n",
       "      <td>1</td>\n",
       "    </tr>\n",
       "    <tr>\n",
       "      <th>1</th>\n",
       "      <td>1</td>\n",
       "      <td>1</td>\n",
       "    </tr>\n",
       "    <tr>\n",
       "      <th>2</th>\n",
       "      <td>1</td>\n",
       "      <td>0</td>\n",
       "    </tr>\n",
       "    <tr>\n",
       "      <th>3</th>\n",
       "      <td>1</td>\n",
       "      <td>1</td>\n",
       "    </tr>\n",
       "    <tr>\n",
       "      <th>4</th>\n",
       "      <td>1</td>\n",
       "      <td>1</td>\n",
       "    </tr>\n",
       "  </tbody>\n",
       "</table>\n",
       "</div>"
      ],
      "text/plain": [
       "   Pclass  Survived\n",
       "0       1         1\n",
       "1       1         1\n",
       "2       1         0\n",
       "3       1         1\n",
       "4       1         1"
      ]
     },
     "metadata": {},
     "output_type": "display_data"
    },
    {
     "name": "stdout",
     "output_type": "stream",
     "text": [
      "(200, 2)\n"
     ]
    },
    {
     "data": {
      "text/html": [
       "<div>\n",
       "<style scoped>\n",
       "    .dataframe tbody tr th:only-of-type {\n",
       "        vertical-align: middle;\n",
       "    }\n",
       "\n",
       "    .dataframe tbody tr th {\n",
       "        vertical-align: top;\n",
       "    }\n",
       "\n",
       "    .dataframe thead th {\n",
       "        text-align: right;\n",
       "    }\n",
       "</style>\n",
       "<table border=\"1\" class=\"dataframe\">\n",
       "  <thead>\n",
       "    <tr style=\"text-align: right;\">\n",
       "      <th></th>\n",
       "      <th>index</th>\n",
       "      <th>Name</th>\n",
       "      <th>Sex</th>\n",
       "      <th>Age</th>\n",
       "      <th>Pclass</th>\n",
       "      <th>Survived</th>\n",
       "    </tr>\n",
       "  </thead>\n",
       "  <tbody>\n",
       "  </tbody>\n",
       "</table>\n",
       "</div>"
      ],
      "text/plain": [
       "Empty DataFrame\n",
       "Columns: [index, Name, Sex, Age, Pclass, Survived]\n",
       "Index: []"
      ]
     },
     "metadata": {},
     "output_type": "display_data"
    },
    {
     "name": "stdout",
     "output_type": "stream",
     "text": [
      "(200, 6)\n"
     ]
    }
   ],
   "source": [
    "df1 = merged_data[:200].filter(['Name', 'Sex', 'Age'])\n",
    "display(df1.head())\n",
    "print(df1.shape)\n",
    "\n",
    "df2 = merged_data[:200].filter(['Pclass', 'Survived'])\n",
    "display(df2.head())\n",
    "print(df2.shape)\n",
    "\n",
    "final_data2 = pd.concat([df1, df2], axis=1).reset_index()\n",
    "display(final_data2.head(0))\n",
    "print(final_data2.shape)"
   ]
  },
  {
   "cell_type": "markdown",
   "id": "be27483e-2ce6-423c-a548-787b648e4d4d",
   "metadata": {
    "id": "be27483e-2ce6-423c-a548-787b648e4d4d"
   },
   "source": [
    "&nbsp;  \n",
    "#### <font color=\"127C02\">*Deleting Items*</span>\n",
    "\n",
    "We can use drop() to remove a column / row at specific.\n",
    "Bear in mind this is a new Series object unless we use the inplace keyword argument or explicitly using del."
   ]
  },
  {
   "cell_type": "code",
   "execution_count": 61,
   "id": "0d2fde90-438b-40be-8d21-38a4aec7e113",
   "metadata": {
    "id": "0d2fde90-438b-40be-8d21-38a4aec7e113",
    "outputId": "027a5c18-0d7b-4cc8-9595-e515eb16b9c8"
   },
   "outputs": [
    {
     "data": {
      "text/html": [
       "<div>\n",
       "<style scoped>\n",
       "    .dataframe tbody tr th:only-of-type {\n",
       "        vertical-align: middle;\n",
       "    }\n",
       "\n",
       "    .dataframe tbody tr th {\n",
       "        vertical-align: top;\n",
       "    }\n",
       "\n",
       "    .dataframe thead th {\n",
       "        text-align: right;\n",
       "    }\n",
       "</style>\n",
       "<table border=\"1\" class=\"dataframe\">\n",
       "  <thead>\n",
       "    <tr style=\"text-align: right;\">\n",
       "      <th></th>\n",
       "      <th>Name</th>\n",
       "      <th>Sex</th>\n",
       "    </tr>\n",
       "  </thead>\n",
       "  <tbody>\n",
       "    <tr>\n",
       "      <th>0</th>\n",
       "      <td>Cumings, Mrs. John Bradley (Florence Briggs Th...</td>\n",
       "      <td>female</td>\n",
       "    </tr>\n",
       "    <tr>\n",
       "      <th>1</th>\n",
       "      <td>Futrelle, Mrs. Jacques Heath (Lily May Peel)</td>\n",
       "      <td>female</td>\n",
       "    </tr>\n",
       "    <tr>\n",
       "      <th>2</th>\n",
       "      <td>McCarthy, Mr. Timothy J</td>\n",
       "      <td>male</td>\n",
       "    </tr>\n",
       "    <tr>\n",
       "      <th>3</th>\n",
       "      <td>Bonnell, Miss. Elizabeth</td>\n",
       "      <td>female</td>\n",
       "    </tr>\n",
       "    <tr>\n",
       "      <th>4</th>\n",
       "      <td>Sloper, Mr. William Thompson</td>\n",
       "      <td>male</td>\n",
       "    </tr>\n",
       "    <tr>\n",
       "      <th>...</th>\n",
       "      <td>...</td>\n",
       "      <td>...</td>\n",
       "    </tr>\n",
       "    <tr>\n",
       "      <th>195</th>\n",
       "      <td>Carter, Master. William Thornton II</td>\n",
       "      <td>male</td>\n",
       "    </tr>\n",
       "    <tr>\n",
       "      <th>196</th>\n",
       "      <td>Andrews, Mr. Thomas Jr</td>\n",
       "      <td>male</td>\n",
       "    </tr>\n",
       "    <tr>\n",
       "      <th>197</th>\n",
       "      <td>Chambers, Mrs. Norman Campbell (Bertha Griggs)</td>\n",
       "      <td>female</td>\n",
       "    </tr>\n",
       "    <tr>\n",
       "      <th>198</th>\n",
       "      <td>Fry, Mr. Richard</td>\n",
       "      <td>male</td>\n",
       "    </tr>\n",
       "    <tr>\n",
       "      <th>199</th>\n",
       "      <td>Hays, Mrs. Charles Melville (Clara Jennings Gr...</td>\n",
       "      <td>female</td>\n",
       "    </tr>\n",
       "  </tbody>\n",
       "</table>\n",
       "<p>200 rows × 2 columns</p>\n",
       "</div>"
      ],
      "text/plain": [
       "                                                  Name     Sex\n",
       "0    Cumings, Mrs. John Bradley (Florence Briggs Th...  female\n",
       "1         Futrelle, Mrs. Jacques Heath (Lily May Peel)  female\n",
       "2                              McCarthy, Mr. Timothy J    male\n",
       "3                             Bonnell, Miss. Elizabeth  female\n",
       "4                         Sloper, Mr. William Thompson    male\n",
       "..                                                 ...     ...\n",
       "195                Carter, Master. William Thornton II    male\n",
       "196                             Andrews, Mr. Thomas Jr    male\n",
       "197     Chambers, Mrs. Norman Campbell (Bertha Griggs)  female\n",
       "198                                   Fry, Mr. Richard    male\n",
       "199  Hays, Mrs. Charles Melville (Clara Jennings Gr...  female\n",
       "\n",
       "[200 rows x 2 columns]"
      ]
     },
     "execution_count": 61,
     "metadata": {},
     "output_type": "execute_result"
    }
   ],
   "source": [
    "df1.drop(\n",
    "    'Age', axis=1\n",
    ")  #axis = 1 for column. This create a copy of df1 that is not includes 'Age'\n",
    "#df1.drop('Age', axis = 1, inplace = True) #this will delete column 'Age' from df1\n",
    "#del df1['Age'] #this also delete column 'Age' from df1"
   ]
  },
  {
   "cell_type": "code",
   "execution_count": 62,
   "id": "185da347-cef2-4b28-8255-06a8dd868780",
   "metadata": {
    "colab": {
     "base_uri": "https://localhost:8080/",
     "height": 423
    },
    "executionInfo": {
     "elapsed": 347,
     "status": "ok",
     "timestamp": 1670239339199,
     "user": {
      "displayName": "Thammakorn SAETHANG",
      "userId": "08182570455347153646"
     },
     "user_tz": -420
    },
    "id": "185da347-cef2-4b28-8255-06a8dd868780",
    "outputId": "5b2981af-d9f3-4bec-92bd-9f22f168f2a8"
   },
   "outputs": [
    {
     "data": {
      "text/html": [
       "<div>\n",
       "<style scoped>\n",
       "    .dataframe tbody tr th:only-of-type {\n",
       "        vertical-align: middle;\n",
       "    }\n",
       "\n",
       "    .dataframe tbody tr th {\n",
       "        vertical-align: top;\n",
       "    }\n",
       "\n",
       "    .dataframe thead th {\n",
       "        text-align: right;\n",
       "    }\n",
       "</style>\n",
       "<table border=\"1\" class=\"dataframe\">\n",
       "  <thead>\n",
       "    <tr style=\"text-align: right;\">\n",
       "      <th></th>\n",
       "      <th>Name</th>\n",
       "      <th>Sex</th>\n",
       "      <th>Age</th>\n",
       "    </tr>\n",
       "  </thead>\n",
       "  <tbody>\n",
       "    <tr>\n",
       "      <th>0</th>\n",
       "      <td>Cumings, Mrs. John Bradley (Florence Briggs Th...</td>\n",
       "      <td>female</td>\n",
       "      <td>38.0</td>\n",
       "    </tr>\n",
       "    <tr>\n",
       "      <th>2</th>\n",
       "      <td>McCarthy, Mr. Timothy J</td>\n",
       "      <td>male</td>\n",
       "      <td>54.0</td>\n",
       "    </tr>\n",
       "    <tr>\n",
       "      <th>4</th>\n",
       "      <td>Sloper, Mr. William Thompson</td>\n",
       "      <td>male</td>\n",
       "      <td>28.0</td>\n",
       "    </tr>\n",
       "    <tr>\n",
       "      <th>5</th>\n",
       "      <td>Fortune, Mr. Charles Alexander</td>\n",
       "      <td>male</td>\n",
       "      <td>19.0</td>\n",
       "    </tr>\n",
       "    <tr>\n",
       "      <th>6</th>\n",
       "      <td>Uruchurtu, Don. Manuel E</td>\n",
       "      <td>male</td>\n",
       "      <td>40.0</td>\n",
       "    </tr>\n",
       "    <tr>\n",
       "      <th>...</th>\n",
       "      <td>...</td>\n",
       "      <td>...</td>\n",
       "      <td>...</td>\n",
       "    </tr>\n",
       "    <tr>\n",
       "      <th>195</th>\n",
       "      <td>Carter, Master. William Thornton II</td>\n",
       "      <td>male</td>\n",
       "      <td>11.0</td>\n",
       "    </tr>\n",
       "    <tr>\n",
       "      <th>196</th>\n",
       "      <td>Andrews, Mr. Thomas Jr</td>\n",
       "      <td>male</td>\n",
       "      <td>39.0</td>\n",
       "    </tr>\n",
       "    <tr>\n",
       "      <th>197</th>\n",
       "      <td>Chambers, Mrs. Norman Campbell (Bertha Griggs)</td>\n",
       "      <td>female</td>\n",
       "      <td>33.0</td>\n",
       "    </tr>\n",
       "    <tr>\n",
       "      <th>198</th>\n",
       "      <td>Fry, Mr. Richard</td>\n",
       "      <td>male</td>\n",
       "      <td>NaN</td>\n",
       "    </tr>\n",
       "    <tr>\n",
       "      <th>199</th>\n",
       "      <td>Hays, Mrs. Charles Melville (Clara Jennings Gr...</td>\n",
       "      <td>female</td>\n",
       "      <td>52.0</td>\n",
       "    </tr>\n",
       "  </tbody>\n",
       "</table>\n",
       "<p>198 rows × 3 columns</p>\n",
       "</div>"
      ],
      "text/plain": [
       "                                                  Name     Sex   Age\n",
       "0    Cumings, Mrs. John Bradley (Florence Briggs Th...  female  38.0\n",
       "2                              McCarthy, Mr. Timothy J    male  54.0\n",
       "4                         Sloper, Mr. William Thompson    male  28.0\n",
       "5                       Fortune, Mr. Charles Alexander    male  19.0\n",
       "6                             Uruchurtu, Don. Manuel E    male  40.0\n",
       "..                                                 ...     ...   ...\n",
       "195                Carter, Master. William Thornton II    male  11.0\n",
       "196                             Andrews, Mr. Thomas Jr    male  39.0\n",
       "197     Chambers, Mrs. Norman Campbell (Bertha Griggs)  female  33.0\n",
       "198                                   Fry, Mr. Richard    male   NaN\n",
       "199  Hays, Mrs. Charles Melville (Clara Jennings Gr...  female  52.0\n",
       "\n",
       "[198 rows x 3 columns]"
      ]
     },
     "execution_count": 62,
     "metadata": {},
     "output_type": "execute_result"
    }
   ],
   "source": [
    "df1.drop([1, 3], axis=0)"
   ]
  },
  {
   "cell_type": "markdown",
   "id": "d5a5938b-2337-4123-b7bc-995ca2ed6426",
   "metadata": {
    "id": "d5a5938b-2337-4123-b7bc-995ca2ed6426"
   },
   "source": [
    "&nbsp;  \n",
    "#### <font color=\"127C02\">*Joining Dataframes*</span>\n",
    "\n",
    "pandas provides various facilities for easily combining together dataframe with various kinds of set logic for the indexes and relational algebra functionality in the case of join / merge-type operations.\n",
    "\n",
    "In addition, pandas also provides utilities to compare two dataFrame and summarize their differences."
   ]
  },
  {
   "cell_type": "markdown",
   "id": "605d95ea-ba98-459f-9edd-36467e7c0b2a",
   "metadata": {
    "id": "605d95ea-ba98-459f-9edd-36467e7c0b2a"
   },
   "source": [
    "\\\n",
    "Suppose we have two dataframes as in the following:"
   ]
  },
  {
   "cell_type": "code",
   "execution_count": 63,
   "id": "a9bfc717-6c9c-49d6-8505-15d200f75db8",
   "metadata": {
    "colab": {
     "base_uri": "https://localhost:8080/",
     "height": 175
    },
    "executionInfo": {
     "elapsed": 692,
     "status": "ok",
     "timestamp": 1671272837145,
     "user": {
      "displayName": "Thammakorn SAETHANG",
      "userId": "08182570455347153646"
     },
     "user_tz": -420
    },
    "id": "a9bfc717-6c9c-49d6-8505-15d200f75db8",
    "outputId": "45257c31-8d59-4810-8557-c12882498749"
   },
   "outputs": [
    {
     "data": {
      "text/html": [
       "<div>\n",
       "<style scoped>\n",
       "    .dataframe tbody tr th:only-of-type {\n",
       "        vertical-align: middle;\n",
       "    }\n",
       "\n",
       "    .dataframe tbody tr th {\n",
       "        vertical-align: top;\n",
       "    }\n",
       "\n",
       "    .dataframe thead th {\n",
       "        text-align: right;\n",
       "    }\n",
       "</style>\n",
       "<table border=\"1\" class=\"dataframe\">\n",
       "  <thead>\n",
       "    <tr style=\"text-align: right;\">\n",
       "      <th></th>\n",
       "      <th>Name</th>\n",
       "      <th>Age</th>\n",
       "    </tr>\n",
       "  </thead>\n",
       "  <tbody>\n",
       "    <tr>\n",
       "      <th>0</th>\n",
       "      <td>John</td>\n",
       "      <td>23.0</td>\n",
       "    </tr>\n",
       "    <tr>\n",
       "      <th>1</th>\n",
       "      <td>Linda</td>\n",
       "      <td>31.0</td>\n",
       "    </tr>\n",
       "    <tr>\n",
       "      <th>2</th>\n",
       "      <td>Jack</td>\n",
       "      <td>NaN</td>\n",
       "    </tr>\n",
       "    <tr>\n",
       "      <th>3</th>\n",
       "      <td>Marry</td>\n",
       "      <td>15.0</td>\n",
       "    </tr>\n",
       "  </tbody>\n",
       "</table>\n",
       "</div>"
      ],
      "text/plain": [
       "    Name   Age\n",
       "0   John  23.0\n",
       "1  Linda  31.0\n",
       "2   Jack   NaN\n",
       "3  Marry  15.0"
      ]
     },
     "execution_count": 63,
     "metadata": {},
     "output_type": "execute_result"
    }
   ],
   "source": [
    "df1 = pd.DataFrame({\n",
    "    'Name': ['John', 'Linda', 'Jack', 'Marry'],\n",
    "    'Age': [23, 31, np.NaN, 15]\n",
    "})\n",
    "df1"
   ]
  },
  {
   "cell_type": "code",
   "execution_count": 64,
   "id": "dc7cca09-d2bc-40c5-9277-54fa7b6aea07",
   "metadata": {
    "colab": {
     "base_uri": "https://localhost:8080/",
     "height": 175
    },
    "executionInfo": {
     "elapsed": 376,
     "status": "ok",
     "timestamp": 1671272851464,
     "user": {
      "displayName": "Thammakorn SAETHANG",
      "userId": "08182570455347153646"
     },
     "user_tz": -420
    },
    "id": "dc7cca09-d2bc-40c5-9277-54fa7b6aea07",
    "outputId": "20a263b2-2b8a-40c5-d9f2-26d2ee3afaf3"
   },
   "outputs": [
    {
     "data": {
      "text/html": [
       "<div>\n",
       "<style scoped>\n",
       "    .dataframe tbody tr th:only-of-type {\n",
       "        vertical-align: middle;\n",
       "    }\n",
       "\n",
       "    .dataframe tbody tr th {\n",
       "        vertical-align: top;\n",
       "    }\n",
       "\n",
       "    .dataframe thead th {\n",
       "        text-align: right;\n",
       "    }\n",
       "</style>\n",
       "<table border=\"1\" class=\"dataframe\">\n",
       "  <thead>\n",
       "    <tr style=\"text-align: right;\">\n",
       "      <th></th>\n",
       "      <th>Name</th>\n",
       "      <th>Email</th>\n",
       "    </tr>\n",
       "  </thead>\n",
       "  <tbody>\n",
       "    <tr>\n",
       "      <th>0</th>\n",
       "      <td>Eric</td>\n",
       "      <td>Eric@mail.com</td>\n",
       "    </tr>\n",
       "    <tr>\n",
       "      <th>1</th>\n",
       "      <td>Linda</td>\n",
       "      <td>Linda@mail.com</td>\n",
       "    </tr>\n",
       "    <tr>\n",
       "      <th>2</th>\n",
       "      <td>Ken</td>\n",
       "      <td>Ken@mail.com</td>\n",
       "    </tr>\n",
       "    <tr>\n",
       "      <th>3</th>\n",
       "      <td>Marry</td>\n",
       "      <td>Marry@mail.com</td>\n",
       "    </tr>\n",
       "  </tbody>\n",
       "</table>\n",
       "</div>"
      ],
      "text/plain": [
       "    Name           Email\n",
       "0   Eric   Eric@mail.com\n",
       "1  Linda  Linda@mail.com\n",
       "2    Ken    Ken@mail.com\n",
       "3  Marry  Marry@mail.com"
      ]
     },
     "execution_count": 64,
     "metadata": {},
     "output_type": "execute_result"
    }
   ],
   "source": [
    "df2 = pd.DataFrame({\n",
    "    'Name': ['Eric', 'Linda', 'Ken', 'Marry'],\n",
    "    'Email': [\n",
    "        'Eric@mail.com', 'Linda@mail.com', 'Ken@mail.com', 'Marry@mail.com'\n",
    "    ]\n",
    "})\n",
    "df2"
   ]
  },
  {
   "cell_type": "markdown",
   "id": "92c36cf4-cef4-4aee-b91b-20e401a29898",
   "metadata": {
    "id": "92c36cf4-cef4-4aee-b91b-20e401a29898"
   },
   "source": [
    "\\\n",
    "***Inner Join***    \n",
    "Inner join is the most common type of join you’ll be working with. It returns a dataframe with only those rows that have common characteristics.\n",
    "An inner join requires each row in the two joined dataframes to have matching column values. This is similar to the intersection of two sets."
   ]
  },
  {
   "cell_type": "markdown",
   "id": "c68cef37-5fff-45dd-bb15-6a7cb612c4b4",
   "metadata": {
    "id": "c68cef37-5fff-45dd-bb15-6a7cb612c4b4"
   },
   "source": [
    "![Inner.png](data:image/png;base64,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)"
   ]
  },
  {
   "cell_type": "code",
   "execution_count": 65,
   "id": "81567d3a-7527-4715-b00e-33c4350b11fe",
   "metadata": {
    "colab": {
     "base_uri": "https://localhost:8080/",
     "height": 112
    },
    "executionInfo": {
     "elapsed": 366,
     "status": "ok",
     "timestamp": 1671272935825,
     "user": {
      "displayName": "Thammakorn SAETHANG",
      "userId": "08182570455347153646"
     },
     "user_tz": -420
    },
    "id": "81567d3a-7527-4715-b00e-33c4350b11fe",
    "outputId": "07327fa8-8a7f-44d8-cb26-5deb87cb519b"
   },
   "outputs": [
    {
     "data": {
      "text/html": [
       "<div>\n",
       "<style scoped>\n",
       "    .dataframe tbody tr th:only-of-type {\n",
       "        vertical-align: middle;\n",
       "    }\n",
       "\n",
       "    .dataframe tbody tr th {\n",
       "        vertical-align: top;\n",
       "    }\n",
       "\n",
       "    .dataframe thead th {\n",
       "        text-align: right;\n",
       "    }\n",
       "</style>\n",
       "<table border=\"1\" class=\"dataframe\">\n",
       "  <thead>\n",
       "    <tr style=\"text-align: right;\">\n",
       "      <th></th>\n",
       "      <th>Name</th>\n",
       "      <th>Age</th>\n",
       "      <th>Email</th>\n",
       "    </tr>\n",
       "  </thead>\n",
       "  <tbody>\n",
       "    <tr>\n",
       "      <th>0</th>\n",
       "      <td>Linda</td>\n",
       "      <td>31.0</td>\n",
       "      <td>Linda@mail.com</td>\n",
       "    </tr>\n",
       "    <tr>\n",
       "      <th>1</th>\n",
       "      <td>Marry</td>\n",
       "      <td>15.0</td>\n",
       "      <td>Marry@mail.com</td>\n",
       "    </tr>\n",
       "  </tbody>\n",
       "</table>\n",
       "</div>"
      ],
      "text/plain": [
       "    Name   Age           Email\n",
       "0  Linda  31.0  Linda@mail.com\n",
       "1  Marry  15.0  Marry@mail.com"
      ]
     },
     "execution_count": 65,
     "metadata": {},
     "output_type": "execute_result"
    }
   ],
   "source": [
    "pd.merge(df1, df2, how='inner', on='Name')"
   ]
  },
  {
   "cell_type": "markdown",
   "id": "d1c059d7-ec57-4e54-9091-52f746d212dd",
   "metadata": {
    "id": "d1c059d7-ec57-4e54-9091-52f746d212dd"
   },
   "source": [
    "\\\n",
    "***Full Join***  \n",
    "Full Join, also known as Full Outer Join, returns all those records which either have a match in the left or right dataframe."
   ]
  },
  {
   "cell_type": "markdown",
   "id": "593b4351-3761-42d9-b932-434ec2c68fdd",
   "metadata": {
    "id": "593b4351-3761-42d9-b932-434ec2c68fdd"
   },
   "source": [
    "![All.png](data:image/png;base64,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)"
   ]
  },
  {
   "cell_type": "code",
   "execution_count": 66,
   "id": "8bc79fcc-dfb7-4650-89bc-dc0a81fb1925",
   "metadata": {
    "colab": {
     "base_uri": "https://localhost:8080/",
     "height": 237
    },
    "executionInfo": {
     "elapsed": 380,
     "status": "ok",
     "timestamp": 1670240280496,
     "user": {
      "displayName": "Thammakorn SAETHANG",
      "userId": "08182570455347153646"
     },
     "user_tz": -420
    },
    "id": "8bc79fcc-dfb7-4650-89bc-dc0a81fb1925",
    "outputId": "b769799a-4a51-467c-8dec-61828c91dafa"
   },
   "outputs": [
    {
     "data": {
      "text/html": [
       "<div>\n",
       "<style scoped>\n",
       "    .dataframe tbody tr th:only-of-type {\n",
       "        vertical-align: middle;\n",
       "    }\n",
       "\n",
       "    .dataframe tbody tr th {\n",
       "        vertical-align: top;\n",
       "    }\n",
       "\n",
       "    .dataframe thead th {\n",
       "        text-align: right;\n",
       "    }\n",
       "</style>\n",
       "<table border=\"1\" class=\"dataframe\">\n",
       "  <thead>\n",
       "    <tr style=\"text-align: right;\">\n",
       "      <th></th>\n",
       "      <th>Name</th>\n",
       "      <th>Age</th>\n",
       "      <th>Email</th>\n",
       "    </tr>\n",
       "  </thead>\n",
       "  <tbody>\n",
       "    <tr>\n",
       "      <th>0</th>\n",
       "      <td>John</td>\n",
       "      <td>23.0</td>\n",
       "      <td>NaN</td>\n",
       "    </tr>\n",
       "    <tr>\n",
       "      <th>1</th>\n",
       "      <td>Linda</td>\n",
       "      <td>31.0</td>\n",
       "      <td>Linda@mail.com</td>\n",
       "    </tr>\n",
       "    <tr>\n",
       "      <th>2</th>\n",
       "      <td>Jack</td>\n",
       "      <td>NaN</td>\n",
       "      <td>NaN</td>\n",
       "    </tr>\n",
       "    <tr>\n",
       "      <th>3</th>\n",
       "      <td>Marry</td>\n",
       "      <td>15.0</td>\n",
       "      <td>Marry@mail.com</td>\n",
       "    </tr>\n",
       "    <tr>\n",
       "      <th>4</th>\n",
       "      <td>Eric</td>\n",
       "      <td>NaN</td>\n",
       "      <td>Eric@mail.com</td>\n",
       "    </tr>\n",
       "    <tr>\n",
       "      <th>5</th>\n",
       "      <td>Ken</td>\n",
       "      <td>NaN</td>\n",
       "      <td>Ken@mail.com</td>\n",
       "    </tr>\n",
       "  </tbody>\n",
       "</table>\n",
       "</div>"
      ],
      "text/plain": [
       "    Name   Age           Email\n",
       "0   John  23.0             NaN\n",
       "1  Linda  31.0  Linda@mail.com\n",
       "2   Jack   NaN             NaN\n",
       "3  Marry  15.0  Marry@mail.com\n",
       "4   Eric   NaN   Eric@mail.com\n",
       "5    Ken   NaN    Ken@mail.com"
      ]
     },
     "execution_count": 66,
     "metadata": {},
     "output_type": "execute_result"
    }
   ],
   "source": [
    "pd.merge(df1, df2, how='outer', on='Name')"
   ]
  },
  {
   "cell_type": "markdown",
   "id": "152bbbed-8161-4521-8e01-51aa95af5dc7",
   "metadata": {
    "id": "152bbbed-8161-4521-8e01-51aa95af5dc7"
   },
   "source": [
    "\\\n",
    "All the non-matching rows of both the dataframes have NaN values for the columns of other dataframes. But we still don’t know which row belongs to which dataframe.  \n",
    "For this, Pandas provides us with a fantastic solution. We just have to mention the indicator argument as True in the function, and a new column of name _merge will be created in the resulting dataframe:"
   ]
  },
  {
   "cell_type": "code",
   "execution_count": 67,
   "id": "da1fbfa3-43ca-476b-a856-b4d705992a6d",
   "metadata": {
    "colab": {
     "base_uri": "https://localhost:8080/",
     "height": 237
    },
    "executionInfo": {
     "elapsed": 497,
     "status": "ok",
     "timestamp": 1670240310936,
     "user": {
      "displayName": "Thammakorn SAETHANG",
      "userId": "08182570455347153646"
     },
     "user_tz": -420
    },
    "id": "da1fbfa3-43ca-476b-a856-b4d705992a6d",
    "outputId": "005cff0d-5638-4c70-a2e8-7830b40f3940"
   },
   "outputs": [
    {
     "data": {
      "text/html": [
       "<div>\n",
       "<style scoped>\n",
       "    .dataframe tbody tr th:only-of-type {\n",
       "        vertical-align: middle;\n",
       "    }\n",
       "\n",
       "    .dataframe tbody tr th {\n",
       "        vertical-align: top;\n",
       "    }\n",
       "\n",
       "    .dataframe thead th {\n",
       "        text-align: right;\n",
       "    }\n",
       "</style>\n",
       "<table border=\"1\" class=\"dataframe\">\n",
       "  <thead>\n",
       "    <tr style=\"text-align: right;\">\n",
       "      <th></th>\n",
       "      <th>Name</th>\n",
       "      <th>Age</th>\n",
       "      <th>Email</th>\n",
       "      <th>_merge</th>\n",
       "    </tr>\n",
       "  </thead>\n",
       "  <tbody>\n",
       "    <tr>\n",
       "      <th>0</th>\n",
       "      <td>John</td>\n",
       "      <td>23.0</td>\n",
       "      <td>NaN</td>\n",
       "      <td>left_only</td>\n",
       "    </tr>\n",
       "    <tr>\n",
       "      <th>1</th>\n",
       "      <td>Linda</td>\n",
       "      <td>31.0</td>\n",
       "      <td>Linda@mail.com</td>\n",
       "      <td>both</td>\n",
       "    </tr>\n",
       "    <tr>\n",
       "      <th>2</th>\n",
       "      <td>Jack</td>\n",
       "      <td>NaN</td>\n",
       "      <td>NaN</td>\n",
       "      <td>left_only</td>\n",
       "    </tr>\n",
       "    <tr>\n",
       "      <th>3</th>\n",
       "      <td>Marry</td>\n",
       "      <td>15.0</td>\n",
       "      <td>Marry@mail.com</td>\n",
       "      <td>both</td>\n",
       "    </tr>\n",
       "    <tr>\n",
       "      <th>4</th>\n",
       "      <td>Eric</td>\n",
       "      <td>NaN</td>\n",
       "      <td>Eric@mail.com</td>\n",
       "      <td>right_only</td>\n",
       "    </tr>\n",
       "    <tr>\n",
       "      <th>5</th>\n",
       "      <td>Ken</td>\n",
       "      <td>NaN</td>\n",
       "      <td>Ken@mail.com</td>\n",
       "      <td>right_only</td>\n",
       "    </tr>\n",
       "  </tbody>\n",
       "</table>\n",
       "</div>"
      ],
      "text/plain": [
       "    Name   Age           Email      _merge\n",
       "0   John  23.0             NaN   left_only\n",
       "1  Linda  31.0  Linda@mail.com        both\n",
       "2   Jack   NaN             NaN   left_only\n",
       "3  Marry  15.0  Marry@mail.com        both\n",
       "4   Eric   NaN   Eric@mail.com  right_only\n",
       "5    Ken   NaN    Ken@mail.com  right_only"
      ]
     },
     "execution_count": 67,
     "metadata": {},
     "output_type": "execute_result"
    }
   ],
   "source": [
    "pd.merge(df1, df2, how='outer', on='Name', indicator=True)"
   ]
  },
  {
   "cell_type": "markdown",
   "id": "e81dd239-b803-46a3-895b-5952a235108f",
   "metadata": {
    "id": "e81dd239-b803-46a3-895b-5952a235108f"
   },
   "source": [
    "\\\n",
    "***Left Join***  \n",
    "Left join, also known as Left Outer Join, returns a dataframe containing all the rows of the left dataframe."
   ]
  },
  {
   "cell_type": "markdown",
   "id": "8f1b0dcb-938c-41d5-bba7-a4193fc147a5",
   "metadata": {
    "id": "8f1b0dcb-938c-41d5-bba7-a4193fc147a5"
   },
   "source": [
    "![Left.png](data:image/png;base64,iVBORw0KGgoAAAANSUhEUgAAAMgAAACYCAYAAACh1qZpAAAAAXNSR0IArs4c6QAAAIRlWElmTU0AKgAAAAgABQESAAMAAAABAAEAAAEaAAUAAAABAAAASgEbAAUAAAABAAAAUgEoAAMAAAABAAIAAIdpAAQAAAABAAAAWgAAAAAAAABIAAAAAQAAAEgAAAABAAOgAQADAAAAAQABAACgAgAEAAAAAQAAAMigAwAEAAAAAQAAAJgAAAAAUHKfXQAAAAlwSFlzAAALEwAACxMBAJqcGAAAAVlpVFh0WE1MOmNvbS5hZG9iZS54bXAAAAAAADx4OnhtcG1ldGEgeG1sbnM6eD0iYWRvYmU6bnM6bWV0YS8iIHg6eG1wdGs9IlhNUCBDb3JlIDYuMC4wIj4KICAgPHJkZjpSREYgeG1sbnM6cmRmPSJodHRwOi8vd3d3LnczLm9yZy8xOTk5LzAyLzIyLXJkZi1zeW50YXgtbnMjIj4KICAgICAgPHJkZjpEZXNjcmlwdGlvbiByZGY6YWJvdXQ9IiIKICAgICAgICAgICAgeG1sbnM6dGlmZj0iaHR0cDovL25zLmFkb2JlLmNvbS90aWZmLzEuMC8iPgogICAgICAgICA8dGlmZjpPcmllbnRhdGlvbj4xPC90aWZmOk9yaWVudGF0aW9uPgogICAgICA8L3JkZjpEZXNjcmlwdGlvbj4KICAgPC9yZGY6UkRGPgo8L3g6eG1wbWV0YT4KGV7hBwAAQABJREFUeAHtfQlgFNX9/5vZ2XtzHyRASIAAIQmJEE4v4i1aVKCh/VWt9vjhv1apoK36q9W11tbaCqitrbZWq621REDFW6uLFAE1QIAECCEkJCTkvnaz18zO//Od3YVwhGwgd+bBZHfnePPe573v+b7vPcbUpCKgIqAioCKgIqAioCKgIqAioCKgIqAioCKgIqAioCKgIqAioCKgIjCEEeCGcNnVovcfAmfqJ3L/vX7g3iQM3KsH5M3Bhh4RjduLCPPIK4hd52zpHGEpdj6pfh+aCFBjEkOggxpcTd0jcCaiONNTw5bRhgrAmUAZSueCnK5zmYlIfJ1PqN9PQiCIWRjO3orDiIMkRZC5OPG9DMcmHG4cGhwSDjUNMQSCDUpc7mc4/o4jLVCH4LXAT/WjEwJBbMbjHKlRXR0FuDYx8BwRiZqGGAL6QHnn4TPYyM8HzmmHWF36s7hBAknES0lyfI3jAhyzcFyI41Icf8JBmL6PI5iCzwV/q5+DGAFSE4JcjRrTg6MYhwNHHA5Kwev+X+rfIALBjp6AE0QEHwcvnPL5ReA6ERKl4HP+X0P877CqzBnagjo/6cWkP9+Og/TlX+Ew4bgZB6Vha2D6q9drf7vqK0Q8lIj5qGmIIRDs/ItQbmrIuwLlJ5WhKPCdPrpq/E63jLivQUxIMhB2JCmicYzCkYRjLI57cdC1Z3AEE0ltNQ0BBDo3FOnI1JAZgXKvD/y+PPDbEPhUP04gECSQZJxqxUH4nenYh/MWHJRUm86Pw5D427mBqWHf7FTqi/Gdzv0jcI5Usc4EFTg9oj+C+JGkcOOow/EHHH/G8Rccf8MRtD8+xPcgkQSfwyk1DWYEgsb3AygkEcMPcZDKFY+DDPRyHC4cKTgo6fwf6t8AAsGOHjTSP+oCmRdxnvAldYtS8Dn/L/XvoEaApMJuHNSAXR33B2pA6oEqRQJg4CPY0YMEYgtcovPETMjRQSkTB2G7kX4gDSsMg0asv2rD52/Qe5WLKk3DsQUHNWA4Dho9JyOdxkcexHErjjU4SI0gPOiamk5HIIgL4Uceq6DXakLg1sbAJxEIEYyaBjECQWPx7ygjNdYVXZT1g8D1KwPXhyvD6KL6Zz0dlCCJuItc5dtwTMRBUQjEdKbiIFd5Ew7C+BoclIKqrf+X+nfQIRBsoEiUzImjAgeNgxBno08iHvqklIeDGvcf9COQ6D41nVCxxgMMwuhsxy86ATas8BuOHJPqRBzvf3GQ+3YdDiIU0pvpkxKpCZQ+wdGMgzjhb3DQ2AhxTnp+pCciCEokIf4PhxkHqVnEgOgaqVhHcfwXx0EclIg4gs8pJ9Q/gw+BoGpwCYp2B46xgSIGJQv97Mzl6D4aQEzBQanzNf+Zkfs3VCwI2yDuwwqtUAEYapWmxgpKCSr7qb+D9aH6d+Z4p/4O3jfSP7vSNIJE4T0Fx2GD13AlEGogqhtxNiKUzsSCnycluofuDXppTrqo/lAQ6KqfdGYuKlQqAioCKgIqAioCKgLHEehKdB6/YWh+kbm8vKV8fX0G1z45kXM115xWT0NUoqIehJXUyLZcqGDWR/CbU1WGYINbrXxeUTpXFtXMn8Avnbntxzi9pUnBiTBU8Isrkln+Wqixww+/0zpOEJ+h8pmXl6cpK7uSd00AEWAqVFFREVy0+efmps21Chlxfm9MXD3z+QnHejb7ZajAdJZyWvncXMbXo95uezQXkaT3FYyukZi15/XOy1urKWbFmmA+E5qjfPn5Swm/Ict4hhKB+MtqtXLE2ajFAX6XhJCz7HkT62ARtQcrLVU7W7WRqWa9Ts8ZJB8vuTo8HkeN1z1tfrI7LNpgj4j0tr7/7HIKNTljooanC/n5xWhoKzX2UG1wDh0/JPyozvu1DeHM7Y4SfL4wxnNaiWNGjcR4kXEercB7PKKvQyPIbSLTtxbl/9h+RvDoZEAa5bN8gKhIGjo7JDAc3AQiyxxbms+jZwLP/DNwojxNRGZKiuziUzmBTdPqNBM1GjbaaNYnGMMNUbIks7CY8FidSWeSfbIHvipSA8hlpZFlJtib2xo9HZ4Omcm+9mZnvc8r1aLVK3mOO8BxmmI9zw5VFT5Og2GnJJSLLeWVcfjBrVpwLG8tn1tfzHUlDTNvWDMK2E3hmZwtc9w0zicno3YJqGAEKo3T8ARyDHAx0IcMhqSoUTx+awhH3EMd3SeDaHAd8VjyUcZxJbiz0KfhivQeY2nBxjs6TgGQHWc6GWA65yCtTs2vr36jjoMv5ULVsbUncqzgDvKvd0p365mWyzSO1c0Lj9LNiYoPn26JsiSFxUaawmKimSU6UjaFR/iM4eEevdFk5rVCk1avN/GC1iTLPi/P8ZIMosNBfn2NJHrrJK/HKLo9gtvhcHa0teodLa2+9oZGob2hWWpvanO0N9nL25o6drgd0naEMm5rP/DkgU4Fwlcrn5HBhPT0dOlsEu3kZ/r4Fzh2RhETFDXRZj3JfT1tyeoJGsZfIsvSJej/M2TmA9Ac3XMUnfwQKOKgT/aVgSoqRB9r4nWsSWAeu93N+dzR8V6htl02SW7BbfDxFlmjZxpdhFsjRnESF8druInAdiIATkV+ExjHR4L5iOhkpXjHNhDe5wYDv3X7P5e3dUYgI8+qM5QlygWntXfnuwbm+6AiEKhF2oJP9/Ks9Nnj6k5G3qroos8qL4qM1V01alzkpbHj4tLixo3Th8dFSZGJo5klKtqrMxlEjRZKgD/OSgOWxiu8DvzNR0qYT+GAHFWW2J2SiAVSVBYSsUfezwtF3CThGbfkZZLLbte0NtRxTUerhZbqWkNdxdG65mMt+6srWm2eI+7386x37sy3ZgSjWllKrtWQgvEU2ymdUnlJf/wBYeSWJ+tsKRWezlw5a8maOZyP3QTWMB8dNRk1bkbHLYSk3ITPLY4OobT0/a5VzHMtOrWdVuaygH8uiO9CvHcy8oJcZ3vx/W2NqH1/59t3VwfzJ0JhLJ0V5S89jmnw2kB9DgoCIcJoBWGUBgjDCg6/Ov3B3I52z43j02IvTZw0ZnLCpAn6+OQUOTw+3mm06BinYQKIQOfzQeYDcSIEqFHAEU2OP5xCDviKHsHhF7gXXfQnSBGl4orKhZtxFzgfqV50N4gFB48f/oNUOxcRjaPFITVXVxkbjlTqaw8daa7cV7nnSEnrptSs2HdKP/35jmD2Y+etMM4bO8/TfxJF5ublrTZszV9JE8CUemYvemqyzPjvoh7XomqYJCaXgg28yzjfB4XrVnaej68Um6R2lTFasbXIS0UcfcIEGNmKCvRIALtgdwn8tD7KwSvC5Qa8ha2VbiCGeQR4vij/EUj/k71aKbdbDRHtkfOZz3cdcJ6HkobLPNvPfNz6Dhf/7yCRpi54Rq+3JCCPgSeUYI0VkPr9Dzhe6vZobRCYhfe+FrvpnV236HT8osmzJk4fN21qWPyE8R2R8YluvZkTZB8zoqMKRAw+EAPUJuAMdRi14PEHzXbe9QF9KHSGjGSfz0cfHA/xQhKGDhCNBy9yutq9clPNUUP1/v182Y59dYf31hTEJFj+/eTmh9cu5TiSW4waGnUjbhjoUb2PcEbeWl1Rft7xzgjC+AYKuRzoTANXOAhEYMRJb+9cf19F57dT2eIsIt/G2qQiBs9f/jl6/jpnetJ3mcvNfVRDREfv8USZxYIXTlaZs29aNVvmuf8ByNcBIshz7h3ZK67evfGnhykrKuN0S4LYf4zmpAooP1C2AUkcpIYQBGze//v7mJLN++8yRxmWTJ2XnpxyQRYXm5zihaSgjqUDQWgVopCgK6EDgygUfcrP9Pu+/EQlKIhCMJBMXFDCgGA8kGJue0sbqzlYKpZsL5DKCyvKTWGG166//9vPPXvdJEVVVGyqXla7yMj1c3e/OzZr0ZrvQk7+DIQRA8JY55Oll/a8eV/BCXTQYW9/WV8FG6LUslnsfYI48aYuvoFgrJryFCYItdFykCnSvfPyVhk7fGwhJMkPQNAzcepznyQ/vOetlXvouqJ6v7AMdtLJEomu9XXqZwJB9ybvT2Cc4uLvPBd16MDRn5kiTbelX3JBwsQZObArRnkELdNKIiQFqU+K2gQODNaOh/u5vKfDr0gYf5noYpBYZBCLy+30iXVlh5x7P9vMHS4srzOYtX8osz3850Au8CjlkUfuDN6409/T1ZlTCSN7yaqlKMbjQMgE1vGMz6N7Yc+7d1IIv5L8ej3GhzIQazaIvEVUDwxbadJhk3SWEFmLV89AS/8U/GghWvtDSdL8bO+byw9RZRRGkwuLph/r0W8dLsBFSfWAui9zCTMfujsi2vLzKRdmx0+aM8sRlRBLniUdCEMhCkUnUUyHgScKapwzpaA6hhqRYFHsFl6ApJFYQ3XJQcfe/3weV7X/aAnOPXJ40yOBOdu5Ql7enXLnTnGmvE87B3U0pzpRE5S6WYufmos3/hH3TUAj/iayqXXVcecAGes2xtv6uTOdVubQTiDqYa1iu3TGhGwoAPob9BWoX/zf3GLYAwfe/kE7ZemXKCera6G9qud39QOByFxq6rO60lK/l2TcRY9ehfGGX0+aPXnmtCtzHfEpY0hS6OE1AhMkHywIAp1tSCYoYqSKabQYRYG9AmKvLS/cIxd+tCmqvqLhw/jxsfcX/Ovu/VS3gH1y3Ft3tvqSFAhKAMUzJHJ/gCxeDLieF46Y7wu6R/1M6BEwof5XRc5W/h5cOz6QGSSW7CVPTWcy/zzymIj6/rxww0pFIiv4zWny9rU06dOeqKgD+fnoKvmePOsH0Z+t2/Tr5PTRP8y66tKOlOlZbqglsSK6CIkUHk7a/rIpetBg53YrvGM+ycdp9Rh54ZnX5RDr932+ybzro21Ot9O9umrbY09SxilwC5fbrEQkisA808tIP4d3SpkJecHi1bfjxtU4CplG+N7u/LsP0zM9IbYzvWMwnqO+s9N+TAjaKtmLV98KlFaB9kvAfG7bkb+ylBgCxdoFpWpf1KPPCKSzGMxc+NQ3Wupan5qxYO7k9EsvbQ2LNesgMYxet8Q0GhrUHrxq1PmAjopJoHqNzgShyLOGurIaace7H0Qe2Fb637TcjB99/szNBxlbps3Lu5JilhTPV+f3BTt+zsLnTZKu4w3kNw8NtmLX+hUv030K8bCxHnaGZzvnM5S/k5curr7YR+pj7u0vGZrbWv4KOb0ErpKfFq675w9UtyBOfVHPPiEQRSXItyqDPWPn/OJ3EXFhd160dCFLmpYmwjMbLkKdAtP0kUOoLyo1mPIEwOT9gtoFZ7HAfF43qyv67FN+24ZNYlRc2EN73vnpS1Rev3oUGPWGDUHxZkQ02Yufugw6+Abc8qWokb9dlL+y6VTuOpjq2zdlOT7Oo0jSrCWrFkKJfBW4bBUqjDeQiul3d/f+uElvEwiXkWHVFhVZPbkY09hvK8pPvyg9d+aNC1vCY8MMoocZJFEi1w+5s3r73X3TNr2WK/xxPpkXEOAFtautpqS8ddOr66I7WjteLfv84R/Ra4hI6DNobGcvXvMQ7LHHMAq6Err3arqmqGW5GIvpR08OvXcwJNJKlPB6SJM5Nz8T7uqQ3kJHmoaYu8vIJexnMr1rg/VeJwXXY9Zq2BsveLPznpndVNnwxuwbL43PuvIKN0a9wyXIE4qCGroW+Pl3kaCLGPYWB1e21NHmrN7y+huxhwpKv8pedNVN7z54yXH3bNaiVW9Cwl4hcfJle9et/Jre7u8AJ8dWnX+phloOMpeR96i2KKChZC1a/SsYej/nZOnmXetXvka9LC8vnz+TynouNe0dAlGIowh55UuZN/1uqbPV9eL8m2/wTpiZRW5bsyQG/KDnUsJh+AxsLsQI+jidCWPcXlYDu8S8+d+22okXJF87ff7sym0fbN4DYhJNGnkWGegDOVA2WOFXHECBSOALFq26EV6eN+Hrse5ev+JRKnNnG/h86nD+BKIQh5XK4Eu5+JfLjWH6p674wbc6Eicn67wuZoD67R8kOJ9SDtNnoXJJMOA1NG5ycOtX0t7PtrogYl2Qsrt25i//NlW7sz03TGE4r2oFbY9pN66axmv4bXCKvF64YcUPKNPeIJLzM5JJY8IEHJTFlzTPet+oCYlPL7j7+00Jk5INRBzwupAhfv5EeF4QDt6HOQ2ncdklSWtgseOys9vbmtqiXO2eKbxWQ35/lpFrtQRVicFbi4EtGQU0kneLbBBZ9o6HZbsQo/E0gYiR+5fU0vMp4bl3Xr85QQQmJeQ8dO+49HG/z71tqTM8LsKAKUjwTyHAGm6G8ynccH5WsUcwVqI386y9wV659tHVhvm33qg1WCwVG558aczYtIQffv3aXW+xDISAw+kxnLHojboFx4sy8v5oESRPMZjzjt0bVtyk5O3Xcqg/9jidG4EoL7Sh89vE8fMf+2ncuFFP5t72LVdYbLjO6/TxSCjfSPNShY49EQe8eZzOqGGO1o7qdb9ao5l1w+Xh6ZfOpTWDO8p3FVd8+PzaUaOSY5d8/frdtpwczJMZhJOJQq9x/9wZJBIaFzEbpDL0wM2F61coqioZ7+cSYXAOHJ7UqiKILZuYevnjPzRFGJ+Yf2ueQyWO0DuBhKhknUHD3B2i++3f/kGYseASHRGHxyXLGCMyjZ+ePu6q//1mS8PRpjdnf//FbL+fH5JETWdFgBwaKVC3aPTdJXloFfprspes+RM9RKH3+OixQKCHepQyMjhdff1znmk3PoVJL/IrVy+7pTZ6TFyY1yULquToHkoKq9HqoH9KrPXTF192JkxOEWdcf5Ue3j49xC41IE1D0ceOizdaIsz2He9uXXLR9+9Zu/X5O1vJYK8vtp024t79W0fOHS273hJJghx8996OsVOvfQV61d8Tp17r2fb+g5vpfFPp+z3Cr0cShEQ9DQLO/eFfprY12V/J/e43xfjxiaMwOowpfsrEvh5T6MhpOvLtIuwOYyCIH/B+9fZGr0anlecs+kYMRRdg/gN5+wAHx4N4JLh/DZMvnKmZt/hSY/GnhRvXImSFDHbyzIwkzM6lriRByLtVsH5FDc/JF2HK228vWLL6JjpPalhP8gydQGB3kKi//aXDhup9R9+49NsLLEmZE0WPi5GXgKbeqcTRHfKgAUHHpIPbCxxV+8o0l956M6lNOq/Hd5IrHASkgaoFkmFx06+/mp88J238vRc++gplD8+MZCUbUE1nRYC8WyRxd2KQlfP5bgGWb2Te9MxEUsNIkpz14U4XQ1exbLkgAJtcU2n5xwVX5lx8wbWXu8DliPONiJiqTpid01dSrXRGjqs/fLT9radecS9+8E7eHGWM8rgQf0KhzKckCBMeA6w+jcBZEien1VXvL54eMeYSb8Oh/2yx2SaDKRVAIKnpbAiQOkoSd+c/79qVMHVBHKTJY7X7Pnia1Cxy/5aX27r1bIXEifwUZ/WNv+TRu1NnpH5r5sIbmkGR4dSAisJwtlKq1zB25ZMFHce52sXmj/7yT3bjvd/VRMZHRrgxz1SDwKyuEmHrdctMb9KOu/TmvFaPW7x/5neemU3hPFB3z8u/39U7h9t5Wt2R6lS4/p670RCtCJtXJLEtFzMTFc/W2WvcdesEniPiIN1tznefy4IS9cvZN13XDE4Y73UrakG3z5/99cP/KtkdNCgEieDdvmGDNOGCNNe4aVMiPW4svBaCOxwP+iCpubiUUWEXfvMq+ejBuufufu+gXnH7qqpWtx2IYrKCKpXMaRaiOb6FxSKWUrBnwLN11jzO2sFJDBFxUA4VxdV/vjDvaiF2bDyNkmMex1kfPetLR8pFGu9ArDunMzD5yJ597prSSpaz8BtazKDsid3GI1wHE7BY+OSL5orp86ZOffOXr9J2cQzu9tNUs5GCbU/qGTTOd69fXgVn0o+w4seL065/LkqJmu6GyZy1l9tsRcr10Tm/eGDKzNQZk+bMlUWRGTESAo1aNcq7ayQa78CsQuZocTk+fXl9x/xbl/gwch4teoBeD6IMyPOl2CoalggCqw6LMf9vxoInL6Lg0PMNpeiuDsPl+tb8FS6yRwrXrfgbwN/G691/o7rlbEw8qx3eJYGQS5emys667YUMS4xpxfTrrnViJUIj7A6iDJVzddNzaH49pCw5bl073/+gI/2ibClhYnKEB1N+eoofMSME4skkuSNGhSflXHe5097e8QwVITB3RG2PbtoDqGOrBqylh4RZrN8BpNfSxCv/IOzaLgdhuyAQmVN0XGRWvLnkgeyr5sXFJo8SoAsLNN7RbVnUG+D4Vly6rK68ynl41wEx84orwzEQooeyhLY6h/6MZRJBKBINKKbOmSmPmTxm8sQrHr+XoE7JtYbsthzJTWOzXaYMIiJSuh4t8BDWD1NG2ZUVHLtQtbogEFq7irHRsx66Mn3uhKWTZs9u9InMgoUIesz9RmKDkP6JKbYMMyidO9750D3rxit1WBRP7/Wgl8MwP1dMQFcaco7wAovPuf7qBle7+64FD66NK7dZFfXhXPMdSc8FbWp4tZ5CvTuUWZv4Mq8o/IxMpgsCOb4M5YNTL50jmaKMFmUe+Xk07khqBKorOjGrPnBAdNo7fFgQTw8GI5DaBeo4B/FxAj1yC9PszLjx42IvuGpG7I4PC/+PriqLfp+4Tf12FgSCdhtmuN6L1liZk/dEBA0g0sDiqY+dRiDBhzG/46aktLEXp2RPb0YohIFChNCy59W4p758WP4GCdC4H2LTpN2fbPLOuO5yEfM9LKIHYx4YIj/fRARGk9CQjyXt4otlS7jhm/N+8NdUWhGfwivON/+R8DzsNiUea/e6lRvBs4q9ov5Rf72xzuMp6bQWs9lo0jsZMtwD6fPn2bFodCwaG56x00d7T8lL/QkE0HMxKMjYsZISUfR4PUmZGWYJ61TA7qAFS3uFwWBshIM9yCITYvjMy2fF7ttycDmBX6QsQE1h3WrqBgE5KAgg038F1fU7mEeSQLbIqbFuJxGIX8Rw8vj5jy4cNWFUdlLmNA5GIQIRaQeh3mncbgo+pC8TcWBhaw62h6vwY1v7BQsuZyCWGKz/RbFWJ2F9vhVVlDWZGSbkzPDEjg67ftb3n5tAbt+cnBfUEfYQwLUpI+mM7d6w8gN07YOC6P0JPUarpuDjOJM5qdGK8mkDTPglHd670i6a5dMZOIvoJsO8dxuX3jEcE3moSHrUlh1q8Xq88pgpU00gFqhctKdPLyeMReF1mqiEOG/qrKkxB7Yc/g69oaAAG3CGEELRy6UZetlhJD2oksIW+QO8wEtpNiK5zbEgxHG6OP7FPxyfL6Vf/es5CePj5o6ZmkmLMGtVt25obe+XHgiH8zH3/s3bhGmXX8jB9sAiecpS8MdxDi237u+i/VBoTArLt4ZNzMnxRcVZbsq956VIDK/7GLbA7j4H9Q5asZFQ2L1uxb8gNDxan0dhMp2ROQ5k6fv+va/LDzbfPDFnms4YptOKXgynIHV+QP1+ZgSC0qO1rtlVf6RGHpM2Vdnop6/gA0FCsNPkKqaLSU72JGckp339zr4rldIpSxacuZzq2RMIkLSgBR/oDATyvzEb4Tb6HlhTS+n3CoH4DRP/aogJ48KuScpIp2XKVelBaIWQgKQynwNuDLF81y5p/PQ02RhutJA7tm8ZjN9Y1xuZGbtxyaYw4Vv+4h5304dQ+pF9S72jQpEi0Fb/imacTPuTKIj4V+vxrzrSWFKjxKPs+XDPguTMCaPC40dhUQFSrlSPSCjdB15XWdBymGMuO0u/2u1Mzs4CwfjHPUJ5/lzvAWHC5UuRjMwyZkqaM3F8/IVRGfeP8+entl0ouNIsTXJOUSAj2uwrYKowmVybnzZ4hP3yNBJLmbU1ua8Zkz6ZZr0pS66DREJ5x4i/ByG7tI0hazpaSZLEG5k4xgD7jcRHn2NDI/MYhGRhceHC6LSUaHeHdBW9NJRQ7j4v3BB5QZw52W9q+LiXoDktoGKT+kWffDCaMWPhE+Mm5yTOHTVhgh43gUB63/FCLxxuSTHOiToY81bt2+eZODPThOV8wiCBodfS/75NoEGMiShaQtjoyZM80QlmZS2o3IAbs2/fPjxyV7bNRlU0ovFdyN2IrMXPzKWa0VgJ5pn793ks2nhk9pjJyUnm6BjaGUn1pYfa9mAk2NaAeTp80rFDFWJiaqoRtggCC/uHweA1/kFImQmxSUlSVHzY7IlX/yoJ89ZpL7/jTphQqzMi71NcvlZdwcY7OiAcijCmi30fGaMdegHgC8puHXyi/uLoMaMxf4Epv8kCGZFg9bTStBgJUGxravB4nR5vWGw82QT9mijIgVQ6c0QYjy3tIux1HZdQATKKVEbX44bgGYWfXE7P0RbUCoeBF8uUMjl6VkxSEsVb6WD3Kdss9zjzEfYAsCKbg0wNuenIEW9c8mhObzEE7Y/+YzBoLlKzMF/HNGpCsgRiUewQQ1li/5VhiLe9sgck6qCVNB/hY3TWwt+NJ3evQiAFLxRNiBsXNzk8Lk4C99OCguh/n+vPQxxTxN+Q9FC4t1R/pNKHCFsD1C0Be6f7XSD9WEHozlgagmljksa6MYaVBRXPP6dHVbNCawVSSZEK/FtO1zJBq0hhhUAYE6dFJcZFGcxG+AwVnVblPKHBqgTheJxe1lbfzKISErEJNNkfPnz0L4OhUUMizLCYOCF6dGTS5KuepKU3VTUrxHak22jPkcDthbBDcum7QiARUyzTI0fFcxr4r9C2/eKepJcPh0Sr9jjbW90el8triY5RlpccCPuNJveS7aM3GRiYnWBvsucQvo76fhdmQ75ZIY23gAiyqSIKgUTGmjLD42OhLDA9FoJT7Y8eNDEZ6PamJtESGS7oTAYjjUkMRCKJpah2AtNFJ45irc2uqVSO8qpGVRsIsUHyaccqJI2P7cJHNOITw9G8d1rMkeZkc2SUk+wP7Hmj2h8hAkpGGknc9sZGX1hsDNRWGtnGSXDzgUjUdkjaiIR4g6DhUpUylB4Dyaqj6iG1h/URhUA8gu4wMJONenkSCEQ7xhJlHmUMD3cBX/xW3bshgUk3kfsKvbKtvpFFxMdilUn/+AdAHJhEwUFQACxR0b6waMO4ZV/LtDINlgZSlv4fmDINwbcW5f/4GHxUjRreN41nMdwYU4TFojUaNcqsqIFhfkMPRnLzgRKwTpgEAnGao6L1YD8aGgTB58CgSJ5HOCAN5jBtRJwlpuDXa2IJ2Po41Q4JrYOdaDawmmOgh1Reo9OMCYuJ0ZN6oBroocEYvIs0KZ/Xi60KJJMpPFwAzQx4IrrVGvQeU4TZ3FDdmkgFctujT7T8gJdwsBcgoI7yPAUvjuMt4ZpxWp3W5VcPqPAqlqE0IUZAsO0EArDcbtnR0t6mNRm9hBzGRRRDIJQ8evseZe4JJIhGp8MyQ2GGqvK2hN5+xzDPT2bWRxUCAKOpRF0TeL1BiNFbTAY0NqDt/wGuIQt4YCqA5PXyGD8K02KNUTLQiYMPXJ38A7yYF+8BjUgGoxBDZRH3NQ1gmQYOjXN5c15RuoIV5oY2oDXDaNnxSFNEFL7DxTuQ+vO51GZgn8ECDQhSdDlrwVy8vFaIoHgohYsPWLnQtqAR+OuNYbGxcY7DrWYqSrmgunp72iSwP5rQmmGwQfhIjA7SfFtSqRXHTE8zG7H3AzTJ44nE2JEdyyS10aAh0gBaIooSQIPqPkgRB8LqopUSlWLlDTX1CAEoAnXQBmgchCE8m29Hs6piuGcQKqPmkLoW+Fa9HDatJZsEaQAJJNCEWM8BnM7JwjXKfOtAtdT2DQARygeUAycw1ApGk9aoNRiS8JDCZQZWhw6l6IPlHn9/g1uXD4+LSsAvHS3mhuQnk4EqJgqC/0SkWOaaC6y0WDKARDtQQJzfexGW4IHHRcsLOq3OEhNPoTygDTX1FAFIEKfBYo6ABDHSkqCwQfyU09OMeuX+QAuiLRFm7BUQdnIiW7V1T2DR/TeM+XoAo8CLcOO77K2K92UAW7b7Eg/SO0AOWq/L5YKBLhJxoBsOfE9U1GWfRkSZTsCmtu4JLLr/huXMsNg4J/Fup9fusrcfxSMKgiRJun9cvQMIKDhxGkHT1tBchV8tmLBEZwfQIEYT+imU7CMdc9HCQ5Qmq9ThByLkv5C+eoDmxab1Pq9PEjUgD5UwQoYvcCMQxErukB7QrZQ4tp5m0Nv3+5sQxaKgLIF1yAECUd6jtm8P4MaGn6SeigKmobX7RCkekgNefDX1BAGyNrDeD/zlsD9kZuH9bg4Y6bgwIIk8vP6ZhWB3eia6W/zFGD1QBRoQFHrlpT4fBgeZA5vV+5o5XiDPCw1z9UreIyUTil1DkKcALStM8kIKE48OjLAPGAbUhDK2J7HbIT30bVSO1NRGtWF72iAcH4vmbOOxsUtTW32tCzqryGkwwqQK4lChVII7tTp9jMvhciBosVmxQQBhqBn0+n1+PySHSVuyvbmtxZSiUySIODZGJZAQwQ5OmoJ3Mg5WRzvvcHiOelxuA3FDFcUQUaTbKFgRgAl6XTPmuopuZ4eZ+ieOAYWRnCyi6NUgRkzX4RRrqKiCMVplewREKCkwaQpBp6PRxg2QIKzS0dIqYrE4H40Eo3VVMEMAElawMntQwDCSwWLisC+zRxlJH0AVixqOyiC63ay1vqUpbXpCLVVFb/Gv3B9CtUb6Lej+xycMjoUuUMlLx5xVLkeHR3R7MSOEOKA6PTOkXkJYQepqBF6wxERoXG3t2FvqxDpZIeXR2zfRMAzK4Ono0DjbOxyT5mbW0Svi6gdQ7evtOvZpfp1kg8zGAMty8Bupur2h7Rg4oIRgO9AHrR2npu4RQE8EnrzANOFxsXxLbZ0DslfkAOLA2XGgD7ReR1srazrWfmSjdWEH6sHZ1HV6u2/OTnfQrrdgf5iNye8FgbzQYG9qr+hobtajbUVyFBIn7HS/+rULBMBNCCvEYsWx1to6DCdBggBRhXK6eKZPT/vtH8yRr/e1tXhK/e+yarFG78A5Dvq0wr2ceWCylE80pSBno6hx76PmxLqyroOOlhasaMK8xAFV8iBUQkvESSzRUQJmFcpel4h9EEJ7ri/uojAwCnlpOVbrxWSpA/SOlNwBDp7si4r2UZ7ByVISL2EHKWYvyv/ZMaU5G0radwBUAlcx1DEu3EdFGH7Zkh1ijow2YLBVdrS2SANlqKPFZCJOECnXXFPvtUTqlGX7VQ9Wz/scLLl54DX76Ek/v3Ozwqajx1o8Hd4B5YA9r8oAPwGjmBZr05uNmAMe7ms5VtMBAlH0LrLh+7V0pO7RJIa2FhBIU21W7pQiej+tUN6v5RjCL8vPzwuoovIsVAOrKwYIZHJuTGnD0YYqe1OjFg1MgKqGOqETQqJ56Fiwmo9JSpQbjlR5IVHg7BiA0UJ4HyFBfM01NXxzXXvRR7//LmYUWoXAhpQh1GSk30LeW05OW/QHmsefAn5jI0QUCVJiszYcK2vc2XLsmBGixUu6bL9zQCrNEEu0VmvAUBdGjZ9oaqg4io10pH5Xs6gYHLZ6QaO6ag+VYXxG3kRQpi6IhkxRUygI5Cx7Qdk0CtvjzAdZOHevX7GDngOB5CoXWg50/Le+vMIjev2eGNXt0T2spNXgLmXB78iEBJ3L4ZTamxrc/h3Zun++t+6gtUxolyuX3SPWV1Q7DVrhP5T3WGeTGoAaIsitlW6/ucGxhZixsJUew9q8ej4jI1e5EJUZvq328NFGZ5tdA1EtAXNqfDWFgICEbmgI0+tjxyUKjZWVSoh5f4KHcHvs5YlNfI5WsvrK+v1VBY/toWIHN6IMoQoj/BaZK31/uTsAwmVQtTbQd4pA4NPT0xUu07Tn8b2Hd1cVt9Qc1YADSoqSNcJhC6X6yrYDtCI+z4TRU1JZxe5iL+amw12uCJdQsjive8h7hWhiyqO9puSgub3Z/T79oA0o6VNN3SOQuuBZZWpy1qLVl+NuHbOLCoZF+Y94eb8Rl6eD3eFrrnd+VF1SKsLd61ceus97xN+BDkqUQJ5xTULqJKGxqs5jb27uoMhegNj3niwYQfQul90r1pQecXU4xLepUWzq6HnIfXPsqDBF4IMGbsFDn+/+6KcOP4PhZEW9Sl1wiXJD5vyUtw7t2Fdvb2oVEUJBfsq+b+CQqzF4bySnBoI+WVi02TR26ni+qmhvB06RaaDg2lclD7wDqzYxT31FeXR9RV1hR9mTXyvvs1rVtgsBeCIE28vfc2XkWXVor2tkTv4nPRYXR2OFAS9W6Xt3k96s2Z1/z4HKA3Vf1hwspUEnBE70bQNTAYZJ4iWadosxw0lzZhr2f7FDdjt9do2gxOz0WUdVNlvFXDdIfA8kPyvf3/i6H08rMb4+e+8waTOlGu64cMhfTAkQw2+GLuCYwo99j35Ds1L8VIoEQUCRnJKLmB2kqATz64e+3iWLbubq6wam9w2XBJtDRkdlscnJnITY6IaKwy6smI+I3z70B4KBaWAvttQ2sMM7io8mT4xV1CuWV9Snkmu4tBntI781f4VLqQ/H/xCgvaGYHP6NT09IELqhPJcp3pcjm61vVO6rPFxbfkgC+KQmDBs8+rIitMixiBU+BR2Lnn7tfH3x519w8G45NBpQTh9wc8pTiZvjmbt6f4nlwI7qtw9/8VCFUsf8tX1IlX2JYv/mnbo9GiyMk6cvWj0PZmQqPFN/pRIEY7Lou1+C0DdEfJLfl756PNJfS7Z+aQLz68CocJ80ML1nOCUaE6GtDzCSzo/LukB7pKjc3lRV6wXBQIr0wXAESQ/sqetocoglX3zdODo58lXCMyfneaXRhxO2fVMXuHbnNClrYYKb3ANS+HTPuhVlxHdOhJx0JhCUImCLsKkTEl86ur+iFqETWsUb05dqQt/UfoBy5XjRLTODWYjMue5i+cAXX5D70IuVT3qdyZBjAO5415G9e1jJjspNFV88rAxuLVxY0wfUOEBw9uFrlW3pIBSmLfl9GiztK3Csoddl5D16EoM5IUHoKoRFbu5ngi3/x/bGo61rDn1dCMseaoIANYFiKtTULQKk+uDQTpozx1y240BzU1WdrEgRRKB0+3CIN1BT0Gh9R6vTVfTZNilpStyf6VHYkQarOvcjFBQ5m+0RhZHwsub/MGT15e5192wnm6Qoo/NqlKdIEMrZZrtMeXDK7Ekv7P9i56Hqg4fdMDYVj5biVgzl9SP4HnB22CIyM0eYYrKumOvc+cHHDfCO2DVaGHS9yGSgXonlu3bpjhw49vm+9+7/GJDzQTtyBMMfWtWtVjArTs7KWzMFDyxCaMnP6UHFJjmFwZwsQfzZgwHmabb87QftDdX2pw5s2R6N+Cw0MNyJAzeX1F+yIfKXtmcDVJpJ8+ZGVJdUisdKj5Dx3ivjIkRkgo7D1tPtjj2fbuNGp8U9TrDAflRnDobYP44b4RJbBYH/YeG6e3eS/d0p3OR4TmciEBjsGYo6tWL/E38p3rJ325HCPUZIESdxR5Cecu14DuqX0xAgUGkrBFOEIXbu4qu5Lze82+Z1MTcxmfNxCxL21ARke+zbvNlSc7jhlaL1933FMqy6MzXuaQVTT8DGsOrIlZt101NXAI7LeY3wI4IlIkl/Rs9fFwSCOcw5y7RWaAumMMPjuz6yifYWp51G1zEc1mu69HBtL3AQxWbDAm7c+BkzwnySJB4u+LoJatF5BfFIsGO0kES1hyrd+/67q3lqTurDhGFeIJ5uuOLZe/WSuaJ8q+K5gov8RfCbJ3bmL68n263ghTuU86e+S4lyO/Wk8vuOhWSQsObyz0raXJmTwiL5mWOmpHqw6IlWMUNJlqipSwQoiBHLumJLZs4QO3as/cM//5tNmTuD01v0emzZpkiCLh8+wwXE1Pt0Bg2HkJbG//7rjejGqsYVe9+5d3POsue1n7x6mzpr8AyYnXpqXl6Esar4Q2/2ktVPIBg3rXD9iiV0T0u5rUvP35klCD0FYwXiCC4vxq649eKf7/xwe13NoXKJOBg4pKpmETBnSSRFwKV8Xgy/xo0fHZN1ZY77y7feceIRT0/HlkgtQzw7vMWsbf+W/8aU7634oGr7Yy/Q67vifGcp2oi8lHK71bA1f6Uza9HTmei994HffIeAyPVHPXfZn7smEDwMceQh8fO29cZqg8Xw0Lb8jQan3d2g1cMKVaYJjUise1JpHg1Bg4eGGQuu01UfrPSWfbWzSdBjITcfCZHuGY1i82EQEka+dOxQJSt4Z1Pj2PGjfqIUIm9t1xpAT0o5zO8lIih/2aqElGDA4k2wrmcK31z5JZ3vbs7MWQmEcCu3WTGRJFco+fCBV44dqntt5/sf0LLw7djVlZ49o2FDz6nJjwCJEY9LknVmbuw1P/qud+Mza+XWYy2tOiNUMKl7+EBfnKDlmNPubdq+/l2L1+t78Mt/31XC2DItg7Gp4twdAmQzz1duyl68+nkfFp4sXHfPSjphy+2+/3ZLIMhHzsu7UxFBSx677Y7C/xQcPLi9gNfoGVEkDx9/961MpRnBiWagebCEQnxywthrlt1g//j5v/s8Lrldq0dsyll85+TSJc8XJE3rznffiyorPPLPis0PK/FCzDpaJY4Q+hRNhsLYnpi9ZNVS3P59QSPfQI8p4e2njHmcKbtQCIRCfyUSR89eN8k9amzMt7f8+32p9mAlGpiJMqZ7KmrAmXJXzykIkD0CVuITRaadesm8+Ij4qPrt69bRttHYX72LKAUwHhiSkB7McWDrV+av3vty711PL1tGGZJhTjaiCu/ZEcjIW6u4v6ctWT0BDvJ/Id7n9h35K0tpzIPMh7M/7b8asg5bXm7z5cD1u+M/j9fEp11TVVm0/1vJmZkNpkhDmNeD9eaUoFV0BDV1hQBH3itMITCMzcyUPv/n262CwLjRk5OxOy7H+0cR/a5BYjhIPKlhVcWHnB//9Y2OlBkTr//H8suOKY377x+H1LhdFWQknCeG/tV7P/bSp9toKILj/aXC9SufJMlx4K37z+jSPRMuIRMIPVxTUwCuZRUaSx/aZUm4GNNLK74xLjO7QqfXRJJLk6xONXWNAAEkeX1MZ9RYUmdOd3zw3L+E6MS4ttikOD0GFgXCD/9h18vkHhYbK2vrbS+vjdEb9It3vP7j7SlwmJR9cn9wcYGuXzTCr+TBefHeez9WVNCIGTd9DbZdVrhu5c0Ua1UfD5PAZuvSa3UqdD0iEHoY9ghXXJwvN1d8ZnOzaWPdbbW546ZlOWBI6s7Fv39qgYb9bwpD8fo4c6Q+Ymz6pOo//c9qln7lNENkQoQOu30pk9v1Jp6zN7Q3f/inl2OdDucdBz56cC2Nlrd8RQ4TNZ0NAZIYQeLIWrL6PfCbUZAcc+iZXJargTerR7ZbjwmEiIPmHNTUvOPrOLZ5o8hlzhDd7Vlj06a0kvqgEsnZmo+MEfwHkUgemQuPD4+aevlU+5u/+5s2ZVqa2xITbkBkPOdocTi3vL4+vLGq4ZGyTb9YTbFxrP65HjXs2UsxPK9Sv9y69T5l0DR78ap/oZbztF5zek3JO16y27au81/rSe17TCCUOREHvbCm4B1f29FNr7fZJ8yRPK2ZY9Omtmu0nN4nYtaQapN02Q5BIkEoCh+ZEBU+avyY9tce+TObemE24t0EZvv766aynQetVdt/+UtkwjErHDA9UAu6fPEwvkC2ReEn9ym2BZbveQ3q6uVuMWLyno3/66C+eq4DqudEIIQzEQeJMzLeHcc2/7PdMWm2z9eRmThpcgvULT3ZJMQplc4wjBvmXKtGuOCQoVZx0WNjzeOnpbbYXsk3YMGMsIPbDyyvK3ziSbL3GPsMq8ReFrLOfK7lGcrPkeMChrfiuEAYyVp0vPkGo2ZK4Rs/alcI51U/4ZxLHUNy83aVMY1CEpHQ9dpdj19f+NGX6z598WWz2+Gu1ZmQNdwz4H+qO7ILAGkdFLj/KHBHMoZHaLFCotBYXS9NyE7BqAm5cxO5nBz/mrFdZDHiT8/LW2UMRjJnLV5lA5bzDEZ+yvZ/Lm/riTu3KyDBxM4/ke5XUOCPhhwz++HnxmWM+9FF315cE5UQFetxMwpuBJEoI+/n/7JhkgPcuD7YbDzGOTqO7C3p2PTKBlpV/JaYpJjK9ob2z0E4TxWuv+c+qi7584vyl6qu3VPanoiD4qtoyzRR0n+Fyy2FWa1zaYyIPH6IAvGvWHLKcz352SsEQi/srOelXPzo/eYo02OXfGdRQ1L6xEgMkBklkTY/VImE3LgUYqIzYHxVZq37/rtN98W6jzv0Bu0tBz588APCcsa3Vk+VPOxzSN8CRJxeS+dUIiEUAikvT5MTdSVPdkXWkjVzEBj4Ka5sBFbfpjtIcgSlSuCJc/7oNQKhEpC6BbWLvC3ylGueuNHt9Lw496ZcIT33EtoSINrrojHlkWuXoPaKTUYR0W6nVF+w8Z24wv/s2JOSmbwUMzgPUHzVvLw0QYk6vfV3Zs6h/QSPJCGe67Jd635ykPz4NBtOWbvpnJt8SD/IgRELQYM7a9Ga5VhJ5mmsnPdg4YaVT1DNyOYIdZQ8FCR6lUCUF9KiW1YGxdoqzrvlj6nl+2teS78ofcasGxe2WKIt4Zi+qyUvF9xcI8aAJ8KAmollejiGVWJcdWVH27e8viGq7khj/g9W5N1uXZrhYbRcT8Ed5KKUOzcyPDJrIHV+Amvlx7vX3/McYUzSekJzlG8kEYpfjV8GfDg5Z6HVJGoj1wGqS2DoLixcf+9n+M7RSiVkFyv9sJf+9D6BBApGYSkFBS8obrdxF1qfDosy/2Be3nXOpGnpOigXYSAUSEafTAvLklzppfoMqmwUwqA4EmxuA8IQPS6fs2TrFs32N21OQdA8UPrpz/9KBe6MVbACNBocJICsRauuhdtyLYDa6uHY7fvWr6ih+/yqBC0bS6sKDc9EWkl9XDoftMEwvrEI9f0bCGKnbJcW0kLTfvXeTzy9jUKfdsyAyqVQdPY313yjpqT21zMWzJyaecXl9siESAHjABbRo7QtNriA7gU22dsVHIj8UAnEcNJYEM/RumKQAG21ZZW6XR98bCjacvCDabOnLP/85e8dhFIqMGuuj4zKLsrJQZpoSWXIyPujRRDd/0Jm87HA8i92r1v5ND1DGFcZozW9pXN3UY7+Pw1NJKeAGQo2Wjvo5Zk3rBmlEeQ/o4tcy8vyfbs2rPgjne8sbel3b6c+75BWVNRqZXAFWz33vXLM/PKTT1vjk6O/n33VvIiJs+Y0GsMExHExHS3bCc8NdZTzcj33NkA9yY8McLhuoU4xHpPKaO0qR0ttq/fgtu2Ruz/ZfsTl8v62evtjipqU0gMvS+d7YZQuASd5GmylEW70lbvfvPc/VEaSJrTwQFA/70m5B9m9XO7tL+ltL9+OsBq/ZMQ8jl+gjCvBPr8UEJFbAAlKjIHK3dsq1alY9DmBBF/YuZEzvvHb2UcPNj2YduHEG6ZePEdMysxq1etZtCgxjYR4JMWQp8i9IZJIYpCRATWYx2xBZcVDe7PTiXWrooo//9JeuvPoi7Ouz/697dlbqqhK5+JlITWCniUCIK6p9UU8Duf5MmD1Bcybn+7e8JO9dJ3uCyupkfu649C7ejfJkJaPKtIymG/2olXfQ/0eBsOhqQEP7Fq34k265nfv0qLTfa9a9msn9OuKn4AC8snTxUbPfOgGTAj6GcZN5qRdONsxemoGrzfyZixly9OyObDioU3g7yClFRIWSJgvzvlVKZ65HC1Ob8WunYYD2ALhyP7qDSaT8NuKrY/tpBshRXV5eelS0Lbwn+vJX5mjCUBBdSor79nxnCQ+hhwwCYj7BFA9HCQUylWxYzKKZWZ9BAXt+87Uk5rgXuIrgORR7lTPXPZNT90C/fRh3GNCnZ7cveGeZ/x5ExHlg4j6b0yoXwlEqSR1+Jl3CGCFigFP55LmPvwtUM3ycVOT5qXOyraPTc9kpnCjARBqaOkcqPOgE6UzAlZyE+N/P5orpDpRWwaXPFJAw0moUHT4QNCu9oZmSIydhkNf7+XrjzR8CEXxiaptj233NyzDiPgyIei0CJw75w9SL2iDlyChTb/xmXQfLz0CSK4HTtuYRvOb3W/8RFG9gi8hYqmvL+YCzwFuqlE/p4Cbmspho+munWyvC25aHYlZ+pAYMs23px3PVmtijGuCKqPCXEdj3eFOz/RH6fufQI7Xysor+1jk+6UJnR479+EFGB+4M3FCzIUTczLCxqans6jE0ZIWg2ooKI/xNY0M6UK0QksXokP4G5k6K27A+V6pDxGEsoik8iK/BCONj4Y5ERlCYzpYrZJ5sYCFp6GyXCjfudtXtqukBWrVx+FxYc9g/n6hUk1F+i3FU7QdQa9zcA6dns9XJITfyJ+++PfJmMH+AID4JoCpRxle1TDtazvX31WhlCfwh4ilGBsmMVbM4uqZz79Oba+XD9IBhvbGRE1rvJunDTHhbCCm6G8zKguuX7A34lJg+T2cXAAu1Aiv5qpd6+75S6ConaSgv47B8/312Ssd6nwLSxwROjOpXQp4mTf8Lutwce13YuItVydPS5k0Ji3VEJ8yng+LjRH1Zr2IfUtIqmihgwu08DwFsigSBh0aGShkgu6sEBCaHQMupzc+qW4kipR/1HuJGCCZ/M+B4EBxRBBELJASkGOMNueUnW0Orq2+zlBTWiqV7SiqO1pSfwhDOm9NmZP+r80v3Kq4X0/l8OeLT7fPo6Pl2hgftDtyFj5vknQd30OVbsOzo1GLYiD2Ni8Kn+58azlo4+REBPNVfbE2MS6cq6lvk81xzEeE45c2eUTcwQeU9gn8wEn8DKhIZVHNPG2lTPv9uR3NXBtrk2gTTII2+DB9Kt44yTULqH4D2V6DU9G45wss//Lszg0rNwXv9avj/nGh4LmB+Dxe84F4+anv9LvsbGgQm+IaXvb816a1a9Zd3dLovHZCeszMhImJqQkTUyKix4zGfoDRHnNUtEtn1NI+GejKTCCCQafQUIsQ0VAHJ1tGSahpsLJKi+GPIhHARyGVGK/4RBQKIQnhxfNEEBz2PuftTY1ce0ODifaRrz1c1VS1v2Z/U4PrvxOmxr2//6MHvgi8gWVgUlNc3Hxw5Mt6dbAqmH93n9TRd9qPCUEbhe7PWrx6BqTfLeAg81HTGPTpWgDxJXDaIkjs6x1vryw9a74B4mufnMi5mmsUCA1RiTIrwJ6MYd07A8igdvj4LCioc8FyLgLC0/BdD1a0H9/XaTXGNwry72hVyoB30QLSKD/FnSnNdNay9cPFYJ/ph1eF/gol7mjnZo6VPnt8Bt0NP3sr7O2/2C5gzd55CTMi50Qnhk+OHh2TFJkQHxEeF4d1cMMlU3i4R2c2SwajWeR1glYQuA5Ow8LAw0iqwJIJgO5XxUj6uEEILtHri5C8Hoe7w2F22R2Sq73d1Fp7zOdobpObaxtaG47UldZVte1rK3FujcsI2/6rvz9edMdMLkh6LAUu25jJiVJQXw69pn1zJxFKFavSbc1oc3fW2afnPZMuid4rQTCXAoJJgCMMIrIV+mQFZOY+cIoiThDKRK9YKeuSantiDMMzF26y+BKxLyz2oJMmQTqDKFgqEB8D3LUgyFownh1ohU95QbOZlvwM1p68eqKziSu3PXLctRu8NtCfg5JAgqCQqlIOyVBuU1aggEw4kUbnWGOrC+onQZVOC5ukT4uMNU7BlgPj9CZ9tCncHKU3G/QaQRAjEhLNMgZaaNQe6hK+EGuSBY2ghypgZ+1NzS3Qe8McrdhhvMPV5mh11Dnb3OWN9R0lrnI31BHv/ou+P7uMVrs/8Xb6tkybuiCTn25JEIPG8snXB8GvAEfWWxKg/5/s+aFOGW7yTRF9vukoaQasvCkgmiSgEwGISJ560TkoGrYDstYOkQx5ytE5mIIyrnNYY54Z0fnNANeA30bcS1yfuH89zh2GxNiP67tEybd771v3VuJ8p2Tlc29P1rXrPOluNPwAAADOSURBVIOGsXQq3PGvg5pAjpcyIOZt7dWIb20GoZww7I/fo3y5G6MQUhQUpjgmaKKMydoYZ50Uro1kZp1WoxM0Gh3EOxMl2eO0+5ycxmc3W/QtbQfbm5le28jc9nqWm9TGuoznyRVycv6HC6gWx22mk8swOH/5DfNiDalHXUs6mUtb9Jtoo083yqfhRkEKRHOyJhaSBkTDATuG4U+ZVFgRUtmNzu/A90YQTzPubeB9/DFfmFi/+9WfKvNZTkMC7ZhRxASlDAPgkTqtPCGc+P9oICFkbOi7uQAAAABJRU5ErkJggg==)"
   ]
  },
  {
   "cell_type": "code",
   "execution_count": 68,
   "id": "2d934585-82ad-460a-9161-4ff07b1f9f73",
   "metadata": {
    "colab": {
     "base_uri": "https://localhost:8080/",
     "height": 175
    },
    "executionInfo": {
     "elapsed": 384,
     "status": "ok",
     "timestamp": 1670240344720,
     "user": {
      "displayName": "Thammakorn SAETHANG",
      "userId": "08182570455347153646"
     },
     "user_tz": -420
    },
    "id": "2d934585-82ad-460a-9161-4ff07b1f9f73",
    "outputId": "f77efb47-1033-4a6d-9247-00fec0de6e39"
   },
   "outputs": [
    {
     "data": {
      "text/html": [
       "<div>\n",
       "<style scoped>\n",
       "    .dataframe tbody tr th:only-of-type {\n",
       "        vertical-align: middle;\n",
       "    }\n",
       "\n",
       "    .dataframe tbody tr th {\n",
       "        vertical-align: top;\n",
       "    }\n",
       "\n",
       "    .dataframe thead th {\n",
       "        text-align: right;\n",
       "    }\n",
       "</style>\n",
       "<table border=\"1\" class=\"dataframe\">\n",
       "  <thead>\n",
       "    <tr style=\"text-align: right;\">\n",
       "      <th></th>\n",
       "      <th>Name</th>\n",
       "      <th>Age</th>\n",
       "      <th>Email</th>\n",
       "    </tr>\n",
       "  </thead>\n",
       "  <tbody>\n",
       "    <tr>\n",
       "      <th>0</th>\n",
       "      <td>John</td>\n",
       "      <td>23.0</td>\n",
       "      <td>NaN</td>\n",
       "    </tr>\n",
       "    <tr>\n",
       "      <th>1</th>\n",
       "      <td>Linda</td>\n",
       "      <td>31.0</td>\n",
       "      <td>Linda@mail.com</td>\n",
       "    </tr>\n",
       "    <tr>\n",
       "      <th>2</th>\n",
       "      <td>Jack</td>\n",
       "      <td>NaN</td>\n",
       "      <td>NaN</td>\n",
       "    </tr>\n",
       "    <tr>\n",
       "      <th>3</th>\n",
       "      <td>Marry</td>\n",
       "      <td>15.0</td>\n",
       "      <td>Marry@mail.com</td>\n",
       "    </tr>\n",
       "  </tbody>\n",
       "</table>\n",
       "</div>"
      ],
      "text/plain": [
       "    Name   Age           Email\n",
       "0   John  23.0             NaN\n",
       "1  Linda  31.0  Linda@mail.com\n",
       "2   Jack   NaN             NaN\n",
       "3  Marry  15.0  Marry@mail.com"
      ]
     },
     "execution_count": 68,
     "metadata": {},
     "output_type": "execute_result"
    }
   ],
   "source": [
    "pd.merge(df1, df2, how='left', on='Name')"
   ]
  },
  {
   "cell_type": "markdown",
   "id": "1966f6d0-65bb-406a-a167-cd5b0ac87f1e",
   "metadata": {
    "id": "1966f6d0-65bb-406a-a167-cd5b0ac87f1e"
   },
   "source": [
    "\\\n",
    "***Right Join***  \n",
    "Right join, also known as Right Outer Join, is similar to the Left Outer Join. The only difference is that all the rows of the right dataframe are taken as it is and only those of the left dataframe that are common in both."
   ]
  },
  {
   "cell_type": "markdown",
   "id": "9f6ec72c-8f5d-491c-893c-f7163cc4b409",
   "metadata": {
    "id": "9f6ec72c-8f5d-491c-893c-f7163cc4b409"
   },
   "source": [
    "![Right.png](data:image/png;base64,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)"
   ]
  },
  {
   "cell_type": "code",
   "execution_count": 69,
   "id": "1f991a7c-2b42-4c2c-a094-0cb5f8d756c2",
   "metadata": {
    "colab": {
     "base_uri": "https://localhost:8080/",
     "height": 175
    },
    "executionInfo": {
     "elapsed": 409,
     "status": "ok",
     "timestamp": 1670240358563,
     "user": {
      "displayName": "Thammakorn SAETHANG",
      "userId": "08182570455347153646"
     },
     "user_tz": -420
    },
    "id": "1f991a7c-2b42-4c2c-a094-0cb5f8d756c2",
    "outputId": "6235d232-0898-423c-88ab-343e43fb9043"
   },
   "outputs": [
    {
     "data": {
      "text/html": [
       "<div>\n",
       "<style scoped>\n",
       "    .dataframe tbody tr th:only-of-type {\n",
       "        vertical-align: middle;\n",
       "    }\n",
       "\n",
       "    .dataframe tbody tr th {\n",
       "        vertical-align: top;\n",
       "    }\n",
       "\n",
       "    .dataframe thead th {\n",
       "        text-align: right;\n",
       "    }\n",
       "</style>\n",
       "<table border=\"1\" class=\"dataframe\">\n",
       "  <thead>\n",
       "    <tr style=\"text-align: right;\">\n",
       "      <th></th>\n",
       "      <th>Name</th>\n",
       "      <th>Age</th>\n",
       "      <th>Email</th>\n",
       "    </tr>\n",
       "  </thead>\n",
       "  <tbody>\n",
       "    <tr>\n",
       "      <th>0</th>\n",
       "      <td>Eric</td>\n",
       "      <td>NaN</td>\n",
       "      <td>Eric@mail.com</td>\n",
       "    </tr>\n",
       "    <tr>\n",
       "      <th>1</th>\n",
       "      <td>Linda</td>\n",
       "      <td>31.0</td>\n",
       "      <td>Linda@mail.com</td>\n",
       "    </tr>\n",
       "    <tr>\n",
       "      <th>2</th>\n",
       "      <td>Ken</td>\n",
       "      <td>NaN</td>\n",
       "      <td>Ken@mail.com</td>\n",
       "    </tr>\n",
       "    <tr>\n",
       "      <th>3</th>\n",
       "      <td>Marry</td>\n",
       "      <td>15.0</td>\n",
       "      <td>Marry@mail.com</td>\n",
       "    </tr>\n",
       "  </tbody>\n",
       "</table>\n",
       "</div>"
      ],
      "text/plain": [
       "    Name   Age           Email\n",
       "0   Eric   NaN   Eric@mail.com\n",
       "1  Linda  31.0  Linda@mail.com\n",
       "2    Ken   NaN    Ken@mail.com\n",
       "3  Marry  15.0  Marry@mail.com"
      ]
     },
     "execution_count": 69,
     "metadata": {},
     "output_type": "execute_result"
    }
   ],
   "source": [
    "pd.merge(df1, df2, how='right', on='Name')"
   ]
  },
  {
   "cell_type": "code",
   "execution_count": 70,
   "id": "f8abd620-2652-4770-95c6-f029aa7f0848",
   "metadata": {
    "id": "f8abd620-2652-4770-95c6-f029aa7f0848",
    "outputId": "f12cc63d-2ede-466c-bac7-6a3261908aba"
   },
   "outputs": [
    {
     "data": {
      "text/html": [
       "<div>\n",
       "<style scoped>\n",
       "    .dataframe tbody tr th:only-of-type {\n",
       "        vertical-align: middle;\n",
       "    }\n",
       "\n",
       "    .dataframe tbody tr th {\n",
       "        vertical-align: top;\n",
       "    }\n",
       "\n",
       "    .dataframe thead th {\n",
       "        text-align: right;\n",
       "    }\n",
       "</style>\n",
       "<table border=\"1\" class=\"dataframe\">\n",
       "  <thead>\n",
       "    <tr style=\"text-align: right;\">\n",
       "      <th></th>\n",
       "      <th>Name</th>\n",
       "      <th>Age</th>\n",
       "    </tr>\n",
       "  </thead>\n",
       "  <tbody>\n",
       "    <tr>\n",
       "      <th>0</th>\n",
       "      <td>John</td>\n",
       "      <td>23.0</td>\n",
       "    </tr>\n",
       "    <tr>\n",
       "      <th>2</th>\n",
       "      <td>Jack</td>\n",
       "      <td>NaN</td>\n",
       "    </tr>\n",
       "  </tbody>\n",
       "</table>\n",
       "</div>"
      ],
      "text/plain": [
       "   Name   Age\n",
       "0  John  23.0\n",
       "2  Jack   NaN"
      ]
     },
     "execution_count": 70,
     "metadata": {},
     "output_type": "execute_result"
    }
   ],
   "source": [
    "index = [n not in list(df2.Name) for n in list(df1.Name)]\n",
    "df1[index]"
   ]
  },
  {
   "cell_type": "markdown",
   "id": "8acfccdd-49c3-487d-9d62-dc8ea676b9b4",
   "metadata": {
    "id": "8acfccdd-49c3-487d-9d62-dc8ea676b9b4"
   },
   "source": [
    "&nbsp;  \n",
    "#### <font color=\"127C02\">*Handling Redundancy / Duplicates in Joins*</span>\n",
    "\n",
    "Duplicate values can be tricky obstacles. They can cause problems while performing joins. These values won’t give an error but will simply create redundancy in our resulting dataframe.  \n",
    "  \n",
    "\\\n",
    "Suppose we have two dataframes:"
   ]
  },
  {
   "cell_type": "code",
   "execution_count": 71,
   "id": "0dcaf0b9-43f9-4d36-a7bb-8d64bdf50fe6",
   "metadata": {
    "colab": {
     "base_uri": "https://localhost:8080/",
     "height": 206
    },
    "executionInfo": {
     "elapsed": 369,
     "status": "ok",
     "timestamp": 1671273117519,
     "user": {
      "displayName": "Thammakorn SAETHANG",
      "userId": "08182570455347153646"
     },
     "user_tz": -420
    },
    "id": "0dcaf0b9-43f9-4d36-a7bb-8d64bdf50fe6",
    "outputId": "5a18a682-d8cd-4211-929d-c54332780d7a"
   },
   "outputs": [
    {
     "data": {
      "text/html": [
       "<div>\n",
       "<style scoped>\n",
       "    .dataframe tbody tr th:only-of-type {\n",
       "        vertical-align: middle;\n",
       "    }\n",
       "\n",
       "    .dataframe tbody tr th {\n",
       "        vertical-align: top;\n",
       "    }\n",
       "\n",
       "    .dataframe thead th {\n",
       "        text-align: right;\n",
       "    }\n",
       "</style>\n",
       "<table border=\"1\" class=\"dataframe\">\n",
       "  <thead>\n",
       "    <tr style=\"text-align: right;\">\n",
       "      <th></th>\n",
       "      <th>Name</th>\n",
       "      <th>Age</th>\n",
       "    </tr>\n",
       "  </thead>\n",
       "  <tbody>\n",
       "    <tr>\n",
       "      <th>0</th>\n",
       "      <td>John</td>\n",
       "      <td>23.0</td>\n",
       "    </tr>\n",
       "    <tr>\n",
       "      <th>1</th>\n",
       "      <td>Linda</td>\n",
       "      <td>31.0</td>\n",
       "    </tr>\n",
       "    <tr>\n",
       "      <th>2</th>\n",
       "      <td>Jack</td>\n",
       "      <td>NaN</td>\n",
       "    </tr>\n",
       "    <tr>\n",
       "      <th>3</th>\n",
       "      <td>Marry</td>\n",
       "      <td>15.0</td>\n",
       "    </tr>\n",
       "    <tr>\n",
       "      <th>4</th>\n",
       "      <td>John</td>\n",
       "      <td>23.0</td>\n",
       "    </tr>\n",
       "  </tbody>\n",
       "</table>\n",
       "</div>"
      ],
      "text/plain": [
       "    Name   Age\n",
       "0   John  23.0\n",
       "1  Linda  31.0\n",
       "2   Jack   NaN\n",
       "3  Marry  15.0\n",
       "4   John  23.0"
      ]
     },
     "execution_count": 71,
     "metadata": {},
     "output_type": "execute_result"
    }
   ],
   "source": [
    "df1 = pd.DataFrame({\n",
    "    'Name': ['John', 'Linda', 'Jack', 'Marry', 'John'],\n",
    "    'Age': [23, 31, np.NaN, 15, 23]\n",
    "})\n",
    "df1  #John is duplicated"
   ]
  },
  {
   "cell_type": "code",
   "execution_count": 72,
   "id": "6843956d-26de-48bd-854c-07d226ce2653",
   "metadata": {
    "colab": {
     "base_uri": "https://localhost:8080/",
     "height": 206
    },
    "executionInfo": {
     "elapsed": 4,
     "status": "ok",
     "timestamp": 1671273120554,
     "user": {
      "displayName": "Thammakorn SAETHANG",
      "userId": "08182570455347153646"
     },
     "user_tz": -420
    },
    "id": "6843956d-26de-48bd-854c-07d226ce2653",
    "outputId": "45604298-4610-4260-b77c-2161bd554973"
   },
   "outputs": [
    {
     "data": {
      "text/html": [
       "<div>\n",
       "<style scoped>\n",
       "    .dataframe tbody tr th:only-of-type {\n",
       "        vertical-align: middle;\n",
       "    }\n",
       "\n",
       "    .dataframe tbody tr th {\n",
       "        vertical-align: top;\n",
       "    }\n",
       "\n",
       "    .dataframe thead th {\n",
       "        text-align: right;\n",
       "    }\n",
       "</style>\n",
       "<table border=\"1\" class=\"dataframe\">\n",
       "  <thead>\n",
       "    <tr style=\"text-align: right;\">\n",
       "      <th></th>\n",
       "      <th>Name</th>\n",
       "      <th>Email</th>\n",
       "    </tr>\n",
       "  </thead>\n",
       "  <tbody>\n",
       "    <tr>\n",
       "      <th>0</th>\n",
       "      <td>Eric</td>\n",
       "      <td>Eric@mail.com</td>\n",
       "    </tr>\n",
       "    <tr>\n",
       "      <th>1</th>\n",
       "      <td>Linda</td>\n",
       "      <td>Linda@mail.com</td>\n",
       "    </tr>\n",
       "    <tr>\n",
       "      <th>2</th>\n",
       "      <td>Ken</td>\n",
       "      <td>Ken@mail.com</td>\n",
       "    </tr>\n",
       "    <tr>\n",
       "      <th>3</th>\n",
       "      <td>Marry</td>\n",
       "      <td>Marry@mail.com</td>\n",
       "    </tr>\n",
       "    <tr>\n",
       "      <th>4</th>\n",
       "      <td>Ken</td>\n",
       "      <td>Ken@mail.com</td>\n",
       "    </tr>\n",
       "  </tbody>\n",
       "</table>\n",
       "</div>"
      ],
      "text/plain": [
       "    Name           Email\n",
       "0   Eric   Eric@mail.com\n",
       "1  Linda  Linda@mail.com\n",
       "2    Ken    Ken@mail.com\n",
       "3  Marry  Marry@mail.com\n",
       "4    Ken    Ken@mail.com"
      ]
     },
     "execution_count": 72,
     "metadata": {},
     "output_type": "execute_result"
    }
   ],
   "source": [
    "df2 = pd.DataFrame({\n",
    "    'Name': ['Eric', 'Linda', 'Ken', 'Marry', 'Ken'],\n",
    "    'Email': [\n",
    "        'Eric@mail.com', 'Linda@mail.com', 'Ken@mail.com', 'Marry@mail.com',\n",
    "        'Ken@mail.com'\n",
    "    ]\n",
    "})\n",
    "df2  #Ken is duplicated"
   ]
  },
  {
   "cell_type": "code",
   "execution_count": 73,
   "id": "a29b4f9c-6ec7-402c-97c4-d094023b0570",
   "metadata": {
    "colab": {
     "base_uri": "https://localhost:8080/",
     "height": 300
    },
    "executionInfo": {
     "elapsed": 734,
     "status": "ok",
     "timestamp": 1671273134131,
     "user": {
      "displayName": "Thammakorn SAETHANG",
      "userId": "08182570455347153646"
     },
     "user_tz": -420
    },
    "id": "a29b4f9c-6ec7-402c-97c4-d094023b0570",
    "outputId": "01b24ac3-631c-4949-d892-42acceeedaa0"
   },
   "outputs": [
    {
     "data": {
      "text/html": [
       "<div>\n",
       "<style scoped>\n",
       "    .dataframe tbody tr th:only-of-type {\n",
       "        vertical-align: middle;\n",
       "    }\n",
       "\n",
       "    .dataframe tbody tr th {\n",
       "        vertical-align: top;\n",
       "    }\n",
       "\n",
       "    .dataframe thead th {\n",
       "        text-align: right;\n",
       "    }\n",
       "</style>\n",
       "<table border=\"1\" class=\"dataframe\">\n",
       "  <thead>\n",
       "    <tr style=\"text-align: right;\">\n",
       "      <th></th>\n",
       "      <th>Name</th>\n",
       "      <th>Age</th>\n",
       "      <th>Email</th>\n",
       "      <th>_merge</th>\n",
       "    </tr>\n",
       "  </thead>\n",
       "  <tbody>\n",
       "    <tr>\n",
       "      <th>0</th>\n",
       "      <td>John</td>\n",
       "      <td>23.0</td>\n",
       "      <td>NaN</td>\n",
       "      <td>left_only</td>\n",
       "    </tr>\n",
       "    <tr>\n",
       "      <th>1</th>\n",
       "      <td>John</td>\n",
       "      <td>23.0</td>\n",
       "      <td>NaN</td>\n",
       "      <td>left_only</td>\n",
       "    </tr>\n",
       "    <tr>\n",
       "      <th>2</th>\n",
       "      <td>Linda</td>\n",
       "      <td>31.0</td>\n",
       "      <td>Linda@mail.com</td>\n",
       "      <td>both</td>\n",
       "    </tr>\n",
       "    <tr>\n",
       "      <th>3</th>\n",
       "      <td>Jack</td>\n",
       "      <td>NaN</td>\n",
       "      <td>NaN</td>\n",
       "      <td>left_only</td>\n",
       "    </tr>\n",
       "    <tr>\n",
       "      <th>4</th>\n",
       "      <td>Marry</td>\n",
       "      <td>15.0</td>\n",
       "      <td>Marry@mail.com</td>\n",
       "      <td>both</td>\n",
       "    </tr>\n",
       "    <tr>\n",
       "      <th>5</th>\n",
       "      <td>Eric</td>\n",
       "      <td>NaN</td>\n",
       "      <td>Eric@mail.com</td>\n",
       "      <td>right_only</td>\n",
       "    </tr>\n",
       "    <tr>\n",
       "      <th>6</th>\n",
       "      <td>Ken</td>\n",
       "      <td>NaN</td>\n",
       "      <td>Ken@mail.com</td>\n",
       "      <td>right_only</td>\n",
       "    </tr>\n",
       "    <tr>\n",
       "      <th>7</th>\n",
       "      <td>Ken</td>\n",
       "      <td>NaN</td>\n",
       "      <td>Ken@mail.com</td>\n",
       "      <td>right_only</td>\n",
       "    </tr>\n",
       "  </tbody>\n",
       "</table>\n",
       "</div>"
      ],
      "text/plain": [
       "    Name   Age           Email      _merge\n",
       "0   John  23.0             NaN   left_only\n",
       "1   John  23.0             NaN   left_only\n",
       "2  Linda  31.0  Linda@mail.com        both\n",
       "3   Jack   NaN             NaN   left_only\n",
       "4  Marry  15.0  Marry@mail.com        both\n",
       "5   Eric   NaN   Eric@mail.com  right_only\n",
       "6    Ken   NaN    Ken@mail.com  right_only\n",
       "7    Ken   NaN    Ken@mail.com  right_only"
      ]
     },
     "execution_count": 73,
     "metadata": {},
     "output_type": "execute_result"
    }
   ],
   "source": [
    "pd.merge(df1, df2, how='outer', on='Name', indicator=True)"
   ]
  },
  {
   "cell_type": "markdown",
   "id": "da48db46-c371-4287-8e52-2fdd023a69d2",
   "metadata": {
    "id": "da48db46-c371-4287-8e52-2fdd023a69d2"
   },
   "source": [
    "\\\n",
    "We can use drop_duplicates() to remove duplicated rows in joined dataframe."
   ]
  },
  {
   "cell_type": "code",
   "execution_count": 74,
   "id": "9f79080b-f966-4334-ba54-bc65e40cf8ae",
   "metadata": {
    "colab": {
     "base_uri": "https://localhost:8080/",
     "height": 238
    },
    "executionInfo": {
     "elapsed": 746,
     "status": "ok",
     "timestamp": 1671273154648,
     "user": {
      "displayName": "Thammakorn SAETHANG",
      "userId": "08182570455347153646"
     },
     "user_tz": -420
    },
    "id": "9f79080b-f966-4334-ba54-bc65e40cf8ae",
    "outputId": "79109487-ce01-4a59-e292-51d1fa8c227b"
   },
   "outputs": [
    {
     "data": {
      "text/html": [
       "<div>\n",
       "<style scoped>\n",
       "    .dataframe tbody tr th:only-of-type {\n",
       "        vertical-align: middle;\n",
       "    }\n",
       "\n",
       "    .dataframe tbody tr th {\n",
       "        vertical-align: top;\n",
       "    }\n",
       "\n",
       "    .dataframe thead th {\n",
       "        text-align: right;\n",
       "    }\n",
       "</style>\n",
       "<table border=\"1\" class=\"dataframe\">\n",
       "  <thead>\n",
       "    <tr style=\"text-align: right;\">\n",
       "      <th></th>\n",
       "      <th>Name</th>\n",
       "      <th>Age</th>\n",
       "      <th>Email</th>\n",
       "      <th>_merge</th>\n",
       "    </tr>\n",
       "  </thead>\n",
       "  <tbody>\n",
       "    <tr>\n",
       "      <th>0</th>\n",
       "      <td>John</td>\n",
       "      <td>23.0</td>\n",
       "      <td>NaN</td>\n",
       "      <td>left_only</td>\n",
       "    </tr>\n",
       "    <tr>\n",
       "      <th>2</th>\n",
       "      <td>Linda</td>\n",
       "      <td>31.0</td>\n",
       "      <td>Linda@mail.com</td>\n",
       "      <td>both</td>\n",
       "    </tr>\n",
       "    <tr>\n",
       "      <th>3</th>\n",
       "      <td>Jack</td>\n",
       "      <td>NaN</td>\n",
       "      <td>NaN</td>\n",
       "      <td>left_only</td>\n",
       "    </tr>\n",
       "    <tr>\n",
       "      <th>4</th>\n",
       "      <td>Marry</td>\n",
       "      <td>15.0</td>\n",
       "      <td>Marry@mail.com</td>\n",
       "      <td>both</td>\n",
       "    </tr>\n",
       "    <tr>\n",
       "      <th>5</th>\n",
       "      <td>Eric</td>\n",
       "      <td>NaN</td>\n",
       "      <td>Eric@mail.com</td>\n",
       "      <td>right_only</td>\n",
       "    </tr>\n",
       "    <tr>\n",
       "      <th>6</th>\n",
       "      <td>Ken</td>\n",
       "      <td>NaN</td>\n",
       "      <td>Ken@mail.com</td>\n",
       "      <td>right_only</td>\n",
       "    </tr>\n",
       "  </tbody>\n",
       "</table>\n",
       "</div>"
      ],
      "text/plain": [
       "    Name   Age           Email      _merge\n",
       "0   John  23.0             NaN   left_only\n",
       "2  Linda  31.0  Linda@mail.com        both\n",
       "3   Jack   NaN             NaN   left_only\n",
       "4  Marry  15.0  Marry@mail.com        both\n",
       "5   Eric   NaN   Eric@mail.com  right_only\n",
       "6    Ken   NaN    Ken@mail.com  right_only"
      ]
     },
     "execution_count": 74,
     "metadata": {},
     "output_type": "execute_result"
    }
   ],
   "source": [
    "pd.merge(df1, df2, how='outer', on='Name', indicator=True).drop_duplicates()"
   ]
  },
  {
   "cell_type": "markdown",
   "id": "ca523da7-0a5b-422f-a339-832955e53ae0",
   "metadata": {
    "id": "ca523da7-0a5b-422f-a339-832955e53ae0"
   },
   "source": [
    "\\\n",
    "We can also remove duplicate rows before joining using .drop_duplicates()."
   ]
  },
  {
   "cell_type": "code",
   "execution_count": 75,
   "id": "b588362b-b401-4f73-932b-2eaf803789a2",
   "metadata": {
    "colab": {
     "base_uri": "https://localhost:8080/",
     "height": 238
    },
    "executionInfo": {
     "elapsed": 375,
     "status": "ok",
     "timestamp": 1671273174932,
     "user": {
      "displayName": "Thammakorn SAETHANG",
      "userId": "08182570455347153646"
     },
     "user_tz": -420
    },
    "id": "b588362b-b401-4f73-932b-2eaf803789a2",
    "outputId": "8ec242c9-5c1c-4708-8ead-1f617e02ecd7"
   },
   "outputs": [
    {
     "data": {
      "text/html": [
       "<div>\n",
       "<style scoped>\n",
       "    .dataframe tbody tr th:only-of-type {\n",
       "        vertical-align: middle;\n",
       "    }\n",
       "\n",
       "    .dataframe tbody tr th {\n",
       "        vertical-align: top;\n",
       "    }\n",
       "\n",
       "    .dataframe thead th {\n",
       "        text-align: right;\n",
       "    }\n",
       "</style>\n",
       "<table border=\"1\" class=\"dataframe\">\n",
       "  <thead>\n",
       "    <tr style=\"text-align: right;\">\n",
       "      <th></th>\n",
       "      <th>Name</th>\n",
       "      <th>Age</th>\n",
       "      <th>Email</th>\n",
       "      <th>_merge</th>\n",
       "    </tr>\n",
       "  </thead>\n",
       "  <tbody>\n",
       "    <tr>\n",
       "      <th>0</th>\n",
       "      <td>John</td>\n",
       "      <td>23.0</td>\n",
       "      <td>NaN</td>\n",
       "      <td>left_only</td>\n",
       "    </tr>\n",
       "    <tr>\n",
       "      <th>1</th>\n",
       "      <td>Linda</td>\n",
       "      <td>31.0</td>\n",
       "      <td>Linda@mail.com</td>\n",
       "      <td>both</td>\n",
       "    </tr>\n",
       "    <tr>\n",
       "      <th>2</th>\n",
       "      <td>Jack</td>\n",
       "      <td>NaN</td>\n",
       "      <td>NaN</td>\n",
       "      <td>left_only</td>\n",
       "    </tr>\n",
       "    <tr>\n",
       "      <th>3</th>\n",
       "      <td>Marry</td>\n",
       "      <td>15.0</td>\n",
       "      <td>Marry@mail.com</td>\n",
       "      <td>both</td>\n",
       "    </tr>\n",
       "    <tr>\n",
       "      <th>4</th>\n",
       "      <td>Eric</td>\n",
       "      <td>NaN</td>\n",
       "      <td>Eric@mail.com</td>\n",
       "      <td>right_only</td>\n",
       "    </tr>\n",
       "    <tr>\n",
       "      <th>5</th>\n",
       "      <td>Ken</td>\n",
       "      <td>NaN</td>\n",
       "      <td>Ken@mail.com</td>\n",
       "      <td>right_only</td>\n",
       "    </tr>\n",
       "  </tbody>\n",
       "</table>\n",
       "</div>"
      ],
      "text/plain": [
       "    Name   Age           Email      _merge\n",
       "0   John  23.0             NaN   left_only\n",
       "1  Linda  31.0  Linda@mail.com        both\n",
       "2   Jack   NaN             NaN   left_only\n",
       "3  Marry  15.0  Marry@mail.com        both\n",
       "4   Eric   NaN   Eric@mail.com  right_only\n",
       "5    Ken   NaN    Ken@mail.com  right_only"
      ]
     },
     "execution_count": 75,
     "metadata": {},
     "output_type": "execute_result"
    }
   ],
   "source": [
    "pd.merge(df1.drop_duplicates(),\n",
    "         df2.drop_duplicates(),\n",
    "         how='outer',\n",
    "         on='Name',\n",
    "         indicator=True)"
   ]
  },
  {
   "cell_type": "markdown",
   "id": "127dd1f5-d116-4a3e-8b11-ff8acffa50b8",
   "metadata": {
    "id": "127dd1f5-d116-4a3e-8b11-ff8acffa50b8"
   },
   "source": [
    "&nbsp;  \n",
    "#### <font color=\"127C02\">*Split a String Column*</span>\n",
    "\n",
    "A common problem is how to split a string column into components.\n",
    "For example, split name and surname."
   ]
  },
  {
   "cell_type": "code",
   "execution_count": 76,
   "id": "dce66002-f021-4679-8f8e-e0f4680c0c3c",
   "metadata": {
    "colab": {
     "base_uri": "https://localhost:8080/",
     "height": 143
    },
    "executionInfo": {
     "elapsed": 382,
     "status": "ok",
     "timestamp": 1671273202442,
     "user": {
      "displayName": "Thammakorn SAETHANG",
      "userId": "08182570455347153646"
     },
     "user_tz": -420
    },
    "id": "dce66002-f021-4679-8f8e-e0f4680c0c3c",
    "outputId": "08e0b551-fb78-4c53-8b81-79ac05e95294"
   },
   "outputs": [
    {
     "data": {
      "text/html": [
       "<div>\n",
       "<style scoped>\n",
       "    .dataframe tbody tr th:only-of-type {\n",
       "        vertical-align: middle;\n",
       "    }\n",
       "\n",
       "    .dataframe tbody tr th {\n",
       "        vertical-align: top;\n",
       "    }\n",
       "\n",
       "    .dataframe thead th {\n",
       "        text-align: right;\n",
       "    }\n",
       "</style>\n",
       "<table border=\"1\" class=\"dataframe\">\n",
       "  <thead>\n",
       "    <tr style=\"text-align: right;\">\n",
       "      <th></th>\n",
       "      <th>name</th>\n",
       "    </tr>\n",
       "  </thead>\n",
       "  <tbody>\n",
       "    <tr>\n",
       "      <th>0</th>\n",
       "      <td>John Smith</td>\n",
       "    </tr>\n",
       "    <tr>\n",
       "      <th>1</th>\n",
       "      <td>Kim Saika</td>\n",
       "    </tr>\n",
       "    <tr>\n",
       "      <th>2</th>\n",
       "      <td>Rose Miller</td>\n",
       "    </tr>\n",
       "  </tbody>\n",
       "</table>\n",
       "</div>"
      ],
      "text/plain": [
       "          name\n",
       "0   John Smith\n",
       "1    Kim Saika\n",
       "2  Rose Miller"
      ]
     },
     "execution_count": 76,
     "metadata": {},
     "output_type": "execute_result"
    }
   ],
   "source": [
    "df = pd.DataFrame(dict(name=['John Smith', 'Kim Saika', 'Rose Miller']))\n",
    "df"
   ]
  },
  {
   "cell_type": "markdown",
   "id": "f2ae1fe2-2333-47f6-9057-d1c9a1e700fc",
   "metadata": {
    "id": "f2ae1fe2-2333-47f6-9057-d1c9a1e700fc"
   },
   "source": [
    "\\\n",
    "The key step is the expand keyword argument of split() that converts the result into a dataframe.  \n",
    "The result can be assigned into the same dataframe using the following:"
   ]
  },
  {
   "cell_type": "code",
   "execution_count": 77,
   "id": "0a61b05f-b125-450d-b180-3a8a18749974",
   "metadata": {
    "colab": {
     "base_uri": "https://localhost:8080/",
     "height": 143
    },
    "executionInfo": {
     "elapsed": 356,
     "status": "ok",
     "timestamp": 1671273282861,
     "user": {
      "displayName": "Thammakorn SAETHANG",
      "userId": "08182570455347153646"
     },
     "user_tz": -420
    },
    "id": "0a61b05f-b125-450d-b180-3a8a18749974",
    "outputId": "d58b140e-70a1-4277-c83f-03383e618ea3"
   },
   "outputs": [
    {
     "data": {
      "text/html": [
       "<div>\n",
       "<style scoped>\n",
       "    .dataframe tbody tr th:only-of-type {\n",
       "        vertical-align: middle;\n",
       "    }\n",
       "\n",
       "    .dataframe tbody tr th {\n",
       "        vertical-align: top;\n",
       "    }\n",
       "\n",
       "    .dataframe thead th {\n",
       "        text-align: right;\n",
       "    }\n",
       "</style>\n",
       "<table border=\"1\" class=\"dataframe\">\n",
       "  <thead>\n",
       "    <tr style=\"text-align: right;\">\n",
       "      <th></th>\n",
       "      <th>name</th>\n",
       "      <th>first</th>\n",
       "      <th>last</th>\n",
       "    </tr>\n",
       "  </thead>\n",
       "  <tbody>\n",
       "    <tr>\n",
       "      <th>0</th>\n",
       "      <td>John Smith</td>\n",
       "      <td>John</td>\n",
       "      <td>Smith</td>\n",
       "    </tr>\n",
       "    <tr>\n",
       "      <th>1</th>\n",
       "      <td>Kim Saika</td>\n",
       "      <td>Kim</td>\n",
       "      <td>Saika</td>\n",
       "    </tr>\n",
       "    <tr>\n",
       "      <th>2</th>\n",
       "      <td>Rose Miller</td>\n",
       "      <td>Rose</td>\n",
       "      <td>Miller</td>\n",
       "    </tr>\n",
       "  </tbody>\n",
       "</table>\n",
       "</div>"
      ],
      "text/plain": [
       "          name first    last\n",
       "0   John Smith  John   Smith\n",
       "1    Kim Saika   Kim   Saika\n",
       "2  Rose Miller  Rose  Miller"
      ]
     },
     "execution_count": 77,
     "metadata": {},
     "output_type": "execute_result"
    }
   ],
   "source": [
    "df[['first', 'last']] = df.name.str.split(' ', expand=True)\n",
    "df"
   ]
  },
  {
   "cell_type": "markdown",
   "id": "72675991-723d-43d6-9c5a-cce62039ec6f",
   "metadata": {
    "id": "72675991-723d-43d6-9c5a-cce62039ec6f"
   },
   "source": [
    "\\\n",
    "Note that failing to use the expand keyword argument results in an output series instead of a dataframe."
   ]
  },
  {
   "cell_type": "code",
   "execution_count": 78,
   "id": "13a50106-3c47-4b3e-a32f-814500fc9fc7",
   "metadata": {
    "colab": {
     "base_uri": "https://localhost:8080/"
    },
    "executionInfo": {
     "elapsed": 776,
     "status": "ok",
     "timestamp": 1671273294797,
     "user": {
      "displayName": "Thammakorn SAETHANG",
      "userId": "08182570455347153646"
     },
     "user_tz": -420
    },
    "id": "13a50106-3c47-4b3e-a32f-814500fc9fc7",
    "outputId": "63b77600-1048-4760-e0e4-6841139d44d0"
   },
   "outputs": [
    {
     "name": "stdout",
     "output_type": "stream",
     "text": [
      "0     [John, Smith]\n",
      "1      [Kim, Saika]\n",
      "2    [Rose, Miller]\n",
      "Name: name, dtype: object\n"
     ]
    },
    {
     "data": {
      "text/plain": [
       "pandas.core.series.Series"
      ]
     },
     "execution_count": 78,
     "metadata": {},
     "output_type": "execute_result"
    }
   ],
   "source": [
    "x = df.name.str.split(' ')\n",
    "print(x)\n",
    "type(x)"
   ]
  },
  {
   "cell_type": "code",
   "execution_count": null,
   "id": "6406068c",
   "metadata": {
    "id": "6406068c"
   },
   "outputs": [],
   "source": []
  }
 ],
 "metadata": {
  "colab": {
   "provenance": []
  },
  "kernelspec": {
   "display_name": "Python 3",
   "language": "python",
   "name": "python3"
  },
  "language_info": {
   "codemirror_mode": {
    "name": "ipython",
    "version": 3
   },
   "file_extension": ".py",
   "mimetype": "text/x-python",
   "name": "python",
   "nbconvert_exporter": "python",
   "pygments_lexer": "ipython3",
   "version": "3.9.13"
  }
 },
 "nbformat": 4,
 "nbformat_minor": 5
}
