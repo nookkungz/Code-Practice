{
 "cells": [
  {
   "cell_type": "markdown",
   "id": "2c39f2d8-7886-423f-a4f4-7f5c504b7ee8",
   "metadata": {
    "id": "2c39f2d8-7886-423f-a4f4-7f5c504b7ee8"
   },
   "source": [
    "# <font color='DE1509'>**การวิเคราะห์ข้อมูลเบื้องต้น**</font>"
   ]
  },
  {
   "cell_type": "markdown",
   "id": "67f31959-a73a-408f-bdf4-cfe8fb02fe5a",
   "metadata": {
    "id": "67f31959-a73a-408f-bdf4-cfe8fb02fe5a"
   },
   "source": [
    "---"
   ]
  },
  {
   "cell_type": "code",
   "execution_count": 1,
   "id": "01caccc8-b244-46c8-a4de-a5037a644ce8",
   "metadata": {
    "executionInfo": {
     "elapsed": 1350,
     "status": "ok",
     "timestamp": 1734287516027,
     "user": {
      "displayName": "Thammakorn SAETHANG",
      "userId": "08182570455347153646"
     },
     "user_tz": -420
    },
    "id": "01caccc8-b244-46c8-a4de-a5037a644ce8"
   },
   "outputs": [],
   "source": [
    "import numpy as np\n",
    "import pandas as pd\n",
    "import statistics"
   ]
  },
  {
   "cell_type": "markdown",
   "id": "d82a6214-ac93-4612-9e78-41811dadc608",
   "metadata": {
    "id": "d82a6214-ac93-4612-9e78-41811dadc608",
    "tags": []
   },
   "source": [
    "&nbsp;  \n",
    "#### 4.1 ได้ทำการสุ่มตัวอย่างผู้ป่วยในแผนกหนึ่งจำนวน 10 คนและวัดส่วนสูง ได้ค่าดัง heights จงหาค่าเฉลี่ยส่วนสูง"
   ]
  },
  {
   "cell_type": "code",
   "execution_count": 2,
   "id": "ae649729-ce66-470d-bce0-e42f64ded1c3",
   "metadata": {
    "id": "ae649729-ce66-470d-bce0-e42f64ded1c3"
   },
   "outputs": [],
   "source": [
    "heights = [172, 154, 165, 159, 173, 177, 180, 169, 158, 175]"
   ]
  },
  {
   "cell_type": "markdown",
   "id": "25ef94a3-a079-42ee-bbda-a43b4e198a28",
   "metadata": {
    "id": "25ef94a3-a079-42ee-bbda-a43b4e198a28"
   },
   "source": [
    "\\\n",
    "ใช้ built-in function"
   ]
  },
  {
   "cell_type": "code",
   "execution_count": 3,
   "id": "5dc5fdb4-23b3-4dfc-9e76-d2c9b63d0e47",
   "metadata": {
    "colab": {
     "base_uri": "https://localhost:8080/"
    },
    "executionInfo": {
     "elapsed": 538,
     "status": "ok",
     "timestamp": 1733739100785,
     "user": {
      "displayName": "Thammakorn SAETHANG",
      "userId": "08182570455347153646"
     },
     "user_tz": -420
    },
    "id": "5dc5fdb4-23b3-4dfc-9e76-d2c9b63d0e47",
    "outputId": "bccd40a7-c7ba-4fa2-f334-9963d75d6239"
   },
   "outputs": [
    {
     "data": {
      "text/plain": [
       "168.2"
      ]
     },
     "execution_count": 3,
     "metadata": {},
     "output_type": "execute_result"
    }
   ],
   "source": [
    "sum(heights)/len(heights)"
   ]
  },
  {
   "cell_type": "markdown",
   "id": "f02ba188-37ff-4179-9b6c-4cb15bfc57aa",
   "metadata": {
    "id": "f02ba188-37ff-4179-9b6c-4cb15bfc57aa"
   },
   "source": [
    "\\\n",
    "ใช้ numpy.mean()"
   ]
  },
  {
   "cell_type": "code",
   "execution_count": 4,
   "id": "df7fa960-1356-4ed6-a876-ad34e5bae39a",
   "metadata": {
    "colab": {
     "base_uri": "https://localhost:8080/"
    },
    "executionInfo": {
     "elapsed": 333,
     "status": "ok",
     "timestamp": 1733739113752,
     "user": {
      "displayName": "Thammakorn SAETHANG",
      "userId": "08182570455347153646"
     },
     "user_tz": -420
    },
    "id": "df7fa960-1356-4ed6-a876-ad34e5bae39a",
    "outputId": "34a806c5-85cb-40fa-a9a9-1d9d899c3fbb"
   },
   "outputs": [
    {
     "data": {
      "text/plain": [
       "168.2"
      ]
     },
     "execution_count": 4,
     "metadata": {},
     "output_type": "execute_result"
    }
   ],
   "source": [
    "np.mean(heights)"
   ]
  },
  {
   "cell_type": "markdown",
   "id": "18903778-539f-4e6b-97d7-f856f66b5e58",
   "metadata": {
    "id": "18903778-539f-4e6b-97d7-f856f66b5e58"
   },
   "source": [
    "\\\n",
    "ใช้ statistics.mean()"
   ]
  },
  {
   "cell_type": "code",
   "execution_count": 5,
   "id": "661c228d-2608-4fb0-b150-45454d372556",
   "metadata": {
    "colab": {
     "base_uri": "https://localhost:8080/"
    },
    "executionInfo": {
     "elapsed": 312,
     "status": "ok",
     "timestamp": 1733739120016,
     "user": {
      "displayName": "Thammakorn SAETHANG",
      "userId": "08182570455347153646"
     },
     "user_tz": -420
    },
    "id": "661c228d-2608-4fb0-b150-45454d372556",
    "outputId": "fb0fff3e-8864-4424-9a7e-3b8a3d191835"
   },
   "outputs": [
    {
     "data": {
      "text/plain": [
       "168.2"
      ]
     },
     "execution_count": 5,
     "metadata": {},
     "output_type": "execute_result"
    }
   ],
   "source": [
    "statistics.mean(heights)"
   ]
  },
  {
   "cell_type": "markdown",
   "id": "fd32bcf5-315a-43bb-af22-018937924805",
   "metadata": {
    "id": "fd32bcf5-315a-43bb-af22-018937924805",
    "tags": []
   },
   "source": [
    "&nbsp;  \n",
    "#### 4.2 ตารางแจกแจงความถี่แสดงเวลาที่รถยนต์ซึ่งถูกสุ่มเป็นตัวอย่างจำนวน 40 คันใช้ในการรอสัญญาณไฟจราจร ก่อนที่จะผ่านสี่แยกหลักสี่ มีข้อมูลดังปรากฏในไฟล์ 'ex3_2_traffic.csv' จงหาเวลาเฉลี่ยที่รถยนต์ 40 คันใช้ในการรอสัญญาณไฟจราจร"
   ]
  },
  {
   "cell_type": "code",
   "execution_count": 6,
   "id": "97afd342-af9e-4d28-9422-fe3aa59befc6",
   "metadata": {
    "colab": {
     "base_uri": "https://localhost:8080/",
     "height": 237
    },
    "executionInfo": {
     "elapsed": 672,
     "status": "ok",
     "timestamp": 1733739409016,
     "user": {
      "displayName": "Thammakorn SAETHANG",
      "userId": "08182570455347153646"
     },
     "user_tz": -420
    },
    "id": "97afd342-af9e-4d28-9422-fe3aa59befc6",
    "outputId": "79a1e63a-9615-4d72-c94a-7bb7d97a745b"
   },
   "outputs": [
    {
     "data": {
      "text/html": [
       "<div>\n",
       "<style scoped>\n",
       "    .dataframe tbody tr th:only-of-type {\n",
       "        vertical-align: middle;\n",
       "    }\n",
       "\n",
       "    .dataframe tbody tr th {\n",
       "        vertical-align: top;\n",
       "    }\n",
       "\n",
       "    .dataframe thead th {\n",
       "        text-align: right;\n",
       "    }\n",
       "</style>\n",
       "<table border=\"1\" class=\"dataframe\">\n",
       "  <thead>\n",
       "    <tr style=\"text-align: right;\">\n",
       "      <th></th>\n",
       "      <th>เวลาที่รอ (นาที)</th>\n",
       "      <th>ความถี่ (f)</th>\n",
       "    </tr>\n",
       "  </thead>\n",
       "  <tbody>\n",
       "    <tr>\n",
       "      <th>0</th>\n",
       "      <td>11-15</td>\n",
       "      <td>5</td>\n",
       "    </tr>\n",
       "    <tr>\n",
       "      <th>1</th>\n",
       "      <td>16-20</td>\n",
       "      <td>4</td>\n",
       "    </tr>\n",
       "    <tr>\n",
       "      <th>2</th>\n",
       "      <td>21-25</td>\n",
       "      <td>10</td>\n",
       "    </tr>\n",
       "    <tr>\n",
       "      <th>3</th>\n",
       "      <td>26-30</td>\n",
       "      <td>8</td>\n",
       "    </tr>\n",
       "    <tr>\n",
       "      <th>4</th>\n",
       "      <td>31-35</td>\n",
       "      <td>6</td>\n",
       "    </tr>\n",
       "    <tr>\n",
       "      <th>5</th>\n",
       "      <td>36-40</td>\n",
       "      <td>7</td>\n",
       "    </tr>\n",
       "  </tbody>\n",
       "</table>\n",
       "</div>"
      ],
      "text/plain": [
       "  เวลาที่รอ (นาที)  ความถี่ (f)\n",
       "0            11-15            5\n",
       "1            16-20            4\n",
       "2            21-25           10\n",
       "3            26-30            8\n",
       "4            31-35            6\n",
       "5            36-40            7"
      ]
     },
     "execution_count": 6,
     "metadata": {},
     "output_type": "execute_result"
    }
   ],
   "source": [
    "df_traffic = pd.read_csv('https://raw.githubusercontent.com/ThammakornS/ProgStat/main/dataset/ex4_2_traffic.csv')\n",
    "df_traffic"
   ]
  },
  {
   "cell_type": "markdown",
   "id": "6bb5720f-6331-4a58-8c36-dcba04bee08b",
   "metadata": {
    "id": "6bb5720f-6331-4a58-8c36-dcba04bee08b"
   },
   "source": [
    "แต่คอลัมน์ช่วงเวลายังเป็น String ของช่วงเวลา เราต้องทำการแยก ขอบเขตบนและขอบเขตล่าง และแปลงค่าให้เป็น int/double"
   ]
  },
  {
   "cell_type": "markdown",
   "id": "e9f48f9e-c0c2-4d2c-8d46-5c16bae3e634",
   "metadata": {
    "id": "e9f48f9e-c0c2-4d2c-8d46-5c16bae3e634"
   },
   "source": [
    "\\\n",
    "ก่อนอื่นต้องหาค่ากึ่งกลาง ของแต่ละช่วงเวลาที่รอ เพื่อให้สะดวกในการแสดงผลเราจะแสดงค่ากึ่งกลางเป็นคอลัมน์ใหม่"
   ]
  },
  {
   "cell_type": "code",
   "execution_count": 7,
   "id": "d994f928-98c9-4f82-8f58-a9bf00ae04f1",
   "metadata": {
    "colab": {
     "base_uri": "https://localhost:8080/",
     "height": 237
    },
    "executionInfo": {
     "elapsed": 325,
     "status": "ok",
     "timestamp": 1733741510475,
     "user": {
      "displayName": "Thammakorn SAETHANG",
      "userId": "08182570455347153646"
     },
     "user_tz": -420
    },
    "id": "d994f928-98c9-4f82-8f58-a9bf00ae04f1",
    "outputId": "7444741f-c295-4698-afff-e2d9346cf008"
   },
   "outputs": [
    {
     "data": {
      "text/html": [
       "<div>\n",
       "<style scoped>\n",
       "    .dataframe tbody tr th:only-of-type {\n",
       "        vertical-align: middle;\n",
       "    }\n",
       "\n",
       "    .dataframe tbody tr th {\n",
       "        vertical-align: top;\n",
       "    }\n",
       "\n",
       "    .dataframe thead th {\n",
       "        text-align: right;\n",
       "    }\n",
       "</style>\n",
       "<table border=\"1\" class=\"dataframe\">\n",
       "  <thead>\n",
       "    <tr style=\"text-align: right;\">\n",
       "      <th></th>\n",
       "      <th>0</th>\n",
       "      <th>1</th>\n",
       "    </tr>\n",
       "  </thead>\n",
       "  <tbody>\n",
       "    <tr>\n",
       "      <th>0</th>\n",
       "      <td>11</td>\n",
       "      <td>15</td>\n",
       "    </tr>\n",
       "    <tr>\n",
       "      <th>1</th>\n",
       "      <td>16</td>\n",
       "      <td>20</td>\n",
       "    </tr>\n",
       "    <tr>\n",
       "      <th>2</th>\n",
       "      <td>21</td>\n",
       "      <td>25</td>\n",
       "    </tr>\n",
       "    <tr>\n",
       "      <th>3</th>\n",
       "      <td>26</td>\n",
       "      <td>30</td>\n",
       "    </tr>\n",
       "    <tr>\n",
       "      <th>4</th>\n",
       "      <td>31</td>\n",
       "      <td>35</td>\n",
       "    </tr>\n",
       "    <tr>\n",
       "      <th>5</th>\n",
       "      <td>36</td>\n",
       "      <td>40</td>\n",
       "    </tr>\n",
       "  </tbody>\n",
       "</table>\n",
       "</div>"
      ],
      "text/plain": [
       "    0   1\n",
       "0  11  15\n",
       "1  16  20\n",
       "2  21  25\n",
       "3  26  30\n",
       "4  31  35\n",
       "5  36  40"
      ]
     },
     "execution_count": 7,
     "metadata": {},
     "output_type": "execute_result"
    }
   ],
   "source": [
    "boundary = df_traffic['เวลาที่รอ (นาที)'].str.split('-', expand=True).astype(int)\n",
    "boundary"
   ]
  },
  {
   "cell_type": "code",
   "execution_count": 8,
   "id": "543fb827-36aa-4823-a8b8-dce262b16e3b",
   "metadata": {
    "colab": {
     "base_uri": "https://localhost:8080/",
     "height": 237
    },
    "executionInfo": {
     "elapsed": 333,
     "status": "ok",
     "timestamp": 1733741512838,
     "user": {
      "displayName": "Thammakorn SAETHANG",
      "userId": "08182570455347153646"
     },
     "user_tz": -420
    },
    "id": "543fb827-36aa-4823-a8b8-dce262b16e3b",
    "outputId": "974bf836-487d-4d3e-b2a6-d97d7f854fc2"
   },
   "outputs": [
    {
     "data": {
      "text/html": [
       "<div>\n",
       "<style scoped>\n",
       "    .dataframe tbody tr th:only-of-type {\n",
       "        vertical-align: middle;\n",
       "    }\n",
       "\n",
       "    .dataframe tbody tr th {\n",
       "        vertical-align: top;\n",
       "    }\n",
       "\n",
       "    .dataframe thead th {\n",
       "        text-align: right;\n",
       "    }\n",
       "</style>\n",
       "<table border=\"1\" class=\"dataframe\">\n",
       "  <thead>\n",
       "    <tr style=\"text-align: right;\">\n",
       "      <th></th>\n",
       "      <th>เวลาที่รอ (นาที)</th>\n",
       "      <th>ความถี่ (f)</th>\n",
       "      <th>ค่ากึ่งกลาง (x)</th>\n",
       "    </tr>\n",
       "  </thead>\n",
       "  <tbody>\n",
       "    <tr>\n",
       "      <th>0</th>\n",
       "      <td>11-15</td>\n",
       "      <td>5</td>\n",
       "      <td>13.0</td>\n",
       "    </tr>\n",
       "    <tr>\n",
       "      <th>1</th>\n",
       "      <td>16-20</td>\n",
       "      <td>4</td>\n",
       "      <td>18.0</td>\n",
       "    </tr>\n",
       "    <tr>\n",
       "      <th>2</th>\n",
       "      <td>21-25</td>\n",
       "      <td>10</td>\n",
       "      <td>23.0</td>\n",
       "    </tr>\n",
       "    <tr>\n",
       "      <th>3</th>\n",
       "      <td>26-30</td>\n",
       "      <td>8</td>\n",
       "      <td>28.0</td>\n",
       "    </tr>\n",
       "    <tr>\n",
       "      <th>4</th>\n",
       "      <td>31-35</td>\n",
       "      <td>6</td>\n",
       "      <td>33.0</td>\n",
       "    </tr>\n",
       "    <tr>\n",
       "      <th>5</th>\n",
       "      <td>36-40</td>\n",
       "      <td>7</td>\n",
       "      <td>38.0</td>\n",
       "    </tr>\n",
       "  </tbody>\n",
       "</table>\n",
       "</div>"
      ],
      "text/plain": [
       "  เวลาที่รอ (นาที)  ความถี่ (f)  ค่ากึ่งกลาง (x)\n",
       "0            11-15            5             13.0\n",
       "1            16-20            4             18.0\n",
       "2            21-25           10             23.0\n",
       "3            26-30            8             28.0\n",
       "4            31-35            6             33.0\n",
       "5            36-40            7             38.0"
      ]
     },
     "execution_count": 8,
     "metadata": {},
     "output_type": "execute_result"
    }
   ],
   "source": [
    "df_traffic['ค่ากึ่งกลาง (x)'] = (boundary[0]+boundary[1])/2  #hardcore mode\n",
    "# หรือ df_traffic['ค่ากึ่งกลาง (x)'] = np.arange(13,38+5,5)\n",
    "df_traffic"
   ]
  },
  {
   "cell_type": "markdown",
   "id": "9c0bd5f6-bb03-4efc-a947-2a3c6ef4b0d3",
   "metadata": {
    "id": "9c0bd5f6-bb03-4efc-a947-2a3c6ef4b0d3"
   },
   "source": [
    "\\\n",
    "คำนวณค่ากึ่งกลางคูณด้วยความถี่ (fx)"
   ]
  },
  {
   "cell_type": "code",
   "execution_count": 9,
   "id": "05f52475-8f43-48ca-ab8f-f43e5e0be1df",
   "metadata": {
    "colab": {
     "base_uri": "https://localhost:8080/",
     "height": 237
    },
    "executionInfo": {
     "elapsed": 315,
     "status": "ok",
     "timestamp": 1733741516742,
     "user": {
      "displayName": "Thammakorn SAETHANG",
      "userId": "08182570455347153646"
     },
     "user_tz": -420
    },
    "id": "05f52475-8f43-48ca-ab8f-f43e5e0be1df",
    "outputId": "d424a811-ff69-425e-9705-9a52949fdc22"
   },
   "outputs": [
    {
     "data": {
      "text/html": [
       "<div>\n",
       "<style scoped>\n",
       "    .dataframe tbody tr th:only-of-type {\n",
       "        vertical-align: middle;\n",
       "    }\n",
       "\n",
       "    .dataframe tbody tr th {\n",
       "        vertical-align: top;\n",
       "    }\n",
       "\n",
       "    .dataframe thead th {\n",
       "        text-align: right;\n",
       "    }\n",
       "</style>\n",
       "<table border=\"1\" class=\"dataframe\">\n",
       "  <thead>\n",
       "    <tr style=\"text-align: right;\">\n",
       "      <th></th>\n",
       "      <th>เวลาที่รอ (นาที)</th>\n",
       "      <th>ความถี่ (f)</th>\n",
       "      <th>ค่ากึ่งกลาง (x)</th>\n",
       "      <th>fx</th>\n",
       "    </tr>\n",
       "  </thead>\n",
       "  <tbody>\n",
       "    <tr>\n",
       "      <th>0</th>\n",
       "      <td>11-15</td>\n",
       "      <td>5</td>\n",
       "      <td>13.0</td>\n",
       "      <td>65.0</td>\n",
       "    </tr>\n",
       "    <tr>\n",
       "      <th>1</th>\n",
       "      <td>16-20</td>\n",
       "      <td>4</td>\n",
       "      <td>18.0</td>\n",
       "      <td>72.0</td>\n",
       "    </tr>\n",
       "    <tr>\n",
       "      <th>2</th>\n",
       "      <td>21-25</td>\n",
       "      <td>10</td>\n",
       "      <td>23.0</td>\n",
       "      <td>230.0</td>\n",
       "    </tr>\n",
       "    <tr>\n",
       "      <th>3</th>\n",
       "      <td>26-30</td>\n",
       "      <td>8</td>\n",
       "      <td>28.0</td>\n",
       "      <td>224.0</td>\n",
       "    </tr>\n",
       "    <tr>\n",
       "      <th>4</th>\n",
       "      <td>31-35</td>\n",
       "      <td>6</td>\n",
       "      <td>33.0</td>\n",
       "      <td>198.0</td>\n",
       "    </tr>\n",
       "    <tr>\n",
       "      <th>5</th>\n",
       "      <td>36-40</td>\n",
       "      <td>7</td>\n",
       "      <td>38.0</td>\n",
       "      <td>266.0</td>\n",
       "    </tr>\n",
       "  </tbody>\n",
       "</table>\n",
       "</div>"
      ],
      "text/plain": [
       "  เวลาที่รอ (นาที)  ความถี่ (f)  ค่ากึ่งกลาง (x)     fx\n",
       "0            11-15            5             13.0   65.0\n",
       "1            16-20            4             18.0   72.0\n",
       "2            21-25           10             23.0  230.0\n",
       "3            26-30            8             28.0  224.0\n",
       "4            31-35            6             33.0  198.0\n",
       "5            36-40            7             38.0  266.0"
      ]
     },
     "execution_count": 9,
     "metadata": {},
     "output_type": "execute_result"
    }
   ],
   "source": [
    "df_traffic['fx'] = df_traffic['ความถี่ (f)']*df_traffic['ค่ากึ่งกลาง (x)']\n",
    "df_traffic"
   ]
  },
  {
   "cell_type": "markdown",
   "id": "0cd31e3f-2242-47d6-ae85-817fa8e0a189",
   "metadata": {
    "id": "0cd31e3f-2242-47d6-ae85-817fa8e0a189"
   },
   "source": [
    "\\\n",
    "คำนวณเวลาเฉลี่ยที่รถยนต์ 40 คันใช้ในการรอสัญญาณไฟจราจร"
   ]
  },
  {
   "cell_type": "code",
   "execution_count": 10,
   "id": "d2ca154b-3d26-4c69-a628-dfe2170c5e88",
   "metadata": {
    "colab": {
     "base_uri": "https://localhost:8080/"
    },
    "executionInfo": {
     "elapsed": 383,
     "status": "ok",
     "timestamp": 1702983296590,
     "user": {
      "displayName": "Thammakorn SAETHANG",
      "userId": "08182570455347153646"
     },
     "user_tz": -420
    },
    "id": "d2ca154b-3d26-4c69-a628-dfe2170c5e88",
    "outputId": "3e63acae-826f-46d4-d62b-4413b5f72485"
   },
   "outputs": [
    {
     "data": {
      "text/plain": [
       "26.375"
      ]
     },
     "execution_count": 10,
     "metadata": {},
     "output_type": "execute_result"
    }
   ],
   "source": [
    "df_traffic['fx'].sum() / df_traffic['ความถี่ (f)'].sum()   #หรือ df_traffic['fx'].sum() / 40 โจทย์บอกตั้งแต่แรกมี n=40"
   ]
  },
  {
   "cell_type": "markdown",
   "id": "088446a1-a19c-4630-8e7d-86c2786a939f",
   "metadata": {
    "id": "088446a1-a19c-4630-8e7d-86c2786a939f",
    "tags": []
   },
   "source": [
    "&nbsp;   \n",
    "#### 4.3 ในการสอบวิชาการเขียนโปรแกรมครั้งหนึ่งมีนักศึกษาเข้าสอบ 3 กลุ่ม โดยที่ <br>กลุ่ม 1 มีนิสิตเข้าสอบ 50 คน มีคะแนนเฉลี่ย 58 คะแนน<br>กลุ่ม 2 มีนิสิตเข้าสอบ 40 คน มีคะแนนเฉลี่ย 70 คะแนน<br>กลุ่ม 3 มีนิสิตเข้าสอบ 60 คน มีคะแนนเฉลี่ย 52 คะแนน<br>จงหาค่าเฉลี่ยรวมของคะแนนสอบของนิสิตที่เรียนวิชาการเขียนโปรแกรม  "
   ]
  },
  {
   "cell_type": "code",
   "execution_count": 11,
   "id": "4867a424-f43e-451a-b025-aa347eb07a2e",
   "metadata": {
    "colab": {
     "base_uri": "https://localhost:8080/",
     "height": 143
    },
    "executionInfo": {
     "elapsed": 363,
     "status": "ok",
     "timestamp": 1733741405714,
     "user": {
      "displayName": "Thammakorn SAETHANG",
      "userId": "08182570455347153646"
     },
     "user_tz": -420
    },
    "id": "4867a424-f43e-451a-b025-aa347eb07a2e",
    "outputId": "e0576b64-fbb7-4af1-ded9-e179a2182faf"
   },
   "outputs": [
    {
     "data": {
      "text/html": [
       "<div>\n",
       "<style scoped>\n",
       "    .dataframe tbody tr th:only-of-type {\n",
       "        vertical-align: middle;\n",
       "    }\n",
       "\n",
       "    .dataframe tbody tr th {\n",
       "        vertical-align: top;\n",
       "    }\n",
       "\n",
       "    .dataframe thead th {\n",
       "        text-align: right;\n",
       "    }\n",
       "</style>\n",
       "<table border=\"1\" class=\"dataframe\">\n",
       "  <thead>\n",
       "    <tr style=\"text-align: right;\">\n",
       "      <th></th>\n",
       "      <th>section</th>\n",
       "      <th>num_student</th>\n",
       "      <th>avg_score</th>\n",
       "    </tr>\n",
       "  </thead>\n",
       "  <tbody>\n",
       "    <tr>\n",
       "      <th>0</th>\n",
       "      <td>1</td>\n",
       "      <td>50</td>\n",
       "      <td>58</td>\n",
       "    </tr>\n",
       "    <tr>\n",
       "      <th>1</th>\n",
       "      <td>2</td>\n",
       "      <td>40</td>\n",
       "      <td>70</td>\n",
       "    </tr>\n",
       "    <tr>\n",
       "      <th>2</th>\n",
       "      <td>3</td>\n",
       "      <td>60</td>\n",
       "      <td>52</td>\n",
       "    </tr>\n",
       "  </tbody>\n",
       "</table>\n",
       "</div>"
      ],
      "text/plain": [
       "   section  num_student  avg_score\n",
       "0        1           50         58\n",
       "1        2           40         70\n",
       "2        3           60         52"
      ]
     },
     "execution_count": 11,
     "metadata": {},
     "output_type": "execute_result"
    }
   ],
   "source": [
    "df_prog = pd.read_csv(\"https://raw.githubusercontent.com/ThammakornS/ProgStat/main/dataset/ex4_3_programming.csv\")\n",
    "df_prog"
   ]
  },
  {
   "cell_type": "markdown",
   "id": "6f388d95-822b-4f32-b1c8-f54ee43b9286",
   "metadata": {
    "id": "6f388d95-822b-4f32-b1c8-f54ee43b9286"
   },
   "source": [
    "หาค่าเฉลี่ยรวมของคะแนนสอบของนิสิตที่เรียนวิชาการเขียนโปรแกรม"
   ]
  },
  {
   "cell_type": "code",
   "execution_count": 12,
   "id": "3c49dceb-bb84-4458-a391-d7fcdd5364b3",
   "metadata": {
    "colab": {
     "base_uri": "https://localhost:8080/"
    },
    "executionInfo": {
     "elapsed": 315,
     "status": "ok",
     "timestamp": 1733741433947,
     "user": {
      "displayName": "Thammakorn SAETHANG",
      "userId": "08182570455347153646"
     },
     "user_tz": -420
    },
    "id": "3c49dceb-bb84-4458-a391-d7fcdd5364b3",
    "outputId": "2507431b-45c4-4fd1-a442-36583cea3bc4"
   },
   "outputs": [
    {
     "data": {
      "text/plain": [
       "58.8"
      ]
     },
     "execution_count": 12,
     "metadata": {},
     "output_type": "execute_result"
    }
   ],
   "source": [
    "sum(df_prog.num_student*df_prog.avg_score)/df_prog.num_student.sum()"
   ]
  },
  {
   "cell_type": "markdown",
   "id": "2fd01e27-9e42-4f31-b9c9-a7e29fe89f31",
   "metadata": {
    "id": "2fd01e27-9e42-4f31-b9c9-a7e29fe89f31"
   },
   "source": [
    "&nbsp;  \n",
    "#### 4.4 ทำการสำรวจรายได้ของผู้ที่มาใช้บริการธนาคารแห่งหนึ่งจำนวน 11 คน ได้ข้อมูลดังนี้"
   ]
  },
  {
   "cell_type": "code",
   "execution_count": 13,
   "id": "657f017f-4e8c-4e7c-8888-852042a6b61c",
   "metadata": {
    "id": "657f017f-4e8c-4e7c-8888-852042a6b61c"
   },
   "outputs": [],
   "source": [
    "income = [25000, 32000, 45000, 22000, 18000, 34000, 27000, 90000, 97000, 38000, 75000]"
   ]
  },
  {
   "cell_type": "code",
   "execution_count": 14,
   "id": "4547afd7-9afa-4fb6-9ae3-5d0a93aac151",
   "metadata": {
    "id": "4547afd7-9afa-4fb6-9ae3-5d0a93aac151"
   },
   "outputs": [
    {
     "data": {
      "text/plain": [
       "11"
      ]
     },
     "execution_count": 14,
     "metadata": {},
     "output_type": "execute_result"
    }
   ],
   "source": [
    "len(income)"
   ]
  },
  {
   "cell_type": "markdown",
   "id": "30202243-f1d9-4943-aab0-ce8073f90b47",
   "metadata": {
    "id": "30202243-f1d9-4943-aab0-ce8073f90b47"
   },
   "source": [
    "\\\n",
    "ลองเรียงลำดับข้อมูล"
   ]
  },
  {
   "cell_type": "code",
   "execution_count": 15,
   "id": "cb37ff50-7c6b-4687-8e20-60ed1b24d917",
   "metadata": {
    "id": "cb37ff50-7c6b-4687-8e20-60ed1b24d917"
   },
   "outputs": [
    {
     "data": {
      "text/plain": [
       "[18000, 22000, 25000, 27000, 32000, 34000, 38000, 45000, 75000, 90000, 97000]"
      ]
     },
     "execution_count": 15,
     "metadata": {},
     "output_type": "execute_result"
    }
   ],
   "source": [
    "sorted(income)"
   ]
  },
  {
   "cell_type": "markdown",
   "id": "ab60ced5-9d52-403a-8b8a-656b4c460684",
   "metadata": {
    "id": "ab60ced5-9d52-403a-8b8a-656b4c460684"
   },
   "source": [
    "\\\n",
    "หาค่า median"
   ]
  },
  {
   "cell_type": "code",
   "execution_count": 16,
   "id": "5dd03994-140f-4e3a-b46d-7d03290eca8e",
   "metadata": {
    "id": "5dd03994-140f-4e3a-b46d-7d03290eca8e"
   },
   "outputs": [
    {
     "data": {
      "text/plain": [
       "34000"
      ]
     },
     "execution_count": 16,
     "metadata": {},
     "output_type": "execute_result"
    }
   ],
   "source": [
    "sorted(income)[(int)((len(income)+1)/2)-1]"
   ]
  },
  {
   "cell_type": "code",
   "execution_count": 17,
   "id": "67fb652f-fdc1-4043-998c-465991283b94",
   "metadata": {
    "id": "67fb652f-fdc1-4043-998c-465991283b94"
   },
   "outputs": [
    {
     "data": {
      "text/plain": [
       "34000.0"
      ]
     },
     "execution_count": 17,
     "metadata": {},
     "output_type": "execute_result"
    }
   ],
   "source": [
    "np.median(income)"
   ]
  },
  {
   "cell_type": "code",
   "execution_count": 18,
   "id": "c5cdc8b8-212c-4cea-baea-ba0da34231de",
   "metadata": {
    "id": "c5cdc8b8-212c-4cea-baea-ba0da34231de"
   },
   "outputs": [
    {
     "data": {
      "text/plain": [
       "34000"
      ]
     },
     "execution_count": 18,
     "metadata": {},
     "output_type": "execute_result"
    }
   ],
   "source": [
    "statistics.median(income)"
   ]
  },
  {
   "cell_type": "markdown",
   "id": "43541885-2a1c-4377-8819-a7dd55060819",
   "metadata": {
    "id": "43541885-2a1c-4377-8819-a7dd55060819"
   },
   "source": [
    "\\\n",
    "หาค่า mean"
   ]
  },
  {
   "cell_type": "code",
   "execution_count": 19,
   "id": "810921d7-ff9f-4255-a2d5-4fe6b9507784",
   "metadata": {
    "id": "810921d7-ff9f-4255-a2d5-4fe6b9507784"
   },
   "outputs": [
    {
     "data": {
      "text/plain": [
       "45727.27272727273"
      ]
     },
     "execution_count": 19,
     "metadata": {},
     "output_type": "execute_result"
    }
   ],
   "source": [
    "np.mean(income)"
   ]
  },
  {
   "cell_type": "markdown",
   "id": "5b9a77b0-c7f4-40a2-b283-34e33be83aa2",
   "metadata": {
    "id": "5b9a77b0-c7f4-40a2-b283-34e33be83aa2"
   },
   "source": [
    "&nbsp;  \n",
    "#### 4.5 สุ่มนิสิตมา 10 คน พบว่ามี GPA ดังนี้  3.5, 2.4, 3.3, 2.7, 3.6, 3.9, 3.0, 2.8, 3.1, 2.9<br>มัธยฐาน GPA ของตัวอย่างมีค่าเท่าใด?"
   ]
  },
  {
   "cell_type": "code",
   "execution_count": 20,
   "id": "bf9a3efc-6d97-4a68-a092-12b04e43d6e0",
   "metadata": {
    "id": "bf9a3efc-6d97-4a68-a092-12b04e43d6e0"
   },
   "outputs": [],
   "source": [
    "gpa = [3.5, 2.4, 3.3, 2.7, 3.6, 3.9, 3.0, 2.8, 3.1, 2.9]"
   ]
  },
  {
   "cell_type": "code",
   "execution_count": 21,
   "id": "d856a388-937c-4283-b743-d4b47b8bc532",
   "metadata": {
    "id": "d856a388-937c-4283-b743-d4b47b8bc532"
   },
   "outputs": [
    {
     "data": {
      "text/plain": [
       "3.05"
      ]
     },
     "execution_count": 21,
     "metadata": {},
     "output_type": "execute_result"
    }
   ],
   "source": [
    "np.median(gpa)"
   ]
  },
  {
   "cell_type": "markdown",
   "id": "2b1168f2-6b80-48a3-b66d-fa6621df08af",
   "metadata": {
    "id": "2b1168f2-6b80-48a3-b66d-fa6621df08af"
   },
   "source": [
    "&nbsp;  \n",
    "#### 4.6 ตาราง \"ex4_6_visitor.csv\" แสดงระยะเวลา (หน่วย: วัน) ที่นักท่องเที่ยวชาวต่างประเทศที่ถูกสุ่มเป็นตัวอย่างจำนวน 36 คน ใช้เวลาท่องเที่ยวในประเทศไทยในช่วง 1 ปี มีดังตาราง จงหามัธยฐานของระยะเวลาที่นักท่องเที่ยวชาวต่างประเทศใช้ท่องเที่ยวในประเทศไทย"
   ]
  },
  {
   "cell_type": "code",
   "execution_count": 22,
   "id": "02a3e42e-52b9-4f4c-b26a-c2c59606607a",
   "metadata": {
    "colab": {
     "base_uri": "https://localhost:8080/",
     "height": 269
    },
    "executionInfo": {
     "elapsed": 335,
     "status": "ok",
     "timestamp": 1733742376776,
     "user": {
      "displayName": "Thammakorn SAETHANG",
      "userId": "08182570455347153646"
     },
     "user_tz": -420
    },
    "id": "02a3e42e-52b9-4f4c-b26a-c2c59606607a",
    "outputId": "b9eecf5b-4d59-49ee-c4c4-d4c1a66a676e"
   },
   "outputs": [
    {
     "data": {
      "text/html": [
       "<div>\n",
       "<style scoped>\n",
       "    .dataframe tbody tr th:only-of-type {\n",
       "        vertical-align: middle;\n",
       "    }\n",
       "\n",
       "    .dataframe tbody tr th {\n",
       "        vertical-align: top;\n",
       "    }\n",
       "\n",
       "    .dataframe thead th {\n",
       "        text-align: right;\n",
       "    }\n",
       "</style>\n",
       "<table border=\"1\" class=\"dataframe\">\n",
       "  <thead>\n",
       "    <tr style=\"text-align: right;\">\n",
       "      <th></th>\n",
       "      <th>duration</th>\n",
       "      <th>num_visitor</th>\n",
       "    </tr>\n",
       "  </thead>\n",
       "  <tbody>\n",
       "    <tr>\n",
       "      <th>0</th>\n",
       "      <td>1-7</td>\n",
       "      <td>4</td>\n",
       "    </tr>\n",
       "    <tr>\n",
       "      <th>1</th>\n",
       "      <td>8-14</td>\n",
       "      <td>6</td>\n",
       "    </tr>\n",
       "    <tr>\n",
       "      <th>2</th>\n",
       "      <td>15-21</td>\n",
       "      <td>5</td>\n",
       "    </tr>\n",
       "    <tr>\n",
       "      <th>3</th>\n",
       "      <td>22-28</td>\n",
       "      <td>10</td>\n",
       "    </tr>\n",
       "    <tr>\n",
       "      <th>4</th>\n",
       "      <td>29-35</td>\n",
       "      <td>6</td>\n",
       "    </tr>\n",
       "    <tr>\n",
       "      <th>5</th>\n",
       "      <td>36-42</td>\n",
       "      <td>4</td>\n",
       "    </tr>\n",
       "    <tr>\n",
       "      <th>6</th>\n",
       "      <td>43-49</td>\n",
       "      <td>1</td>\n",
       "    </tr>\n",
       "  </tbody>\n",
       "</table>\n",
       "</div>"
      ],
      "text/plain": [
       "  duration  num_visitor\n",
       "0      1-7            4\n",
       "1     8-14            6\n",
       "2    15-21            5\n",
       "3    22-28           10\n",
       "4    29-35            6\n",
       "5    36-42            4\n",
       "6    43-49            1"
      ]
     },
     "execution_count": 22,
     "metadata": {},
     "output_type": "execute_result"
    }
   ],
   "source": [
    "df_visit = pd.read_csv(\"https://raw.githubusercontent.com/ThammakornS/ProgStat/main/dataset/ex4_6_visitor.csv\")\n",
    "df_visit"
   ]
  },
  {
   "cell_type": "markdown",
   "id": "89b0c3da-8d66-4c20-95c3-ad66d47ceb45",
   "metadata": {
    "id": "89b0c3da-8d66-4c20-95c3-ad66d47ceb45"
   },
   "source": [
    "\\\n",
    "แปลง duration ให้เป็น 2 columns เพื่อให้สามารถนำตัวเลขไปใช้คำนวณได้"
   ]
  },
  {
   "cell_type": "code",
   "execution_count": 23,
   "id": "199efb24-2983-4346-97e2-c832990f32c7",
   "metadata": {
    "colab": {
     "base_uri": "https://localhost:8080/",
     "height": 269
    },
    "executionInfo": {
     "elapsed": 332,
     "status": "ok",
     "timestamp": 1733742387897,
     "user": {
      "displayName": "Thammakorn SAETHANG",
      "userId": "08182570455347153646"
     },
     "user_tz": -420
    },
    "id": "199efb24-2983-4346-97e2-c832990f32c7",
    "outputId": "b5876ee9-f632-4181-c8f1-721a88345eb7"
   },
   "outputs": [
    {
     "data": {
      "text/html": [
       "<div>\n",
       "<style scoped>\n",
       "    .dataframe tbody tr th:only-of-type {\n",
       "        vertical-align: middle;\n",
       "    }\n",
       "\n",
       "    .dataframe tbody tr th {\n",
       "        vertical-align: top;\n",
       "    }\n",
       "\n",
       "    .dataframe thead th {\n",
       "        text-align: right;\n",
       "    }\n",
       "</style>\n",
       "<table border=\"1\" class=\"dataframe\">\n",
       "  <thead>\n",
       "    <tr style=\"text-align: right;\">\n",
       "      <th></th>\n",
       "      <th>duration</th>\n",
       "      <th>num_visitor</th>\n",
       "      <th>du_from</th>\n",
       "      <th>du_to</th>\n",
       "    </tr>\n",
       "  </thead>\n",
       "  <tbody>\n",
       "    <tr>\n",
       "      <th>0</th>\n",
       "      <td>1-7</td>\n",
       "      <td>4</td>\n",
       "      <td>1</td>\n",
       "      <td>7</td>\n",
       "    </tr>\n",
       "    <tr>\n",
       "      <th>1</th>\n",
       "      <td>8-14</td>\n",
       "      <td>6</td>\n",
       "      <td>8</td>\n",
       "      <td>14</td>\n",
       "    </tr>\n",
       "    <tr>\n",
       "      <th>2</th>\n",
       "      <td>15-21</td>\n",
       "      <td>5</td>\n",
       "      <td>15</td>\n",
       "      <td>21</td>\n",
       "    </tr>\n",
       "    <tr>\n",
       "      <th>3</th>\n",
       "      <td>22-28</td>\n",
       "      <td>10</td>\n",
       "      <td>22</td>\n",
       "      <td>28</td>\n",
       "    </tr>\n",
       "    <tr>\n",
       "      <th>4</th>\n",
       "      <td>29-35</td>\n",
       "      <td>6</td>\n",
       "      <td>29</td>\n",
       "      <td>35</td>\n",
       "    </tr>\n",
       "    <tr>\n",
       "      <th>5</th>\n",
       "      <td>36-42</td>\n",
       "      <td>4</td>\n",
       "      <td>36</td>\n",
       "      <td>42</td>\n",
       "    </tr>\n",
       "    <tr>\n",
       "      <th>6</th>\n",
       "      <td>43-49</td>\n",
       "      <td>1</td>\n",
       "      <td>43</td>\n",
       "      <td>49</td>\n",
       "    </tr>\n",
       "  </tbody>\n",
       "</table>\n",
       "</div>"
      ],
      "text/plain": [
       "  duration  num_visitor  du_from  du_to\n",
       "0      1-7            4        1      7\n",
       "1     8-14            6        8     14\n",
       "2    15-21            5       15     21\n",
       "3    22-28           10       22     28\n",
       "4    29-35            6       29     35\n",
       "5    36-42            4       36     42\n",
       "6    43-49            1       43     49"
      ]
     },
     "execution_count": 23,
     "metadata": {},
     "output_type": "execute_result"
    }
   ],
   "source": [
    "df_visit[['du_from', 'du_to']] = df_visit.duration.str.split('-', expand=True).astype(int)\n",
    "df_visit"
   ]
  },
  {
   "cell_type": "markdown",
   "id": "e1ffcc76-63f8-4159-9e11-9897c551b8dc",
   "metadata": {
    "id": "e1ffcc76-63f8-4159-9e11-9897c551b8dc"
   },
   "source": [
    "\\\n",
    "สร้าง column ความถี่สะสมของจำนวนนักท่องเที่ยว"
   ]
  },
  {
   "cell_type": "code",
   "execution_count": 24,
   "id": "44b4eba2-8224-4fbd-99c8-b330b0978232",
   "metadata": {
    "colab": {
     "base_uri": "https://localhost:8080/",
     "height": 269
    },
    "executionInfo": {
     "elapsed": 332,
     "status": "ok",
     "timestamp": 1733742400311,
     "user": {
      "displayName": "Thammakorn SAETHANG",
      "userId": "08182570455347153646"
     },
     "user_tz": -420
    },
    "id": "44b4eba2-8224-4fbd-99c8-b330b0978232",
    "outputId": "f45139b3-35c3-4a33-a8ad-d53f410474d9"
   },
   "outputs": [
    {
     "data": {
      "text/html": [
       "<div>\n",
       "<style scoped>\n",
       "    .dataframe tbody tr th:only-of-type {\n",
       "        vertical-align: middle;\n",
       "    }\n",
       "\n",
       "    .dataframe tbody tr th {\n",
       "        vertical-align: top;\n",
       "    }\n",
       "\n",
       "    .dataframe thead th {\n",
       "        text-align: right;\n",
       "    }\n",
       "</style>\n",
       "<table border=\"1\" class=\"dataframe\">\n",
       "  <thead>\n",
       "    <tr style=\"text-align: right;\">\n",
       "      <th></th>\n",
       "      <th>duration</th>\n",
       "      <th>num_visitor</th>\n",
       "      <th>du_from</th>\n",
       "      <th>du_to</th>\n",
       "      <th>num_visitor_cum</th>\n",
       "    </tr>\n",
       "  </thead>\n",
       "  <tbody>\n",
       "    <tr>\n",
       "      <th>0</th>\n",
       "      <td>1-7</td>\n",
       "      <td>4</td>\n",
       "      <td>1</td>\n",
       "      <td>7</td>\n",
       "      <td>4</td>\n",
       "    </tr>\n",
       "    <tr>\n",
       "      <th>1</th>\n",
       "      <td>8-14</td>\n",
       "      <td>6</td>\n",
       "      <td>8</td>\n",
       "      <td>14</td>\n",
       "      <td>10</td>\n",
       "    </tr>\n",
       "    <tr>\n",
       "      <th>2</th>\n",
       "      <td>15-21</td>\n",
       "      <td>5</td>\n",
       "      <td>15</td>\n",
       "      <td>21</td>\n",
       "      <td>15</td>\n",
       "    </tr>\n",
       "    <tr>\n",
       "      <th>3</th>\n",
       "      <td>22-28</td>\n",
       "      <td>10</td>\n",
       "      <td>22</td>\n",
       "      <td>28</td>\n",
       "      <td>25</td>\n",
       "    </tr>\n",
       "    <tr>\n",
       "      <th>4</th>\n",
       "      <td>29-35</td>\n",
       "      <td>6</td>\n",
       "      <td>29</td>\n",
       "      <td>35</td>\n",
       "      <td>31</td>\n",
       "    </tr>\n",
       "    <tr>\n",
       "      <th>5</th>\n",
       "      <td>36-42</td>\n",
       "      <td>4</td>\n",
       "      <td>36</td>\n",
       "      <td>42</td>\n",
       "      <td>35</td>\n",
       "    </tr>\n",
       "    <tr>\n",
       "      <th>6</th>\n",
       "      <td>43-49</td>\n",
       "      <td>1</td>\n",
       "      <td>43</td>\n",
       "      <td>49</td>\n",
       "      <td>36</td>\n",
       "    </tr>\n",
       "  </tbody>\n",
       "</table>\n",
       "</div>"
      ],
      "text/plain": [
       "  duration  num_visitor  du_from  du_to  num_visitor_cum\n",
       "0      1-7            4        1      7                4\n",
       "1     8-14            6        8     14               10\n",
       "2    15-21            5       15     21               15\n",
       "3    22-28           10       22     28               25\n",
       "4    29-35            6       29     35               31\n",
       "5    36-42            4       36     42               35\n",
       "6    43-49            1       43     49               36"
      ]
     },
     "execution_count": 24,
     "metadata": {},
     "output_type": "execute_result"
    }
   ],
   "source": [
    "df_visit['num_visitor_cum'] = df_visit.num_visitor.cumsum()\n",
    "df_visit"
   ]
  },
  {
   "cell_type": "markdown",
   "id": "af80073f-7855-4f44-b64a-cd1fc6923b0d",
   "metadata": {
    "id": "af80073f-7855-4f44-b64a-cd1fc6923b0d"
   },
   "source": [
    "\\\n",
    "หาตำแหน่งของ median"
   ]
  },
  {
   "cell_type": "code",
   "execution_count": 25,
   "id": "fee7bd89-4beb-4a1a-bc40-5ce80511556a",
   "metadata": {
    "colab": {
     "base_uri": "https://localhost:8080/"
    },
    "executionInfo": {
     "elapsed": 327,
     "status": "ok",
     "timestamp": 1733742985943,
     "user": {
      "displayName": "Thammakorn SAETHANG",
      "userId": "08182570455347153646"
     },
     "user_tz": -420
    },
    "id": "fee7bd89-4beb-4a1a-bc40-5ce80511556a",
    "outputId": "6f963920-94c1-41d2-c343-b513abbad6f2"
   },
   "outputs": [
    {
     "data": {
      "text/plain": [
       "18.0"
      ]
     },
     "execution_count": 25,
     "metadata": {},
     "output_type": "execute_result"
    }
   ],
   "source": [
    "med_pos = df_visit.num_visitor.sum()/2\n",
    "med_pos"
   ]
  },
  {
   "cell_type": "markdown",
   "id": "88773aa8-4503-4722-af91-ab15c9cafc9c",
   "metadata": {
    "id": "88773aa8-4503-4722-af91-ab15c9cafc9c"
   },
   "source": [
    "\\\n",
    "หาชั้นที่ตำแหน่ง median อยู่ (ใช้ตาดูเอาก็ได้)"
   ]
  },
  {
   "cell_type": "code",
   "execution_count": 26,
   "id": "48f5e0f4-59d9-416f-ad78-95b92b62c640",
   "metadata": {
    "colab": {
     "base_uri": "https://localhost:8080/"
    },
    "executionInfo": {
     "elapsed": 497,
     "status": "ok",
     "timestamp": 1733743000314,
     "user": {
      "displayName": "Thammakorn SAETHANG",
      "userId": "08182570455347153646"
     },
     "user_tz": -420
    },
    "id": "48f5e0f4-59d9-416f-ad78-95b92b62c640",
    "outputId": "2b40c546-f421-4e5e-9570-c3373affe164"
   },
   "outputs": [
    {
     "data": {
      "text/plain": [
       "3"
      ]
     },
     "execution_count": 26,
     "metadata": {},
     "output_type": "execute_result"
    }
   ],
   "source": [
    "for i in df_visit.index:\n",
    "    if df_visit.num_visitor_cum[i] >= med_pos:\n",
    "        e=i\n",
    "        break\n",
    "e"
   ]
  },
  {
   "cell_type": "markdown",
   "id": "00ba46c4-15c5-4015-a6be-fcdb45068ca0",
   "metadata": {
    "id": "00ba46c4-15c5-4015-a6be-fcdb45068ca0"
   },
   "source": [
    "\\\n",
    "ซึ่งจะอยู่ในชั้นที่ 4 (index 3) มีระยะเวลา 22-28  \n",
    "หาขอบเขตล่าง (ดูจากตารางแล้วคำนวณในใจก็ได้, (21+22)/2 )"
   ]
  },
  {
   "cell_type": "code",
   "execution_count": 27,
   "id": "28b443d3-95df-4555-8be3-a0d76edf9a19",
   "metadata": {
    "colab": {
     "base_uri": "https://localhost:8080/"
    },
    "executionInfo": {
     "elapsed": 302,
     "status": "ok",
     "timestamp": 1733743047612,
     "user": {
      "displayName": "Thammakorn SAETHANG",
      "userId": "08182570455347153646"
     },
     "user_tz": -420
    },
    "id": "28b443d3-95df-4555-8be3-a0d76edf9a19",
    "outputId": "cb23bbb2-5d4b-4e53-ed45-f41394c7b723"
   },
   "outputs": [
    {
     "data": {
      "text/plain": [
       "21.5"
      ]
     },
     "execution_count": 27,
     "metadata": {},
     "output_type": "execute_result"
    }
   ],
   "source": [
    "lower = (df_visit.du_from[e]+df_visit.du_to[e-1])/2\n",
    "lower"
   ]
  },
  {
   "cell_type": "markdown",
   "id": "4ceb5df6-b603-457c-af76-6412cfdeec0e",
   "metadata": {
    "id": "4ceb5df6-b603-457c-af76-6412cfdeec0e"
   },
   "source": [
    "\\\n",
    "หาค่า median"
   ]
  },
  {
   "cell_type": "code",
   "execution_count": 28,
   "id": "79a95901-3f8a-477c-92bf-5b1304b2087b",
   "metadata": {
    "colab": {
     "base_uri": "https://localhost:8080/"
    },
    "executionInfo": {
     "elapsed": 404,
     "status": "ok",
     "timestamp": 1702984709285,
     "user": {
      "displayName": "Thammakorn SAETHANG",
      "userId": "08182570455347153646"
     },
     "user_tz": -420
    },
    "id": "79a95901-3f8a-477c-92bf-5b1304b2087b",
    "outputId": "cf86253f-4a05-44d3-9b34-5aa109a46e97"
   },
   "outputs": [
    {
     "data": {
      "text/plain": [
       "23.6"
      ]
     },
     "execution_count": 28,
     "metadata": {},
     "output_type": "execute_result"
    }
   ],
   "source": [
    "lower+( (med_pos - df_visit.num_visitor_cum[e-1]) / df_visit.num_visitor[e])*7"
   ]
  },
  {
   "cell_type": "markdown",
   "id": "57647078-ff4f-45f9-80f5-527c46403b98",
   "metadata": {
    "id": "57647078-ff4f-45f9-80f5-527c46403b98"
   },
   "source": [
    "&nbsp;  \n",
    "#### 4.7 หาฐานนิยมของข้อมูลแต่ละชุดต่อไปนี้\n",
    "&emsp;**1) 9, 2, 3, 5, 7, 2, 1, 5, 2**"
   ]
  },
  {
   "cell_type": "code",
   "execution_count": 29,
   "id": "209b0905-b369-4070-b8bb-2a72f5fe3c91",
   "metadata": {
    "colab": {
     "base_uri": "https://localhost:8080/"
    },
    "executionInfo": {
     "elapsed": 368,
     "status": "ok",
     "timestamp": 1702984928733,
     "user": {
      "displayName": "Thammakorn SAETHANG",
      "userId": "08182570455347153646"
     },
     "user_tz": -420
    },
    "id": "209b0905-b369-4070-b8bb-2a72f5fe3c91",
    "outputId": "47060032-9355-4a11-a216-75d5f0539521"
   },
   "outputs": [
    {
     "data": {
      "text/plain": [
       "[2]"
      ]
     },
     "execution_count": 29,
     "metadata": {},
     "output_type": "execute_result"
    }
   ],
   "source": [
    "data = [9, 2, 3, 5, 7, 2, 1, 5, 2]\n",
    "statistics.mode(data)\n",
    "statistics.multimode(data)"
   ]
  },
  {
   "cell_type": "markdown",
   "id": "d1e80ae5-8c05-45ab-b1ec-5dfa6bc52381",
   "metadata": {
    "id": "d1e80ae5-8c05-45ab-b1ec-5dfa6bc52381"
   },
   "source": [
    "&emsp;**2) 3, 5, 5, 8, 7, 3, 2**"
   ]
  },
  {
   "cell_type": "code",
   "execution_count": 30,
   "id": "9a411ad0-7086-49fe-84df-84dc345830c4",
   "metadata": {
    "colab": {
     "base_uri": "https://localhost:8080/"
    },
    "executionInfo": {
     "elapsed": 325,
     "status": "ok",
     "timestamp": 1733746924388,
     "user": {
      "displayName": "Thammakorn SAETHANG",
      "userId": "08182570455347153646"
     },
     "user_tz": -420
    },
    "id": "9a411ad0-7086-49fe-84df-84dc345830c4",
    "outputId": "ce4b2055-e02a-4f77-eca4-46645d7715af"
   },
   "outputs": [
    {
     "data": {
      "text/plain": [
       "3"
      ]
     },
     "execution_count": 30,
     "metadata": {},
     "output_type": "execute_result"
    }
   ],
   "source": [
    "data = [3, 5, 5, 8, 7, 3, 2]\n",
    "statistics.mode(data)"
   ]
  },
  {
   "cell_type": "markdown",
   "id": "baa6c3a0-eb22-40b8-8930-aecb96f9ef2a",
   "metadata": {
    "id": "baa6c3a0-eb22-40b8-8930-aecb96f9ef2a"
   },
   "source": [
    "ผลที่แสดงขาด 5 ไป ต้องใช้ multimode"
   ]
  },
  {
   "cell_type": "code",
   "execution_count": 31,
   "id": "c362f5c9-a0cb-4d20-be44-4d697e2e6753",
   "metadata": {
    "colab": {
     "base_uri": "https://localhost:8080/"
    },
    "executionInfo": {
     "elapsed": 347,
     "status": "ok",
     "timestamp": 1702984906338,
     "user": {
      "displayName": "Thammakorn SAETHANG",
      "userId": "08182570455347153646"
     },
     "user_tz": -420
    },
    "id": "c362f5c9-a0cb-4d20-be44-4d697e2e6753",
    "outputId": "4a64d84e-5fb9-4718-cd09-1780cac905c5",
    "tags": []
   },
   "outputs": [
    {
     "data": {
      "text/plain": [
       "[3, 5]"
      ]
     },
     "execution_count": 31,
     "metadata": {},
     "output_type": "execute_result"
    }
   ],
   "source": [
    "statistics.multimode(data)"
   ]
  },
  {
   "cell_type": "markdown",
   "id": "67d7660c-11dc-4312-8fc2-7168412f06da",
   "metadata": {
    "id": "67d7660c-11dc-4312-8fc2-7168412f06da"
   },
   "source": [
    "&emsp;**3) 1, 2, 3, 4, 5**"
   ]
  },
  {
   "cell_type": "code",
   "execution_count": 32,
   "id": "e407cb53-46b7-433a-99b0-5abdef685ce9",
   "metadata": {
    "colab": {
     "base_uri": "https://localhost:8080/"
    },
    "executionInfo": {
     "elapsed": 538,
     "status": "ok",
     "timestamp": 1733746929042,
     "user": {
      "displayName": "Thammakorn SAETHANG",
      "userId": "08182570455347153646"
     },
     "user_tz": -420
    },
    "id": "e407cb53-46b7-433a-99b0-5abdef685ce9",
    "outputId": "657e0583-f4b0-4a9a-eaf9-39df6ae997ab"
   },
   "outputs": [
    {
     "data": {
      "text/plain": [
       "1"
      ]
     },
     "execution_count": 32,
     "metadata": {},
     "output_type": "execute_result"
    }
   ],
   "source": [
    "data = [1, 2, 3, 4, 5]\n",
    "statistics.mode(data)"
   ]
  },
  {
   "cell_type": "code",
   "execution_count": 33,
   "id": "d1194af9-f21c-45a5-94c9-f276b9ae6308",
   "metadata": {
    "colab": {
     "base_uri": "https://localhost:8080/"
    },
    "executionInfo": {
     "elapsed": 321,
     "status": "ok",
     "timestamp": 1733746944765,
     "user": {
      "displayName": "Thammakorn SAETHANG",
      "userId": "08182570455347153646"
     },
     "user_tz": -420
    },
    "id": "d1194af9-f21c-45a5-94c9-f276b9ae6308",
    "outputId": "503db1cb-100e-4d45-b797-f29dd600c29c"
   },
   "outputs": [
    {
     "data": {
      "text/plain": [
       "[1, 2, 3, 4, 5]"
      ]
     },
     "execution_count": 33,
     "metadata": {},
     "output_type": "execute_result"
    }
   ],
   "source": [
    "statistics.multimode(data)"
   ]
  },
  {
   "cell_type": "markdown",
   "id": "e0732bd3-b384-4fed-8809-865455fb2dff",
   "metadata": {
    "id": "e0732bd3-b384-4fed-8809-865455fb2dff"
   },
   "source": [
    "การใช้ทั้ง mode() และ multimode() จึงต้องระวัง วิธีการหนึ่งคือตรวจสอบว่าจำนวนของข้อมูลเริ่มต้นและข้อมูลที่ตัดข้อมูลซ้ำออกไปแล้วเท่ากันหรือไม่ หากเท่ากันแสดงว่าข้อมูลนั้นไม่มี mode"
   ]
  },
  {
   "cell_type": "code",
   "execution_count": 34,
   "id": "58a94599-e33b-450b-b993-da55633fcf29",
   "metadata": {
    "colab": {
     "base_uri": "https://localhost:8080/"
    },
    "executionInfo": {
     "elapsed": 323,
     "status": "ok",
     "timestamp": 1733746949253,
     "user": {
      "displayName": "Thammakorn SAETHANG",
      "userId": "08182570455347153646"
     },
     "user_tz": -420
    },
    "id": "58a94599-e33b-450b-b993-da55633fcf29",
    "outputId": "dd57424e-21f4-4aac-d768-6f7e31f31a4b"
   },
   "outputs": [
    {
     "data": {
      "text/plain": [
       "True"
      ]
     },
     "execution_count": 34,
     "metadata": {},
     "output_type": "execute_result"
    }
   ],
   "source": [
    "len(data) == len(np.unique(data))"
   ]
  },
  {
   "cell_type": "markdown",
   "id": "6f9db1c1-1a30-4f78-9911-d3201eb68d1e",
   "metadata": {
    "id": "6f9db1c1-1a30-4f78-9911-d3201eb68d1e"
   },
   "source": [
    "&emsp;**4) ข้อมูลได้จากการสำรวจความชอบอาหารชนิดหนึ่ง (ชอบ เฉยๆ ไม่ชอบ):**  \n",
    "&emsp;**ชอบ ไม่ชอบ ชอบ ชอบ ไม่ชอบ เฉยๆ ชอบ**"
   ]
  },
  {
   "cell_type": "code",
   "execution_count": 35,
   "id": "3263adf3-f743-49c2-af48-3dadfbb86938",
   "metadata": {
    "colab": {
     "base_uri": "https://localhost:8080/",
     "height": 35
    },
    "executionInfo": {
     "elapsed": 338,
     "status": "ok",
     "timestamp": 1733746976733,
     "user": {
      "displayName": "Thammakorn SAETHANG",
      "userId": "08182570455347153646"
     },
     "user_tz": -420
    },
    "id": "3263adf3-f743-49c2-af48-3dadfbb86938",
    "outputId": "1277592b-ab57-4127-df65-ad2d58975a63"
   },
   "outputs": [
    {
     "data": {
      "text/plain": [
       "'ชอบ'"
      ]
     },
     "execution_count": 35,
     "metadata": {},
     "output_type": "execute_result"
    }
   ],
   "source": [
    "data = ['ชอบ', 'ไม่ชอบ', 'ชอบ', 'ชอบ', 'ไม่ชอบ', 'เฉยๆ', 'ชอบ']\n",
    "statistics.mode(data)"
   ]
  },
  {
   "cell_type": "markdown",
   "id": "5a810657-4758-466b-ab9c-4cdab59a25ea",
   "metadata": {
    "id": "5a810657-4758-466b-ab9c-4cdab59a25ea",
    "tags": []
   },
   "source": [
    "&nbsp;  \n",
    "#### 4.8 ตาราง \"ex4_6_visitor.csv\" แสดงระยะเวลา (หน่วย: วัน) ที่นักท่องเที่ยวชาวต่างประเทศที่ถูกสุ่มเป็นตัวอย่างจำนวน 36 คน ใช้เวลาท่องเที่ยวในประเทศไทยในช่วง 1 ปี มีดังตาราง จงหาฐานนิยมของระยะเวลาที่นักท่องเที่ยวชาวต่างประเทศใช้ท่องเที่ยวในประเทศไทย"
   ]
  },
  {
   "cell_type": "code",
   "execution_count": 36,
   "id": "fda702d6-76b4-4dbd-b3dc-80e91b688d9b",
   "metadata": {
    "colab": {
     "base_uri": "https://localhost:8080/",
     "height": 269
    },
    "executionInfo": {
     "elapsed": 366,
     "status": "ok",
     "timestamp": 1733747114113,
     "user": {
      "displayName": "Thammakorn SAETHANG",
      "userId": "08182570455347153646"
     },
     "user_tz": -420
    },
    "id": "fda702d6-76b4-4dbd-b3dc-80e91b688d9b",
    "outputId": "5000e95c-bd31-4f5a-f9fd-3fc465b9ba6f"
   },
   "outputs": [
    {
     "data": {
      "text/html": [
       "<div>\n",
       "<style scoped>\n",
       "    .dataframe tbody tr th:only-of-type {\n",
       "        vertical-align: middle;\n",
       "    }\n",
       "\n",
       "    .dataframe tbody tr th {\n",
       "        vertical-align: top;\n",
       "    }\n",
       "\n",
       "    .dataframe thead th {\n",
       "        text-align: right;\n",
       "    }\n",
       "</style>\n",
       "<table border=\"1\" class=\"dataframe\">\n",
       "  <thead>\n",
       "    <tr style=\"text-align: right;\">\n",
       "      <th></th>\n",
       "      <th>duration</th>\n",
       "      <th>num_visitor</th>\n",
       "    </tr>\n",
       "  </thead>\n",
       "  <tbody>\n",
       "    <tr>\n",
       "      <th>0</th>\n",
       "      <td>1-7</td>\n",
       "      <td>4</td>\n",
       "    </tr>\n",
       "    <tr>\n",
       "      <th>1</th>\n",
       "      <td>8-14</td>\n",
       "      <td>6</td>\n",
       "    </tr>\n",
       "    <tr>\n",
       "      <th>2</th>\n",
       "      <td>15-21</td>\n",
       "      <td>5</td>\n",
       "    </tr>\n",
       "    <tr>\n",
       "      <th>3</th>\n",
       "      <td>22-28</td>\n",
       "      <td>10</td>\n",
       "    </tr>\n",
       "    <tr>\n",
       "      <th>4</th>\n",
       "      <td>29-35</td>\n",
       "      <td>6</td>\n",
       "    </tr>\n",
       "    <tr>\n",
       "      <th>5</th>\n",
       "      <td>36-42</td>\n",
       "      <td>4</td>\n",
       "    </tr>\n",
       "    <tr>\n",
       "      <th>6</th>\n",
       "      <td>43-49</td>\n",
       "      <td>1</td>\n",
       "    </tr>\n",
       "  </tbody>\n",
       "</table>\n",
       "</div>"
      ],
      "text/plain": [
       "  duration  num_visitor\n",
       "0      1-7            4\n",
       "1     8-14            6\n",
       "2    15-21            5\n",
       "3    22-28           10\n",
       "4    29-35            6\n",
       "5    36-42            4\n",
       "6    43-49            1"
      ]
     },
     "execution_count": 36,
     "metadata": {},
     "output_type": "execute_result"
    }
   ],
   "source": [
    "df_visit = pd.read_csv(\"https://raw.githubusercontent.com/ThammakornS/ProgStat/main/dataset/ex4_6_visitor.csv\")\n",
    "df_visit"
   ]
  },
  {
   "cell_type": "markdown",
   "id": "f8bb9d3e-eb8b-405f-8da0-544052b767e5",
   "metadata": {
    "id": "f8bb9d3e-eb8b-405f-8da0-544052b767e5"
   },
   "source": [
    "\\\n",
    "แปลง duration ให้เป็น 2 columns เพื่อให้สามารถนำตัวเลขไปใช้คำนวณได้"
   ]
  },
  {
   "cell_type": "code",
   "execution_count": 37,
   "id": "ae404ff6-a611-4701-8d98-9cf0197aade7",
   "metadata": {
    "colab": {
     "base_uri": "https://localhost:8080/",
     "height": 269
    },
    "executionInfo": {
     "elapsed": 516,
     "status": "ok",
     "timestamp": 1733747120307,
     "user": {
      "displayName": "Thammakorn SAETHANG",
      "userId": "08182570455347153646"
     },
     "user_tz": -420
    },
    "id": "ae404ff6-a611-4701-8d98-9cf0197aade7",
    "outputId": "6e5ee94b-58da-4e1b-db56-6b9699d6f09a"
   },
   "outputs": [
    {
     "data": {
      "text/html": [
       "<div>\n",
       "<style scoped>\n",
       "    .dataframe tbody tr th:only-of-type {\n",
       "        vertical-align: middle;\n",
       "    }\n",
       "\n",
       "    .dataframe tbody tr th {\n",
       "        vertical-align: top;\n",
       "    }\n",
       "\n",
       "    .dataframe thead th {\n",
       "        text-align: right;\n",
       "    }\n",
       "</style>\n",
       "<table border=\"1\" class=\"dataframe\">\n",
       "  <thead>\n",
       "    <tr style=\"text-align: right;\">\n",
       "      <th></th>\n",
       "      <th>duration</th>\n",
       "      <th>num_visitor</th>\n",
       "      <th>du_from</th>\n",
       "      <th>du_to</th>\n",
       "    </tr>\n",
       "  </thead>\n",
       "  <tbody>\n",
       "    <tr>\n",
       "      <th>0</th>\n",
       "      <td>1-7</td>\n",
       "      <td>4</td>\n",
       "      <td>1</td>\n",
       "      <td>7</td>\n",
       "    </tr>\n",
       "    <tr>\n",
       "      <th>1</th>\n",
       "      <td>8-14</td>\n",
       "      <td>6</td>\n",
       "      <td>8</td>\n",
       "      <td>14</td>\n",
       "    </tr>\n",
       "    <tr>\n",
       "      <th>2</th>\n",
       "      <td>15-21</td>\n",
       "      <td>5</td>\n",
       "      <td>15</td>\n",
       "      <td>21</td>\n",
       "    </tr>\n",
       "    <tr>\n",
       "      <th>3</th>\n",
       "      <td>22-28</td>\n",
       "      <td>10</td>\n",
       "      <td>22</td>\n",
       "      <td>28</td>\n",
       "    </tr>\n",
       "    <tr>\n",
       "      <th>4</th>\n",
       "      <td>29-35</td>\n",
       "      <td>6</td>\n",
       "      <td>29</td>\n",
       "      <td>35</td>\n",
       "    </tr>\n",
       "    <tr>\n",
       "      <th>5</th>\n",
       "      <td>36-42</td>\n",
       "      <td>4</td>\n",
       "      <td>36</td>\n",
       "      <td>42</td>\n",
       "    </tr>\n",
       "    <tr>\n",
       "      <th>6</th>\n",
       "      <td>43-49</td>\n",
       "      <td>1</td>\n",
       "      <td>43</td>\n",
       "      <td>49</td>\n",
       "    </tr>\n",
       "  </tbody>\n",
       "</table>\n",
       "</div>"
      ],
      "text/plain": [
       "  duration  num_visitor  du_from  du_to\n",
       "0      1-7            4        1      7\n",
       "1     8-14            6        8     14\n",
       "2    15-21            5       15     21\n",
       "3    22-28           10       22     28\n",
       "4    29-35            6       29     35\n",
       "5    36-42            4       36     42\n",
       "6    43-49            1       43     49"
      ]
     },
     "execution_count": 37,
     "metadata": {},
     "output_type": "execute_result"
    }
   ],
   "source": [
    "df_visit[['du_from', 'du_to']] = df_visit.duration.str.split('-', expand=True).astype(int)\n",
    "df_visit"
   ]
  },
  {
   "cell_type": "markdown",
   "id": "e7b4964d-9b28-42a1-85f6-d8d2f9319857",
   "metadata": {
    "id": "e7b4964d-9b28-42a1-85f6-d8d2f9319857"
   },
   "source": [
    "\\\n",
    "หาชั้นที่ mode อยู่"
   ]
  },
  {
   "cell_type": "code",
   "execution_count": 38,
   "id": "c463283d-e542-4b26-b261-c93299af51b3",
   "metadata": {
    "colab": {
     "base_uri": "https://localhost:8080/"
    },
    "executionInfo": {
     "elapsed": 312,
     "status": "ok",
     "timestamp": 1733747133767,
     "user": {
      "displayName": "Thammakorn SAETHANG",
      "userId": "08182570455347153646"
     },
     "user_tz": -420
    },
    "id": "c463283d-e542-4b26-b261-c93299af51b3",
    "outputId": "6a8dcccb-aaee-48c3-9fac-bccc7298d150"
   },
   "outputs": [
    {
     "data": {
      "text/plain": [
       "3"
      ]
     },
     "execution_count": 38,
     "metadata": {},
     "output_type": "execute_result"
    }
   ],
   "source": [
    "e = np.argmax(df_visit.num_visitor)\n",
    "e"
   ]
  },
  {
   "cell_type": "markdown",
   "id": "17aa181a-c040-4e9d-8d65-af1af16722fb",
   "metadata": {
    "id": "17aa181a-c040-4e9d-8d65-af1af16722fb"
   },
   "source": [
    "\\\n",
    "ซึ่งจะอยู่ในชั้นที่ 4 (index 3) มีระยะเวลา 22-28  \n",
    "หาขอบเขตล่าง"
   ]
  },
  {
   "cell_type": "code",
   "execution_count": 39,
   "id": "761d3683-6ca1-48d6-9be2-969484c4bb63",
   "metadata": {
    "colab": {
     "base_uri": "https://localhost:8080/"
    },
    "executionInfo": {
     "elapsed": 320,
     "status": "ok",
     "timestamp": 1733747149279,
     "user": {
      "displayName": "Thammakorn SAETHANG",
      "userId": "08182570455347153646"
     },
     "user_tz": -420
    },
    "id": "761d3683-6ca1-48d6-9be2-969484c4bb63",
    "outputId": "d7b2544e-a0b5-4d20-aad3-eb3899bce231"
   },
   "outputs": [
    {
     "data": {
      "text/plain": [
       "21.5"
      ]
     },
     "execution_count": 39,
     "metadata": {},
     "output_type": "execute_result"
    }
   ],
   "source": [
    "lower = (df_visit.du_from[e]+df_visit.du_to[e-1])/2\n",
    "lower"
   ]
  },
  {
   "cell_type": "code",
   "execution_count": 40,
   "id": "WX7emBdHynf0",
   "metadata": {
    "colab": {
     "base_uri": "https://localhost:8080/"
    },
    "executionInfo": {
     "elapsed": 329,
     "status": "ok",
     "timestamp": 1733747153268,
     "user": {
      "displayName": "Thammakorn SAETHANG",
      "userId": "08182570455347153646"
     },
     "user_tz": -420
    },
    "id": "WX7emBdHynf0",
    "outputId": "ec9da0e2-5ca6-4201-8342-110b0c2e456f"
   },
   "outputs": [
    {
     "data": {
      "text/plain": [
       "5"
      ]
     },
     "execution_count": 40,
     "metadata": {},
     "output_type": "execute_result"
    }
   ],
   "source": [
    "de_minus1 = np.abs(df_visit.num_visitor[e] - df_visit.num_visitor[e-1])\n",
    "de_minus1"
   ]
  },
  {
   "cell_type": "code",
   "execution_count": 41,
   "id": "NSVT6jTyy_Pq",
   "metadata": {
    "colab": {
     "base_uri": "https://localhost:8080/"
    },
    "executionInfo": {
     "elapsed": 302,
     "status": "ok",
     "timestamp": 1733747156727,
     "user": {
      "displayName": "Thammakorn SAETHANG",
      "userId": "08182570455347153646"
     },
     "user_tz": -420
    },
    "id": "NSVT6jTyy_Pq",
    "outputId": "7a6c1576-9641-403b-f4d1-f4bbbfb67e2d"
   },
   "outputs": [
    {
     "data": {
      "text/plain": [
       "4"
      ]
     },
     "execution_count": 41,
     "metadata": {},
     "output_type": "execute_result"
    }
   ],
   "source": [
    "de_plus1 = np.abs(df_visit.num_visitor[e] - df_visit.num_visitor[e+1])\n",
    "de_plus1"
   ]
  },
  {
   "cell_type": "markdown",
   "id": "97af088d-c56d-4953-beb5-2abaab890f58",
   "metadata": {
    "id": "97af088d-c56d-4953-beb5-2abaab890f58"
   },
   "source": [
    "\\\n",
    "หาค่า mode"
   ]
  },
  {
   "cell_type": "code",
   "execution_count": 42,
   "id": "3bac0aaf-2be7-4155-b2a4-6dc7d4223d26",
   "metadata": {
    "colab": {
     "base_uri": "https://localhost:8080/"
    },
    "executionInfo": {
     "elapsed": 341,
     "status": "ok",
     "timestamp": 1733747162413,
     "user": {
      "displayName": "Thammakorn SAETHANG",
      "userId": "08182570455347153646"
     },
     "user_tz": -420
    },
    "id": "3bac0aaf-2be7-4155-b2a4-6dc7d4223d26",
    "outputId": "0aa55631-4686-42e5-c041-16f2f568e7e3"
   },
   "outputs": [
    {
     "data": {
      "text/plain": [
       "25.38888888888889"
      ]
     },
     "execution_count": 42,
     "metadata": {},
     "output_type": "execute_result"
    }
   ],
   "source": [
    "lower + ( de_minus1/(de_minus1+de_plus1) )*7"
   ]
  },
  {
   "cell_type": "markdown",
   "id": "e8931b0e-1fad-41f0-800b-146639355fb0",
   "metadata": {
    "id": "e8931b0e-1fad-41f0-800b-146639355fb0"
   },
   "source": [
    "&nbsp;  \n",
    "#### 4.9 สุ่มตัวอย่างนิสิตจำนวน 10 คน และสอบถามถึงจำนวนครั้งในการไปใช้บริการร้านสะดวกซื้อในหนึ่งสัปดาห์ ได้ข้อมูลมาดังนี้ 10, 5, 3, 9, 17, 15, 9, 2, 7, 8   จงคำนวณค่า Q<sub>1</sub> และ D<sub>7</sub>"
   ]
  },
  {
   "cell_type": "code",
   "execution_count": 43,
   "id": "c03edcae-0cca-486c-81bd-38a02fa10c4a",
   "metadata": {
    "id": "c03edcae-0cca-486c-81bd-38a02fa10c4a"
   },
   "outputs": [],
   "source": [
    "conv = [10, 5, 3, 9, 17, 15, 9, 2, 7, 8]"
   ]
  },
  {
   "cell_type": "code",
   "execution_count": 44,
   "id": "0b4438b2-78bb-4af5-b733-cc6a974e9dad",
   "metadata": {
    "colab": {
     "base_uri": "https://localhost:8080/"
    },
    "executionInfo": {
     "elapsed": 4,
     "status": "ok",
     "timestamp": 1733747311764,
     "user": {
      "displayName": "Thammakorn SAETHANG",
      "userId": "08182570455347153646"
     },
     "user_tz": -420
    },
    "id": "0b4438b2-78bb-4af5-b733-cc6a974e9dad",
    "outputId": "f48129b0-d7b6-457c-f82c-1dfce8ed915f"
   },
   "outputs": [
    {
     "data": {
      "text/plain": [
       "4.5"
      ]
     },
     "execution_count": 44,
     "metadata": {},
     "output_type": "execute_result"
    }
   ],
   "source": [
    "np.percentile(conv,25, method='weibull')"
   ]
  },
  {
   "cell_type": "code",
   "execution_count": 45,
   "id": "204f3385-4032-457c-9d64-04bf242e65c6",
   "metadata": {
    "colab": {
     "base_uri": "https://localhost:8080/"
    },
    "executionInfo": {
     "elapsed": 491,
     "status": "ok",
     "timestamp": 1733747314212,
     "user": {
      "displayName": "Thammakorn SAETHANG",
      "userId": "08182570455347153646"
     },
     "user_tz": -420
    },
    "id": "204f3385-4032-457c-9d64-04bf242e65c6",
    "outputId": "0e860314-4e50-4d37-b382-36a5b031a913"
   },
   "outputs": [
    {
     "data": {
      "text/plain": [
       "9.7"
      ]
     },
     "execution_count": 45,
     "metadata": {},
     "output_type": "execute_result"
    }
   ],
   "source": [
    "np.percentile(conv,70, method='weibull')"
   ]
  },
  {
   "cell_type": "markdown",
   "id": "da1910b0-aae5-4251-b500-2961387cbece",
   "metadata": {
    "id": "da1910b0-aae5-4251-b500-2961387cbece"
   },
   "source": [
    "&nbsp;  \n",
    "#### 4.10 จงคำนวณค่าของ Q<sub>3</sub>, D<sub>3</sub> และ P<sub>60</sub> จากตารางแสดงระยะเวลาที่ครบกำหนดของการลงทุนระยะสั้นที่บริษัทต่างๆ จำนวน 40 บริษัทกำหนดไว้ดังตาราง 'ex3_10_investment.csv'\n"
   ]
  },
  {
   "cell_type": "code",
   "execution_count": 46,
   "id": "4494db17-0c7b-4dff-a7c5-82872aba411a",
   "metadata": {
    "colab": {
     "base_uri": "https://localhost:8080/",
     "height": 269
    },
    "executionInfo": {
     "elapsed": 377,
     "status": "ok",
     "timestamp": 1733767588201,
     "user": {
      "displayName": "Thammakorn SAETHANG",
      "userId": "08182570455347153646"
     },
     "user_tz": -420
    },
    "id": "4494db17-0c7b-4dff-a7c5-82872aba411a",
    "outputId": "755d8801-80ae-438d-bdd5-4dfe98045421",
    "tags": []
   },
   "outputs": [
    {
     "data": {
      "text/html": [
       "<div>\n",
       "<style scoped>\n",
       "    .dataframe tbody tr th:only-of-type {\n",
       "        vertical-align: middle;\n",
       "    }\n",
       "\n",
       "    .dataframe tbody tr th {\n",
       "        vertical-align: top;\n",
       "    }\n",
       "\n",
       "    .dataframe thead th {\n",
       "        text-align: right;\n",
       "    }\n",
       "</style>\n",
       "<table border=\"1\" class=\"dataframe\">\n",
       "  <thead>\n",
       "    <tr style=\"text-align: right;\">\n",
       "      <th></th>\n",
       "      <th>duration</th>\n",
       "      <th>num_company</th>\n",
       "    </tr>\n",
       "  </thead>\n",
       "  <tbody>\n",
       "    <tr>\n",
       "      <th>0</th>\n",
       "      <td>30-39</td>\n",
       "      <td>3</td>\n",
       "    </tr>\n",
       "    <tr>\n",
       "      <th>1</th>\n",
       "      <td>40-49</td>\n",
       "      <td>1</td>\n",
       "    </tr>\n",
       "    <tr>\n",
       "      <th>2</th>\n",
       "      <td>50-59</td>\n",
       "      <td>8</td>\n",
       "    </tr>\n",
       "    <tr>\n",
       "      <th>3</th>\n",
       "      <td>60-69</td>\n",
       "      <td>10</td>\n",
       "    </tr>\n",
       "    <tr>\n",
       "      <th>4</th>\n",
       "      <td>70-79</td>\n",
       "      <td>7</td>\n",
       "    </tr>\n",
       "    <tr>\n",
       "      <th>5</th>\n",
       "      <td>80-89</td>\n",
       "      <td>7</td>\n",
       "    </tr>\n",
       "    <tr>\n",
       "      <th>6</th>\n",
       "      <td>90-99</td>\n",
       "      <td>4</td>\n",
       "    </tr>\n",
       "  </tbody>\n",
       "</table>\n",
       "</div>"
      ],
      "text/plain": [
       "  duration  num_company\n",
       "0    30-39            3\n",
       "1    40-49            1\n",
       "2    50-59            8\n",
       "3    60-69           10\n",
       "4    70-79            7\n",
       "5    80-89            7\n",
       "6    90-99            4"
      ]
     },
     "execution_count": 46,
     "metadata": {},
     "output_type": "execute_result"
    }
   ],
   "source": [
    "df_invest = pd.read_csv(\"https://raw.githubusercontent.com/ThammakornS/ProgStat/main/dataset/ex4_10_investment.csv\")\n",
    "df_invest"
   ]
  },
  {
   "cell_type": "markdown",
   "id": "ca45e778-9d11-4791-b8ee-a2ba03a3c46d",
   "metadata": {
    "id": "ca45e778-9d11-4791-b8ee-a2ba03a3c46d"
   },
   "source": [
    "\\\n",
    "สร้าง column ความถี่สะสมของจำนวนบริษัท"
   ]
  },
  {
   "cell_type": "code",
   "execution_count": 47,
   "id": "fdf7aabf-7813-4ec3-b34e-756eae268dea",
   "metadata": {
    "colab": {
     "base_uri": "https://localhost:8080/",
     "height": 269
    },
    "executionInfo": {
     "elapsed": 361,
     "status": "ok",
     "timestamp": 1733767594666,
     "user": {
      "displayName": "Thammakorn SAETHANG",
      "userId": "08182570455347153646"
     },
     "user_tz": -420
    },
    "id": "fdf7aabf-7813-4ec3-b34e-756eae268dea",
    "outputId": "f8010ce5-70b7-46f8-b0be-6ffe66e261ee"
   },
   "outputs": [
    {
     "data": {
      "text/html": [
       "<div>\n",
       "<style scoped>\n",
       "    .dataframe tbody tr th:only-of-type {\n",
       "        vertical-align: middle;\n",
       "    }\n",
       "\n",
       "    .dataframe tbody tr th {\n",
       "        vertical-align: top;\n",
       "    }\n",
       "\n",
       "    .dataframe thead th {\n",
       "        text-align: right;\n",
       "    }\n",
       "</style>\n",
       "<table border=\"1\" class=\"dataframe\">\n",
       "  <thead>\n",
       "    <tr style=\"text-align: right;\">\n",
       "      <th></th>\n",
       "      <th>duration</th>\n",
       "      <th>num_company</th>\n",
       "      <th>num_company_cum</th>\n",
       "    </tr>\n",
       "  </thead>\n",
       "  <tbody>\n",
       "    <tr>\n",
       "      <th>0</th>\n",
       "      <td>30-39</td>\n",
       "      <td>3</td>\n",
       "      <td>3</td>\n",
       "    </tr>\n",
       "    <tr>\n",
       "      <th>1</th>\n",
       "      <td>40-49</td>\n",
       "      <td>1</td>\n",
       "      <td>4</td>\n",
       "    </tr>\n",
       "    <tr>\n",
       "      <th>2</th>\n",
       "      <td>50-59</td>\n",
       "      <td>8</td>\n",
       "      <td>12</td>\n",
       "    </tr>\n",
       "    <tr>\n",
       "      <th>3</th>\n",
       "      <td>60-69</td>\n",
       "      <td>10</td>\n",
       "      <td>22</td>\n",
       "    </tr>\n",
       "    <tr>\n",
       "      <th>4</th>\n",
       "      <td>70-79</td>\n",
       "      <td>7</td>\n",
       "      <td>29</td>\n",
       "    </tr>\n",
       "    <tr>\n",
       "      <th>5</th>\n",
       "      <td>80-89</td>\n",
       "      <td>7</td>\n",
       "      <td>36</td>\n",
       "    </tr>\n",
       "    <tr>\n",
       "      <th>6</th>\n",
       "      <td>90-99</td>\n",
       "      <td>4</td>\n",
       "      <td>40</td>\n",
       "    </tr>\n",
       "  </tbody>\n",
       "</table>\n",
       "</div>"
      ],
      "text/plain": [
       "  duration  num_company  num_company_cum\n",
       "0    30-39            3                3\n",
       "1    40-49            1                4\n",
       "2    50-59            8               12\n",
       "3    60-69           10               22\n",
       "4    70-79            7               29\n",
       "5    80-89            7               36\n",
       "6    90-99            4               40"
      ]
     },
     "execution_count": 47,
     "metadata": {},
     "output_type": "execute_result"
    }
   ],
   "source": [
    "df_invest['num_company_cum'] = df_invest.num_company.cumsum()\n",
    "df_invest"
   ]
  },
  {
   "cell_type": "markdown",
   "id": "71b700b1-6ca0-4dc5-b428-e9d2457bc60f",
   "metadata": {
    "id": "71b700b1-6ca0-4dc5-b428-e9d2457bc60f"
   },
   "source": [
    "\\\n",
    "แปลง duration ให้เป็น 2 columns เพื่อให้สามารถนำตัวเลขไปใช้คำนวณได้"
   ]
  },
  {
   "cell_type": "code",
   "execution_count": 48,
   "id": "04cc8d33-e92b-4cca-b90c-262dc380e161",
   "metadata": {
    "colab": {
     "base_uri": "https://localhost:8080/",
     "height": 269
    },
    "executionInfo": {
     "elapsed": 372,
     "status": "ok",
     "timestamp": 1733767606233,
     "user": {
      "displayName": "Thammakorn SAETHANG",
      "userId": "08182570455347153646"
     },
     "user_tz": -420
    },
    "id": "04cc8d33-e92b-4cca-b90c-262dc380e161",
    "outputId": "63074764-5e8e-4e03-f672-f4e90566cb1f"
   },
   "outputs": [
    {
     "data": {
      "text/html": [
       "<div>\n",
       "<style scoped>\n",
       "    .dataframe tbody tr th:only-of-type {\n",
       "        vertical-align: middle;\n",
       "    }\n",
       "\n",
       "    .dataframe tbody tr th {\n",
       "        vertical-align: top;\n",
       "    }\n",
       "\n",
       "    .dataframe thead th {\n",
       "        text-align: right;\n",
       "    }\n",
       "</style>\n",
       "<table border=\"1\" class=\"dataframe\">\n",
       "  <thead>\n",
       "    <tr style=\"text-align: right;\">\n",
       "      <th></th>\n",
       "      <th>duration</th>\n",
       "      <th>num_company</th>\n",
       "      <th>num_company_cum</th>\n",
       "      <th>du_from</th>\n",
       "      <th>du_to</th>\n",
       "    </tr>\n",
       "  </thead>\n",
       "  <tbody>\n",
       "    <tr>\n",
       "      <th>0</th>\n",
       "      <td>30-39</td>\n",
       "      <td>3</td>\n",
       "      <td>3</td>\n",
       "      <td>30</td>\n",
       "      <td>39</td>\n",
       "    </tr>\n",
       "    <tr>\n",
       "      <th>1</th>\n",
       "      <td>40-49</td>\n",
       "      <td>1</td>\n",
       "      <td>4</td>\n",
       "      <td>40</td>\n",
       "      <td>49</td>\n",
       "    </tr>\n",
       "    <tr>\n",
       "      <th>2</th>\n",
       "      <td>50-59</td>\n",
       "      <td>8</td>\n",
       "      <td>12</td>\n",
       "      <td>50</td>\n",
       "      <td>59</td>\n",
       "    </tr>\n",
       "    <tr>\n",
       "      <th>3</th>\n",
       "      <td>60-69</td>\n",
       "      <td>10</td>\n",
       "      <td>22</td>\n",
       "      <td>60</td>\n",
       "      <td>69</td>\n",
       "    </tr>\n",
       "    <tr>\n",
       "      <th>4</th>\n",
       "      <td>70-79</td>\n",
       "      <td>7</td>\n",
       "      <td>29</td>\n",
       "      <td>70</td>\n",
       "      <td>79</td>\n",
       "    </tr>\n",
       "    <tr>\n",
       "      <th>5</th>\n",
       "      <td>80-89</td>\n",
       "      <td>7</td>\n",
       "      <td>36</td>\n",
       "      <td>80</td>\n",
       "      <td>89</td>\n",
       "    </tr>\n",
       "    <tr>\n",
       "      <th>6</th>\n",
       "      <td>90-99</td>\n",
       "      <td>4</td>\n",
       "      <td>40</td>\n",
       "      <td>90</td>\n",
       "      <td>99</td>\n",
       "    </tr>\n",
       "  </tbody>\n",
       "</table>\n",
       "</div>"
      ],
      "text/plain": [
       "  duration  num_company  num_company_cum  du_from  du_to\n",
       "0    30-39            3                3       30     39\n",
       "1    40-49            1                4       40     49\n",
       "2    50-59            8               12       50     59\n",
       "3    60-69           10               22       60     69\n",
       "4    70-79            7               29       70     79\n",
       "5    80-89            7               36       80     89\n",
       "6    90-99            4               40       90     99"
      ]
     },
     "execution_count": 48,
     "metadata": {},
     "output_type": "execute_result"
    }
   ],
   "source": [
    "df_invest[['du_from', 'du_to']] = df_invest.duration.str.split('-', expand=True).astype(int)\n",
    "df_invest"
   ]
  },
  {
   "cell_type": "markdown",
   "id": "a09f0e62-b173-438f-a4c4-d09937befb9e",
   "metadata": {
    "id": "a09f0e62-b173-438f-a4c4-d09937befb9e"
   },
   "source": [
    "&emsp;**1) Q<sub>3</sub>**"
   ]
  },
  {
   "cell_type": "markdown",
   "id": "5df61489-5e4e-495b-8042-317a523cdad6",
   "metadata": {
    "id": "5df61489-5e4e-495b-8042-317a523cdad6"
   },
   "source": [
    "หาชั้นที่ Q<sub>3</sub> อยู่"
   ]
  },
  {
   "cell_type": "code",
   "execution_count": 49,
   "id": "fb0ec2d5-dbfa-4718-83a4-67034e124d34",
   "metadata": {
    "id": "fb0ec2d5-dbfa-4718-83a4-67034e124d34"
   },
   "outputs": [],
   "source": [
    "n = 40"
   ]
  },
  {
   "cell_type": "code",
   "execution_count": 50,
   "id": "1675bf8b-7936-4349-aa0f-335acc733542",
   "metadata": {
    "colab": {
     "base_uri": "https://localhost:8080/"
    },
    "executionInfo": {
     "elapsed": 3,
     "status": "ok",
     "timestamp": 1733767624841,
     "user": {
      "displayName": "Thammakorn SAETHANG",
      "userId": "08182570455347153646"
     },
     "user_tz": -420
    },
    "id": "1675bf8b-7936-4349-aa0f-335acc733542",
    "outputId": "46c9caf8-4d08-4867-b6ec-7f99b49774ee"
   },
   "outputs": [
    {
     "data": {
      "text/plain": [
       "30.0"
      ]
     },
     "execution_count": 50,
     "metadata": {},
     "output_type": "execute_result"
    }
   ],
   "source": [
    "q3_pos = n*3/4\n",
    "q3_pos"
   ]
  },
  {
   "cell_type": "markdown",
   "id": "cc007fc6-04b4-4716-be9e-fad957d3c151",
   "metadata": {
    "id": "cc007fc6-04b4-4716-be9e-fad957d3c151"
   },
   "source": [
    "ดังนั้นอยู่ชั้นที่ 6 (index 5) e=5  \n",
    "หาค่าขอบเขตล่าง L  "
   ]
  },
  {
   "cell_type": "code",
   "execution_count": 51,
   "id": "abf99fb1-b3fd-4301-b9ac-688aae3973b5",
   "metadata": {
    "colab": {
     "base_uri": "https://localhost:8080/"
    },
    "executionInfo": {
     "elapsed": 320,
     "status": "ok",
     "timestamp": 1733767636644,
     "user": {
      "displayName": "Thammakorn SAETHANG",
      "userId": "08182570455347153646"
     },
     "user_tz": -420
    },
    "id": "abf99fb1-b3fd-4301-b9ac-688aae3973b5",
    "outputId": "872763fd-d7da-43c1-bca9-a087db9c31a0"
   },
   "outputs": [
    {
     "data": {
      "text/plain": [
       "79.5"
      ]
     },
     "execution_count": 51,
     "metadata": {},
     "output_type": "execute_result"
    }
   ],
   "source": [
    "e = 5\n",
    "lower = (df_invest.du_to[e-1]+df_invest.du_from[e]) / 2\n",
    "lower"
   ]
  },
  {
   "cell_type": "markdown",
   "id": "154ec464-6e44-43c9-a2ab-089fbdc70e87",
   "metadata": {
    "id": "154ec464-6e44-43c9-a2ab-089fbdc70e87"
   },
   "source": [
    "หาค่า Q<sub>3</sub>  "
   ]
  },
  {
   "cell_type": "code",
   "execution_count": 52,
   "id": "d0b47c5a-9c55-4c63-91d2-d82c7d01884a",
   "metadata": {
    "colab": {
     "base_uri": "https://localhost:8080/"
    },
    "executionInfo": {
     "elapsed": 346,
     "status": "ok",
     "timestamp": 1733767643868,
     "user": {
      "displayName": "Thammakorn SAETHANG",
      "userId": "08182570455347153646"
     },
     "user_tz": -420
    },
    "id": "d0b47c5a-9c55-4c63-91d2-d82c7d01884a",
    "outputId": "4af57211-b09f-40be-ecfc-80a508619ec2"
   },
   "outputs": [
    {
     "data": {
      "text/plain": [
       "80.92857142857143"
      ]
     },
     "execution_count": 52,
     "metadata": {},
     "output_type": "execute_result"
    }
   ],
   "source": [
    "lower+( (q3_pos-df_invest.num_company_cum[e-1])/df_invest.num_company[e] )*10"
   ]
  },
  {
   "cell_type": "markdown",
   "id": "908f1bda-f2f5-4428-bad5-2f11c6bd7670",
   "metadata": {
    "id": "908f1bda-f2f5-4428-bad5-2f11c6bd7670"
   },
   "source": [
    "&emsp;**2) D<sub>3</sub>**"
   ]
  },
  {
   "cell_type": "code",
   "execution_count": 53,
   "id": "c782ad08-8beb-47ff-ada5-5068fa025f88",
   "metadata": {
    "colab": {
     "base_uri": "https://localhost:8080/"
    },
    "executionInfo": {
     "elapsed": 349,
     "status": "ok",
     "timestamp": 1733767653391,
     "user": {
      "displayName": "Thammakorn SAETHANG",
      "userId": "08182570455347153646"
     },
     "user_tz": -420
    },
    "id": "c782ad08-8beb-47ff-ada5-5068fa025f88",
    "outputId": "8ce52775-ce3e-4c5a-a261-71b935ef9ca8"
   },
   "outputs": [
    {
     "data": {
      "text/plain": [
       "12.0"
      ]
     },
     "execution_count": 53,
     "metadata": {},
     "output_type": "execute_result"
    }
   ],
   "source": [
    "D3_pos = n*3/10\n",
    "D3_pos"
   ]
  },
  {
   "cell_type": "markdown",
   "id": "9bd534d9-63ba-4ec4-9ffd-4c9538c455b1",
   "metadata": {
    "id": "9bd534d9-63ba-4ec4-9ffd-4c9538c455b1"
   },
   "source": [
    "ดังนั้นอยู่ชั้นที่ 3 (index 2) e=2  \n",
    "หาค่าขอบเขตล่าง L  "
   ]
  },
  {
   "cell_type": "code",
   "execution_count": 54,
   "id": "bfd979db-192b-4d91-a539-fe577790829f",
   "metadata": {
    "id": "bfd979db-192b-4d91-a539-fe577790829f"
   },
   "outputs": [
    {
     "data": {
      "text/plain": [
       "49.5"
      ]
     },
     "execution_count": 54,
     "metadata": {},
     "output_type": "execute_result"
    }
   ],
   "source": [
    "e = 2\n",
    "lower = (df_invest.du_to[e-1]+df_invest.du_from[e]) / 2\n",
    "lower"
   ]
  },
  {
   "cell_type": "markdown",
   "id": "b6a44baa-5ae6-4038-b472-4102e9070ef5",
   "metadata": {
    "id": "b6a44baa-5ae6-4038-b472-4102e9070ef5"
   },
   "source": [
    "หาค่า D<sub>3</sub>  "
   ]
  },
  {
   "cell_type": "code",
   "execution_count": 55,
   "id": "40ebdbe7-111c-4c8e-a357-a9848bdca604",
   "metadata": {
    "id": "40ebdbe7-111c-4c8e-a357-a9848bdca604"
   },
   "outputs": [
    {
     "data": {
      "text/plain": [
       "59.5"
      ]
     },
     "execution_count": 55,
     "metadata": {},
     "output_type": "execute_result"
    }
   ],
   "source": [
    "lower+( (D3_pos-df_invest.num_company_cum[e-1])/df_invest.num_company[e] )*10"
   ]
  },
  {
   "cell_type": "markdown",
   "id": "eb2eb4d3-4c93-4ee4-8a35-b534429d6534",
   "metadata": {
    "id": "eb2eb4d3-4c93-4ee4-8a35-b534429d6534"
   },
   "source": [
    "&emsp;**3) P<sub>60</sub>**"
   ]
  },
  {
   "cell_type": "code",
   "execution_count": 56,
   "id": "a61777c7-fe63-4ad6-b7e7-0c1ae3c89998",
   "metadata": {
    "id": "a61777c7-fe63-4ad6-b7e7-0c1ae3c89998"
   },
   "outputs": [
    {
     "data": {
      "text/plain": [
       "24.0"
      ]
     },
     "execution_count": 56,
     "metadata": {},
     "output_type": "execute_result"
    }
   ],
   "source": [
    "P60_pos = n*60/100\n",
    "P60_pos"
   ]
  },
  {
   "cell_type": "markdown",
   "id": "de027ba9-d061-4b17-baa4-f613c53fc92f",
   "metadata": {
    "id": "de027ba9-d061-4b17-baa4-f613c53fc92f"
   },
   "source": [
    "ดังนั้นอยู่ชั้นที่ 5 (index 2) e=4  \n",
    "หาค่าขอบเขตล่าง L  "
   ]
  },
  {
   "cell_type": "code",
   "execution_count": 57,
   "id": "9903b37a-11e3-4071-adb6-a590e7c5f083",
   "metadata": {
    "id": "9903b37a-11e3-4071-adb6-a590e7c5f083"
   },
   "outputs": [
    {
     "data": {
      "text/plain": [
       "69.5"
      ]
     },
     "execution_count": 57,
     "metadata": {},
     "output_type": "execute_result"
    }
   ],
   "source": [
    "e = 4\n",
    "lower = (df_invest.du_to[e-1]+df_invest.du_from[e]) / 2\n",
    "lower"
   ]
  },
  {
   "cell_type": "markdown",
   "id": "d3786ed7-ba07-43b8-ac97-4c5be7496aee",
   "metadata": {
    "id": "d3786ed7-ba07-43b8-ac97-4c5be7496aee"
   },
   "source": [
    "หาค่า P<sub>60</sub>  "
   ]
  },
  {
   "cell_type": "code",
   "execution_count": 58,
   "id": "43178608-ec45-47b4-9146-9943956815d8",
   "metadata": {
    "id": "43178608-ec45-47b4-9146-9943956815d8"
   },
   "outputs": [
    {
     "data": {
      "text/plain": [
       "72.35714285714286"
      ]
     },
     "execution_count": 58,
     "metadata": {},
     "output_type": "execute_result"
    }
   ],
   "source": [
    "lower+( (P60_pos-df_invest.num_company_cum[e-1])/df_invest.num_company[e] )*10"
   ]
  },
  {
   "cell_type": "markdown",
   "id": "70940e88-15ac-401c-bd50-2c69003375f8",
   "metadata": {
    "id": "70940e88-15ac-401c-bd50-2c69003375f8"
   },
   "source": [
    "&nbsp;  \n",
    "#### 4.11 ทำการสุ่มเลือกนิสิต 7 คน ซึ่งเรียนในหลักสูตรของภาควิชาวิทยาการคอมพิวเตอร์แล้วทำการสอบถามค่าใช้จ่ายที่ใช้ในแต่ละวันได้ผลดังนี้ 300, 250, 150, 120, 240, 180, 250 จงคำนวณค่าพิสัย"
   ]
  },
  {
   "cell_type": "code",
   "execution_count": 59,
   "id": "750fd1d5-308b-44e8-922f-f5d663ebbfef",
   "metadata": {
    "id": "750fd1d5-308b-44e8-922f-f5d663ebbfef"
   },
   "outputs": [],
   "source": [
    "expense = [300, 250, 150, 120, 240, 180, 250]"
   ]
  },
  {
   "cell_type": "markdown",
   "id": "be854c37-f58b-4e6a-ac09-12cabe8c45db",
   "metadata": {
    "id": "be854c37-f58b-4e6a-ac09-12cabe8c45db"
   },
   "source": [
    "หาพิสัย"
   ]
  },
  {
   "cell_type": "code",
   "execution_count": 60,
   "id": "e48be8e2-36f2-4b78-ba30-5f5297311b94",
   "metadata": {
    "id": "e48be8e2-36f2-4b78-ba30-5f5297311b94"
   },
   "outputs": [
    {
     "data": {
      "text/plain": [
       "180"
      ]
     },
     "execution_count": 60,
     "metadata": {},
     "output_type": "execute_result"
    }
   ],
   "source": [
    "max(expense) - min(expense)"
   ]
  },
  {
   "cell_type": "markdown",
   "id": "e8684833-02d7-4d13-ba8b-df114b9d50ce",
   "metadata": {
    "id": "e8684833-02d7-4d13-ba8b-df114b9d50ce"
   },
   "source": [
    "&nbsp;  \n",
    "#### 4.12 สุ่มตัวอย่างนิสิตจำนวน 10 คน และสอบถามถึงจำนวนครั้งในการไปใช้บริการร้านสะดวกซื้อในหนึ่งสัปดาห์ ได้ข้อมูลมาดังนี้ 10, 5, 3, 9, 17, 15, 9, 2, 7, 8   จงคำนวณค่า Q1 และ D7ทำการสุ่มเลือกนิสิต 7 คน ซึ่งเรียนในหลักสูตรของภาควิชาวิทยาการคอมพิวเตอร์แล้วทำการสอบถามค่าใช้จ่ายที่ใช้ในแต่ละวันได้ผลดังนี้ 300, 250, 150, 120, 240, 180, 250 จงคำนวณค่าส่วนเบี่ยงเบนมาตรฐานและความแปรปรวน"
   ]
  },
  {
   "cell_type": "code",
   "execution_count": 61,
   "id": "b82f7941-55f9-4a3f-a0af-1a344a68f2c6",
   "metadata": {
    "id": "b82f7941-55f9-4a3f-a0af-1a344a68f2c6"
   },
   "outputs": [],
   "source": [
    "cost = [300, 250, 150, 120, 240, 180, 250]"
   ]
  },
  {
   "cell_type": "markdown",
   "id": "97ba73ed-3f1e-4624-81b6-cd3cd0ccd06e",
   "metadata": {
    "id": "97ba73ed-3f1e-4624-81b6-cd3cd0ccd06e"
   },
   "source": [
    "\\\n",
    "หาค่าส่วนเบี่ยงเบนมาตรฐาน"
   ]
  },
  {
   "cell_type": "code",
   "execution_count": 62,
   "id": "ce3c7d1b-26d9-4a7b-a88e-97cc74e0f16c",
   "metadata": {
    "colab": {
     "base_uri": "https://localhost:8080/"
    },
    "executionInfo": {
     "elapsed": 336,
     "status": "ok",
     "timestamp": 1733768043256,
     "user": {
      "displayName": "Thammakorn SAETHANG",
      "userId": "08182570455347153646"
     },
     "user_tz": -420
    },
    "id": "ce3c7d1b-26d9-4a7b-a88e-97cc74e0f16c",
    "outputId": "59837e49-89f4-4b09-f98c-6af10c36e383"
   },
   "outputs": [
    {
     "data": {
      "text/plain": [
       "64.21689437998013"
      ]
     },
     "execution_count": 62,
     "metadata": {},
     "output_type": "execute_result"
    }
   ],
   "source": [
    "np.std(cost, ddof=1)"
   ]
  },
  {
   "cell_type": "markdown",
   "id": "c996870f-bed8-489d-af9a-b0e6ffa1ad68",
   "metadata": {
    "id": "c996870f-bed8-489d-af9a-b0e6ffa1ad68"
   },
   "source": [
    "***Note:***  \n",
    "การใช้ ddof = 1 จะหมายถึงตามสูตรหารด้วย n-1 (degree of freedom ของตัวอย่าง)  \n",
    "หากไม่กำหนดค่า default คือ 0 จะหมายถึงตามสูตรหารด้วย n (degree of freedom ของประชากร)"
   ]
  },
  {
   "cell_type": "markdown",
   "id": "2a3f26a8-2146-4968-bf0c-d25dd67dce9a",
   "metadata": {
    "id": "2a3f26a8-2146-4968-bf0c-d25dd67dce9a"
   },
   "source": [
    "\\\n",
    "หาค่าความแปรปรวน"
   ]
  },
  {
   "cell_type": "code",
   "execution_count": 63,
   "id": "97e7c401-5687-415e-90e7-23fccd4e1a0b",
   "metadata": {
    "id": "97e7c401-5687-415e-90e7-23fccd4e1a0b"
   },
   "outputs": [
    {
     "data": {
      "text/plain": [
       "4123.809523809524"
      ]
     },
     "execution_count": 63,
     "metadata": {},
     "output_type": "execute_result"
    }
   ],
   "source": [
    "np.var(cost, ddof=1)"
   ]
  },
  {
   "cell_type": "markdown",
   "id": "fba5583c-15e5-4a7e-a16d-0b6ead5fec7f",
   "metadata": {
    "id": "fba5583c-15e5-4a7e-a16d-0b6ead5fec7f"
   },
   "source": [
    "&nbsp;  \n",
    "#### 4.13 ทำการสุ่มเลือกนิสิต 20 คน ซึ่งเรียนในหลักสูตรของภาควิชาวิทยาการคอมพิวเตอร์แล้วทำการสอบถามค่าใช้จ่ายที่ใช้ในแต่ละวันได้ผลดังตาราง 'ex3_13_expense.csv'  จงคำนวณส่วนเบี่ยงเบนมาตรฐานของค่าใช้จ่ายต่อวัน"
   ]
  },
  {
   "cell_type": "code",
   "execution_count": 64,
   "id": "2905a98e-0054-4c54-8f42-02c25525cec4",
   "metadata": {
    "colab": {
     "base_uri": "https://localhost:8080/",
     "height": 206
    },
    "executionInfo": {
     "elapsed": 574,
     "status": "ok",
     "timestamp": 1733768190388,
     "user": {
      "displayName": "Thammakorn SAETHANG",
      "userId": "08182570455347153646"
     },
     "user_tz": -420
    },
    "id": "2905a98e-0054-4c54-8f42-02c25525cec4",
    "outputId": "73220f92-9add-4001-d1ad-4390ee55ee6e"
   },
   "outputs": [
    {
     "data": {
      "text/html": [
       "<div>\n",
       "<style scoped>\n",
       "    .dataframe tbody tr th:only-of-type {\n",
       "        vertical-align: middle;\n",
       "    }\n",
       "\n",
       "    .dataframe tbody tr th {\n",
       "        vertical-align: top;\n",
       "    }\n",
       "\n",
       "    .dataframe thead th {\n",
       "        text-align: right;\n",
       "    }\n",
       "</style>\n",
       "<table border=\"1\" class=\"dataframe\">\n",
       "  <thead>\n",
       "    <tr style=\"text-align: right;\">\n",
       "      <th></th>\n",
       "      <th>expense</th>\n",
       "      <th>num_student</th>\n",
       "    </tr>\n",
       "  </thead>\n",
       "  <tbody>\n",
       "    <tr>\n",
       "      <th>0</th>\n",
       "      <td>50-99</td>\n",
       "      <td>2</td>\n",
       "    </tr>\n",
       "    <tr>\n",
       "      <th>1</th>\n",
       "      <td>100-149</td>\n",
       "      <td>3</td>\n",
       "    </tr>\n",
       "    <tr>\n",
       "      <th>2</th>\n",
       "      <td>150-199</td>\n",
       "      <td>7</td>\n",
       "    </tr>\n",
       "    <tr>\n",
       "      <th>3</th>\n",
       "      <td>200-249</td>\n",
       "      <td>5</td>\n",
       "    </tr>\n",
       "    <tr>\n",
       "      <th>4</th>\n",
       "      <td>250-300</td>\n",
       "      <td>3</td>\n",
       "    </tr>\n",
       "  </tbody>\n",
       "</table>\n",
       "</div>"
      ],
      "text/plain": [
       "   expense  num_student\n",
       "0    50-99            2\n",
       "1  100-149            3\n",
       "2  150-199            7\n",
       "3  200-249            5\n",
       "4  250-300            3"
      ]
     },
     "execution_count": 64,
     "metadata": {},
     "output_type": "execute_result"
    }
   ],
   "source": [
    "df_expense = pd.read_csv(\"https://raw.githubusercontent.com/ThammakornS/ProgStat/main/dataset/ex4_13_expense.csv\")\n",
    "df_expense"
   ]
  },
  {
   "cell_type": "markdown",
   "id": "e8724b3e-93f5-42e4-bb96-84512e908db0",
   "metadata": {
    "id": "e8724b3e-93f5-42e4-bb96-84512e908db0"
   },
   "source": [
    "\\\n",
    "แปลง expense ให้เป็น 2 columns เพื่อให้สามารถนำตัวเลขไปใช้คำนวณได้"
   ]
  },
  {
   "cell_type": "code",
   "execution_count": 65,
   "id": "b92a6c54-a30b-455c-a3b0-8b41ba4e82f4",
   "metadata": {
    "colab": {
     "base_uri": "https://localhost:8080/",
     "height": 206
    },
    "executionInfo": {
     "elapsed": 360,
     "status": "ok",
     "timestamp": 1733768207099,
     "user": {
      "displayName": "Thammakorn SAETHANG",
      "userId": "08182570455347153646"
     },
     "user_tz": -420
    },
    "id": "b92a6c54-a30b-455c-a3b0-8b41ba4e82f4",
    "outputId": "cc2ae849-686e-44a3-8ab5-1e62a127a200"
   },
   "outputs": [
    {
     "data": {
      "text/html": [
       "<div>\n",
       "<style scoped>\n",
       "    .dataframe tbody tr th:only-of-type {\n",
       "        vertical-align: middle;\n",
       "    }\n",
       "\n",
       "    .dataframe tbody tr th {\n",
       "        vertical-align: top;\n",
       "    }\n",
       "\n",
       "    .dataframe thead th {\n",
       "        text-align: right;\n",
       "    }\n",
       "</style>\n",
       "<table border=\"1\" class=\"dataframe\">\n",
       "  <thead>\n",
       "    <tr style=\"text-align: right;\">\n",
       "      <th></th>\n",
       "      <th>expense</th>\n",
       "      <th>num_student</th>\n",
       "      <th>du_from</th>\n",
       "      <th>du_to</th>\n",
       "    </tr>\n",
       "  </thead>\n",
       "  <tbody>\n",
       "    <tr>\n",
       "      <th>0</th>\n",
       "      <td>50-99</td>\n",
       "      <td>2</td>\n",
       "      <td>50</td>\n",
       "      <td>99</td>\n",
       "    </tr>\n",
       "    <tr>\n",
       "      <th>1</th>\n",
       "      <td>100-149</td>\n",
       "      <td>3</td>\n",
       "      <td>100</td>\n",
       "      <td>149</td>\n",
       "    </tr>\n",
       "    <tr>\n",
       "      <th>2</th>\n",
       "      <td>150-199</td>\n",
       "      <td>7</td>\n",
       "      <td>150</td>\n",
       "      <td>199</td>\n",
       "    </tr>\n",
       "    <tr>\n",
       "      <th>3</th>\n",
       "      <td>200-249</td>\n",
       "      <td>5</td>\n",
       "      <td>200</td>\n",
       "      <td>249</td>\n",
       "    </tr>\n",
       "    <tr>\n",
       "      <th>4</th>\n",
       "      <td>250-300</td>\n",
       "      <td>3</td>\n",
       "      <td>250</td>\n",
       "      <td>300</td>\n",
       "    </tr>\n",
       "  </tbody>\n",
       "</table>\n",
       "</div>"
      ],
      "text/plain": [
       "   expense  num_student  du_from  du_to\n",
       "0    50-99            2       50     99\n",
       "1  100-149            3      100    149\n",
       "2  150-199            7      150    199\n",
       "3  200-249            5      200    249\n",
       "4  250-300            3      250    300"
      ]
     },
     "execution_count": 65,
     "metadata": {},
     "output_type": "execute_result"
    }
   ],
   "source": [
    "df_expense[['du_from', 'du_to']] = df_expense.expense.str.split('-', expand=True).astype(int)\n",
    "df_expense"
   ]
  },
  {
   "cell_type": "markdown",
   "id": "8cb8a3ad-a68d-477d-9ec8-fda40716e020",
   "metadata": {
    "id": "8cb8a3ad-a68d-477d-9ec8-fda40716e020"
   },
   "source": [
    "\\\n",
    "หาค่าเฉลี่ย"
   ]
  },
  {
   "cell_type": "code",
   "execution_count": 66,
   "id": "ce6c4a6b-c98e-4e0c-80bf-b3aca72ab87b",
   "metadata": {
    "colab": {
     "base_uri": "https://localhost:8080/"
    },
    "executionInfo": {
     "elapsed": 571,
     "status": "ok",
     "timestamp": 1733768214801,
     "user": {
      "displayName": "Thammakorn SAETHANG",
      "userId": "08182570455347153646"
     },
     "user_tz": -420
    },
    "id": "ce6c4a6b-c98e-4e0c-80bf-b3aca72ab87b",
    "outputId": "df0f0a36-e68b-4393-861e-3a5ffb14e4f0"
   },
   "outputs": [
    {
     "data": {
      "text/plain": [
       "184.575"
      ]
     },
     "execution_count": 66,
     "metadata": {},
     "output_type": "execute_result"
    }
   ],
   "source": [
    "x_bar = sum((df_expense.du_from+df_expense.du_to)/2  * df_expense.num_student) / df_expense.num_student.sum()\n",
    "x_bar"
   ]
  },
  {
   "cell_type": "markdown",
   "id": "d5ebb0c6-d46a-4b24-8cac-10438b236b40",
   "metadata": {
    "id": "d5ebb0c6-d46a-4b24-8cac-10438b236b40"
   },
   "source": [
    "\\\n",
    "หาค่าส่วนเบี่ยงเบนมาตรฐาน"
   ]
  },
  {
   "cell_type": "code",
   "execution_count": 67,
   "id": "7923634f-380b-496c-9dd3-09e3745da8f3",
   "metadata": {
    "id": "7923634f-380b-496c-9dd3-09e3745da8f3"
   },
   "outputs": [],
   "source": [
    "n =  20"
   ]
  },
  {
   "cell_type": "code",
   "execution_count": 68,
   "id": "c14863fc-ba3b-40f0-99db-21146530e34a",
   "metadata": {
    "colab": {
     "base_uri": "https://localhost:8080/"
    },
    "executionInfo": {
     "elapsed": 6,
     "status": "ok",
     "timestamp": 1703141161706,
     "user": {
      "displayName": "Thammakorn SAETHANG",
      "userId": "08182570455347153646"
     },
     "user_tz": -420
    },
    "id": "c14863fc-ba3b-40f0-99db-21146530e34a",
    "outputId": "5d34a3c8-7a7b-43cd-8de0-7db42de23226"
   },
   "outputs": [
    {
     "data": {
      "text/plain": [
       "59.94323520939148"
      ]
     },
     "execution_count": 68,
     "metadata": {},
     "output_type": "execute_result"
    }
   ],
   "source": [
    "sum_fx2 = sum( ((df_expense.du_from+df_expense.du_to)/2)**2  * df_expense.num_student)\n",
    "np.sqrt((sum_fx2 - n*x_bar**2) / (n-1))"
   ]
  },
  {
   "cell_type": "markdown",
   "id": "8a257ee8-811f-4ae5-8bfe-02e756714a6b",
   "metadata": {
    "id": "8a257ee8-811f-4ae5-8bfe-02e756714a6b"
   },
   "source": [
    "&nbsp;  \n",
    "#### 4.14 โรงงานผลิตยาแห่งหนึ่งมีเครื่องจักรที่ใช้ผลิตยา 2 เครื่อง โดยกำหนดให้เครื่องที่ 1 ผลิตยาขนาด 250 มิลลิกรัม ปรากฏว่ายาที่ผลิตได้มีน้ำหนักเฉลี่ย 252 มิลลิกรัมค่าเบี่ยงเบนมาตรฐาน 2.4 มิลลิกรัม ส่วนเครื่องที่ 2 กำหนดให้ผลิตยาขนาด 500 มิลลิกรัม ปรากฏว่ายาที่ผลิตได้มีน้ำหนักเฉลี่ย 496 มิลลิกรัม ค่าเบี่ยงเบนมาตรฐาน 3.6 มิลลิกรัม จงเปรียบเทียบว่าเครื่องจักรใดผลิตยาได้ถูกต้องมากกว่า เพราะเหตุใด"
   ]
  },
  {
   "cell_type": "markdown",
   "id": "63861b51-5d60-415b-9f95-9e83fe36139a",
   "metadata": {
    "id": "63861b51-5d60-415b-9f95-9e83fe36139a"
   },
   "source": [
    "เครื่องจักรที่ 1:"
   ]
  },
  {
   "cell_type": "code",
   "execution_count": 69,
   "id": "fee37ebe-129d-4678-a92e-3ab768f03ecb",
   "metadata": {
    "id": "fee37ebe-129d-4678-a92e-3ab768f03ecb"
   },
   "outputs": [
    {
     "data": {
      "text/plain": [
       "0.9523809523809523"
      ]
     },
     "execution_count": 69,
     "metadata": {},
     "output_type": "execute_result"
    }
   ],
   "source": [
    "cv1 = 2.4*100/252\n",
    "cv1"
   ]
  },
  {
   "cell_type": "markdown",
   "id": "f379bc21-cb17-4fb8-969a-074475f0785f",
   "metadata": {
    "id": "f379bc21-cb17-4fb8-969a-074475f0785f"
   },
   "source": [
    "\\\n",
    "เครื่องจักรที่ 2:"
   ]
  },
  {
   "cell_type": "code",
   "execution_count": 70,
   "id": "c320ebcc-e83d-4c25-a09f-64aeab671de7",
   "metadata": {
    "id": "c320ebcc-e83d-4c25-a09f-64aeab671de7"
   },
   "outputs": [
    {
     "data": {
      "text/plain": [
       "0.7258064516129032"
      ]
     },
     "execution_count": 70,
     "metadata": {},
     "output_type": "execute_result"
    }
   ],
   "source": [
    "cv2 = 3.6*100/496\n",
    "cv2"
   ]
  }
 ],
 "metadata": {
  "colab": {
   "provenance": []
  },
  "kernelspec": {
   "display_name": "Python 3",
   "language": "python",
   "name": "python3"
  },
  "language_info": {
   "codemirror_mode": {
    "name": "ipython",
    "version": 3
   },
   "file_extension": ".py",
   "mimetype": "text/x-python",
   "name": "python",
   "nbconvert_exporter": "python",
   "pygments_lexer": "ipython3",
   "version": "3.9.13"
  }
 },
 "nbformat": 4,
 "nbformat_minor": 5
}
