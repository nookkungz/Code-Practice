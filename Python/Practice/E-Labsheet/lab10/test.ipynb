{
 "cells": [
  {
   "cell_type": "code",
   "execution_count": 6,
   "metadata": {},
   "outputs": [
    {
     "name": "stdout",
     "output_type": "stream",
     "text": [
      "129\n"
     ]
    }
   ],
   "source": [
    "primes = [2,3,5,7,11,13,17,19,23,29]\n",
    "n = 0\n",
    "total = 0\n",
    "while n < 10 :\n",
    "    total += primes[n]\n",
    "    n += 1\n",
    "print(total)"
   ]
  },
  {
   "cell_type": "code",
   "execution_count": 4,
   "metadata": {},
   "outputs": [
    {
     "name": "stdout",
     "output_type": "stream",
     "text": [
      "Jan 31\n",
      "Feb 28\n",
      "Mar 31\n",
      "Apr 30\n",
      "May 31\n",
      "Jun 30\n",
      "Jul 31\n",
      "Aug 31\n",
      "Sep 30\n",
      "Oct 31\n",
      "Nov 30\n",
      "Dec 31\n"
     ]
    }
   ],
   "source": [
    "months = ['Jan', 'Feb', 'Mar', 'Apr', 'May', 'Jun', 'Jul', 'Aug', 'Sep', 'Oct', 'Nov', 'Dec']\n",
    "days_in_month = [31, 28, 31, 30, 31, 30, 31, 31, 30, 31, 30, 31]\n",
    "\n",
    "n = 0\n",
    "\n",
    "while True :\n",
    "    print(f\"{months[n]} {days_in_month[n]}\")\n",
    "    \n",
    "    \n",
    "    \n",
    "    n += 1 \n",
    "    if n == 12 :\n",
    "        break \n",
    "\n",
    "\n",
    "\n"
   ]
  },
  {
   "cell_type": "code",
   "execution_count": 7,
   "metadata": {},
   "outputs": [
    {
     "name": "stdout",
     "output_type": "stream",
     "text": [
      "[4, 6, 10, 14, 22, 26, 34, 38, 46, 58]\n"
     ]
    }
   ],
   "source": [
    "primes = [2,3,5,7,11,13,17,19,23,29]\n",
    "n = 0\n",
    "while n < 10 :\n",
    "    primes[n] = primes[n]*2\n",
    "    n += 1\n",
    "print(primes)"
   ]
  },
  {
   "cell_type": "code",
   "execution_count": 10,
   "metadata": {},
   "outputs": [
    {
     "name": "stdout",
     "output_type": "stream",
     "text": [
      "129\n"
     ]
    }
   ],
   "source": [
    "primes = [2,3,5,7,11,13,17,19,23,29]\n",
    "total = 0\n",
    "for i in primes :\n",
    "    total += i\n",
    "print(total)"
   ]
  },
  {
   "cell_type": "code",
   "execution_count": 13,
   "metadata": {},
   "outputs": [
    {
     "name": "stdout",
     "output_type": "stream",
     "text": [
      "4\n",
      "4\n",
      "11\n",
      "-2\n"
     ]
    }
   ],
   "source": [
    "import math\n",
    "def find_max(list) :\n",
    "    max = -(math.inf)\n",
    "    for i in list :\n",
    "        if i > max :\n",
    "            max = i\n",
    "    return max\n",
    "\n",
    "print(find_max([1, 2, 3, 4]))\n",
    "print(find_max([4, 3, 2, 1]))\n",
    "print(find_max([4, 3, 5, 9, 7, 2, 4, 4, 10, 0, 11, 8]))\n",
    "print(find_max([-7, -9, -8, -2, -7, -11, -4, -5]))"
   ]
  },
  {
   "cell_type": "code",
   "execution_count": 14,
   "metadata": {},
   "outputs": [
    {
     "name": "stdout",
     "output_type": "stream",
     "text": [
      "[0, 1, 2, 3, 4, 5, 6, 7, 8, 9, 10, 11, 12, 13, 14, 15, 16, 17, 18, 19]\n"
     ]
    }
   ],
   "source": [
    "print(list(range(20)))"
   ]
  },
  {
   "cell_type": "code",
   "execution_count": 15,
   "metadata": {},
   "outputs": [
    {
     "name": "stdout",
     "output_type": "stream",
     "text": [
      "11\n"
     ]
    }
   ],
   "source": [
    "numbers = list(range(20))\n",
    "print(numbers[4] + numbers[7])"
   ]
  },
  {
   "cell_type": "code",
   "execution_count": 16,
   "metadata": {},
   "outputs": [
    {
     "name": "stdout",
     "output_type": "stream",
     "text": [
      "[10, 11, 12, 13, 14, 15, 16, 17, 18, 19, 20, 21, 22, 23, 24, 25, 26, 27, 28, 29]\n"
     ]
    }
   ],
   "source": [
    "print(list(range(10, 30)))"
   ]
  },
  {
   "cell_type": "code",
   "execution_count": 17,
   "metadata": {},
   "outputs": [
    {
     "name": "stdout",
     "output_type": "stream",
     "text": [
      "31\n"
     ]
    }
   ],
   "source": [
    "numbers = list(range(10, 30))\n",
    "print(numbers[4] + numbers[7])"
   ]
  },
  {
   "cell_type": "code",
   "execution_count": 18,
   "metadata": {},
   "outputs": [
    {
     "name": "stdout",
     "output_type": "stream",
     "text": [
      "[1, 3, 5, 7, 9, 11, 13, 15, 17, 19]\n"
     ]
    }
   ],
   "source": [
    "print(list(range(1, 20, 2)))"
   ]
  },
  {
   "cell_type": "code",
   "execution_count": 19,
   "metadata": {},
   "outputs": [
    {
     "name": "stdout",
     "output_type": "stream",
     "text": [
      "24\n"
     ]
    }
   ],
   "source": [
    "numbers = list(range(1, 20, 2))\n",
    "print(numbers[4] + numbers[7])"
   ]
  },
  {
   "cell_type": "code",
   "execution_count": 20,
   "metadata": {},
   "outputs": [
    {
     "name": "stdout",
     "output_type": "stream",
     "text": [
      "[20, 19, 18, 17, 16, 15, 14, 13, 12, 11]\n"
     ]
    }
   ],
   "source": [
    "print(list(range(20, 10, -1)))"
   ]
  },
  {
   "cell_type": "code",
   "execution_count": 21,
   "metadata": {},
   "outputs": [
    {
     "name": "stdout",
     "output_type": "stream",
     "text": [
      "0\n",
      "1\n",
      "2\n",
      "3\n",
      "4\n",
      "5\n",
      "6\n",
      "7\n"
     ]
    }
   ],
   "source": [
    "scores = [60, 70, 85, 66, 70, 0, 15, 9]\n",
    "for i in range (0,8) :\n",
    "    print(scores[i])"
   ]
  },
  {
   "cell_type": "code",
   "execution_count": 22,
   "metadata": {},
   "outputs": [
    {
     "name": "stdout",
     "output_type": "stream",
     "text": [
      "Scores: [20]\n"
     ]
    }
   ],
   "source": [
    "scores = []\n",
    "\n",
    "scores.append(20)\n",
    "print('Scores:', scores)"
   ]
  },
  {
   "cell_type": "code",
   "execution_count": 23,
   "metadata": {},
   "outputs": [
    {
     "name": "stdout",
     "output_type": "stream",
     "text": [
      "Data: ['a', 'b', 'c', 'e', 'f', 'd']\n"
     ]
    }
   ],
   "source": [
    "data = ['a', 'b', 'c', 'e', 'f']\n",
    "\n",
    "data.append('d')\n",
    "print('Data:', data)"
   ]
  },
  {
   "cell_type": "code",
   "execution_count": 24,
   "metadata": {},
   "outputs": [
    {
     "name": "stdout",
     "output_type": "stream",
     "text": [
      "Factors of 27 is: [1, 3, 9, 27]\n"
     ]
    }
   ],
   "source": [
    "def factors(number):\n",
    "    factors = []\n",
    "    for factor in range(1, number+1):\n",
    "        if number % factor == 0:\n",
    "            factors.append(factor)\n",
    "    return factors\n",
    "\n",
    "print('Factors of 27 is:', factors(27))"
   ]
  },
  {
   "cell_type": "code",
   "execution_count": null,
   "metadata": {},
   "outputs": [],
   "source": [
    "data = []\n",
    "while True :\n",
    "    n = int(input(\"\"))\n",
    "    if n == -1 :\n",
    "        break\n",
    "    data.append(n)\n",
    "    "
   ]
  },
  {
   "cell_type": "code",
   "execution_count": 25,
   "metadata": {},
   "outputs": [
    {
     "name": "stdout",
     "output_type": "stream",
     "text": [
      "['he']\n"
     ]
    }
   ],
   "source": [
    "data = []\n",
    "while True :\n",
    "    n = str(input(\"\"))\n",
    "    if n == \"\" :\n",
    "        break \n",
    "    data.append(n)\n",
    "print(data)"
   ]
  },
  {
   "cell_type": "code",
   "execution_count": 26,
   "metadata": {},
   "outputs": [
    {
     "name": "stdout",
     "output_type": "stream",
     "text": [
      "8\n"
     ]
    }
   ],
   "source": [
    "scores = [60, 70, 85, 66, 70, 0, 15, 9]\n",
    "number_of_scores = len(scores)\n",
    "print(number_of_scores)"
   ]
  },
  {
   "cell_type": "code",
   "execution_count": 27,
   "metadata": {},
   "outputs": [
    {
     "name": "stdout",
     "output_type": "stream",
     "text": [
      "There are 7 days in a week.\n"
     ]
    }
   ],
   "source": [
    "days = ['Sunday', 'Monday', 'Tuesday', 'Wednesday', 'Thursday', 'Friday', 'Saturday']\n",
    "print( 'There are', len(days), 'days in a week.' )"
   ]
  },
  {
   "cell_type": "code",
   "execution_count": 28,
   "metadata": {},
   "outputs": [
    {
     "name": "stdout",
     "output_type": "stream",
     "text": [
      "0\n"
     ]
    }
   ],
   "source": [
    "print(len([]))"
   ]
  },
  {
   "cell_type": "code",
   "execution_count": 29,
   "metadata": {},
   "outputs": [
    {
     "name": "stdout",
     "output_type": "stream",
     "text": [
      "375\n"
     ]
    }
   ],
   "source": [
    "scores = [60, 70, 85, 66, 70, 0, 15, 9]\n",
    "total = sum(scores)\n",
    "print(total)"
   ]
  },
  {
   "cell_type": "code",
   "execution_count": 30,
   "metadata": {},
   "outputs": [
    {
     "name": "stdout",
     "output_type": "stream",
     "text": [
      "85\n"
     ]
    }
   ],
   "source": [
    "scores = [60, 70, 85, 66, 70, 0, 15, 9]\n",
    "max_score = max(scores)\n",
    "print(max_score)"
   ]
  },
  {
   "cell_type": "code",
   "execution_count": 31,
   "metadata": {},
   "outputs": [
    {
     "name": "stdout",
     "output_type": "stream",
     "text": [
      "Wednesday\n"
     ]
    }
   ],
   "source": [
    "days = ['Sunday', 'Monday', 'Tuesday', 'Wednesday', 'Thursday', 'Friday', 'Saturday']\n",
    "print( max(days) )"
   ]
  },
  {
   "cell_type": "code",
   "execution_count": 32,
   "metadata": {},
   "outputs": [
    {
     "name": "stdout",
     "output_type": "stream",
     "text": [
      "0\n"
     ]
    }
   ],
   "source": [
    "scores = [60, 70, 85, 66, 70, 0, 15, 9]\n",
    "min_score = min(scores)\n",
    "print(min_score)"
   ]
  },
  {
   "cell_type": "code",
   "execution_count": 33,
   "metadata": {},
   "outputs": [
    {
     "name": "stdout",
     "output_type": "stream",
     "text": [
      "Friday\n"
     ]
    }
   ],
   "source": [
    "days = ['Sunday', 'Monday', 'Tuesday', 'Wednesday', 'Thursday', 'Friday', 'Saturday']\n",
    "print( min(days) )"
   ]
  },
  {
   "cell_type": "code",
   "execution_count": 8,
   "metadata": {},
   "outputs": [
    {
     "name": "stdout",
     "output_type": "stream",
     "text": [
      "5\n",
      "0\n",
      "7\n",
      "1\n",
      "16\n",
      "2\n",
      "aaaaaaaaaaaaaaaa\n"
     ]
    }
   ],
   "source": [
    "data = []\n",
    "while True :\n",
    "    n = str(input(\"\"))\n",
    "    if n == \"\" :\n",
    "        break \n",
    "    data.append(n)\n",
    "max1 = 0\n",
    "done , done1 = 0 , 0\n",
    "for i in data :\n",
    "    if len(i) > max1 :\n",
    "        max1 = len(i)\n",
    "        done1 = done\n",
    "    done += 1 \n",
    "print(data[done1])"
   ]
  },
  {
   "cell_type": "code",
   "execution_count": 38,
   "metadata": {},
   "outputs": [
    {
     "name": "stdout",
     "output_type": "stream",
     "text": [
      "[15, 30, 63, 210]\n"
     ]
    }
   ],
   "source": [
    "numbers = [5, 10, 21, 70]\n",
    "triples = [number*3 for number in numbers]\n",
    "print(triples)"
   ]
  },
  {
   "cell_type": "code",
   "execution_count": 41,
   "metadata": {},
   "outputs": [
    {
     "name": "stdout",
     "output_type": "stream",
     "text": [
      "[59.0, 191.75, 248.0, 98.60000000000001]\n"
     ]
    }
   ],
   "source": [
    "celcius = [15.0, 88.75, 120.0, 37.0]\n",
    "fahrenheit = [(cel*(9/5)) + 32 for cel in celcius]\n",
    "print(fahrenheit)"
   ]
  },
  {
   "cell_type": "code",
   "execution_count": 44,
   "metadata": {},
   "outputs": [
    {
     "name": "stdout",
     "output_type": "stream",
     "text": [
      "[30, 210]\n"
     ]
    }
   ],
   "source": [
    "numbers = [5, 10, 21, 70]\n",
    "triples = [num*3 for num in numbers if num%2 == 0]\n",
    "print(triples)"
   ]
  },
  {
   "cell_type": "code",
   "execution_count": null,
   "metadata": {},
   "outputs": [],
   "source": []
  },
  {
   "cell_type": "code",
   "execution_count": 48,
   "metadata": {},
   "outputs": [
    {
     "name": "stdout",
     "output_type": "stream",
     "text": [
      "2\n"
     ]
    }
   ],
   "source": [
    "text = input()\n",
    "print(sum([1 for ch in text if ch.lower() in \"aeiou\"]))\n"
   ]
  }
 ],
 "metadata": {
  "kernelspec": {
   "display_name": "Python 3",
   "language": "python",
   "name": "python3"
  },
  "language_info": {
   "codemirror_mode": {
    "name": "ipython",
    "version": 3
   },
   "file_extension": ".py",
   "mimetype": "text/x-python",
   "name": "python",
   "nbconvert_exporter": "python",
   "pygments_lexer": "ipython3",
   "version": "3.9.13"
  }
 },
 "nbformat": 4,
 "nbformat_minor": 2
}
