{
 "cells": [
  {
   "cell_type": "code",
   "execution_count": null,
   "metadata": {},
   "outputs": [],
   "source": [
    "{} #braes <-----------------\n",
    "[] #brackets\n",
    "() #parenthesis"
   ]
  },
  {
   "cell_type": "code",
   "execution_count": null,
   "metadata": {},
   "outputs": [],
   "source": [
    "dic = {key: value, }\n",
    "# key can be string and int \n",
    "# key cant be list dict \n",
    "# value can be set dict list "
   ]
  },
  {
   "cell_type": "code",
   "execution_count": 2,
   "metadata": {},
   "outputs": [
    {
     "name": "stdout",
     "output_type": "stream",
     "text": [
      "{'0': 'Zero', '1': 'One', 2: 'Two', 3: 'Three', 4: 'Four'}\n",
      "{'th': 'Thailand', 'en': 'England', 'jp': 'Japan', 'kr': 'Korea'}\n",
      "{'name': 'Saharat', 'age': 18, 'height': 176.4, 'single': True}\n",
      "{'odd': [1, 3, 5, 7, 9], 'even': [0, 2, 4, 6, 8]}\n"
     ]
    }
   ],
   "source": [
    "# key เป็น int, value เป็น String\n",
    "numbers = {\"0\": \"Zero\", '1': 'One', 2: 'Two', 3: 'Three', 4: 'Four'}\n",
    "print(numbers)\n",
    "\n",
    "\n",
    "# key เป็น String, value เป็น String\n",
    "countries = {'th': 'Thailand', 'en': \"England\", \"jp\": 'Japan', \"kr\": \"Korea\"}\n",
    "print(countries)\n",
    "\n",
    "# key เป็น String, value ต่าง type กัน\n",
    "student = {'name': 'Saharat', 'age': 18, 'height': 176.4, 'single': True}\n",
    "print(student)\n",
    "\n",
    "# key เป็น String, value เป็น List\n",
    "digits = {'odd': [1, 3, 5, 7, 9], 'even': [0, 2, 4, 6, 8]}\n",
    "print(digits)"
   ]
  },
  {
   "cell_type": "markdown",
   "metadata": {},
   "source": []
  },
  {
   "cell_type": "code",
   "execution_count": 5,
   "metadata": {},
   "outputs": [
    {
     "name": "stdout",
     "output_type": "stream",
     "text": [
      "dict_keys(['central', 'northern', 'northeastern', 'southern'])\n",
      "--\n",
      "dict_values([['Bangkok', 'Samut Prakan', 'Nonthaburi', 'Samut Sakhon', 'Ayutthaya', 'Pathum Thani'], ['Chiang Mai', 'Chiang Rai', 'Lamphun', 'Lampang', 'Mae Hong Son', 'Nan'], ['Roi Et', 'Chaiyaphum', 'Loei', 'Nong Khai', 'Sakon Nakhon', 'Surin'], ['Surat Thani', 'Krabi', 'Phuket', 'Yala', 'Songkhla', 'Narathiwat']])\n",
      "--\n",
      "dict_items([('central', ['Bangkok', 'Samut Prakan', 'Nonthaburi', 'Samut Sakhon', 'Ayutthaya', 'Pathum Thani']), ('northern', ['Chiang Mai', 'Chiang Rai', 'Lamphun', 'Lampang', 'Mae Hong Son', 'Nan']), ('northeastern', ['Roi Et', 'Chaiyaphum', 'Loei', 'Nong Khai', 'Sakon Nakhon', 'Surin']), ('southern', ['Surat Thani', 'Krabi', 'Phuket', 'Yala', 'Songkhla', 'Narathiwat'])])\n",
      "--\n",
      "['Bangkok', 'Samut Prakan', 'Nonthaburi', 'Samut Sakhon', 'Ayutthaya', 'Pathum Thani']\n",
      "==\n"
     ]
    },
    {
     "ename": "AttributeError",
     "evalue": "'dict' object has no attribute 'item'",
     "output_type": "error",
     "traceback": [
      "\u001b[1;31m---------------------------------------------------------------------------\u001b[0m",
      "\u001b[1;31mAttributeError\u001b[0m                            Traceback (most recent call last)",
      "Cell \u001b[1;32mIn[5], line 16\u001b[0m\n\u001b[0;32m     13\u001b[0m \u001b[38;5;28mprint\u001b[39m(provinces\u001b[38;5;241m.\u001b[39mget(\u001b[38;5;124m'\u001b[39m\u001b[38;5;124mcentral\u001b[39m\u001b[38;5;124m'\u001b[39m))\n\u001b[0;32m     15\u001b[0m \u001b[38;5;28mprint\u001b[39m(\u001b[38;5;124m\"\u001b[39m\u001b[38;5;124m==\u001b[39m\u001b[38;5;124m\"\u001b[39m)\n\u001b[1;32m---> 16\u001b[0m \u001b[38;5;28;01mfor\u001b[39;00m key, value \u001b[38;5;129;01min\u001b[39;00m \u001b[43mprovinces\u001b[49m\u001b[38;5;241;43m.\u001b[39;49m\u001b[43mitem\u001b[49m():\n\u001b[0;32m     17\u001b[0m     \u001b[38;5;28mprint\u001b[39m(key , value)\n",
      "\u001b[1;31mAttributeError\u001b[0m: 'dict' object has no attribute 'item'"
     ]
    }
   ],
   "source": [
    "provinces = {\n",
    "    'central': ['Bangkok', 'Samut Prakan', 'Nonthaburi', 'Samut Sakhon', 'Ayutthaya', 'Pathum Thani'],\n",
    "    'northern': ['Chiang Mai', 'Chiang Rai', 'Lamphun', 'Lampang', 'Mae Hong Son', 'Nan'],\n",
    "    'northeastern': ['Roi Et', 'Chaiyaphum', 'Loei', 'Nong Khai', 'Sakon Nakhon', 'Surin'],\n",
    "    'southern': ['Surat Thani', 'Krabi', 'Phuket', 'Yala', 'Songkhla', 'Narathiwat']\n",
    "}\n",
    "print(provinces.keys())\n",
    "print(\"--\")\n",
    "print(provinces.values())\n",
    "print(\"--\")\n",
    "print(provinces.items())\n",
    "print(\"--\")\n",
    "print(provinces.get('central'))\n",
    "\n",
    "print(\"==\")\n",
    "for key, value in provinces.item():\n",
    "    print(key , value)"
   ]
  }
 ],
 "metadata": {
  "kernelspec": {
   "display_name": "Python 3",
   "language": "python",
   "name": "python3"
  },
  "language_info": {
   "codemirror_mode": {
    "name": "ipython",
    "version": 3
   },
   "file_extension": ".py",
   "mimetype": "text/x-python",
   "name": "python",
   "nbconvert_exporter": "python",
   "pygments_lexer": "ipython3",
   "version": "3.9.13"
  }
 },
 "nbformat": 4,
 "nbformat_minor": 2
}
