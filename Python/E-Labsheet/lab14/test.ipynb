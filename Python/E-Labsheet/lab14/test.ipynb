{
 "cells": [
  {
   "cell_type": "code",
   "execution_count": null,
   "metadata": {},
   "outputs": [],
   "source": [
    "months = {'jan': 'January', 'feb': 'February', 'mar': 'March',\n",
    "          'apr': 'April' , 'may': 'May', 'jun': 'June', 'jul': 'July', 'aug': 'August',\n",
    "          'sep': 'September', 'oct': 'October', 'nov': 'November', 'dec': 'December' }\n",
    "print(months)"
   ]
  },
  {
   "cell_type": "code",
   "execution_count": null,
   "metadata": {},
   "outputs": [],
   "source": []
  },
  {
   "cell_type": "code",
   "execution_count": null,
   "metadata": {},
   "outputs": [],
   "source": [
    "provinces = {\n",
    "    'central': ['Bangkok', 'Samut Prakan', 'Nonthaburi', 'Samut Sakhon', 'Ayutthaya', 'Pathum Thani'],\n",
    "    'northern': ['Chiang Mai', 'Chiang Rai', 'Lamphun', 'Lampang', 'Mae Hong Son', 'Nan'],\n",
    "    'northeastern': ['Roi Et', 'Chaiyaphum', 'Loei', 'Nong Khai', 'Sakon Nakhon', 'Surin'],\n",
    "    'southern': ['Surat Thani', 'Krabi', 'Phuket', 'Yala', 'Songkhla', 'Narathiwat']\n",
    "}\n",
    "\n",
    "for region in provinces:\n",
    "    for province in provinces[region]:\n",
    "        print(f\"{province}:{region}\")\n",
    "    "
   ]
  }
 ],
 "metadata": {
  "language_info": {
   "name": "python"
  }
 },
 "nbformat": 4,
 "nbformat_minor": 2
}
