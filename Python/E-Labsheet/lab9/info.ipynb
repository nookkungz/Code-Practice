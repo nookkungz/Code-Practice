{
 "cells": [
  {
   "cell_type": "markdown",
   "metadata": {},
   "source": [
    "recursive funtion 2 steps \n",
    "1. base step / break step \n",
    "        \n",
    "        if เงื่อนไขของ base step :\n",
    "            การทำงาาน base step\n",
    "            retur __\n",
    "\n",
    "\n",
    "2. recusive step \n",
    "\n",
    "        มีการเรียกฟังก์ชันของตัวเอง แต่ส่งค่าเข้าสู่ base step\n",
    "        มีการทำงานในรอบของ recusive \n",
    "\n"
   ]
  },
  {
   "cell_type": "code",
   "execution_count": 2,
   "metadata": {},
   "outputs": [
    {
     "name": "stdout",
     "output_type": "stream",
     "text": [
      "*\n",
      "**\n",
      "***\n",
      "****\n",
      "*****\n",
      "----------\n",
      "*\n",
      "**\n",
      "***\n",
      "****\n",
      "*****\n",
      "******\n",
      "*******\n",
      "********\n",
      "*********\n",
      "**********\n",
      "==========\n",
      "********\n",
      "*******\n",
      "******\n",
      "*****\n",
      "****\n",
      "***\n",
      "**\n",
      "*\n"
     ]
    }
   ],
   "source": [
    "def star(n):\n",
    "    i = 1 \n",
    "    while i <= n :\n",
    "        print(\"*\" * i)\n",
    "        i += 1\n",
    "        \n",
    "def recursive_star_inc(n) :\n",
    "    #base step\n",
    "    if n == 1 :\n",
    "        print(\"*\" * n)\n",
    "        return \n",
    "    \n",
    "    recursive_star_inc(n-1)\n",
    "    print(\"*\" * n)      \n",
    "        \n",
    "        \n",
    "def recursive_star_dec(n) :\n",
    "    #base step\n",
    "    if n == 1 :\n",
    "        print(\"*\" * n)\n",
    "        return \n",
    "    #recursive step \n",
    "    print(\"*\"*n)\n",
    "    recursive_star_dec(n-1)\n",
    "\n",
    "star(5)\n",
    "print(\"-\"*10)\n",
    "recursive_star_inc(10)\n",
    "print(\"=\" * 10)\n",
    "recursive_star_dec(8)\n"
   ]
  },
  {
   "cell_type": "code",
   "execution_count": 4,
   "metadata": {},
   "outputs": [
    {
     "name": "stdout",
     "output_type": "stream",
     "text": [
      "45\n",
      "45\n"
     ]
    }
   ],
   "source": [
    "\"recursive 2\"\n",
    "def digit_sum(n):\n",
    "    total = 0\n",
    "    while True :\n",
    "        \n",
    "        if n == 0 :\n",
    "            break\n",
    "        total += n%10\n",
    "        n //= 10\n",
    "    return total \n",
    "\n",
    "def recursive_digit_sum(n):\n",
    "    #base step\n",
    "    if n == 0 :\n",
    "        return 0\n",
    "    \n",
    "    #recursive step\n",
    "    digit = n % 10\n",
    "    left = recursive_digit_sum(n//10)\n",
    "    return digit + left\n",
    "\n",
    "\n",
    "\n",
    "print(digit_sum(123456789))\n",
    "print(recursive_digit_sum(123456789))"
   ]
  }
 ],
 "metadata": {
  "kernelspec": {
   "display_name": "Python 3",
   "language": "python",
   "name": "python3"
  },
  "language_info": {
   "codemirror_mode": {
    "name": "ipython",
    "version": 3
   },
   "file_extension": ".py",
   "mimetype": "text/x-python",
   "name": "python",
   "nbconvert_exporter": "python",
   "pygments_lexer": "ipython3",
   "version": "3.9.13"
  }
 },
 "nbformat": 4,
 "nbformat_minor": 2
}
